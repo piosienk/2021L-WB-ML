{
 "cells": [
  {
   "cell_type": "code",
   "execution_count": 1,
   "metadata": {
    "pycharm": {
     "is_executing": true
    }
   },
   "outputs": [],
   "source": [
    "import pandas as pd \n",
    "import numpy as np\n",
    "import xgboost as xgb\n",
    "from sklearn.model_selection import train_test_split, cross_val_score\n",
    "from sklearn.preprocessing import StandardScaler, OneHotEncoder\n",
    "from sklearn.impute import SimpleImputer\n",
    "from sklearn.pipeline import Pipeline\n",
    "from sklearn.compose import ColumnTransformer\n",
    "from sklearn.metrics import precision_recall_curve, auc, confusion_matrix, classification_report, recall_score, roc_auc_score, precision_score \n",
    "import dalex as dx\n",
    "\n",
    "from fairlearn.reductions import ExponentiatedGradient, EqualizedOdds\n",
    "from fairtorch import ConstraintLoss, DemographicParityLoss, EqualiedOddsLoss\n",
    "import random\n",
    "import numpy as np\n",
    "import torch\n",
    "import os\n",
    "from torch import nn, optim\n",
    "from torch.utils.data import DataLoader, Dataset\n",
    "import pandas as pd"
   ]
  },
  {
   "cell_type": "code",
   "execution_count": 2,
   "metadata": {
    "pycharm": {
     "is_executing": true
    }
   },
   "outputs": [],
   "source": [
    "netherlands = pd.read_excel('../data/42256_2020_253_MOESM1_ESM.xlsx')\n",
    "\n",
    "df = netherlands[[\"Age\", \"Gender\", \"LD\", \"CRP\", \"Percentage lymphocytes\", \"Survival/death\"]]\n",
    "df = df.assign(death = np.where(df[\"Survival/death\"] == 'Alive', 0, 1))\n",
    "df = df[[\"Age\", \"Gender\", \"LD\", \"CRP\", \"Percentage lymphocytes\", \"death\"]]\n",
    "X = df.drop(\"death\", axis = 1)\n",
    "y_netherlands = df.death\n",
    "\n",
    "netherlands = df\n",
    "y_netherlands = df.death\n",
    "netherlands = netherlands.iloc[:,2:-1]\n",
    "netherlands['death'] = y_netherlands\n",
    "netherlands['from'] = 'netherlands'\n",
    "netherlands = netherlands.rename(columns = { 'Percentage lymphocytes':'Lymphocytes', 'LD':'LDH'})"
   ]
  },
  {
   "cell_type": "code",
   "execution_count": 3,
   "metadata": {
    "pycharm": {
     "is_executing": true
    }
   },
   "outputs": [],
   "source": [
    "import sys\n",
    "sys.path.append(\"..\")\n",
    "china = pd.read_excel('../data/time_series_375_prerpocess_en.xlsx')\n",
    "\n",
    "from raport_v1.utils_features_selection import data_read_and_split\n",
    "from raport_v1.utils_features_selection import data_read_and_split\n",
    "X_data_all_features, Y_data, x_col = data_read_and_split()\n",
    "cheng = {'乳酸脱氢酶':'LDH', '超敏C反应蛋白':'CRP', '淋巴细胞(%)':'Lymphocytes'}\n",
    "blood_df = X_data_all_features[list(cheng.keys())]\n",
    "blood_df.columns = list(cheng.values())\n",
    "china = blood_df\n",
    "china['death'] = Y_data\n",
    "china['from'] = 'china'\n",
    "china = china.reset_index(drop = True)"
   ]
  },
  {
   "cell_type": "code",
   "execution_count": 4,
   "metadata": {
    "pycharm": {
     "is_executing": true
    }
   },
   "outputs": [],
   "source": [
    "ny = pd.read_csv('~/Downloads/Yan_reply_First_last_wtime.csv')\n",
    "\n",
    "y_ny = ny.Expired_Outcome\n",
    "newyork = ny[['First_LDH', 'First_CRP', 'First_Lymph']]\n",
    "newyork = newyork.rename(columns = {'First_LDH':'LDH',\n",
    "                                      'First_CRP':'CRP',\n",
    "                                      'First_Lymph':'Lymphocytes'})\n",
    "newyork['from'] = 'newyork'\n",
    "newyork['death'] = y_ny"
   ]
  },
  {
   "cell_type": "code",
   "execution_count": 5,
   "metadata": {
    "pycharm": {
     "is_executing": true
    }
   },
   "outputs": [],
   "source": [
    "nations = china.append([newyork, netherlands])\n",
    "nations['death'] = nations.death.astype('int')\n",
    "nations = nations.reset_index(drop=True)"
   ]
  },
  {
   "cell_type": "code",
   "execution_count": 6,
   "metadata": {
    "pycharm": {
     "is_executing": true
    }
   },
   "outputs": [],
   "source": [
    "from sklearn.preprocessing import StandardScaler\n",
    "from sklearn.model_selection import train_test_split"
   ]
  },
  {
   "cell_type": "code",
   "execution_count": 7,
   "metadata": {
    "pycharm": {
     "is_executing": true
    }
   },
   "outputs": [],
   "source": [
    "X = nations.drop('death', axis =1)\n",
    "y = nations.death"
   ]
  },
  {
   "cell_type": "code",
   "execution_count": 8,
   "metadata": {
    "pycharm": {
     "is_executing": true
    }
   },
   "outputs": [],
   "source": [
    "X_train, X_test, y_train, y_test = train_test_split(X, y, test_size = 0.25)\n",
    "\n",
    "A_train = np.where(X_train['from']=='china', 'china', 'other')\n",
    "X_train = X_train.drop('from', axis = 1)\n",
    "\n",
    "\n",
    "A_test = np.where(X_test['from']=='china', 'china', 'other')\n",
    "X_test = X_test.drop('from', axis = 1)\n"
   ]
  },
  {
   "cell_type": "code",
   "execution_count": 9,
   "metadata": {
    "pycharm": {
     "is_executing": true
    }
   },
   "outputs": [],
   "source": [
    "std = StandardScaler()"
   ]
  },
  {
   "cell_type": "code",
   "execution_count": 10,
   "metadata": {
    "pycharm": {
     "is_executing": true
    }
   },
   "outputs": [],
   "source": [
    "X_train_std = std.fit_transform(X_train)\n",
    "X_test_std = std.transform(X_test)"
   ]
  },
  {
   "cell_type": "markdown",
   "metadata": {},
   "source": [
    "# Mitigation"
   ]
  },
  {
   "cell_type": "code",
   "execution_count": 11,
   "metadata": {
    "pycharm": {
     "is_executing": true
    }
   },
   "outputs": [],
   "source": [
    "# ! pip install fairtorch\n",
    "# ! pip install fairlearn"
   ]
  },
  {
   "cell_type": "code",
   "execution_count": 12,
   "metadata": {
    "pycharm": {
     "is_executing": true
    }
   },
   "outputs": [],
   "source": [
    "from fairlearn.reductions import EqualizedOdds\n",
    "from fairlearn.reductions import ExponentiatedGradient\n",
    "from sklearn.experimental import enable_hist_gradient_boosting \n",
    "from sklearn.ensemble import HistGradientBoostingClassifier"
   ]
  },
  {
   "cell_type": "code",
   "execution_count": 44,
   "metadata": {
    "pycharm": {
     "is_executing": true
    }
   },
   "outputs": [
    {
     "data": {
      "text/plain": [
       "HistGradientBoostingClassifier(monotonic_cst=[1, -1, -1])"
      ]
     },
     "execution_count": 44,
     "metadata": {},
     "output_type": "execute_result"
    }
   ],
   "source": [
    "clf = HistGradientBoostingClassifier(monotonic_cst=[1, -1, -1])\n",
    "clf.fit(X_train_std, y_train)"
   ]
  },
  {
   "cell_type": "code",
   "execution_count": 45,
   "metadata": {
    "pycharm": {
     "is_executing": true
    }
   },
   "outputs": [
    {
     "name": "stdout",
     "output_type": "stream",
     "text": [
      "Preparation of a new explainer is initiated\n",
      "\n",
      "  -> data              : numpy.ndarray converted to pandas.DataFrame. Columns are set as string numbers.\n",
      "  -> data              : 430 rows 3 cols\n",
      "  -> target variable   : Parameter 'y' was a pandas.Series. Converted to a numpy.ndarray.\n",
      "  -> target variable   : 430 values\n",
      "  -> model_class       : sklearn.ensemble._hist_gradient_boosting.gradient_boosting.HistGradientBoostingClassifier (default)\n",
      "  -> label             : Not specified, model's class short name will be used. (default)\n",
      "  -> predict function  : <function yhat_proba_default at 0x7fae5ff32e18> will be used (default)\n",
      "  -> predict function  : Accepts pandas.DataFrame and numpy.ndarray.\n",
      "  -> predicted values  : min = 0.00208, mean = 0.329, max = 0.965\n",
      "  -> model type        : classification will be used (default)\n",
      "  -> residual function : difference between y and yhat (default)\n",
      "  -> residuals         : min = -0.824, mean = -0.0155, max = 0.966\n",
      "  -> model_info        : package sklearn\n",
      "\n",
      "A new explainer has been created!\n"
     ]
    }
   ],
   "source": [
    "exp = dx.Explainer(clf, X_test_std, y_test)"
   ]
  },
  {
   "cell_type": "code",
   "execution_count": 46,
   "metadata": {
    "pycharm": {
     "is_executing": true
    }
   },
   "outputs": [
    {
     "data": {
      "text/html": [
       "<div>\n",
       "<style scoped>\n",
       "    .dataframe tbody tr th:only-of-type {\n",
       "        vertical-align: middle;\n",
       "    }\n",
       "\n",
       "    .dataframe tbody tr th {\n",
       "        vertical-align: top;\n",
       "    }\n",
       "\n",
       "    .dataframe thead th {\n",
       "        text-align: right;\n",
       "    }\n",
       "</style>\n",
       "<table border=\"1\" class=\"dataframe\">\n",
       "  <thead>\n",
       "    <tr style=\"text-align: right;\">\n",
       "      <th></th>\n",
       "      <th>recall</th>\n",
       "      <th>precision</th>\n",
       "      <th>f1</th>\n",
       "      <th>accuracy</th>\n",
       "      <th>auc</th>\n",
       "    </tr>\n",
       "  </thead>\n",
       "  <tbody>\n",
       "    <tr>\n",
       "      <th>HistGradientBoostingClassifier</th>\n",
       "      <td>0.451852</td>\n",
       "      <td>0.54955</td>\n",
       "      <td>0.495935</td>\n",
       "      <td>0.711628</td>\n",
       "      <td>0.757514</td>\n",
       "    </tr>\n",
       "  </tbody>\n",
       "</table>\n",
       "</div>"
      ],
      "text/plain": [
       "                                  recall  precision        f1  accuracy  \\\n",
       "HistGradientBoostingClassifier  0.451852    0.54955  0.495935  0.711628   \n",
       "\n",
       "                                     auc  \n",
       "HistGradientBoostingClassifier  0.757514  "
      ]
     },
     "execution_count": 46,
     "metadata": {},
     "output_type": "execute_result"
    }
   ],
   "source": [
    "exp.model_performance().result"
   ]
  },
  {
   "cell_type": "code",
   "execution_count": 47,
   "metadata": {
    "pycharm": {
     "is_executing": true
    }
   },
   "outputs": [
    {
     "name": "stderr",
     "output_type": "stream",
     "text": [
      "Calculating ceteris paribus: 100%|██████████| 3/3 [00:00<00:00,  9.99it/s]\n"
     ]
    },
    {
     "data": {
      "application/vnd.plotly.v1+json": {
       "config": {
        "displaylogo": false,
        "modeBarButtonsToRemove": [
         "sendDataToCloud",
         "lasso2d",
         "autoScale2d",
         "select2d",
         "zoom2d",
         "pan2d",
         "zoomIn2d",
         "zoomOut2d",
         "resetScale2d",
         "toggleSpikelines",
         "hoverCompareCartesian",
         "hoverClosestCartesian"
        ],
        "plotlyServerURL": "https://plot.ly",
        "staticPlot": false,
        "toImageButtonOptions": {
         "height": null,
         "width": null
        }
       },
       "data": [
        {
         "customdata": [
          [
           0.313065263268514,
           "HistGradientBoostingClassifier",
           "0"
          ],
          [
           0.313065263268514,
           "HistGradientBoostingClassifier",
           "0"
          ],
          [
           0.313065263268514,
           "HistGradientBoostingClassifier",
           "0"
          ],
          [
           0.313065263268514,
           "HistGradientBoostingClassifier",
           "0"
          ],
          [
           0.313065263268514,
           "HistGradientBoostingClassifier",
           "0"
          ],
          [
           0.313065263268514,
           "HistGradientBoostingClassifier",
           "0"
          ],
          [
           0.313065263268514,
           "HistGradientBoostingClassifier",
           "0"
          ],
          [
           0.313065263268514,
           "HistGradientBoostingClassifier",
           "0"
          ],
          [
           0.313065263268514,
           "HistGradientBoostingClassifier",
           "0"
          ],
          [
           0.313065263268514,
           "HistGradientBoostingClassifier",
           "0"
          ],
          [
           0.313065263268514,
           "HistGradientBoostingClassifier",
           "0"
          ],
          [
           0.313065263268514,
           "HistGradientBoostingClassifier",
           "0"
          ],
          [
           0.313065263268514,
           "HistGradientBoostingClassifier",
           "0"
          ],
          [
           0.313065263268514,
           "HistGradientBoostingClassifier",
           "0"
          ],
          [
           0.313065263268514,
           "HistGradientBoostingClassifier",
           "0"
          ],
          [
           0.313065263268514,
           "HistGradientBoostingClassifier",
           "0"
          ],
          [
           0.313065263268514,
           "HistGradientBoostingClassifier",
           "0"
          ],
          [
           0.313065263268514,
           "HistGradientBoostingClassifier",
           "0"
          ],
          [
           0.313065263268514,
           "HistGradientBoostingClassifier",
           "0"
          ],
          [
           0.313065263268514,
           "HistGradientBoostingClassifier",
           "0"
          ],
          [
           0.313065263268514,
           "HistGradientBoostingClassifier",
           "0"
          ],
          [
           0.313065263268514,
           "HistGradientBoostingClassifier",
           "0"
          ],
          [
           0.313065263268514,
           "HistGradientBoostingClassifier",
           "0"
          ],
          [
           0.313065263268514,
           "HistGradientBoostingClassifier",
           "0"
          ],
          [
           0.313065263268514,
           "HistGradientBoostingClassifier",
           "0"
          ],
          [
           0.313065263268514,
           "HistGradientBoostingClassifier",
           "0"
          ],
          [
           0.313065263268514,
           "HistGradientBoostingClassifier",
           "0"
          ],
          [
           0.313065263268514,
           "HistGradientBoostingClassifier",
           "0"
          ],
          [
           0.313065263268514,
           "HistGradientBoostingClassifier",
           "0"
          ],
          [
           0.313065263268514,
           "HistGradientBoostingClassifier",
           "0"
          ],
          [
           0.313065263268514,
           "HistGradientBoostingClassifier",
           "0"
          ],
          [
           0.313065263268514,
           "HistGradientBoostingClassifier",
           "0"
          ],
          [
           0.313065263268514,
           "HistGradientBoostingClassifier",
           "0"
          ],
          [
           0.313065263268514,
           "HistGradientBoostingClassifier",
           "0"
          ],
          [
           0.313065263268514,
           "HistGradientBoostingClassifier",
           "0"
          ],
          [
           0.313065263268514,
           "HistGradientBoostingClassifier",
           "0"
          ],
          [
           0.313065263268514,
           "HistGradientBoostingClassifier",
           "0"
          ],
          [
           0.313065263268514,
           "HistGradientBoostingClassifier",
           "0"
          ],
          [
           0.313065263268514,
           "HistGradientBoostingClassifier",
           "0"
          ],
          [
           0.313065263268514,
           "HistGradientBoostingClassifier",
           "0"
          ],
          [
           0.313065263268514,
           "HistGradientBoostingClassifier",
           "0"
          ],
          [
           0.313065263268514,
           "HistGradientBoostingClassifier",
           "0"
          ],
          [
           0.313065263268514,
           "HistGradientBoostingClassifier",
           "0"
          ],
          [
           0.313065263268514,
           "HistGradientBoostingClassifier",
           "0"
          ],
          [
           0.313065263268514,
           "HistGradientBoostingClassifier",
           "0"
          ],
          [
           0.313065263268514,
           "HistGradientBoostingClassifier",
           "0"
          ],
          [
           0.313065263268514,
           "HistGradientBoostingClassifier",
           "0"
          ],
          [
           0.313065263268514,
           "HistGradientBoostingClassifier",
           "0"
          ],
          [
           0.313065263268514,
           "HistGradientBoostingClassifier",
           "0"
          ],
          [
           0.313065263268514,
           "HistGradientBoostingClassifier",
           "0"
          ],
          [
           0.313065263268514,
           "HistGradientBoostingClassifier",
           "0"
          ],
          [
           0.313065263268514,
           "HistGradientBoostingClassifier",
           "0"
          ],
          [
           0.313065263268514,
           "HistGradientBoostingClassifier",
           "0"
          ],
          [
           0.313065263268514,
           "HistGradientBoostingClassifier",
           "0"
          ],
          [
           0.313065263268514,
           "HistGradientBoostingClassifier",
           "0"
          ],
          [
           0.313065263268514,
           "HistGradientBoostingClassifier",
           "0"
          ],
          [
           0.313065263268514,
           "HistGradientBoostingClassifier",
           "0"
          ],
          [
           0.313065263268514,
           "HistGradientBoostingClassifier",
           "0"
          ],
          [
           0.313065263268514,
           "HistGradientBoostingClassifier",
           "0"
          ],
          [
           0.313065263268514,
           "HistGradientBoostingClassifier",
           "0"
          ],
          [
           0.313065263268514,
           "HistGradientBoostingClassifier",
           "0"
          ],
          [
           0.313065263268514,
           "HistGradientBoostingClassifier",
           "0"
          ],
          [
           0.313065263268514,
           "HistGradientBoostingClassifier",
           "0"
          ],
          [
           0.313065263268514,
           "HistGradientBoostingClassifier",
           "0"
          ],
          [
           0.313065263268514,
           "HistGradientBoostingClassifier",
           "0"
          ],
          [
           0.313065263268514,
           "HistGradientBoostingClassifier",
           "0"
          ],
          [
           0.313065263268514,
           "HistGradientBoostingClassifier",
           "0"
          ],
          [
           0.313065263268514,
           "HistGradientBoostingClassifier",
           "0"
          ],
          [
           0.313065263268514,
           "HistGradientBoostingClassifier",
           "0"
          ],
          [
           0.313065263268514,
           "HistGradientBoostingClassifier",
           "0"
          ],
          [
           0.313065263268514,
           "HistGradientBoostingClassifier",
           "0"
          ],
          [
           0.313065263268514,
           "HistGradientBoostingClassifier",
           "0"
          ],
          [
           0.313065263268514,
           "HistGradientBoostingClassifier",
           "0"
          ],
          [
           0.313065263268514,
           "HistGradientBoostingClassifier",
           "0"
          ],
          [
           0.313065263268514,
           "HistGradientBoostingClassifier",
           "0"
          ],
          [
           0.313065263268514,
           "HistGradientBoostingClassifier",
           "0"
          ],
          [
           0.313065263268514,
           "HistGradientBoostingClassifier",
           "0"
          ],
          [
           0.313065263268514,
           "HistGradientBoostingClassifier",
           "0"
          ],
          [
           0.313065263268514,
           "HistGradientBoostingClassifier",
           "0"
          ],
          [
           0.313065263268514,
           "HistGradientBoostingClassifier",
           "0"
          ],
          [
           0.313065263268514,
           "HistGradientBoostingClassifier",
           "0"
          ],
          [
           0.313065263268514,
           "HistGradientBoostingClassifier",
           "0"
          ],
          [
           0.313065263268514,
           "HistGradientBoostingClassifier",
           "0"
          ],
          [
           0.313065263268514,
           "HistGradientBoostingClassifier",
           "0"
          ],
          [
           0.313065263268514,
           "HistGradientBoostingClassifier",
           "0"
          ],
          [
           0.313065263268514,
           "HistGradientBoostingClassifier",
           "0"
          ],
          [
           0.313065263268514,
           "HistGradientBoostingClassifier",
           "0"
          ],
          [
           0.313065263268514,
           "HistGradientBoostingClassifier",
           "0"
          ],
          [
           0.313065263268514,
           "HistGradientBoostingClassifier",
           "0"
          ],
          [
           0.313065263268514,
           "HistGradientBoostingClassifier",
           "0"
          ],
          [
           0.313065263268514,
           "HistGradientBoostingClassifier",
           "0"
          ],
          [
           0.313065263268514,
           "HistGradientBoostingClassifier",
           "0"
          ],
          [
           0.313065263268514,
           "HistGradientBoostingClassifier",
           "0"
          ],
          [
           0.313065263268514,
           "HistGradientBoostingClassifier",
           "0"
          ],
          [
           0.313065263268514,
           "HistGradientBoostingClassifier",
           "0"
          ],
          [
           0.313065263268514,
           "HistGradientBoostingClassifier",
           "0"
          ],
          [
           0.313065263268514,
           "HistGradientBoostingClassifier",
           "0"
          ],
          [
           0.313065263268514,
           "HistGradientBoostingClassifier",
           "0"
          ],
          [
           0.313065263268514,
           "HistGradientBoostingClassifier",
           "0"
          ],
          [
           0.313065263268514,
           "HistGradientBoostingClassifier",
           "0"
          ],
          [
           0.313065263268514,
           "HistGradientBoostingClassifier",
           "0"
          ]
         ],
         "hovertemplate": "<b>%{hovertext}</b><br><br>prediction=%{y:.3f}<br>mean_prediction=%{customdata[0]:.3f}<extra></extra>",
         "hovertext": [
          "HistGradientBoostingClassifier",
          "HistGradientBoostingClassifier",
          "HistGradientBoostingClassifier",
          "HistGradientBoostingClassifier",
          "HistGradientBoostingClassifier",
          "HistGradientBoostingClassifier",
          "HistGradientBoostingClassifier",
          "HistGradientBoostingClassifier",
          "HistGradientBoostingClassifier",
          "HistGradientBoostingClassifier",
          "HistGradientBoostingClassifier",
          "HistGradientBoostingClassifier",
          "HistGradientBoostingClassifier",
          "HistGradientBoostingClassifier",
          "HistGradientBoostingClassifier",
          "HistGradientBoostingClassifier",
          "HistGradientBoostingClassifier",
          "HistGradientBoostingClassifier",
          "HistGradientBoostingClassifier",
          "HistGradientBoostingClassifier",
          "HistGradientBoostingClassifier",
          "HistGradientBoostingClassifier",
          "HistGradientBoostingClassifier",
          "HistGradientBoostingClassifier",
          "HistGradientBoostingClassifier",
          "HistGradientBoostingClassifier",
          "HistGradientBoostingClassifier",
          "HistGradientBoostingClassifier",
          "HistGradientBoostingClassifier",
          "HistGradientBoostingClassifier",
          "HistGradientBoostingClassifier",
          "HistGradientBoostingClassifier",
          "HistGradientBoostingClassifier",
          "HistGradientBoostingClassifier",
          "HistGradientBoostingClassifier",
          "HistGradientBoostingClassifier",
          "HistGradientBoostingClassifier",
          "HistGradientBoostingClassifier",
          "HistGradientBoostingClassifier",
          "HistGradientBoostingClassifier",
          "HistGradientBoostingClassifier",
          "HistGradientBoostingClassifier",
          "HistGradientBoostingClassifier",
          "HistGradientBoostingClassifier",
          "HistGradientBoostingClassifier",
          "HistGradientBoostingClassifier",
          "HistGradientBoostingClassifier",
          "HistGradientBoostingClassifier",
          "HistGradientBoostingClassifier",
          "HistGradientBoostingClassifier",
          "HistGradientBoostingClassifier",
          "HistGradientBoostingClassifier",
          "HistGradientBoostingClassifier",
          "HistGradientBoostingClassifier",
          "HistGradientBoostingClassifier",
          "HistGradientBoostingClassifier",
          "HistGradientBoostingClassifier",
          "HistGradientBoostingClassifier",
          "HistGradientBoostingClassifier",
          "HistGradientBoostingClassifier",
          "HistGradientBoostingClassifier",
          "HistGradientBoostingClassifier",
          "HistGradientBoostingClassifier",
          "HistGradientBoostingClassifier",
          "HistGradientBoostingClassifier",
          "HistGradientBoostingClassifier",
          "HistGradientBoostingClassifier",
          "HistGradientBoostingClassifier",
          "HistGradientBoostingClassifier",
          "HistGradientBoostingClassifier",
          "HistGradientBoostingClassifier",
          "HistGradientBoostingClassifier",
          "HistGradientBoostingClassifier",
          "HistGradientBoostingClassifier",
          "HistGradientBoostingClassifier",
          "HistGradientBoostingClassifier",
          "HistGradientBoostingClassifier",
          "HistGradientBoostingClassifier",
          "HistGradientBoostingClassifier",
          "HistGradientBoostingClassifier",
          "HistGradientBoostingClassifier",
          "HistGradientBoostingClassifier",
          "HistGradientBoostingClassifier",
          "HistGradientBoostingClassifier",
          "HistGradientBoostingClassifier",
          "HistGradientBoostingClassifier",
          "HistGradientBoostingClassifier",
          "HistGradientBoostingClassifier",
          "HistGradientBoostingClassifier",
          "HistGradientBoostingClassifier",
          "HistGradientBoostingClassifier",
          "HistGradientBoostingClassifier",
          "HistGradientBoostingClassifier",
          "HistGradientBoostingClassifier",
          "HistGradientBoostingClassifier",
          "HistGradientBoostingClassifier",
          "HistGradientBoostingClassifier",
          "HistGradientBoostingClassifier",
          "HistGradientBoostingClassifier",
          "HistGradientBoostingClassifier",
          "HistGradientBoostingClassifier"
         ],
         "legendgroup": "HistGradientBoostingClassifier",
         "line": {
          "color": "#46bac2",
          "dash": "solid",
          "width": 2
         },
         "mode": "lines",
         "name": "HistGradientBoostingClassifier",
         "opacity": 1,
         "orientation": "v",
         "showlegend": true,
         "type": "scatter",
         "x": [
          -1.616905689892697,
          -1.5558776453579193,
          -1.4948496008231416,
          -1.4338215562883638,
          -1.372793511753586,
          -1.3117654672188084,
          -1.2507374226840307,
          -1.189709378149253,
          -1.1286813336144752,
          -1.0676532890796975,
          -1.00662524454492,
          -0.9455972000101421,
          -0.8845691554753644,
          -0.8235411109405867,
          -0.762513066405809,
          -0.7014850218710312,
          -0.6404569773362535,
          -0.5794289328014759,
          -0.5184008882666982,
          -0.45737284373192044,
          -0.3963447991971427,
          -0.335316754662365,
          -0.27428871012758727,
          -0.21326066559280954,
          -0.15223262105803181,
          -0.09120457652325409,
          -0.030176531988476363,
          0.030851512546301363,
          0.09187955708107909,
          0.15290760161585681,
          0.21393564615063454,
          0.27496369068541227,
          0.33599173522019,
          0.3970197797549677,
          0.4580478242897452,
          0.5190758688245232,
          0.5801039133593007,
          0.6411319578940786,
          0.7021600024288561,
          0.7631880469636341,
          0.8242160914984116,
          0.8852441360331895,
          0.946272180567967,
          1.007300225102745,
          1.0683282696375225,
          1.1293563141723004,
          1.190384358707078,
          1.2514124032418559,
          1.3124404477766334,
          1.3734684923114113,
          1.4344965368461888,
          1.4955245813809668,
          1.5565526259157443,
          1.6175806704505222,
          1.6786087149852997,
          1.7396367595200777,
          1.8006648040548552,
          1.8616928485896331,
          1.9227208931244106,
          1.9837489376591886,
          2.044776982193966,
          2.105805026728744,
          2.1668330712635218,
          2.2278611157982997,
          2.2888891603330768,
          2.3499172048678547,
          2.4109452494026327,
          2.4719732939374106,
          2.5330013384721877,
          2.5940293830069656,
          2.6550574275417436,
          2.7160854720765215,
          2.7771135166112986,
          2.8381415611460765,
          2.8991696056808545,
          2.9601976502156324,
          3.0212256947504095,
          3.0822537392851874,
          3.1432817838199654,
          3.2043098283547433,
          3.2653378728895204,
          3.3263659174242983,
          3.3873939619590763,
          3.448422006493854,
          3.5094500510286313,
          3.5704780955634092,
          3.631506140098187,
          3.692534184632965,
          3.753562229167742,
          3.81459027370252,
          3.875618318237298,
          3.936646362772076,
          3.997674407306853,
          4.058702451841631,
          4.119730496376409,
          4.180758540911187,
          4.241786585445964,
          4.302814629980742,
          4.36384267451552,
          4.424870719050297,
          4.485898763585075
         ],
         "xaxis": "x3",
         "y": [
          0.10727749343084492,
          0.10727749343084492,
          0.10727749343084492,
          0.10727749343084492,
          0.10727749343084492,
          0.10727749343084492,
          0.10727749343084492,
          0.10727749343084492,
          0.10727749343084492,
          0.10727749343084492,
          0.10967043218360928,
          0.113478322929008,
          0.113478322929008,
          0.11430204250037057,
          0.12322974423227419,
          0.14064418181855465,
          0.18950511582963217,
          0.19446177649702684,
          0.23863497191735192,
          0.26752067382441697,
          0.26752067382441697,
          0.26754039017089,
          0.3192990883898321,
          0.32006407456856195,
          0.3207794184911496,
          0.3303793048892792,
          0.34004808512203333,
          0.35266756829405776,
          0.42499265658353363,
          0.4324856913044472,
          0.43248855192789865,
          0.4340025500425382,
          0.44004140146488935,
          0.4411545485098708,
          0.4422359487300998,
          0.4424601475409481,
          0.4424601475409481,
          0.44277526087981744,
          0.4460737012204117,
          0.5080182764880564,
          0.5210494422215309,
          0.5210494422215309,
          0.5216848221230579,
          0.5232963274375351,
          0.5232963274375351,
          0.5232963274375351,
          0.523329025212694,
          0.5326689814560536,
          0.5399122343564453,
          0.5399432830610936,
          0.5399432830610936,
          0.5399432830610936,
          0.5472286547744241,
          0.5472286547744241,
          0.5796182444235318,
          0.5796182444235318,
          0.5796182444235318,
          0.5796182444235318,
          0.5796182444235318,
          0.5800686041550608,
          0.5800686041550608,
          0.5889414746011403,
          0.5889414746011403,
          0.5889414746011403,
          0.5889414746011403,
          0.5889414746011403,
          0.5889414746011403,
          0.5889414746011403,
          0.5889414746011403,
          0.5889414746011403,
          0.5889414746011403,
          0.5889414746011403,
          0.5889414746011403,
          0.6235855401582117,
          0.6235855401582117,
          0.6235855401582117,
          0.6235855401582117,
          0.6235855401582117,
          0.6235855401582117,
          0.6235855401582117,
          0.6235855401582117,
          0.6235855401582117,
          0.6235855401582117,
          0.6235855401582117,
          0.6771299818774996,
          0.6771299818774996,
          0.6771299818774996,
          0.6771299818774996,
          0.6771299818774996,
          0.6771299818774996,
          0.6771299818774996,
          0.6771299818774996,
          0.6771299818774996,
          0.6771299818774996,
          0.6771299818774996,
          0.6771299818774996,
          0.6771299818774996,
          0.6771299818774996,
          0.6771299818774996,
          0.6771299818774996,
          0.6771299818774996
         ],
         "yaxis": "y3"
        },
        {
         "customdata": [
          [
           0.313065263268514,
           "HistGradientBoostingClassifier",
           "1"
          ],
          [
           0.313065263268514,
           "HistGradientBoostingClassifier",
           "1"
          ],
          [
           0.313065263268514,
           "HistGradientBoostingClassifier",
           "1"
          ],
          [
           0.313065263268514,
           "HistGradientBoostingClassifier",
           "1"
          ],
          [
           0.313065263268514,
           "HistGradientBoostingClassifier",
           "1"
          ],
          [
           0.313065263268514,
           "HistGradientBoostingClassifier",
           "1"
          ],
          [
           0.313065263268514,
           "HistGradientBoostingClassifier",
           "1"
          ],
          [
           0.313065263268514,
           "HistGradientBoostingClassifier",
           "1"
          ],
          [
           0.313065263268514,
           "HistGradientBoostingClassifier",
           "1"
          ],
          [
           0.313065263268514,
           "HistGradientBoostingClassifier",
           "1"
          ],
          [
           0.313065263268514,
           "HistGradientBoostingClassifier",
           "1"
          ],
          [
           0.313065263268514,
           "HistGradientBoostingClassifier",
           "1"
          ],
          [
           0.313065263268514,
           "HistGradientBoostingClassifier",
           "1"
          ],
          [
           0.313065263268514,
           "HistGradientBoostingClassifier",
           "1"
          ],
          [
           0.313065263268514,
           "HistGradientBoostingClassifier",
           "1"
          ],
          [
           0.313065263268514,
           "HistGradientBoostingClassifier",
           "1"
          ],
          [
           0.313065263268514,
           "HistGradientBoostingClassifier",
           "1"
          ],
          [
           0.313065263268514,
           "HistGradientBoostingClassifier",
           "1"
          ],
          [
           0.313065263268514,
           "HistGradientBoostingClassifier",
           "1"
          ],
          [
           0.313065263268514,
           "HistGradientBoostingClassifier",
           "1"
          ],
          [
           0.313065263268514,
           "HistGradientBoostingClassifier",
           "1"
          ],
          [
           0.313065263268514,
           "HistGradientBoostingClassifier",
           "1"
          ],
          [
           0.313065263268514,
           "HistGradientBoostingClassifier",
           "1"
          ],
          [
           0.313065263268514,
           "HistGradientBoostingClassifier",
           "1"
          ],
          [
           0.313065263268514,
           "HistGradientBoostingClassifier",
           "1"
          ],
          [
           0.313065263268514,
           "HistGradientBoostingClassifier",
           "1"
          ],
          [
           0.313065263268514,
           "HistGradientBoostingClassifier",
           "1"
          ],
          [
           0.313065263268514,
           "HistGradientBoostingClassifier",
           "1"
          ],
          [
           0.313065263268514,
           "HistGradientBoostingClassifier",
           "1"
          ],
          [
           0.313065263268514,
           "HistGradientBoostingClassifier",
           "1"
          ],
          [
           0.313065263268514,
           "HistGradientBoostingClassifier",
           "1"
          ],
          [
           0.313065263268514,
           "HistGradientBoostingClassifier",
           "1"
          ],
          [
           0.313065263268514,
           "HistGradientBoostingClassifier",
           "1"
          ],
          [
           0.313065263268514,
           "HistGradientBoostingClassifier",
           "1"
          ],
          [
           0.313065263268514,
           "HistGradientBoostingClassifier",
           "1"
          ],
          [
           0.313065263268514,
           "HistGradientBoostingClassifier",
           "1"
          ],
          [
           0.313065263268514,
           "HistGradientBoostingClassifier",
           "1"
          ],
          [
           0.313065263268514,
           "HistGradientBoostingClassifier",
           "1"
          ],
          [
           0.313065263268514,
           "HistGradientBoostingClassifier",
           "1"
          ],
          [
           0.313065263268514,
           "HistGradientBoostingClassifier",
           "1"
          ],
          [
           0.313065263268514,
           "HistGradientBoostingClassifier",
           "1"
          ],
          [
           0.313065263268514,
           "HistGradientBoostingClassifier",
           "1"
          ],
          [
           0.313065263268514,
           "HistGradientBoostingClassifier",
           "1"
          ],
          [
           0.313065263268514,
           "HistGradientBoostingClassifier",
           "1"
          ],
          [
           0.313065263268514,
           "HistGradientBoostingClassifier",
           "1"
          ],
          [
           0.313065263268514,
           "HistGradientBoostingClassifier",
           "1"
          ],
          [
           0.313065263268514,
           "HistGradientBoostingClassifier",
           "1"
          ],
          [
           0.313065263268514,
           "HistGradientBoostingClassifier",
           "1"
          ],
          [
           0.313065263268514,
           "HistGradientBoostingClassifier",
           "1"
          ],
          [
           0.313065263268514,
           "HistGradientBoostingClassifier",
           "1"
          ],
          [
           0.313065263268514,
           "HistGradientBoostingClassifier",
           "1"
          ],
          [
           0.313065263268514,
           "HistGradientBoostingClassifier",
           "1"
          ],
          [
           0.313065263268514,
           "HistGradientBoostingClassifier",
           "1"
          ],
          [
           0.313065263268514,
           "HistGradientBoostingClassifier",
           "1"
          ],
          [
           0.313065263268514,
           "HistGradientBoostingClassifier",
           "1"
          ],
          [
           0.313065263268514,
           "HistGradientBoostingClassifier",
           "1"
          ],
          [
           0.313065263268514,
           "HistGradientBoostingClassifier",
           "1"
          ],
          [
           0.313065263268514,
           "HistGradientBoostingClassifier",
           "1"
          ],
          [
           0.313065263268514,
           "HistGradientBoostingClassifier",
           "1"
          ],
          [
           0.313065263268514,
           "HistGradientBoostingClassifier",
           "1"
          ],
          [
           0.313065263268514,
           "HistGradientBoostingClassifier",
           "1"
          ],
          [
           0.313065263268514,
           "HistGradientBoostingClassifier",
           "1"
          ],
          [
           0.313065263268514,
           "HistGradientBoostingClassifier",
           "1"
          ],
          [
           0.313065263268514,
           "HistGradientBoostingClassifier",
           "1"
          ],
          [
           0.313065263268514,
           "HistGradientBoostingClassifier",
           "1"
          ],
          [
           0.313065263268514,
           "HistGradientBoostingClassifier",
           "1"
          ],
          [
           0.313065263268514,
           "HistGradientBoostingClassifier",
           "1"
          ],
          [
           0.313065263268514,
           "HistGradientBoostingClassifier",
           "1"
          ],
          [
           0.313065263268514,
           "HistGradientBoostingClassifier",
           "1"
          ],
          [
           0.313065263268514,
           "HistGradientBoostingClassifier",
           "1"
          ],
          [
           0.313065263268514,
           "HistGradientBoostingClassifier",
           "1"
          ],
          [
           0.313065263268514,
           "HistGradientBoostingClassifier",
           "1"
          ],
          [
           0.313065263268514,
           "HistGradientBoostingClassifier",
           "1"
          ],
          [
           0.313065263268514,
           "HistGradientBoostingClassifier",
           "1"
          ],
          [
           0.313065263268514,
           "HistGradientBoostingClassifier",
           "1"
          ],
          [
           0.313065263268514,
           "HistGradientBoostingClassifier",
           "1"
          ],
          [
           0.313065263268514,
           "HistGradientBoostingClassifier",
           "1"
          ],
          [
           0.313065263268514,
           "HistGradientBoostingClassifier",
           "1"
          ],
          [
           0.313065263268514,
           "HistGradientBoostingClassifier",
           "1"
          ],
          [
           0.313065263268514,
           "HistGradientBoostingClassifier",
           "1"
          ],
          [
           0.313065263268514,
           "HistGradientBoostingClassifier",
           "1"
          ],
          [
           0.313065263268514,
           "HistGradientBoostingClassifier",
           "1"
          ],
          [
           0.313065263268514,
           "HistGradientBoostingClassifier",
           "1"
          ],
          [
           0.313065263268514,
           "HistGradientBoostingClassifier",
           "1"
          ],
          [
           0.313065263268514,
           "HistGradientBoostingClassifier",
           "1"
          ],
          [
           0.313065263268514,
           "HistGradientBoostingClassifier",
           "1"
          ],
          [
           0.313065263268514,
           "HistGradientBoostingClassifier",
           "1"
          ],
          [
           0.313065263268514,
           "HistGradientBoostingClassifier",
           "1"
          ],
          [
           0.313065263268514,
           "HistGradientBoostingClassifier",
           "1"
          ],
          [
           0.313065263268514,
           "HistGradientBoostingClassifier",
           "1"
          ],
          [
           0.313065263268514,
           "HistGradientBoostingClassifier",
           "1"
          ],
          [
           0.313065263268514,
           "HistGradientBoostingClassifier",
           "1"
          ],
          [
           0.313065263268514,
           "HistGradientBoostingClassifier",
           "1"
          ],
          [
           0.313065263268514,
           "HistGradientBoostingClassifier",
           "1"
          ],
          [
           0.313065263268514,
           "HistGradientBoostingClassifier",
           "1"
          ],
          [
           0.313065263268514,
           "HistGradientBoostingClassifier",
           "1"
          ],
          [
           0.313065263268514,
           "HistGradientBoostingClassifier",
           "1"
          ],
          [
           0.313065263268514,
           "HistGradientBoostingClassifier",
           "1"
          ],
          [
           0.313065263268514,
           "HistGradientBoostingClassifier",
           "1"
          ],
          [
           0.313065263268514,
           "HistGradientBoostingClassifier",
           "1"
          ],
          [
           0.313065263268514,
           "HistGradientBoostingClassifier",
           "1"
          ]
         ],
         "hovertemplate": "<b>%{hovertext}</b><br><br>prediction=%{y:.3f}<br>mean_prediction=%{customdata[0]:.3f}<extra></extra>",
         "hovertext": [
          "HistGradientBoostingClassifier",
          "HistGradientBoostingClassifier",
          "HistGradientBoostingClassifier",
          "HistGradientBoostingClassifier",
          "HistGradientBoostingClassifier",
          "HistGradientBoostingClassifier",
          "HistGradientBoostingClassifier",
          "HistGradientBoostingClassifier",
          "HistGradientBoostingClassifier",
          "HistGradientBoostingClassifier",
          "HistGradientBoostingClassifier",
          "HistGradientBoostingClassifier",
          "HistGradientBoostingClassifier",
          "HistGradientBoostingClassifier",
          "HistGradientBoostingClassifier",
          "HistGradientBoostingClassifier",
          "HistGradientBoostingClassifier",
          "HistGradientBoostingClassifier",
          "HistGradientBoostingClassifier",
          "HistGradientBoostingClassifier",
          "HistGradientBoostingClassifier",
          "HistGradientBoostingClassifier",
          "HistGradientBoostingClassifier",
          "HistGradientBoostingClassifier",
          "HistGradientBoostingClassifier",
          "HistGradientBoostingClassifier",
          "HistGradientBoostingClassifier",
          "HistGradientBoostingClassifier",
          "HistGradientBoostingClassifier",
          "HistGradientBoostingClassifier",
          "HistGradientBoostingClassifier",
          "HistGradientBoostingClassifier",
          "HistGradientBoostingClassifier",
          "HistGradientBoostingClassifier",
          "HistGradientBoostingClassifier",
          "HistGradientBoostingClassifier",
          "HistGradientBoostingClassifier",
          "HistGradientBoostingClassifier",
          "HistGradientBoostingClassifier",
          "HistGradientBoostingClassifier",
          "HistGradientBoostingClassifier",
          "HistGradientBoostingClassifier",
          "HistGradientBoostingClassifier",
          "HistGradientBoostingClassifier",
          "HistGradientBoostingClassifier",
          "HistGradientBoostingClassifier",
          "HistGradientBoostingClassifier",
          "HistGradientBoostingClassifier",
          "HistGradientBoostingClassifier",
          "HistGradientBoostingClassifier",
          "HistGradientBoostingClassifier",
          "HistGradientBoostingClassifier",
          "HistGradientBoostingClassifier",
          "HistGradientBoostingClassifier",
          "HistGradientBoostingClassifier",
          "HistGradientBoostingClassifier",
          "HistGradientBoostingClassifier",
          "HistGradientBoostingClassifier",
          "HistGradientBoostingClassifier",
          "HistGradientBoostingClassifier",
          "HistGradientBoostingClassifier",
          "HistGradientBoostingClassifier",
          "HistGradientBoostingClassifier",
          "HistGradientBoostingClassifier",
          "HistGradientBoostingClassifier",
          "HistGradientBoostingClassifier",
          "HistGradientBoostingClassifier",
          "HistGradientBoostingClassifier",
          "HistGradientBoostingClassifier",
          "HistGradientBoostingClassifier",
          "HistGradientBoostingClassifier",
          "HistGradientBoostingClassifier",
          "HistGradientBoostingClassifier",
          "HistGradientBoostingClassifier",
          "HistGradientBoostingClassifier",
          "HistGradientBoostingClassifier",
          "HistGradientBoostingClassifier",
          "HistGradientBoostingClassifier",
          "HistGradientBoostingClassifier",
          "HistGradientBoostingClassifier",
          "HistGradientBoostingClassifier",
          "HistGradientBoostingClassifier",
          "HistGradientBoostingClassifier",
          "HistGradientBoostingClassifier",
          "HistGradientBoostingClassifier",
          "HistGradientBoostingClassifier",
          "HistGradientBoostingClassifier",
          "HistGradientBoostingClassifier",
          "HistGradientBoostingClassifier",
          "HistGradientBoostingClassifier",
          "HistGradientBoostingClassifier",
          "HistGradientBoostingClassifier",
          "HistGradientBoostingClassifier",
          "HistGradientBoostingClassifier",
          "HistGradientBoostingClassifier",
          "HistGradientBoostingClassifier",
          "HistGradientBoostingClassifier",
          "HistGradientBoostingClassifier",
          "HistGradientBoostingClassifier",
          "HistGradientBoostingClassifier",
          "HistGradientBoostingClassifier"
         ],
         "legendgroup": "HistGradientBoostingClassifier",
         "line": {
          "color": "#46bac2",
          "dash": "solid",
          "width": 2
         },
         "mode": "lines",
         "name": "HistGradientBoostingClassifier",
         "opacity": 1,
         "orientation": "v",
         "showlegend": false,
         "type": "scatter",
         "x": [
          -1.1850114387250053,
          -1.1227817519999792,
          -1.0605520652749532,
          -0.9983223785499272,
          -0.9360926918249012,
          -0.8738630050998752,
          -0.8116333183748492,
          -0.7494036316498232,
          -0.6871739449247971,
          -0.6249442581997712,
          -0.5627145714747451,
          -0.5004848847497191,
          -0.43825519802469315,
          -0.3760255112996671,
          -0.31379582457464106,
          -0.2515661378496151,
          -0.18933645112458908,
          -0.12710676439956314,
          -0.0648770776745371,
          -0.0026473909495110526,
          0.05958229577551499,
          0.12181198250054104,
          0.18404166922556708,
          0.2462713559505929,
          0.30850104267561895,
          0.370730729400645,
          0.43296041612567104,
          0.4951901028506971,
          0.5574197895757231,
          0.619649476300749,
          0.681879163025775,
          0.744108849750801,
          0.8063385364758271,
          0.8685682232008529,
          0.930797909925879,
          0.993027596650905,
          1.055257283375931,
          1.117486970100957,
          1.1797166568259831,
          1.2419463435510092,
          1.3041760302760352,
          1.3664057170010613,
          1.4286354037260873,
          1.4908650904511134,
          1.5530947771761394,
          1.615324463901165,
          1.677554150626191,
          1.739783837351217,
          1.8020135240762432,
          1.8642432108012692,
          1.9264728975262952,
          1.9887025842513213,
          2.0509322709763476,
          2.113161957701373,
          2.1753916444263997,
          2.2376213311514253,
          2.2998510178764517,
          2.3620807046014773,
          2.424310391326503,
          2.4865400780515294,
          2.548769764776555,
          2.6109994515015815,
          2.673229138226607,
          2.7354588249516336,
          2.797688511676659,
          2.8599181984016857,
          2.9221478851267113,
          2.984377571851738,
          3.0466072585767634,
          3.10883694530179,
          3.1710666320268155,
          3.233296318751842,
          3.2955260054768676,
          3.357755692201894,
          3.4199853789269197,
          3.482215065651946,
          3.5444447523769718,
          3.6066744391019974,
          3.668904125827024,
          3.7311338125520495,
          3.793363499277076,
          3.8555931860021015,
          3.917822872727128,
          3.9800525594521536,
          4.04228224617718,
          4.104511932902206,
          4.166741619627232,
          4.228971306352258,
          4.291200993077284,
          4.35343067980231,
          4.4156603665273355,
          4.477890053252362,
          4.540119739977388,
          4.602349426702414,
          4.66457911342744,
          4.726808800152466,
          4.789038486877492,
          4.851268173602518,
          4.913497860327544,
          4.97572754705257,
          5.037957233777596
         ],
         "xaxis": "x4",
         "y": [
          0.47959630907066847,
          0.35323563029583355,
          0.35323563029583355,
          0.35320896227734555,
          0.3496960448627276,
          0.3490608501179296,
          0.3480106805109263,
          0.34249726478589687,
          0.3422057829359412,
          0.33715494060596,
          0.3271628279845141,
          0.32557668310561283,
          0.3215550630395803,
          0.32151162843787134,
          0.3131046133556782,
          0.3131046133556782,
          0.3130315510688629,
          0.3123431549982458,
          0.31111141135417475,
          0.3078823114520174,
          0.3075088787584727,
          0.30668080367569894,
          0.30631930235139954,
          0.3049494181214489,
          0.30484553521061253,
          0.30464899979706617,
          0.3045637283563534,
          0.30431045554627706,
          0.30304901003552137,
          0.3029092329117616,
          0.3029092329117616,
          0.3016826937475713,
          0.3016826937475713,
          0.30101324201556634,
          0.30099267881234826,
          0.30099267881234826,
          0.30099267881234826,
          0.30099267881234826,
          0.299983780037507,
          0.29998211493703514,
          0.29998211493703514,
          0.29998211493703514,
          0.29998211493703514,
          0.29992276069542817,
          0.2995755646582676,
          0.2995755646582676,
          0.29884844467016036,
          0.29870738054118195,
          0.2982550823745134,
          0.29653854142130637,
          0.29653854142130637,
          0.29653854142130637,
          0.29286725329540353,
          0.29190357783945375,
          0.29049143074699596,
          0.29049143074699596,
          0.2550291460527872,
          0.2550291460527872,
          0.2550291460527872,
          0.2550291460527872,
          0.2550291460527872,
          0.2550291460527872,
          0.2550291460527872,
          0.2550291460527872,
          0.2550291460527872,
          0.2550291460527872,
          0.2550291460527872,
          0.2550291460527872,
          0.2550291460527872,
          0.2550291460527872,
          0.2550291460527872,
          0.2550291460527872,
          0.2550291460527872,
          0.2550291460527872,
          0.2550291460527872,
          0.2550291460527872,
          0.2550291460527872,
          0.2550291460527872,
          0.2550291460527872,
          0.2550291460527872,
          0.2550291460527872,
          0.2550291460527872,
          0.2550291460527872,
          0.2550291460527872,
          0.2550291460527872,
          0.2550291460527872,
          0.2550291460527872,
          0.2550291460527872,
          0.2550291460527872,
          0.2550291460527872,
          0.2550291460527872,
          0.2550291460527872,
          0.2550291460527872,
          0.2550291460527872,
          0.2550291460527872,
          0.2550291460527872,
          0.2550291460527872,
          0.2550291460527872,
          0.2550291460527872,
          0.2550291460527872,
          0.2550291460527872
         ],
         "yaxis": "y4"
        },
        {
         "customdata": [
          [
           0.313065263268514,
           "HistGradientBoostingClassifier",
           "2"
          ],
          [
           0.313065263268514,
           "HistGradientBoostingClassifier",
           "2"
          ],
          [
           0.313065263268514,
           "HistGradientBoostingClassifier",
           "2"
          ],
          [
           0.313065263268514,
           "HistGradientBoostingClassifier",
           "2"
          ],
          [
           0.313065263268514,
           "HistGradientBoostingClassifier",
           "2"
          ],
          [
           0.313065263268514,
           "HistGradientBoostingClassifier",
           "2"
          ],
          [
           0.313065263268514,
           "HistGradientBoostingClassifier",
           "2"
          ],
          [
           0.313065263268514,
           "HistGradientBoostingClassifier",
           "2"
          ],
          [
           0.313065263268514,
           "HistGradientBoostingClassifier",
           "2"
          ],
          [
           0.313065263268514,
           "HistGradientBoostingClassifier",
           "2"
          ],
          [
           0.313065263268514,
           "HistGradientBoostingClassifier",
           "2"
          ],
          [
           0.313065263268514,
           "HistGradientBoostingClassifier",
           "2"
          ],
          [
           0.313065263268514,
           "HistGradientBoostingClassifier",
           "2"
          ],
          [
           0.313065263268514,
           "HistGradientBoostingClassifier",
           "2"
          ],
          [
           0.313065263268514,
           "HistGradientBoostingClassifier",
           "2"
          ],
          [
           0.313065263268514,
           "HistGradientBoostingClassifier",
           "2"
          ],
          [
           0.313065263268514,
           "HistGradientBoostingClassifier",
           "2"
          ],
          [
           0.313065263268514,
           "HistGradientBoostingClassifier",
           "2"
          ],
          [
           0.313065263268514,
           "HistGradientBoostingClassifier",
           "2"
          ],
          [
           0.313065263268514,
           "HistGradientBoostingClassifier",
           "2"
          ],
          [
           0.313065263268514,
           "HistGradientBoostingClassifier",
           "2"
          ],
          [
           0.313065263268514,
           "HistGradientBoostingClassifier",
           "2"
          ],
          [
           0.313065263268514,
           "HistGradientBoostingClassifier",
           "2"
          ],
          [
           0.313065263268514,
           "HistGradientBoostingClassifier",
           "2"
          ],
          [
           0.313065263268514,
           "HistGradientBoostingClassifier",
           "2"
          ],
          [
           0.313065263268514,
           "HistGradientBoostingClassifier",
           "2"
          ],
          [
           0.313065263268514,
           "HistGradientBoostingClassifier",
           "2"
          ],
          [
           0.313065263268514,
           "HistGradientBoostingClassifier",
           "2"
          ],
          [
           0.313065263268514,
           "HistGradientBoostingClassifier",
           "2"
          ],
          [
           0.313065263268514,
           "HistGradientBoostingClassifier",
           "2"
          ],
          [
           0.313065263268514,
           "HistGradientBoostingClassifier",
           "2"
          ],
          [
           0.313065263268514,
           "HistGradientBoostingClassifier",
           "2"
          ],
          [
           0.313065263268514,
           "HistGradientBoostingClassifier",
           "2"
          ],
          [
           0.313065263268514,
           "HistGradientBoostingClassifier",
           "2"
          ],
          [
           0.313065263268514,
           "HistGradientBoostingClassifier",
           "2"
          ],
          [
           0.313065263268514,
           "HistGradientBoostingClassifier",
           "2"
          ],
          [
           0.313065263268514,
           "HistGradientBoostingClassifier",
           "2"
          ],
          [
           0.313065263268514,
           "HistGradientBoostingClassifier",
           "2"
          ],
          [
           0.313065263268514,
           "HistGradientBoostingClassifier",
           "2"
          ],
          [
           0.313065263268514,
           "HistGradientBoostingClassifier",
           "2"
          ],
          [
           0.313065263268514,
           "HistGradientBoostingClassifier",
           "2"
          ],
          [
           0.313065263268514,
           "HistGradientBoostingClassifier",
           "2"
          ],
          [
           0.313065263268514,
           "HistGradientBoostingClassifier",
           "2"
          ],
          [
           0.313065263268514,
           "HistGradientBoostingClassifier",
           "2"
          ],
          [
           0.313065263268514,
           "HistGradientBoostingClassifier",
           "2"
          ],
          [
           0.313065263268514,
           "HistGradientBoostingClassifier",
           "2"
          ],
          [
           0.313065263268514,
           "HistGradientBoostingClassifier",
           "2"
          ],
          [
           0.313065263268514,
           "HistGradientBoostingClassifier",
           "2"
          ],
          [
           0.313065263268514,
           "HistGradientBoostingClassifier",
           "2"
          ],
          [
           0.313065263268514,
           "HistGradientBoostingClassifier",
           "2"
          ],
          [
           0.313065263268514,
           "HistGradientBoostingClassifier",
           "2"
          ],
          [
           0.313065263268514,
           "HistGradientBoostingClassifier",
           "2"
          ],
          [
           0.313065263268514,
           "HistGradientBoostingClassifier",
           "2"
          ],
          [
           0.313065263268514,
           "HistGradientBoostingClassifier",
           "2"
          ],
          [
           0.313065263268514,
           "HistGradientBoostingClassifier",
           "2"
          ],
          [
           0.313065263268514,
           "HistGradientBoostingClassifier",
           "2"
          ],
          [
           0.313065263268514,
           "HistGradientBoostingClassifier",
           "2"
          ],
          [
           0.313065263268514,
           "HistGradientBoostingClassifier",
           "2"
          ],
          [
           0.313065263268514,
           "HistGradientBoostingClassifier",
           "2"
          ],
          [
           0.313065263268514,
           "HistGradientBoostingClassifier",
           "2"
          ],
          [
           0.313065263268514,
           "HistGradientBoostingClassifier",
           "2"
          ],
          [
           0.313065263268514,
           "HistGradientBoostingClassifier",
           "2"
          ],
          [
           0.313065263268514,
           "HistGradientBoostingClassifier",
           "2"
          ],
          [
           0.313065263268514,
           "HistGradientBoostingClassifier",
           "2"
          ],
          [
           0.313065263268514,
           "HistGradientBoostingClassifier",
           "2"
          ],
          [
           0.313065263268514,
           "HistGradientBoostingClassifier",
           "2"
          ],
          [
           0.313065263268514,
           "HistGradientBoostingClassifier",
           "2"
          ],
          [
           0.313065263268514,
           "HistGradientBoostingClassifier",
           "2"
          ],
          [
           0.313065263268514,
           "HistGradientBoostingClassifier",
           "2"
          ],
          [
           0.313065263268514,
           "HistGradientBoostingClassifier",
           "2"
          ],
          [
           0.313065263268514,
           "HistGradientBoostingClassifier",
           "2"
          ],
          [
           0.313065263268514,
           "HistGradientBoostingClassifier",
           "2"
          ],
          [
           0.313065263268514,
           "HistGradientBoostingClassifier",
           "2"
          ],
          [
           0.313065263268514,
           "HistGradientBoostingClassifier",
           "2"
          ],
          [
           0.313065263268514,
           "HistGradientBoostingClassifier",
           "2"
          ],
          [
           0.313065263268514,
           "HistGradientBoostingClassifier",
           "2"
          ],
          [
           0.313065263268514,
           "HistGradientBoostingClassifier",
           "2"
          ],
          [
           0.313065263268514,
           "HistGradientBoostingClassifier",
           "2"
          ],
          [
           0.313065263268514,
           "HistGradientBoostingClassifier",
           "2"
          ],
          [
           0.313065263268514,
           "HistGradientBoostingClassifier",
           "2"
          ],
          [
           0.313065263268514,
           "HistGradientBoostingClassifier",
           "2"
          ],
          [
           0.313065263268514,
           "HistGradientBoostingClassifier",
           "2"
          ],
          [
           0.313065263268514,
           "HistGradientBoostingClassifier",
           "2"
          ],
          [
           0.313065263268514,
           "HistGradientBoostingClassifier",
           "2"
          ],
          [
           0.313065263268514,
           "HistGradientBoostingClassifier",
           "2"
          ],
          [
           0.313065263268514,
           "HistGradientBoostingClassifier",
           "2"
          ],
          [
           0.313065263268514,
           "HistGradientBoostingClassifier",
           "2"
          ],
          [
           0.313065263268514,
           "HistGradientBoostingClassifier",
           "2"
          ],
          [
           0.313065263268514,
           "HistGradientBoostingClassifier",
           "2"
          ],
          [
           0.313065263268514,
           "HistGradientBoostingClassifier",
           "2"
          ],
          [
           0.313065263268514,
           "HistGradientBoostingClassifier",
           "2"
          ],
          [
           0.313065263268514,
           "HistGradientBoostingClassifier",
           "2"
          ],
          [
           0.313065263268514,
           "HistGradientBoostingClassifier",
           "2"
          ],
          [
           0.313065263268514,
           "HistGradientBoostingClassifier",
           "2"
          ],
          [
           0.313065263268514,
           "HistGradientBoostingClassifier",
           "2"
          ],
          [
           0.313065263268514,
           "HistGradientBoostingClassifier",
           "2"
          ],
          [
           0.313065263268514,
           "HistGradientBoostingClassifier",
           "2"
          ],
          [
           0.313065263268514,
           "HistGradientBoostingClassifier",
           "2"
          ],
          [
           0.313065263268514,
           "HistGradientBoostingClassifier",
           "2"
          ],
          [
           0.313065263268514,
           "HistGradientBoostingClassifier",
           "2"
          ],
          [
           0.313065263268514,
           "HistGradientBoostingClassifier",
           "2"
          ]
         ],
         "hovertemplate": "<b>%{hovertext}</b><br><br>prediction=%{y:.3f}<br>mean_prediction=%{customdata[0]:.3f}<extra></extra>",
         "hovertext": [
          "HistGradientBoostingClassifier",
          "HistGradientBoostingClassifier",
          "HistGradientBoostingClassifier",
          "HistGradientBoostingClassifier",
          "HistGradientBoostingClassifier",
          "HistGradientBoostingClassifier",
          "HistGradientBoostingClassifier",
          "HistGradientBoostingClassifier",
          "HistGradientBoostingClassifier",
          "HistGradientBoostingClassifier",
          "HistGradientBoostingClassifier",
          "HistGradientBoostingClassifier",
          "HistGradientBoostingClassifier",
          "HistGradientBoostingClassifier",
          "HistGradientBoostingClassifier",
          "HistGradientBoostingClassifier",
          "HistGradientBoostingClassifier",
          "HistGradientBoostingClassifier",
          "HistGradientBoostingClassifier",
          "HistGradientBoostingClassifier",
          "HistGradientBoostingClassifier",
          "HistGradientBoostingClassifier",
          "HistGradientBoostingClassifier",
          "HistGradientBoostingClassifier",
          "HistGradientBoostingClassifier",
          "HistGradientBoostingClassifier",
          "HistGradientBoostingClassifier",
          "HistGradientBoostingClassifier",
          "HistGradientBoostingClassifier",
          "HistGradientBoostingClassifier",
          "HistGradientBoostingClassifier",
          "HistGradientBoostingClassifier",
          "HistGradientBoostingClassifier",
          "HistGradientBoostingClassifier",
          "HistGradientBoostingClassifier",
          "HistGradientBoostingClassifier",
          "HistGradientBoostingClassifier",
          "HistGradientBoostingClassifier",
          "HistGradientBoostingClassifier",
          "HistGradientBoostingClassifier",
          "HistGradientBoostingClassifier",
          "HistGradientBoostingClassifier",
          "HistGradientBoostingClassifier",
          "HistGradientBoostingClassifier",
          "HistGradientBoostingClassifier",
          "HistGradientBoostingClassifier",
          "HistGradientBoostingClassifier",
          "HistGradientBoostingClassifier",
          "HistGradientBoostingClassifier",
          "HistGradientBoostingClassifier",
          "HistGradientBoostingClassifier",
          "HistGradientBoostingClassifier",
          "HistGradientBoostingClassifier",
          "HistGradientBoostingClassifier",
          "HistGradientBoostingClassifier",
          "HistGradientBoostingClassifier",
          "HistGradientBoostingClassifier",
          "HistGradientBoostingClassifier",
          "HistGradientBoostingClassifier",
          "HistGradientBoostingClassifier",
          "HistGradientBoostingClassifier",
          "HistGradientBoostingClassifier",
          "HistGradientBoostingClassifier",
          "HistGradientBoostingClassifier",
          "HistGradientBoostingClassifier",
          "HistGradientBoostingClassifier",
          "HistGradientBoostingClassifier",
          "HistGradientBoostingClassifier",
          "HistGradientBoostingClassifier",
          "HistGradientBoostingClassifier",
          "HistGradientBoostingClassifier",
          "HistGradientBoostingClassifier",
          "HistGradientBoostingClassifier",
          "HistGradientBoostingClassifier",
          "HistGradientBoostingClassifier",
          "HistGradientBoostingClassifier",
          "HistGradientBoostingClassifier",
          "HistGradientBoostingClassifier",
          "HistGradientBoostingClassifier",
          "HistGradientBoostingClassifier",
          "HistGradientBoostingClassifier",
          "HistGradientBoostingClassifier",
          "HistGradientBoostingClassifier",
          "HistGradientBoostingClassifier",
          "HistGradientBoostingClassifier",
          "HistGradientBoostingClassifier",
          "HistGradientBoostingClassifier",
          "HistGradientBoostingClassifier",
          "HistGradientBoostingClassifier",
          "HistGradientBoostingClassifier",
          "HistGradientBoostingClassifier",
          "HistGradientBoostingClassifier",
          "HistGradientBoostingClassifier",
          "HistGradientBoostingClassifier",
          "HistGradientBoostingClassifier",
          "HistGradientBoostingClassifier",
          "HistGradientBoostingClassifier",
          "HistGradientBoostingClassifier",
          "HistGradientBoostingClassifier",
          "HistGradientBoostingClassifier",
          "HistGradientBoostingClassifier"
         ],
         "legendgroup": "HistGradientBoostingClassifier",
         "line": {
          "color": "#46bac2",
          "dash": "solid",
          "width": 2
         },
         "mode": "lines",
         "name": "HistGradientBoostingClassifier",
         "opacity": 1,
         "orientation": "v",
         "showlegend": false,
         "type": "scatter",
         "x": [
          -1.1879384801358557,
          -1.1260888087465841,
          -1.0642391373573128,
          -1.0023894659680412,
          -0.9405397945787697,
          -0.8786901231894982,
          -0.8168404518002268,
          -0.7549907804109552,
          -0.6931411090216837,
          -0.6312914376324122,
          -0.5694417662431408,
          -0.5075920948538692,
          -0.4457424234645978,
          -0.38389275207532625,
          -0.3220430806860548,
          -0.26019340929678325,
          -0.1983437379075118,
          -0.13649406651824036,
          -0.07464439512896881,
          -0.012794723739697256,
          0.04905494764957408,
          0.11090461903884563,
          0.17275429042811719,
          0.23460396181738874,
          0.29645363320666007,
          0.3583033045959316,
          0.4201529759852032,
          0.4820026473744745,
          0.5438523187637461,
          0.6057019901530176,
          0.6675516615422892,
          0.7294013329315605,
          0.7912510043208321,
          0.8531006757101036,
          0.914950347099375,
          0.9768000184886467,
          1.038649689877918,
          1.1004993612671894,
          1.1623490326564612,
          1.2241987040457325,
          1.2860483754350038,
          1.3478980468242756,
          1.409747718213547,
          1.4715973896028183,
          1.53344706099209,
          1.5952967323813614,
          1.6571464037706332,
          1.7189960751599045,
          1.7808457465491758,
          1.8426954179384476,
          1.904545089327719,
          1.9663947607169903,
          2.028244432106262,
          2.0900941034955336,
          2.1519437748848045,
          2.2137934462740763,
          2.275643117663348,
          2.337492789052619,
          2.3993424604418907,
          2.4611921318311625,
          2.5230418032204343,
          2.584891474609705,
          2.646741145998977,
          2.7085908173882487,
          2.7704404887775196,
          2.8322901601667914,
          2.894139831556063,
          2.955989502945335,
          3.017839174334606,
          3.0796888457238776,
          3.1415385171131494,
          3.2033881885024202,
          3.265237859891692,
          3.327087531280964,
          3.3889372026702347,
          3.4507868740595065,
          3.5126365454487782,
          3.574486216838049,
          3.636335888227321,
          3.6981855596165927,
          3.7600352310058636,
          3.8218849023951353,
          3.883734573784407,
          3.945584245173678,
          4.00743391656295,
          4.069283587952222,
          4.1311332593414924,
          4.192982930730764,
          4.254832602120036,
          4.316682273509307,
          4.378531944898579,
          4.44038161628785,
          4.502231287677122,
          4.564080959066393,
          4.625930630455665,
          4.687780301844937,
          4.7496299732342075,
          4.811479644623479,
          4.873329316012751,
          4.935178987402022,
          4.997028658791294
         ],
         "xaxis": "x",
         "y": [
          0.6689883816407571,
          0.6689883816407571,
          0.6689883816407571,
          0.6689883816407571,
          0.605152350155841,
          0.6039749079862348,
          0.5964392626760506,
          0.5864836891046405,
          0.46512534208050726,
          0.4088025352990889,
          0.31758752297905685,
          0.3175780252718447,
          0.30222328200789844,
          0.2843373392305864,
          0.28212538331912435,
          0.27267243632596017,
          0.27235502145430396,
          0.27235502145430396,
          0.27235502145430396,
          0.261403737467602,
          0.2536626656668566,
          0.2536626656668566,
          0.25301813385661387,
          0.20139505804281252,
          0.1733476716612576,
          0.1733476716612576,
          0.1733476716612576,
          0.16932647610771984,
          0.1691144647802899,
          0.1680274995361023,
          0.1680090363206982,
          0.1679773266334656,
          0.1679773266334656,
          0.16793875992684945,
          0.16793875992684945,
          0.16552295430894842,
          0.16552295430894842,
          0.16552295430894842,
          0.16552295430894842,
          0.16496097413909702,
          0.16496097413909702,
          0.16496097413909702,
          0.16496097413909702,
          0.16496097413909702,
          0.16496097413909702,
          0.16255570722630525,
          0.16255570722630525,
          0.16255570722630525,
          0.16255570722630525,
          0.16255570722630525,
          0.16255570722630525,
          0.16255570722630525,
          0.16255570722630525,
          0.16255570722630525,
          0.16255570722630525,
          0.16255570722630525,
          0.16255570722630525,
          0.16255570722630525,
          0.16255570722630525,
          0.16255570722630525,
          0.16010921381754542,
          0.16010921381754542,
          0.1127841836275581,
          0.1127841836275581,
          0.1127841836275581,
          0.1127841836275581,
          0.1127841836275581,
          0.1127841836275581,
          0.1127841836275581,
          0.1127841836275581,
          0.1127841836275581,
          0.1127841836275581,
          0.1127841836275581,
          0.1127841836275581,
          0.1127841836275581,
          0.1127841836275581,
          0.1127841836275581,
          0.1127841836275581,
          0.1127841836275581,
          0.1127841836275581,
          0.1127841836275581,
          0.1127841836275581,
          0.1127841836275581,
          0.1127841836275581,
          0.1127841836275581,
          0.1127841836275581,
          0.1127841836275581,
          0.1127841836275581,
          0.1127841836275581,
          0.1127841836275581,
          0.1127841836275581,
          0.1127841836275581,
          0.1127841836275581,
          0.1127841836275581,
          0.1127841836275581,
          0.1127841836275581,
          0.1127841836275581,
          0.1127841836275581,
          0.1127841836275581,
          0.1127841836275581,
          0.1127841836275581
         ],
         "yaxis": "y"
        }
       ],
       "layout": {
        "annotations": [
         {
          "font": {
           "size": 13
          },
          "showarrow": false,
          "text": "2",
          "x": 0.2375,
          "xanchor": "center",
          "xref": "paper",
          "y": 0.425,
          "yanchor": "bottom",
          "yref": "paper"
         },
         {
          "font": {
           "size": 13
          },
          "showarrow": false,
          "text": "0",
          "x": 0.2375,
          "xanchor": "center",
          "xref": "paper",
          "y": 1,
          "yanchor": "bottom",
          "yref": "paper"
         },
         {
          "font": {
           "size": 13
          },
          "showarrow": false,
          "text": "1",
          "x": 0.7625,
          "xanchor": "center",
          "xref": "paper",
          "y": 1,
          "yanchor": "bottom",
          "yref": "paper"
         },
         {
          "font": {
           "size": 13
          },
          "showarrow": false,
          "text": "prediction",
          "textangle": -90,
          "x": -0.07,
          "xref": "paper",
          "y": 0.5,
          "yref": "paper"
         }
        ],
        "font": {
         "color": "#371ea3"
        },
        "height": 829,
        "hovermode": "x unified",
        "legend": {
         "font": {
          "size": 11
         },
         "itemsizing": "constant",
         "orientation": "h",
         "title": {
          "font": {
           "size": 12
          },
          "text": "label"
         },
         "tracegroupgap": 0,
         "x": 1,
         "xanchor": "right",
         "y": 1.0361881785283473,
         "yanchor": "bottom"
        },
        "margin": {
         "b": 71,
         "r": 30,
         "t": 78
        },
        "template": {
         "data": {
          "scatter": [
           {
            "type": "scatter"
           }
          ]
         }
        },
        "title": {
         "font": {
          "size": 16
         },
         "text": "Aggregated Profiles",
         "x": 0.15
        },
        "xaxis": {
         "anchor": "y",
         "automargin": true,
         "domain": [
          0,
          0.475
         ],
         "fixedrange": true,
         "gridwidth": 2,
         "showticklabels": true,
         "tickcolor": "white",
         "ticklen": 3,
         "ticks": "outside",
         "title": {
          "text": ""
         },
         "type": "linear",
         "zeroline": false
        },
        "xaxis2": {
         "anchor": "y2",
         "automargin": true,
         "domain": [
          0.525,
          1
         ],
         "fixedrange": true,
         "gridwidth": 2,
         "showticklabels": true,
         "tickcolor": "white",
         "ticklen": 3,
         "ticks": "outside",
         "title": {
          "text": ""
         },
         "type": "linear",
         "zeroline": false
        },
        "xaxis3": {
         "anchor": "y3",
         "automargin": true,
         "domain": [
          0,
          0.475
         ],
         "fixedrange": true,
         "gridwidth": 2,
         "showticklabels": true,
         "tickcolor": "white",
         "ticklen": 3,
         "ticks": "outside",
         "title": {
          "text": ""
         },
         "type": "linear",
         "zeroline": false
        },
        "xaxis4": {
         "anchor": "y4",
         "automargin": true,
         "domain": [
          0.525,
          1
         ],
         "fixedrange": true,
         "gridwidth": 2,
         "showticklabels": true,
         "tickcolor": "white",
         "ticklen": 3,
         "ticks": "outside",
         "title": {
          "text": ""
         },
         "type": "linear",
         "zeroline": false
        },
        "yaxis": {
         "anchor": "x",
         "automargin": true,
         "domain": [
          0,
          0.425
         ],
         "fixedrange": true,
         "gridwidth": 2,
         "range": [
          0.050292244586179445,
          0.7341152307221651
         ],
         "tickcolor": "white",
         "ticklen": 3,
         "ticks": "outside",
         "title": {
          "text": ""
         },
         "type": "linear",
         "zeroline": false
        },
        "yaxis2": {
         "anchor": "x2",
         "automargin": true,
         "domain": [
          0,
          0.425
         ],
         "fixedrange": true,
         "gridwidth": 2,
         "matches": "y",
         "range": [
          0.050292244586179445,
          0.7341152307221651
         ],
         "showticklabels": false,
         "tickcolor": "white",
         "ticklen": 3,
         "ticks": "outside",
         "title": {
          "text": ""
         },
         "type": "linear",
         "zeroline": false
        },
        "yaxis3": {
         "anchor": "x3",
         "automargin": true,
         "domain": [
          0.575,
          1
         ],
         "fixedrange": true,
         "gridwidth": 2,
         "matches": "y",
         "range": [
          0.050292244586179445,
          0.7341152307221651
         ],
         "tickcolor": "white",
         "ticklen": 3,
         "ticks": "outside",
         "title": {
          "text": ""
         },
         "type": "linear",
         "zeroline": false
        },
        "yaxis4": {
         "anchor": "x4",
         "automargin": true,
         "domain": [
          0.575,
          1
         ],
         "fixedrange": true,
         "gridwidth": 2,
         "matches": "y",
         "range": [
          0.050292244586179445,
          0.7341152307221651
         ],
         "showticklabels": false,
         "tickcolor": "white",
         "ticklen": 3,
         "ticks": "outside",
         "title": {
          "text": ""
         },
         "type": "linear",
         "zeroline": false
        }
       }
      },
      "text/html": [
       "<div>                            <div id=\"2a27c723-54e2-4bbb-86ac-391fcc76c4c7\" class=\"plotly-graph-div\" style=\"height:829px; width:100%;\"></div>            <script type=\"text/javascript\">                require([\"plotly\"], function(Plotly) {                    window.PLOTLYENV=window.PLOTLYENV || {};                                    if (document.getElementById(\"2a27c723-54e2-4bbb-86ac-391fcc76c4c7\")) {                    Plotly.newPlot(                        \"2a27c723-54e2-4bbb-86ac-391fcc76c4c7\",                        [{\"customdata\": [[0.313065263268514, \"HistGradientBoostingClassifier\", \"0\"], [0.313065263268514, \"HistGradientBoostingClassifier\", \"0\"], [0.313065263268514, \"HistGradientBoostingClassifier\", \"0\"], [0.313065263268514, \"HistGradientBoostingClassifier\", \"0\"], [0.313065263268514, \"HistGradientBoostingClassifier\", \"0\"], [0.313065263268514, \"HistGradientBoostingClassifier\", \"0\"], [0.313065263268514, \"HistGradientBoostingClassifier\", \"0\"], [0.313065263268514, \"HistGradientBoostingClassifier\", \"0\"], [0.313065263268514, \"HistGradientBoostingClassifier\", \"0\"], [0.313065263268514, \"HistGradientBoostingClassifier\", \"0\"], [0.313065263268514, \"HistGradientBoostingClassifier\", \"0\"], [0.313065263268514, \"HistGradientBoostingClassifier\", \"0\"], [0.313065263268514, \"HistGradientBoostingClassifier\", \"0\"], [0.313065263268514, \"HistGradientBoostingClassifier\", \"0\"], [0.313065263268514, \"HistGradientBoostingClassifier\", \"0\"], [0.313065263268514, \"HistGradientBoostingClassifier\", \"0\"], [0.313065263268514, \"HistGradientBoostingClassifier\", \"0\"], [0.313065263268514, \"HistGradientBoostingClassifier\", \"0\"], [0.313065263268514, \"HistGradientBoostingClassifier\", \"0\"], [0.313065263268514, \"HistGradientBoostingClassifier\", \"0\"], [0.313065263268514, \"HistGradientBoostingClassifier\", \"0\"], [0.313065263268514, \"HistGradientBoostingClassifier\", \"0\"], [0.313065263268514, \"HistGradientBoostingClassifier\", \"0\"], [0.313065263268514, \"HistGradientBoostingClassifier\", \"0\"], [0.313065263268514, \"HistGradientBoostingClassifier\", \"0\"], [0.313065263268514, \"HistGradientBoostingClassifier\", \"0\"], [0.313065263268514, \"HistGradientBoostingClassifier\", \"0\"], [0.313065263268514, \"HistGradientBoostingClassifier\", \"0\"], [0.313065263268514, \"HistGradientBoostingClassifier\", \"0\"], [0.313065263268514, \"HistGradientBoostingClassifier\", \"0\"], [0.313065263268514, \"HistGradientBoostingClassifier\", \"0\"], [0.313065263268514, \"HistGradientBoostingClassifier\", \"0\"], [0.313065263268514, \"HistGradientBoostingClassifier\", \"0\"], [0.313065263268514, \"HistGradientBoostingClassifier\", \"0\"], [0.313065263268514, \"HistGradientBoostingClassifier\", \"0\"], [0.313065263268514, \"HistGradientBoostingClassifier\", \"0\"], [0.313065263268514, \"HistGradientBoostingClassifier\", \"0\"], [0.313065263268514, \"HistGradientBoostingClassifier\", \"0\"], [0.313065263268514, \"HistGradientBoostingClassifier\", \"0\"], [0.313065263268514, \"HistGradientBoostingClassifier\", \"0\"], [0.313065263268514, \"HistGradientBoostingClassifier\", \"0\"], [0.313065263268514, \"HistGradientBoostingClassifier\", \"0\"], [0.313065263268514, \"HistGradientBoostingClassifier\", \"0\"], [0.313065263268514, \"HistGradientBoostingClassifier\", \"0\"], [0.313065263268514, \"HistGradientBoostingClassifier\", \"0\"], [0.313065263268514, \"HistGradientBoostingClassifier\", \"0\"], [0.313065263268514, \"HistGradientBoostingClassifier\", \"0\"], [0.313065263268514, \"HistGradientBoostingClassifier\", \"0\"], [0.313065263268514, \"HistGradientBoostingClassifier\", \"0\"], [0.313065263268514, \"HistGradientBoostingClassifier\", \"0\"], [0.313065263268514, \"HistGradientBoostingClassifier\", \"0\"], [0.313065263268514, \"HistGradientBoostingClassifier\", \"0\"], [0.313065263268514, \"HistGradientBoostingClassifier\", \"0\"], [0.313065263268514, \"HistGradientBoostingClassifier\", \"0\"], [0.313065263268514, \"HistGradientBoostingClassifier\", \"0\"], [0.313065263268514, \"HistGradientBoostingClassifier\", \"0\"], [0.313065263268514, \"HistGradientBoostingClassifier\", \"0\"], [0.313065263268514, \"HistGradientBoostingClassifier\", \"0\"], [0.313065263268514, \"HistGradientBoostingClassifier\", \"0\"], [0.313065263268514, \"HistGradientBoostingClassifier\", \"0\"], [0.313065263268514, \"HistGradientBoostingClassifier\", \"0\"], [0.313065263268514, \"HistGradientBoostingClassifier\", \"0\"], [0.313065263268514, \"HistGradientBoostingClassifier\", \"0\"], [0.313065263268514, \"HistGradientBoostingClassifier\", \"0\"], [0.313065263268514, \"HistGradientBoostingClassifier\", \"0\"], [0.313065263268514, \"HistGradientBoostingClassifier\", \"0\"], [0.313065263268514, \"HistGradientBoostingClassifier\", \"0\"], [0.313065263268514, \"HistGradientBoostingClassifier\", \"0\"], [0.313065263268514, \"HistGradientBoostingClassifier\", \"0\"], [0.313065263268514, \"HistGradientBoostingClassifier\", \"0\"], [0.313065263268514, \"HistGradientBoostingClassifier\", \"0\"], [0.313065263268514, \"HistGradientBoostingClassifier\", \"0\"], [0.313065263268514, \"HistGradientBoostingClassifier\", \"0\"], [0.313065263268514, \"HistGradientBoostingClassifier\", \"0\"], [0.313065263268514, \"HistGradientBoostingClassifier\", \"0\"], [0.313065263268514, \"HistGradientBoostingClassifier\", \"0\"], [0.313065263268514, \"HistGradientBoostingClassifier\", \"0\"], [0.313065263268514, \"HistGradientBoostingClassifier\", \"0\"], [0.313065263268514, \"HistGradientBoostingClassifier\", \"0\"], [0.313065263268514, \"HistGradientBoostingClassifier\", \"0\"], [0.313065263268514, \"HistGradientBoostingClassifier\", \"0\"], [0.313065263268514, \"HistGradientBoostingClassifier\", \"0\"], [0.313065263268514, \"HistGradientBoostingClassifier\", \"0\"], [0.313065263268514, \"HistGradientBoostingClassifier\", \"0\"], [0.313065263268514, \"HistGradientBoostingClassifier\", \"0\"], [0.313065263268514, \"HistGradientBoostingClassifier\", \"0\"], [0.313065263268514, \"HistGradientBoostingClassifier\", \"0\"], [0.313065263268514, \"HistGradientBoostingClassifier\", \"0\"], [0.313065263268514, \"HistGradientBoostingClassifier\", \"0\"], [0.313065263268514, \"HistGradientBoostingClassifier\", \"0\"], [0.313065263268514, \"HistGradientBoostingClassifier\", \"0\"], [0.313065263268514, \"HistGradientBoostingClassifier\", \"0\"], [0.313065263268514, \"HistGradientBoostingClassifier\", \"0\"], [0.313065263268514, \"HistGradientBoostingClassifier\", \"0\"], [0.313065263268514, \"HistGradientBoostingClassifier\", \"0\"], [0.313065263268514, \"HistGradientBoostingClassifier\", \"0\"], [0.313065263268514, \"HistGradientBoostingClassifier\", \"0\"], [0.313065263268514, \"HistGradientBoostingClassifier\", \"0\"], [0.313065263268514, \"HistGradientBoostingClassifier\", \"0\"], [0.313065263268514, \"HistGradientBoostingClassifier\", \"0\"], [0.313065263268514, \"HistGradientBoostingClassifier\", \"0\"]], \"hovertemplate\": \"<b>%{hovertext}</b><br><br>prediction=%{y:.3f}<br>mean_prediction=%{customdata[0]:.3f}<extra></extra>\", \"hovertext\": [\"HistGradientBoostingClassifier\", \"HistGradientBoostingClassifier\", \"HistGradientBoostingClassifier\", \"HistGradientBoostingClassifier\", \"HistGradientBoostingClassifier\", \"HistGradientBoostingClassifier\", \"HistGradientBoostingClassifier\", \"HistGradientBoostingClassifier\", \"HistGradientBoostingClassifier\", \"HistGradientBoostingClassifier\", \"HistGradientBoostingClassifier\", \"HistGradientBoostingClassifier\", \"HistGradientBoostingClassifier\", \"HistGradientBoostingClassifier\", \"HistGradientBoostingClassifier\", \"HistGradientBoostingClassifier\", \"HistGradientBoostingClassifier\", \"HistGradientBoostingClassifier\", \"HistGradientBoostingClassifier\", \"HistGradientBoostingClassifier\", \"HistGradientBoostingClassifier\", \"HistGradientBoostingClassifier\", \"HistGradientBoostingClassifier\", \"HistGradientBoostingClassifier\", \"HistGradientBoostingClassifier\", \"HistGradientBoostingClassifier\", \"HistGradientBoostingClassifier\", \"HistGradientBoostingClassifier\", \"HistGradientBoostingClassifier\", \"HistGradientBoostingClassifier\", \"HistGradientBoostingClassifier\", \"HistGradientBoostingClassifier\", \"HistGradientBoostingClassifier\", \"HistGradientBoostingClassifier\", \"HistGradientBoostingClassifier\", \"HistGradientBoostingClassifier\", \"HistGradientBoostingClassifier\", \"HistGradientBoostingClassifier\", \"HistGradientBoostingClassifier\", \"HistGradientBoostingClassifier\", \"HistGradientBoostingClassifier\", \"HistGradientBoostingClassifier\", \"HistGradientBoostingClassifier\", \"HistGradientBoostingClassifier\", \"HistGradientBoostingClassifier\", \"HistGradientBoostingClassifier\", \"HistGradientBoostingClassifier\", \"HistGradientBoostingClassifier\", \"HistGradientBoostingClassifier\", \"HistGradientBoostingClassifier\", \"HistGradientBoostingClassifier\", \"HistGradientBoostingClassifier\", \"HistGradientBoostingClassifier\", \"HistGradientBoostingClassifier\", \"HistGradientBoostingClassifier\", \"HistGradientBoostingClassifier\", \"HistGradientBoostingClassifier\", \"HistGradientBoostingClassifier\", \"HistGradientBoostingClassifier\", \"HistGradientBoostingClassifier\", \"HistGradientBoostingClassifier\", \"HistGradientBoostingClassifier\", \"HistGradientBoostingClassifier\", \"HistGradientBoostingClassifier\", \"HistGradientBoostingClassifier\", \"HistGradientBoostingClassifier\", \"HistGradientBoostingClassifier\", \"HistGradientBoostingClassifier\", \"HistGradientBoostingClassifier\", \"HistGradientBoostingClassifier\", \"HistGradientBoostingClassifier\", \"HistGradientBoostingClassifier\", \"HistGradientBoostingClassifier\", \"HistGradientBoostingClassifier\", \"HistGradientBoostingClassifier\", \"HistGradientBoostingClassifier\", \"HistGradientBoostingClassifier\", \"HistGradientBoostingClassifier\", \"HistGradientBoostingClassifier\", \"HistGradientBoostingClassifier\", \"HistGradientBoostingClassifier\", \"HistGradientBoostingClassifier\", \"HistGradientBoostingClassifier\", \"HistGradientBoostingClassifier\", \"HistGradientBoostingClassifier\", \"HistGradientBoostingClassifier\", \"HistGradientBoostingClassifier\", \"HistGradientBoostingClassifier\", \"HistGradientBoostingClassifier\", \"HistGradientBoostingClassifier\", \"HistGradientBoostingClassifier\", \"HistGradientBoostingClassifier\", \"HistGradientBoostingClassifier\", \"HistGradientBoostingClassifier\", \"HistGradientBoostingClassifier\", \"HistGradientBoostingClassifier\", \"HistGradientBoostingClassifier\", \"HistGradientBoostingClassifier\", \"HistGradientBoostingClassifier\", \"HistGradientBoostingClassifier\", \"HistGradientBoostingClassifier\"], \"legendgroup\": \"HistGradientBoostingClassifier\", \"line\": {\"color\": \"#46bac2\", \"dash\": \"solid\", \"width\": 2}, \"mode\": \"lines\", \"name\": \"HistGradientBoostingClassifier\", \"opacity\": 1, \"orientation\": \"v\", \"showlegend\": true, \"type\": \"scatter\", \"x\": [-1.616905689892697, -1.5558776453579193, -1.4948496008231416, -1.4338215562883638, -1.372793511753586, -1.3117654672188084, -1.2507374226840307, -1.189709378149253, -1.1286813336144752, -1.0676532890796975, -1.00662524454492, -0.9455972000101421, -0.8845691554753644, -0.8235411109405867, -0.762513066405809, -0.7014850218710312, -0.6404569773362535, -0.5794289328014759, -0.5184008882666982, -0.45737284373192044, -0.3963447991971427, -0.335316754662365, -0.27428871012758727, -0.21326066559280954, -0.15223262105803181, -0.09120457652325409, -0.030176531988476363, 0.030851512546301363, 0.09187955708107909, 0.15290760161585681, 0.21393564615063454, 0.27496369068541227, 0.33599173522019, 0.3970197797549677, 0.4580478242897452, 0.5190758688245232, 0.5801039133593007, 0.6411319578940786, 0.7021600024288561, 0.7631880469636341, 0.8242160914984116, 0.8852441360331895, 0.946272180567967, 1.007300225102745, 1.0683282696375225, 1.1293563141723004, 1.190384358707078, 1.2514124032418559, 1.3124404477766334, 1.3734684923114113, 1.4344965368461888, 1.4955245813809668, 1.5565526259157443, 1.6175806704505222, 1.6786087149852997, 1.7396367595200777, 1.8006648040548552, 1.8616928485896331, 1.9227208931244106, 1.9837489376591886, 2.044776982193966, 2.105805026728744, 2.1668330712635218, 2.2278611157982997, 2.2888891603330768, 2.3499172048678547, 2.4109452494026327, 2.4719732939374106, 2.5330013384721877, 2.5940293830069656, 2.6550574275417436, 2.7160854720765215, 2.7771135166112986, 2.8381415611460765, 2.8991696056808545, 2.9601976502156324, 3.0212256947504095, 3.0822537392851874, 3.1432817838199654, 3.2043098283547433, 3.2653378728895204, 3.3263659174242983, 3.3873939619590763, 3.448422006493854, 3.5094500510286313, 3.5704780955634092, 3.631506140098187, 3.692534184632965, 3.753562229167742, 3.81459027370252, 3.875618318237298, 3.936646362772076, 3.997674407306853, 4.058702451841631, 4.119730496376409, 4.180758540911187, 4.241786585445964, 4.302814629980742, 4.36384267451552, 4.424870719050297, 4.485898763585075], \"xaxis\": \"x3\", \"y\": [0.10727749343084492, 0.10727749343084492, 0.10727749343084492, 0.10727749343084492, 0.10727749343084492, 0.10727749343084492, 0.10727749343084492, 0.10727749343084492, 0.10727749343084492, 0.10727749343084492, 0.10967043218360928, 0.113478322929008, 0.113478322929008, 0.11430204250037057, 0.12322974423227419, 0.14064418181855465, 0.18950511582963217, 0.19446177649702684, 0.23863497191735192, 0.26752067382441697, 0.26752067382441697, 0.26754039017089, 0.3192990883898321, 0.32006407456856195, 0.3207794184911496, 0.3303793048892792, 0.34004808512203333, 0.35266756829405776, 0.42499265658353363, 0.4324856913044472, 0.43248855192789865, 0.4340025500425382, 0.44004140146488935, 0.4411545485098708, 0.4422359487300998, 0.4424601475409481, 0.4424601475409481, 0.44277526087981744, 0.4460737012204117, 0.5080182764880564, 0.5210494422215309, 0.5210494422215309, 0.5216848221230579, 0.5232963274375351, 0.5232963274375351, 0.5232963274375351, 0.523329025212694, 0.5326689814560536, 0.5399122343564453, 0.5399432830610936, 0.5399432830610936, 0.5399432830610936, 0.5472286547744241, 0.5472286547744241, 0.5796182444235318, 0.5796182444235318, 0.5796182444235318, 0.5796182444235318, 0.5796182444235318, 0.5800686041550608, 0.5800686041550608, 0.5889414746011403, 0.5889414746011403, 0.5889414746011403, 0.5889414746011403, 0.5889414746011403, 0.5889414746011403, 0.5889414746011403, 0.5889414746011403, 0.5889414746011403, 0.5889414746011403, 0.5889414746011403, 0.5889414746011403, 0.6235855401582117, 0.6235855401582117, 0.6235855401582117, 0.6235855401582117, 0.6235855401582117, 0.6235855401582117, 0.6235855401582117, 0.6235855401582117, 0.6235855401582117, 0.6235855401582117, 0.6235855401582117, 0.6771299818774996, 0.6771299818774996, 0.6771299818774996, 0.6771299818774996, 0.6771299818774996, 0.6771299818774996, 0.6771299818774996, 0.6771299818774996, 0.6771299818774996, 0.6771299818774996, 0.6771299818774996, 0.6771299818774996, 0.6771299818774996, 0.6771299818774996, 0.6771299818774996, 0.6771299818774996, 0.6771299818774996], \"yaxis\": \"y3\"}, {\"customdata\": [[0.313065263268514, \"HistGradientBoostingClassifier\", \"1\"], [0.313065263268514, \"HistGradientBoostingClassifier\", \"1\"], [0.313065263268514, \"HistGradientBoostingClassifier\", \"1\"], [0.313065263268514, \"HistGradientBoostingClassifier\", \"1\"], [0.313065263268514, \"HistGradientBoostingClassifier\", \"1\"], [0.313065263268514, \"HistGradientBoostingClassifier\", \"1\"], [0.313065263268514, \"HistGradientBoostingClassifier\", \"1\"], [0.313065263268514, \"HistGradientBoostingClassifier\", \"1\"], [0.313065263268514, \"HistGradientBoostingClassifier\", \"1\"], [0.313065263268514, \"HistGradientBoostingClassifier\", \"1\"], [0.313065263268514, \"HistGradientBoostingClassifier\", \"1\"], [0.313065263268514, \"HistGradientBoostingClassifier\", \"1\"], [0.313065263268514, \"HistGradientBoostingClassifier\", \"1\"], [0.313065263268514, \"HistGradientBoostingClassifier\", \"1\"], [0.313065263268514, \"HistGradientBoostingClassifier\", \"1\"], [0.313065263268514, \"HistGradientBoostingClassifier\", \"1\"], [0.313065263268514, \"HistGradientBoostingClassifier\", \"1\"], [0.313065263268514, \"HistGradientBoostingClassifier\", \"1\"], [0.313065263268514, \"HistGradientBoostingClassifier\", \"1\"], [0.313065263268514, \"HistGradientBoostingClassifier\", \"1\"], [0.313065263268514, \"HistGradientBoostingClassifier\", \"1\"], [0.313065263268514, \"HistGradientBoostingClassifier\", \"1\"], [0.313065263268514, \"HistGradientBoostingClassifier\", \"1\"], [0.313065263268514, \"HistGradientBoostingClassifier\", \"1\"], [0.313065263268514, \"HistGradientBoostingClassifier\", \"1\"], [0.313065263268514, \"HistGradientBoostingClassifier\", \"1\"], [0.313065263268514, \"HistGradientBoostingClassifier\", \"1\"], [0.313065263268514, \"HistGradientBoostingClassifier\", \"1\"], [0.313065263268514, \"HistGradientBoostingClassifier\", \"1\"], [0.313065263268514, \"HistGradientBoostingClassifier\", \"1\"], [0.313065263268514, \"HistGradientBoostingClassifier\", \"1\"], [0.313065263268514, \"HistGradientBoostingClassifier\", \"1\"], [0.313065263268514, \"HistGradientBoostingClassifier\", \"1\"], [0.313065263268514, \"HistGradientBoostingClassifier\", \"1\"], [0.313065263268514, \"HistGradientBoostingClassifier\", \"1\"], [0.313065263268514, \"HistGradientBoostingClassifier\", \"1\"], [0.313065263268514, \"HistGradientBoostingClassifier\", \"1\"], [0.313065263268514, \"HistGradientBoostingClassifier\", \"1\"], [0.313065263268514, \"HistGradientBoostingClassifier\", \"1\"], [0.313065263268514, \"HistGradientBoostingClassifier\", \"1\"], [0.313065263268514, \"HistGradientBoostingClassifier\", \"1\"], [0.313065263268514, \"HistGradientBoostingClassifier\", \"1\"], [0.313065263268514, \"HistGradientBoostingClassifier\", \"1\"], [0.313065263268514, \"HistGradientBoostingClassifier\", \"1\"], [0.313065263268514, \"HistGradientBoostingClassifier\", \"1\"], [0.313065263268514, \"HistGradientBoostingClassifier\", \"1\"], [0.313065263268514, \"HistGradientBoostingClassifier\", \"1\"], [0.313065263268514, \"HistGradientBoostingClassifier\", \"1\"], [0.313065263268514, \"HistGradientBoostingClassifier\", \"1\"], [0.313065263268514, \"HistGradientBoostingClassifier\", \"1\"], [0.313065263268514, \"HistGradientBoostingClassifier\", \"1\"], [0.313065263268514, \"HistGradientBoostingClassifier\", \"1\"], [0.313065263268514, \"HistGradientBoostingClassifier\", \"1\"], [0.313065263268514, \"HistGradientBoostingClassifier\", \"1\"], [0.313065263268514, \"HistGradientBoostingClassifier\", \"1\"], [0.313065263268514, \"HistGradientBoostingClassifier\", \"1\"], [0.313065263268514, \"HistGradientBoostingClassifier\", \"1\"], [0.313065263268514, \"HistGradientBoostingClassifier\", \"1\"], [0.313065263268514, \"HistGradientBoostingClassifier\", \"1\"], [0.313065263268514, \"HistGradientBoostingClassifier\", \"1\"], [0.313065263268514, \"HistGradientBoostingClassifier\", \"1\"], [0.313065263268514, \"HistGradientBoostingClassifier\", \"1\"], [0.313065263268514, \"HistGradientBoostingClassifier\", \"1\"], [0.313065263268514, \"HistGradientBoostingClassifier\", \"1\"], [0.313065263268514, \"HistGradientBoostingClassifier\", \"1\"], [0.313065263268514, \"HistGradientBoostingClassifier\", \"1\"], [0.313065263268514, \"HistGradientBoostingClassifier\", \"1\"], [0.313065263268514, \"HistGradientBoostingClassifier\", \"1\"], [0.313065263268514, \"HistGradientBoostingClassifier\", \"1\"], [0.313065263268514, \"HistGradientBoostingClassifier\", \"1\"], [0.313065263268514, \"HistGradientBoostingClassifier\", \"1\"], [0.313065263268514, \"HistGradientBoostingClassifier\", \"1\"], [0.313065263268514, \"HistGradientBoostingClassifier\", \"1\"], [0.313065263268514, \"HistGradientBoostingClassifier\", \"1\"], [0.313065263268514, \"HistGradientBoostingClassifier\", \"1\"], [0.313065263268514, \"HistGradientBoostingClassifier\", \"1\"], [0.313065263268514, \"HistGradientBoostingClassifier\", \"1\"], [0.313065263268514, \"HistGradientBoostingClassifier\", \"1\"], [0.313065263268514, \"HistGradientBoostingClassifier\", \"1\"], [0.313065263268514, \"HistGradientBoostingClassifier\", \"1\"], [0.313065263268514, \"HistGradientBoostingClassifier\", \"1\"], [0.313065263268514, \"HistGradientBoostingClassifier\", \"1\"], [0.313065263268514, \"HistGradientBoostingClassifier\", \"1\"], [0.313065263268514, \"HistGradientBoostingClassifier\", \"1\"], [0.313065263268514, \"HistGradientBoostingClassifier\", \"1\"], [0.313065263268514, \"HistGradientBoostingClassifier\", \"1\"], [0.313065263268514, \"HistGradientBoostingClassifier\", \"1\"], [0.313065263268514, \"HistGradientBoostingClassifier\", \"1\"], [0.313065263268514, \"HistGradientBoostingClassifier\", \"1\"], [0.313065263268514, \"HistGradientBoostingClassifier\", \"1\"], [0.313065263268514, \"HistGradientBoostingClassifier\", \"1\"], [0.313065263268514, \"HistGradientBoostingClassifier\", \"1\"], [0.313065263268514, \"HistGradientBoostingClassifier\", \"1\"], [0.313065263268514, \"HistGradientBoostingClassifier\", \"1\"], [0.313065263268514, \"HistGradientBoostingClassifier\", \"1\"], [0.313065263268514, \"HistGradientBoostingClassifier\", \"1\"], [0.313065263268514, \"HistGradientBoostingClassifier\", \"1\"], [0.313065263268514, \"HistGradientBoostingClassifier\", \"1\"], [0.313065263268514, \"HistGradientBoostingClassifier\", \"1\"], [0.313065263268514, \"HistGradientBoostingClassifier\", \"1\"], [0.313065263268514, \"HistGradientBoostingClassifier\", \"1\"]], \"hovertemplate\": \"<b>%{hovertext}</b><br><br>prediction=%{y:.3f}<br>mean_prediction=%{customdata[0]:.3f}<extra></extra>\", \"hovertext\": [\"HistGradientBoostingClassifier\", \"HistGradientBoostingClassifier\", \"HistGradientBoostingClassifier\", \"HistGradientBoostingClassifier\", \"HistGradientBoostingClassifier\", \"HistGradientBoostingClassifier\", \"HistGradientBoostingClassifier\", \"HistGradientBoostingClassifier\", \"HistGradientBoostingClassifier\", \"HistGradientBoostingClassifier\", \"HistGradientBoostingClassifier\", \"HistGradientBoostingClassifier\", \"HistGradientBoostingClassifier\", \"HistGradientBoostingClassifier\", \"HistGradientBoostingClassifier\", \"HistGradientBoostingClassifier\", \"HistGradientBoostingClassifier\", \"HistGradientBoostingClassifier\", \"HistGradientBoostingClassifier\", \"HistGradientBoostingClassifier\", \"HistGradientBoostingClassifier\", \"HistGradientBoostingClassifier\", \"HistGradientBoostingClassifier\", \"HistGradientBoostingClassifier\", \"HistGradientBoostingClassifier\", \"HistGradientBoostingClassifier\", \"HistGradientBoostingClassifier\", \"HistGradientBoostingClassifier\", \"HistGradientBoostingClassifier\", \"HistGradientBoostingClassifier\", \"HistGradientBoostingClassifier\", \"HistGradientBoostingClassifier\", \"HistGradientBoostingClassifier\", \"HistGradientBoostingClassifier\", \"HistGradientBoostingClassifier\", \"HistGradientBoostingClassifier\", \"HistGradientBoostingClassifier\", \"HistGradientBoostingClassifier\", \"HistGradientBoostingClassifier\", \"HistGradientBoostingClassifier\", \"HistGradientBoostingClassifier\", \"HistGradientBoostingClassifier\", \"HistGradientBoostingClassifier\", \"HistGradientBoostingClassifier\", \"HistGradientBoostingClassifier\", \"HistGradientBoostingClassifier\", \"HistGradientBoostingClassifier\", \"HistGradientBoostingClassifier\", \"HistGradientBoostingClassifier\", \"HistGradientBoostingClassifier\", \"HistGradientBoostingClassifier\", \"HistGradientBoostingClassifier\", \"HistGradientBoostingClassifier\", \"HistGradientBoostingClassifier\", \"HistGradientBoostingClassifier\", \"HistGradientBoostingClassifier\", \"HistGradientBoostingClassifier\", \"HistGradientBoostingClassifier\", \"HistGradientBoostingClassifier\", \"HistGradientBoostingClassifier\", \"HistGradientBoostingClassifier\", \"HistGradientBoostingClassifier\", \"HistGradientBoostingClassifier\", \"HistGradientBoostingClassifier\", \"HistGradientBoostingClassifier\", \"HistGradientBoostingClassifier\", \"HistGradientBoostingClassifier\", \"HistGradientBoostingClassifier\", \"HistGradientBoostingClassifier\", \"HistGradientBoostingClassifier\", \"HistGradientBoostingClassifier\", \"HistGradientBoostingClassifier\", \"HistGradientBoostingClassifier\", \"HistGradientBoostingClassifier\", \"HistGradientBoostingClassifier\", \"HistGradientBoostingClassifier\", \"HistGradientBoostingClassifier\", \"HistGradientBoostingClassifier\", \"HistGradientBoostingClassifier\", \"HistGradientBoostingClassifier\", \"HistGradientBoostingClassifier\", \"HistGradientBoostingClassifier\", \"HistGradientBoostingClassifier\", \"HistGradientBoostingClassifier\", \"HistGradientBoostingClassifier\", \"HistGradientBoostingClassifier\", \"HistGradientBoostingClassifier\", \"HistGradientBoostingClassifier\", \"HistGradientBoostingClassifier\", \"HistGradientBoostingClassifier\", \"HistGradientBoostingClassifier\", \"HistGradientBoostingClassifier\", \"HistGradientBoostingClassifier\", \"HistGradientBoostingClassifier\", \"HistGradientBoostingClassifier\", \"HistGradientBoostingClassifier\", \"HistGradientBoostingClassifier\", \"HistGradientBoostingClassifier\", \"HistGradientBoostingClassifier\", \"HistGradientBoostingClassifier\", \"HistGradientBoostingClassifier\"], \"legendgroup\": \"HistGradientBoostingClassifier\", \"line\": {\"color\": \"#46bac2\", \"dash\": \"solid\", \"width\": 2}, \"mode\": \"lines\", \"name\": \"HistGradientBoostingClassifier\", \"opacity\": 1, \"orientation\": \"v\", \"showlegend\": false, \"type\": \"scatter\", \"x\": [-1.1850114387250053, -1.1227817519999792, -1.0605520652749532, -0.9983223785499272, -0.9360926918249012, -0.8738630050998752, -0.8116333183748492, -0.7494036316498232, -0.6871739449247971, -0.6249442581997712, -0.5627145714747451, -0.5004848847497191, -0.43825519802469315, -0.3760255112996671, -0.31379582457464106, -0.2515661378496151, -0.18933645112458908, -0.12710676439956314, -0.0648770776745371, -0.0026473909495110526, 0.05958229577551499, 0.12181198250054104, 0.18404166922556708, 0.2462713559505929, 0.30850104267561895, 0.370730729400645, 0.43296041612567104, 0.4951901028506971, 0.5574197895757231, 0.619649476300749, 0.681879163025775, 0.744108849750801, 0.8063385364758271, 0.8685682232008529, 0.930797909925879, 0.993027596650905, 1.055257283375931, 1.117486970100957, 1.1797166568259831, 1.2419463435510092, 1.3041760302760352, 1.3664057170010613, 1.4286354037260873, 1.4908650904511134, 1.5530947771761394, 1.615324463901165, 1.677554150626191, 1.739783837351217, 1.8020135240762432, 1.8642432108012692, 1.9264728975262952, 1.9887025842513213, 2.0509322709763476, 2.113161957701373, 2.1753916444263997, 2.2376213311514253, 2.2998510178764517, 2.3620807046014773, 2.424310391326503, 2.4865400780515294, 2.548769764776555, 2.6109994515015815, 2.673229138226607, 2.7354588249516336, 2.797688511676659, 2.8599181984016857, 2.9221478851267113, 2.984377571851738, 3.0466072585767634, 3.10883694530179, 3.1710666320268155, 3.233296318751842, 3.2955260054768676, 3.357755692201894, 3.4199853789269197, 3.482215065651946, 3.5444447523769718, 3.6066744391019974, 3.668904125827024, 3.7311338125520495, 3.793363499277076, 3.8555931860021015, 3.917822872727128, 3.9800525594521536, 4.04228224617718, 4.104511932902206, 4.166741619627232, 4.228971306352258, 4.291200993077284, 4.35343067980231, 4.4156603665273355, 4.477890053252362, 4.540119739977388, 4.602349426702414, 4.66457911342744, 4.726808800152466, 4.789038486877492, 4.851268173602518, 4.913497860327544, 4.97572754705257, 5.037957233777596], \"xaxis\": \"x4\", \"y\": [0.47959630907066847, 0.35323563029583355, 0.35323563029583355, 0.35320896227734555, 0.3496960448627276, 0.3490608501179296, 0.3480106805109263, 0.34249726478589687, 0.3422057829359412, 0.33715494060596, 0.3271628279845141, 0.32557668310561283, 0.3215550630395803, 0.32151162843787134, 0.3131046133556782, 0.3131046133556782, 0.3130315510688629, 0.3123431549982458, 0.31111141135417475, 0.3078823114520174, 0.3075088787584727, 0.30668080367569894, 0.30631930235139954, 0.3049494181214489, 0.30484553521061253, 0.30464899979706617, 0.3045637283563534, 0.30431045554627706, 0.30304901003552137, 0.3029092329117616, 0.3029092329117616, 0.3016826937475713, 0.3016826937475713, 0.30101324201556634, 0.30099267881234826, 0.30099267881234826, 0.30099267881234826, 0.30099267881234826, 0.299983780037507, 0.29998211493703514, 0.29998211493703514, 0.29998211493703514, 0.29998211493703514, 0.29992276069542817, 0.2995755646582676, 0.2995755646582676, 0.29884844467016036, 0.29870738054118195, 0.2982550823745134, 0.29653854142130637, 0.29653854142130637, 0.29653854142130637, 0.29286725329540353, 0.29190357783945375, 0.29049143074699596, 0.29049143074699596, 0.2550291460527872, 0.2550291460527872, 0.2550291460527872, 0.2550291460527872, 0.2550291460527872, 0.2550291460527872, 0.2550291460527872, 0.2550291460527872, 0.2550291460527872, 0.2550291460527872, 0.2550291460527872, 0.2550291460527872, 0.2550291460527872, 0.2550291460527872, 0.2550291460527872, 0.2550291460527872, 0.2550291460527872, 0.2550291460527872, 0.2550291460527872, 0.2550291460527872, 0.2550291460527872, 0.2550291460527872, 0.2550291460527872, 0.2550291460527872, 0.2550291460527872, 0.2550291460527872, 0.2550291460527872, 0.2550291460527872, 0.2550291460527872, 0.2550291460527872, 0.2550291460527872, 0.2550291460527872, 0.2550291460527872, 0.2550291460527872, 0.2550291460527872, 0.2550291460527872, 0.2550291460527872, 0.2550291460527872, 0.2550291460527872, 0.2550291460527872, 0.2550291460527872, 0.2550291460527872, 0.2550291460527872, 0.2550291460527872, 0.2550291460527872], \"yaxis\": \"y4\"}, {\"customdata\": [[0.313065263268514, \"HistGradientBoostingClassifier\", \"2\"], [0.313065263268514, \"HistGradientBoostingClassifier\", \"2\"], [0.313065263268514, \"HistGradientBoostingClassifier\", \"2\"], [0.313065263268514, \"HistGradientBoostingClassifier\", \"2\"], [0.313065263268514, \"HistGradientBoostingClassifier\", \"2\"], [0.313065263268514, \"HistGradientBoostingClassifier\", \"2\"], [0.313065263268514, \"HistGradientBoostingClassifier\", \"2\"], [0.313065263268514, \"HistGradientBoostingClassifier\", \"2\"], [0.313065263268514, \"HistGradientBoostingClassifier\", \"2\"], [0.313065263268514, \"HistGradientBoostingClassifier\", \"2\"], [0.313065263268514, \"HistGradientBoostingClassifier\", \"2\"], [0.313065263268514, \"HistGradientBoostingClassifier\", \"2\"], [0.313065263268514, \"HistGradientBoostingClassifier\", \"2\"], [0.313065263268514, \"HistGradientBoostingClassifier\", \"2\"], [0.313065263268514, \"HistGradientBoostingClassifier\", \"2\"], [0.313065263268514, \"HistGradientBoostingClassifier\", \"2\"], [0.313065263268514, \"HistGradientBoostingClassifier\", \"2\"], [0.313065263268514, \"HistGradientBoostingClassifier\", \"2\"], [0.313065263268514, \"HistGradientBoostingClassifier\", \"2\"], [0.313065263268514, \"HistGradientBoostingClassifier\", \"2\"], [0.313065263268514, \"HistGradientBoostingClassifier\", \"2\"], [0.313065263268514, \"HistGradientBoostingClassifier\", \"2\"], [0.313065263268514, \"HistGradientBoostingClassifier\", \"2\"], [0.313065263268514, \"HistGradientBoostingClassifier\", \"2\"], [0.313065263268514, \"HistGradientBoostingClassifier\", \"2\"], [0.313065263268514, \"HistGradientBoostingClassifier\", \"2\"], [0.313065263268514, \"HistGradientBoostingClassifier\", \"2\"], [0.313065263268514, \"HistGradientBoostingClassifier\", \"2\"], [0.313065263268514, \"HistGradientBoostingClassifier\", \"2\"], [0.313065263268514, \"HistGradientBoostingClassifier\", \"2\"], [0.313065263268514, \"HistGradientBoostingClassifier\", \"2\"], [0.313065263268514, \"HistGradientBoostingClassifier\", \"2\"], [0.313065263268514, \"HistGradientBoostingClassifier\", \"2\"], [0.313065263268514, \"HistGradientBoostingClassifier\", \"2\"], [0.313065263268514, \"HistGradientBoostingClassifier\", \"2\"], [0.313065263268514, \"HistGradientBoostingClassifier\", \"2\"], [0.313065263268514, \"HistGradientBoostingClassifier\", \"2\"], [0.313065263268514, \"HistGradientBoostingClassifier\", \"2\"], [0.313065263268514, \"HistGradientBoostingClassifier\", \"2\"], [0.313065263268514, \"HistGradientBoostingClassifier\", \"2\"], [0.313065263268514, \"HistGradientBoostingClassifier\", \"2\"], [0.313065263268514, \"HistGradientBoostingClassifier\", \"2\"], [0.313065263268514, \"HistGradientBoostingClassifier\", \"2\"], [0.313065263268514, \"HistGradientBoostingClassifier\", \"2\"], [0.313065263268514, \"HistGradientBoostingClassifier\", \"2\"], [0.313065263268514, \"HistGradientBoostingClassifier\", \"2\"], [0.313065263268514, \"HistGradientBoostingClassifier\", \"2\"], [0.313065263268514, \"HistGradientBoostingClassifier\", \"2\"], [0.313065263268514, \"HistGradientBoostingClassifier\", \"2\"], [0.313065263268514, \"HistGradientBoostingClassifier\", \"2\"], [0.313065263268514, \"HistGradientBoostingClassifier\", \"2\"], [0.313065263268514, \"HistGradientBoostingClassifier\", \"2\"], [0.313065263268514, \"HistGradientBoostingClassifier\", \"2\"], [0.313065263268514, \"HistGradientBoostingClassifier\", \"2\"], [0.313065263268514, \"HistGradientBoostingClassifier\", \"2\"], [0.313065263268514, \"HistGradientBoostingClassifier\", \"2\"], [0.313065263268514, \"HistGradientBoostingClassifier\", \"2\"], [0.313065263268514, \"HistGradientBoostingClassifier\", \"2\"], [0.313065263268514, \"HistGradientBoostingClassifier\", \"2\"], [0.313065263268514, \"HistGradientBoostingClassifier\", \"2\"], [0.313065263268514, \"HistGradientBoostingClassifier\", \"2\"], [0.313065263268514, \"HistGradientBoostingClassifier\", \"2\"], [0.313065263268514, \"HistGradientBoostingClassifier\", \"2\"], [0.313065263268514, \"HistGradientBoostingClassifier\", \"2\"], [0.313065263268514, \"HistGradientBoostingClassifier\", \"2\"], [0.313065263268514, \"HistGradientBoostingClassifier\", \"2\"], [0.313065263268514, \"HistGradientBoostingClassifier\", \"2\"], [0.313065263268514, \"HistGradientBoostingClassifier\", \"2\"], [0.313065263268514, \"HistGradientBoostingClassifier\", \"2\"], [0.313065263268514, \"HistGradientBoostingClassifier\", \"2\"], [0.313065263268514, \"HistGradientBoostingClassifier\", \"2\"], [0.313065263268514, \"HistGradientBoostingClassifier\", \"2\"], [0.313065263268514, \"HistGradientBoostingClassifier\", \"2\"], [0.313065263268514, \"HistGradientBoostingClassifier\", \"2\"], [0.313065263268514, \"HistGradientBoostingClassifier\", \"2\"], [0.313065263268514, \"HistGradientBoostingClassifier\", \"2\"], [0.313065263268514, \"HistGradientBoostingClassifier\", \"2\"], [0.313065263268514, \"HistGradientBoostingClassifier\", \"2\"], [0.313065263268514, \"HistGradientBoostingClassifier\", \"2\"], [0.313065263268514, \"HistGradientBoostingClassifier\", \"2\"], [0.313065263268514, \"HistGradientBoostingClassifier\", \"2\"], [0.313065263268514, \"HistGradientBoostingClassifier\", \"2\"], [0.313065263268514, \"HistGradientBoostingClassifier\", \"2\"], [0.313065263268514, \"HistGradientBoostingClassifier\", \"2\"], [0.313065263268514, \"HistGradientBoostingClassifier\", \"2\"], [0.313065263268514, \"HistGradientBoostingClassifier\", \"2\"], [0.313065263268514, \"HistGradientBoostingClassifier\", \"2\"], [0.313065263268514, \"HistGradientBoostingClassifier\", \"2\"], [0.313065263268514, \"HistGradientBoostingClassifier\", \"2\"], [0.313065263268514, \"HistGradientBoostingClassifier\", \"2\"], [0.313065263268514, \"HistGradientBoostingClassifier\", \"2\"], [0.313065263268514, \"HistGradientBoostingClassifier\", \"2\"], [0.313065263268514, \"HistGradientBoostingClassifier\", \"2\"], [0.313065263268514, \"HistGradientBoostingClassifier\", \"2\"], [0.313065263268514, \"HistGradientBoostingClassifier\", \"2\"], [0.313065263268514, \"HistGradientBoostingClassifier\", \"2\"], [0.313065263268514, \"HistGradientBoostingClassifier\", \"2\"], [0.313065263268514, \"HistGradientBoostingClassifier\", \"2\"], [0.313065263268514, \"HistGradientBoostingClassifier\", \"2\"], [0.313065263268514, \"HistGradientBoostingClassifier\", \"2\"], [0.313065263268514, \"HistGradientBoostingClassifier\", \"2\"]], \"hovertemplate\": \"<b>%{hovertext}</b><br><br>prediction=%{y:.3f}<br>mean_prediction=%{customdata[0]:.3f}<extra></extra>\", \"hovertext\": [\"HistGradientBoostingClassifier\", \"HistGradientBoostingClassifier\", \"HistGradientBoostingClassifier\", \"HistGradientBoostingClassifier\", \"HistGradientBoostingClassifier\", \"HistGradientBoostingClassifier\", \"HistGradientBoostingClassifier\", \"HistGradientBoostingClassifier\", \"HistGradientBoostingClassifier\", \"HistGradientBoostingClassifier\", \"HistGradientBoostingClassifier\", \"HistGradientBoostingClassifier\", \"HistGradientBoostingClassifier\", \"HistGradientBoostingClassifier\", \"HistGradientBoostingClassifier\", \"HistGradientBoostingClassifier\", \"HistGradientBoostingClassifier\", \"HistGradientBoostingClassifier\", \"HistGradientBoostingClassifier\", \"HistGradientBoostingClassifier\", \"HistGradientBoostingClassifier\", \"HistGradientBoostingClassifier\", \"HistGradientBoostingClassifier\", \"HistGradientBoostingClassifier\", \"HistGradientBoostingClassifier\", \"HistGradientBoostingClassifier\", \"HistGradientBoostingClassifier\", \"HistGradientBoostingClassifier\", \"HistGradientBoostingClassifier\", \"HistGradientBoostingClassifier\", \"HistGradientBoostingClassifier\", \"HistGradientBoostingClassifier\", \"HistGradientBoostingClassifier\", \"HistGradientBoostingClassifier\", \"HistGradientBoostingClassifier\", \"HistGradientBoostingClassifier\", \"HistGradientBoostingClassifier\", \"HistGradientBoostingClassifier\", \"HistGradientBoostingClassifier\", \"HistGradientBoostingClassifier\", \"HistGradientBoostingClassifier\", \"HistGradientBoostingClassifier\", \"HistGradientBoostingClassifier\", \"HistGradientBoostingClassifier\", \"HistGradientBoostingClassifier\", \"HistGradientBoostingClassifier\", \"HistGradientBoostingClassifier\", \"HistGradientBoostingClassifier\", \"HistGradientBoostingClassifier\", \"HistGradientBoostingClassifier\", \"HistGradientBoostingClassifier\", \"HistGradientBoostingClassifier\", \"HistGradientBoostingClassifier\", \"HistGradientBoostingClassifier\", \"HistGradientBoostingClassifier\", \"HistGradientBoostingClassifier\", \"HistGradientBoostingClassifier\", \"HistGradientBoostingClassifier\", \"HistGradientBoostingClassifier\", \"HistGradientBoostingClassifier\", \"HistGradientBoostingClassifier\", \"HistGradientBoostingClassifier\", \"HistGradientBoostingClassifier\", \"HistGradientBoostingClassifier\", \"HistGradientBoostingClassifier\", \"HistGradientBoostingClassifier\", \"HistGradientBoostingClassifier\", \"HistGradientBoostingClassifier\", \"HistGradientBoostingClassifier\", \"HistGradientBoostingClassifier\", \"HistGradientBoostingClassifier\", \"HistGradientBoostingClassifier\", \"HistGradientBoostingClassifier\", \"HistGradientBoostingClassifier\", \"HistGradientBoostingClassifier\", \"HistGradientBoostingClassifier\", \"HistGradientBoostingClassifier\", \"HistGradientBoostingClassifier\", \"HistGradientBoostingClassifier\", \"HistGradientBoostingClassifier\", \"HistGradientBoostingClassifier\", \"HistGradientBoostingClassifier\", \"HistGradientBoostingClassifier\", \"HistGradientBoostingClassifier\", \"HistGradientBoostingClassifier\", \"HistGradientBoostingClassifier\", \"HistGradientBoostingClassifier\", \"HistGradientBoostingClassifier\", \"HistGradientBoostingClassifier\", \"HistGradientBoostingClassifier\", \"HistGradientBoostingClassifier\", \"HistGradientBoostingClassifier\", \"HistGradientBoostingClassifier\", \"HistGradientBoostingClassifier\", \"HistGradientBoostingClassifier\", \"HistGradientBoostingClassifier\", \"HistGradientBoostingClassifier\", \"HistGradientBoostingClassifier\", \"HistGradientBoostingClassifier\", \"HistGradientBoostingClassifier\", \"HistGradientBoostingClassifier\"], \"legendgroup\": \"HistGradientBoostingClassifier\", \"line\": {\"color\": \"#46bac2\", \"dash\": \"solid\", \"width\": 2}, \"mode\": \"lines\", \"name\": \"HistGradientBoostingClassifier\", \"opacity\": 1, \"orientation\": \"v\", \"showlegend\": false, \"type\": \"scatter\", \"x\": [-1.1879384801358557, -1.1260888087465841, -1.0642391373573128, -1.0023894659680412, -0.9405397945787697, -0.8786901231894982, -0.8168404518002268, -0.7549907804109552, -0.6931411090216837, -0.6312914376324122, -0.5694417662431408, -0.5075920948538692, -0.4457424234645978, -0.38389275207532625, -0.3220430806860548, -0.26019340929678325, -0.1983437379075118, -0.13649406651824036, -0.07464439512896881, -0.012794723739697256, 0.04905494764957408, 0.11090461903884563, 0.17275429042811719, 0.23460396181738874, 0.29645363320666007, 0.3583033045959316, 0.4201529759852032, 0.4820026473744745, 0.5438523187637461, 0.6057019901530176, 0.6675516615422892, 0.7294013329315605, 0.7912510043208321, 0.8531006757101036, 0.914950347099375, 0.9768000184886467, 1.038649689877918, 1.1004993612671894, 1.1623490326564612, 1.2241987040457325, 1.2860483754350038, 1.3478980468242756, 1.409747718213547, 1.4715973896028183, 1.53344706099209, 1.5952967323813614, 1.6571464037706332, 1.7189960751599045, 1.7808457465491758, 1.8426954179384476, 1.904545089327719, 1.9663947607169903, 2.028244432106262, 2.0900941034955336, 2.1519437748848045, 2.2137934462740763, 2.275643117663348, 2.337492789052619, 2.3993424604418907, 2.4611921318311625, 2.5230418032204343, 2.584891474609705, 2.646741145998977, 2.7085908173882487, 2.7704404887775196, 2.8322901601667914, 2.894139831556063, 2.955989502945335, 3.017839174334606, 3.0796888457238776, 3.1415385171131494, 3.2033881885024202, 3.265237859891692, 3.327087531280964, 3.3889372026702347, 3.4507868740595065, 3.5126365454487782, 3.574486216838049, 3.636335888227321, 3.6981855596165927, 3.7600352310058636, 3.8218849023951353, 3.883734573784407, 3.945584245173678, 4.00743391656295, 4.069283587952222, 4.1311332593414924, 4.192982930730764, 4.254832602120036, 4.316682273509307, 4.378531944898579, 4.44038161628785, 4.502231287677122, 4.564080959066393, 4.625930630455665, 4.687780301844937, 4.7496299732342075, 4.811479644623479, 4.873329316012751, 4.935178987402022, 4.997028658791294], \"xaxis\": \"x\", \"y\": [0.6689883816407571, 0.6689883816407571, 0.6689883816407571, 0.6689883816407571, 0.605152350155841, 0.6039749079862348, 0.5964392626760506, 0.5864836891046405, 0.46512534208050726, 0.4088025352990889, 0.31758752297905685, 0.3175780252718447, 0.30222328200789844, 0.2843373392305864, 0.28212538331912435, 0.27267243632596017, 0.27235502145430396, 0.27235502145430396, 0.27235502145430396, 0.261403737467602, 0.2536626656668566, 0.2536626656668566, 0.25301813385661387, 0.20139505804281252, 0.1733476716612576, 0.1733476716612576, 0.1733476716612576, 0.16932647610771984, 0.1691144647802899, 0.1680274995361023, 0.1680090363206982, 0.1679773266334656, 0.1679773266334656, 0.16793875992684945, 0.16793875992684945, 0.16552295430894842, 0.16552295430894842, 0.16552295430894842, 0.16552295430894842, 0.16496097413909702, 0.16496097413909702, 0.16496097413909702, 0.16496097413909702, 0.16496097413909702, 0.16496097413909702, 0.16255570722630525, 0.16255570722630525, 0.16255570722630525, 0.16255570722630525, 0.16255570722630525, 0.16255570722630525, 0.16255570722630525, 0.16255570722630525, 0.16255570722630525, 0.16255570722630525, 0.16255570722630525, 0.16255570722630525, 0.16255570722630525, 0.16255570722630525, 0.16255570722630525, 0.16010921381754542, 0.16010921381754542, 0.1127841836275581, 0.1127841836275581, 0.1127841836275581, 0.1127841836275581, 0.1127841836275581, 0.1127841836275581, 0.1127841836275581, 0.1127841836275581, 0.1127841836275581, 0.1127841836275581, 0.1127841836275581, 0.1127841836275581, 0.1127841836275581, 0.1127841836275581, 0.1127841836275581, 0.1127841836275581, 0.1127841836275581, 0.1127841836275581, 0.1127841836275581, 0.1127841836275581, 0.1127841836275581, 0.1127841836275581, 0.1127841836275581, 0.1127841836275581, 0.1127841836275581, 0.1127841836275581, 0.1127841836275581, 0.1127841836275581, 0.1127841836275581, 0.1127841836275581, 0.1127841836275581, 0.1127841836275581, 0.1127841836275581, 0.1127841836275581, 0.1127841836275581, 0.1127841836275581, 0.1127841836275581, 0.1127841836275581, 0.1127841836275581], \"yaxis\": \"y\"}],                        {\"annotations\": [{\"font\": {\"size\": 13}, \"showarrow\": false, \"text\": \"2\", \"x\": 0.2375, \"xanchor\": \"center\", \"xref\": \"paper\", \"y\": 0.425, \"yanchor\": \"bottom\", \"yref\": \"paper\"}, {\"font\": {\"size\": 13}, \"showarrow\": false, \"text\": \"0\", \"x\": 0.2375, \"xanchor\": \"center\", \"xref\": \"paper\", \"y\": 1.0, \"yanchor\": \"bottom\", \"yref\": \"paper\"}, {\"font\": {\"size\": 13}, \"showarrow\": false, \"text\": \"1\", \"x\": 0.7625, \"xanchor\": \"center\", \"xref\": \"paper\", \"y\": 1.0, \"yanchor\": \"bottom\", \"yref\": \"paper\"}, {\"font\": {\"size\": 13}, \"showarrow\": false, \"text\": \"prediction\", \"textangle\": -90, \"x\": -0.07, \"xref\": \"paper\", \"y\": 0.5, \"yref\": \"paper\"}], \"font\": {\"color\": \"#371ea3\"}, \"height\": 829, \"hovermode\": \"x unified\", \"legend\": {\"font\": {\"size\": 11}, \"itemsizing\": \"constant\", \"orientation\": \"h\", \"title\": {\"font\": {\"size\": 12}, \"text\": \"label\"}, \"tracegroupgap\": 0, \"x\": 1, \"xanchor\": \"right\", \"y\": 1.0361881785283473, \"yanchor\": \"bottom\"}, \"margin\": {\"b\": 71, \"r\": 30, \"t\": 78}, \"template\": {\"data\": {\"scatter\": [{\"type\": \"scatter\"}]}}, \"title\": {\"font\": {\"size\": 16}, \"text\": \"Aggregated Profiles\", \"x\": 0.15}, \"xaxis\": {\"anchor\": \"y\", \"automargin\": true, \"domain\": [0.0, 0.475], \"fixedrange\": true, \"gridwidth\": 2, \"showticklabels\": true, \"tickcolor\": \"white\", \"ticklen\": 3, \"ticks\": \"outside\", \"title\": {\"text\": \"\"}, \"type\": \"linear\", \"zeroline\": false}, \"xaxis2\": {\"anchor\": \"y2\", \"automargin\": true, \"domain\": [0.525, 1.0], \"fixedrange\": true, \"gridwidth\": 2, \"showticklabels\": true, \"tickcolor\": \"white\", \"ticklen\": 3, \"ticks\": \"outside\", \"title\": {\"text\": \"\"}, \"type\": \"linear\", \"zeroline\": false}, \"xaxis3\": {\"anchor\": \"y3\", \"automargin\": true, \"domain\": [0.0, 0.475], \"fixedrange\": true, \"gridwidth\": 2, \"showticklabels\": true, \"tickcolor\": \"white\", \"ticklen\": 3, \"ticks\": \"outside\", \"title\": {\"text\": \"\"}, \"type\": \"linear\", \"zeroline\": false}, \"xaxis4\": {\"anchor\": \"y4\", \"automargin\": true, \"domain\": [0.525, 1.0], \"fixedrange\": true, \"gridwidth\": 2, \"showticklabels\": true, \"tickcolor\": \"white\", \"ticklen\": 3, \"ticks\": \"outside\", \"title\": {\"text\": \"\"}, \"type\": \"linear\", \"zeroline\": false}, \"yaxis\": {\"anchor\": \"x\", \"automargin\": true, \"domain\": [0.0, 0.425], \"fixedrange\": true, \"gridwidth\": 2, \"range\": [0.050292244586179445, 0.7341152307221651], \"tickcolor\": \"white\", \"ticklen\": 3, \"ticks\": \"outside\", \"title\": {\"text\": \"\"}, \"type\": \"linear\", \"zeroline\": false}, \"yaxis2\": {\"anchor\": \"x2\", \"automargin\": true, \"domain\": [0.0, 0.425], \"fixedrange\": true, \"gridwidth\": 2, \"matches\": \"y\", \"range\": [0.050292244586179445, 0.7341152307221651], \"showticklabels\": false, \"tickcolor\": \"white\", \"ticklen\": 3, \"ticks\": \"outside\", \"title\": {\"text\": \"\"}, \"type\": \"linear\", \"zeroline\": false}, \"yaxis3\": {\"anchor\": \"x3\", \"automargin\": true, \"domain\": [0.575, 1.0], \"fixedrange\": true, \"gridwidth\": 2, \"matches\": \"y\", \"range\": [0.050292244586179445, 0.7341152307221651], \"tickcolor\": \"white\", \"ticklen\": 3, \"ticks\": \"outside\", \"title\": {\"text\": \"\"}, \"type\": \"linear\", \"zeroline\": false}, \"yaxis4\": {\"anchor\": \"x4\", \"automargin\": true, \"domain\": [0.575, 1.0], \"fixedrange\": true, \"gridwidth\": 2, \"matches\": \"y\", \"range\": [0.050292244586179445, 0.7341152307221651], \"showticklabels\": false, \"tickcolor\": \"white\", \"ticklen\": 3, \"ticks\": \"outside\", \"title\": {\"text\": \"\"}, \"type\": \"linear\", \"zeroline\": false}},                        {\"displaylogo\": false, \"staticPlot\": false, \"toImageButtonOptions\": {\"height\": null, \"width\": null}, \"modeBarButtonsToRemove\": [\"sendDataToCloud\", \"lasso2d\", \"autoScale2d\", \"select2d\", \"zoom2d\", \"pan2d\", \"zoomIn2d\", \"zoomOut2d\", \"resetScale2d\", \"toggleSpikelines\", \"hoverCompareCartesian\", \"hoverClosestCartesian\"], \"responsive\": true}                    ).then(function(){\n",
       "                            \n",
       "var gd = document.getElementById('2a27c723-54e2-4bbb-86ac-391fcc76c4c7');\n",
       "var x = new MutationObserver(function (mutations, observer) {{\n",
       "        var display = window.getComputedStyle(gd).display;\n",
       "        if (!display || display === 'none') {{\n",
       "            console.log([gd, 'removed!']);\n",
       "            Plotly.purge(gd);\n",
       "            observer.disconnect();\n",
       "        }}\n",
       "}});\n",
       "\n",
       "// Listen for the removal of the full notebook cells\n",
       "var notebookContainer = gd.closest('#notebook-container');\n",
       "if (notebookContainer) {{\n",
       "    x.observe(notebookContainer, {childList: true});\n",
       "}}\n",
       "\n",
       "// Listen for the clearing of the current output cell\n",
       "var outputEl = gd.closest('.output');\n",
       "if (outputEl) {{\n",
       "    x.observe(outputEl, {childList: true});\n",
       "}}\n",
       "\n",
       "                        })                };                });            </script>        </div>"
      ]
     },
     "metadata": {},
     "output_type": "display_data"
    }
   ],
   "source": [
    "exp.model_profile().plot()"
   ]
  },
  {
   "cell_type": "code",
   "execution_count": 17,
   "metadata": {
    "pycharm": {
     "is_executing": true
    }
   },
   "outputs": [
    {
     "data": {
      "application/vnd.plotly.v1+json": {
       "config": {
        "displaylogo": false,
        "modeBarButtonsToRemove": [
         "sendDataToCloud",
         "lasso2d",
         "autoScale2d",
         "select2d",
         "zoom2d",
         "pan2d",
         "zoomIn2d",
         "zoomOut2d",
         "resetScale2d",
         "toggleSpikelines",
         "hoverCompareCartesian",
         "hoverClosestCartesian"
        ],
        "plotlyServerURL": "https://plot.ly",
        "staticPlot": false,
        "toImageButtonOptions": {
         "height": null,
         "width": null
        }
       },
       "data": [
        {
         "alignmentgroup": "True",
         "customdata": [
          [
           "other",
           0.696,
           "HistGradientBoostingClassifier"
          ]
         ],
         "hovertemplate": "<b>%{customdata[2]}</b><br>Subgroup: %{customdata[0]}<br>Score: %{customdata[1]}<br><extra></extra>",
         "legendgroup": "HistGradientBoostingClassifier",
         "marker": {
          "color": "#46bac2"
         },
         "name": "HistGradientBoostingClassifier",
         "offsetgroup": "HistGradientBoostingClassifier",
         "orientation": "h",
         "showlegend": true,
         "textposition": "auto",
         "type": "bar",
         "x": [
          -0.30434782608695643
         ],
         "xaxis": "x5",
         "y": [
          0.5
         ],
         "yaxis": "y5"
        },
        {
         "alignmentgroup": "True",
         "customdata": [
          [
           "other",
           0.48,
           "HistGradientBoostingClassifier"
          ]
         ],
         "hovertemplate": "<b>%{customdata[2]}</b><br>Subgroup: %{customdata[0]}<br>Score: %{customdata[1]}<br><extra></extra>",
         "legendgroup": "HistGradientBoostingClassifier",
         "marker": {
          "color": "#46bac2"
         },
         "name": "HistGradientBoostingClassifier",
         "offsetgroup": "HistGradientBoostingClassifier",
         "orientation": "h",
         "showlegend": false,
         "textposition": "auto",
         "type": "bar",
         "x": [
          -0.5195652173913043
         ],
         "xaxis": "x4",
         "y": [
          0.5
         ],
         "yaxis": "y4"
        },
        {
         "alignmentgroup": "True",
         "customdata": [
          [
           "other",
           4.488,
           "HistGradientBoostingClassifier"
          ]
         ],
         "hovertemplate": "<b>%{customdata[2]}</b><br>Subgroup: %{customdata[0]}<br>Score: %{customdata[1]}<br><extra></extra>",
         "legendgroup": "HistGradientBoostingClassifier",
         "marker": {
          "color": "#46bac2"
         },
         "name": "HistGradientBoostingClassifier",
         "offsetgroup": "HistGradientBoostingClassifier",
         "orientation": "h",
         "showlegend": false,
         "textposition": "auto",
         "type": "bar",
         "x": [
          3.4883720930232567
         ],
         "xaxis": "x3",
         "y": [
          0.5
         ],
         "yaxis": "y3"
        },
        {
         "alignmentgroup": "True",
         "customdata": [
          [
           "other",
           0.892,
           "HistGradientBoostingClassifier"
          ]
         ],
         "hovertemplate": "<b>%{customdata[2]}</b><br>Subgroup: %{customdata[0]}<br>Score: %{customdata[1]}<br><extra></extra>",
         "legendgroup": "HistGradientBoostingClassifier",
         "marker": {
          "color": "#46bac2"
         },
         "name": "HistGradientBoostingClassifier",
         "offsetgroup": "HistGradientBoostingClassifier",
         "orientation": "h",
         "showlegend": false,
         "textposition": "auto",
         "type": "bar",
         "x": [
          -0.10783055198973046
         ],
         "xaxis": "x2",
         "y": [
          0.5
         ],
         "yaxis": "y2"
        },
        {
         "alignmentgroup": "True",
         "customdata": [
          [
           "other",
           0.859,
           "HistGradientBoostingClassifier"
          ]
         ],
         "hovertemplate": "<b>%{customdata[2]}</b><br>Subgroup: %{customdata[0]}<br>Score: %{customdata[1]}<br><extra></extra>",
         "legendgroup": "HistGradientBoostingClassifier",
         "marker": {
          "color": "#46bac2"
         },
         "name": "HistGradientBoostingClassifier",
         "offsetgroup": "HistGradientBoostingClassifier",
         "orientation": "h",
         "showlegend": false,
         "textposition": "auto",
         "type": "bar",
         "x": [
          -0.14089347079037795
         ],
         "xaxis": "x",
         "y": [
          0.5
         ],
         "yaxis": "y"
        }
       ],
       "layout": {
        "annotations": [
         {
          "font": {
           "size": 15
          },
          "showarrow": false,
          "text": "Statistical parity ratio   (TP + FP)/(TP + FP + TN + FN)",
          "x": 0.05,
          "xanchor": "left",
          "xref": "paper",
          "y": 0.144,
          "yanchor": "bottom",
          "yref": "paper"
         },
         {
          "font": {
           "size": 15
          },
          "showarrow": false,
          "text": "Accuracy equality ratio    (TP + TN)/(TP + FP + TN + FN)",
          "x": 0.05,
          "xanchor": "left",
          "xref": "paper",
          "y": 0.358,
          "yanchor": "bottom",
          "yref": "paper"
         },
         {
          "font": {
           "size": 15
          },
          "showarrow": false,
          "text": "Predictive equality ratio   FP/(FP + TN)",
          "x": 0.05,
          "xanchor": "left",
          "xref": "paper",
          "y": 0.572,
          "yanchor": "bottom",
          "yref": "paper"
         },
         {
          "font": {
           "size": 15
          },
          "showarrow": false,
          "text": "Predictive parity ratio     TP/(TP + FP)",
          "x": 0.05,
          "xanchor": "left",
          "xref": "paper",
          "y": 0.7859999999999999,
          "yanchor": "bottom",
          "yref": "paper"
         },
         {
          "font": {
           "size": 15
          },
          "showarrow": false,
          "text": "Equal opportunity ratio     TP/(TP + FN)",
          "x": 0.05,
          "xanchor": "left",
          "xref": "paper",
          "y": 1,
          "yanchor": "bottom",
          "yref": "paper"
         }
        ],
        "barmode": "group",
        "font": {
         "color": "#371ea3"
        },
        "legend": {
         "title": {
          "text": "label"
         },
         "tracegroupgap": 0
        },
        "margin": {
         "b": 71,
         "r": 30,
         "t": 78
        },
        "shapes": [
         {
          "fillcolor": "#f05a71",
          "layer": "below",
          "line": {
           "width": 0
          },
          "opacity": 0.1,
          "type": "rect",
          "x0": 0.25,
          "x1": 3.7,
          "xref": "x",
          "y0": 0,
          "y1": 1,
          "yref": "y"
         },
         {
          "fillcolor": "#f05a71",
          "layer": "below",
          "line": {
           "width": 0
          },
          "opacity": 0.1,
          "type": "rect",
          "x0": -0.5715217391304348,
          "x1": -0.19999999999999996,
          "xref": "x",
          "y0": 0,
          "y1": 1,
          "yref": "y"
         },
         {
          "fillcolor": "#c7f5bf",
          "layer": "below",
          "line": {
           "width": 0
          },
          "opacity": 0.1,
          "type": "rect",
          "x0": -0.19999999999999996,
          "x1": 0.25,
          "xref": "x",
          "y0": 0,
          "y1": 1,
          "yref": "y"
         },
         {
          "line": {
           "color": "#371ea3",
           "width": 1.5
          },
          "type": "line",
          "x0": 0,
          "x1": 0,
          "xref": "x",
          "y0": 0,
          "y1": 1,
          "yref": "y"
         },
         {
          "fillcolor": "#f05a71",
          "layer": "below",
          "line": {
           "width": 0
          },
          "opacity": 0.1,
          "type": "rect",
          "x0": 0.25,
          "x1": 3.7,
          "xref": "x",
          "y0": 0,
          "y1": 1,
          "yref": "y2"
         },
         {
          "fillcolor": "#f05a71",
          "layer": "below",
          "line": {
           "width": 0
          },
          "opacity": 0.1,
          "type": "rect",
          "x0": -0.5715217391304348,
          "x1": -0.19999999999999996,
          "xref": "x",
          "y0": 0,
          "y1": 1,
          "yref": "y2"
         },
         {
          "fillcolor": "#c7f5bf",
          "layer": "below",
          "line": {
           "width": 0
          },
          "opacity": 0.1,
          "type": "rect",
          "x0": -0.19999999999999996,
          "x1": 0.25,
          "xref": "x",
          "y0": 0,
          "y1": 1,
          "yref": "y2"
         },
         {
          "line": {
           "color": "#371ea3",
           "width": 1.5
          },
          "type": "line",
          "x0": 0,
          "x1": 0,
          "xref": "x",
          "y0": 0,
          "y1": 1,
          "yref": "y2"
         },
         {
          "fillcolor": "#f05a71",
          "layer": "below",
          "line": {
           "width": 0
          },
          "opacity": 0.1,
          "type": "rect",
          "x0": 0.25,
          "x1": 3.7,
          "xref": "x",
          "y0": 0,
          "y1": 1,
          "yref": "y3"
         },
         {
          "fillcolor": "#f05a71",
          "layer": "below",
          "line": {
           "width": 0
          },
          "opacity": 0.1,
          "type": "rect",
          "x0": -0.5715217391304348,
          "x1": -0.19999999999999996,
          "xref": "x",
          "y0": 0,
          "y1": 1,
          "yref": "y3"
         },
         {
          "fillcolor": "#c7f5bf",
          "layer": "below",
          "line": {
           "width": 0
          },
          "opacity": 0.1,
          "type": "rect",
          "x0": -0.19999999999999996,
          "x1": 0.25,
          "xref": "x",
          "y0": 0,
          "y1": 1,
          "yref": "y3"
         },
         {
          "line": {
           "color": "#371ea3",
           "width": 1.5
          },
          "type": "line",
          "x0": 0,
          "x1": 0,
          "xref": "x",
          "y0": 0,
          "y1": 1,
          "yref": "y3"
         },
         {
          "fillcolor": "#f05a71",
          "layer": "below",
          "line": {
           "width": 0
          },
          "opacity": 0.1,
          "type": "rect",
          "x0": 0.25,
          "x1": 3.7,
          "xref": "x",
          "y0": 0,
          "y1": 1,
          "yref": "y4"
         },
         {
          "fillcolor": "#f05a71",
          "layer": "below",
          "line": {
           "width": 0
          },
          "opacity": 0.1,
          "type": "rect",
          "x0": -0.5715217391304348,
          "x1": -0.19999999999999996,
          "xref": "x",
          "y0": 0,
          "y1": 1,
          "yref": "y4"
         },
         {
          "fillcolor": "#c7f5bf",
          "layer": "below",
          "line": {
           "width": 0
          },
          "opacity": 0.1,
          "type": "rect",
          "x0": -0.19999999999999996,
          "x1": 0.25,
          "xref": "x",
          "y0": 0,
          "y1": 1,
          "yref": "y4"
         },
         {
          "line": {
           "color": "#371ea3",
           "width": 1.5
          },
          "type": "line",
          "x0": 0,
          "x1": 0,
          "xref": "x",
          "y0": 0,
          "y1": 1,
          "yref": "y4"
         },
         {
          "fillcolor": "#f05a71",
          "layer": "below",
          "line": {
           "width": 0
          },
          "opacity": 0.1,
          "type": "rect",
          "x0": 0.25,
          "x1": 3.7,
          "xref": "x",
          "y0": 0,
          "y1": 1,
          "yref": "y5"
         },
         {
          "fillcolor": "#f05a71",
          "layer": "below",
          "line": {
           "width": 0
          },
          "opacity": 0.1,
          "type": "rect",
          "x0": -0.5715217391304348,
          "x1": -0.19999999999999996,
          "xref": "x",
          "y0": 0,
          "y1": 1,
          "yref": "y5"
         },
         {
          "fillcolor": "#c7f5bf",
          "layer": "below",
          "line": {
           "width": 0
          },
          "opacity": 0.1,
          "type": "rect",
          "x0": -0.19999999999999996,
          "x1": 0.25,
          "xref": "x",
          "y0": 0,
          "y1": 1,
          "yref": "y5"
         },
         {
          "line": {
           "color": "#371ea3",
           "width": 1.5
          },
          "type": "line",
          "x0": 0,
          "x1": 0,
          "xref": "x",
          "y0": 0,
          "y1": 1,
          "yref": "y5"
         }
        ],
        "template": {
         "data": {
          "bar": [
           {
            "error_x": {
             "color": "#2a3f5f"
            },
            "error_y": {
             "color": "#2a3f5f"
            },
            "marker": {
             "line": {
              "color": "white",
              "width": 0.5
             }
            },
            "type": "bar"
           }
          ],
          "barpolar": [
           {
            "marker": {
             "line": {
              "color": "white",
              "width": 0.5
             }
            },
            "type": "barpolar"
           }
          ],
          "carpet": [
           {
            "aaxis": {
             "endlinecolor": "#2a3f5f",
             "gridcolor": "#C8D4E3",
             "linecolor": "#C8D4E3",
             "minorgridcolor": "#C8D4E3",
             "startlinecolor": "#2a3f5f"
            },
            "baxis": {
             "endlinecolor": "#2a3f5f",
             "gridcolor": "#C8D4E3",
             "linecolor": "#C8D4E3",
             "minorgridcolor": "#C8D4E3",
             "startlinecolor": "#2a3f5f"
            },
            "type": "carpet"
           }
          ],
          "choropleth": [
           {
            "colorbar": {
             "outlinewidth": 0,
             "ticks": ""
            },
            "type": "choropleth"
           }
          ],
          "contour": [
           {
            "colorbar": {
             "outlinewidth": 0,
             "ticks": ""
            },
            "colorscale": [
             [
              0,
              "#0d0887"
             ],
             [
              0.1111111111111111,
              "#46039f"
             ],
             [
              0.2222222222222222,
              "#7201a8"
             ],
             [
              0.3333333333333333,
              "#9c179e"
             ],
             [
              0.4444444444444444,
              "#bd3786"
             ],
             [
              0.5555555555555556,
              "#d8576b"
             ],
             [
              0.6666666666666666,
              "#ed7953"
             ],
             [
              0.7777777777777778,
              "#fb9f3a"
             ],
             [
              0.8888888888888888,
              "#fdca26"
             ],
             [
              1,
              "#f0f921"
             ]
            ],
            "type": "contour"
           }
          ],
          "contourcarpet": [
           {
            "colorbar": {
             "outlinewidth": 0,
             "ticks": ""
            },
            "type": "contourcarpet"
           }
          ],
          "heatmap": [
           {
            "colorbar": {
             "outlinewidth": 0,
             "ticks": ""
            },
            "colorscale": [
             [
              0,
              "#0d0887"
             ],
             [
              0.1111111111111111,
              "#46039f"
             ],
             [
              0.2222222222222222,
              "#7201a8"
             ],
             [
              0.3333333333333333,
              "#9c179e"
             ],
             [
              0.4444444444444444,
              "#bd3786"
             ],
             [
              0.5555555555555556,
              "#d8576b"
             ],
             [
              0.6666666666666666,
              "#ed7953"
             ],
             [
              0.7777777777777778,
              "#fb9f3a"
             ],
             [
              0.8888888888888888,
              "#fdca26"
             ],
             [
              1,
              "#f0f921"
             ]
            ],
            "type": "heatmap"
           }
          ],
          "heatmapgl": [
           {
            "colorbar": {
             "outlinewidth": 0,
             "ticks": ""
            },
            "colorscale": [
             [
              0,
              "#0d0887"
             ],
             [
              0.1111111111111111,
              "#46039f"
             ],
             [
              0.2222222222222222,
              "#7201a8"
             ],
             [
              0.3333333333333333,
              "#9c179e"
             ],
             [
              0.4444444444444444,
              "#bd3786"
             ],
             [
              0.5555555555555556,
              "#d8576b"
             ],
             [
              0.6666666666666666,
              "#ed7953"
             ],
             [
              0.7777777777777778,
              "#fb9f3a"
             ],
             [
              0.8888888888888888,
              "#fdca26"
             ],
             [
              1,
              "#f0f921"
             ]
            ],
            "type": "heatmapgl"
           }
          ],
          "histogram": [
           {
            "marker": {
             "colorbar": {
              "outlinewidth": 0,
              "ticks": ""
             }
            },
            "type": "histogram"
           }
          ],
          "histogram2d": [
           {
            "colorbar": {
             "outlinewidth": 0,
             "ticks": ""
            },
            "colorscale": [
             [
              0,
              "#0d0887"
             ],
             [
              0.1111111111111111,
              "#46039f"
             ],
             [
              0.2222222222222222,
              "#7201a8"
             ],
             [
              0.3333333333333333,
              "#9c179e"
             ],
             [
              0.4444444444444444,
              "#bd3786"
             ],
             [
              0.5555555555555556,
              "#d8576b"
             ],
             [
              0.6666666666666666,
              "#ed7953"
             ],
             [
              0.7777777777777778,
              "#fb9f3a"
             ],
             [
              0.8888888888888888,
              "#fdca26"
             ],
             [
              1,
              "#f0f921"
             ]
            ],
            "type": "histogram2d"
           }
          ],
          "histogram2dcontour": [
           {
            "colorbar": {
             "outlinewidth": 0,
             "ticks": ""
            },
            "colorscale": [
             [
              0,
              "#0d0887"
             ],
             [
              0.1111111111111111,
              "#46039f"
             ],
             [
              0.2222222222222222,
              "#7201a8"
             ],
             [
              0.3333333333333333,
              "#9c179e"
             ],
             [
              0.4444444444444444,
              "#bd3786"
             ],
             [
              0.5555555555555556,
              "#d8576b"
             ],
             [
              0.6666666666666666,
              "#ed7953"
             ],
             [
              0.7777777777777778,
              "#fb9f3a"
             ],
             [
              0.8888888888888888,
              "#fdca26"
             ],
             [
              1,
              "#f0f921"
             ]
            ],
            "type": "histogram2dcontour"
           }
          ],
          "mesh3d": [
           {
            "colorbar": {
             "outlinewidth": 0,
             "ticks": ""
            },
            "type": "mesh3d"
           }
          ],
          "parcoords": [
           {
            "line": {
             "colorbar": {
              "outlinewidth": 0,
              "ticks": ""
             }
            },
            "type": "parcoords"
           }
          ],
          "pie": [
           {
            "automargin": true,
            "type": "pie"
           }
          ],
          "scatter": [
           {
            "marker": {
             "colorbar": {
              "outlinewidth": 0,
              "ticks": ""
             }
            },
            "type": "scatter"
           }
          ],
          "scatter3d": [
           {
            "line": {
             "colorbar": {
              "outlinewidth": 0,
              "ticks": ""
             }
            },
            "marker": {
             "colorbar": {
              "outlinewidth": 0,
              "ticks": ""
             }
            },
            "type": "scatter3d"
           }
          ],
          "scattercarpet": [
           {
            "marker": {
             "colorbar": {
              "outlinewidth": 0,
              "ticks": ""
             }
            },
            "type": "scattercarpet"
           }
          ],
          "scattergeo": [
           {
            "marker": {
             "colorbar": {
              "outlinewidth": 0,
              "ticks": ""
             }
            },
            "type": "scattergeo"
           }
          ],
          "scattergl": [
           {
            "marker": {
             "colorbar": {
              "outlinewidth": 0,
              "ticks": ""
             }
            },
            "type": "scattergl"
           }
          ],
          "scattermapbox": [
           {
            "marker": {
             "colorbar": {
              "outlinewidth": 0,
              "ticks": ""
             }
            },
            "type": "scattermapbox"
           }
          ],
          "scatterpolar": [
           {
            "marker": {
             "colorbar": {
              "outlinewidth": 0,
              "ticks": ""
             }
            },
            "type": "scatterpolar"
           }
          ],
          "scatterpolargl": [
           {
            "marker": {
             "colorbar": {
              "outlinewidth": 0,
              "ticks": ""
             }
            },
            "type": "scatterpolargl"
           }
          ],
          "scatterternary": [
           {
            "marker": {
             "colorbar": {
              "outlinewidth": 0,
              "ticks": ""
             }
            },
            "type": "scatterternary"
           }
          ],
          "surface": [
           {
            "colorbar": {
             "outlinewidth": 0,
             "ticks": ""
            },
            "colorscale": [
             [
              0,
              "#0d0887"
             ],
             [
              0.1111111111111111,
              "#46039f"
             ],
             [
              0.2222222222222222,
              "#7201a8"
             ],
             [
              0.3333333333333333,
              "#9c179e"
             ],
             [
              0.4444444444444444,
              "#bd3786"
             ],
             [
              0.5555555555555556,
              "#d8576b"
             ],
             [
              0.6666666666666666,
              "#ed7953"
             ],
             [
              0.7777777777777778,
              "#fb9f3a"
             ],
             [
              0.8888888888888888,
              "#fdca26"
             ],
             [
              1,
              "#f0f921"
             ]
            ],
            "type": "surface"
           }
          ],
          "table": [
           {
            "cells": {
             "fill": {
              "color": "#EBF0F8"
             },
             "line": {
              "color": "white"
             }
            },
            "header": {
             "fill": {
              "color": "#C8D4E3"
             },
             "line": {
              "color": "white"
             }
            },
            "type": "table"
           }
          ]
         },
         "layout": {
          "annotationdefaults": {
           "arrowcolor": "#2a3f5f",
           "arrowhead": 0,
           "arrowwidth": 1
          },
          "autotypenumbers": "strict",
          "coloraxis": {
           "colorbar": {
            "outlinewidth": 0,
            "ticks": ""
           }
          },
          "colorscale": {
           "diverging": [
            [
             0,
             "#8e0152"
            ],
            [
             0.1,
             "#c51b7d"
            ],
            [
             0.2,
             "#de77ae"
            ],
            [
             0.3,
             "#f1b6da"
            ],
            [
             0.4,
             "#fde0ef"
            ],
            [
             0.5,
             "#f7f7f7"
            ],
            [
             0.6,
             "#e6f5d0"
            ],
            [
             0.7,
             "#b8e186"
            ],
            [
             0.8,
             "#7fbc41"
            ],
            [
             0.9,
             "#4d9221"
            ],
            [
             1,
             "#276419"
            ]
           ],
           "sequential": [
            [
             0,
             "#0d0887"
            ],
            [
             0.1111111111111111,
             "#46039f"
            ],
            [
             0.2222222222222222,
             "#7201a8"
            ],
            [
             0.3333333333333333,
             "#9c179e"
            ],
            [
             0.4444444444444444,
             "#bd3786"
            ],
            [
             0.5555555555555556,
             "#d8576b"
            ],
            [
             0.6666666666666666,
             "#ed7953"
            ],
            [
             0.7777777777777778,
             "#fb9f3a"
            ],
            [
             0.8888888888888888,
             "#fdca26"
            ],
            [
             1,
             "#f0f921"
            ]
           ],
           "sequentialminus": [
            [
             0,
             "#0d0887"
            ],
            [
             0.1111111111111111,
             "#46039f"
            ],
            [
             0.2222222222222222,
             "#7201a8"
            ],
            [
             0.3333333333333333,
             "#9c179e"
            ],
            [
             0.4444444444444444,
             "#bd3786"
            ],
            [
             0.5555555555555556,
             "#d8576b"
            ],
            [
             0.6666666666666666,
             "#ed7953"
            ],
            [
             0.7777777777777778,
             "#fb9f3a"
            ],
            [
             0.8888888888888888,
             "#fdca26"
            ],
            [
             1,
             "#f0f921"
            ]
           ]
          },
          "colorway": [
           "#636efa",
           "#EF553B",
           "#00cc96",
           "#ab63fa",
           "#FFA15A",
           "#19d3f3",
           "#FF6692",
           "#B6E880",
           "#FF97FF",
           "#FECB52"
          ],
          "font": {
           "color": "#2a3f5f"
          },
          "geo": {
           "bgcolor": "white",
           "lakecolor": "white",
           "landcolor": "white",
           "showlakes": true,
           "showland": true,
           "subunitcolor": "#C8D4E3"
          },
          "hoverlabel": {
           "align": "left"
          },
          "hovermode": "closest",
          "mapbox": {
           "style": "light"
          },
          "paper_bgcolor": "white",
          "plot_bgcolor": "white",
          "polar": {
           "angularaxis": {
            "gridcolor": "#EBF0F8",
            "linecolor": "#EBF0F8",
            "ticks": ""
           },
           "bgcolor": "white",
           "radialaxis": {
            "gridcolor": "#EBF0F8",
            "linecolor": "#EBF0F8",
            "ticks": ""
           }
          },
          "scene": {
           "xaxis": {
            "backgroundcolor": "white",
            "gridcolor": "#DFE8F3",
            "gridwidth": 2,
            "linecolor": "#EBF0F8",
            "showbackground": true,
            "ticks": "",
            "zerolinecolor": "#EBF0F8"
           },
           "yaxis": {
            "backgroundcolor": "white",
            "gridcolor": "#DFE8F3",
            "gridwidth": 2,
            "linecolor": "#EBF0F8",
            "showbackground": true,
            "ticks": "",
            "zerolinecolor": "#EBF0F8"
           },
           "zaxis": {
            "backgroundcolor": "white",
            "gridcolor": "#DFE8F3",
            "gridwidth": 2,
            "linecolor": "#EBF0F8",
            "showbackground": true,
            "ticks": "",
            "zerolinecolor": "#EBF0F8"
           }
          },
          "shapedefaults": {
           "line": {
            "color": "#2a3f5f"
           }
          },
          "ternary": {
           "aaxis": {
            "gridcolor": "#DFE8F3",
            "linecolor": "#A2B1C6",
            "ticks": ""
           },
           "baxis": {
            "gridcolor": "#DFE8F3",
            "linecolor": "#A2B1C6",
            "ticks": ""
           },
           "bgcolor": "white",
           "caxis": {
            "gridcolor": "#DFE8F3",
            "linecolor": "#A2B1C6",
            "ticks": ""
           }
          },
          "title": {
           "x": 0.05
          },
          "xaxis": {
           "automargin": true,
           "gridcolor": "#EBF0F8",
           "linecolor": "#EBF0F8",
           "ticks": "",
           "title": {
            "standoff": 15
           },
           "zerolinecolor": "#EBF0F8",
           "zerolinewidth": 2
          },
          "yaxis": {
           "automargin": true,
           "gridcolor": "#EBF0F8",
           "linecolor": "#EBF0F8",
           "ticks": "",
           "title": {
            "standoff": 15
           },
           "zerolinecolor": "#EBF0F8",
           "zerolinewidth": 2
          }
         }
        },
        "title": {
         "font": {
          "size": 25
         },
         "text": "Fairness Check",
         "x": 0.5,
         "y": 0.99
        },
        "xaxis": {
         "anchor": "y",
         "domain": [
          0,
          1
         ],
         "range": [
          -0.5715217391304348,
          3.7
         ],
         "ticktext": [
          0,
          0.5,
          1,
          1.5,
          2,
          2.5,
          3,
          3.5,
          4,
          4.5,
          1
         ],
         "tickvals": [
          -1,
          -0.5,
          0,
          0.5,
          1,
          1.5,
          2,
          2.5,
          3,
          3.5,
          0
         ],
         "title": {
          "text": "score"
         }
        },
        "xaxis2": {
         "anchor": "y2",
         "domain": [
          0,
          1
         ],
         "matches": "x",
         "range": [
          -0.5715217391304348,
          3.7
         ],
         "showticklabels": false,
         "ticktext": [
          0,
          0.5,
          1,
          1.5,
          2,
          2.5,
          3,
          3.5,
          4,
          4.5,
          1
         ],
         "tickvals": [
          -1,
          -0.5,
          0,
          0.5,
          1,
          1.5,
          2,
          2.5,
          3,
          3.5,
          0
         ]
        },
        "xaxis3": {
         "anchor": "y3",
         "domain": [
          0,
          1
         ],
         "matches": "x",
         "range": [
          -0.5715217391304348,
          3.7
         ],
         "showticklabels": false,
         "ticktext": [
          0,
          0.5,
          1,
          1.5,
          2,
          2.5,
          3,
          3.5,
          4,
          4.5,
          1
         ],
         "tickvals": [
          -1,
          -0.5,
          0,
          0.5,
          1,
          1.5,
          2,
          2.5,
          3,
          3.5,
          0
         ]
        },
        "xaxis4": {
         "anchor": "y4",
         "domain": [
          0,
          1
         ],
         "matches": "x",
         "range": [
          -0.5715217391304348,
          3.7
         ],
         "showticklabels": false,
         "ticktext": [
          0,
          0.5,
          1,
          1.5,
          2,
          2.5,
          3,
          3.5,
          4,
          4.5,
          1
         ],
         "tickvals": [
          -1,
          -0.5,
          0,
          0.5,
          1,
          1.5,
          2,
          2.5,
          3,
          3.5,
          0
         ]
        },
        "xaxis5": {
         "anchor": "y5",
         "domain": [
          0,
          1
         ],
         "matches": "x",
         "range": [
          -0.5715217391304348,
          3.7
         ],
         "showticklabels": false,
         "ticktext": [
          0,
          0.5,
          1,
          1.5,
          2,
          2.5,
          3,
          3.5,
          4,
          4.5,
          1
         ],
         "tickvals": [
          -1,
          -0.5,
          0,
          0.5,
          1,
          1.5,
          2,
          2.5,
          3,
          3.5,
          0
         ]
        },
        "yaxis": {
         "anchor": "x",
         "domain": [
          0,
          0.144
         ],
         "range": [
          0,
          1
         ],
         "showgrid": false,
         "ticktext": [
          "other"
         ],
         "tickvals": [
          0.5
         ],
         "title": {
          "text": ""
         },
         "zeroline": false
        },
        "yaxis2": {
         "anchor": "x2",
         "domain": [
          0.214,
          0.358
         ],
         "matches": "y",
         "range": [
          0,
          1
         ],
         "showgrid": false,
         "ticktext": [
          "other"
         ],
         "tickvals": [
          0.5
         ],
         "title": {
          "text": ""
         },
         "zeroline": false
        },
        "yaxis3": {
         "anchor": "x3",
         "domain": [
          0.428,
          0.572
         ],
         "matches": "y",
         "range": [
          0,
          1
         ],
         "showgrid": false,
         "ticktext": [
          "other"
         ],
         "tickvals": [
          0.5
         ],
         "title": {
          "text": "subgroup"
         },
         "zeroline": false
        },
        "yaxis4": {
         "anchor": "x4",
         "domain": [
          0.6419999999999999,
          0.7859999999999999
         ],
         "matches": "y",
         "range": [
          0,
          1
         ],
         "showgrid": false,
         "ticktext": [
          "other"
         ],
         "tickvals": [
          0.5
         ],
         "title": {
          "text": ""
         },
         "zeroline": false
        },
        "yaxis5": {
         "anchor": "x5",
         "domain": [
          0.856,
          1
         ],
         "matches": "y",
         "range": [
          0,
          1
         ],
         "showgrid": false,
         "ticktext": [
          "other"
         ],
         "tickvals": [
          0.5
         ],
         "title": {
          "text": ""
         },
         "zeroline": false
        }
       }
      },
      "text/html": [
       "<div>                            <div id=\"b802be9a-a364-46c2-ac4f-2421c2ef9c91\" class=\"plotly-graph-div\" style=\"height:525px; width:100%;\"></div>            <script type=\"text/javascript\">                require([\"plotly\"], function(Plotly) {                    window.PLOTLYENV=window.PLOTLYENV || {};                                    if (document.getElementById(\"b802be9a-a364-46c2-ac4f-2421c2ef9c91\")) {                    Plotly.newPlot(                        \"b802be9a-a364-46c2-ac4f-2421c2ef9c91\",                        [{\"alignmentgroup\": \"True\", \"customdata\": [[\"other\", 0.696, \"HistGradientBoostingClassifier\"]], \"hovertemplate\": \"<b>%{customdata[2]}</b><br>Subgroup: %{customdata[0]}<br>Score: %{customdata[1]}<br><extra></extra>\", \"legendgroup\": \"HistGradientBoostingClassifier\", \"marker\": {\"color\": \"#46bac2\"}, \"name\": \"HistGradientBoostingClassifier\", \"offsetgroup\": \"HistGradientBoostingClassifier\", \"orientation\": \"h\", \"showlegend\": true, \"textposition\": \"auto\", \"type\": \"bar\", \"x\": [-0.30434782608695643], \"xaxis\": \"x5\", \"y\": [0.5], \"yaxis\": \"y5\"}, {\"alignmentgroup\": \"True\", \"customdata\": [[\"other\", 0.48, \"HistGradientBoostingClassifier\"]], \"hovertemplate\": \"<b>%{customdata[2]}</b><br>Subgroup: %{customdata[0]}<br>Score: %{customdata[1]}<br><extra></extra>\", \"legendgroup\": \"HistGradientBoostingClassifier\", \"marker\": {\"color\": \"#46bac2\"}, \"name\": \"HistGradientBoostingClassifier\", \"offsetgroup\": \"HistGradientBoostingClassifier\", \"orientation\": \"h\", \"showlegend\": false, \"textposition\": \"auto\", \"type\": \"bar\", \"x\": [-0.5195652173913043], \"xaxis\": \"x4\", \"y\": [0.5], \"yaxis\": \"y4\"}, {\"alignmentgroup\": \"True\", \"customdata\": [[\"other\", 4.488, \"HistGradientBoostingClassifier\"]], \"hovertemplate\": \"<b>%{customdata[2]}</b><br>Subgroup: %{customdata[0]}<br>Score: %{customdata[1]}<br><extra></extra>\", \"legendgroup\": \"HistGradientBoostingClassifier\", \"marker\": {\"color\": \"#46bac2\"}, \"name\": \"HistGradientBoostingClassifier\", \"offsetgroup\": \"HistGradientBoostingClassifier\", \"orientation\": \"h\", \"showlegend\": false, \"textposition\": \"auto\", \"type\": \"bar\", \"x\": [3.4883720930232567], \"xaxis\": \"x3\", \"y\": [0.5], \"yaxis\": \"y3\"}, {\"alignmentgroup\": \"True\", \"customdata\": [[\"other\", 0.892, \"HistGradientBoostingClassifier\"]], \"hovertemplate\": \"<b>%{customdata[2]}</b><br>Subgroup: %{customdata[0]}<br>Score: %{customdata[1]}<br><extra></extra>\", \"legendgroup\": \"HistGradientBoostingClassifier\", \"marker\": {\"color\": \"#46bac2\"}, \"name\": \"HistGradientBoostingClassifier\", \"offsetgroup\": \"HistGradientBoostingClassifier\", \"orientation\": \"h\", \"showlegend\": false, \"textposition\": \"auto\", \"type\": \"bar\", \"x\": [-0.10783055198973046], \"xaxis\": \"x2\", \"y\": [0.5], \"yaxis\": \"y2\"}, {\"alignmentgroup\": \"True\", \"customdata\": [[\"other\", 0.859, \"HistGradientBoostingClassifier\"]], \"hovertemplate\": \"<b>%{customdata[2]}</b><br>Subgroup: %{customdata[0]}<br>Score: %{customdata[1]}<br><extra></extra>\", \"legendgroup\": \"HistGradientBoostingClassifier\", \"marker\": {\"color\": \"#46bac2\"}, \"name\": \"HistGradientBoostingClassifier\", \"offsetgroup\": \"HistGradientBoostingClassifier\", \"orientation\": \"h\", \"showlegend\": false, \"textposition\": \"auto\", \"type\": \"bar\", \"x\": [-0.14089347079037795], \"xaxis\": \"x\", \"y\": [0.5], \"yaxis\": \"y\"}],                        {\"annotations\": [{\"font\": {\"size\": 15}, \"showarrow\": false, \"text\": \"Statistical parity ratio   (TP + FP)/(TP + FP + TN + FN)\", \"x\": 0.05, \"xanchor\": \"left\", \"xref\": \"paper\", \"y\": 0.144, \"yanchor\": \"bottom\", \"yref\": \"paper\"}, {\"font\": {\"size\": 15}, \"showarrow\": false, \"text\": \"Accuracy equality ratio    (TP + TN)/(TP + FP + TN + FN)\", \"x\": 0.05, \"xanchor\": \"left\", \"xref\": \"paper\", \"y\": 0.358, \"yanchor\": \"bottom\", \"yref\": \"paper\"}, {\"font\": {\"size\": 15}, \"showarrow\": false, \"text\": \"Predictive equality ratio   FP/(FP + TN)\", \"x\": 0.05, \"xanchor\": \"left\", \"xref\": \"paper\", \"y\": 0.572, \"yanchor\": \"bottom\", \"yref\": \"paper\"}, {\"font\": {\"size\": 15}, \"showarrow\": false, \"text\": \"Predictive parity ratio     TP/(TP + FP)\", \"x\": 0.05, \"xanchor\": \"left\", \"xref\": \"paper\", \"y\": 0.7859999999999999, \"yanchor\": \"bottom\", \"yref\": \"paper\"}, {\"font\": {\"size\": 15}, \"showarrow\": false, \"text\": \"Equal opportunity ratio     TP/(TP + FN)\", \"x\": 0.05, \"xanchor\": \"left\", \"xref\": \"paper\", \"y\": 1.0, \"yanchor\": \"bottom\", \"yref\": \"paper\"}], \"barmode\": \"group\", \"font\": {\"color\": \"#371ea3\"}, \"legend\": {\"title\": {\"text\": \"label\"}, \"tracegroupgap\": 0}, \"margin\": {\"b\": 71, \"r\": 30, \"t\": 78}, \"shapes\": [{\"fillcolor\": \"#f05a71\", \"layer\": \"below\", \"line\": {\"width\": 0}, \"opacity\": 0.1, \"type\": \"rect\", \"x0\": 0.25, \"x1\": 3.7, \"xref\": \"x\", \"y0\": 0, \"y1\": 1, \"yref\": \"y\"}, {\"fillcolor\": \"#f05a71\", \"layer\": \"below\", \"line\": {\"width\": 0}, \"opacity\": 0.1, \"type\": \"rect\", \"x0\": -0.5715217391304348, \"x1\": -0.19999999999999996, \"xref\": \"x\", \"y0\": 0, \"y1\": 1, \"yref\": \"y\"}, {\"fillcolor\": \"#c7f5bf\", \"layer\": \"below\", \"line\": {\"width\": 0}, \"opacity\": 0.1, \"type\": \"rect\", \"x0\": -0.19999999999999996, \"x1\": 0.25, \"xref\": \"x\", \"y0\": 0, \"y1\": 1, \"yref\": \"y\"}, {\"line\": {\"color\": \"#371ea3\", \"width\": 1.5}, \"type\": \"line\", \"x0\": 0, \"x1\": 0, \"xref\": \"x\", \"y0\": 0, \"y1\": 1, \"yref\": \"y\"}, {\"fillcolor\": \"#f05a71\", \"layer\": \"below\", \"line\": {\"width\": 0}, \"opacity\": 0.1, \"type\": \"rect\", \"x0\": 0.25, \"x1\": 3.7, \"xref\": \"x\", \"y0\": 0, \"y1\": 1, \"yref\": \"y2\"}, {\"fillcolor\": \"#f05a71\", \"layer\": \"below\", \"line\": {\"width\": 0}, \"opacity\": 0.1, \"type\": \"rect\", \"x0\": -0.5715217391304348, \"x1\": -0.19999999999999996, \"xref\": \"x\", \"y0\": 0, \"y1\": 1, \"yref\": \"y2\"}, {\"fillcolor\": \"#c7f5bf\", \"layer\": \"below\", \"line\": {\"width\": 0}, \"opacity\": 0.1, \"type\": \"rect\", \"x0\": -0.19999999999999996, \"x1\": 0.25, \"xref\": \"x\", \"y0\": 0, \"y1\": 1, \"yref\": \"y2\"}, {\"line\": {\"color\": \"#371ea3\", \"width\": 1.5}, \"type\": \"line\", \"x0\": 0, \"x1\": 0, \"xref\": \"x\", \"y0\": 0, \"y1\": 1, \"yref\": \"y2\"}, {\"fillcolor\": \"#f05a71\", \"layer\": \"below\", \"line\": {\"width\": 0}, \"opacity\": 0.1, \"type\": \"rect\", \"x0\": 0.25, \"x1\": 3.7, \"xref\": \"x\", \"y0\": 0, \"y1\": 1, \"yref\": \"y3\"}, {\"fillcolor\": \"#f05a71\", \"layer\": \"below\", \"line\": {\"width\": 0}, \"opacity\": 0.1, \"type\": \"rect\", \"x0\": -0.5715217391304348, \"x1\": -0.19999999999999996, \"xref\": \"x\", \"y0\": 0, \"y1\": 1, \"yref\": \"y3\"}, {\"fillcolor\": \"#c7f5bf\", \"layer\": \"below\", \"line\": {\"width\": 0}, \"opacity\": 0.1, \"type\": \"rect\", \"x0\": -0.19999999999999996, \"x1\": 0.25, \"xref\": \"x\", \"y0\": 0, \"y1\": 1, \"yref\": \"y3\"}, {\"line\": {\"color\": \"#371ea3\", \"width\": 1.5}, \"type\": \"line\", \"x0\": 0, \"x1\": 0, \"xref\": \"x\", \"y0\": 0, \"y1\": 1, \"yref\": \"y3\"}, {\"fillcolor\": \"#f05a71\", \"layer\": \"below\", \"line\": {\"width\": 0}, \"opacity\": 0.1, \"type\": \"rect\", \"x0\": 0.25, \"x1\": 3.7, \"xref\": \"x\", \"y0\": 0, \"y1\": 1, \"yref\": \"y4\"}, {\"fillcolor\": \"#f05a71\", \"layer\": \"below\", \"line\": {\"width\": 0}, \"opacity\": 0.1, \"type\": \"rect\", \"x0\": -0.5715217391304348, \"x1\": -0.19999999999999996, \"xref\": \"x\", \"y0\": 0, \"y1\": 1, \"yref\": \"y4\"}, {\"fillcolor\": \"#c7f5bf\", \"layer\": \"below\", \"line\": {\"width\": 0}, \"opacity\": 0.1, \"type\": \"rect\", \"x0\": -0.19999999999999996, \"x1\": 0.25, \"xref\": \"x\", \"y0\": 0, \"y1\": 1, \"yref\": \"y4\"}, {\"line\": {\"color\": \"#371ea3\", \"width\": 1.5}, \"type\": \"line\", \"x0\": 0, \"x1\": 0, \"xref\": \"x\", \"y0\": 0, \"y1\": 1, \"yref\": \"y4\"}, {\"fillcolor\": \"#f05a71\", \"layer\": \"below\", \"line\": {\"width\": 0}, \"opacity\": 0.1, \"type\": \"rect\", \"x0\": 0.25, \"x1\": 3.7, \"xref\": \"x\", \"y0\": 0, \"y1\": 1, \"yref\": \"y5\"}, {\"fillcolor\": \"#f05a71\", \"layer\": \"below\", \"line\": {\"width\": 0}, \"opacity\": 0.1, \"type\": \"rect\", \"x0\": -0.5715217391304348, \"x1\": -0.19999999999999996, \"xref\": \"x\", \"y0\": 0, \"y1\": 1, \"yref\": \"y5\"}, {\"fillcolor\": \"#c7f5bf\", \"layer\": \"below\", \"line\": {\"width\": 0}, \"opacity\": 0.1, \"type\": \"rect\", \"x0\": -0.19999999999999996, \"x1\": 0.25, \"xref\": \"x\", \"y0\": 0, \"y1\": 1, \"yref\": \"y5\"}, {\"line\": {\"color\": \"#371ea3\", \"width\": 1.5}, \"type\": \"line\", \"x0\": 0, \"x1\": 0, \"xref\": \"x\", \"y0\": 0, \"y1\": 1, \"yref\": \"y5\"}], \"template\": {\"data\": {\"bar\": [{\"error_x\": {\"color\": \"#2a3f5f\"}, \"error_y\": {\"color\": \"#2a3f5f\"}, \"marker\": {\"line\": {\"color\": \"white\", \"width\": 0.5}}, \"type\": \"bar\"}], \"barpolar\": [{\"marker\": {\"line\": {\"color\": \"white\", \"width\": 0.5}}, \"type\": \"barpolar\"}], \"carpet\": [{\"aaxis\": {\"endlinecolor\": \"#2a3f5f\", \"gridcolor\": \"#C8D4E3\", \"linecolor\": \"#C8D4E3\", \"minorgridcolor\": \"#C8D4E3\", \"startlinecolor\": \"#2a3f5f\"}, \"baxis\": {\"endlinecolor\": \"#2a3f5f\", \"gridcolor\": \"#C8D4E3\", \"linecolor\": \"#C8D4E3\", \"minorgridcolor\": \"#C8D4E3\", \"startlinecolor\": \"#2a3f5f\"}, \"type\": \"carpet\"}], \"choropleth\": [{\"colorbar\": {\"outlinewidth\": 0, \"ticks\": \"\"}, \"type\": \"choropleth\"}], \"contour\": [{\"colorbar\": {\"outlinewidth\": 0, \"ticks\": \"\"}, \"colorscale\": [[0.0, \"#0d0887\"], [0.1111111111111111, \"#46039f\"], [0.2222222222222222, \"#7201a8\"], [0.3333333333333333, \"#9c179e\"], [0.4444444444444444, \"#bd3786\"], [0.5555555555555556, \"#d8576b\"], [0.6666666666666666, \"#ed7953\"], [0.7777777777777778, \"#fb9f3a\"], [0.8888888888888888, \"#fdca26\"], [1.0, \"#f0f921\"]], \"type\": \"contour\"}], \"contourcarpet\": [{\"colorbar\": {\"outlinewidth\": 0, \"ticks\": \"\"}, \"type\": \"contourcarpet\"}], \"heatmap\": [{\"colorbar\": {\"outlinewidth\": 0, \"ticks\": \"\"}, \"colorscale\": [[0.0, \"#0d0887\"], [0.1111111111111111, \"#46039f\"], [0.2222222222222222, \"#7201a8\"], [0.3333333333333333, \"#9c179e\"], [0.4444444444444444, \"#bd3786\"], [0.5555555555555556, \"#d8576b\"], [0.6666666666666666, \"#ed7953\"], [0.7777777777777778, \"#fb9f3a\"], [0.8888888888888888, \"#fdca26\"], [1.0, \"#f0f921\"]], \"type\": \"heatmap\"}], \"heatmapgl\": [{\"colorbar\": {\"outlinewidth\": 0, \"ticks\": \"\"}, \"colorscale\": [[0.0, \"#0d0887\"], [0.1111111111111111, \"#46039f\"], [0.2222222222222222, \"#7201a8\"], [0.3333333333333333, \"#9c179e\"], [0.4444444444444444, \"#bd3786\"], [0.5555555555555556, \"#d8576b\"], [0.6666666666666666, \"#ed7953\"], [0.7777777777777778, \"#fb9f3a\"], [0.8888888888888888, \"#fdca26\"], [1.0, \"#f0f921\"]], \"type\": \"heatmapgl\"}], \"histogram\": [{\"marker\": {\"colorbar\": {\"outlinewidth\": 0, \"ticks\": \"\"}}, \"type\": \"histogram\"}], \"histogram2d\": [{\"colorbar\": {\"outlinewidth\": 0, \"ticks\": \"\"}, \"colorscale\": [[0.0, \"#0d0887\"], [0.1111111111111111, \"#46039f\"], [0.2222222222222222, \"#7201a8\"], [0.3333333333333333, \"#9c179e\"], [0.4444444444444444, \"#bd3786\"], [0.5555555555555556, \"#d8576b\"], [0.6666666666666666, \"#ed7953\"], [0.7777777777777778, \"#fb9f3a\"], [0.8888888888888888, \"#fdca26\"], [1.0, \"#f0f921\"]], \"type\": \"histogram2d\"}], \"histogram2dcontour\": [{\"colorbar\": {\"outlinewidth\": 0, \"ticks\": \"\"}, \"colorscale\": [[0.0, \"#0d0887\"], [0.1111111111111111, \"#46039f\"], [0.2222222222222222, \"#7201a8\"], [0.3333333333333333, \"#9c179e\"], [0.4444444444444444, \"#bd3786\"], [0.5555555555555556, \"#d8576b\"], [0.6666666666666666, \"#ed7953\"], [0.7777777777777778, \"#fb9f3a\"], [0.8888888888888888, \"#fdca26\"], [1.0, \"#f0f921\"]], \"type\": \"histogram2dcontour\"}], \"mesh3d\": [{\"colorbar\": {\"outlinewidth\": 0, \"ticks\": \"\"}, \"type\": \"mesh3d\"}], \"parcoords\": [{\"line\": {\"colorbar\": {\"outlinewidth\": 0, \"ticks\": \"\"}}, \"type\": \"parcoords\"}], \"pie\": [{\"automargin\": true, \"type\": \"pie\"}], \"scatter\": [{\"marker\": {\"colorbar\": {\"outlinewidth\": 0, \"ticks\": \"\"}}, \"type\": \"scatter\"}], \"scatter3d\": [{\"line\": {\"colorbar\": {\"outlinewidth\": 0, \"ticks\": \"\"}}, \"marker\": {\"colorbar\": {\"outlinewidth\": 0, \"ticks\": \"\"}}, \"type\": \"scatter3d\"}], \"scattercarpet\": [{\"marker\": {\"colorbar\": {\"outlinewidth\": 0, \"ticks\": \"\"}}, \"type\": \"scattercarpet\"}], \"scattergeo\": [{\"marker\": {\"colorbar\": {\"outlinewidth\": 0, \"ticks\": \"\"}}, \"type\": \"scattergeo\"}], \"scattergl\": [{\"marker\": {\"colorbar\": {\"outlinewidth\": 0, \"ticks\": \"\"}}, \"type\": \"scattergl\"}], \"scattermapbox\": [{\"marker\": {\"colorbar\": {\"outlinewidth\": 0, \"ticks\": \"\"}}, \"type\": \"scattermapbox\"}], \"scatterpolar\": [{\"marker\": {\"colorbar\": {\"outlinewidth\": 0, \"ticks\": \"\"}}, \"type\": \"scatterpolar\"}], \"scatterpolargl\": [{\"marker\": {\"colorbar\": {\"outlinewidth\": 0, \"ticks\": \"\"}}, \"type\": \"scatterpolargl\"}], \"scatterternary\": [{\"marker\": {\"colorbar\": {\"outlinewidth\": 0, \"ticks\": \"\"}}, \"type\": \"scatterternary\"}], \"surface\": [{\"colorbar\": {\"outlinewidth\": 0, \"ticks\": \"\"}, \"colorscale\": [[0.0, \"#0d0887\"], [0.1111111111111111, \"#46039f\"], [0.2222222222222222, \"#7201a8\"], [0.3333333333333333, \"#9c179e\"], [0.4444444444444444, \"#bd3786\"], [0.5555555555555556, \"#d8576b\"], [0.6666666666666666, \"#ed7953\"], [0.7777777777777778, \"#fb9f3a\"], [0.8888888888888888, \"#fdca26\"], [1.0, \"#f0f921\"]], \"type\": \"surface\"}], \"table\": [{\"cells\": {\"fill\": {\"color\": \"#EBF0F8\"}, \"line\": {\"color\": \"white\"}}, \"header\": {\"fill\": {\"color\": \"#C8D4E3\"}, \"line\": {\"color\": \"white\"}}, \"type\": \"table\"}]}, \"layout\": {\"annotationdefaults\": {\"arrowcolor\": \"#2a3f5f\", \"arrowhead\": 0, \"arrowwidth\": 1}, \"autotypenumbers\": \"strict\", \"coloraxis\": {\"colorbar\": {\"outlinewidth\": 0, \"ticks\": \"\"}}, \"colorscale\": {\"diverging\": [[0, \"#8e0152\"], [0.1, \"#c51b7d\"], [0.2, \"#de77ae\"], [0.3, \"#f1b6da\"], [0.4, \"#fde0ef\"], [0.5, \"#f7f7f7\"], [0.6, \"#e6f5d0\"], [0.7, \"#b8e186\"], [0.8, \"#7fbc41\"], [0.9, \"#4d9221\"], [1, \"#276419\"]], \"sequential\": [[0.0, \"#0d0887\"], [0.1111111111111111, \"#46039f\"], [0.2222222222222222, \"#7201a8\"], [0.3333333333333333, \"#9c179e\"], [0.4444444444444444, \"#bd3786\"], [0.5555555555555556, \"#d8576b\"], [0.6666666666666666, \"#ed7953\"], [0.7777777777777778, \"#fb9f3a\"], [0.8888888888888888, \"#fdca26\"], [1.0, \"#f0f921\"]], \"sequentialminus\": [[0.0, \"#0d0887\"], [0.1111111111111111, \"#46039f\"], [0.2222222222222222, \"#7201a8\"], [0.3333333333333333, \"#9c179e\"], [0.4444444444444444, \"#bd3786\"], [0.5555555555555556, \"#d8576b\"], [0.6666666666666666, \"#ed7953\"], [0.7777777777777778, \"#fb9f3a\"], [0.8888888888888888, \"#fdca26\"], [1.0, \"#f0f921\"]]}, \"colorway\": [\"#636efa\", \"#EF553B\", \"#00cc96\", \"#ab63fa\", \"#FFA15A\", \"#19d3f3\", \"#FF6692\", \"#B6E880\", \"#FF97FF\", \"#FECB52\"], \"font\": {\"color\": \"#2a3f5f\"}, \"geo\": {\"bgcolor\": \"white\", \"lakecolor\": \"white\", \"landcolor\": \"white\", \"showlakes\": true, \"showland\": true, \"subunitcolor\": \"#C8D4E3\"}, \"hoverlabel\": {\"align\": \"left\"}, \"hovermode\": \"closest\", \"mapbox\": {\"style\": \"light\"}, \"paper_bgcolor\": \"white\", \"plot_bgcolor\": \"white\", \"polar\": {\"angularaxis\": {\"gridcolor\": \"#EBF0F8\", \"linecolor\": \"#EBF0F8\", \"ticks\": \"\"}, \"bgcolor\": \"white\", \"radialaxis\": {\"gridcolor\": \"#EBF0F8\", \"linecolor\": \"#EBF0F8\", \"ticks\": \"\"}}, \"scene\": {\"xaxis\": {\"backgroundcolor\": \"white\", \"gridcolor\": \"#DFE8F3\", \"gridwidth\": 2, \"linecolor\": \"#EBF0F8\", \"showbackground\": true, \"ticks\": \"\", \"zerolinecolor\": \"#EBF0F8\"}, \"yaxis\": {\"backgroundcolor\": \"white\", \"gridcolor\": \"#DFE8F3\", \"gridwidth\": 2, \"linecolor\": \"#EBF0F8\", \"showbackground\": true, \"ticks\": \"\", \"zerolinecolor\": \"#EBF0F8\"}, \"zaxis\": {\"backgroundcolor\": \"white\", \"gridcolor\": \"#DFE8F3\", \"gridwidth\": 2, \"linecolor\": \"#EBF0F8\", \"showbackground\": true, \"ticks\": \"\", \"zerolinecolor\": \"#EBF0F8\"}}, \"shapedefaults\": {\"line\": {\"color\": \"#2a3f5f\"}}, \"ternary\": {\"aaxis\": {\"gridcolor\": \"#DFE8F3\", \"linecolor\": \"#A2B1C6\", \"ticks\": \"\"}, \"baxis\": {\"gridcolor\": \"#DFE8F3\", \"linecolor\": \"#A2B1C6\", \"ticks\": \"\"}, \"bgcolor\": \"white\", \"caxis\": {\"gridcolor\": \"#DFE8F3\", \"linecolor\": \"#A2B1C6\", \"ticks\": \"\"}}, \"title\": {\"x\": 0.05}, \"xaxis\": {\"automargin\": true, \"gridcolor\": \"#EBF0F8\", \"linecolor\": \"#EBF0F8\", \"ticks\": \"\", \"title\": {\"standoff\": 15}, \"zerolinecolor\": \"#EBF0F8\", \"zerolinewidth\": 2}, \"yaxis\": {\"automargin\": true, \"gridcolor\": \"#EBF0F8\", \"linecolor\": \"#EBF0F8\", \"ticks\": \"\", \"title\": {\"standoff\": 15}, \"zerolinecolor\": \"#EBF0F8\", \"zerolinewidth\": 2}}}, \"title\": {\"font\": {\"size\": 25}, \"text\": \"Fairness Check\", \"x\": 0.5, \"y\": 0.99}, \"xaxis\": {\"anchor\": \"y\", \"domain\": [0.0, 1.0], \"range\": [-0.5715217391304348, 3.7], \"ticktext\": [0.0, 0.5, 1.0, 1.5, 2.0, 2.5, 3.0, 3.5, 4.0, 4.5, 1.0], \"tickvals\": [-1.0, -0.5, 0.0, 0.5, 1.0, 1.5, 2.0, 2.5, 3.0, 3.5, 0.0], \"title\": {\"text\": \"score\"}}, \"xaxis2\": {\"anchor\": \"y2\", \"domain\": [0.0, 1.0], \"matches\": \"x\", \"range\": [-0.5715217391304348, 3.7], \"showticklabels\": false, \"ticktext\": [0.0, 0.5, 1.0, 1.5, 2.0, 2.5, 3.0, 3.5, 4.0, 4.5, 1.0], \"tickvals\": [-1.0, -0.5, 0.0, 0.5, 1.0, 1.5, 2.0, 2.5, 3.0, 3.5, 0.0]}, \"xaxis3\": {\"anchor\": \"y3\", \"domain\": [0.0, 1.0], \"matches\": \"x\", \"range\": [-0.5715217391304348, 3.7], \"showticklabels\": false, \"ticktext\": [0.0, 0.5, 1.0, 1.5, 2.0, 2.5, 3.0, 3.5, 4.0, 4.5, 1.0], \"tickvals\": [-1.0, -0.5, 0.0, 0.5, 1.0, 1.5, 2.0, 2.5, 3.0, 3.5, 0.0]}, \"xaxis4\": {\"anchor\": \"y4\", \"domain\": [0.0, 1.0], \"matches\": \"x\", \"range\": [-0.5715217391304348, 3.7], \"showticklabels\": false, \"ticktext\": [0.0, 0.5, 1.0, 1.5, 2.0, 2.5, 3.0, 3.5, 4.0, 4.5, 1.0], \"tickvals\": [-1.0, -0.5, 0.0, 0.5, 1.0, 1.5, 2.0, 2.5, 3.0, 3.5, 0.0]}, \"xaxis5\": {\"anchor\": \"y5\", \"domain\": [0.0, 1.0], \"matches\": \"x\", \"range\": [-0.5715217391304348, 3.7], \"showticklabels\": false, \"ticktext\": [0.0, 0.5, 1.0, 1.5, 2.0, 2.5, 3.0, 3.5, 4.0, 4.5, 1.0], \"tickvals\": [-1.0, -0.5, 0.0, 0.5, 1.0, 1.5, 2.0, 2.5, 3.0, 3.5, 0.0]}, \"yaxis\": {\"anchor\": \"x\", \"domain\": [0.0, 0.144], \"range\": [0, 1], \"showgrid\": false, \"ticktext\": [\"other\"], \"tickvals\": [0.5], \"title\": {\"text\": \"\"}, \"zeroline\": false}, \"yaxis2\": {\"anchor\": \"x2\", \"domain\": [0.214, 0.358], \"matches\": \"y\", \"range\": [0, 1], \"showgrid\": false, \"ticktext\": [\"other\"], \"tickvals\": [0.5], \"title\": {\"text\": \"\"}, \"zeroline\": false}, \"yaxis3\": {\"anchor\": \"x3\", \"domain\": [0.428, 0.572], \"matches\": \"y\", \"range\": [0, 1], \"showgrid\": false, \"ticktext\": [\"other\"], \"tickvals\": [0.5], \"title\": {\"text\": \"subgroup\"}, \"zeroline\": false}, \"yaxis4\": {\"anchor\": \"x4\", \"domain\": [0.6419999999999999, 0.7859999999999999], \"matches\": \"y\", \"range\": [0, 1], \"showgrid\": false, \"ticktext\": [\"other\"], \"tickvals\": [0.5], \"title\": {\"text\": \"\"}, \"zeroline\": false}, \"yaxis5\": {\"anchor\": \"x5\", \"domain\": [0.856, 1.0], \"matches\": \"y\", \"range\": [0, 1], \"showgrid\": false, \"ticktext\": [\"other\"], \"tickvals\": [0.5], \"title\": {\"text\": \"\"}, \"zeroline\": false}},                        {\"displaylogo\": false, \"staticPlot\": false, \"toImageButtonOptions\": {\"height\": null, \"width\": null}, \"modeBarButtonsToRemove\": [\"sendDataToCloud\", \"lasso2d\", \"autoScale2d\", \"select2d\", \"zoom2d\", \"pan2d\", \"zoomIn2d\", \"zoomOut2d\", \"resetScale2d\", \"toggleSpikelines\", \"hoverCompareCartesian\", \"hoverClosestCartesian\"], \"responsive\": true}                    ).then(function(){\n",
       "                            \n",
       "var gd = document.getElementById('b802be9a-a364-46c2-ac4f-2421c2ef9c91');\n",
       "var x = new MutationObserver(function (mutations, observer) {{\n",
       "        var display = window.getComputedStyle(gd).display;\n",
       "        if (!display || display === 'none') {{\n",
       "            console.log([gd, 'removed!']);\n",
       "            Plotly.purge(gd);\n",
       "            observer.disconnect();\n",
       "        }}\n",
       "}});\n",
       "\n",
       "// Listen for the removal of the full notebook cells\n",
       "var notebookContainer = gd.closest('#notebook-container');\n",
       "if (notebookContainer) {{\n",
       "    x.observe(notebookContainer, {childList: true});\n",
       "}}\n",
       "\n",
       "// Listen for the clearing of the current output cell\n",
       "var outputEl = gd.closest('.output');\n",
       "if (outputEl) {{\n",
       "    x.observe(outputEl, {childList: true});\n",
       "}}\n",
       "\n",
       "                        })                };                });            </script>        </div>"
      ]
     },
     "metadata": {},
     "output_type": "display_data"
    }
   ],
   "source": [
    "fo = exp.model_fairness(protected=A_test, privileged = \"china\")\n",
    "fo.plot()\n"
   ]
  },
  {
   "cell_type": "code",
   "execution_count": 18,
   "metadata": {
    "pycharm": {
     "is_executing": true
    }
   },
   "outputs": [],
   "source": [
    "reductions = ExponentiatedGradient(clf, EqualizedOdds(ratio_bound=0.98))\n",
    "reductions.fit(X_train_std, y_train, sensitive_features = A_train)"
   ]
  },
  {
   "cell_type": "code",
   "execution_count": 19,
   "metadata": {
    "pycharm": {
     "is_executing": true
    }
   },
   "outputs": [
    {
     "data": {
      "application/vnd.plotly.v1+json": {
       "config": {
        "displaylogo": false,
        "modeBarButtonsToRemove": [
         "sendDataToCloud",
         "lasso2d",
         "autoScale2d",
         "select2d",
         "zoom2d",
         "pan2d",
         "zoomIn2d",
         "zoomOut2d",
         "resetScale2d",
         "toggleSpikelines",
         "hoverCompareCartesian",
         "hoverClosestCartesian"
        ],
        "plotlyServerURL": "https://plot.ly",
        "staticPlot": false,
        "toImageButtonOptions": {
         "height": null,
         "width": null
        }
       },
       "data": [
        {
         "alignmentgroup": "True",
         "customdata": [
          [
           "other",
           0.686,
           "reduced"
          ]
         ],
         "hovertemplate": "<b>%{customdata[2]}</b><br>Subgroup: %{customdata[0]}<br>Score: %{customdata[1]}<br><extra></extra>",
         "legendgroup": "reduced",
         "marker": {
          "color": "#8bdcbe"
         },
         "name": "reduced",
         "offsetgroup": "reduced",
         "orientation": "h",
         "showlegend": true,
         "textposition": "auto",
         "type": "bar",
         "x": [
          -0.3136842105263158
         ],
         "xaxis": "x5",
         "y": [
          0.5
         ],
         "yaxis": "y5"
        },
        {
         "alignmentgroup": "True",
         "customdata": [
          [
           "other",
           0.591,
           "reduced"
          ]
         ],
         "hovertemplate": "<b>%{customdata[2]}</b><br>Subgroup: %{customdata[0]}<br>Score: %{customdata[1]}<br><extra></extra>",
         "legendgroup": "reduced",
         "marker": {
          "color": "#8bdcbe"
         },
         "name": "reduced",
         "offsetgroup": "reduced",
         "orientation": "h",
         "showlegend": false,
         "textposition": "auto",
         "type": "bar",
         "x": [
          -0.40921052631578947
         ],
         "xaxis": "x4",
         "y": [
          0.5
         ],
         "yaxis": "y4"
        },
        {
         "alignmentgroup": "True",
         "customdata": [
          [
           "other",
           1.177,
           "reduced"
          ]
         ],
         "hovertemplate": "<b>%{customdata[2]}</b><br>Subgroup: %{customdata[0]}<br>Score: %{customdata[1]}<br><extra></extra>",
         "legendgroup": "reduced",
         "marker": {
          "color": "#8bdcbe"
         },
         "name": "reduced",
         "offsetgroup": "reduced",
         "orientation": "h",
         "showlegend": false,
         "textposition": "auto",
         "type": "bar",
         "x": [
          0.17692307692307696
         ],
         "xaxis": "x3",
         "y": [
          0.5
         ],
         "yaxis": "y3"
        },
        {
         "alignmentgroup": "True",
         "customdata": [
          [
           "other",
           1.025,
           "reduced"
          ]
         ],
         "hovertemplate": "<b>%{customdata[2]}</b><br>Subgroup: %{customdata[0]}<br>Score: %{customdata[1]}<br><extra></extra>",
         "legendgroup": "reduced",
         "marker": {
          "color": "#8bdcbe"
         },
         "name": "reduced",
         "offsetgroup": "reduced",
         "orientation": "h",
         "showlegend": false,
         "textposition": "auto",
         "type": "bar",
         "x": [
          0.02478134110787167
         ],
         "xaxis": "x2",
         "y": [
          0.5
         ],
         "yaxis": "y2"
        },
        {
         "alignmentgroup": "True",
         "customdata": [
          [
           "other",
           0.691,
           "reduced"
          ]
         ],
         "hovertemplate": "<b>%{customdata[2]}</b><br>Subgroup: %{customdata[0]}<br>Score: %{customdata[1]}<br><extra></extra>",
         "legendgroup": "reduced",
         "marker": {
          "color": "#8bdcbe"
         },
         "name": "reduced",
         "offsetgroup": "reduced",
         "orientation": "h",
         "showlegend": false,
         "textposition": "auto",
         "type": "bar",
         "x": [
          -0.3092783505154638
         ],
         "xaxis": "x",
         "y": [
          0.5
         ],
         "yaxis": "y"
        },
        {
         "alignmentgroup": "True",
         "customdata": [
          [
           "other",
           0.696,
           "HistGradientBoostingClassifier"
          ]
         ],
         "hovertemplate": "<b>%{customdata[2]}</b><br>Subgroup: %{customdata[0]}<br>Score: %{customdata[1]}<br><extra></extra>",
         "legendgroup": "HistGradientBoostingClassifier",
         "marker": {
          "color": "#4378bf"
         },
         "name": "HistGradientBoostingClassifier",
         "offsetgroup": "HistGradientBoostingClassifier",
         "orientation": "h",
         "showlegend": true,
         "textposition": "auto",
         "type": "bar",
         "x": [
          -0.30434782608695643
         ],
         "xaxis": "x5",
         "y": [
          0.5
         ],
         "yaxis": "y5"
        },
        {
         "alignmentgroup": "True",
         "customdata": [
          [
           "other",
           0.48,
           "HistGradientBoostingClassifier"
          ]
         ],
         "hovertemplate": "<b>%{customdata[2]}</b><br>Subgroup: %{customdata[0]}<br>Score: %{customdata[1]}<br><extra></extra>",
         "legendgroup": "HistGradientBoostingClassifier",
         "marker": {
          "color": "#4378bf"
         },
         "name": "HistGradientBoostingClassifier",
         "offsetgroup": "HistGradientBoostingClassifier",
         "orientation": "h",
         "showlegend": false,
         "textposition": "auto",
         "type": "bar",
         "x": [
          -0.5195652173913043
         ],
         "xaxis": "x4",
         "y": [
          0.5
         ],
         "yaxis": "y4"
        },
        {
         "alignmentgroup": "True",
         "customdata": [
          [
           "other",
           4.488,
           "HistGradientBoostingClassifier"
          ]
         ],
         "hovertemplate": "<b>%{customdata[2]}</b><br>Subgroup: %{customdata[0]}<br>Score: %{customdata[1]}<br><extra></extra>",
         "legendgroup": "HistGradientBoostingClassifier",
         "marker": {
          "color": "#4378bf"
         },
         "name": "HistGradientBoostingClassifier",
         "offsetgroup": "HistGradientBoostingClassifier",
         "orientation": "h",
         "showlegend": false,
         "textposition": "auto",
         "type": "bar",
         "x": [
          3.4883720930232567
         ],
         "xaxis": "x3",
         "y": [
          0.5
         ],
         "yaxis": "y3"
        },
        {
         "alignmentgroup": "True",
         "customdata": [
          [
           "other",
           0.892,
           "HistGradientBoostingClassifier"
          ]
         ],
         "hovertemplate": "<b>%{customdata[2]}</b><br>Subgroup: %{customdata[0]}<br>Score: %{customdata[1]}<br><extra></extra>",
         "legendgroup": "HistGradientBoostingClassifier",
         "marker": {
          "color": "#4378bf"
         },
         "name": "HistGradientBoostingClassifier",
         "offsetgroup": "HistGradientBoostingClassifier",
         "orientation": "h",
         "showlegend": false,
         "textposition": "auto",
         "type": "bar",
         "x": [
          -0.10783055198973046
         ],
         "xaxis": "x2",
         "y": [
          0.5
         ],
         "yaxis": "y2"
        },
        {
         "alignmentgroup": "True",
         "customdata": [
          [
           "other",
           0.859,
           "HistGradientBoostingClassifier"
          ]
         ],
         "hovertemplate": "<b>%{customdata[2]}</b><br>Subgroup: %{customdata[0]}<br>Score: %{customdata[1]}<br><extra></extra>",
         "legendgroup": "HistGradientBoostingClassifier",
         "marker": {
          "color": "#4378bf"
         },
         "name": "HistGradientBoostingClassifier",
         "offsetgroup": "HistGradientBoostingClassifier",
         "orientation": "h",
         "showlegend": false,
         "textposition": "auto",
         "type": "bar",
         "x": [
          -0.14089347079037795
         ],
         "xaxis": "x",
         "y": [
          0.5
         ],
         "yaxis": "y"
        }
       ],
       "layout": {
        "annotations": [
         {
          "font": {
           "size": 15
          },
          "showarrow": false,
          "text": "Statistical parity ratio   (TP + FP)/(TP + FP + TN + FN)",
          "x": 0.05,
          "xanchor": "left",
          "xref": "paper",
          "y": 0.144,
          "yanchor": "bottom",
          "yref": "paper"
         },
         {
          "font": {
           "size": 15
          },
          "showarrow": false,
          "text": "Accuracy equality ratio    (TP + TN)/(TP + FP + TN + FN)",
          "x": 0.05,
          "xanchor": "left",
          "xref": "paper",
          "y": 0.358,
          "yanchor": "bottom",
          "yref": "paper"
         },
         {
          "font": {
           "size": 15
          },
          "showarrow": false,
          "text": "Predictive equality ratio   FP/(FP + TN)",
          "x": 0.05,
          "xanchor": "left",
          "xref": "paper",
          "y": 0.572,
          "yanchor": "bottom",
          "yref": "paper"
         },
         {
          "font": {
           "size": 15
          },
          "showarrow": false,
          "text": "Predictive parity ratio     TP/(TP + FP)",
          "x": 0.05,
          "xanchor": "left",
          "xref": "paper",
          "y": 0.7859999999999999,
          "yanchor": "bottom",
          "yref": "paper"
         },
         {
          "font": {
           "size": 15
          },
          "showarrow": false,
          "text": "Equal opportunity ratio     TP/(TP + FN)",
          "x": 0.05,
          "xanchor": "left",
          "xref": "paper",
          "y": 1,
          "yanchor": "bottom",
          "yref": "paper"
         }
        ],
        "barmode": "group",
        "font": {
         "color": "#371ea3"
        },
        "legend": {
         "title": {
          "text": "label"
         },
         "tracegroupgap": 0
        },
        "margin": {
         "b": 71,
         "r": 30,
         "t": 78
        },
        "shapes": [
         {
          "fillcolor": "#f05a71",
          "layer": "below",
          "line": {
           "width": 0
          },
          "opacity": 0.1,
          "type": "rect",
          "x0": 0.25,
          "x1": 3.7,
          "xref": "x",
          "y0": 0,
          "y1": 1,
          "yref": "y"
         },
         {
          "fillcolor": "#f05a71",
          "layer": "below",
          "line": {
           "width": 0
          },
          "opacity": 0.1,
          "type": "rect",
          "x0": -0.5715217391304348,
          "x1": -0.19999999999999996,
          "xref": "x",
          "y0": 0,
          "y1": 1,
          "yref": "y"
         },
         {
          "fillcolor": "#c7f5bf",
          "layer": "below",
          "line": {
           "width": 0
          },
          "opacity": 0.1,
          "type": "rect",
          "x0": -0.19999999999999996,
          "x1": 0.25,
          "xref": "x",
          "y0": 0,
          "y1": 1,
          "yref": "y"
         },
         {
          "line": {
           "color": "#371ea3",
           "width": 1.5
          },
          "type": "line",
          "x0": 0,
          "x1": 0,
          "xref": "x",
          "y0": 0,
          "y1": 1,
          "yref": "y"
         },
         {
          "fillcolor": "#f05a71",
          "layer": "below",
          "line": {
           "width": 0
          },
          "opacity": 0.1,
          "type": "rect",
          "x0": 0.25,
          "x1": 3.7,
          "xref": "x",
          "y0": 0,
          "y1": 1,
          "yref": "y2"
         },
         {
          "fillcolor": "#f05a71",
          "layer": "below",
          "line": {
           "width": 0
          },
          "opacity": 0.1,
          "type": "rect",
          "x0": -0.5715217391304348,
          "x1": -0.19999999999999996,
          "xref": "x",
          "y0": 0,
          "y1": 1,
          "yref": "y2"
         },
         {
          "fillcolor": "#c7f5bf",
          "layer": "below",
          "line": {
           "width": 0
          },
          "opacity": 0.1,
          "type": "rect",
          "x0": -0.19999999999999996,
          "x1": 0.25,
          "xref": "x",
          "y0": 0,
          "y1": 1,
          "yref": "y2"
         },
         {
          "line": {
           "color": "#371ea3",
           "width": 1.5
          },
          "type": "line",
          "x0": 0,
          "x1": 0,
          "xref": "x",
          "y0": 0,
          "y1": 1,
          "yref": "y2"
         },
         {
          "fillcolor": "#f05a71",
          "layer": "below",
          "line": {
           "width": 0
          },
          "opacity": 0.1,
          "type": "rect",
          "x0": 0.25,
          "x1": 3.7,
          "xref": "x",
          "y0": 0,
          "y1": 1,
          "yref": "y3"
         },
         {
          "fillcolor": "#f05a71",
          "layer": "below",
          "line": {
           "width": 0
          },
          "opacity": 0.1,
          "type": "rect",
          "x0": -0.5715217391304348,
          "x1": -0.19999999999999996,
          "xref": "x",
          "y0": 0,
          "y1": 1,
          "yref": "y3"
         },
         {
          "fillcolor": "#c7f5bf",
          "layer": "below",
          "line": {
           "width": 0
          },
          "opacity": 0.1,
          "type": "rect",
          "x0": -0.19999999999999996,
          "x1": 0.25,
          "xref": "x",
          "y0": 0,
          "y1": 1,
          "yref": "y3"
         },
         {
          "line": {
           "color": "#371ea3",
           "width": 1.5
          },
          "type": "line",
          "x0": 0,
          "x1": 0,
          "xref": "x",
          "y0": 0,
          "y1": 1,
          "yref": "y3"
         },
         {
          "fillcolor": "#f05a71",
          "layer": "below",
          "line": {
           "width": 0
          },
          "opacity": 0.1,
          "type": "rect",
          "x0": 0.25,
          "x1": 3.7,
          "xref": "x",
          "y0": 0,
          "y1": 1,
          "yref": "y4"
         },
         {
          "fillcolor": "#f05a71",
          "layer": "below",
          "line": {
           "width": 0
          },
          "opacity": 0.1,
          "type": "rect",
          "x0": -0.5715217391304348,
          "x1": -0.19999999999999996,
          "xref": "x",
          "y0": 0,
          "y1": 1,
          "yref": "y4"
         },
         {
          "fillcolor": "#c7f5bf",
          "layer": "below",
          "line": {
           "width": 0
          },
          "opacity": 0.1,
          "type": "rect",
          "x0": -0.19999999999999996,
          "x1": 0.25,
          "xref": "x",
          "y0": 0,
          "y1": 1,
          "yref": "y4"
         },
         {
          "line": {
           "color": "#371ea3",
           "width": 1.5
          },
          "type": "line",
          "x0": 0,
          "x1": 0,
          "xref": "x",
          "y0": 0,
          "y1": 1,
          "yref": "y4"
         },
         {
          "fillcolor": "#f05a71",
          "layer": "below",
          "line": {
           "width": 0
          },
          "opacity": 0.1,
          "type": "rect",
          "x0": 0.25,
          "x1": 3.7,
          "xref": "x",
          "y0": 0,
          "y1": 1,
          "yref": "y5"
         },
         {
          "fillcolor": "#f05a71",
          "layer": "below",
          "line": {
           "width": 0
          },
          "opacity": 0.1,
          "type": "rect",
          "x0": -0.5715217391304348,
          "x1": -0.19999999999999996,
          "xref": "x",
          "y0": 0,
          "y1": 1,
          "yref": "y5"
         },
         {
          "fillcolor": "#c7f5bf",
          "layer": "below",
          "line": {
           "width": 0
          },
          "opacity": 0.1,
          "type": "rect",
          "x0": -0.19999999999999996,
          "x1": 0.25,
          "xref": "x",
          "y0": 0,
          "y1": 1,
          "yref": "y5"
         },
         {
          "line": {
           "color": "#371ea3",
           "width": 1.5
          },
          "type": "line",
          "x0": 0,
          "x1": 0,
          "xref": "x",
          "y0": 0,
          "y1": 1,
          "yref": "y5"
         }
        ],
        "template": {
         "data": {
          "bar": [
           {
            "error_x": {
             "color": "#2a3f5f"
            },
            "error_y": {
             "color": "#2a3f5f"
            },
            "marker": {
             "line": {
              "color": "white",
              "width": 0.5
             }
            },
            "type": "bar"
           }
          ],
          "barpolar": [
           {
            "marker": {
             "line": {
              "color": "white",
              "width": 0.5
             }
            },
            "type": "barpolar"
           }
          ],
          "carpet": [
           {
            "aaxis": {
             "endlinecolor": "#2a3f5f",
             "gridcolor": "#C8D4E3",
             "linecolor": "#C8D4E3",
             "minorgridcolor": "#C8D4E3",
             "startlinecolor": "#2a3f5f"
            },
            "baxis": {
             "endlinecolor": "#2a3f5f",
             "gridcolor": "#C8D4E3",
             "linecolor": "#C8D4E3",
             "minorgridcolor": "#C8D4E3",
             "startlinecolor": "#2a3f5f"
            },
            "type": "carpet"
           }
          ],
          "choropleth": [
           {
            "colorbar": {
             "outlinewidth": 0,
             "ticks": ""
            },
            "type": "choropleth"
           }
          ],
          "contour": [
           {
            "colorbar": {
             "outlinewidth": 0,
             "ticks": ""
            },
            "colorscale": [
             [
              0,
              "#0d0887"
             ],
             [
              0.1111111111111111,
              "#46039f"
             ],
             [
              0.2222222222222222,
              "#7201a8"
             ],
             [
              0.3333333333333333,
              "#9c179e"
             ],
             [
              0.4444444444444444,
              "#bd3786"
             ],
             [
              0.5555555555555556,
              "#d8576b"
             ],
             [
              0.6666666666666666,
              "#ed7953"
             ],
             [
              0.7777777777777778,
              "#fb9f3a"
             ],
             [
              0.8888888888888888,
              "#fdca26"
             ],
             [
              1,
              "#f0f921"
             ]
            ],
            "type": "contour"
           }
          ],
          "contourcarpet": [
           {
            "colorbar": {
             "outlinewidth": 0,
             "ticks": ""
            },
            "type": "contourcarpet"
           }
          ],
          "heatmap": [
           {
            "colorbar": {
             "outlinewidth": 0,
             "ticks": ""
            },
            "colorscale": [
             [
              0,
              "#0d0887"
             ],
             [
              0.1111111111111111,
              "#46039f"
             ],
             [
              0.2222222222222222,
              "#7201a8"
             ],
             [
              0.3333333333333333,
              "#9c179e"
             ],
             [
              0.4444444444444444,
              "#bd3786"
             ],
             [
              0.5555555555555556,
              "#d8576b"
             ],
             [
              0.6666666666666666,
              "#ed7953"
             ],
             [
              0.7777777777777778,
              "#fb9f3a"
             ],
             [
              0.8888888888888888,
              "#fdca26"
             ],
             [
              1,
              "#f0f921"
             ]
            ],
            "type": "heatmap"
           }
          ],
          "heatmapgl": [
           {
            "colorbar": {
             "outlinewidth": 0,
             "ticks": ""
            },
            "colorscale": [
             [
              0,
              "#0d0887"
             ],
             [
              0.1111111111111111,
              "#46039f"
             ],
             [
              0.2222222222222222,
              "#7201a8"
             ],
             [
              0.3333333333333333,
              "#9c179e"
             ],
             [
              0.4444444444444444,
              "#bd3786"
             ],
             [
              0.5555555555555556,
              "#d8576b"
             ],
             [
              0.6666666666666666,
              "#ed7953"
             ],
             [
              0.7777777777777778,
              "#fb9f3a"
             ],
             [
              0.8888888888888888,
              "#fdca26"
             ],
             [
              1,
              "#f0f921"
             ]
            ],
            "type": "heatmapgl"
           }
          ],
          "histogram": [
           {
            "marker": {
             "colorbar": {
              "outlinewidth": 0,
              "ticks": ""
             }
            },
            "type": "histogram"
           }
          ],
          "histogram2d": [
           {
            "colorbar": {
             "outlinewidth": 0,
             "ticks": ""
            },
            "colorscale": [
             [
              0,
              "#0d0887"
             ],
             [
              0.1111111111111111,
              "#46039f"
             ],
             [
              0.2222222222222222,
              "#7201a8"
             ],
             [
              0.3333333333333333,
              "#9c179e"
             ],
             [
              0.4444444444444444,
              "#bd3786"
             ],
             [
              0.5555555555555556,
              "#d8576b"
             ],
             [
              0.6666666666666666,
              "#ed7953"
             ],
             [
              0.7777777777777778,
              "#fb9f3a"
             ],
             [
              0.8888888888888888,
              "#fdca26"
             ],
             [
              1,
              "#f0f921"
             ]
            ],
            "type": "histogram2d"
           }
          ],
          "histogram2dcontour": [
           {
            "colorbar": {
             "outlinewidth": 0,
             "ticks": ""
            },
            "colorscale": [
             [
              0,
              "#0d0887"
             ],
             [
              0.1111111111111111,
              "#46039f"
             ],
             [
              0.2222222222222222,
              "#7201a8"
             ],
             [
              0.3333333333333333,
              "#9c179e"
             ],
             [
              0.4444444444444444,
              "#bd3786"
             ],
             [
              0.5555555555555556,
              "#d8576b"
             ],
             [
              0.6666666666666666,
              "#ed7953"
             ],
             [
              0.7777777777777778,
              "#fb9f3a"
             ],
             [
              0.8888888888888888,
              "#fdca26"
             ],
             [
              1,
              "#f0f921"
             ]
            ],
            "type": "histogram2dcontour"
           }
          ],
          "mesh3d": [
           {
            "colorbar": {
             "outlinewidth": 0,
             "ticks": ""
            },
            "type": "mesh3d"
           }
          ],
          "parcoords": [
           {
            "line": {
             "colorbar": {
              "outlinewidth": 0,
              "ticks": ""
             }
            },
            "type": "parcoords"
           }
          ],
          "pie": [
           {
            "automargin": true,
            "type": "pie"
           }
          ],
          "scatter": [
           {
            "marker": {
             "colorbar": {
              "outlinewidth": 0,
              "ticks": ""
             }
            },
            "type": "scatter"
           }
          ],
          "scatter3d": [
           {
            "line": {
             "colorbar": {
              "outlinewidth": 0,
              "ticks": ""
             }
            },
            "marker": {
             "colorbar": {
              "outlinewidth": 0,
              "ticks": ""
             }
            },
            "type": "scatter3d"
           }
          ],
          "scattercarpet": [
           {
            "marker": {
             "colorbar": {
              "outlinewidth": 0,
              "ticks": ""
             }
            },
            "type": "scattercarpet"
           }
          ],
          "scattergeo": [
           {
            "marker": {
             "colorbar": {
              "outlinewidth": 0,
              "ticks": ""
             }
            },
            "type": "scattergeo"
           }
          ],
          "scattergl": [
           {
            "marker": {
             "colorbar": {
              "outlinewidth": 0,
              "ticks": ""
             }
            },
            "type": "scattergl"
           }
          ],
          "scattermapbox": [
           {
            "marker": {
             "colorbar": {
              "outlinewidth": 0,
              "ticks": ""
             }
            },
            "type": "scattermapbox"
           }
          ],
          "scatterpolar": [
           {
            "marker": {
             "colorbar": {
              "outlinewidth": 0,
              "ticks": ""
             }
            },
            "type": "scatterpolar"
           }
          ],
          "scatterpolargl": [
           {
            "marker": {
             "colorbar": {
              "outlinewidth": 0,
              "ticks": ""
             }
            },
            "type": "scatterpolargl"
           }
          ],
          "scatterternary": [
           {
            "marker": {
             "colorbar": {
              "outlinewidth": 0,
              "ticks": ""
             }
            },
            "type": "scatterternary"
           }
          ],
          "surface": [
           {
            "colorbar": {
             "outlinewidth": 0,
             "ticks": ""
            },
            "colorscale": [
             [
              0,
              "#0d0887"
             ],
             [
              0.1111111111111111,
              "#46039f"
             ],
             [
              0.2222222222222222,
              "#7201a8"
             ],
             [
              0.3333333333333333,
              "#9c179e"
             ],
             [
              0.4444444444444444,
              "#bd3786"
             ],
             [
              0.5555555555555556,
              "#d8576b"
             ],
             [
              0.6666666666666666,
              "#ed7953"
             ],
             [
              0.7777777777777778,
              "#fb9f3a"
             ],
             [
              0.8888888888888888,
              "#fdca26"
             ],
             [
              1,
              "#f0f921"
             ]
            ],
            "type": "surface"
           }
          ],
          "table": [
           {
            "cells": {
             "fill": {
              "color": "#EBF0F8"
             },
             "line": {
              "color": "white"
             }
            },
            "header": {
             "fill": {
              "color": "#C8D4E3"
             },
             "line": {
              "color": "white"
             }
            },
            "type": "table"
           }
          ]
         },
         "layout": {
          "annotationdefaults": {
           "arrowcolor": "#2a3f5f",
           "arrowhead": 0,
           "arrowwidth": 1
          },
          "autotypenumbers": "strict",
          "coloraxis": {
           "colorbar": {
            "outlinewidth": 0,
            "ticks": ""
           }
          },
          "colorscale": {
           "diverging": [
            [
             0,
             "#8e0152"
            ],
            [
             0.1,
             "#c51b7d"
            ],
            [
             0.2,
             "#de77ae"
            ],
            [
             0.3,
             "#f1b6da"
            ],
            [
             0.4,
             "#fde0ef"
            ],
            [
             0.5,
             "#f7f7f7"
            ],
            [
             0.6,
             "#e6f5d0"
            ],
            [
             0.7,
             "#b8e186"
            ],
            [
             0.8,
             "#7fbc41"
            ],
            [
             0.9,
             "#4d9221"
            ],
            [
             1,
             "#276419"
            ]
           ],
           "sequential": [
            [
             0,
             "#0d0887"
            ],
            [
             0.1111111111111111,
             "#46039f"
            ],
            [
             0.2222222222222222,
             "#7201a8"
            ],
            [
             0.3333333333333333,
             "#9c179e"
            ],
            [
             0.4444444444444444,
             "#bd3786"
            ],
            [
             0.5555555555555556,
             "#d8576b"
            ],
            [
             0.6666666666666666,
             "#ed7953"
            ],
            [
             0.7777777777777778,
             "#fb9f3a"
            ],
            [
             0.8888888888888888,
             "#fdca26"
            ],
            [
             1,
             "#f0f921"
            ]
           ],
           "sequentialminus": [
            [
             0,
             "#0d0887"
            ],
            [
             0.1111111111111111,
             "#46039f"
            ],
            [
             0.2222222222222222,
             "#7201a8"
            ],
            [
             0.3333333333333333,
             "#9c179e"
            ],
            [
             0.4444444444444444,
             "#bd3786"
            ],
            [
             0.5555555555555556,
             "#d8576b"
            ],
            [
             0.6666666666666666,
             "#ed7953"
            ],
            [
             0.7777777777777778,
             "#fb9f3a"
            ],
            [
             0.8888888888888888,
             "#fdca26"
            ],
            [
             1,
             "#f0f921"
            ]
           ]
          },
          "colorway": [
           "#636efa",
           "#EF553B",
           "#00cc96",
           "#ab63fa",
           "#FFA15A",
           "#19d3f3",
           "#FF6692",
           "#B6E880",
           "#FF97FF",
           "#FECB52"
          ],
          "font": {
           "color": "#2a3f5f"
          },
          "geo": {
           "bgcolor": "white",
           "lakecolor": "white",
           "landcolor": "white",
           "showlakes": true,
           "showland": true,
           "subunitcolor": "#C8D4E3"
          },
          "hoverlabel": {
           "align": "left"
          },
          "hovermode": "closest",
          "mapbox": {
           "style": "light"
          },
          "paper_bgcolor": "white",
          "plot_bgcolor": "white",
          "polar": {
           "angularaxis": {
            "gridcolor": "#EBF0F8",
            "linecolor": "#EBF0F8",
            "ticks": ""
           },
           "bgcolor": "white",
           "radialaxis": {
            "gridcolor": "#EBF0F8",
            "linecolor": "#EBF0F8",
            "ticks": ""
           }
          },
          "scene": {
           "xaxis": {
            "backgroundcolor": "white",
            "gridcolor": "#DFE8F3",
            "gridwidth": 2,
            "linecolor": "#EBF0F8",
            "showbackground": true,
            "ticks": "",
            "zerolinecolor": "#EBF0F8"
           },
           "yaxis": {
            "backgroundcolor": "white",
            "gridcolor": "#DFE8F3",
            "gridwidth": 2,
            "linecolor": "#EBF0F8",
            "showbackground": true,
            "ticks": "",
            "zerolinecolor": "#EBF0F8"
           },
           "zaxis": {
            "backgroundcolor": "white",
            "gridcolor": "#DFE8F3",
            "gridwidth": 2,
            "linecolor": "#EBF0F8",
            "showbackground": true,
            "ticks": "",
            "zerolinecolor": "#EBF0F8"
           }
          },
          "shapedefaults": {
           "line": {
            "color": "#2a3f5f"
           }
          },
          "ternary": {
           "aaxis": {
            "gridcolor": "#DFE8F3",
            "linecolor": "#A2B1C6",
            "ticks": ""
           },
           "baxis": {
            "gridcolor": "#DFE8F3",
            "linecolor": "#A2B1C6",
            "ticks": ""
           },
           "bgcolor": "white",
           "caxis": {
            "gridcolor": "#DFE8F3",
            "linecolor": "#A2B1C6",
            "ticks": ""
           }
          },
          "title": {
           "x": 0.05
          },
          "xaxis": {
           "automargin": true,
           "gridcolor": "#EBF0F8",
           "linecolor": "#EBF0F8",
           "ticks": "",
           "title": {
            "standoff": 15
           },
           "zerolinecolor": "#EBF0F8",
           "zerolinewidth": 2
          },
          "yaxis": {
           "automargin": true,
           "gridcolor": "#EBF0F8",
           "linecolor": "#EBF0F8",
           "ticks": "",
           "title": {
            "standoff": 15
           },
           "zerolinecolor": "#EBF0F8",
           "zerolinewidth": 2
          }
         }
        },
        "title": {
         "font": {
          "size": 25
         },
         "text": "Fairness Check",
         "x": 0.5,
         "y": 0.99
        },
        "xaxis": {
         "anchor": "y",
         "domain": [
          0,
          1
         ],
         "range": [
          -0.5715217391304348,
          3.7
         ],
         "ticktext": [
          0,
          0.5,
          1,
          1.5,
          2,
          2.5,
          3,
          3.5,
          4,
          4.5,
          1
         ],
         "tickvals": [
          -1,
          -0.5,
          0,
          0.5,
          1,
          1.5,
          2,
          2.5,
          3,
          3.5,
          0
         ],
         "title": {
          "text": "score"
         }
        },
        "xaxis2": {
         "anchor": "y2",
         "domain": [
          0,
          1
         ],
         "matches": "x",
         "range": [
          -0.5715217391304348,
          3.7
         ],
         "showticklabels": false,
         "ticktext": [
          0,
          0.5,
          1,
          1.5,
          2,
          2.5,
          3,
          3.5,
          4,
          4.5,
          1
         ],
         "tickvals": [
          -1,
          -0.5,
          0,
          0.5,
          1,
          1.5,
          2,
          2.5,
          3,
          3.5,
          0
         ]
        },
        "xaxis3": {
         "anchor": "y3",
         "domain": [
          0,
          1
         ],
         "matches": "x",
         "range": [
          -0.5715217391304348,
          3.7
         ],
         "showticklabels": false,
         "ticktext": [
          0,
          0.5,
          1,
          1.5,
          2,
          2.5,
          3,
          3.5,
          4,
          4.5,
          1
         ],
         "tickvals": [
          -1,
          -0.5,
          0,
          0.5,
          1,
          1.5,
          2,
          2.5,
          3,
          3.5,
          0
         ]
        },
        "xaxis4": {
         "anchor": "y4",
         "domain": [
          0,
          1
         ],
         "matches": "x",
         "range": [
          -0.5715217391304348,
          3.7
         ],
         "showticklabels": false,
         "ticktext": [
          0,
          0.5,
          1,
          1.5,
          2,
          2.5,
          3,
          3.5,
          4,
          4.5,
          1
         ],
         "tickvals": [
          -1,
          -0.5,
          0,
          0.5,
          1,
          1.5,
          2,
          2.5,
          3,
          3.5,
          0
         ]
        },
        "xaxis5": {
         "anchor": "y5",
         "domain": [
          0,
          1
         ],
         "matches": "x",
         "range": [
          -0.5715217391304348,
          3.7
         ],
         "showticklabels": false,
         "ticktext": [
          0,
          0.5,
          1,
          1.5,
          2,
          2.5,
          3,
          3.5,
          4,
          4.5,
          1
         ],
         "tickvals": [
          -1,
          -0.5,
          0,
          0.5,
          1,
          1.5,
          2,
          2.5,
          3,
          3.5,
          0
         ]
        },
        "yaxis": {
         "anchor": "x",
         "domain": [
          0,
          0.144
         ],
         "range": [
          0,
          1
         ],
         "showgrid": false,
         "ticktext": [
          "other"
         ],
         "tickvals": [
          0.5
         ],
         "title": {
          "text": ""
         },
         "zeroline": false
        },
        "yaxis2": {
         "anchor": "x2",
         "domain": [
          0.214,
          0.358
         ],
         "matches": "y",
         "range": [
          0,
          1
         ],
         "showgrid": false,
         "ticktext": [
          "other"
         ],
         "tickvals": [
          0.5
         ],
         "title": {
          "text": ""
         },
         "zeroline": false
        },
        "yaxis3": {
         "anchor": "x3",
         "domain": [
          0.428,
          0.572
         ],
         "matches": "y",
         "range": [
          0,
          1
         ],
         "showgrid": false,
         "ticktext": [
          "other"
         ],
         "tickvals": [
          0.5
         ],
         "title": {
          "text": "subgroup"
         },
         "zeroline": false
        },
        "yaxis4": {
         "anchor": "x4",
         "domain": [
          0.6419999999999999,
          0.7859999999999999
         ],
         "matches": "y",
         "range": [
          0,
          1
         ],
         "showgrid": false,
         "ticktext": [
          "other"
         ],
         "tickvals": [
          0.5
         ],
         "title": {
          "text": ""
         },
         "zeroline": false
        },
        "yaxis5": {
         "anchor": "x5",
         "domain": [
          0.856,
          1
         ],
         "matches": "y",
         "range": [
          0,
          1
         ],
         "showgrid": false,
         "ticktext": [
          "other"
         ],
         "tickvals": [
          0.5
         ],
         "title": {
          "text": ""
         },
         "zeroline": false
        }
       }
      },
      "text/html": [
       "<div>                            <div id=\"3c02f004-4af9-4c8e-89d6-a37b27cc56cf\" class=\"plotly-graph-div\" style=\"height:525px; width:100%;\"></div>            <script type=\"text/javascript\">                require([\"plotly\"], function(Plotly) {                    window.PLOTLYENV=window.PLOTLYENV || {};                                    if (document.getElementById(\"3c02f004-4af9-4c8e-89d6-a37b27cc56cf\")) {                    Plotly.newPlot(                        \"3c02f004-4af9-4c8e-89d6-a37b27cc56cf\",                        [{\"alignmentgroup\": \"True\", \"customdata\": [[\"other\", 0.686, \"reduced\"]], \"hovertemplate\": \"<b>%{customdata[2]}</b><br>Subgroup: %{customdata[0]}<br>Score: %{customdata[1]}<br><extra></extra>\", \"legendgroup\": \"reduced\", \"marker\": {\"color\": \"#8bdcbe\"}, \"name\": \"reduced\", \"offsetgroup\": \"reduced\", \"orientation\": \"h\", \"showlegend\": true, \"textposition\": \"auto\", \"type\": \"bar\", \"x\": [-0.3136842105263158], \"xaxis\": \"x5\", \"y\": [0.5], \"yaxis\": \"y5\"}, {\"alignmentgroup\": \"True\", \"customdata\": [[\"other\", 0.591, \"reduced\"]], \"hovertemplate\": \"<b>%{customdata[2]}</b><br>Subgroup: %{customdata[0]}<br>Score: %{customdata[1]}<br><extra></extra>\", \"legendgroup\": \"reduced\", \"marker\": {\"color\": \"#8bdcbe\"}, \"name\": \"reduced\", \"offsetgroup\": \"reduced\", \"orientation\": \"h\", \"showlegend\": false, \"textposition\": \"auto\", \"type\": \"bar\", \"x\": [-0.40921052631578947], \"xaxis\": \"x4\", \"y\": [0.5], \"yaxis\": \"y4\"}, {\"alignmentgroup\": \"True\", \"customdata\": [[\"other\", 1.177, \"reduced\"]], \"hovertemplate\": \"<b>%{customdata[2]}</b><br>Subgroup: %{customdata[0]}<br>Score: %{customdata[1]}<br><extra></extra>\", \"legendgroup\": \"reduced\", \"marker\": {\"color\": \"#8bdcbe\"}, \"name\": \"reduced\", \"offsetgroup\": \"reduced\", \"orientation\": \"h\", \"showlegend\": false, \"textposition\": \"auto\", \"type\": \"bar\", \"x\": [0.17692307692307696], \"xaxis\": \"x3\", \"y\": [0.5], \"yaxis\": \"y3\"}, {\"alignmentgroup\": \"True\", \"customdata\": [[\"other\", 1.025, \"reduced\"]], \"hovertemplate\": \"<b>%{customdata[2]}</b><br>Subgroup: %{customdata[0]}<br>Score: %{customdata[1]}<br><extra></extra>\", \"legendgroup\": \"reduced\", \"marker\": {\"color\": \"#8bdcbe\"}, \"name\": \"reduced\", \"offsetgroup\": \"reduced\", \"orientation\": \"h\", \"showlegend\": false, \"textposition\": \"auto\", \"type\": \"bar\", \"x\": [0.02478134110787167], \"xaxis\": \"x2\", \"y\": [0.5], \"yaxis\": \"y2\"}, {\"alignmentgroup\": \"True\", \"customdata\": [[\"other\", 0.691, \"reduced\"]], \"hovertemplate\": \"<b>%{customdata[2]}</b><br>Subgroup: %{customdata[0]}<br>Score: %{customdata[1]}<br><extra></extra>\", \"legendgroup\": \"reduced\", \"marker\": {\"color\": \"#8bdcbe\"}, \"name\": \"reduced\", \"offsetgroup\": \"reduced\", \"orientation\": \"h\", \"showlegend\": false, \"textposition\": \"auto\", \"type\": \"bar\", \"x\": [-0.3092783505154638], \"xaxis\": \"x\", \"y\": [0.5], \"yaxis\": \"y\"}, {\"alignmentgroup\": \"True\", \"customdata\": [[\"other\", 0.696, \"HistGradientBoostingClassifier\"]], \"hovertemplate\": \"<b>%{customdata[2]}</b><br>Subgroup: %{customdata[0]}<br>Score: %{customdata[1]}<br><extra></extra>\", \"legendgroup\": \"HistGradientBoostingClassifier\", \"marker\": {\"color\": \"#4378bf\"}, \"name\": \"HistGradientBoostingClassifier\", \"offsetgroup\": \"HistGradientBoostingClassifier\", \"orientation\": \"h\", \"showlegend\": true, \"textposition\": \"auto\", \"type\": \"bar\", \"x\": [-0.30434782608695643], \"xaxis\": \"x5\", \"y\": [0.5], \"yaxis\": \"y5\"}, {\"alignmentgroup\": \"True\", \"customdata\": [[\"other\", 0.48, \"HistGradientBoostingClassifier\"]], \"hovertemplate\": \"<b>%{customdata[2]}</b><br>Subgroup: %{customdata[0]}<br>Score: %{customdata[1]}<br><extra></extra>\", \"legendgroup\": \"HistGradientBoostingClassifier\", \"marker\": {\"color\": \"#4378bf\"}, \"name\": \"HistGradientBoostingClassifier\", \"offsetgroup\": \"HistGradientBoostingClassifier\", \"orientation\": \"h\", \"showlegend\": false, \"textposition\": \"auto\", \"type\": \"bar\", \"x\": [-0.5195652173913043], \"xaxis\": \"x4\", \"y\": [0.5], \"yaxis\": \"y4\"}, {\"alignmentgroup\": \"True\", \"customdata\": [[\"other\", 4.488, \"HistGradientBoostingClassifier\"]], \"hovertemplate\": \"<b>%{customdata[2]}</b><br>Subgroup: %{customdata[0]}<br>Score: %{customdata[1]}<br><extra></extra>\", \"legendgroup\": \"HistGradientBoostingClassifier\", \"marker\": {\"color\": \"#4378bf\"}, \"name\": \"HistGradientBoostingClassifier\", \"offsetgroup\": \"HistGradientBoostingClassifier\", \"orientation\": \"h\", \"showlegend\": false, \"textposition\": \"auto\", \"type\": \"bar\", \"x\": [3.4883720930232567], \"xaxis\": \"x3\", \"y\": [0.5], \"yaxis\": \"y3\"}, {\"alignmentgroup\": \"True\", \"customdata\": [[\"other\", 0.892, \"HistGradientBoostingClassifier\"]], \"hovertemplate\": \"<b>%{customdata[2]}</b><br>Subgroup: %{customdata[0]}<br>Score: %{customdata[1]}<br><extra></extra>\", \"legendgroup\": \"HistGradientBoostingClassifier\", \"marker\": {\"color\": \"#4378bf\"}, \"name\": \"HistGradientBoostingClassifier\", \"offsetgroup\": \"HistGradientBoostingClassifier\", \"orientation\": \"h\", \"showlegend\": false, \"textposition\": \"auto\", \"type\": \"bar\", \"x\": [-0.10783055198973046], \"xaxis\": \"x2\", \"y\": [0.5], \"yaxis\": \"y2\"}, {\"alignmentgroup\": \"True\", \"customdata\": [[\"other\", 0.859, \"HistGradientBoostingClassifier\"]], \"hovertemplate\": \"<b>%{customdata[2]}</b><br>Subgroup: %{customdata[0]}<br>Score: %{customdata[1]}<br><extra></extra>\", \"legendgroup\": \"HistGradientBoostingClassifier\", \"marker\": {\"color\": \"#4378bf\"}, \"name\": \"HistGradientBoostingClassifier\", \"offsetgroup\": \"HistGradientBoostingClassifier\", \"orientation\": \"h\", \"showlegend\": false, \"textposition\": \"auto\", \"type\": \"bar\", \"x\": [-0.14089347079037795], \"xaxis\": \"x\", \"y\": [0.5], \"yaxis\": \"y\"}],                        {\"annotations\": [{\"font\": {\"size\": 15}, \"showarrow\": false, \"text\": \"Statistical parity ratio   (TP + FP)/(TP + FP + TN + FN)\", \"x\": 0.05, \"xanchor\": \"left\", \"xref\": \"paper\", \"y\": 0.144, \"yanchor\": \"bottom\", \"yref\": \"paper\"}, {\"font\": {\"size\": 15}, \"showarrow\": false, \"text\": \"Accuracy equality ratio    (TP + TN)/(TP + FP + TN + FN)\", \"x\": 0.05, \"xanchor\": \"left\", \"xref\": \"paper\", \"y\": 0.358, \"yanchor\": \"bottom\", \"yref\": \"paper\"}, {\"font\": {\"size\": 15}, \"showarrow\": false, \"text\": \"Predictive equality ratio   FP/(FP + TN)\", \"x\": 0.05, \"xanchor\": \"left\", \"xref\": \"paper\", \"y\": 0.572, \"yanchor\": \"bottom\", \"yref\": \"paper\"}, {\"font\": {\"size\": 15}, \"showarrow\": false, \"text\": \"Predictive parity ratio     TP/(TP + FP)\", \"x\": 0.05, \"xanchor\": \"left\", \"xref\": \"paper\", \"y\": 0.7859999999999999, \"yanchor\": \"bottom\", \"yref\": \"paper\"}, {\"font\": {\"size\": 15}, \"showarrow\": false, \"text\": \"Equal opportunity ratio     TP/(TP + FN)\", \"x\": 0.05, \"xanchor\": \"left\", \"xref\": \"paper\", \"y\": 1.0, \"yanchor\": \"bottom\", \"yref\": \"paper\"}], \"barmode\": \"group\", \"font\": {\"color\": \"#371ea3\"}, \"legend\": {\"title\": {\"text\": \"label\"}, \"tracegroupgap\": 0}, \"margin\": {\"b\": 71, \"r\": 30, \"t\": 78}, \"shapes\": [{\"fillcolor\": \"#f05a71\", \"layer\": \"below\", \"line\": {\"width\": 0}, \"opacity\": 0.1, \"type\": \"rect\", \"x0\": 0.25, \"x1\": 3.7, \"xref\": \"x\", \"y0\": 0, \"y1\": 1, \"yref\": \"y\"}, {\"fillcolor\": \"#f05a71\", \"layer\": \"below\", \"line\": {\"width\": 0}, \"opacity\": 0.1, \"type\": \"rect\", \"x0\": -0.5715217391304348, \"x1\": -0.19999999999999996, \"xref\": \"x\", \"y0\": 0, \"y1\": 1, \"yref\": \"y\"}, {\"fillcolor\": \"#c7f5bf\", \"layer\": \"below\", \"line\": {\"width\": 0}, \"opacity\": 0.1, \"type\": \"rect\", \"x0\": -0.19999999999999996, \"x1\": 0.25, \"xref\": \"x\", \"y0\": 0, \"y1\": 1, \"yref\": \"y\"}, {\"line\": {\"color\": \"#371ea3\", \"width\": 1.5}, \"type\": \"line\", \"x0\": 0, \"x1\": 0, \"xref\": \"x\", \"y0\": 0, \"y1\": 1, \"yref\": \"y\"}, {\"fillcolor\": \"#f05a71\", \"layer\": \"below\", \"line\": {\"width\": 0}, \"opacity\": 0.1, \"type\": \"rect\", \"x0\": 0.25, \"x1\": 3.7, \"xref\": \"x\", \"y0\": 0, \"y1\": 1, \"yref\": \"y2\"}, {\"fillcolor\": \"#f05a71\", \"layer\": \"below\", \"line\": {\"width\": 0}, \"opacity\": 0.1, \"type\": \"rect\", \"x0\": -0.5715217391304348, \"x1\": -0.19999999999999996, \"xref\": \"x\", \"y0\": 0, \"y1\": 1, \"yref\": \"y2\"}, {\"fillcolor\": \"#c7f5bf\", \"layer\": \"below\", \"line\": {\"width\": 0}, \"opacity\": 0.1, \"type\": \"rect\", \"x0\": -0.19999999999999996, \"x1\": 0.25, \"xref\": \"x\", \"y0\": 0, \"y1\": 1, \"yref\": \"y2\"}, {\"line\": {\"color\": \"#371ea3\", \"width\": 1.5}, \"type\": \"line\", \"x0\": 0, \"x1\": 0, \"xref\": \"x\", \"y0\": 0, \"y1\": 1, \"yref\": \"y2\"}, {\"fillcolor\": \"#f05a71\", \"layer\": \"below\", \"line\": {\"width\": 0}, \"opacity\": 0.1, \"type\": \"rect\", \"x0\": 0.25, \"x1\": 3.7, \"xref\": \"x\", \"y0\": 0, \"y1\": 1, \"yref\": \"y3\"}, {\"fillcolor\": \"#f05a71\", \"layer\": \"below\", \"line\": {\"width\": 0}, \"opacity\": 0.1, \"type\": \"rect\", \"x0\": -0.5715217391304348, \"x1\": -0.19999999999999996, \"xref\": \"x\", \"y0\": 0, \"y1\": 1, \"yref\": \"y3\"}, {\"fillcolor\": \"#c7f5bf\", \"layer\": \"below\", \"line\": {\"width\": 0}, \"opacity\": 0.1, \"type\": \"rect\", \"x0\": -0.19999999999999996, \"x1\": 0.25, \"xref\": \"x\", \"y0\": 0, \"y1\": 1, \"yref\": \"y3\"}, {\"line\": {\"color\": \"#371ea3\", \"width\": 1.5}, \"type\": \"line\", \"x0\": 0, \"x1\": 0, \"xref\": \"x\", \"y0\": 0, \"y1\": 1, \"yref\": \"y3\"}, {\"fillcolor\": \"#f05a71\", \"layer\": \"below\", \"line\": {\"width\": 0}, \"opacity\": 0.1, \"type\": \"rect\", \"x0\": 0.25, \"x1\": 3.7, \"xref\": \"x\", \"y0\": 0, \"y1\": 1, \"yref\": \"y4\"}, {\"fillcolor\": \"#f05a71\", \"layer\": \"below\", \"line\": {\"width\": 0}, \"opacity\": 0.1, \"type\": \"rect\", \"x0\": -0.5715217391304348, \"x1\": -0.19999999999999996, \"xref\": \"x\", \"y0\": 0, \"y1\": 1, \"yref\": \"y4\"}, {\"fillcolor\": \"#c7f5bf\", \"layer\": \"below\", \"line\": {\"width\": 0}, \"opacity\": 0.1, \"type\": \"rect\", \"x0\": -0.19999999999999996, \"x1\": 0.25, \"xref\": \"x\", \"y0\": 0, \"y1\": 1, \"yref\": \"y4\"}, {\"line\": {\"color\": \"#371ea3\", \"width\": 1.5}, \"type\": \"line\", \"x0\": 0, \"x1\": 0, \"xref\": \"x\", \"y0\": 0, \"y1\": 1, \"yref\": \"y4\"}, {\"fillcolor\": \"#f05a71\", \"layer\": \"below\", \"line\": {\"width\": 0}, \"opacity\": 0.1, \"type\": \"rect\", \"x0\": 0.25, \"x1\": 3.7, \"xref\": \"x\", \"y0\": 0, \"y1\": 1, \"yref\": \"y5\"}, {\"fillcolor\": \"#f05a71\", \"layer\": \"below\", \"line\": {\"width\": 0}, \"opacity\": 0.1, \"type\": \"rect\", \"x0\": -0.5715217391304348, \"x1\": -0.19999999999999996, \"xref\": \"x\", \"y0\": 0, \"y1\": 1, \"yref\": \"y5\"}, {\"fillcolor\": \"#c7f5bf\", \"layer\": \"below\", \"line\": {\"width\": 0}, \"opacity\": 0.1, \"type\": \"rect\", \"x0\": -0.19999999999999996, \"x1\": 0.25, \"xref\": \"x\", \"y0\": 0, \"y1\": 1, \"yref\": \"y5\"}, {\"line\": {\"color\": \"#371ea3\", \"width\": 1.5}, \"type\": \"line\", \"x0\": 0, \"x1\": 0, \"xref\": \"x\", \"y0\": 0, \"y1\": 1, \"yref\": \"y5\"}], \"template\": {\"data\": {\"bar\": [{\"error_x\": {\"color\": \"#2a3f5f\"}, \"error_y\": {\"color\": \"#2a3f5f\"}, \"marker\": {\"line\": {\"color\": \"white\", \"width\": 0.5}}, \"type\": \"bar\"}], \"barpolar\": [{\"marker\": {\"line\": {\"color\": \"white\", \"width\": 0.5}}, \"type\": \"barpolar\"}], \"carpet\": [{\"aaxis\": {\"endlinecolor\": \"#2a3f5f\", \"gridcolor\": \"#C8D4E3\", \"linecolor\": \"#C8D4E3\", \"minorgridcolor\": \"#C8D4E3\", \"startlinecolor\": \"#2a3f5f\"}, \"baxis\": {\"endlinecolor\": \"#2a3f5f\", \"gridcolor\": \"#C8D4E3\", \"linecolor\": \"#C8D4E3\", \"minorgridcolor\": \"#C8D4E3\", \"startlinecolor\": \"#2a3f5f\"}, \"type\": \"carpet\"}], \"choropleth\": [{\"colorbar\": {\"outlinewidth\": 0, \"ticks\": \"\"}, \"type\": \"choropleth\"}], \"contour\": [{\"colorbar\": {\"outlinewidth\": 0, \"ticks\": \"\"}, \"colorscale\": [[0.0, \"#0d0887\"], [0.1111111111111111, \"#46039f\"], [0.2222222222222222, \"#7201a8\"], [0.3333333333333333, \"#9c179e\"], [0.4444444444444444, \"#bd3786\"], [0.5555555555555556, \"#d8576b\"], [0.6666666666666666, \"#ed7953\"], [0.7777777777777778, \"#fb9f3a\"], [0.8888888888888888, \"#fdca26\"], [1.0, \"#f0f921\"]], \"type\": \"contour\"}], \"contourcarpet\": [{\"colorbar\": {\"outlinewidth\": 0, \"ticks\": \"\"}, \"type\": \"contourcarpet\"}], \"heatmap\": [{\"colorbar\": {\"outlinewidth\": 0, \"ticks\": \"\"}, \"colorscale\": [[0.0, \"#0d0887\"], [0.1111111111111111, \"#46039f\"], [0.2222222222222222, \"#7201a8\"], [0.3333333333333333, \"#9c179e\"], [0.4444444444444444, \"#bd3786\"], [0.5555555555555556, \"#d8576b\"], [0.6666666666666666, \"#ed7953\"], [0.7777777777777778, \"#fb9f3a\"], [0.8888888888888888, \"#fdca26\"], [1.0, \"#f0f921\"]], \"type\": \"heatmap\"}], \"heatmapgl\": [{\"colorbar\": {\"outlinewidth\": 0, \"ticks\": \"\"}, \"colorscale\": [[0.0, \"#0d0887\"], [0.1111111111111111, \"#46039f\"], [0.2222222222222222, \"#7201a8\"], [0.3333333333333333, \"#9c179e\"], [0.4444444444444444, \"#bd3786\"], [0.5555555555555556, \"#d8576b\"], [0.6666666666666666, \"#ed7953\"], [0.7777777777777778, \"#fb9f3a\"], [0.8888888888888888, \"#fdca26\"], [1.0, \"#f0f921\"]], \"type\": \"heatmapgl\"}], \"histogram\": [{\"marker\": {\"colorbar\": {\"outlinewidth\": 0, \"ticks\": \"\"}}, \"type\": \"histogram\"}], \"histogram2d\": [{\"colorbar\": {\"outlinewidth\": 0, \"ticks\": \"\"}, \"colorscale\": [[0.0, \"#0d0887\"], [0.1111111111111111, \"#46039f\"], [0.2222222222222222, \"#7201a8\"], [0.3333333333333333, \"#9c179e\"], [0.4444444444444444, \"#bd3786\"], [0.5555555555555556, \"#d8576b\"], [0.6666666666666666, \"#ed7953\"], [0.7777777777777778, \"#fb9f3a\"], [0.8888888888888888, \"#fdca26\"], [1.0, \"#f0f921\"]], \"type\": \"histogram2d\"}], \"histogram2dcontour\": [{\"colorbar\": {\"outlinewidth\": 0, \"ticks\": \"\"}, \"colorscale\": [[0.0, \"#0d0887\"], [0.1111111111111111, \"#46039f\"], [0.2222222222222222, \"#7201a8\"], [0.3333333333333333, \"#9c179e\"], [0.4444444444444444, \"#bd3786\"], [0.5555555555555556, \"#d8576b\"], [0.6666666666666666, \"#ed7953\"], [0.7777777777777778, \"#fb9f3a\"], [0.8888888888888888, \"#fdca26\"], [1.0, \"#f0f921\"]], \"type\": \"histogram2dcontour\"}], \"mesh3d\": [{\"colorbar\": {\"outlinewidth\": 0, \"ticks\": \"\"}, \"type\": \"mesh3d\"}], \"parcoords\": [{\"line\": {\"colorbar\": {\"outlinewidth\": 0, \"ticks\": \"\"}}, \"type\": \"parcoords\"}], \"pie\": [{\"automargin\": true, \"type\": \"pie\"}], \"scatter\": [{\"marker\": {\"colorbar\": {\"outlinewidth\": 0, \"ticks\": \"\"}}, \"type\": \"scatter\"}], \"scatter3d\": [{\"line\": {\"colorbar\": {\"outlinewidth\": 0, \"ticks\": \"\"}}, \"marker\": {\"colorbar\": {\"outlinewidth\": 0, \"ticks\": \"\"}}, \"type\": \"scatter3d\"}], \"scattercarpet\": [{\"marker\": {\"colorbar\": {\"outlinewidth\": 0, \"ticks\": \"\"}}, \"type\": \"scattercarpet\"}], \"scattergeo\": [{\"marker\": {\"colorbar\": {\"outlinewidth\": 0, \"ticks\": \"\"}}, \"type\": \"scattergeo\"}], \"scattergl\": [{\"marker\": {\"colorbar\": {\"outlinewidth\": 0, \"ticks\": \"\"}}, \"type\": \"scattergl\"}], \"scattermapbox\": [{\"marker\": {\"colorbar\": {\"outlinewidth\": 0, \"ticks\": \"\"}}, \"type\": \"scattermapbox\"}], \"scatterpolar\": [{\"marker\": {\"colorbar\": {\"outlinewidth\": 0, \"ticks\": \"\"}}, \"type\": \"scatterpolar\"}], \"scatterpolargl\": [{\"marker\": {\"colorbar\": {\"outlinewidth\": 0, \"ticks\": \"\"}}, \"type\": \"scatterpolargl\"}], \"scatterternary\": [{\"marker\": {\"colorbar\": {\"outlinewidth\": 0, \"ticks\": \"\"}}, \"type\": \"scatterternary\"}], \"surface\": [{\"colorbar\": {\"outlinewidth\": 0, \"ticks\": \"\"}, \"colorscale\": [[0.0, \"#0d0887\"], [0.1111111111111111, \"#46039f\"], [0.2222222222222222, \"#7201a8\"], [0.3333333333333333, \"#9c179e\"], [0.4444444444444444, \"#bd3786\"], [0.5555555555555556, \"#d8576b\"], [0.6666666666666666, \"#ed7953\"], [0.7777777777777778, \"#fb9f3a\"], [0.8888888888888888, \"#fdca26\"], [1.0, \"#f0f921\"]], \"type\": \"surface\"}], \"table\": [{\"cells\": {\"fill\": {\"color\": \"#EBF0F8\"}, \"line\": {\"color\": \"white\"}}, \"header\": {\"fill\": {\"color\": \"#C8D4E3\"}, \"line\": {\"color\": \"white\"}}, \"type\": \"table\"}]}, \"layout\": {\"annotationdefaults\": {\"arrowcolor\": \"#2a3f5f\", \"arrowhead\": 0, \"arrowwidth\": 1}, \"autotypenumbers\": \"strict\", \"coloraxis\": {\"colorbar\": {\"outlinewidth\": 0, \"ticks\": \"\"}}, \"colorscale\": {\"diverging\": [[0, \"#8e0152\"], [0.1, \"#c51b7d\"], [0.2, \"#de77ae\"], [0.3, \"#f1b6da\"], [0.4, \"#fde0ef\"], [0.5, \"#f7f7f7\"], [0.6, \"#e6f5d0\"], [0.7, \"#b8e186\"], [0.8, \"#7fbc41\"], [0.9, \"#4d9221\"], [1, \"#276419\"]], \"sequential\": [[0.0, \"#0d0887\"], [0.1111111111111111, \"#46039f\"], [0.2222222222222222, \"#7201a8\"], [0.3333333333333333, \"#9c179e\"], [0.4444444444444444, \"#bd3786\"], [0.5555555555555556, \"#d8576b\"], [0.6666666666666666, \"#ed7953\"], [0.7777777777777778, \"#fb9f3a\"], [0.8888888888888888, \"#fdca26\"], [1.0, \"#f0f921\"]], \"sequentialminus\": [[0.0, \"#0d0887\"], [0.1111111111111111, \"#46039f\"], [0.2222222222222222, \"#7201a8\"], [0.3333333333333333, \"#9c179e\"], [0.4444444444444444, \"#bd3786\"], [0.5555555555555556, \"#d8576b\"], [0.6666666666666666, \"#ed7953\"], [0.7777777777777778, \"#fb9f3a\"], [0.8888888888888888, \"#fdca26\"], [1.0, \"#f0f921\"]]}, \"colorway\": [\"#636efa\", \"#EF553B\", \"#00cc96\", \"#ab63fa\", \"#FFA15A\", \"#19d3f3\", \"#FF6692\", \"#B6E880\", \"#FF97FF\", \"#FECB52\"], \"font\": {\"color\": \"#2a3f5f\"}, \"geo\": {\"bgcolor\": \"white\", \"lakecolor\": \"white\", \"landcolor\": \"white\", \"showlakes\": true, \"showland\": true, \"subunitcolor\": \"#C8D4E3\"}, \"hoverlabel\": {\"align\": \"left\"}, \"hovermode\": \"closest\", \"mapbox\": {\"style\": \"light\"}, \"paper_bgcolor\": \"white\", \"plot_bgcolor\": \"white\", \"polar\": {\"angularaxis\": {\"gridcolor\": \"#EBF0F8\", \"linecolor\": \"#EBF0F8\", \"ticks\": \"\"}, \"bgcolor\": \"white\", \"radialaxis\": {\"gridcolor\": \"#EBF0F8\", \"linecolor\": \"#EBF0F8\", \"ticks\": \"\"}}, \"scene\": {\"xaxis\": {\"backgroundcolor\": \"white\", \"gridcolor\": \"#DFE8F3\", \"gridwidth\": 2, \"linecolor\": \"#EBF0F8\", \"showbackground\": true, \"ticks\": \"\", \"zerolinecolor\": \"#EBF0F8\"}, \"yaxis\": {\"backgroundcolor\": \"white\", \"gridcolor\": \"#DFE8F3\", \"gridwidth\": 2, \"linecolor\": \"#EBF0F8\", \"showbackground\": true, \"ticks\": \"\", \"zerolinecolor\": \"#EBF0F8\"}, \"zaxis\": {\"backgroundcolor\": \"white\", \"gridcolor\": \"#DFE8F3\", \"gridwidth\": 2, \"linecolor\": \"#EBF0F8\", \"showbackground\": true, \"ticks\": \"\", \"zerolinecolor\": \"#EBF0F8\"}}, \"shapedefaults\": {\"line\": {\"color\": \"#2a3f5f\"}}, \"ternary\": {\"aaxis\": {\"gridcolor\": \"#DFE8F3\", \"linecolor\": \"#A2B1C6\", \"ticks\": \"\"}, \"baxis\": {\"gridcolor\": \"#DFE8F3\", \"linecolor\": \"#A2B1C6\", \"ticks\": \"\"}, \"bgcolor\": \"white\", \"caxis\": {\"gridcolor\": \"#DFE8F3\", \"linecolor\": \"#A2B1C6\", \"ticks\": \"\"}}, \"title\": {\"x\": 0.05}, \"xaxis\": {\"automargin\": true, \"gridcolor\": \"#EBF0F8\", \"linecolor\": \"#EBF0F8\", \"ticks\": \"\", \"title\": {\"standoff\": 15}, \"zerolinecolor\": \"#EBF0F8\", \"zerolinewidth\": 2}, \"yaxis\": {\"automargin\": true, \"gridcolor\": \"#EBF0F8\", \"linecolor\": \"#EBF0F8\", \"ticks\": \"\", \"title\": {\"standoff\": 15}, \"zerolinecolor\": \"#EBF0F8\", \"zerolinewidth\": 2}}}, \"title\": {\"font\": {\"size\": 25}, \"text\": \"Fairness Check\", \"x\": 0.5, \"y\": 0.99}, \"xaxis\": {\"anchor\": \"y\", \"domain\": [0.0, 1.0], \"range\": [-0.5715217391304348, 3.7], \"ticktext\": [0.0, 0.5, 1.0, 1.5, 2.0, 2.5, 3.0, 3.5, 4.0, 4.5, 1.0], \"tickvals\": [-1.0, -0.5, 0.0, 0.5, 1.0, 1.5, 2.0, 2.5, 3.0, 3.5, 0.0], \"title\": {\"text\": \"score\"}}, \"xaxis2\": {\"anchor\": \"y2\", \"domain\": [0.0, 1.0], \"matches\": \"x\", \"range\": [-0.5715217391304348, 3.7], \"showticklabels\": false, \"ticktext\": [0.0, 0.5, 1.0, 1.5, 2.0, 2.5, 3.0, 3.5, 4.0, 4.5, 1.0], \"tickvals\": [-1.0, -0.5, 0.0, 0.5, 1.0, 1.5, 2.0, 2.5, 3.0, 3.5, 0.0]}, \"xaxis3\": {\"anchor\": \"y3\", \"domain\": [0.0, 1.0], \"matches\": \"x\", \"range\": [-0.5715217391304348, 3.7], \"showticklabels\": false, \"ticktext\": [0.0, 0.5, 1.0, 1.5, 2.0, 2.5, 3.0, 3.5, 4.0, 4.5, 1.0], \"tickvals\": [-1.0, -0.5, 0.0, 0.5, 1.0, 1.5, 2.0, 2.5, 3.0, 3.5, 0.0]}, \"xaxis4\": {\"anchor\": \"y4\", \"domain\": [0.0, 1.0], \"matches\": \"x\", \"range\": [-0.5715217391304348, 3.7], \"showticklabels\": false, \"ticktext\": [0.0, 0.5, 1.0, 1.5, 2.0, 2.5, 3.0, 3.5, 4.0, 4.5, 1.0], \"tickvals\": [-1.0, -0.5, 0.0, 0.5, 1.0, 1.5, 2.0, 2.5, 3.0, 3.5, 0.0]}, \"xaxis5\": {\"anchor\": \"y5\", \"domain\": [0.0, 1.0], \"matches\": \"x\", \"range\": [-0.5715217391304348, 3.7], \"showticklabels\": false, \"ticktext\": [0.0, 0.5, 1.0, 1.5, 2.0, 2.5, 3.0, 3.5, 4.0, 4.5, 1.0], \"tickvals\": [-1.0, -0.5, 0.0, 0.5, 1.0, 1.5, 2.0, 2.5, 3.0, 3.5, 0.0]}, \"yaxis\": {\"anchor\": \"x\", \"domain\": [0.0, 0.144], \"range\": [0, 1], \"showgrid\": false, \"ticktext\": [\"other\"], \"tickvals\": [0.5], \"title\": {\"text\": \"\"}, \"zeroline\": false}, \"yaxis2\": {\"anchor\": \"x2\", \"domain\": [0.214, 0.358], \"matches\": \"y\", \"range\": [0, 1], \"showgrid\": false, \"ticktext\": [\"other\"], \"tickvals\": [0.5], \"title\": {\"text\": \"\"}, \"zeroline\": false}, \"yaxis3\": {\"anchor\": \"x3\", \"domain\": [0.428, 0.572], \"matches\": \"y\", \"range\": [0, 1], \"showgrid\": false, \"ticktext\": [\"other\"], \"tickvals\": [0.5], \"title\": {\"text\": \"subgroup\"}, \"zeroline\": false}, \"yaxis4\": {\"anchor\": \"x4\", \"domain\": [0.6419999999999999, 0.7859999999999999], \"matches\": \"y\", \"range\": [0, 1], \"showgrid\": false, \"ticktext\": [\"other\"], \"tickvals\": [0.5], \"title\": {\"text\": \"\"}, \"zeroline\": false}, \"yaxis5\": {\"anchor\": \"x5\", \"domain\": [0.856, 1.0], \"matches\": \"y\", \"range\": [0, 1], \"showgrid\": false, \"ticktext\": [\"other\"], \"tickvals\": [0.5], \"title\": {\"text\": \"\"}, \"zeroline\": false}},                        {\"displaylogo\": false, \"staticPlot\": false, \"toImageButtonOptions\": {\"height\": null, \"width\": null}, \"modeBarButtonsToRemove\": [\"sendDataToCloud\", \"lasso2d\", \"autoScale2d\", \"select2d\", \"zoom2d\", \"pan2d\", \"zoomIn2d\", \"zoomOut2d\", \"resetScale2d\", \"toggleSpikelines\", \"hoverCompareCartesian\", \"hoverClosestCartesian\"], \"responsive\": true}                    ).then(function(){\n",
       "                            \n",
       "var gd = document.getElementById('3c02f004-4af9-4c8e-89d6-a37b27cc56cf');\n",
       "var x = new MutationObserver(function (mutations, observer) {{\n",
       "        var display = window.getComputedStyle(gd).display;\n",
       "        if (!display || display === 'none') {{\n",
       "            console.log([gd, 'removed!']);\n",
       "            Plotly.purge(gd);\n",
       "            observer.disconnect();\n",
       "        }}\n",
       "}});\n",
       "\n",
       "// Listen for the removal of the full notebook cells\n",
       "var notebookContainer = gd.closest('#notebook-container');\n",
       "if (notebookContainer) {{\n",
       "    x.observe(notebookContainer, {childList: true});\n",
       "}}\n",
       "\n",
       "// Listen for the clearing of the current output cell\n",
       "var outputEl = gd.closest('.output');\n",
       "if (outputEl) {{\n",
       "    x.observe(outputEl, {childList: true});\n",
       "}}\n",
       "\n",
       "                        })                };                });            </script>        </div>"
      ]
     },
     "metadata": {},
     "output_type": "display_data"
    }
   ],
   "source": [
    "exp2 = dx.Explainer(reductions,\n",
    "                    X_test_std,\n",
    "                    y_test,\n",
    "                    label = 'reduced',\n",
    "                    model_type = 'classification', verbose = False)\n",
    "fo2 = exp2.model_fairness(protected=A_test, privileged = \"china\")\n",
    "fo2.plot(fo)"
   ]
  },
  {
   "cell_type": "code",
   "execution_count": 20,
   "metadata": {
    "pycharm": {
     "is_executing": true
    }
   },
   "outputs": [
    {
     "data": {
      "application/vnd.plotly.v1+json": {
       "config": {
        "displaylogo": false,
        "modeBarButtonsToRemove": [
         "sendDataToCloud",
         "lasso2d",
         "autoScale2d",
         "select2d",
         "zoom2d",
         "pan2d",
         "zoomIn2d",
         "zoomOut2d",
         "resetScale2d",
         "toggleSpikelines",
         "hoverCompareCartesian",
         "hoverClosestCartesian"
        ],
        "plotlyServerURL": "https://plot.ly",
        "staticPlot": false,
        "toImageButtonOptions": {
         "height": null,
         "width": null
        }
       },
       "data": [
        {
         "alignmentgroup": "True",
         "customdata": [
          [
           "other",
           0.686,
           "reduced"
          ]
         ],
         "hovertemplate": "<b>%{customdata[2]}</b><br>Subgroup: %{customdata[0]}<br>Score: %{customdata[1]}<br><extra></extra>",
         "legendgroup": "reduced",
         "marker": {
          "color": "#46bac2"
         },
         "name": "reduced",
         "offsetgroup": "reduced",
         "orientation": "h",
         "showlegend": true,
         "textposition": "auto",
         "type": "bar",
         "x": [
          -0.3136842105263158
         ],
         "xaxis": "x5",
         "y": [
          0.5
         ],
         "yaxis": "y5"
        },
        {
         "alignmentgroup": "True",
         "customdata": [
          [
           "other",
           0.591,
           "reduced"
          ]
         ],
         "hovertemplate": "<b>%{customdata[2]}</b><br>Subgroup: %{customdata[0]}<br>Score: %{customdata[1]}<br><extra></extra>",
         "legendgroup": "reduced",
         "marker": {
          "color": "#46bac2"
         },
         "name": "reduced",
         "offsetgroup": "reduced",
         "orientation": "h",
         "showlegend": false,
         "textposition": "auto",
         "type": "bar",
         "x": [
          -0.40921052631578947
         ],
         "xaxis": "x4",
         "y": [
          0.5
         ],
         "yaxis": "y4"
        },
        {
         "alignmentgroup": "True",
         "customdata": [
          [
           "other",
           1.177,
           "reduced"
          ]
         ],
         "hovertemplate": "<b>%{customdata[2]}</b><br>Subgroup: %{customdata[0]}<br>Score: %{customdata[1]}<br><extra></extra>",
         "legendgroup": "reduced",
         "marker": {
          "color": "#46bac2"
         },
         "name": "reduced",
         "offsetgroup": "reduced",
         "orientation": "h",
         "showlegend": false,
         "textposition": "auto",
         "type": "bar",
         "x": [
          0.17692307692307696
         ],
         "xaxis": "x3",
         "y": [
          0.5
         ],
         "yaxis": "y3"
        },
        {
         "alignmentgroup": "True",
         "customdata": [
          [
           "other",
           1.025,
           "reduced"
          ]
         ],
         "hovertemplate": "<b>%{customdata[2]}</b><br>Subgroup: %{customdata[0]}<br>Score: %{customdata[1]}<br><extra></extra>",
         "legendgroup": "reduced",
         "marker": {
          "color": "#46bac2"
         },
         "name": "reduced",
         "offsetgroup": "reduced",
         "orientation": "h",
         "showlegend": false,
         "textposition": "auto",
         "type": "bar",
         "x": [
          0.02478134110787167
         ],
         "xaxis": "x2",
         "y": [
          0.5
         ],
         "yaxis": "y2"
        },
        {
         "alignmentgroup": "True",
         "customdata": [
          [
           "other",
           0.691,
           "reduced"
          ]
         ],
         "hovertemplate": "<b>%{customdata[2]}</b><br>Subgroup: %{customdata[0]}<br>Score: %{customdata[1]}<br><extra></extra>",
         "legendgroup": "reduced",
         "marker": {
          "color": "#46bac2"
         },
         "name": "reduced",
         "offsetgroup": "reduced",
         "orientation": "h",
         "showlegend": false,
         "textposition": "auto",
         "type": "bar",
         "x": [
          -0.3092783505154638
         ],
         "xaxis": "x",
         "y": [
          0.5
         ],
         "yaxis": "y"
        }
       ],
       "layout": {
        "annotations": [
         {
          "font": {
           "size": 15
          },
          "showarrow": false,
          "text": "Statistical parity ratio   (TP + FP)/(TP + FP + TN + FN)",
          "x": 0.05,
          "xanchor": "left",
          "xref": "paper",
          "y": 0.144,
          "yanchor": "bottom",
          "yref": "paper"
         },
         {
          "font": {
           "size": 15
          },
          "showarrow": false,
          "text": "Accuracy equality ratio    (TP + TN)/(TP + FP + TN + FN)",
          "x": 0.05,
          "xanchor": "left",
          "xref": "paper",
          "y": 0.358,
          "yanchor": "bottom",
          "yref": "paper"
         },
         {
          "font": {
           "size": 15
          },
          "showarrow": false,
          "text": "Predictive equality ratio   FP/(FP + TN)",
          "x": 0.05,
          "xanchor": "left",
          "xref": "paper",
          "y": 0.572,
          "yanchor": "bottom",
          "yref": "paper"
         },
         {
          "font": {
           "size": 15
          },
          "showarrow": false,
          "text": "Predictive parity ratio     TP/(TP + FP)",
          "x": 0.05,
          "xanchor": "left",
          "xref": "paper",
          "y": 0.7859999999999999,
          "yanchor": "bottom",
          "yref": "paper"
         },
         {
          "font": {
           "size": 15
          },
          "showarrow": false,
          "text": "Equal opportunity ratio     TP/(TP + FN)",
          "x": 0.05,
          "xanchor": "left",
          "xref": "paper",
          "y": 1,
          "yanchor": "bottom",
          "yref": "paper"
         }
        ],
        "barmode": "group",
        "font": {
         "color": "#371ea3"
        },
        "legend": {
         "title": {
          "text": "label"
         },
         "tracegroupgap": 0
        },
        "margin": {
         "b": 71,
         "r": 30,
         "t": 78
        },
        "shapes": [
         {
          "fillcolor": "#f05a71",
          "layer": "below",
          "line": {
           "width": 0
          },
          "opacity": 0.1,
          "type": "rect",
          "x0": 0.25,
          "x1": 0.3,
          "xref": "x",
          "y0": 0,
          "y1": 1,
          "yref": "y"
         },
         {
          "fillcolor": "#f05a71",
          "layer": "below",
          "line": {
           "width": 0
          },
          "opacity": 0.1,
          "type": "rect",
          "x0": -0.45013157894736844,
          "x1": -0.19999999999999996,
          "xref": "x",
          "y0": 0,
          "y1": 1,
          "yref": "y"
         },
         {
          "fillcolor": "#c7f5bf",
          "layer": "below",
          "line": {
           "width": 0
          },
          "opacity": 0.1,
          "type": "rect",
          "x0": -0.19999999999999996,
          "x1": 0.25,
          "xref": "x",
          "y0": 0,
          "y1": 1,
          "yref": "y"
         },
         {
          "line": {
           "color": "#371ea3",
           "width": 1.5
          },
          "type": "line",
          "x0": 0,
          "x1": 0,
          "xref": "x",
          "y0": 0,
          "y1": 1,
          "yref": "y"
         },
         {
          "fillcolor": "#f05a71",
          "layer": "below",
          "line": {
           "width": 0
          },
          "opacity": 0.1,
          "type": "rect",
          "x0": 0.25,
          "x1": 0.3,
          "xref": "x",
          "y0": 0,
          "y1": 1,
          "yref": "y2"
         },
         {
          "fillcolor": "#f05a71",
          "layer": "below",
          "line": {
           "width": 0
          },
          "opacity": 0.1,
          "type": "rect",
          "x0": -0.45013157894736844,
          "x1": -0.19999999999999996,
          "xref": "x",
          "y0": 0,
          "y1": 1,
          "yref": "y2"
         },
         {
          "fillcolor": "#c7f5bf",
          "layer": "below",
          "line": {
           "width": 0
          },
          "opacity": 0.1,
          "type": "rect",
          "x0": -0.19999999999999996,
          "x1": 0.25,
          "xref": "x",
          "y0": 0,
          "y1": 1,
          "yref": "y2"
         },
         {
          "line": {
           "color": "#371ea3",
           "width": 1.5
          },
          "type": "line",
          "x0": 0,
          "x1": 0,
          "xref": "x",
          "y0": 0,
          "y1": 1,
          "yref": "y2"
         },
         {
          "fillcolor": "#f05a71",
          "layer": "below",
          "line": {
           "width": 0
          },
          "opacity": 0.1,
          "type": "rect",
          "x0": 0.25,
          "x1": 0.3,
          "xref": "x",
          "y0": 0,
          "y1": 1,
          "yref": "y3"
         },
         {
          "fillcolor": "#f05a71",
          "layer": "below",
          "line": {
           "width": 0
          },
          "opacity": 0.1,
          "type": "rect",
          "x0": -0.45013157894736844,
          "x1": -0.19999999999999996,
          "xref": "x",
          "y0": 0,
          "y1": 1,
          "yref": "y3"
         },
         {
          "fillcolor": "#c7f5bf",
          "layer": "below",
          "line": {
           "width": 0
          },
          "opacity": 0.1,
          "type": "rect",
          "x0": -0.19999999999999996,
          "x1": 0.25,
          "xref": "x",
          "y0": 0,
          "y1": 1,
          "yref": "y3"
         },
         {
          "line": {
           "color": "#371ea3",
           "width": 1.5
          },
          "type": "line",
          "x0": 0,
          "x1": 0,
          "xref": "x",
          "y0": 0,
          "y1": 1,
          "yref": "y3"
         },
         {
          "fillcolor": "#f05a71",
          "layer": "below",
          "line": {
           "width": 0
          },
          "opacity": 0.1,
          "type": "rect",
          "x0": 0.25,
          "x1": 0.3,
          "xref": "x",
          "y0": 0,
          "y1": 1,
          "yref": "y4"
         },
         {
          "fillcolor": "#f05a71",
          "layer": "below",
          "line": {
           "width": 0
          },
          "opacity": 0.1,
          "type": "rect",
          "x0": -0.45013157894736844,
          "x1": -0.19999999999999996,
          "xref": "x",
          "y0": 0,
          "y1": 1,
          "yref": "y4"
         },
         {
          "fillcolor": "#c7f5bf",
          "layer": "below",
          "line": {
           "width": 0
          },
          "opacity": 0.1,
          "type": "rect",
          "x0": -0.19999999999999996,
          "x1": 0.25,
          "xref": "x",
          "y0": 0,
          "y1": 1,
          "yref": "y4"
         },
         {
          "line": {
           "color": "#371ea3",
           "width": 1.5
          },
          "type": "line",
          "x0": 0,
          "x1": 0,
          "xref": "x",
          "y0": 0,
          "y1": 1,
          "yref": "y4"
         },
         {
          "fillcolor": "#f05a71",
          "layer": "below",
          "line": {
           "width": 0
          },
          "opacity": 0.1,
          "type": "rect",
          "x0": 0.25,
          "x1": 0.3,
          "xref": "x",
          "y0": 0,
          "y1": 1,
          "yref": "y5"
         },
         {
          "fillcolor": "#f05a71",
          "layer": "below",
          "line": {
           "width": 0
          },
          "opacity": 0.1,
          "type": "rect",
          "x0": -0.45013157894736844,
          "x1": -0.19999999999999996,
          "xref": "x",
          "y0": 0,
          "y1": 1,
          "yref": "y5"
         },
         {
          "fillcolor": "#c7f5bf",
          "layer": "below",
          "line": {
           "width": 0
          },
          "opacity": 0.1,
          "type": "rect",
          "x0": -0.19999999999999996,
          "x1": 0.25,
          "xref": "x",
          "y0": 0,
          "y1": 1,
          "yref": "y5"
         },
         {
          "line": {
           "color": "#371ea3",
           "width": 1.5
          },
          "type": "line",
          "x0": 0,
          "x1": 0,
          "xref": "x",
          "y0": 0,
          "y1": 1,
          "yref": "y5"
         }
        ],
        "template": {
         "data": {
          "bar": [
           {
            "error_x": {
             "color": "#2a3f5f"
            },
            "error_y": {
             "color": "#2a3f5f"
            },
            "marker": {
             "line": {
              "color": "white",
              "width": 0.5
             }
            },
            "type": "bar"
           }
          ],
          "barpolar": [
           {
            "marker": {
             "line": {
              "color": "white",
              "width": 0.5
             }
            },
            "type": "barpolar"
           }
          ],
          "carpet": [
           {
            "aaxis": {
             "endlinecolor": "#2a3f5f",
             "gridcolor": "#C8D4E3",
             "linecolor": "#C8D4E3",
             "minorgridcolor": "#C8D4E3",
             "startlinecolor": "#2a3f5f"
            },
            "baxis": {
             "endlinecolor": "#2a3f5f",
             "gridcolor": "#C8D4E3",
             "linecolor": "#C8D4E3",
             "minorgridcolor": "#C8D4E3",
             "startlinecolor": "#2a3f5f"
            },
            "type": "carpet"
           }
          ],
          "choropleth": [
           {
            "colorbar": {
             "outlinewidth": 0,
             "ticks": ""
            },
            "type": "choropleth"
           }
          ],
          "contour": [
           {
            "colorbar": {
             "outlinewidth": 0,
             "ticks": ""
            },
            "colorscale": [
             [
              0,
              "#0d0887"
             ],
             [
              0.1111111111111111,
              "#46039f"
             ],
             [
              0.2222222222222222,
              "#7201a8"
             ],
             [
              0.3333333333333333,
              "#9c179e"
             ],
             [
              0.4444444444444444,
              "#bd3786"
             ],
             [
              0.5555555555555556,
              "#d8576b"
             ],
             [
              0.6666666666666666,
              "#ed7953"
             ],
             [
              0.7777777777777778,
              "#fb9f3a"
             ],
             [
              0.8888888888888888,
              "#fdca26"
             ],
             [
              1,
              "#f0f921"
             ]
            ],
            "type": "contour"
           }
          ],
          "contourcarpet": [
           {
            "colorbar": {
             "outlinewidth": 0,
             "ticks": ""
            },
            "type": "contourcarpet"
           }
          ],
          "heatmap": [
           {
            "colorbar": {
             "outlinewidth": 0,
             "ticks": ""
            },
            "colorscale": [
             [
              0,
              "#0d0887"
             ],
             [
              0.1111111111111111,
              "#46039f"
             ],
             [
              0.2222222222222222,
              "#7201a8"
             ],
             [
              0.3333333333333333,
              "#9c179e"
             ],
             [
              0.4444444444444444,
              "#bd3786"
             ],
             [
              0.5555555555555556,
              "#d8576b"
             ],
             [
              0.6666666666666666,
              "#ed7953"
             ],
             [
              0.7777777777777778,
              "#fb9f3a"
             ],
             [
              0.8888888888888888,
              "#fdca26"
             ],
             [
              1,
              "#f0f921"
             ]
            ],
            "type": "heatmap"
           }
          ],
          "heatmapgl": [
           {
            "colorbar": {
             "outlinewidth": 0,
             "ticks": ""
            },
            "colorscale": [
             [
              0,
              "#0d0887"
             ],
             [
              0.1111111111111111,
              "#46039f"
             ],
             [
              0.2222222222222222,
              "#7201a8"
             ],
             [
              0.3333333333333333,
              "#9c179e"
             ],
             [
              0.4444444444444444,
              "#bd3786"
             ],
             [
              0.5555555555555556,
              "#d8576b"
             ],
             [
              0.6666666666666666,
              "#ed7953"
             ],
             [
              0.7777777777777778,
              "#fb9f3a"
             ],
             [
              0.8888888888888888,
              "#fdca26"
             ],
             [
              1,
              "#f0f921"
             ]
            ],
            "type": "heatmapgl"
           }
          ],
          "histogram": [
           {
            "marker": {
             "colorbar": {
              "outlinewidth": 0,
              "ticks": ""
             }
            },
            "type": "histogram"
           }
          ],
          "histogram2d": [
           {
            "colorbar": {
             "outlinewidth": 0,
             "ticks": ""
            },
            "colorscale": [
             [
              0,
              "#0d0887"
             ],
             [
              0.1111111111111111,
              "#46039f"
             ],
             [
              0.2222222222222222,
              "#7201a8"
             ],
             [
              0.3333333333333333,
              "#9c179e"
             ],
             [
              0.4444444444444444,
              "#bd3786"
             ],
             [
              0.5555555555555556,
              "#d8576b"
             ],
             [
              0.6666666666666666,
              "#ed7953"
             ],
             [
              0.7777777777777778,
              "#fb9f3a"
             ],
             [
              0.8888888888888888,
              "#fdca26"
             ],
             [
              1,
              "#f0f921"
             ]
            ],
            "type": "histogram2d"
           }
          ],
          "histogram2dcontour": [
           {
            "colorbar": {
             "outlinewidth": 0,
             "ticks": ""
            },
            "colorscale": [
             [
              0,
              "#0d0887"
             ],
             [
              0.1111111111111111,
              "#46039f"
             ],
             [
              0.2222222222222222,
              "#7201a8"
             ],
             [
              0.3333333333333333,
              "#9c179e"
             ],
             [
              0.4444444444444444,
              "#bd3786"
             ],
             [
              0.5555555555555556,
              "#d8576b"
             ],
             [
              0.6666666666666666,
              "#ed7953"
             ],
             [
              0.7777777777777778,
              "#fb9f3a"
             ],
             [
              0.8888888888888888,
              "#fdca26"
             ],
             [
              1,
              "#f0f921"
             ]
            ],
            "type": "histogram2dcontour"
           }
          ],
          "mesh3d": [
           {
            "colorbar": {
             "outlinewidth": 0,
             "ticks": ""
            },
            "type": "mesh3d"
           }
          ],
          "parcoords": [
           {
            "line": {
             "colorbar": {
              "outlinewidth": 0,
              "ticks": ""
             }
            },
            "type": "parcoords"
           }
          ],
          "pie": [
           {
            "automargin": true,
            "type": "pie"
           }
          ],
          "scatter": [
           {
            "marker": {
             "colorbar": {
              "outlinewidth": 0,
              "ticks": ""
             }
            },
            "type": "scatter"
           }
          ],
          "scatter3d": [
           {
            "line": {
             "colorbar": {
              "outlinewidth": 0,
              "ticks": ""
             }
            },
            "marker": {
             "colorbar": {
              "outlinewidth": 0,
              "ticks": ""
             }
            },
            "type": "scatter3d"
           }
          ],
          "scattercarpet": [
           {
            "marker": {
             "colorbar": {
              "outlinewidth": 0,
              "ticks": ""
             }
            },
            "type": "scattercarpet"
           }
          ],
          "scattergeo": [
           {
            "marker": {
             "colorbar": {
              "outlinewidth": 0,
              "ticks": ""
             }
            },
            "type": "scattergeo"
           }
          ],
          "scattergl": [
           {
            "marker": {
             "colorbar": {
              "outlinewidth": 0,
              "ticks": ""
             }
            },
            "type": "scattergl"
           }
          ],
          "scattermapbox": [
           {
            "marker": {
             "colorbar": {
              "outlinewidth": 0,
              "ticks": ""
             }
            },
            "type": "scattermapbox"
           }
          ],
          "scatterpolar": [
           {
            "marker": {
             "colorbar": {
              "outlinewidth": 0,
              "ticks": ""
             }
            },
            "type": "scatterpolar"
           }
          ],
          "scatterpolargl": [
           {
            "marker": {
             "colorbar": {
              "outlinewidth": 0,
              "ticks": ""
             }
            },
            "type": "scatterpolargl"
           }
          ],
          "scatterternary": [
           {
            "marker": {
             "colorbar": {
              "outlinewidth": 0,
              "ticks": ""
             }
            },
            "type": "scatterternary"
           }
          ],
          "surface": [
           {
            "colorbar": {
             "outlinewidth": 0,
             "ticks": ""
            },
            "colorscale": [
             [
              0,
              "#0d0887"
             ],
             [
              0.1111111111111111,
              "#46039f"
             ],
             [
              0.2222222222222222,
              "#7201a8"
             ],
             [
              0.3333333333333333,
              "#9c179e"
             ],
             [
              0.4444444444444444,
              "#bd3786"
             ],
             [
              0.5555555555555556,
              "#d8576b"
             ],
             [
              0.6666666666666666,
              "#ed7953"
             ],
             [
              0.7777777777777778,
              "#fb9f3a"
             ],
             [
              0.8888888888888888,
              "#fdca26"
             ],
             [
              1,
              "#f0f921"
             ]
            ],
            "type": "surface"
           }
          ],
          "table": [
           {
            "cells": {
             "fill": {
              "color": "#EBF0F8"
             },
             "line": {
              "color": "white"
             }
            },
            "header": {
             "fill": {
              "color": "#C8D4E3"
             },
             "line": {
              "color": "white"
             }
            },
            "type": "table"
           }
          ]
         },
         "layout": {
          "annotationdefaults": {
           "arrowcolor": "#2a3f5f",
           "arrowhead": 0,
           "arrowwidth": 1
          },
          "autotypenumbers": "strict",
          "coloraxis": {
           "colorbar": {
            "outlinewidth": 0,
            "ticks": ""
           }
          },
          "colorscale": {
           "diverging": [
            [
             0,
             "#8e0152"
            ],
            [
             0.1,
             "#c51b7d"
            ],
            [
             0.2,
             "#de77ae"
            ],
            [
             0.3,
             "#f1b6da"
            ],
            [
             0.4,
             "#fde0ef"
            ],
            [
             0.5,
             "#f7f7f7"
            ],
            [
             0.6,
             "#e6f5d0"
            ],
            [
             0.7,
             "#b8e186"
            ],
            [
             0.8,
             "#7fbc41"
            ],
            [
             0.9,
             "#4d9221"
            ],
            [
             1,
             "#276419"
            ]
           ],
           "sequential": [
            [
             0,
             "#0d0887"
            ],
            [
             0.1111111111111111,
             "#46039f"
            ],
            [
             0.2222222222222222,
             "#7201a8"
            ],
            [
             0.3333333333333333,
             "#9c179e"
            ],
            [
             0.4444444444444444,
             "#bd3786"
            ],
            [
             0.5555555555555556,
             "#d8576b"
            ],
            [
             0.6666666666666666,
             "#ed7953"
            ],
            [
             0.7777777777777778,
             "#fb9f3a"
            ],
            [
             0.8888888888888888,
             "#fdca26"
            ],
            [
             1,
             "#f0f921"
            ]
           ],
           "sequentialminus": [
            [
             0,
             "#0d0887"
            ],
            [
             0.1111111111111111,
             "#46039f"
            ],
            [
             0.2222222222222222,
             "#7201a8"
            ],
            [
             0.3333333333333333,
             "#9c179e"
            ],
            [
             0.4444444444444444,
             "#bd3786"
            ],
            [
             0.5555555555555556,
             "#d8576b"
            ],
            [
             0.6666666666666666,
             "#ed7953"
            ],
            [
             0.7777777777777778,
             "#fb9f3a"
            ],
            [
             0.8888888888888888,
             "#fdca26"
            ],
            [
             1,
             "#f0f921"
            ]
           ]
          },
          "colorway": [
           "#636efa",
           "#EF553B",
           "#00cc96",
           "#ab63fa",
           "#FFA15A",
           "#19d3f3",
           "#FF6692",
           "#B6E880",
           "#FF97FF",
           "#FECB52"
          ],
          "font": {
           "color": "#2a3f5f"
          },
          "geo": {
           "bgcolor": "white",
           "lakecolor": "white",
           "landcolor": "white",
           "showlakes": true,
           "showland": true,
           "subunitcolor": "#C8D4E3"
          },
          "hoverlabel": {
           "align": "left"
          },
          "hovermode": "closest",
          "mapbox": {
           "style": "light"
          },
          "paper_bgcolor": "white",
          "plot_bgcolor": "white",
          "polar": {
           "angularaxis": {
            "gridcolor": "#EBF0F8",
            "linecolor": "#EBF0F8",
            "ticks": ""
           },
           "bgcolor": "white",
           "radialaxis": {
            "gridcolor": "#EBF0F8",
            "linecolor": "#EBF0F8",
            "ticks": ""
           }
          },
          "scene": {
           "xaxis": {
            "backgroundcolor": "white",
            "gridcolor": "#DFE8F3",
            "gridwidth": 2,
            "linecolor": "#EBF0F8",
            "showbackground": true,
            "ticks": "",
            "zerolinecolor": "#EBF0F8"
           },
           "yaxis": {
            "backgroundcolor": "white",
            "gridcolor": "#DFE8F3",
            "gridwidth": 2,
            "linecolor": "#EBF0F8",
            "showbackground": true,
            "ticks": "",
            "zerolinecolor": "#EBF0F8"
           },
           "zaxis": {
            "backgroundcolor": "white",
            "gridcolor": "#DFE8F3",
            "gridwidth": 2,
            "linecolor": "#EBF0F8",
            "showbackground": true,
            "ticks": "",
            "zerolinecolor": "#EBF0F8"
           }
          },
          "shapedefaults": {
           "line": {
            "color": "#2a3f5f"
           }
          },
          "ternary": {
           "aaxis": {
            "gridcolor": "#DFE8F3",
            "linecolor": "#A2B1C6",
            "ticks": ""
           },
           "baxis": {
            "gridcolor": "#DFE8F3",
            "linecolor": "#A2B1C6",
            "ticks": ""
           },
           "bgcolor": "white",
           "caxis": {
            "gridcolor": "#DFE8F3",
            "linecolor": "#A2B1C6",
            "ticks": ""
           }
          },
          "title": {
           "x": 0.05
          },
          "xaxis": {
           "automargin": true,
           "gridcolor": "#EBF0F8",
           "linecolor": "#EBF0F8",
           "ticks": "",
           "title": {
            "standoff": 15
           },
           "zerolinecolor": "#EBF0F8",
           "zerolinewidth": 2
          },
          "yaxis": {
           "automargin": true,
           "gridcolor": "#EBF0F8",
           "linecolor": "#EBF0F8",
           "ticks": "",
           "title": {
            "standoff": 15
           },
           "zerolinecolor": "#EBF0F8",
           "zerolinewidth": 2
          }
         }
        },
        "title": {
         "font": {
          "size": 25
         },
         "text": "Fairness Check",
         "x": 0.5,
         "y": 0.99
        },
        "xaxis": {
         "anchor": "y",
         "domain": [
          0,
          1
         ],
         "range": [
          -0.45013157894736844,
          0.3
         ],
         "ticktext": [
          0.5,
          0.6,
          0.7,
          0.8,
          0.9,
          1,
          1.1,
          1.2,
          1
         ],
         "tickvals": [
          -0.5,
          -0.4,
          -0.30000000000000004,
          -0.19999999999999996,
          -0.09999999999999998,
          0,
          0.10000000000000009,
          0.19999999999999996,
          0
         ],
         "title": {
          "text": "score"
         }
        },
        "xaxis2": {
         "anchor": "y2",
         "domain": [
          0,
          1
         ],
         "matches": "x",
         "range": [
          -0.45013157894736844,
          0.3
         ],
         "showticklabels": false,
         "ticktext": [
          0.5,
          0.6,
          0.7,
          0.8,
          0.9,
          1,
          1.1,
          1.2,
          1
         ],
         "tickvals": [
          -0.5,
          -0.4,
          -0.30000000000000004,
          -0.19999999999999996,
          -0.09999999999999998,
          0,
          0.10000000000000009,
          0.19999999999999996,
          0
         ]
        },
        "xaxis3": {
         "anchor": "y3",
         "domain": [
          0,
          1
         ],
         "matches": "x",
         "range": [
          -0.45013157894736844,
          0.3
         ],
         "showticklabels": false,
         "ticktext": [
          0.5,
          0.6,
          0.7,
          0.8,
          0.9,
          1,
          1.1,
          1.2,
          1
         ],
         "tickvals": [
          -0.5,
          -0.4,
          -0.30000000000000004,
          -0.19999999999999996,
          -0.09999999999999998,
          0,
          0.10000000000000009,
          0.19999999999999996,
          0
         ]
        },
        "xaxis4": {
         "anchor": "y4",
         "domain": [
          0,
          1
         ],
         "matches": "x",
         "range": [
          -0.45013157894736844,
          0.3
         ],
         "showticklabels": false,
         "ticktext": [
          0.5,
          0.6,
          0.7,
          0.8,
          0.9,
          1,
          1.1,
          1.2,
          1
         ],
         "tickvals": [
          -0.5,
          -0.4,
          -0.30000000000000004,
          -0.19999999999999996,
          -0.09999999999999998,
          0,
          0.10000000000000009,
          0.19999999999999996,
          0
         ]
        },
        "xaxis5": {
         "anchor": "y5",
         "domain": [
          0,
          1
         ],
         "matches": "x",
         "range": [
          -0.45013157894736844,
          0.3
         ],
         "showticklabels": false,
         "ticktext": [
          0.5,
          0.6,
          0.7,
          0.8,
          0.9,
          1,
          1.1,
          1.2,
          1
         ],
         "tickvals": [
          -0.5,
          -0.4,
          -0.30000000000000004,
          -0.19999999999999996,
          -0.09999999999999998,
          0,
          0.10000000000000009,
          0.19999999999999996,
          0
         ]
        },
        "yaxis": {
         "anchor": "x",
         "domain": [
          0,
          0.144
         ],
         "range": [
          0,
          1
         ],
         "showgrid": false,
         "ticktext": [
          "other"
         ],
         "tickvals": [
          0.5
         ],
         "title": {
          "text": ""
         },
         "zeroline": false
        },
        "yaxis2": {
         "anchor": "x2",
         "domain": [
          0.214,
          0.358
         ],
         "matches": "y",
         "range": [
          0,
          1
         ],
         "showgrid": false,
         "ticktext": [
          "other"
         ],
         "tickvals": [
          0.5
         ],
         "title": {
          "text": ""
         },
         "zeroline": false
        },
        "yaxis3": {
         "anchor": "x3",
         "domain": [
          0.428,
          0.572
         ],
         "matches": "y",
         "range": [
          0,
          1
         ],
         "showgrid": false,
         "ticktext": [
          "other"
         ],
         "tickvals": [
          0.5
         ],
         "title": {
          "text": "subgroup"
         },
         "zeroline": false
        },
        "yaxis4": {
         "anchor": "x4",
         "domain": [
          0.6419999999999999,
          0.7859999999999999
         ],
         "matches": "y",
         "range": [
          0,
          1
         ],
         "showgrid": false,
         "ticktext": [
          "other"
         ],
         "tickvals": [
          0.5
         ],
         "title": {
          "text": ""
         },
         "zeroline": false
        },
        "yaxis5": {
         "anchor": "x5",
         "domain": [
          0.856,
          1
         ],
         "matches": "y",
         "range": [
          0,
          1
         ],
         "showgrid": false,
         "ticktext": [
          "other"
         ],
         "tickvals": [
          0.5
         ],
         "title": {
          "text": ""
         },
         "zeroline": false
        }
       }
      },
      "text/html": [
       "<div>                            <div id=\"c014b457-e843-4dd7-bd45-686c766c1206\" class=\"plotly-graph-div\" style=\"height:525px; width:100%;\"></div>            <script type=\"text/javascript\">                require([\"plotly\"], function(Plotly) {                    window.PLOTLYENV=window.PLOTLYENV || {};                                    if (document.getElementById(\"c014b457-e843-4dd7-bd45-686c766c1206\")) {                    Plotly.newPlot(                        \"c014b457-e843-4dd7-bd45-686c766c1206\",                        [{\"alignmentgroup\": \"True\", \"customdata\": [[\"other\", 0.686, \"reduced\"]], \"hovertemplate\": \"<b>%{customdata[2]}</b><br>Subgroup: %{customdata[0]}<br>Score: %{customdata[1]}<br><extra></extra>\", \"legendgroup\": \"reduced\", \"marker\": {\"color\": \"#46bac2\"}, \"name\": \"reduced\", \"offsetgroup\": \"reduced\", \"orientation\": \"h\", \"showlegend\": true, \"textposition\": \"auto\", \"type\": \"bar\", \"x\": [-0.3136842105263158], \"xaxis\": \"x5\", \"y\": [0.5], \"yaxis\": \"y5\"}, {\"alignmentgroup\": \"True\", \"customdata\": [[\"other\", 0.591, \"reduced\"]], \"hovertemplate\": \"<b>%{customdata[2]}</b><br>Subgroup: %{customdata[0]}<br>Score: %{customdata[1]}<br><extra></extra>\", \"legendgroup\": \"reduced\", \"marker\": {\"color\": \"#46bac2\"}, \"name\": \"reduced\", \"offsetgroup\": \"reduced\", \"orientation\": \"h\", \"showlegend\": false, \"textposition\": \"auto\", \"type\": \"bar\", \"x\": [-0.40921052631578947], \"xaxis\": \"x4\", \"y\": [0.5], \"yaxis\": \"y4\"}, {\"alignmentgroup\": \"True\", \"customdata\": [[\"other\", 1.177, \"reduced\"]], \"hovertemplate\": \"<b>%{customdata[2]}</b><br>Subgroup: %{customdata[0]}<br>Score: %{customdata[1]}<br><extra></extra>\", \"legendgroup\": \"reduced\", \"marker\": {\"color\": \"#46bac2\"}, \"name\": \"reduced\", \"offsetgroup\": \"reduced\", \"orientation\": \"h\", \"showlegend\": false, \"textposition\": \"auto\", \"type\": \"bar\", \"x\": [0.17692307692307696], \"xaxis\": \"x3\", \"y\": [0.5], \"yaxis\": \"y3\"}, {\"alignmentgroup\": \"True\", \"customdata\": [[\"other\", 1.025, \"reduced\"]], \"hovertemplate\": \"<b>%{customdata[2]}</b><br>Subgroup: %{customdata[0]}<br>Score: %{customdata[1]}<br><extra></extra>\", \"legendgroup\": \"reduced\", \"marker\": {\"color\": \"#46bac2\"}, \"name\": \"reduced\", \"offsetgroup\": \"reduced\", \"orientation\": \"h\", \"showlegend\": false, \"textposition\": \"auto\", \"type\": \"bar\", \"x\": [0.02478134110787167], \"xaxis\": \"x2\", \"y\": [0.5], \"yaxis\": \"y2\"}, {\"alignmentgroup\": \"True\", \"customdata\": [[\"other\", 0.691, \"reduced\"]], \"hovertemplate\": \"<b>%{customdata[2]}</b><br>Subgroup: %{customdata[0]}<br>Score: %{customdata[1]}<br><extra></extra>\", \"legendgroup\": \"reduced\", \"marker\": {\"color\": \"#46bac2\"}, \"name\": \"reduced\", \"offsetgroup\": \"reduced\", \"orientation\": \"h\", \"showlegend\": false, \"textposition\": \"auto\", \"type\": \"bar\", \"x\": [-0.3092783505154638], \"xaxis\": \"x\", \"y\": [0.5], \"yaxis\": \"y\"}],                        {\"annotations\": [{\"font\": {\"size\": 15}, \"showarrow\": false, \"text\": \"Statistical parity ratio   (TP + FP)/(TP + FP + TN + FN)\", \"x\": 0.05, \"xanchor\": \"left\", \"xref\": \"paper\", \"y\": 0.144, \"yanchor\": \"bottom\", \"yref\": \"paper\"}, {\"font\": {\"size\": 15}, \"showarrow\": false, \"text\": \"Accuracy equality ratio    (TP + TN)/(TP + FP + TN + FN)\", \"x\": 0.05, \"xanchor\": \"left\", \"xref\": \"paper\", \"y\": 0.358, \"yanchor\": \"bottom\", \"yref\": \"paper\"}, {\"font\": {\"size\": 15}, \"showarrow\": false, \"text\": \"Predictive equality ratio   FP/(FP + TN)\", \"x\": 0.05, \"xanchor\": \"left\", \"xref\": \"paper\", \"y\": 0.572, \"yanchor\": \"bottom\", \"yref\": \"paper\"}, {\"font\": {\"size\": 15}, \"showarrow\": false, \"text\": \"Predictive parity ratio     TP/(TP + FP)\", \"x\": 0.05, \"xanchor\": \"left\", \"xref\": \"paper\", \"y\": 0.7859999999999999, \"yanchor\": \"bottom\", \"yref\": \"paper\"}, {\"font\": {\"size\": 15}, \"showarrow\": false, \"text\": \"Equal opportunity ratio     TP/(TP + FN)\", \"x\": 0.05, \"xanchor\": \"left\", \"xref\": \"paper\", \"y\": 1.0, \"yanchor\": \"bottom\", \"yref\": \"paper\"}], \"barmode\": \"group\", \"font\": {\"color\": \"#371ea3\"}, \"legend\": {\"title\": {\"text\": \"label\"}, \"tracegroupgap\": 0}, \"margin\": {\"b\": 71, \"r\": 30, \"t\": 78}, \"shapes\": [{\"fillcolor\": \"#f05a71\", \"layer\": \"below\", \"line\": {\"width\": 0}, \"opacity\": 0.1, \"type\": \"rect\", \"x0\": 0.25, \"x1\": 0.3, \"xref\": \"x\", \"y0\": 0, \"y1\": 1, \"yref\": \"y\"}, {\"fillcolor\": \"#f05a71\", \"layer\": \"below\", \"line\": {\"width\": 0}, \"opacity\": 0.1, \"type\": \"rect\", \"x0\": -0.45013157894736844, \"x1\": -0.19999999999999996, \"xref\": \"x\", \"y0\": 0, \"y1\": 1, \"yref\": \"y\"}, {\"fillcolor\": \"#c7f5bf\", \"layer\": \"below\", \"line\": {\"width\": 0}, \"opacity\": 0.1, \"type\": \"rect\", \"x0\": -0.19999999999999996, \"x1\": 0.25, \"xref\": \"x\", \"y0\": 0, \"y1\": 1, \"yref\": \"y\"}, {\"line\": {\"color\": \"#371ea3\", \"width\": 1.5}, \"type\": \"line\", \"x0\": 0, \"x1\": 0, \"xref\": \"x\", \"y0\": 0, \"y1\": 1, \"yref\": \"y\"}, {\"fillcolor\": \"#f05a71\", \"layer\": \"below\", \"line\": {\"width\": 0}, \"opacity\": 0.1, \"type\": \"rect\", \"x0\": 0.25, \"x1\": 0.3, \"xref\": \"x\", \"y0\": 0, \"y1\": 1, \"yref\": \"y2\"}, {\"fillcolor\": \"#f05a71\", \"layer\": \"below\", \"line\": {\"width\": 0}, \"opacity\": 0.1, \"type\": \"rect\", \"x0\": -0.45013157894736844, \"x1\": -0.19999999999999996, \"xref\": \"x\", \"y0\": 0, \"y1\": 1, \"yref\": \"y2\"}, {\"fillcolor\": \"#c7f5bf\", \"layer\": \"below\", \"line\": {\"width\": 0}, \"opacity\": 0.1, \"type\": \"rect\", \"x0\": -0.19999999999999996, \"x1\": 0.25, \"xref\": \"x\", \"y0\": 0, \"y1\": 1, \"yref\": \"y2\"}, {\"line\": {\"color\": \"#371ea3\", \"width\": 1.5}, \"type\": \"line\", \"x0\": 0, \"x1\": 0, \"xref\": \"x\", \"y0\": 0, \"y1\": 1, \"yref\": \"y2\"}, {\"fillcolor\": \"#f05a71\", \"layer\": \"below\", \"line\": {\"width\": 0}, \"opacity\": 0.1, \"type\": \"rect\", \"x0\": 0.25, \"x1\": 0.3, \"xref\": \"x\", \"y0\": 0, \"y1\": 1, \"yref\": \"y3\"}, {\"fillcolor\": \"#f05a71\", \"layer\": \"below\", \"line\": {\"width\": 0}, \"opacity\": 0.1, \"type\": \"rect\", \"x0\": -0.45013157894736844, \"x1\": -0.19999999999999996, \"xref\": \"x\", \"y0\": 0, \"y1\": 1, \"yref\": \"y3\"}, {\"fillcolor\": \"#c7f5bf\", \"layer\": \"below\", \"line\": {\"width\": 0}, \"opacity\": 0.1, \"type\": \"rect\", \"x0\": -0.19999999999999996, \"x1\": 0.25, \"xref\": \"x\", \"y0\": 0, \"y1\": 1, \"yref\": \"y3\"}, {\"line\": {\"color\": \"#371ea3\", \"width\": 1.5}, \"type\": \"line\", \"x0\": 0, \"x1\": 0, \"xref\": \"x\", \"y0\": 0, \"y1\": 1, \"yref\": \"y3\"}, {\"fillcolor\": \"#f05a71\", \"layer\": \"below\", \"line\": {\"width\": 0}, \"opacity\": 0.1, \"type\": \"rect\", \"x0\": 0.25, \"x1\": 0.3, \"xref\": \"x\", \"y0\": 0, \"y1\": 1, \"yref\": \"y4\"}, {\"fillcolor\": \"#f05a71\", \"layer\": \"below\", \"line\": {\"width\": 0}, \"opacity\": 0.1, \"type\": \"rect\", \"x0\": -0.45013157894736844, \"x1\": -0.19999999999999996, \"xref\": \"x\", \"y0\": 0, \"y1\": 1, \"yref\": \"y4\"}, {\"fillcolor\": \"#c7f5bf\", \"layer\": \"below\", \"line\": {\"width\": 0}, \"opacity\": 0.1, \"type\": \"rect\", \"x0\": -0.19999999999999996, \"x1\": 0.25, \"xref\": \"x\", \"y0\": 0, \"y1\": 1, \"yref\": \"y4\"}, {\"line\": {\"color\": \"#371ea3\", \"width\": 1.5}, \"type\": \"line\", \"x0\": 0, \"x1\": 0, \"xref\": \"x\", \"y0\": 0, \"y1\": 1, \"yref\": \"y4\"}, {\"fillcolor\": \"#f05a71\", \"layer\": \"below\", \"line\": {\"width\": 0}, \"opacity\": 0.1, \"type\": \"rect\", \"x0\": 0.25, \"x1\": 0.3, \"xref\": \"x\", \"y0\": 0, \"y1\": 1, \"yref\": \"y5\"}, {\"fillcolor\": \"#f05a71\", \"layer\": \"below\", \"line\": {\"width\": 0}, \"opacity\": 0.1, \"type\": \"rect\", \"x0\": -0.45013157894736844, \"x1\": -0.19999999999999996, \"xref\": \"x\", \"y0\": 0, \"y1\": 1, \"yref\": \"y5\"}, {\"fillcolor\": \"#c7f5bf\", \"layer\": \"below\", \"line\": {\"width\": 0}, \"opacity\": 0.1, \"type\": \"rect\", \"x0\": -0.19999999999999996, \"x1\": 0.25, \"xref\": \"x\", \"y0\": 0, \"y1\": 1, \"yref\": \"y5\"}, {\"line\": {\"color\": \"#371ea3\", \"width\": 1.5}, \"type\": \"line\", \"x0\": 0, \"x1\": 0, \"xref\": \"x\", \"y0\": 0, \"y1\": 1, \"yref\": \"y5\"}], \"template\": {\"data\": {\"bar\": [{\"error_x\": {\"color\": \"#2a3f5f\"}, \"error_y\": {\"color\": \"#2a3f5f\"}, \"marker\": {\"line\": {\"color\": \"white\", \"width\": 0.5}}, \"type\": \"bar\"}], \"barpolar\": [{\"marker\": {\"line\": {\"color\": \"white\", \"width\": 0.5}}, \"type\": \"barpolar\"}], \"carpet\": [{\"aaxis\": {\"endlinecolor\": \"#2a3f5f\", \"gridcolor\": \"#C8D4E3\", \"linecolor\": \"#C8D4E3\", \"minorgridcolor\": \"#C8D4E3\", \"startlinecolor\": \"#2a3f5f\"}, \"baxis\": {\"endlinecolor\": \"#2a3f5f\", \"gridcolor\": \"#C8D4E3\", \"linecolor\": \"#C8D4E3\", \"minorgridcolor\": \"#C8D4E3\", \"startlinecolor\": \"#2a3f5f\"}, \"type\": \"carpet\"}], \"choropleth\": [{\"colorbar\": {\"outlinewidth\": 0, \"ticks\": \"\"}, \"type\": \"choropleth\"}], \"contour\": [{\"colorbar\": {\"outlinewidth\": 0, \"ticks\": \"\"}, \"colorscale\": [[0.0, \"#0d0887\"], [0.1111111111111111, \"#46039f\"], [0.2222222222222222, \"#7201a8\"], [0.3333333333333333, \"#9c179e\"], [0.4444444444444444, \"#bd3786\"], [0.5555555555555556, \"#d8576b\"], [0.6666666666666666, \"#ed7953\"], [0.7777777777777778, \"#fb9f3a\"], [0.8888888888888888, \"#fdca26\"], [1.0, \"#f0f921\"]], \"type\": \"contour\"}], \"contourcarpet\": [{\"colorbar\": {\"outlinewidth\": 0, \"ticks\": \"\"}, \"type\": \"contourcarpet\"}], \"heatmap\": [{\"colorbar\": {\"outlinewidth\": 0, \"ticks\": \"\"}, \"colorscale\": [[0.0, \"#0d0887\"], [0.1111111111111111, \"#46039f\"], [0.2222222222222222, \"#7201a8\"], [0.3333333333333333, \"#9c179e\"], [0.4444444444444444, \"#bd3786\"], [0.5555555555555556, \"#d8576b\"], [0.6666666666666666, \"#ed7953\"], [0.7777777777777778, \"#fb9f3a\"], [0.8888888888888888, \"#fdca26\"], [1.0, \"#f0f921\"]], \"type\": \"heatmap\"}], \"heatmapgl\": [{\"colorbar\": {\"outlinewidth\": 0, \"ticks\": \"\"}, \"colorscale\": [[0.0, \"#0d0887\"], [0.1111111111111111, \"#46039f\"], [0.2222222222222222, \"#7201a8\"], [0.3333333333333333, \"#9c179e\"], [0.4444444444444444, \"#bd3786\"], [0.5555555555555556, \"#d8576b\"], [0.6666666666666666, \"#ed7953\"], [0.7777777777777778, \"#fb9f3a\"], [0.8888888888888888, \"#fdca26\"], [1.0, \"#f0f921\"]], \"type\": \"heatmapgl\"}], \"histogram\": [{\"marker\": {\"colorbar\": {\"outlinewidth\": 0, \"ticks\": \"\"}}, \"type\": \"histogram\"}], \"histogram2d\": [{\"colorbar\": {\"outlinewidth\": 0, \"ticks\": \"\"}, \"colorscale\": [[0.0, \"#0d0887\"], [0.1111111111111111, \"#46039f\"], [0.2222222222222222, \"#7201a8\"], [0.3333333333333333, \"#9c179e\"], [0.4444444444444444, \"#bd3786\"], [0.5555555555555556, \"#d8576b\"], [0.6666666666666666, \"#ed7953\"], [0.7777777777777778, \"#fb9f3a\"], [0.8888888888888888, \"#fdca26\"], [1.0, \"#f0f921\"]], \"type\": \"histogram2d\"}], \"histogram2dcontour\": [{\"colorbar\": {\"outlinewidth\": 0, \"ticks\": \"\"}, \"colorscale\": [[0.0, \"#0d0887\"], [0.1111111111111111, \"#46039f\"], [0.2222222222222222, \"#7201a8\"], [0.3333333333333333, \"#9c179e\"], [0.4444444444444444, \"#bd3786\"], [0.5555555555555556, \"#d8576b\"], [0.6666666666666666, \"#ed7953\"], [0.7777777777777778, \"#fb9f3a\"], [0.8888888888888888, \"#fdca26\"], [1.0, \"#f0f921\"]], \"type\": \"histogram2dcontour\"}], \"mesh3d\": [{\"colorbar\": {\"outlinewidth\": 0, \"ticks\": \"\"}, \"type\": \"mesh3d\"}], \"parcoords\": [{\"line\": {\"colorbar\": {\"outlinewidth\": 0, \"ticks\": \"\"}}, \"type\": \"parcoords\"}], \"pie\": [{\"automargin\": true, \"type\": \"pie\"}], \"scatter\": [{\"marker\": {\"colorbar\": {\"outlinewidth\": 0, \"ticks\": \"\"}}, \"type\": \"scatter\"}], \"scatter3d\": [{\"line\": {\"colorbar\": {\"outlinewidth\": 0, \"ticks\": \"\"}}, \"marker\": {\"colorbar\": {\"outlinewidth\": 0, \"ticks\": \"\"}}, \"type\": \"scatter3d\"}], \"scattercarpet\": [{\"marker\": {\"colorbar\": {\"outlinewidth\": 0, \"ticks\": \"\"}}, \"type\": \"scattercarpet\"}], \"scattergeo\": [{\"marker\": {\"colorbar\": {\"outlinewidth\": 0, \"ticks\": \"\"}}, \"type\": \"scattergeo\"}], \"scattergl\": [{\"marker\": {\"colorbar\": {\"outlinewidth\": 0, \"ticks\": \"\"}}, \"type\": \"scattergl\"}], \"scattermapbox\": [{\"marker\": {\"colorbar\": {\"outlinewidth\": 0, \"ticks\": \"\"}}, \"type\": \"scattermapbox\"}], \"scatterpolar\": [{\"marker\": {\"colorbar\": {\"outlinewidth\": 0, \"ticks\": \"\"}}, \"type\": \"scatterpolar\"}], \"scatterpolargl\": [{\"marker\": {\"colorbar\": {\"outlinewidth\": 0, \"ticks\": \"\"}}, \"type\": \"scatterpolargl\"}], \"scatterternary\": [{\"marker\": {\"colorbar\": {\"outlinewidth\": 0, \"ticks\": \"\"}}, \"type\": \"scatterternary\"}], \"surface\": [{\"colorbar\": {\"outlinewidth\": 0, \"ticks\": \"\"}, \"colorscale\": [[0.0, \"#0d0887\"], [0.1111111111111111, \"#46039f\"], [0.2222222222222222, \"#7201a8\"], [0.3333333333333333, \"#9c179e\"], [0.4444444444444444, \"#bd3786\"], [0.5555555555555556, \"#d8576b\"], [0.6666666666666666, \"#ed7953\"], [0.7777777777777778, \"#fb9f3a\"], [0.8888888888888888, \"#fdca26\"], [1.0, \"#f0f921\"]], \"type\": \"surface\"}], \"table\": [{\"cells\": {\"fill\": {\"color\": \"#EBF0F8\"}, \"line\": {\"color\": \"white\"}}, \"header\": {\"fill\": {\"color\": \"#C8D4E3\"}, \"line\": {\"color\": \"white\"}}, \"type\": \"table\"}]}, \"layout\": {\"annotationdefaults\": {\"arrowcolor\": \"#2a3f5f\", \"arrowhead\": 0, \"arrowwidth\": 1}, \"autotypenumbers\": \"strict\", \"coloraxis\": {\"colorbar\": {\"outlinewidth\": 0, \"ticks\": \"\"}}, \"colorscale\": {\"diverging\": [[0, \"#8e0152\"], [0.1, \"#c51b7d\"], [0.2, \"#de77ae\"], [0.3, \"#f1b6da\"], [0.4, \"#fde0ef\"], [0.5, \"#f7f7f7\"], [0.6, \"#e6f5d0\"], [0.7, \"#b8e186\"], [0.8, \"#7fbc41\"], [0.9, \"#4d9221\"], [1, \"#276419\"]], \"sequential\": [[0.0, \"#0d0887\"], [0.1111111111111111, \"#46039f\"], [0.2222222222222222, \"#7201a8\"], [0.3333333333333333, \"#9c179e\"], [0.4444444444444444, \"#bd3786\"], [0.5555555555555556, \"#d8576b\"], [0.6666666666666666, \"#ed7953\"], [0.7777777777777778, \"#fb9f3a\"], [0.8888888888888888, \"#fdca26\"], [1.0, \"#f0f921\"]], \"sequentialminus\": [[0.0, \"#0d0887\"], [0.1111111111111111, \"#46039f\"], [0.2222222222222222, \"#7201a8\"], [0.3333333333333333, \"#9c179e\"], [0.4444444444444444, \"#bd3786\"], [0.5555555555555556, \"#d8576b\"], [0.6666666666666666, \"#ed7953\"], [0.7777777777777778, \"#fb9f3a\"], [0.8888888888888888, \"#fdca26\"], [1.0, \"#f0f921\"]]}, \"colorway\": [\"#636efa\", \"#EF553B\", \"#00cc96\", \"#ab63fa\", \"#FFA15A\", \"#19d3f3\", \"#FF6692\", \"#B6E880\", \"#FF97FF\", \"#FECB52\"], \"font\": {\"color\": \"#2a3f5f\"}, \"geo\": {\"bgcolor\": \"white\", \"lakecolor\": \"white\", \"landcolor\": \"white\", \"showlakes\": true, \"showland\": true, \"subunitcolor\": \"#C8D4E3\"}, \"hoverlabel\": {\"align\": \"left\"}, \"hovermode\": \"closest\", \"mapbox\": {\"style\": \"light\"}, \"paper_bgcolor\": \"white\", \"plot_bgcolor\": \"white\", \"polar\": {\"angularaxis\": {\"gridcolor\": \"#EBF0F8\", \"linecolor\": \"#EBF0F8\", \"ticks\": \"\"}, \"bgcolor\": \"white\", \"radialaxis\": {\"gridcolor\": \"#EBF0F8\", \"linecolor\": \"#EBF0F8\", \"ticks\": \"\"}}, \"scene\": {\"xaxis\": {\"backgroundcolor\": \"white\", \"gridcolor\": \"#DFE8F3\", \"gridwidth\": 2, \"linecolor\": \"#EBF0F8\", \"showbackground\": true, \"ticks\": \"\", \"zerolinecolor\": \"#EBF0F8\"}, \"yaxis\": {\"backgroundcolor\": \"white\", \"gridcolor\": \"#DFE8F3\", \"gridwidth\": 2, \"linecolor\": \"#EBF0F8\", \"showbackground\": true, \"ticks\": \"\", \"zerolinecolor\": \"#EBF0F8\"}, \"zaxis\": {\"backgroundcolor\": \"white\", \"gridcolor\": \"#DFE8F3\", \"gridwidth\": 2, \"linecolor\": \"#EBF0F8\", \"showbackground\": true, \"ticks\": \"\", \"zerolinecolor\": \"#EBF0F8\"}}, \"shapedefaults\": {\"line\": {\"color\": \"#2a3f5f\"}}, \"ternary\": {\"aaxis\": {\"gridcolor\": \"#DFE8F3\", \"linecolor\": \"#A2B1C6\", \"ticks\": \"\"}, \"baxis\": {\"gridcolor\": \"#DFE8F3\", \"linecolor\": \"#A2B1C6\", \"ticks\": \"\"}, \"bgcolor\": \"white\", \"caxis\": {\"gridcolor\": \"#DFE8F3\", \"linecolor\": \"#A2B1C6\", \"ticks\": \"\"}}, \"title\": {\"x\": 0.05}, \"xaxis\": {\"automargin\": true, \"gridcolor\": \"#EBF0F8\", \"linecolor\": \"#EBF0F8\", \"ticks\": \"\", \"title\": {\"standoff\": 15}, \"zerolinecolor\": \"#EBF0F8\", \"zerolinewidth\": 2}, \"yaxis\": {\"automargin\": true, \"gridcolor\": \"#EBF0F8\", \"linecolor\": \"#EBF0F8\", \"ticks\": \"\", \"title\": {\"standoff\": 15}, \"zerolinecolor\": \"#EBF0F8\", \"zerolinewidth\": 2}}}, \"title\": {\"font\": {\"size\": 25}, \"text\": \"Fairness Check\", \"x\": 0.5, \"y\": 0.99}, \"xaxis\": {\"anchor\": \"y\", \"domain\": [0.0, 1.0], \"range\": [-0.45013157894736844, 0.3], \"ticktext\": [0.5, 0.6, 0.7, 0.8, 0.9, 1.0, 1.1, 1.2, 1.0], \"tickvals\": [-0.5, -0.4, -0.30000000000000004, -0.19999999999999996, -0.09999999999999998, 0.0, 0.10000000000000009, 0.19999999999999996, 0.0], \"title\": {\"text\": \"score\"}}, \"xaxis2\": {\"anchor\": \"y2\", \"domain\": [0.0, 1.0], \"matches\": \"x\", \"range\": [-0.45013157894736844, 0.3], \"showticklabels\": false, \"ticktext\": [0.5, 0.6, 0.7, 0.8, 0.9, 1.0, 1.1, 1.2, 1.0], \"tickvals\": [-0.5, -0.4, -0.30000000000000004, -0.19999999999999996, -0.09999999999999998, 0.0, 0.10000000000000009, 0.19999999999999996, 0.0]}, \"xaxis3\": {\"anchor\": \"y3\", \"domain\": [0.0, 1.0], \"matches\": \"x\", \"range\": [-0.45013157894736844, 0.3], \"showticklabels\": false, \"ticktext\": [0.5, 0.6, 0.7, 0.8, 0.9, 1.0, 1.1, 1.2, 1.0], \"tickvals\": [-0.5, -0.4, -0.30000000000000004, -0.19999999999999996, -0.09999999999999998, 0.0, 0.10000000000000009, 0.19999999999999996, 0.0]}, \"xaxis4\": {\"anchor\": \"y4\", \"domain\": [0.0, 1.0], \"matches\": \"x\", \"range\": [-0.45013157894736844, 0.3], \"showticklabels\": false, \"ticktext\": [0.5, 0.6, 0.7, 0.8, 0.9, 1.0, 1.1, 1.2, 1.0], \"tickvals\": [-0.5, -0.4, -0.30000000000000004, -0.19999999999999996, -0.09999999999999998, 0.0, 0.10000000000000009, 0.19999999999999996, 0.0]}, \"xaxis5\": {\"anchor\": \"y5\", \"domain\": [0.0, 1.0], \"matches\": \"x\", \"range\": [-0.45013157894736844, 0.3], \"showticklabels\": false, \"ticktext\": [0.5, 0.6, 0.7, 0.8, 0.9, 1.0, 1.1, 1.2, 1.0], \"tickvals\": [-0.5, -0.4, -0.30000000000000004, -0.19999999999999996, -0.09999999999999998, 0.0, 0.10000000000000009, 0.19999999999999996, 0.0]}, \"yaxis\": {\"anchor\": \"x\", \"domain\": [0.0, 0.144], \"range\": [0, 1], \"showgrid\": false, \"ticktext\": [\"other\"], \"tickvals\": [0.5], \"title\": {\"text\": \"\"}, \"zeroline\": false}, \"yaxis2\": {\"anchor\": \"x2\", \"domain\": [0.214, 0.358], \"matches\": \"y\", \"range\": [0, 1], \"showgrid\": false, \"ticktext\": [\"other\"], \"tickvals\": [0.5], \"title\": {\"text\": \"\"}, \"zeroline\": false}, \"yaxis3\": {\"anchor\": \"x3\", \"domain\": [0.428, 0.572], \"matches\": \"y\", \"range\": [0, 1], \"showgrid\": false, \"ticktext\": [\"other\"], \"tickvals\": [0.5], \"title\": {\"text\": \"subgroup\"}, \"zeroline\": false}, \"yaxis4\": {\"anchor\": \"x4\", \"domain\": [0.6419999999999999, 0.7859999999999999], \"matches\": \"y\", \"range\": [0, 1], \"showgrid\": false, \"ticktext\": [\"other\"], \"tickvals\": [0.5], \"title\": {\"text\": \"\"}, \"zeroline\": false}, \"yaxis5\": {\"anchor\": \"x5\", \"domain\": [0.856, 1.0], \"matches\": \"y\", \"range\": [0, 1], \"showgrid\": false, \"ticktext\": [\"other\"], \"tickvals\": [0.5], \"title\": {\"text\": \"\"}, \"zeroline\": false}},                        {\"displaylogo\": false, \"staticPlot\": false, \"toImageButtonOptions\": {\"height\": null, \"width\": null}, \"modeBarButtonsToRemove\": [\"sendDataToCloud\", \"lasso2d\", \"autoScale2d\", \"select2d\", \"zoom2d\", \"pan2d\", \"zoomIn2d\", \"zoomOut2d\", \"resetScale2d\", \"toggleSpikelines\", \"hoverCompareCartesian\", \"hoverClosestCartesian\"], \"responsive\": true}                    ).then(function(){\n",
       "                            \n",
       "var gd = document.getElementById('c014b457-e843-4dd7-bd45-686c766c1206');\n",
       "var x = new MutationObserver(function (mutations, observer) {{\n",
       "        var display = window.getComputedStyle(gd).display;\n",
       "        if (!display || display === 'none') {{\n",
       "            console.log([gd, 'removed!']);\n",
       "            Plotly.purge(gd);\n",
       "            observer.disconnect();\n",
       "        }}\n",
       "}});\n",
       "\n",
       "// Listen for the removal of the full notebook cells\n",
       "var notebookContainer = gd.closest('#notebook-container');\n",
       "if (notebookContainer) {{\n",
       "    x.observe(notebookContainer, {childList: true});\n",
       "}}\n",
       "\n",
       "// Listen for the clearing of the current output cell\n",
       "var outputEl = gd.closest('.output');\n",
       "if (outputEl) {{\n",
       "    x.observe(outputEl, {childList: true});\n",
       "}}\n",
       "\n",
       "                        })                };                });            </script>        </div>"
      ]
     },
     "metadata": {},
     "output_type": "display_data"
    }
   ],
   "source": [
    "fo2.plot()"
   ]
  },
  {
   "cell_type": "code",
   "execution_count": 21,
   "metadata": {
    "pycharm": {
     "is_executing": true
    }
   },
   "outputs": [
    {
     "data": {
      "application/vnd.plotly.v1+json": {
       "config": {
        "displaylogo": false,
        "modeBarButtonsToRemove": [
         "sendDataToCloud",
         "lasso2d",
         "autoScale2d",
         "select2d",
         "zoom2d",
         "pan2d",
         "zoomIn2d",
         "zoomOut2d",
         "resetScale2d",
         "toggleSpikelines",
         "hoverCompareCartesian",
         "hoverClosestCartesian"
        ],
        "plotlyServerURL": "https://plot.ly",
        "staticPlot": false,
        "toImageButtonOptions": {
         "height": null,
         "width": null
        }
       },
       "data": [
        {
         "customdata": [
          [
           "reduced"
          ]
         ],
         "hovertemplate": "<b>%{customdata[0]}</b><br><br>PPV parity loss: %{y:.3f}<br>precision score: %{x:.3f}<br><extra></extra>",
         "legendgroup": "reduced",
         "marker": {
          "color": "#8bdcbe",
          "size": [
           15,
           15
          ],
          "symbol": "circle"
         },
         "mode": "markers",
         "name": "reduced",
         "orientation": "v",
         "showlegend": true,
         "type": "scatter",
         "x": [
          0.5319148936170213
         ],
         "xaxis": "x",
         "y": [
          0.5262955455381224
         ],
         "yaxis": "y"
        },
        {
         "customdata": [
          [
           "HistGradientBoostingClassifier"
          ]
         ],
         "hovertemplate": "<b>%{customdata[0]}</b><br><br>PPV parity loss: %{y:.3f}<br>precision score: %{x:.3f}<br><extra></extra>",
         "legendgroup": "HistGradientBoostingClassifier",
         "marker": {
          "color": "#4378bf",
          "size": [
           15,
           15
          ],
          "symbol": "circle"
         },
         "mode": "markers",
         "name": "HistGradientBoostingClassifier",
         "orientation": "v",
         "showlegend": true,
         "type": "scatter",
         "x": [
          0.5495495495495496
         ],
         "xaxis": "x",
         "y": [
          0.7330637879653878
         ],
         "yaxis": "y"
        }
       ],
       "layout": {
        "font": {
         "color": "#371ea3"
        },
        "legend": {
         "title": {
          "text": "label"
         },
         "tracegroupgap": 0
        },
        "margin": {
         "b": 71,
         "r": 30,
         "t": 78
        },
        "template": {
         "data": {
          "bar": [
           {
            "error_x": {
             "color": "#2a3f5f"
            },
            "error_y": {
             "color": "#2a3f5f"
            },
            "marker": {
             "line": {
              "color": "white",
              "width": 0.5
             }
            },
            "type": "bar"
           }
          ],
          "barpolar": [
           {
            "marker": {
             "line": {
              "color": "white",
              "width": 0.5
             }
            },
            "type": "barpolar"
           }
          ],
          "carpet": [
           {
            "aaxis": {
             "endlinecolor": "#2a3f5f",
             "gridcolor": "#C8D4E3",
             "linecolor": "#C8D4E3",
             "minorgridcolor": "#C8D4E3",
             "startlinecolor": "#2a3f5f"
            },
            "baxis": {
             "endlinecolor": "#2a3f5f",
             "gridcolor": "#C8D4E3",
             "linecolor": "#C8D4E3",
             "minorgridcolor": "#C8D4E3",
             "startlinecolor": "#2a3f5f"
            },
            "type": "carpet"
           }
          ],
          "choropleth": [
           {
            "colorbar": {
             "outlinewidth": 0,
             "ticks": ""
            },
            "type": "choropleth"
           }
          ],
          "contour": [
           {
            "colorbar": {
             "outlinewidth": 0,
             "ticks": ""
            },
            "colorscale": [
             [
              0,
              "#0d0887"
             ],
             [
              0.1111111111111111,
              "#46039f"
             ],
             [
              0.2222222222222222,
              "#7201a8"
             ],
             [
              0.3333333333333333,
              "#9c179e"
             ],
             [
              0.4444444444444444,
              "#bd3786"
             ],
             [
              0.5555555555555556,
              "#d8576b"
             ],
             [
              0.6666666666666666,
              "#ed7953"
             ],
             [
              0.7777777777777778,
              "#fb9f3a"
             ],
             [
              0.8888888888888888,
              "#fdca26"
             ],
             [
              1,
              "#f0f921"
             ]
            ],
            "type": "contour"
           }
          ],
          "contourcarpet": [
           {
            "colorbar": {
             "outlinewidth": 0,
             "ticks": ""
            },
            "type": "contourcarpet"
           }
          ],
          "heatmap": [
           {
            "colorbar": {
             "outlinewidth": 0,
             "ticks": ""
            },
            "colorscale": [
             [
              0,
              "#0d0887"
             ],
             [
              0.1111111111111111,
              "#46039f"
             ],
             [
              0.2222222222222222,
              "#7201a8"
             ],
             [
              0.3333333333333333,
              "#9c179e"
             ],
             [
              0.4444444444444444,
              "#bd3786"
             ],
             [
              0.5555555555555556,
              "#d8576b"
             ],
             [
              0.6666666666666666,
              "#ed7953"
             ],
             [
              0.7777777777777778,
              "#fb9f3a"
             ],
             [
              0.8888888888888888,
              "#fdca26"
             ],
             [
              1,
              "#f0f921"
             ]
            ],
            "type": "heatmap"
           }
          ],
          "heatmapgl": [
           {
            "colorbar": {
             "outlinewidth": 0,
             "ticks": ""
            },
            "colorscale": [
             [
              0,
              "#0d0887"
             ],
             [
              0.1111111111111111,
              "#46039f"
             ],
             [
              0.2222222222222222,
              "#7201a8"
             ],
             [
              0.3333333333333333,
              "#9c179e"
             ],
             [
              0.4444444444444444,
              "#bd3786"
             ],
             [
              0.5555555555555556,
              "#d8576b"
             ],
             [
              0.6666666666666666,
              "#ed7953"
             ],
             [
              0.7777777777777778,
              "#fb9f3a"
             ],
             [
              0.8888888888888888,
              "#fdca26"
             ],
             [
              1,
              "#f0f921"
             ]
            ],
            "type": "heatmapgl"
           }
          ],
          "histogram": [
           {
            "marker": {
             "colorbar": {
              "outlinewidth": 0,
              "ticks": ""
             }
            },
            "type": "histogram"
           }
          ],
          "histogram2d": [
           {
            "colorbar": {
             "outlinewidth": 0,
             "ticks": ""
            },
            "colorscale": [
             [
              0,
              "#0d0887"
             ],
             [
              0.1111111111111111,
              "#46039f"
             ],
             [
              0.2222222222222222,
              "#7201a8"
             ],
             [
              0.3333333333333333,
              "#9c179e"
             ],
             [
              0.4444444444444444,
              "#bd3786"
             ],
             [
              0.5555555555555556,
              "#d8576b"
             ],
             [
              0.6666666666666666,
              "#ed7953"
             ],
             [
              0.7777777777777778,
              "#fb9f3a"
             ],
             [
              0.8888888888888888,
              "#fdca26"
             ],
             [
              1,
              "#f0f921"
             ]
            ],
            "type": "histogram2d"
           }
          ],
          "histogram2dcontour": [
           {
            "colorbar": {
             "outlinewidth": 0,
             "ticks": ""
            },
            "colorscale": [
             [
              0,
              "#0d0887"
             ],
             [
              0.1111111111111111,
              "#46039f"
             ],
             [
              0.2222222222222222,
              "#7201a8"
             ],
             [
              0.3333333333333333,
              "#9c179e"
             ],
             [
              0.4444444444444444,
              "#bd3786"
             ],
             [
              0.5555555555555556,
              "#d8576b"
             ],
             [
              0.6666666666666666,
              "#ed7953"
             ],
             [
              0.7777777777777778,
              "#fb9f3a"
             ],
             [
              0.8888888888888888,
              "#fdca26"
             ],
             [
              1,
              "#f0f921"
             ]
            ],
            "type": "histogram2dcontour"
           }
          ],
          "mesh3d": [
           {
            "colorbar": {
             "outlinewidth": 0,
             "ticks": ""
            },
            "type": "mesh3d"
           }
          ],
          "parcoords": [
           {
            "line": {
             "colorbar": {
              "outlinewidth": 0,
              "ticks": ""
             }
            },
            "type": "parcoords"
           }
          ],
          "pie": [
           {
            "automargin": true,
            "type": "pie"
           }
          ],
          "scatter": [
           {
            "marker": {
             "colorbar": {
              "outlinewidth": 0,
              "ticks": ""
             }
            },
            "type": "scatter"
           }
          ],
          "scatter3d": [
           {
            "line": {
             "colorbar": {
              "outlinewidth": 0,
              "ticks": ""
             }
            },
            "marker": {
             "colorbar": {
              "outlinewidth": 0,
              "ticks": ""
             }
            },
            "type": "scatter3d"
           }
          ],
          "scattercarpet": [
           {
            "marker": {
             "colorbar": {
              "outlinewidth": 0,
              "ticks": ""
             }
            },
            "type": "scattercarpet"
           }
          ],
          "scattergeo": [
           {
            "marker": {
             "colorbar": {
              "outlinewidth": 0,
              "ticks": ""
             }
            },
            "type": "scattergeo"
           }
          ],
          "scattergl": [
           {
            "marker": {
             "colorbar": {
              "outlinewidth": 0,
              "ticks": ""
             }
            },
            "type": "scattergl"
           }
          ],
          "scattermapbox": [
           {
            "marker": {
             "colorbar": {
              "outlinewidth": 0,
              "ticks": ""
             }
            },
            "type": "scattermapbox"
           }
          ],
          "scatterpolar": [
           {
            "marker": {
             "colorbar": {
              "outlinewidth": 0,
              "ticks": ""
             }
            },
            "type": "scatterpolar"
           }
          ],
          "scatterpolargl": [
           {
            "marker": {
             "colorbar": {
              "outlinewidth": 0,
              "ticks": ""
             }
            },
            "type": "scatterpolargl"
           }
          ],
          "scatterternary": [
           {
            "marker": {
             "colorbar": {
              "outlinewidth": 0,
              "ticks": ""
             }
            },
            "type": "scatterternary"
           }
          ],
          "surface": [
           {
            "colorbar": {
             "outlinewidth": 0,
             "ticks": ""
            },
            "colorscale": [
             [
              0,
              "#0d0887"
             ],
             [
              0.1111111111111111,
              "#46039f"
             ],
             [
              0.2222222222222222,
              "#7201a8"
             ],
             [
              0.3333333333333333,
              "#9c179e"
             ],
             [
              0.4444444444444444,
              "#bd3786"
             ],
             [
              0.5555555555555556,
              "#d8576b"
             ],
             [
              0.6666666666666666,
              "#ed7953"
             ],
             [
              0.7777777777777778,
              "#fb9f3a"
             ],
             [
              0.8888888888888888,
              "#fdca26"
             ],
             [
              1,
              "#f0f921"
             ]
            ],
            "type": "surface"
           }
          ],
          "table": [
           {
            "cells": {
             "fill": {
              "color": "#EBF0F8"
             },
             "line": {
              "color": "white"
             }
            },
            "header": {
             "fill": {
              "color": "#C8D4E3"
             },
             "line": {
              "color": "white"
             }
            },
            "type": "table"
           }
          ]
         },
         "layout": {
          "annotationdefaults": {
           "arrowcolor": "#2a3f5f",
           "arrowhead": 0,
           "arrowwidth": 1
          },
          "autotypenumbers": "strict",
          "coloraxis": {
           "colorbar": {
            "outlinewidth": 0,
            "ticks": ""
           }
          },
          "colorscale": {
           "diverging": [
            [
             0,
             "#8e0152"
            ],
            [
             0.1,
             "#c51b7d"
            ],
            [
             0.2,
             "#de77ae"
            ],
            [
             0.3,
             "#f1b6da"
            ],
            [
             0.4,
             "#fde0ef"
            ],
            [
             0.5,
             "#f7f7f7"
            ],
            [
             0.6,
             "#e6f5d0"
            ],
            [
             0.7,
             "#b8e186"
            ],
            [
             0.8,
             "#7fbc41"
            ],
            [
             0.9,
             "#4d9221"
            ],
            [
             1,
             "#276419"
            ]
           ],
           "sequential": [
            [
             0,
             "#0d0887"
            ],
            [
             0.1111111111111111,
             "#46039f"
            ],
            [
             0.2222222222222222,
             "#7201a8"
            ],
            [
             0.3333333333333333,
             "#9c179e"
            ],
            [
             0.4444444444444444,
             "#bd3786"
            ],
            [
             0.5555555555555556,
             "#d8576b"
            ],
            [
             0.6666666666666666,
             "#ed7953"
            ],
            [
             0.7777777777777778,
             "#fb9f3a"
            ],
            [
             0.8888888888888888,
             "#fdca26"
            ],
            [
             1,
             "#f0f921"
            ]
           ],
           "sequentialminus": [
            [
             0,
             "#0d0887"
            ],
            [
             0.1111111111111111,
             "#46039f"
            ],
            [
             0.2222222222222222,
             "#7201a8"
            ],
            [
             0.3333333333333333,
             "#9c179e"
            ],
            [
             0.4444444444444444,
             "#bd3786"
            ],
            [
             0.5555555555555556,
             "#d8576b"
            ],
            [
             0.6666666666666666,
             "#ed7953"
            ],
            [
             0.7777777777777778,
             "#fb9f3a"
            ],
            [
             0.8888888888888888,
             "#fdca26"
            ],
            [
             1,
             "#f0f921"
            ]
           ]
          },
          "colorway": [
           "#636efa",
           "#EF553B",
           "#00cc96",
           "#ab63fa",
           "#FFA15A",
           "#19d3f3",
           "#FF6692",
           "#B6E880",
           "#FF97FF",
           "#FECB52"
          ],
          "font": {
           "color": "#2a3f5f"
          },
          "geo": {
           "bgcolor": "white",
           "lakecolor": "white",
           "landcolor": "white",
           "showlakes": true,
           "showland": true,
           "subunitcolor": "#C8D4E3"
          },
          "hoverlabel": {
           "align": "left"
          },
          "hovermode": "closest",
          "mapbox": {
           "style": "light"
          },
          "paper_bgcolor": "white",
          "plot_bgcolor": "white",
          "polar": {
           "angularaxis": {
            "gridcolor": "#EBF0F8",
            "linecolor": "#EBF0F8",
            "ticks": ""
           },
           "bgcolor": "white",
           "radialaxis": {
            "gridcolor": "#EBF0F8",
            "linecolor": "#EBF0F8",
            "ticks": ""
           }
          },
          "scene": {
           "xaxis": {
            "backgroundcolor": "white",
            "gridcolor": "#DFE8F3",
            "gridwidth": 2,
            "linecolor": "#EBF0F8",
            "showbackground": true,
            "ticks": "",
            "zerolinecolor": "#EBF0F8"
           },
           "yaxis": {
            "backgroundcolor": "white",
            "gridcolor": "#DFE8F3",
            "gridwidth": 2,
            "linecolor": "#EBF0F8",
            "showbackground": true,
            "ticks": "",
            "zerolinecolor": "#EBF0F8"
           },
           "zaxis": {
            "backgroundcolor": "white",
            "gridcolor": "#DFE8F3",
            "gridwidth": 2,
            "linecolor": "#EBF0F8",
            "showbackground": true,
            "ticks": "",
            "zerolinecolor": "#EBF0F8"
           }
          },
          "shapedefaults": {
           "line": {
            "color": "#2a3f5f"
           }
          },
          "ternary": {
           "aaxis": {
            "gridcolor": "#DFE8F3",
            "linecolor": "#A2B1C6",
            "ticks": ""
           },
           "baxis": {
            "gridcolor": "#DFE8F3",
            "linecolor": "#A2B1C6",
            "ticks": ""
           },
           "bgcolor": "white",
           "caxis": {
            "gridcolor": "#DFE8F3",
            "linecolor": "#A2B1C6",
            "ticks": ""
           }
          },
          "title": {
           "x": 0.05
          },
          "xaxis": {
           "automargin": true,
           "gridcolor": "#EBF0F8",
           "linecolor": "#EBF0F8",
           "ticks": "",
           "title": {
            "standoff": 15
           },
           "zerolinecolor": "#EBF0F8",
           "zerolinewidth": 2
          },
          "yaxis": {
           "automargin": true,
           "gridcolor": "#EBF0F8",
           "linecolor": "#EBF0F8",
           "ticks": "",
           "title": {
            "standoff": 15
           },
           "zerolinecolor": "#EBF0F8",
           "zerolinewidth": 2
          }
         }
        },
        "title": {
         "font": {
          "size": 25
         },
         "text": "Performance and Fairness",
         "x": 0.5,
         "y": 0.99
        },
        "xaxis": {
         "anchor": "y",
         "domain": [
          0,
          1
         ],
         "title": {
          "text": "precision"
         }
        },
        "yaxis": {
         "anchor": "x",
         "autorange": "reversed",
         "domain": [
          0,
          1
         ],
         "title": {
          "text": "reversed PPV parity loss"
         }
        }
       }
      },
      "text/html": [
       "<div>                            <div id=\"3edd2fd5-a60e-4320-a9c8-d8351969791a\" class=\"plotly-graph-div\" style=\"height:525px; width:100%;\"></div>            <script type=\"text/javascript\">                require([\"plotly\"], function(Plotly) {                    window.PLOTLYENV=window.PLOTLYENV || {};                                    if (document.getElementById(\"3edd2fd5-a60e-4320-a9c8-d8351969791a\")) {                    Plotly.newPlot(                        \"3edd2fd5-a60e-4320-a9c8-d8351969791a\",                        [{\"customdata\": [[\"reduced\"]], \"hovertemplate\": \"<b>%{customdata[0]}</b><br><br>PPV parity loss: %{y:.3f}<br>precision score: %{x:.3f}<br><extra></extra>\", \"legendgroup\": \"reduced\", \"marker\": {\"color\": \"#8bdcbe\", \"size\": [15, 15], \"symbol\": \"circle\"}, \"mode\": \"markers\", \"name\": \"reduced\", \"orientation\": \"v\", \"showlegend\": true, \"type\": \"scatter\", \"x\": [0.5319148936170213], \"xaxis\": \"x\", \"y\": [0.5262955455381224], \"yaxis\": \"y\"}, {\"customdata\": [[\"HistGradientBoostingClassifier\"]], \"hovertemplate\": \"<b>%{customdata[0]}</b><br><br>PPV parity loss: %{y:.3f}<br>precision score: %{x:.3f}<br><extra></extra>\", \"legendgroup\": \"HistGradientBoostingClassifier\", \"marker\": {\"color\": \"#4378bf\", \"size\": [15, 15], \"symbol\": \"circle\"}, \"mode\": \"markers\", \"name\": \"HistGradientBoostingClassifier\", \"orientation\": \"v\", \"showlegend\": true, \"type\": \"scatter\", \"x\": [0.5495495495495496], \"xaxis\": \"x\", \"y\": [0.7330637879653878], \"yaxis\": \"y\"}],                        {\"font\": {\"color\": \"#371ea3\"}, \"legend\": {\"title\": {\"text\": \"label\"}, \"tracegroupgap\": 0}, \"margin\": {\"b\": 71, \"r\": 30, \"t\": 78}, \"template\": {\"data\": {\"bar\": [{\"error_x\": {\"color\": \"#2a3f5f\"}, \"error_y\": {\"color\": \"#2a3f5f\"}, \"marker\": {\"line\": {\"color\": \"white\", \"width\": 0.5}}, \"type\": \"bar\"}], \"barpolar\": [{\"marker\": {\"line\": {\"color\": \"white\", \"width\": 0.5}}, \"type\": \"barpolar\"}], \"carpet\": [{\"aaxis\": {\"endlinecolor\": \"#2a3f5f\", \"gridcolor\": \"#C8D4E3\", \"linecolor\": \"#C8D4E3\", \"minorgridcolor\": \"#C8D4E3\", \"startlinecolor\": \"#2a3f5f\"}, \"baxis\": {\"endlinecolor\": \"#2a3f5f\", \"gridcolor\": \"#C8D4E3\", \"linecolor\": \"#C8D4E3\", \"minorgridcolor\": \"#C8D4E3\", \"startlinecolor\": \"#2a3f5f\"}, \"type\": \"carpet\"}], \"choropleth\": [{\"colorbar\": {\"outlinewidth\": 0, \"ticks\": \"\"}, \"type\": \"choropleth\"}], \"contour\": [{\"colorbar\": {\"outlinewidth\": 0, \"ticks\": \"\"}, \"colorscale\": [[0.0, \"#0d0887\"], [0.1111111111111111, \"#46039f\"], [0.2222222222222222, \"#7201a8\"], [0.3333333333333333, \"#9c179e\"], [0.4444444444444444, \"#bd3786\"], [0.5555555555555556, \"#d8576b\"], [0.6666666666666666, \"#ed7953\"], [0.7777777777777778, \"#fb9f3a\"], [0.8888888888888888, \"#fdca26\"], [1.0, \"#f0f921\"]], \"type\": \"contour\"}], \"contourcarpet\": [{\"colorbar\": {\"outlinewidth\": 0, \"ticks\": \"\"}, \"type\": \"contourcarpet\"}], \"heatmap\": [{\"colorbar\": {\"outlinewidth\": 0, \"ticks\": \"\"}, \"colorscale\": [[0.0, \"#0d0887\"], [0.1111111111111111, \"#46039f\"], [0.2222222222222222, \"#7201a8\"], [0.3333333333333333, \"#9c179e\"], [0.4444444444444444, \"#bd3786\"], [0.5555555555555556, \"#d8576b\"], [0.6666666666666666, \"#ed7953\"], [0.7777777777777778, \"#fb9f3a\"], [0.8888888888888888, \"#fdca26\"], [1.0, \"#f0f921\"]], \"type\": \"heatmap\"}], \"heatmapgl\": [{\"colorbar\": {\"outlinewidth\": 0, \"ticks\": \"\"}, \"colorscale\": [[0.0, \"#0d0887\"], [0.1111111111111111, \"#46039f\"], [0.2222222222222222, \"#7201a8\"], [0.3333333333333333, \"#9c179e\"], [0.4444444444444444, \"#bd3786\"], [0.5555555555555556, \"#d8576b\"], [0.6666666666666666, \"#ed7953\"], [0.7777777777777778, \"#fb9f3a\"], [0.8888888888888888, \"#fdca26\"], [1.0, \"#f0f921\"]], \"type\": \"heatmapgl\"}], \"histogram\": [{\"marker\": {\"colorbar\": {\"outlinewidth\": 0, \"ticks\": \"\"}}, \"type\": \"histogram\"}], \"histogram2d\": [{\"colorbar\": {\"outlinewidth\": 0, \"ticks\": \"\"}, \"colorscale\": [[0.0, \"#0d0887\"], [0.1111111111111111, \"#46039f\"], [0.2222222222222222, \"#7201a8\"], [0.3333333333333333, \"#9c179e\"], [0.4444444444444444, \"#bd3786\"], [0.5555555555555556, \"#d8576b\"], [0.6666666666666666, \"#ed7953\"], [0.7777777777777778, \"#fb9f3a\"], [0.8888888888888888, \"#fdca26\"], [1.0, \"#f0f921\"]], \"type\": \"histogram2d\"}], \"histogram2dcontour\": [{\"colorbar\": {\"outlinewidth\": 0, \"ticks\": \"\"}, \"colorscale\": [[0.0, \"#0d0887\"], [0.1111111111111111, \"#46039f\"], [0.2222222222222222, \"#7201a8\"], [0.3333333333333333, \"#9c179e\"], [0.4444444444444444, \"#bd3786\"], [0.5555555555555556, \"#d8576b\"], [0.6666666666666666, \"#ed7953\"], [0.7777777777777778, \"#fb9f3a\"], [0.8888888888888888, \"#fdca26\"], [1.0, \"#f0f921\"]], \"type\": \"histogram2dcontour\"}], \"mesh3d\": [{\"colorbar\": {\"outlinewidth\": 0, \"ticks\": \"\"}, \"type\": \"mesh3d\"}], \"parcoords\": [{\"line\": {\"colorbar\": {\"outlinewidth\": 0, \"ticks\": \"\"}}, \"type\": \"parcoords\"}], \"pie\": [{\"automargin\": true, \"type\": \"pie\"}], \"scatter\": [{\"marker\": {\"colorbar\": {\"outlinewidth\": 0, \"ticks\": \"\"}}, \"type\": \"scatter\"}], \"scatter3d\": [{\"line\": {\"colorbar\": {\"outlinewidth\": 0, \"ticks\": \"\"}}, \"marker\": {\"colorbar\": {\"outlinewidth\": 0, \"ticks\": \"\"}}, \"type\": \"scatter3d\"}], \"scattercarpet\": [{\"marker\": {\"colorbar\": {\"outlinewidth\": 0, \"ticks\": \"\"}}, \"type\": \"scattercarpet\"}], \"scattergeo\": [{\"marker\": {\"colorbar\": {\"outlinewidth\": 0, \"ticks\": \"\"}}, \"type\": \"scattergeo\"}], \"scattergl\": [{\"marker\": {\"colorbar\": {\"outlinewidth\": 0, \"ticks\": \"\"}}, \"type\": \"scattergl\"}], \"scattermapbox\": [{\"marker\": {\"colorbar\": {\"outlinewidth\": 0, \"ticks\": \"\"}}, \"type\": \"scattermapbox\"}], \"scatterpolar\": [{\"marker\": {\"colorbar\": {\"outlinewidth\": 0, \"ticks\": \"\"}}, \"type\": \"scatterpolar\"}], \"scatterpolargl\": [{\"marker\": {\"colorbar\": {\"outlinewidth\": 0, \"ticks\": \"\"}}, \"type\": \"scatterpolargl\"}], \"scatterternary\": [{\"marker\": {\"colorbar\": {\"outlinewidth\": 0, \"ticks\": \"\"}}, \"type\": \"scatterternary\"}], \"surface\": [{\"colorbar\": {\"outlinewidth\": 0, \"ticks\": \"\"}, \"colorscale\": [[0.0, \"#0d0887\"], [0.1111111111111111, \"#46039f\"], [0.2222222222222222, \"#7201a8\"], [0.3333333333333333, \"#9c179e\"], [0.4444444444444444, \"#bd3786\"], [0.5555555555555556, \"#d8576b\"], [0.6666666666666666, \"#ed7953\"], [0.7777777777777778, \"#fb9f3a\"], [0.8888888888888888, \"#fdca26\"], [1.0, \"#f0f921\"]], \"type\": \"surface\"}], \"table\": [{\"cells\": {\"fill\": {\"color\": \"#EBF0F8\"}, \"line\": {\"color\": \"white\"}}, \"header\": {\"fill\": {\"color\": \"#C8D4E3\"}, \"line\": {\"color\": \"white\"}}, \"type\": \"table\"}]}, \"layout\": {\"annotationdefaults\": {\"arrowcolor\": \"#2a3f5f\", \"arrowhead\": 0, \"arrowwidth\": 1}, \"autotypenumbers\": \"strict\", \"coloraxis\": {\"colorbar\": {\"outlinewidth\": 0, \"ticks\": \"\"}}, \"colorscale\": {\"diverging\": [[0, \"#8e0152\"], [0.1, \"#c51b7d\"], [0.2, \"#de77ae\"], [0.3, \"#f1b6da\"], [0.4, \"#fde0ef\"], [0.5, \"#f7f7f7\"], [0.6, \"#e6f5d0\"], [0.7, \"#b8e186\"], [0.8, \"#7fbc41\"], [0.9, \"#4d9221\"], [1, \"#276419\"]], \"sequential\": [[0.0, \"#0d0887\"], [0.1111111111111111, \"#46039f\"], [0.2222222222222222, \"#7201a8\"], [0.3333333333333333, \"#9c179e\"], [0.4444444444444444, \"#bd3786\"], [0.5555555555555556, \"#d8576b\"], [0.6666666666666666, \"#ed7953\"], [0.7777777777777778, \"#fb9f3a\"], [0.8888888888888888, \"#fdca26\"], [1.0, \"#f0f921\"]], \"sequentialminus\": [[0.0, \"#0d0887\"], [0.1111111111111111, \"#46039f\"], [0.2222222222222222, \"#7201a8\"], [0.3333333333333333, \"#9c179e\"], [0.4444444444444444, \"#bd3786\"], [0.5555555555555556, \"#d8576b\"], [0.6666666666666666, \"#ed7953\"], [0.7777777777777778, \"#fb9f3a\"], [0.8888888888888888, \"#fdca26\"], [1.0, \"#f0f921\"]]}, \"colorway\": [\"#636efa\", \"#EF553B\", \"#00cc96\", \"#ab63fa\", \"#FFA15A\", \"#19d3f3\", \"#FF6692\", \"#B6E880\", \"#FF97FF\", \"#FECB52\"], \"font\": {\"color\": \"#2a3f5f\"}, \"geo\": {\"bgcolor\": \"white\", \"lakecolor\": \"white\", \"landcolor\": \"white\", \"showlakes\": true, \"showland\": true, \"subunitcolor\": \"#C8D4E3\"}, \"hoverlabel\": {\"align\": \"left\"}, \"hovermode\": \"closest\", \"mapbox\": {\"style\": \"light\"}, \"paper_bgcolor\": \"white\", \"plot_bgcolor\": \"white\", \"polar\": {\"angularaxis\": {\"gridcolor\": \"#EBF0F8\", \"linecolor\": \"#EBF0F8\", \"ticks\": \"\"}, \"bgcolor\": \"white\", \"radialaxis\": {\"gridcolor\": \"#EBF0F8\", \"linecolor\": \"#EBF0F8\", \"ticks\": \"\"}}, \"scene\": {\"xaxis\": {\"backgroundcolor\": \"white\", \"gridcolor\": \"#DFE8F3\", \"gridwidth\": 2, \"linecolor\": \"#EBF0F8\", \"showbackground\": true, \"ticks\": \"\", \"zerolinecolor\": \"#EBF0F8\"}, \"yaxis\": {\"backgroundcolor\": \"white\", \"gridcolor\": \"#DFE8F3\", \"gridwidth\": 2, \"linecolor\": \"#EBF0F8\", \"showbackground\": true, \"ticks\": \"\", \"zerolinecolor\": \"#EBF0F8\"}, \"zaxis\": {\"backgroundcolor\": \"white\", \"gridcolor\": \"#DFE8F3\", \"gridwidth\": 2, \"linecolor\": \"#EBF0F8\", \"showbackground\": true, \"ticks\": \"\", \"zerolinecolor\": \"#EBF0F8\"}}, \"shapedefaults\": {\"line\": {\"color\": \"#2a3f5f\"}}, \"ternary\": {\"aaxis\": {\"gridcolor\": \"#DFE8F3\", \"linecolor\": \"#A2B1C6\", \"ticks\": \"\"}, \"baxis\": {\"gridcolor\": \"#DFE8F3\", \"linecolor\": \"#A2B1C6\", \"ticks\": \"\"}, \"bgcolor\": \"white\", \"caxis\": {\"gridcolor\": \"#DFE8F3\", \"linecolor\": \"#A2B1C6\", \"ticks\": \"\"}}, \"title\": {\"x\": 0.05}, \"xaxis\": {\"automargin\": true, \"gridcolor\": \"#EBF0F8\", \"linecolor\": \"#EBF0F8\", \"ticks\": \"\", \"title\": {\"standoff\": 15}, \"zerolinecolor\": \"#EBF0F8\", \"zerolinewidth\": 2}, \"yaxis\": {\"automargin\": true, \"gridcolor\": \"#EBF0F8\", \"linecolor\": \"#EBF0F8\", \"ticks\": \"\", \"title\": {\"standoff\": 15}, \"zerolinecolor\": \"#EBF0F8\", \"zerolinewidth\": 2}}}, \"title\": {\"font\": {\"size\": 25}, \"text\": \"Performance and Fairness\", \"x\": 0.5, \"y\": 0.99}, \"xaxis\": {\"anchor\": \"y\", \"domain\": [0.0, 1.0], \"title\": {\"text\": \"precision\"}}, \"yaxis\": {\"anchor\": \"x\", \"autorange\": \"reversed\", \"domain\": [0.0, 1.0], \"title\": {\"text\": \"reversed PPV parity loss\"}}},                        {\"displaylogo\": false, \"staticPlot\": false, \"toImageButtonOptions\": {\"height\": null, \"width\": null}, \"modeBarButtonsToRemove\": [\"sendDataToCloud\", \"lasso2d\", \"autoScale2d\", \"select2d\", \"zoom2d\", \"pan2d\", \"zoomIn2d\", \"zoomOut2d\", \"resetScale2d\", \"toggleSpikelines\", \"hoverCompareCartesian\", \"hoverClosestCartesian\"], \"responsive\": true}                    ).then(function(){\n",
       "                            \n",
       "var gd = document.getElementById('3edd2fd5-a60e-4320-a9c8-d8351969791a');\n",
       "var x = new MutationObserver(function (mutations, observer) {{\n",
       "        var display = window.getComputedStyle(gd).display;\n",
       "        if (!display || display === 'none') {{\n",
       "            console.log([gd, 'removed!']);\n",
       "            Plotly.purge(gd);\n",
       "            observer.disconnect();\n",
       "        }}\n",
       "}});\n",
       "\n",
       "// Listen for the removal of the full notebook cells\n",
       "var notebookContainer = gd.closest('#notebook-container');\n",
       "if (notebookContainer) {{\n",
       "    x.observe(notebookContainer, {childList: true});\n",
       "}}\n",
       "\n",
       "// Listen for the clearing of the current output cell\n",
       "var outputEl = gd.closest('.output');\n",
       "if (outputEl) {{\n",
       "    x.observe(outputEl, {childList: true});\n",
       "}}\n",
       "\n",
       "                        })                };                });            </script>        </div>"
      ]
     },
     "metadata": {},
     "output_type": "display_data"
    }
   ],
   "source": [
    "fo2.plot(fo,\n",
    "         type='performance_and_fairness',\n",
    "         performance_metric = 'precision',\n",
    "         fairness_metric = 'PPV')"
   ]
  },
  {
   "cell_type": "code",
   "execution_count": 22,
   "metadata": {
    "pycharm": {
     "is_executing": true
    }
   },
   "outputs": [
    {
     "data": {
      "text/html": [
       "<div>\n",
       "<style scoped>\n",
       "    .dataframe tbody tr th:only-of-type {\n",
       "        vertical-align: middle;\n",
       "    }\n",
       "\n",
       "    .dataframe tbody tr th {\n",
       "        vertical-align: top;\n",
       "    }\n",
       "\n",
       "    .dataframe thead th {\n",
       "        text-align: right;\n",
       "    }\n",
       "</style>\n",
       "<table border=\"1\" class=\"dataframe\">\n",
       "  <thead>\n",
       "    <tr style=\"text-align: right;\">\n",
       "      <th></th>\n",
       "      <th>recall</th>\n",
       "      <th>precision</th>\n",
       "      <th>f1</th>\n",
       "      <th>accuracy</th>\n",
       "      <th>auc</th>\n",
       "    </tr>\n",
       "  </thead>\n",
       "  <tbody>\n",
       "    <tr>\n",
       "      <th>reduced</th>\n",
       "      <td>0.37037</td>\n",
       "      <td>0.531915</td>\n",
       "      <td>0.436681</td>\n",
       "      <td>0.7</td>\n",
       "      <td>0.592116</td>\n",
       "    </tr>\n",
       "  </tbody>\n",
       "</table>\n",
       "</div>"
      ],
      "text/plain": [
       "<dalex.model_explanations._model_performance.object.ModelPerformance at 0x7fae0a5a1710>"
      ]
     },
     "execution_count": 22,
     "metadata": {},
     "output_type": "execute_result"
    }
   ],
   "source": [
    "exp2.model_performance()"
   ]
  },
  {
   "cell_type": "markdown",
   "metadata": {},
   "source": [
    "Redukcja zadziałała, niestety nie na wszystkie metryki, ale na tą na której najbardziej nam zależy tak. Zmniejszyła niestety znacząco precyzję modelu"
   ]
  },
  {
   "cell_type": "markdown",
   "metadata": {},
   "source": [
    "# Fairtorch"
   ]
  },
  {
   "cell_type": "code",
   "execution_count": 23,
   "metadata": {
    "pycharm": {
     "is_executing": true
    }
   },
   "outputs": [
    {
     "name": "stdout",
     "output_type": "stream",
     "text": [
      "acc train:  0.8027950525283813\n",
      "acc test:  0.6883720755577087\n"
     ]
    }
   ],
   "source": [
    "def seed_everything(seed):\n",
    "    random.seed(seed)\n",
    "    os.environ[\"PYTHONHASHSEED\"] = str(seed)\n",
    "    np.random.seed(seed)\n",
    "    torch.manual_seed(seed)\n",
    "    torch.cuda.manual_seed(seed)\n",
    "    torch.backends.cudnn.deterministic = True\n",
    "\n",
    "\n",
    "seed_everything(123)\n",
    "\n",
    "X_tr = torch.from_numpy(X_train_std).float()\n",
    "X_te = torch.from_numpy(X_test_std).float()\n",
    "\n",
    "y_tr = torch.from_numpy(y_train.to_numpy()).float()\n",
    "y_te = torch.from_numpy(y_test.to_numpy()).float()\n",
    "\n",
    "model_before = nn.Sequential(nn.Linear(X_tr.shape[1],128), \n",
    "            nn.ReLU(),\n",
    "            nn.BatchNorm1d(128),\n",
    "            nn.Linear(128, 64),\n",
    "            nn.ReLU(),\n",
    "            nn.BatchNorm1d(64),\n",
    "            nn.Linear(64, 1),)\n",
    "\n",
    "\n",
    "criterion = nn.BCEWithLogitsLoss(pos_weight=None)\n",
    "optimizer = optim.Adam(model_before.parameters())\n",
    "\n",
    "\n",
    "for param in model_before.parameters():\n",
    "    nn.init.normal_(param, 0, 1e-3)\n",
    "    \n",
    "model_before.train()\n",
    "\n",
    "for i in range(0, 400):\n",
    "    optimizer.zero_grad()    \n",
    "    logit = model_before(X_tr)\n",
    "    loss = criterion(logit.view(-1), y_tr)\n",
    "    loss.backward()\n",
    "    optimizer.step()\n",
    "\n",
    "acc_train = ((torch.sigmoid(model_before(X_tr)).view(-1) > 0.5 ).float()  == y_tr ).float().mean().float().item()\n",
    "acc_test = ((torch.sigmoid(model_before(X_te)).view(-1) > 0.5 ).float()  == y_te ).float().mean().float().item()\n",
    "\n",
    "print(\"acc train: \", acc_train)\n",
    "print(\"acc test: \",acc_test)\n"
   ]
  },
  {
   "cell_type": "code",
   "execution_count": 24,
   "metadata": {
    "pycharm": {
     "is_executing": true
    }
   },
   "outputs": [],
   "source": [
    "def predict_torch(model, data):\n",
    "    data = np.array(data)\n",
    "    data_tensor = torch.from_numpy(data).float()\n",
    "    return torch.sigmoid(model(data_tensor)).view(-1).detach().numpy()"
   ]
  },
  {
   "cell_type": "code",
   "execution_count": 25,
   "metadata": {
    "pycharm": {
     "is_executing": true
    }
   },
   "outputs": [
    {
     "name": "stdout",
     "output_type": "stream",
     "text": [
      "Preparation of a new explainer is initiated\n",
      "\n",
      "  -> data              : numpy.ndarray converted to pandas.DataFrame. Columns are set as string numbers.\n",
      "  -> data              : 430 rows 3 cols\n",
      "  -> target variable   : 430 values\n",
      "  -> model_class       : torch.nn.modules.container.Sequential (default)\n",
      "  -> label             : torch_before\n",
      "  -> predict function  : <function predict_torch at 0x7fae01c7d2f0> will be used\n",
      "  -> predict function  : Accepts only pandas.DataFrame, numpy.ndarray causes problems.\n",
      "  -> predicted values  : min = 0.000601, mean = 0.364, max = 0.983\n",
      "  -> model type        : classification will be used\n",
      "  -> residual function : difference between y and yhat (default)\n",
      "  -> residuals         : min = -0.948, mean = -0.0496, max = 0.995\n",
      "  -> model_info        : package torch\n",
      "\n",
      "A new explainer has been created!\n"
     ]
    }
   ],
   "source": [
    "exp_net = dx.Explainer(model_before,\n",
    "                       X_test_std,\n",
    "                       np.array(y_test),\n",
    "                       predict_function=predict_torch,\n",
    "                       model_type='classification', \n",
    "                       label = 'torch_before')"
   ]
  },
  {
   "cell_type": "code",
   "execution_count": 26,
   "metadata": {
    "pycharm": {
     "is_executing": true
    }
   },
   "outputs": [
    {
     "data": {
      "text/html": [
       "<div>\n",
       "<style scoped>\n",
       "    .dataframe tbody tr th:only-of-type {\n",
       "        vertical-align: middle;\n",
       "    }\n",
       "\n",
       "    .dataframe tbody tr th {\n",
       "        vertical-align: top;\n",
       "    }\n",
       "\n",
       "    .dataframe thead th {\n",
       "        text-align: right;\n",
       "    }\n",
       "</style>\n",
       "<table border=\"1\" class=\"dataframe\">\n",
       "  <thead>\n",
       "    <tr style=\"text-align: right;\">\n",
       "      <th></th>\n",
       "      <th>recall</th>\n",
       "      <th>precision</th>\n",
       "      <th>f1</th>\n",
       "      <th>accuracy</th>\n",
       "      <th>auc</th>\n",
       "    </tr>\n",
       "  </thead>\n",
       "  <tbody>\n",
       "    <tr>\n",
       "      <th>torch_before</th>\n",
       "      <td>0.540741</td>\n",
       "      <td>0.503448</td>\n",
       "      <td>0.521429</td>\n",
       "      <td>0.688372</td>\n",
       "      <td>0.6914</td>\n",
       "    </tr>\n",
       "  </tbody>\n",
       "</table>\n",
       "</div>"
      ],
      "text/plain": [
       "                recall  precision        f1  accuracy     auc\n",
       "torch_before  0.540741   0.503448  0.521429  0.688372  0.6914"
      ]
     },
     "execution_count": 26,
     "metadata": {},
     "output_type": "execute_result"
    }
   ],
   "source": [
    "exp_net.model_performance().result"
   ]
  },
  {
   "cell_type": "code",
   "execution_count": 27,
   "metadata": {
    "pycharm": {
     "is_executing": true
    }
   },
   "outputs": [
    {
     "data": {
      "application/vnd.plotly.v1+json": {
       "config": {
        "displaylogo": false,
        "modeBarButtonsToRemove": [
         "sendDataToCloud",
         "lasso2d",
         "autoScale2d",
         "select2d",
         "zoom2d",
         "pan2d",
         "zoomIn2d",
         "zoomOut2d",
         "resetScale2d",
         "toggleSpikelines",
         "hoverCompareCartesian",
         "hoverClosestCartesian"
        ],
        "plotlyServerURL": "https://plot.ly",
        "staticPlot": false,
        "toImageButtonOptions": {
         "height": null,
         "width": null
        }
       },
       "data": [
        {
         "alignmentgroup": "True",
         "customdata": [
          [
           "other",
           0.808,
           "torch_before"
          ]
         ],
         "hovertemplate": "<b>%{customdata[2]}</b><br>Subgroup: %{customdata[0]}<br>Score: %{customdata[1]}<br><extra></extra>",
         "legendgroup": "torch_before",
         "marker": {
          "color": "#46bac2"
         },
         "name": "torch_before",
         "offsetgroup": "torch_before",
         "orientation": "h",
         "showlegend": true,
         "textposition": "auto",
         "type": "bar",
         "x": [
          -0.19199999999999995
         ],
         "xaxis": "x5",
         "y": [
          0.5
         ],
         "yaxis": "y5"
        },
        {
         "alignmentgroup": "True",
         "customdata": [
          [
           "other",
           0.44,
           "torch_before"
          ]
         ],
         "hovertemplate": "<b>%{customdata[2]}</b><br>Subgroup: %{customdata[0]}<br>Score: %{customdata[1]}<br><extra></extra>",
         "legendgroup": "torch_before",
         "marker": {
          "color": "#46bac2"
         },
         "name": "torch_before",
         "offsetgroup": "torch_before",
         "orientation": "h",
         "showlegend": false,
         "textposition": "auto",
         "type": "bar",
         "x": [
          -0.5604751619870412
         ],
         "xaxis": "x4",
         "y": [
          0.5
         ],
         "yaxis": "y4"
        },
        {
         "alignmentgroup": "True",
         "customdata": [
          [
           "other",
           6.535,
           "torch_before"
          ]
         ],
         "hovertemplate": "<b>%{customdata[2]}</b><br>Subgroup: %{customdata[0]}<br>Score: %{customdata[1]}<br><extra></extra>",
         "legendgroup": "torch_before",
         "marker": {
          "color": "#46bac2"
         },
         "name": "torch_before",
         "offsetgroup": "torch_before",
         "orientation": "h",
         "showlegend": false,
         "textposition": "auto",
         "type": "bar",
         "x": [
          5.5348837209302335
         ],
         "xaxis": "x3",
         "y": [
          0.5
         ],
         "yaxis": "y3"
        },
        {
         "alignmentgroup": "True",
         "customdata": [
          [
           "other",
           0.823,
           "torch_before"
          ]
         ],
         "hovertemplate": "<b>%{customdata[2]}</b><br>Subgroup: %{customdata[0]}<br>Score: %{customdata[1]}<br><extra></extra>",
         "legendgroup": "torch_before",
         "marker": {
          "color": "#46bac2"
         },
         "name": "torch_before",
         "offsetgroup": "torch_before",
         "orientation": "h",
         "showlegend": false,
         "textposition": "auto",
         "type": "bar",
         "x": [
          -0.17705735660847877
         ],
         "xaxis": "x2",
         "y": [
          0.5
         ],
         "yaxis": "y2"
        },
        {
         "alignmentgroup": "True",
         "customdata": [
          [
           "other",
           1.092,
           "torch_before"
          ]
         ],
         "hovertemplate": "<b>%{customdata[2]}</b><br>Subgroup: %{customdata[0]}<br>Score: %{customdata[1]}<br><extra></extra>",
         "legendgroup": "torch_before",
         "marker": {
          "color": "#46bac2"
         },
         "name": "torch_before",
         "offsetgroup": "torch_before",
         "orientation": "h",
         "showlegend": false,
         "textposition": "auto",
         "type": "bar",
         "x": [
          0.09235668789808926
         ],
         "xaxis": "x",
         "y": [
          0.5
         ],
         "yaxis": "y"
        }
       ],
       "layout": {
        "annotations": [
         {
          "font": {
           "size": 15
          },
          "showarrow": false,
          "text": "Statistical parity ratio   (TP + FP)/(TP + FP + TN + FN)",
          "x": 0.05,
          "xanchor": "left",
          "xref": "paper",
          "y": 0.144,
          "yanchor": "bottom",
          "yref": "paper"
         },
         {
          "font": {
           "size": 15
          },
          "showarrow": false,
          "text": "Accuracy equality ratio    (TP + TN)/(TP + FP + TN + FN)",
          "x": 0.05,
          "xanchor": "left",
          "xref": "paper",
          "y": 0.358,
          "yanchor": "bottom",
          "yref": "paper"
         },
         {
          "font": {
           "size": 15
          },
          "showarrow": false,
          "text": "Predictive equality ratio   FP/(FP + TN)",
          "x": 0.05,
          "xanchor": "left",
          "xref": "paper",
          "y": 0.572,
          "yanchor": "bottom",
          "yref": "paper"
         },
         {
          "font": {
           "size": 15
          },
          "showarrow": false,
          "text": "Predictive parity ratio     TP/(TP + FP)",
          "x": 0.05,
          "xanchor": "left",
          "xref": "paper",
          "y": 0.7859999999999999,
          "yanchor": "bottom",
          "yref": "paper"
         },
         {
          "font": {
           "size": 15
          },
          "showarrow": false,
          "text": "Equal opportunity ratio     TP/(TP + FN)",
          "x": 0.05,
          "xanchor": "left",
          "xref": "paper",
          "y": 1,
          "yanchor": "bottom",
          "yref": "paper"
         }
        ],
        "barmode": "group",
        "font": {
         "color": "#371ea3"
        },
        "legend": {
         "title": {
          "text": "label"
         },
         "tracegroupgap": 0
        },
        "margin": {
         "b": 71,
         "r": 30,
         "t": 78
        },
        "shapes": [
         {
          "fillcolor": "#f05a71",
          "layer": "below",
          "line": {
           "width": 0
          },
          "opacity": 0.1,
          "type": "rect",
          "x0": 0.25,
          "x1": 5.8,
          "xref": "x",
          "y0": 0,
          "y1": 1,
          "yref": "y"
         },
         {
          "fillcolor": "#f05a71",
          "layer": "below",
          "line": {
           "width": 0
          },
          "opacity": 0.1,
          "type": "rect",
          "x0": -0.6165226781857454,
          "x1": -0.19999999999999996,
          "xref": "x",
          "y0": 0,
          "y1": 1,
          "yref": "y"
         },
         {
          "fillcolor": "#c7f5bf",
          "layer": "below",
          "line": {
           "width": 0
          },
          "opacity": 0.1,
          "type": "rect",
          "x0": -0.19999999999999996,
          "x1": 0.25,
          "xref": "x",
          "y0": 0,
          "y1": 1,
          "yref": "y"
         },
         {
          "line": {
           "color": "#371ea3",
           "width": 1.5
          },
          "type": "line",
          "x0": 0,
          "x1": 0,
          "xref": "x",
          "y0": 0,
          "y1": 1,
          "yref": "y"
         },
         {
          "fillcolor": "#f05a71",
          "layer": "below",
          "line": {
           "width": 0
          },
          "opacity": 0.1,
          "type": "rect",
          "x0": 0.25,
          "x1": 5.8,
          "xref": "x",
          "y0": 0,
          "y1": 1,
          "yref": "y2"
         },
         {
          "fillcolor": "#f05a71",
          "layer": "below",
          "line": {
           "width": 0
          },
          "opacity": 0.1,
          "type": "rect",
          "x0": -0.6165226781857454,
          "x1": -0.19999999999999996,
          "xref": "x",
          "y0": 0,
          "y1": 1,
          "yref": "y2"
         },
         {
          "fillcolor": "#c7f5bf",
          "layer": "below",
          "line": {
           "width": 0
          },
          "opacity": 0.1,
          "type": "rect",
          "x0": -0.19999999999999996,
          "x1": 0.25,
          "xref": "x",
          "y0": 0,
          "y1": 1,
          "yref": "y2"
         },
         {
          "line": {
           "color": "#371ea3",
           "width": 1.5
          },
          "type": "line",
          "x0": 0,
          "x1": 0,
          "xref": "x",
          "y0": 0,
          "y1": 1,
          "yref": "y2"
         },
         {
          "fillcolor": "#f05a71",
          "layer": "below",
          "line": {
           "width": 0
          },
          "opacity": 0.1,
          "type": "rect",
          "x0": 0.25,
          "x1": 5.8,
          "xref": "x",
          "y0": 0,
          "y1": 1,
          "yref": "y3"
         },
         {
          "fillcolor": "#f05a71",
          "layer": "below",
          "line": {
           "width": 0
          },
          "opacity": 0.1,
          "type": "rect",
          "x0": -0.6165226781857454,
          "x1": -0.19999999999999996,
          "xref": "x",
          "y0": 0,
          "y1": 1,
          "yref": "y3"
         },
         {
          "fillcolor": "#c7f5bf",
          "layer": "below",
          "line": {
           "width": 0
          },
          "opacity": 0.1,
          "type": "rect",
          "x0": -0.19999999999999996,
          "x1": 0.25,
          "xref": "x",
          "y0": 0,
          "y1": 1,
          "yref": "y3"
         },
         {
          "line": {
           "color": "#371ea3",
           "width": 1.5
          },
          "type": "line",
          "x0": 0,
          "x1": 0,
          "xref": "x",
          "y0": 0,
          "y1": 1,
          "yref": "y3"
         },
         {
          "fillcolor": "#f05a71",
          "layer": "below",
          "line": {
           "width": 0
          },
          "opacity": 0.1,
          "type": "rect",
          "x0": 0.25,
          "x1": 5.8,
          "xref": "x",
          "y0": 0,
          "y1": 1,
          "yref": "y4"
         },
         {
          "fillcolor": "#f05a71",
          "layer": "below",
          "line": {
           "width": 0
          },
          "opacity": 0.1,
          "type": "rect",
          "x0": -0.6165226781857454,
          "x1": -0.19999999999999996,
          "xref": "x",
          "y0": 0,
          "y1": 1,
          "yref": "y4"
         },
         {
          "fillcolor": "#c7f5bf",
          "layer": "below",
          "line": {
           "width": 0
          },
          "opacity": 0.1,
          "type": "rect",
          "x0": -0.19999999999999996,
          "x1": 0.25,
          "xref": "x",
          "y0": 0,
          "y1": 1,
          "yref": "y4"
         },
         {
          "line": {
           "color": "#371ea3",
           "width": 1.5
          },
          "type": "line",
          "x0": 0,
          "x1": 0,
          "xref": "x",
          "y0": 0,
          "y1": 1,
          "yref": "y4"
         },
         {
          "fillcolor": "#f05a71",
          "layer": "below",
          "line": {
           "width": 0
          },
          "opacity": 0.1,
          "type": "rect",
          "x0": 0.25,
          "x1": 5.8,
          "xref": "x",
          "y0": 0,
          "y1": 1,
          "yref": "y5"
         },
         {
          "fillcolor": "#f05a71",
          "layer": "below",
          "line": {
           "width": 0
          },
          "opacity": 0.1,
          "type": "rect",
          "x0": -0.6165226781857454,
          "x1": -0.19999999999999996,
          "xref": "x",
          "y0": 0,
          "y1": 1,
          "yref": "y5"
         },
         {
          "fillcolor": "#c7f5bf",
          "layer": "below",
          "line": {
           "width": 0
          },
          "opacity": 0.1,
          "type": "rect",
          "x0": -0.19999999999999996,
          "x1": 0.25,
          "xref": "x",
          "y0": 0,
          "y1": 1,
          "yref": "y5"
         },
         {
          "line": {
           "color": "#371ea3",
           "width": 1.5
          },
          "type": "line",
          "x0": 0,
          "x1": 0,
          "xref": "x",
          "y0": 0,
          "y1": 1,
          "yref": "y5"
         }
        ],
        "template": {
         "data": {
          "bar": [
           {
            "error_x": {
             "color": "#2a3f5f"
            },
            "error_y": {
             "color": "#2a3f5f"
            },
            "marker": {
             "line": {
              "color": "white",
              "width": 0.5
             }
            },
            "type": "bar"
           }
          ],
          "barpolar": [
           {
            "marker": {
             "line": {
              "color": "white",
              "width": 0.5
             }
            },
            "type": "barpolar"
           }
          ],
          "carpet": [
           {
            "aaxis": {
             "endlinecolor": "#2a3f5f",
             "gridcolor": "#C8D4E3",
             "linecolor": "#C8D4E3",
             "minorgridcolor": "#C8D4E3",
             "startlinecolor": "#2a3f5f"
            },
            "baxis": {
             "endlinecolor": "#2a3f5f",
             "gridcolor": "#C8D4E3",
             "linecolor": "#C8D4E3",
             "minorgridcolor": "#C8D4E3",
             "startlinecolor": "#2a3f5f"
            },
            "type": "carpet"
           }
          ],
          "choropleth": [
           {
            "colorbar": {
             "outlinewidth": 0,
             "ticks": ""
            },
            "type": "choropleth"
           }
          ],
          "contour": [
           {
            "colorbar": {
             "outlinewidth": 0,
             "ticks": ""
            },
            "colorscale": [
             [
              0,
              "#0d0887"
             ],
             [
              0.1111111111111111,
              "#46039f"
             ],
             [
              0.2222222222222222,
              "#7201a8"
             ],
             [
              0.3333333333333333,
              "#9c179e"
             ],
             [
              0.4444444444444444,
              "#bd3786"
             ],
             [
              0.5555555555555556,
              "#d8576b"
             ],
             [
              0.6666666666666666,
              "#ed7953"
             ],
             [
              0.7777777777777778,
              "#fb9f3a"
             ],
             [
              0.8888888888888888,
              "#fdca26"
             ],
             [
              1,
              "#f0f921"
             ]
            ],
            "type": "contour"
           }
          ],
          "contourcarpet": [
           {
            "colorbar": {
             "outlinewidth": 0,
             "ticks": ""
            },
            "type": "contourcarpet"
           }
          ],
          "heatmap": [
           {
            "colorbar": {
             "outlinewidth": 0,
             "ticks": ""
            },
            "colorscale": [
             [
              0,
              "#0d0887"
             ],
             [
              0.1111111111111111,
              "#46039f"
             ],
             [
              0.2222222222222222,
              "#7201a8"
             ],
             [
              0.3333333333333333,
              "#9c179e"
             ],
             [
              0.4444444444444444,
              "#bd3786"
             ],
             [
              0.5555555555555556,
              "#d8576b"
             ],
             [
              0.6666666666666666,
              "#ed7953"
             ],
             [
              0.7777777777777778,
              "#fb9f3a"
             ],
             [
              0.8888888888888888,
              "#fdca26"
             ],
             [
              1,
              "#f0f921"
             ]
            ],
            "type": "heatmap"
           }
          ],
          "heatmapgl": [
           {
            "colorbar": {
             "outlinewidth": 0,
             "ticks": ""
            },
            "colorscale": [
             [
              0,
              "#0d0887"
             ],
             [
              0.1111111111111111,
              "#46039f"
             ],
             [
              0.2222222222222222,
              "#7201a8"
             ],
             [
              0.3333333333333333,
              "#9c179e"
             ],
             [
              0.4444444444444444,
              "#bd3786"
             ],
             [
              0.5555555555555556,
              "#d8576b"
             ],
             [
              0.6666666666666666,
              "#ed7953"
             ],
             [
              0.7777777777777778,
              "#fb9f3a"
             ],
             [
              0.8888888888888888,
              "#fdca26"
             ],
             [
              1,
              "#f0f921"
             ]
            ],
            "type": "heatmapgl"
           }
          ],
          "histogram": [
           {
            "marker": {
             "colorbar": {
              "outlinewidth": 0,
              "ticks": ""
             }
            },
            "type": "histogram"
           }
          ],
          "histogram2d": [
           {
            "colorbar": {
             "outlinewidth": 0,
             "ticks": ""
            },
            "colorscale": [
             [
              0,
              "#0d0887"
             ],
             [
              0.1111111111111111,
              "#46039f"
             ],
             [
              0.2222222222222222,
              "#7201a8"
             ],
             [
              0.3333333333333333,
              "#9c179e"
             ],
             [
              0.4444444444444444,
              "#bd3786"
             ],
             [
              0.5555555555555556,
              "#d8576b"
             ],
             [
              0.6666666666666666,
              "#ed7953"
             ],
             [
              0.7777777777777778,
              "#fb9f3a"
             ],
             [
              0.8888888888888888,
              "#fdca26"
             ],
             [
              1,
              "#f0f921"
             ]
            ],
            "type": "histogram2d"
           }
          ],
          "histogram2dcontour": [
           {
            "colorbar": {
             "outlinewidth": 0,
             "ticks": ""
            },
            "colorscale": [
             [
              0,
              "#0d0887"
             ],
             [
              0.1111111111111111,
              "#46039f"
             ],
             [
              0.2222222222222222,
              "#7201a8"
             ],
             [
              0.3333333333333333,
              "#9c179e"
             ],
             [
              0.4444444444444444,
              "#bd3786"
             ],
             [
              0.5555555555555556,
              "#d8576b"
             ],
             [
              0.6666666666666666,
              "#ed7953"
             ],
             [
              0.7777777777777778,
              "#fb9f3a"
             ],
             [
              0.8888888888888888,
              "#fdca26"
             ],
             [
              1,
              "#f0f921"
             ]
            ],
            "type": "histogram2dcontour"
           }
          ],
          "mesh3d": [
           {
            "colorbar": {
             "outlinewidth": 0,
             "ticks": ""
            },
            "type": "mesh3d"
           }
          ],
          "parcoords": [
           {
            "line": {
             "colorbar": {
              "outlinewidth": 0,
              "ticks": ""
             }
            },
            "type": "parcoords"
           }
          ],
          "pie": [
           {
            "automargin": true,
            "type": "pie"
           }
          ],
          "scatter": [
           {
            "marker": {
             "colorbar": {
              "outlinewidth": 0,
              "ticks": ""
             }
            },
            "type": "scatter"
           }
          ],
          "scatter3d": [
           {
            "line": {
             "colorbar": {
              "outlinewidth": 0,
              "ticks": ""
             }
            },
            "marker": {
             "colorbar": {
              "outlinewidth": 0,
              "ticks": ""
             }
            },
            "type": "scatter3d"
           }
          ],
          "scattercarpet": [
           {
            "marker": {
             "colorbar": {
              "outlinewidth": 0,
              "ticks": ""
             }
            },
            "type": "scattercarpet"
           }
          ],
          "scattergeo": [
           {
            "marker": {
             "colorbar": {
              "outlinewidth": 0,
              "ticks": ""
             }
            },
            "type": "scattergeo"
           }
          ],
          "scattergl": [
           {
            "marker": {
             "colorbar": {
              "outlinewidth": 0,
              "ticks": ""
             }
            },
            "type": "scattergl"
           }
          ],
          "scattermapbox": [
           {
            "marker": {
             "colorbar": {
              "outlinewidth": 0,
              "ticks": ""
             }
            },
            "type": "scattermapbox"
           }
          ],
          "scatterpolar": [
           {
            "marker": {
             "colorbar": {
              "outlinewidth": 0,
              "ticks": ""
             }
            },
            "type": "scatterpolar"
           }
          ],
          "scatterpolargl": [
           {
            "marker": {
             "colorbar": {
              "outlinewidth": 0,
              "ticks": ""
             }
            },
            "type": "scatterpolargl"
           }
          ],
          "scatterternary": [
           {
            "marker": {
             "colorbar": {
              "outlinewidth": 0,
              "ticks": ""
             }
            },
            "type": "scatterternary"
           }
          ],
          "surface": [
           {
            "colorbar": {
             "outlinewidth": 0,
             "ticks": ""
            },
            "colorscale": [
             [
              0,
              "#0d0887"
             ],
             [
              0.1111111111111111,
              "#46039f"
             ],
             [
              0.2222222222222222,
              "#7201a8"
             ],
             [
              0.3333333333333333,
              "#9c179e"
             ],
             [
              0.4444444444444444,
              "#bd3786"
             ],
             [
              0.5555555555555556,
              "#d8576b"
             ],
             [
              0.6666666666666666,
              "#ed7953"
             ],
             [
              0.7777777777777778,
              "#fb9f3a"
             ],
             [
              0.8888888888888888,
              "#fdca26"
             ],
             [
              1,
              "#f0f921"
             ]
            ],
            "type": "surface"
           }
          ],
          "table": [
           {
            "cells": {
             "fill": {
              "color": "#EBF0F8"
             },
             "line": {
              "color": "white"
             }
            },
            "header": {
             "fill": {
              "color": "#C8D4E3"
             },
             "line": {
              "color": "white"
             }
            },
            "type": "table"
           }
          ]
         },
         "layout": {
          "annotationdefaults": {
           "arrowcolor": "#2a3f5f",
           "arrowhead": 0,
           "arrowwidth": 1
          },
          "autotypenumbers": "strict",
          "coloraxis": {
           "colorbar": {
            "outlinewidth": 0,
            "ticks": ""
           }
          },
          "colorscale": {
           "diverging": [
            [
             0,
             "#8e0152"
            ],
            [
             0.1,
             "#c51b7d"
            ],
            [
             0.2,
             "#de77ae"
            ],
            [
             0.3,
             "#f1b6da"
            ],
            [
             0.4,
             "#fde0ef"
            ],
            [
             0.5,
             "#f7f7f7"
            ],
            [
             0.6,
             "#e6f5d0"
            ],
            [
             0.7,
             "#b8e186"
            ],
            [
             0.8,
             "#7fbc41"
            ],
            [
             0.9,
             "#4d9221"
            ],
            [
             1,
             "#276419"
            ]
           ],
           "sequential": [
            [
             0,
             "#0d0887"
            ],
            [
             0.1111111111111111,
             "#46039f"
            ],
            [
             0.2222222222222222,
             "#7201a8"
            ],
            [
             0.3333333333333333,
             "#9c179e"
            ],
            [
             0.4444444444444444,
             "#bd3786"
            ],
            [
             0.5555555555555556,
             "#d8576b"
            ],
            [
             0.6666666666666666,
             "#ed7953"
            ],
            [
             0.7777777777777778,
             "#fb9f3a"
            ],
            [
             0.8888888888888888,
             "#fdca26"
            ],
            [
             1,
             "#f0f921"
            ]
           ],
           "sequentialminus": [
            [
             0,
             "#0d0887"
            ],
            [
             0.1111111111111111,
             "#46039f"
            ],
            [
             0.2222222222222222,
             "#7201a8"
            ],
            [
             0.3333333333333333,
             "#9c179e"
            ],
            [
             0.4444444444444444,
             "#bd3786"
            ],
            [
             0.5555555555555556,
             "#d8576b"
            ],
            [
             0.6666666666666666,
             "#ed7953"
            ],
            [
             0.7777777777777778,
             "#fb9f3a"
            ],
            [
             0.8888888888888888,
             "#fdca26"
            ],
            [
             1,
             "#f0f921"
            ]
           ]
          },
          "colorway": [
           "#636efa",
           "#EF553B",
           "#00cc96",
           "#ab63fa",
           "#FFA15A",
           "#19d3f3",
           "#FF6692",
           "#B6E880",
           "#FF97FF",
           "#FECB52"
          ],
          "font": {
           "color": "#2a3f5f"
          },
          "geo": {
           "bgcolor": "white",
           "lakecolor": "white",
           "landcolor": "white",
           "showlakes": true,
           "showland": true,
           "subunitcolor": "#C8D4E3"
          },
          "hoverlabel": {
           "align": "left"
          },
          "hovermode": "closest",
          "mapbox": {
           "style": "light"
          },
          "paper_bgcolor": "white",
          "plot_bgcolor": "white",
          "polar": {
           "angularaxis": {
            "gridcolor": "#EBF0F8",
            "linecolor": "#EBF0F8",
            "ticks": ""
           },
           "bgcolor": "white",
           "radialaxis": {
            "gridcolor": "#EBF0F8",
            "linecolor": "#EBF0F8",
            "ticks": ""
           }
          },
          "scene": {
           "xaxis": {
            "backgroundcolor": "white",
            "gridcolor": "#DFE8F3",
            "gridwidth": 2,
            "linecolor": "#EBF0F8",
            "showbackground": true,
            "ticks": "",
            "zerolinecolor": "#EBF0F8"
           },
           "yaxis": {
            "backgroundcolor": "white",
            "gridcolor": "#DFE8F3",
            "gridwidth": 2,
            "linecolor": "#EBF0F8",
            "showbackground": true,
            "ticks": "",
            "zerolinecolor": "#EBF0F8"
           },
           "zaxis": {
            "backgroundcolor": "white",
            "gridcolor": "#DFE8F3",
            "gridwidth": 2,
            "linecolor": "#EBF0F8",
            "showbackground": true,
            "ticks": "",
            "zerolinecolor": "#EBF0F8"
           }
          },
          "shapedefaults": {
           "line": {
            "color": "#2a3f5f"
           }
          },
          "ternary": {
           "aaxis": {
            "gridcolor": "#DFE8F3",
            "linecolor": "#A2B1C6",
            "ticks": ""
           },
           "baxis": {
            "gridcolor": "#DFE8F3",
            "linecolor": "#A2B1C6",
            "ticks": ""
           },
           "bgcolor": "white",
           "caxis": {
            "gridcolor": "#DFE8F3",
            "linecolor": "#A2B1C6",
            "ticks": ""
           }
          },
          "title": {
           "x": 0.05
          },
          "xaxis": {
           "automargin": true,
           "gridcolor": "#EBF0F8",
           "linecolor": "#EBF0F8",
           "ticks": "",
           "title": {
            "standoff": 15
           },
           "zerolinecolor": "#EBF0F8",
           "zerolinewidth": 2
          },
          "yaxis": {
           "automargin": true,
           "gridcolor": "#EBF0F8",
           "linecolor": "#EBF0F8",
           "ticks": "",
           "title": {
            "standoff": 15
           },
           "zerolinecolor": "#EBF0F8",
           "zerolinewidth": 2
          }
         }
        },
        "title": {
         "font": {
          "size": 25
         },
         "text": "Fairness Check",
         "x": 0.5,
         "y": 0.99
        },
        "xaxis": {
         "anchor": "y",
         "domain": [
          0,
          1
         ],
         "range": [
          -0.6165226781857454,
          5.8
         ],
         "ticktext": [
          0,
          1,
          2,
          3,
          4,
          5,
          6,
          1
         ],
         "tickvals": [
          -1,
          0,
          1,
          2,
          3,
          4,
          5,
          0
         ],
         "title": {
          "text": "score"
         }
        },
        "xaxis2": {
         "anchor": "y2",
         "domain": [
          0,
          1
         ],
         "matches": "x",
         "range": [
          -0.6165226781857454,
          5.8
         ],
         "showticklabels": false,
         "ticktext": [
          0,
          1,
          2,
          3,
          4,
          5,
          6,
          1
         ],
         "tickvals": [
          -1,
          0,
          1,
          2,
          3,
          4,
          5,
          0
         ]
        },
        "xaxis3": {
         "anchor": "y3",
         "domain": [
          0,
          1
         ],
         "matches": "x",
         "range": [
          -0.6165226781857454,
          5.8
         ],
         "showticklabels": false,
         "ticktext": [
          0,
          1,
          2,
          3,
          4,
          5,
          6,
          1
         ],
         "tickvals": [
          -1,
          0,
          1,
          2,
          3,
          4,
          5,
          0
         ]
        },
        "xaxis4": {
         "anchor": "y4",
         "domain": [
          0,
          1
         ],
         "matches": "x",
         "range": [
          -0.6165226781857454,
          5.8
         ],
         "showticklabels": false,
         "ticktext": [
          0,
          1,
          2,
          3,
          4,
          5,
          6,
          1
         ],
         "tickvals": [
          -1,
          0,
          1,
          2,
          3,
          4,
          5,
          0
         ]
        },
        "xaxis5": {
         "anchor": "y5",
         "domain": [
          0,
          1
         ],
         "matches": "x",
         "range": [
          -0.6165226781857454,
          5.8
         ],
         "showticklabels": false,
         "ticktext": [
          0,
          1,
          2,
          3,
          4,
          5,
          6,
          1
         ],
         "tickvals": [
          -1,
          0,
          1,
          2,
          3,
          4,
          5,
          0
         ]
        },
        "yaxis": {
         "anchor": "x",
         "domain": [
          0,
          0.144
         ],
         "range": [
          0,
          1
         ],
         "showgrid": false,
         "ticktext": [
          "other"
         ],
         "tickvals": [
          0.5
         ],
         "title": {
          "text": ""
         },
         "zeroline": false
        },
        "yaxis2": {
         "anchor": "x2",
         "domain": [
          0.214,
          0.358
         ],
         "matches": "y",
         "range": [
          0,
          1
         ],
         "showgrid": false,
         "ticktext": [
          "other"
         ],
         "tickvals": [
          0.5
         ],
         "title": {
          "text": ""
         },
         "zeroline": false
        },
        "yaxis3": {
         "anchor": "x3",
         "domain": [
          0.428,
          0.572
         ],
         "matches": "y",
         "range": [
          0,
          1
         ],
         "showgrid": false,
         "ticktext": [
          "other"
         ],
         "tickvals": [
          0.5
         ],
         "title": {
          "text": "subgroup"
         },
         "zeroline": false
        },
        "yaxis4": {
         "anchor": "x4",
         "domain": [
          0.6419999999999999,
          0.7859999999999999
         ],
         "matches": "y",
         "range": [
          0,
          1
         ],
         "showgrid": false,
         "ticktext": [
          "other"
         ],
         "tickvals": [
          0.5
         ],
         "title": {
          "text": ""
         },
         "zeroline": false
        },
        "yaxis5": {
         "anchor": "x5",
         "domain": [
          0.856,
          1
         ],
         "matches": "y",
         "range": [
          0,
          1
         ],
         "showgrid": false,
         "ticktext": [
          "other"
         ],
         "tickvals": [
          0.5
         ],
         "title": {
          "text": ""
         },
         "zeroline": false
        }
       }
      },
      "text/html": [
       "<div>                            <div id=\"90a2264f-f823-4c7c-888a-8be80e3332a6\" class=\"plotly-graph-div\" style=\"height:525px; width:100%;\"></div>            <script type=\"text/javascript\">                require([\"plotly\"], function(Plotly) {                    window.PLOTLYENV=window.PLOTLYENV || {};                                    if (document.getElementById(\"90a2264f-f823-4c7c-888a-8be80e3332a6\")) {                    Plotly.newPlot(                        \"90a2264f-f823-4c7c-888a-8be80e3332a6\",                        [{\"alignmentgroup\": \"True\", \"customdata\": [[\"other\", 0.808, \"torch_before\"]], \"hovertemplate\": \"<b>%{customdata[2]}</b><br>Subgroup: %{customdata[0]}<br>Score: %{customdata[1]}<br><extra></extra>\", \"legendgroup\": \"torch_before\", \"marker\": {\"color\": \"#46bac2\"}, \"name\": \"torch_before\", \"offsetgroup\": \"torch_before\", \"orientation\": \"h\", \"showlegend\": true, \"textposition\": \"auto\", \"type\": \"bar\", \"x\": [-0.19199999999999995], \"xaxis\": \"x5\", \"y\": [0.5], \"yaxis\": \"y5\"}, {\"alignmentgroup\": \"True\", \"customdata\": [[\"other\", 0.44, \"torch_before\"]], \"hovertemplate\": \"<b>%{customdata[2]}</b><br>Subgroup: %{customdata[0]}<br>Score: %{customdata[1]}<br><extra></extra>\", \"legendgroup\": \"torch_before\", \"marker\": {\"color\": \"#46bac2\"}, \"name\": \"torch_before\", \"offsetgroup\": \"torch_before\", \"orientation\": \"h\", \"showlegend\": false, \"textposition\": \"auto\", \"type\": \"bar\", \"x\": [-0.5604751619870412], \"xaxis\": \"x4\", \"y\": [0.5], \"yaxis\": \"y4\"}, {\"alignmentgroup\": \"True\", \"customdata\": [[\"other\", 6.535, \"torch_before\"]], \"hovertemplate\": \"<b>%{customdata[2]}</b><br>Subgroup: %{customdata[0]}<br>Score: %{customdata[1]}<br><extra></extra>\", \"legendgroup\": \"torch_before\", \"marker\": {\"color\": \"#46bac2\"}, \"name\": \"torch_before\", \"offsetgroup\": \"torch_before\", \"orientation\": \"h\", \"showlegend\": false, \"textposition\": \"auto\", \"type\": \"bar\", \"x\": [5.5348837209302335], \"xaxis\": \"x3\", \"y\": [0.5], \"yaxis\": \"y3\"}, {\"alignmentgroup\": \"True\", \"customdata\": [[\"other\", 0.823, \"torch_before\"]], \"hovertemplate\": \"<b>%{customdata[2]}</b><br>Subgroup: %{customdata[0]}<br>Score: %{customdata[1]}<br><extra></extra>\", \"legendgroup\": \"torch_before\", \"marker\": {\"color\": \"#46bac2\"}, \"name\": \"torch_before\", \"offsetgroup\": \"torch_before\", \"orientation\": \"h\", \"showlegend\": false, \"textposition\": \"auto\", \"type\": \"bar\", \"x\": [-0.17705735660847877], \"xaxis\": \"x2\", \"y\": [0.5], \"yaxis\": \"y2\"}, {\"alignmentgroup\": \"True\", \"customdata\": [[\"other\", 1.092, \"torch_before\"]], \"hovertemplate\": \"<b>%{customdata[2]}</b><br>Subgroup: %{customdata[0]}<br>Score: %{customdata[1]}<br><extra></extra>\", \"legendgroup\": \"torch_before\", \"marker\": {\"color\": \"#46bac2\"}, \"name\": \"torch_before\", \"offsetgroup\": \"torch_before\", \"orientation\": \"h\", \"showlegend\": false, \"textposition\": \"auto\", \"type\": \"bar\", \"x\": [0.09235668789808926], \"xaxis\": \"x\", \"y\": [0.5], \"yaxis\": \"y\"}],                        {\"annotations\": [{\"font\": {\"size\": 15}, \"showarrow\": false, \"text\": \"Statistical parity ratio   (TP + FP)/(TP + FP + TN + FN)\", \"x\": 0.05, \"xanchor\": \"left\", \"xref\": \"paper\", \"y\": 0.144, \"yanchor\": \"bottom\", \"yref\": \"paper\"}, {\"font\": {\"size\": 15}, \"showarrow\": false, \"text\": \"Accuracy equality ratio    (TP + TN)/(TP + FP + TN + FN)\", \"x\": 0.05, \"xanchor\": \"left\", \"xref\": \"paper\", \"y\": 0.358, \"yanchor\": \"bottom\", \"yref\": \"paper\"}, {\"font\": {\"size\": 15}, \"showarrow\": false, \"text\": \"Predictive equality ratio   FP/(FP + TN)\", \"x\": 0.05, \"xanchor\": \"left\", \"xref\": \"paper\", \"y\": 0.572, \"yanchor\": \"bottom\", \"yref\": \"paper\"}, {\"font\": {\"size\": 15}, \"showarrow\": false, \"text\": \"Predictive parity ratio     TP/(TP + FP)\", \"x\": 0.05, \"xanchor\": \"left\", \"xref\": \"paper\", \"y\": 0.7859999999999999, \"yanchor\": \"bottom\", \"yref\": \"paper\"}, {\"font\": {\"size\": 15}, \"showarrow\": false, \"text\": \"Equal opportunity ratio     TP/(TP + FN)\", \"x\": 0.05, \"xanchor\": \"left\", \"xref\": \"paper\", \"y\": 1.0, \"yanchor\": \"bottom\", \"yref\": \"paper\"}], \"barmode\": \"group\", \"font\": {\"color\": \"#371ea3\"}, \"legend\": {\"title\": {\"text\": \"label\"}, \"tracegroupgap\": 0}, \"margin\": {\"b\": 71, \"r\": 30, \"t\": 78}, \"shapes\": [{\"fillcolor\": \"#f05a71\", \"layer\": \"below\", \"line\": {\"width\": 0}, \"opacity\": 0.1, \"type\": \"rect\", \"x0\": 0.25, \"x1\": 5.8, \"xref\": \"x\", \"y0\": 0, \"y1\": 1, \"yref\": \"y\"}, {\"fillcolor\": \"#f05a71\", \"layer\": \"below\", \"line\": {\"width\": 0}, \"opacity\": 0.1, \"type\": \"rect\", \"x0\": -0.6165226781857454, \"x1\": -0.19999999999999996, \"xref\": \"x\", \"y0\": 0, \"y1\": 1, \"yref\": \"y\"}, {\"fillcolor\": \"#c7f5bf\", \"layer\": \"below\", \"line\": {\"width\": 0}, \"opacity\": 0.1, \"type\": \"rect\", \"x0\": -0.19999999999999996, \"x1\": 0.25, \"xref\": \"x\", \"y0\": 0, \"y1\": 1, \"yref\": \"y\"}, {\"line\": {\"color\": \"#371ea3\", \"width\": 1.5}, \"type\": \"line\", \"x0\": 0, \"x1\": 0, \"xref\": \"x\", \"y0\": 0, \"y1\": 1, \"yref\": \"y\"}, {\"fillcolor\": \"#f05a71\", \"layer\": \"below\", \"line\": {\"width\": 0}, \"opacity\": 0.1, \"type\": \"rect\", \"x0\": 0.25, \"x1\": 5.8, \"xref\": \"x\", \"y0\": 0, \"y1\": 1, \"yref\": \"y2\"}, {\"fillcolor\": \"#f05a71\", \"layer\": \"below\", \"line\": {\"width\": 0}, \"opacity\": 0.1, \"type\": \"rect\", \"x0\": -0.6165226781857454, \"x1\": -0.19999999999999996, \"xref\": \"x\", \"y0\": 0, \"y1\": 1, \"yref\": \"y2\"}, {\"fillcolor\": \"#c7f5bf\", \"layer\": \"below\", \"line\": {\"width\": 0}, \"opacity\": 0.1, \"type\": \"rect\", \"x0\": -0.19999999999999996, \"x1\": 0.25, \"xref\": \"x\", \"y0\": 0, \"y1\": 1, \"yref\": \"y2\"}, {\"line\": {\"color\": \"#371ea3\", \"width\": 1.5}, \"type\": \"line\", \"x0\": 0, \"x1\": 0, \"xref\": \"x\", \"y0\": 0, \"y1\": 1, \"yref\": \"y2\"}, {\"fillcolor\": \"#f05a71\", \"layer\": \"below\", \"line\": {\"width\": 0}, \"opacity\": 0.1, \"type\": \"rect\", \"x0\": 0.25, \"x1\": 5.8, \"xref\": \"x\", \"y0\": 0, \"y1\": 1, \"yref\": \"y3\"}, {\"fillcolor\": \"#f05a71\", \"layer\": \"below\", \"line\": {\"width\": 0}, \"opacity\": 0.1, \"type\": \"rect\", \"x0\": -0.6165226781857454, \"x1\": -0.19999999999999996, \"xref\": \"x\", \"y0\": 0, \"y1\": 1, \"yref\": \"y3\"}, {\"fillcolor\": \"#c7f5bf\", \"layer\": \"below\", \"line\": {\"width\": 0}, \"opacity\": 0.1, \"type\": \"rect\", \"x0\": -0.19999999999999996, \"x1\": 0.25, \"xref\": \"x\", \"y0\": 0, \"y1\": 1, \"yref\": \"y3\"}, {\"line\": {\"color\": \"#371ea3\", \"width\": 1.5}, \"type\": \"line\", \"x0\": 0, \"x1\": 0, \"xref\": \"x\", \"y0\": 0, \"y1\": 1, \"yref\": \"y3\"}, {\"fillcolor\": \"#f05a71\", \"layer\": \"below\", \"line\": {\"width\": 0}, \"opacity\": 0.1, \"type\": \"rect\", \"x0\": 0.25, \"x1\": 5.8, \"xref\": \"x\", \"y0\": 0, \"y1\": 1, \"yref\": \"y4\"}, {\"fillcolor\": \"#f05a71\", \"layer\": \"below\", \"line\": {\"width\": 0}, \"opacity\": 0.1, \"type\": \"rect\", \"x0\": -0.6165226781857454, \"x1\": -0.19999999999999996, \"xref\": \"x\", \"y0\": 0, \"y1\": 1, \"yref\": \"y4\"}, {\"fillcolor\": \"#c7f5bf\", \"layer\": \"below\", \"line\": {\"width\": 0}, \"opacity\": 0.1, \"type\": \"rect\", \"x0\": -0.19999999999999996, \"x1\": 0.25, \"xref\": \"x\", \"y0\": 0, \"y1\": 1, \"yref\": \"y4\"}, {\"line\": {\"color\": \"#371ea3\", \"width\": 1.5}, \"type\": \"line\", \"x0\": 0, \"x1\": 0, \"xref\": \"x\", \"y0\": 0, \"y1\": 1, \"yref\": \"y4\"}, {\"fillcolor\": \"#f05a71\", \"layer\": \"below\", \"line\": {\"width\": 0}, \"opacity\": 0.1, \"type\": \"rect\", \"x0\": 0.25, \"x1\": 5.8, \"xref\": \"x\", \"y0\": 0, \"y1\": 1, \"yref\": \"y5\"}, {\"fillcolor\": \"#f05a71\", \"layer\": \"below\", \"line\": {\"width\": 0}, \"opacity\": 0.1, \"type\": \"rect\", \"x0\": -0.6165226781857454, \"x1\": -0.19999999999999996, \"xref\": \"x\", \"y0\": 0, \"y1\": 1, \"yref\": \"y5\"}, {\"fillcolor\": \"#c7f5bf\", \"layer\": \"below\", \"line\": {\"width\": 0}, \"opacity\": 0.1, \"type\": \"rect\", \"x0\": -0.19999999999999996, \"x1\": 0.25, \"xref\": \"x\", \"y0\": 0, \"y1\": 1, \"yref\": \"y5\"}, {\"line\": {\"color\": \"#371ea3\", \"width\": 1.5}, \"type\": \"line\", \"x0\": 0, \"x1\": 0, \"xref\": \"x\", \"y0\": 0, \"y1\": 1, \"yref\": \"y5\"}], \"template\": {\"data\": {\"bar\": [{\"error_x\": {\"color\": \"#2a3f5f\"}, \"error_y\": {\"color\": \"#2a3f5f\"}, \"marker\": {\"line\": {\"color\": \"white\", \"width\": 0.5}}, \"type\": \"bar\"}], \"barpolar\": [{\"marker\": {\"line\": {\"color\": \"white\", \"width\": 0.5}}, \"type\": \"barpolar\"}], \"carpet\": [{\"aaxis\": {\"endlinecolor\": \"#2a3f5f\", \"gridcolor\": \"#C8D4E3\", \"linecolor\": \"#C8D4E3\", \"minorgridcolor\": \"#C8D4E3\", \"startlinecolor\": \"#2a3f5f\"}, \"baxis\": {\"endlinecolor\": \"#2a3f5f\", \"gridcolor\": \"#C8D4E3\", \"linecolor\": \"#C8D4E3\", \"minorgridcolor\": \"#C8D4E3\", \"startlinecolor\": \"#2a3f5f\"}, \"type\": \"carpet\"}], \"choropleth\": [{\"colorbar\": {\"outlinewidth\": 0, \"ticks\": \"\"}, \"type\": \"choropleth\"}], \"contour\": [{\"colorbar\": {\"outlinewidth\": 0, \"ticks\": \"\"}, \"colorscale\": [[0.0, \"#0d0887\"], [0.1111111111111111, \"#46039f\"], [0.2222222222222222, \"#7201a8\"], [0.3333333333333333, \"#9c179e\"], [0.4444444444444444, \"#bd3786\"], [0.5555555555555556, \"#d8576b\"], [0.6666666666666666, \"#ed7953\"], [0.7777777777777778, \"#fb9f3a\"], [0.8888888888888888, \"#fdca26\"], [1.0, \"#f0f921\"]], \"type\": \"contour\"}], \"contourcarpet\": [{\"colorbar\": {\"outlinewidth\": 0, \"ticks\": \"\"}, \"type\": \"contourcarpet\"}], \"heatmap\": [{\"colorbar\": {\"outlinewidth\": 0, \"ticks\": \"\"}, \"colorscale\": [[0.0, \"#0d0887\"], [0.1111111111111111, \"#46039f\"], [0.2222222222222222, \"#7201a8\"], [0.3333333333333333, \"#9c179e\"], [0.4444444444444444, \"#bd3786\"], [0.5555555555555556, \"#d8576b\"], [0.6666666666666666, \"#ed7953\"], [0.7777777777777778, \"#fb9f3a\"], [0.8888888888888888, \"#fdca26\"], [1.0, \"#f0f921\"]], \"type\": \"heatmap\"}], \"heatmapgl\": [{\"colorbar\": {\"outlinewidth\": 0, \"ticks\": \"\"}, \"colorscale\": [[0.0, \"#0d0887\"], [0.1111111111111111, \"#46039f\"], [0.2222222222222222, \"#7201a8\"], [0.3333333333333333, \"#9c179e\"], [0.4444444444444444, \"#bd3786\"], [0.5555555555555556, \"#d8576b\"], [0.6666666666666666, \"#ed7953\"], [0.7777777777777778, \"#fb9f3a\"], [0.8888888888888888, \"#fdca26\"], [1.0, \"#f0f921\"]], \"type\": \"heatmapgl\"}], \"histogram\": [{\"marker\": {\"colorbar\": {\"outlinewidth\": 0, \"ticks\": \"\"}}, \"type\": \"histogram\"}], \"histogram2d\": [{\"colorbar\": {\"outlinewidth\": 0, \"ticks\": \"\"}, \"colorscale\": [[0.0, \"#0d0887\"], [0.1111111111111111, \"#46039f\"], [0.2222222222222222, \"#7201a8\"], [0.3333333333333333, \"#9c179e\"], [0.4444444444444444, \"#bd3786\"], [0.5555555555555556, \"#d8576b\"], [0.6666666666666666, \"#ed7953\"], [0.7777777777777778, \"#fb9f3a\"], [0.8888888888888888, \"#fdca26\"], [1.0, \"#f0f921\"]], \"type\": \"histogram2d\"}], \"histogram2dcontour\": [{\"colorbar\": {\"outlinewidth\": 0, \"ticks\": \"\"}, \"colorscale\": [[0.0, \"#0d0887\"], [0.1111111111111111, \"#46039f\"], [0.2222222222222222, \"#7201a8\"], [0.3333333333333333, \"#9c179e\"], [0.4444444444444444, \"#bd3786\"], [0.5555555555555556, \"#d8576b\"], [0.6666666666666666, \"#ed7953\"], [0.7777777777777778, \"#fb9f3a\"], [0.8888888888888888, \"#fdca26\"], [1.0, \"#f0f921\"]], \"type\": \"histogram2dcontour\"}], \"mesh3d\": [{\"colorbar\": {\"outlinewidth\": 0, \"ticks\": \"\"}, \"type\": \"mesh3d\"}], \"parcoords\": [{\"line\": {\"colorbar\": {\"outlinewidth\": 0, \"ticks\": \"\"}}, \"type\": \"parcoords\"}], \"pie\": [{\"automargin\": true, \"type\": \"pie\"}], \"scatter\": [{\"marker\": {\"colorbar\": {\"outlinewidth\": 0, \"ticks\": \"\"}}, \"type\": \"scatter\"}], \"scatter3d\": [{\"line\": {\"colorbar\": {\"outlinewidth\": 0, \"ticks\": \"\"}}, \"marker\": {\"colorbar\": {\"outlinewidth\": 0, \"ticks\": \"\"}}, \"type\": \"scatter3d\"}], \"scattercarpet\": [{\"marker\": {\"colorbar\": {\"outlinewidth\": 0, \"ticks\": \"\"}}, \"type\": \"scattercarpet\"}], \"scattergeo\": [{\"marker\": {\"colorbar\": {\"outlinewidth\": 0, \"ticks\": \"\"}}, \"type\": \"scattergeo\"}], \"scattergl\": [{\"marker\": {\"colorbar\": {\"outlinewidth\": 0, \"ticks\": \"\"}}, \"type\": \"scattergl\"}], \"scattermapbox\": [{\"marker\": {\"colorbar\": {\"outlinewidth\": 0, \"ticks\": \"\"}}, \"type\": \"scattermapbox\"}], \"scatterpolar\": [{\"marker\": {\"colorbar\": {\"outlinewidth\": 0, \"ticks\": \"\"}}, \"type\": \"scatterpolar\"}], \"scatterpolargl\": [{\"marker\": {\"colorbar\": {\"outlinewidth\": 0, \"ticks\": \"\"}}, \"type\": \"scatterpolargl\"}], \"scatterternary\": [{\"marker\": {\"colorbar\": {\"outlinewidth\": 0, \"ticks\": \"\"}}, \"type\": \"scatterternary\"}], \"surface\": [{\"colorbar\": {\"outlinewidth\": 0, \"ticks\": \"\"}, \"colorscale\": [[0.0, \"#0d0887\"], [0.1111111111111111, \"#46039f\"], [0.2222222222222222, \"#7201a8\"], [0.3333333333333333, \"#9c179e\"], [0.4444444444444444, \"#bd3786\"], [0.5555555555555556, \"#d8576b\"], [0.6666666666666666, \"#ed7953\"], [0.7777777777777778, \"#fb9f3a\"], [0.8888888888888888, \"#fdca26\"], [1.0, \"#f0f921\"]], \"type\": \"surface\"}], \"table\": [{\"cells\": {\"fill\": {\"color\": \"#EBF0F8\"}, \"line\": {\"color\": \"white\"}}, \"header\": {\"fill\": {\"color\": \"#C8D4E3\"}, \"line\": {\"color\": \"white\"}}, \"type\": \"table\"}]}, \"layout\": {\"annotationdefaults\": {\"arrowcolor\": \"#2a3f5f\", \"arrowhead\": 0, \"arrowwidth\": 1}, \"autotypenumbers\": \"strict\", \"coloraxis\": {\"colorbar\": {\"outlinewidth\": 0, \"ticks\": \"\"}}, \"colorscale\": {\"diverging\": [[0, \"#8e0152\"], [0.1, \"#c51b7d\"], [0.2, \"#de77ae\"], [0.3, \"#f1b6da\"], [0.4, \"#fde0ef\"], [0.5, \"#f7f7f7\"], [0.6, \"#e6f5d0\"], [0.7, \"#b8e186\"], [0.8, \"#7fbc41\"], [0.9, \"#4d9221\"], [1, \"#276419\"]], \"sequential\": [[0.0, \"#0d0887\"], [0.1111111111111111, \"#46039f\"], [0.2222222222222222, \"#7201a8\"], [0.3333333333333333, \"#9c179e\"], [0.4444444444444444, \"#bd3786\"], [0.5555555555555556, \"#d8576b\"], [0.6666666666666666, \"#ed7953\"], [0.7777777777777778, \"#fb9f3a\"], [0.8888888888888888, \"#fdca26\"], [1.0, \"#f0f921\"]], \"sequentialminus\": [[0.0, \"#0d0887\"], [0.1111111111111111, \"#46039f\"], [0.2222222222222222, \"#7201a8\"], [0.3333333333333333, \"#9c179e\"], [0.4444444444444444, \"#bd3786\"], [0.5555555555555556, \"#d8576b\"], [0.6666666666666666, \"#ed7953\"], [0.7777777777777778, \"#fb9f3a\"], [0.8888888888888888, \"#fdca26\"], [1.0, \"#f0f921\"]]}, \"colorway\": [\"#636efa\", \"#EF553B\", \"#00cc96\", \"#ab63fa\", \"#FFA15A\", \"#19d3f3\", \"#FF6692\", \"#B6E880\", \"#FF97FF\", \"#FECB52\"], \"font\": {\"color\": \"#2a3f5f\"}, \"geo\": {\"bgcolor\": \"white\", \"lakecolor\": \"white\", \"landcolor\": \"white\", \"showlakes\": true, \"showland\": true, \"subunitcolor\": \"#C8D4E3\"}, \"hoverlabel\": {\"align\": \"left\"}, \"hovermode\": \"closest\", \"mapbox\": {\"style\": \"light\"}, \"paper_bgcolor\": \"white\", \"plot_bgcolor\": \"white\", \"polar\": {\"angularaxis\": {\"gridcolor\": \"#EBF0F8\", \"linecolor\": \"#EBF0F8\", \"ticks\": \"\"}, \"bgcolor\": \"white\", \"radialaxis\": {\"gridcolor\": \"#EBF0F8\", \"linecolor\": \"#EBF0F8\", \"ticks\": \"\"}}, \"scene\": {\"xaxis\": {\"backgroundcolor\": \"white\", \"gridcolor\": \"#DFE8F3\", \"gridwidth\": 2, \"linecolor\": \"#EBF0F8\", \"showbackground\": true, \"ticks\": \"\", \"zerolinecolor\": \"#EBF0F8\"}, \"yaxis\": {\"backgroundcolor\": \"white\", \"gridcolor\": \"#DFE8F3\", \"gridwidth\": 2, \"linecolor\": \"#EBF0F8\", \"showbackground\": true, \"ticks\": \"\", \"zerolinecolor\": \"#EBF0F8\"}, \"zaxis\": {\"backgroundcolor\": \"white\", \"gridcolor\": \"#DFE8F3\", \"gridwidth\": 2, \"linecolor\": \"#EBF0F8\", \"showbackground\": true, \"ticks\": \"\", \"zerolinecolor\": \"#EBF0F8\"}}, \"shapedefaults\": {\"line\": {\"color\": \"#2a3f5f\"}}, \"ternary\": {\"aaxis\": {\"gridcolor\": \"#DFE8F3\", \"linecolor\": \"#A2B1C6\", \"ticks\": \"\"}, \"baxis\": {\"gridcolor\": \"#DFE8F3\", \"linecolor\": \"#A2B1C6\", \"ticks\": \"\"}, \"bgcolor\": \"white\", \"caxis\": {\"gridcolor\": \"#DFE8F3\", \"linecolor\": \"#A2B1C6\", \"ticks\": \"\"}}, \"title\": {\"x\": 0.05}, \"xaxis\": {\"automargin\": true, \"gridcolor\": \"#EBF0F8\", \"linecolor\": \"#EBF0F8\", \"ticks\": \"\", \"title\": {\"standoff\": 15}, \"zerolinecolor\": \"#EBF0F8\", \"zerolinewidth\": 2}, \"yaxis\": {\"automargin\": true, \"gridcolor\": \"#EBF0F8\", \"linecolor\": \"#EBF0F8\", \"ticks\": \"\", \"title\": {\"standoff\": 15}, \"zerolinecolor\": \"#EBF0F8\", \"zerolinewidth\": 2}}}, \"title\": {\"font\": {\"size\": 25}, \"text\": \"Fairness Check\", \"x\": 0.5, \"y\": 0.99}, \"xaxis\": {\"anchor\": \"y\", \"domain\": [0.0, 1.0], \"range\": [-0.6165226781857454, 5.8], \"ticktext\": [0.0, 1.0, 2.0, 3.0, 4.0, 5.0, 6.0, 1.0], \"tickvals\": [-1.0, 0.0, 1.0, 2.0, 3.0, 4.0, 5.0, 0.0], \"title\": {\"text\": \"score\"}}, \"xaxis2\": {\"anchor\": \"y2\", \"domain\": [0.0, 1.0], \"matches\": \"x\", \"range\": [-0.6165226781857454, 5.8], \"showticklabels\": false, \"ticktext\": [0.0, 1.0, 2.0, 3.0, 4.0, 5.0, 6.0, 1.0], \"tickvals\": [-1.0, 0.0, 1.0, 2.0, 3.0, 4.0, 5.0, 0.0]}, \"xaxis3\": {\"anchor\": \"y3\", \"domain\": [0.0, 1.0], \"matches\": \"x\", \"range\": [-0.6165226781857454, 5.8], \"showticklabels\": false, \"ticktext\": [0.0, 1.0, 2.0, 3.0, 4.0, 5.0, 6.0, 1.0], \"tickvals\": [-1.0, 0.0, 1.0, 2.0, 3.0, 4.0, 5.0, 0.0]}, \"xaxis4\": {\"anchor\": \"y4\", \"domain\": [0.0, 1.0], \"matches\": \"x\", \"range\": [-0.6165226781857454, 5.8], \"showticklabels\": false, \"ticktext\": [0.0, 1.0, 2.0, 3.0, 4.0, 5.0, 6.0, 1.0], \"tickvals\": [-1.0, 0.0, 1.0, 2.0, 3.0, 4.0, 5.0, 0.0]}, \"xaxis5\": {\"anchor\": \"y5\", \"domain\": [0.0, 1.0], \"matches\": \"x\", \"range\": [-0.6165226781857454, 5.8], \"showticklabels\": false, \"ticktext\": [0.0, 1.0, 2.0, 3.0, 4.0, 5.0, 6.0, 1.0], \"tickvals\": [-1.0, 0.0, 1.0, 2.0, 3.0, 4.0, 5.0, 0.0]}, \"yaxis\": {\"anchor\": \"x\", \"domain\": [0.0, 0.144], \"range\": [0, 1], \"showgrid\": false, \"ticktext\": [\"other\"], \"tickvals\": [0.5], \"title\": {\"text\": \"\"}, \"zeroline\": false}, \"yaxis2\": {\"anchor\": \"x2\", \"domain\": [0.214, 0.358], \"matches\": \"y\", \"range\": [0, 1], \"showgrid\": false, \"ticktext\": [\"other\"], \"tickvals\": [0.5], \"title\": {\"text\": \"\"}, \"zeroline\": false}, \"yaxis3\": {\"anchor\": \"x3\", \"domain\": [0.428, 0.572], \"matches\": \"y\", \"range\": [0, 1], \"showgrid\": false, \"ticktext\": [\"other\"], \"tickvals\": [0.5], \"title\": {\"text\": \"subgroup\"}, \"zeroline\": false}, \"yaxis4\": {\"anchor\": \"x4\", \"domain\": [0.6419999999999999, 0.7859999999999999], \"matches\": \"y\", \"range\": [0, 1], \"showgrid\": false, \"ticktext\": [\"other\"], \"tickvals\": [0.5], \"title\": {\"text\": \"\"}, \"zeroline\": false}, \"yaxis5\": {\"anchor\": \"x5\", \"domain\": [0.856, 1.0], \"matches\": \"y\", \"range\": [0, 1], \"showgrid\": false, \"ticktext\": [\"other\"], \"tickvals\": [0.5], \"title\": {\"text\": \"\"}, \"zeroline\": false}},                        {\"displaylogo\": false, \"staticPlot\": false, \"toImageButtonOptions\": {\"height\": null, \"width\": null}, \"modeBarButtonsToRemove\": [\"sendDataToCloud\", \"lasso2d\", \"autoScale2d\", \"select2d\", \"zoom2d\", \"pan2d\", \"zoomIn2d\", \"zoomOut2d\", \"resetScale2d\", \"toggleSpikelines\", \"hoverCompareCartesian\", \"hoverClosestCartesian\"], \"responsive\": true}                    ).then(function(){\n",
       "                            \n",
       "var gd = document.getElementById('90a2264f-f823-4c7c-888a-8be80e3332a6');\n",
       "var x = new MutationObserver(function (mutations, observer) {{\n",
       "        var display = window.getComputedStyle(gd).display;\n",
       "        if (!display || display === 'none') {{\n",
       "            console.log([gd, 'removed!']);\n",
       "            Plotly.purge(gd);\n",
       "            observer.disconnect();\n",
       "        }}\n",
       "}});\n",
       "\n",
       "// Listen for the removal of the full notebook cells\n",
       "var notebookContainer = gd.closest('#notebook-container');\n",
       "if (notebookContainer) {{\n",
       "    x.observe(notebookContainer, {childList: true});\n",
       "}}\n",
       "\n",
       "// Listen for the clearing of the current output cell\n",
       "var outputEl = gd.closest('.output');\n",
       "if (outputEl) {{\n",
       "    x.observe(outputEl, {childList: true});\n",
       "}}\n",
       "\n",
       "                        })                };                });            </script>        </div>"
      ]
     },
     "metadata": {},
     "output_type": "display_data"
    }
   ],
   "source": [
    "fobject = exp_net.model_fairness(protected=A_test, privileged = \"china\")\n",
    "fobject.plot()"
   ]
  },
  {
   "cell_type": "code",
   "execution_count": 28,
   "metadata": {
    "pycharm": {
     "is_executing": true
    }
   },
   "outputs": [],
   "source": [
    "from sklearn.preprocessing import OrdinalEncoder"
   ]
  },
  {
   "cell_type": "code",
   "execution_count": 29,
   "metadata": {
    "pycharm": {
     "is_executing": true
    }
   },
   "outputs": [],
   "source": [
    "oe = OrdinalEncoder()\n",
    "A_train_ord = oe.fit_transform(np.array(A_train).reshape(-1,1))\n",
    "A_train_ord = A_train_ord.reshape(-1)\n",
    "\n",
    "A_test_ord = oe.transform(np.array(A_test).reshape(-1,1))\n",
    "A_test_ord = A_test_ord.reshape(-1)\n"
   ]
  },
  {
   "cell_type": "code",
   "execution_count": 30,
   "metadata": {
    "pycharm": {
     "is_executing": true
    }
   },
   "outputs": [],
   "source": [
    "sensi_train = torch.from_numpy(A_train_ord.astype(int))\n",
    "sensi_test = torch.from_numpy(A_test_ord.astype(int))"
   ]
  },
  {
   "cell_type": "code",
   "execution_count": 31,
   "metadata": {
    "pycharm": {
     "is_executing": true
    }
   },
   "outputs": [],
   "source": [
    "y_tr = y_tr.to('cpu')"
   ]
  },
  {
   "cell_type": "code",
   "execution_count": 32,
   "metadata": {
    "pycharm": {
     "is_executing": true
    }
   },
   "outputs": [
    {
     "data": {
      "text/plain": [
       "device(type='cpu')"
      ]
     },
     "execution_count": 32,
     "metadata": {},
     "output_type": "execute_result"
    }
   ],
   "source": [
    "torch.device('cpu')"
   ]
  },
  {
   "cell_type": "code",
   "execution_count": 33,
   "metadata": {
    "pycharm": {
     "is_executing": true
    }
   },
   "outputs": [],
   "source": [
    "def seed_everything(seed):\n",
    "    random.seed(seed)\n",
    "    os.environ[\"PYTHONHASHSEED\"] = str(seed)\n",
    "    np.random.seed(seed)\n",
    "    torch.manual_seed(seed)\n",
    "    torch.cuda.manual_seed(seed)\n",
    "    torch.backends.cudnn.deterministic = True\n",
    "\n",
    "\n",
    "seed_everything(2020)"
   ]
  },
  {
   "cell_type": "code",
   "execution_count": 34,
   "metadata": {
    "pycharm": {
     "is_executing": true
    }
   },
   "outputs": [
    {
     "name": "stdout",
     "output_type": "stream",
     "text": [
      "tensor(2.2972e-09, grad_fn=<MulBackward0>)\n",
      "tensor(6.6603e-07, grad_fn=<MulBackward0>)\n",
      "tensor(2.8319e-06, grad_fn=<MulBackward0>)\n",
      "tensor(7.4559e-06, grad_fn=<MulBackward0>)\n",
      "tensor(1.5795e-05, grad_fn=<MulBackward0>)\n",
      "tensor(2.8428e-05, grad_fn=<MulBackward0>)\n",
      "tensor(4.4547e-05, grad_fn=<MulBackward0>)\n",
      "tensor(6.0713e-05, grad_fn=<MulBackward0>)\n",
      "tensor(7.1892e-05, grad_fn=<MulBackward0>)\n",
      "tensor(7.6311e-05, grad_fn=<MulBackward0>)\n",
      "tensor(7.4256e-05, grad_fn=<MulBackward0>)\n",
      "tensor(6.6468e-05, grad_fn=<MulBackward0>)\n",
      "tensor(5.5844e-05, grad_fn=<MulBackward0>)\n",
      "tensor(4.7602e-05, grad_fn=<MulBackward0>)\n",
      "tensor(4.6358e-05, grad_fn=<MulBackward0>)\n",
      "tensor(5.3978e-05, grad_fn=<MulBackward0>)\n",
      "tensor(7.5650e-05, grad_fn=<MulBackward0>)\n",
      "tensor(0.0001, grad_fn=<MulBackward0>)\n",
      "tensor(0.0001, grad_fn=<MulBackward0>)\n",
      "tensor(0.0001, grad_fn=<MulBackward0>)\n",
      "tensor(9.5683e-05, grad_fn=<MulBackward0>)\n",
      "tensor(5.7125e-05, grad_fn=<MulBackward0>)\n",
      "tensor(3.4695e-05, grad_fn=<MulBackward0>)\n",
      "tensor(3.3428e-05, grad_fn=<MulBackward0>)\n",
      "tensor(5.0498e-05, grad_fn=<MulBackward0>)\n",
      "tensor(8.2317e-05, grad_fn=<MulBackward0>)\n",
      "tensor(9.6982e-05, grad_fn=<MulBackward0>)\n",
      "tensor(8.1791e-05, grad_fn=<MulBackward0>)\n",
      "tensor(6.7227e-05, grad_fn=<MulBackward0>)\n",
      "tensor(8.8211e-05, grad_fn=<MulBackward0>)\n",
      "tensor(0.0001, grad_fn=<MulBackward0>)\n",
      "tensor(0.0001, grad_fn=<MulBackward0>)\n",
      "tensor(0.0001, grad_fn=<MulBackward0>)\n",
      "tensor(0.0001, grad_fn=<MulBackward0>)\n",
      "tensor(0.0002, grad_fn=<MulBackward0>)\n",
      "tensor(0.0001, grad_fn=<MulBackward0>)\n",
      "tensor(0.0001, grad_fn=<MulBackward0>)\n",
      "tensor(0.0002, grad_fn=<MulBackward0>)\n",
      "tensor(0.0002, grad_fn=<MulBackward0>)\n",
      "tensor(0.0002, grad_fn=<MulBackward0>)\n",
      "tensor(0.0002, grad_fn=<MulBackward0>)\n",
      "tensor(0.0002, grad_fn=<MulBackward0>)\n",
      "tensor(0.0004, grad_fn=<MulBackward0>)\n",
      "tensor(0.0003, grad_fn=<MulBackward0>)\n",
      "tensor(0.0004, grad_fn=<MulBackward0>)\n",
      "tensor(0.0005, grad_fn=<MulBackward0>)\n",
      "tensor(0.0003, grad_fn=<MulBackward0>)\n",
      "tensor(0.0004, grad_fn=<MulBackward0>)\n",
      "tensor(0.0006, grad_fn=<MulBackward0>)\n",
      "tensor(0.0004, grad_fn=<MulBackward0>)\n",
      "tensor(0.0005, grad_fn=<MulBackward0>)\n",
      "tensor(0.0007, grad_fn=<MulBackward0>)\n",
      "tensor(0.0006, grad_fn=<MulBackward0>)\n",
      "tensor(0.0007, grad_fn=<MulBackward0>)\n",
      "tensor(0.0008, grad_fn=<MulBackward0>)\n",
      "tensor(0.0007, grad_fn=<MulBackward0>)\n",
      "tensor(0.0011, grad_fn=<MulBackward0>)\n",
      "tensor(0.0008, grad_fn=<MulBackward0>)\n",
      "tensor(0.0009, grad_fn=<MulBackward0>)\n",
      "tensor(0.0013, grad_fn=<MulBackward0>)\n",
      "tensor(0.0011, grad_fn=<MulBackward0>)\n",
      "tensor(0.0014, grad_fn=<MulBackward0>)\n",
      "tensor(0.0011, grad_fn=<MulBackward0>)\n",
      "tensor(0.0012, grad_fn=<MulBackward0>)\n",
      "tensor(0.0018, grad_fn=<MulBackward0>)\n",
      "tensor(0.0015, grad_fn=<MulBackward0>)\n",
      "tensor(0.0016, grad_fn=<MulBackward0>)\n",
      "tensor(0.0016, grad_fn=<MulBackward0>)\n",
      "tensor(0.0017, grad_fn=<MulBackward0>)\n",
      "tensor(0.0025, grad_fn=<MulBackward0>)\n",
      "tensor(0.0020, grad_fn=<MulBackward0>)\n",
      "tensor(0.0020, grad_fn=<MulBackward0>)\n",
      "tensor(0.0023, grad_fn=<MulBackward0>)\n",
      "tensor(0.0023, grad_fn=<MulBackward0>)\n",
      "tensor(0.0030, grad_fn=<MulBackward0>)\n",
      "tensor(0.0023, grad_fn=<MulBackward0>)\n",
      "tensor(0.0024, grad_fn=<MulBackward0>)\n",
      "tensor(0.0030, grad_fn=<MulBackward0>)\n",
      "tensor(0.0030, grad_fn=<MulBackward0>)\n",
      "tensor(0.0034, grad_fn=<MulBackward0>)\n",
      "tensor(0.0029, grad_fn=<MulBackward0>)\n",
      "tensor(0.0030, grad_fn=<MulBackward0>)\n",
      "tensor(0.0037, grad_fn=<MulBackward0>)\n",
      "tensor(0.0040, grad_fn=<MulBackward0>)\n",
      "tensor(0.0055, grad_fn=<MulBackward0>)\n",
      "tensor(0.0040, grad_fn=<MulBackward0>)\n",
      "tensor(0.0037, grad_fn=<MulBackward0>)\n",
      "tensor(0.0052, grad_fn=<MulBackward0>)\n",
      "tensor(0.0047, grad_fn=<MulBackward0>)\n",
      "tensor(0.0043, grad_fn=<MulBackward0>)\n",
      "tensor(0.0048, grad_fn=<MulBackward0>)\n",
      "tensor(0.0050, grad_fn=<MulBackward0>)\n",
      "tensor(0.0053, grad_fn=<MulBackward0>)\n",
      "tensor(0.0048, grad_fn=<MulBackward0>)\n",
      "tensor(0.0052, grad_fn=<MulBackward0>)\n",
      "tensor(0.0063, grad_fn=<MulBackward0>)\n",
      "tensor(0.0055, grad_fn=<MulBackward0>)\n",
      "tensor(0.0055, grad_fn=<MulBackward0>)\n",
      "tensor(0.0059, grad_fn=<MulBackward0>)\n",
      "tensor(0.0062, grad_fn=<MulBackward0>)\n",
      "tensor(0.0077, grad_fn=<MulBackward0>)\n",
      "tensor(0.0072, grad_fn=<MulBackward0>)\n",
      "tensor(0.0072, grad_fn=<MulBackward0>)\n",
      "tensor(0.0063, grad_fn=<MulBackward0>)\n",
      "tensor(0.0067, grad_fn=<MulBackward0>)\n",
      "tensor(0.0085, grad_fn=<MulBackward0>)\n",
      "tensor(0.0078, grad_fn=<MulBackward0>)\n",
      "tensor(0.0077, grad_fn=<MulBackward0>)\n",
      "tensor(0.0071, grad_fn=<MulBackward0>)\n",
      "tensor(0.0076, grad_fn=<MulBackward0>)\n",
      "tensor(0.0095, grad_fn=<MulBackward0>)\n",
      "tensor(0.0088, grad_fn=<MulBackward0>)\n",
      "tensor(0.0088, grad_fn=<MulBackward0>)\n",
      "tensor(0.0078, grad_fn=<MulBackward0>)\n",
      "tensor(0.0083, grad_fn=<MulBackward0>)\n",
      "tensor(0.0101, grad_fn=<MulBackward0>)\n",
      "tensor(0.0095, grad_fn=<MulBackward0>)\n",
      "tensor(0.0098, grad_fn=<MulBackward0>)\n",
      "tensor(0.0086, grad_fn=<MulBackward0>)\n",
      "tensor(0.0087, grad_fn=<MulBackward0>)\n",
      "tensor(0.0101, grad_fn=<MulBackward0>)\n",
      "tensor(0.0103, grad_fn=<MulBackward0>)\n",
      "tensor(0.0119, grad_fn=<MulBackward0>)\n",
      "tensor(0.0104, grad_fn=<MulBackward0>)\n",
      "tensor(0.0100, grad_fn=<MulBackward0>)\n",
      "tensor(0.0095, grad_fn=<MulBackward0>)\n",
      "tensor(0.0099, grad_fn=<MulBackward0>)\n",
      "tensor(0.0118, grad_fn=<MulBackward0>)\n",
      "tensor(0.0114, grad_fn=<MulBackward0>)\n",
      "tensor(0.0124, grad_fn=<MulBackward0>)\n",
      "tensor(0.0103, grad_fn=<MulBackward0>)\n",
      "tensor(0.0100, grad_fn=<MulBackward0>)\n",
      "tensor(0.0107, grad_fn=<MulBackward0>)\n",
      "tensor(0.0111, grad_fn=<MulBackward0>)\n",
      "tensor(0.0131, grad_fn=<MulBackward0>)\n",
      "tensor(0.0122, grad_fn=<MulBackward0>)\n",
      "tensor(0.0126, grad_fn=<MulBackward0>)\n",
      "tensor(0.0107, grad_fn=<MulBackward0>)\n",
      "tensor(0.0105, grad_fn=<MulBackward0>)\n",
      "tensor(0.0115, grad_fn=<MulBackward0>)\n",
      "tensor(0.0119, grad_fn=<MulBackward0>)\n",
      "tensor(0.0142, grad_fn=<MulBackward0>)\n",
      "tensor(0.0132, grad_fn=<MulBackward0>)\n",
      "tensor(0.0133, grad_fn=<MulBackward0>)\n",
      "tensor(0.0109, grad_fn=<MulBackward0>)\n",
      "tensor(0.0109, grad_fn=<MulBackward0>)\n",
      "tensor(0.0128, grad_fn=<MulBackward0>)\n",
      "tensor(0.0125, grad_fn=<MulBackward0>)\n",
      "tensor(0.0132, grad_fn=<MulBackward0>)\n",
      "tensor(0.0114, grad_fn=<MulBackward0>)\n",
      "tensor(0.0112, grad_fn=<MulBackward0>)\n",
      "tensor(0.0116, grad_fn=<MulBackward0>)\n",
      "tensor(0.0118, grad_fn=<MulBackward0>)\n",
      "tensor(0.0143, grad_fn=<MulBackward0>)\n",
      "tensor(0.0151, grad_fn=<MulBackward0>)\n",
      "tensor(0.0187, grad_fn=<MulBackward0>)\n",
      "tensor(0.0154, grad_fn=<MulBackward0>)\n",
      "tensor(0.0128, grad_fn=<MulBackward0>)\n",
      "tensor(0.0117, grad_fn=<MulBackward0>)\n",
      "tensor(0.0135, grad_fn=<MulBackward0>)\n",
      "tensor(0.0150, grad_fn=<MulBackward0>)\n",
      "tensor(0.0118, grad_fn=<MulBackward0>)\n",
      "tensor(0.0117, grad_fn=<MulBackward0>)\n",
      "tensor(0.0144, grad_fn=<MulBackward0>)\n",
      "tensor(0.0133, grad_fn=<MulBackward0>)\n",
      "tensor(0.0125, grad_fn=<MulBackward0>)\n",
      "tensor(0.0120, grad_fn=<MulBackward0>)\n",
      "tensor(0.0126, grad_fn=<MulBackward0>)\n",
      "tensor(0.0149, grad_fn=<MulBackward0>)\n",
      "tensor(0.0144, grad_fn=<MulBackward0>)\n",
      "tensor(0.0146, grad_fn=<MulBackward0>)\n",
      "tensor(0.0118, grad_fn=<MulBackward0>)\n",
      "tensor(0.0115, grad_fn=<MulBackward0>)\n",
      "tensor(0.0132, grad_fn=<MulBackward0>)\n",
      "tensor(0.0136, grad_fn=<MulBackward0>)\n",
      "tensor(0.0155, grad_fn=<MulBackward0>)\n",
      "tensor(0.0130, grad_fn=<MulBackward0>)\n",
      "tensor(0.0121, grad_fn=<MulBackward0>)\n",
      "tensor(0.0113, grad_fn=<MulBackward0>)\n",
      "tensor(0.0119, grad_fn=<MulBackward0>)\n",
      "tensor(0.0155, grad_fn=<MulBackward0>)\n",
      "tensor(0.0204, grad_fn=<MulBackward0>)\n",
      "tensor(0.0278, grad_fn=<MulBackward0>)\n",
      "tensor(0.0153, grad_fn=<MulBackward0>)\n",
      "tensor(0.0124, grad_fn=<MulBackward0>)\n",
      "tensor(0.0205, grad_fn=<MulBackward0>)\n",
      "tensor(0.0139, grad_fn=<MulBackward0>)\n",
      "tensor(0.0132, grad_fn=<MulBackward0>)\n",
      "tensor(0.0186, grad_fn=<MulBackward0>)\n",
      "tensor(0.0123, grad_fn=<MulBackward0>)\n",
      "tensor(0.0148, grad_fn=<MulBackward0>)\n",
      "tensor(0.0159, grad_fn=<MulBackward0>)\n",
      "tensor(0.0127, grad_fn=<MulBackward0>)\n",
      "tensor(0.0151, grad_fn=<MulBackward0>)\n",
      "tensor(0.0134, grad_fn=<MulBackward0>)\n",
      "tensor(0.0138, grad_fn=<MulBackward0>)\n",
      "tensor(0.0143, grad_fn=<MulBackward0>)\n",
      "tensor(0.0123, grad_fn=<MulBackward0>)\n",
      "tensor(0.0138, grad_fn=<MulBackward0>)\n",
      "tensor(0.0133, grad_fn=<MulBackward0>)\n",
      "tensor(0.0119, grad_fn=<MulBackward0>)\n",
      "tensor(0.0132, grad_fn=<MulBackward0>)\n",
      "tensor(0.0127, grad_fn=<MulBackward0>)\n",
      "tensor(0.0118, grad_fn=<MulBackward0>)\n",
      "tensor(0.0123, grad_fn=<MulBackward0>)\n",
      "tensor(0.0125, grad_fn=<MulBackward0>)\n",
      "tensor(0.0126, grad_fn=<MulBackward0>)\n",
      "tensor(0.0112, grad_fn=<MulBackward0>)\n",
      "tensor(0.0113, grad_fn=<MulBackward0>)\n"
     ]
    },
    {
     "name": "stdout",
     "output_type": "stream",
     "text": [
      "tensor(0.0128, grad_fn=<MulBackward0>)\n",
      "tensor(0.0125, grad_fn=<MulBackward0>)\n",
      "tensor(0.0133, grad_fn=<MulBackward0>)\n",
      "tensor(0.0121, grad_fn=<MulBackward0>)\n",
      "tensor(0.0124, grad_fn=<MulBackward0>)\n",
      "tensor(0.0115, grad_fn=<MulBackward0>)\n",
      "tensor(0.0117, grad_fn=<MulBackward0>)\n",
      "tensor(0.0111, grad_fn=<MulBackward0>)\n",
      "tensor(0.0116, grad_fn=<MulBackward0>)\n",
      "tensor(0.0114, grad_fn=<MulBackward0>)\n",
      "tensor(0.0140, grad_fn=<MulBackward0>)\n",
      "tensor(0.0202, grad_fn=<MulBackward0>)\n",
      "tensor(0.0499, grad_fn=<MulBackward0>)\n",
      "tensor(0.0672, grad_fn=<MulBackward0>)\n",
      "tensor(0.0240, grad_fn=<MulBackward0>)\n",
      "tensor(0.0336, grad_fn=<MulBackward0>)\n",
      "tensor(0.0204, grad_fn=<MulBackward0>)\n",
      "tensor(0.0259, grad_fn=<MulBackward0>)\n",
      "tensor(0.0166, grad_fn=<MulBackward0>)\n",
      "tensor(0.0302, grad_fn=<MulBackward0>)\n",
      "tensor(0.0150, grad_fn=<MulBackward0>)\n",
      "tensor(0.0212, grad_fn=<MulBackward0>)\n",
      "tensor(0.0186, grad_fn=<MulBackward0>)\n",
      "tensor(0.0163, grad_fn=<MulBackward0>)\n",
      "tensor(0.0236, grad_fn=<MulBackward0>)\n",
      "tensor(0.0160, grad_fn=<MulBackward0>)\n",
      "tensor(0.0171, grad_fn=<MulBackward0>)\n",
      "tensor(0.0178, grad_fn=<MulBackward0>)\n",
      "tensor(0.0150, grad_fn=<MulBackward0>)\n",
      "tensor(0.0200, grad_fn=<MulBackward0>)\n",
      "tensor(0.0159, grad_fn=<MulBackward0>)\n",
      "tensor(0.0154, grad_fn=<MulBackward0>)\n",
      "tensor(0.0161, grad_fn=<MulBackward0>)\n",
      "tensor(0.0143, grad_fn=<MulBackward0>)\n",
      "tensor(0.0171, grad_fn=<MulBackward0>)\n",
      "tensor(0.0149, grad_fn=<MulBackward0>)\n",
      "tensor(0.0141, grad_fn=<MulBackward0>)\n",
      "tensor(0.0143, grad_fn=<MulBackward0>)\n",
      "tensor(0.0135, grad_fn=<MulBackward0>)\n",
      "tensor(0.0151, grad_fn=<MulBackward0>)\n",
      "tensor(0.0128, grad_fn=<MulBackward0>)\n",
      "tensor(0.0132, grad_fn=<MulBackward0>)\n",
      "tensor(0.0123, grad_fn=<MulBackward0>)\n",
      "tensor(0.0131, grad_fn=<MulBackward0>)\n",
      "tensor(0.0126, grad_fn=<MulBackward0>)\n",
      "tensor(0.0118, grad_fn=<MulBackward0>)\n",
      "tensor(0.0117, grad_fn=<MulBackward0>)\n",
      "tensor(0.0118, grad_fn=<MulBackward0>)\n",
      "tensor(0.0120, grad_fn=<MulBackward0>)\n",
      "tensor(0.0112, grad_fn=<MulBackward0>)\n",
      "tensor(0.0112, grad_fn=<MulBackward0>)\n",
      "tensor(0.0113, grad_fn=<MulBackward0>)\n",
      "tensor(0.0114, grad_fn=<MulBackward0>)\n",
      "tensor(0.0109, grad_fn=<MulBackward0>)\n",
      "tensor(0.0108, grad_fn=<MulBackward0>)\n",
      "tensor(0.0113, grad_fn=<MulBackward0>)\n",
      "tensor(0.0108, grad_fn=<MulBackward0>)\n",
      "tensor(0.0109, grad_fn=<MulBackward0>)\n",
      "tensor(0.0107, grad_fn=<MulBackward0>)\n",
      "tensor(0.0111, grad_fn=<MulBackward0>)\n",
      "tensor(0.0107, grad_fn=<MulBackward0>)\n",
      "tensor(0.0107, grad_fn=<MulBackward0>)\n",
      "tensor(0.0112, grad_fn=<MulBackward0>)\n",
      "tensor(0.0108, grad_fn=<MulBackward0>)\n",
      "tensor(0.0108, grad_fn=<MulBackward0>)\n",
      "tensor(0.0111, grad_fn=<MulBackward0>)\n",
      "tensor(0.0108, grad_fn=<MulBackward0>)\n",
      "tensor(0.0108, grad_fn=<MulBackward0>)\n",
      "tensor(0.0110, grad_fn=<MulBackward0>)\n",
      "tensor(0.0107, grad_fn=<MulBackward0>)\n",
      "tensor(0.0107, grad_fn=<MulBackward0>)\n",
      "tensor(0.0109, grad_fn=<MulBackward0>)\n",
      "tensor(0.0107, grad_fn=<MulBackward0>)\n",
      "tensor(0.0107, grad_fn=<MulBackward0>)\n",
      "tensor(0.0107, grad_fn=<MulBackward0>)\n",
      "tensor(0.0106, grad_fn=<MulBackward0>)\n",
      "tensor(0.0109, grad_fn=<MulBackward0>)\n",
      "tensor(0.0106, grad_fn=<MulBackward0>)\n",
      "tensor(0.0108, grad_fn=<MulBackward0>)\n",
      "tensor(0.0106, grad_fn=<MulBackward0>)\n",
      "tensor(0.0108, grad_fn=<MulBackward0>)\n",
      "tensor(0.0106, grad_fn=<MulBackward0>)\n",
      "tensor(0.0111, grad_fn=<MulBackward0>)\n",
      "tensor(0.0112, grad_fn=<MulBackward0>)\n",
      "tensor(0.0146, grad_fn=<MulBackward0>)\n",
      "tensor(0.0221, grad_fn=<MulBackward0>)\n",
      "tensor(0.0517, grad_fn=<MulBackward0>)\n",
      "tensor(0.0687, grad_fn=<MulBackward0>)\n",
      "tensor(0.0273, grad_fn=<MulBackward0>)\n",
      "tensor(0.0304, grad_fn=<MulBackward0>)\n",
      "tensor(0.0275, grad_fn=<MulBackward0>)\n",
      "tensor(0.0215, grad_fn=<MulBackward0>)\n",
      "tensor(0.0240, grad_fn=<MulBackward0>)\n",
      "tensor(0.0268, grad_fn=<MulBackward0>)\n",
      "tensor(0.0158, grad_fn=<MulBackward0>)\n",
      "tensor(0.0246, grad_fn=<MulBackward0>)\n",
      "tensor(0.0155, grad_fn=<MulBackward0>)\n",
      "tensor(0.0238, grad_fn=<MulBackward0>)\n",
      "tensor(0.0198, grad_fn=<MulBackward0>)\n",
      "tensor(0.0164, grad_fn=<MulBackward0>)\n",
      "tensor(0.0197, grad_fn=<MulBackward0>)\n",
      "tensor(0.0155, grad_fn=<MulBackward0>)\n",
      "tensor(0.0208, grad_fn=<MulBackward0>)\n",
      "tensor(0.0172, grad_fn=<MulBackward0>)\n",
      "tensor(0.0161, grad_fn=<MulBackward0>)\n",
      "tensor(0.0168, grad_fn=<MulBackward0>)\n",
      "tensor(0.0150, grad_fn=<MulBackward0>)\n",
      "tensor(0.0175, grad_fn=<MulBackward0>)\n",
      "tensor(0.0146, grad_fn=<MulBackward0>)\n",
      "tensor(0.0148, grad_fn=<MulBackward0>)\n",
      "tensor(0.0139, grad_fn=<MulBackward0>)\n",
      "tensor(0.0143, grad_fn=<MulBackward0>)\n",
      "tensor(0.0145, grad_fn=<MulBackward0>)\n",
      "tensor(0.0129, grad_fn=<MulBackward0>)\n",
      "tensor(0.0133, grad_fn=<MulBackward0>)\n",
      "tensor(0.0127, grad_fn=<MulBackward0>)\n",
      "tensor(0.0137, grad_fn=<MulBackward0>)\n",
      "tensor(0.0122, grad_fn=<MulBackward0>)\n",
      "tensor(0.0126, grad_fn=<MulBackward0>)\n",
      "tensor(0.0124, grad_fn=<MulBackward0>)\n",
      "tensor(0.0129, grad_fn=<MulBackward0>)\n",
      "tensor(0.0120, grad_fn=<MulBackward0>)\n",
      "tensor(0.0121, grad_fn=<MulBackward0>)\n",
      "tensor(0.0124, grad_fn=<MulBackward0>)\n",
      "tensor(0.0120, grad_fn=<MulBackward0>)\n",
      "tensor(0.0119, grad_fn=<MulBackward0>)\n",
      "tensor(0.0116, grad_fn=<MulBackward0>)\n",
      "tensor(0.0121, grad_fn=<MulBackward0>)\n",
      "tensor(0.0114, grad_fn=<MulBackward0>)\n",
      "tensor(0.0114, grad_fn=<MulBackward0>)\n",
      "tensor(0.0116, grad_fn=<MulBackward0>)\n",
      "tensor(0.0112, grad_fn=<MulBackward0>)\n",
      "tensor(0.0112, grad_fn=<MulBackward0>)\n",
      "tensor(0.0112, grad_fn=<MulBackward0>)\n",
      "tensor(0.0111, grad_fn=<MulBackward0>)\n",
      "tensor(0.0110, grad_fn=<MulBackward0>)\n",
      "tensor(0.0111, grad_fn=<MulBackward0>)\n",
      "tensor(0.0109, grad_fn=<MulBackward0>)\n",
      "tensor(0.0108, grad_fn=<MulBackward0>)\n",
      "tensor(0.0110, grad_fn=<MulBackward0>)\n",
      "tensor(0.0107, grad_fn=<MulBackward0>)\n",
      "tensor(0.0107, grad_fn=<MulBackward0>)\n",
      "tensor(0.0108, grad_fn=<MulBackward0>)\n",
      "tensor(0.0107, grad_fn=<MulBackward0>)\n",
      "tensor(0.0110, grad_fn=<MulBackward0>)\n",
      "tensor(0.0107, grad_fn=<MulBackward0>)\n",
      "tensor(0.0110, grad_fn=<MulBackward0>)\n",
      "tensor(0.0107, grad_fn=<MulBackward0>)\n",
      "tensor(0.0115, grad_fn=<MulBackward0>)\n",
      "tensor(0.0118, grad_fn=<MulBackward0>)\n",
      "tensor(0.0154, grad_fn=<MulBackward0>)\n",
      "tensor(0.0209, grad_fn=<MulBackward0>)\n",
      "tensor(0.0408, grad_fn=<MulBackward0>)\n",
      "tensor(0.0569, grad_fn=<MulBackward0>)\n",
      "tensor(0.0367, grad_fn=<MulBackward0>)\n",
      "tensor(0.0165, grad_fn=<MulBackward0>)\n",
      "tensor(0.0324, grad_fn=<MulBackward0>)\n",
      "tensor(0.0147, grad_fn=<MulBackward0>)\n",
      "tensor(0.0312, grad_fn=<MulBackward0>)\n",
      "tensor(0.0152, grad_fn=<MulBackward0>)\n",
      "tensor(0.0244, grad_fn=<MulBackward0>)\n",
      "tensor(0.0152, grad_fn=<MulBackward0>)\n",
      "tensor(0.0252, grad_fn=<MulBackward0>)\n",
      "tensor(0.0158, grad_fn=<MulBackward0>)\n",
      "tensor(0.0206, grad_fn=<MulBackward0>)\n",
      "tensor(0.0151, grad_fn=<MulBackward0>)\n",
      "tensor(0.0215, grad_fn=<MulBackward0>)\n",
      "tensor(0.0154, grad_fn=<MulBackward0>)\n",
      "tensor(0.0179, grad_fn=<MulBackward0>)\n",
      "tensor(0.0147, grad_fn=<MulBackward0>)\n",
      "tensor(0.0184, grad_fn=<MulBackward0>)\n",
      "tensor(0.0151, grad_fn=<MulBackward0>)\n",
      "tensor(0.0159, grad_fn=<MulBackward0>)\n",
      "tensor(0.0141, grad_fn=<MulBackward0>)\n",
      "tensor(0.0164, grad_fn=<MulBackward0>)\n",
      "tensor(0.0139, grad_fn=<MulBackward0>)\n",
      "tensor(0.0146, grad_fn=<MulBackward0>)\n",
      "tensor(0.0128, grad_fn=<MulBackward0>)\n",
      "tensor(0.0150, grad_fn=<MulBackward0>)\n",
      "tensor(0.0123, grad_fn=<MulBackward0>)\n",
      "tensor(0.0131, grad_fn=<MulBackward0>)\n",
      "tensor(0.0130, grad_fn=<MulBackward0>)\n",
      "tensor(0.0125, grad_fn=<MulBackward0>)\n",
      "tensor(0.0127, grad_fn=<MulBackward0>)\n",
      "tensor(0.0118, grad_fn=<MulBackward0>)\n",
      "tensor(0.0128, grad_fn=<MulBackward0>)\n",
      "tensor(0.0119, grad_fn=<MulBackward0>)\n",
      "tensor(0.0114, grad_fn=<MulBackward0>)\n",
      "tensor(0.0125, grad_fn=<MulBackward0>)\n",
      "tensor(0.0114, grad_fn=<MulBackward0>)\n",
      "tensor(0.0111, grad_fn=<MulBackward0>)\n",
      "tensor(0.0120, grad_fn=<MulBackward0>)\n",
      "tensor(0.0114, grad_fn=<MulBackward0>)\n",
      "tensor(0.0111, grad_fn=<MulBackward0>)\n",
      "tensor(0.0112, grad_fn=<MulBackward0>)\n",
      "tensor(0.0113, grad_fn=<MulBackward0>)\n",
      "tensor(0.0119, grad_fn=<MulBackward0>)\n",
      "tensor(0.0111, grad_fn=<MulBackward0>)\n",
      "tensor(0.0113, grad_fn=<MulBackward0>)\n",
      "tensor(0.0108, grad_fn=<MulBackward0>)\n",
      "tensor(0.0109, grad_fn=<MulBackward0>)\n",
      "tensor(0.0106, grad_fn=<MulBackward0>)\n",
      "tensor(0.0110, grad_fn=<MulBackward0>)\n",
      "tensor(0.0109, grad_fn=<MulBackward0>)\n",
      "tensor(0.0132, grad_fn=<MulBackward0>)\n",
      "tensor(0.0190, grad_fn=<MulBackward0>)\n",
      "tensor(0.0458, grad_fn=<MulBackward0>)\n",
      "tensor(0.0901, grad_fn=<MulBackward0>)\n",
      "tensor(0.0725, grad_fn=<MulBackward0>)\n",
      "tensor(0.0177, grad_fn=<MulBackward0>)\n",
      "tensor(0.0458, grad_fn=<MulBackward0>)\n",
      "tensor(0.0185, grad_fn=<MulBackward0>)\n",
      "tensor(0.0346, grad_fn=<MulBackward0>)\n",
      "tensor(0.0306, grad_fn=<MulBackward0>)\n",
      "tensor(0.0184, grad_fn=<MulBackward0>)\n",
      "tensor(0.0290, grad_fn=<MulBackward0>)\n",
      "tensor(0.0177, grad_fn=<MulBackward0>)\n",
      "tensor(0.0274, grad_fn=<MulBackward0>)\n",
      "tensor(0.0241, grad_fn=<MulBackward0>)\n",
      "tensor(0.0183, grad_fn=<MulBackward0>)\n",
      "tensor(0.0236, grad_fn=<MulBackward0>)\n",
      "tensor(0.0175, grad_fn=<MulBackward0>)\n",
      "tensor(0.0251, grad_fn=<MulBackward0>)\n",
      "tensor(0.0183, grad_fn=<MulBackward0>)\n",
      "tensor(0.0179, grad_fn=<MulBackward0>)\n",
      "tensor(0.0182, grad_fn=<MulBackward0>)\n",
      "tensor(0.0169, grad_fn=<MulBackward0>)\n",
      "tensor(0.0189, grad_fn=<MulBackward0>)\n",
      "tensor(0.0169, grad_fn=<MulBackward0>)\n",
      "tensor(0.0161, grad_fn=<MulBackward0>)\n",
      "tensor(0.0160, grad_fn=<MulBackward0>)\n",
      "tensor(0.0151, grad_fn=<MulBackward0>)\n",
      "tensor(0.0162, grad_fn=<MulBackward0>)\n"
     ]
    },
    {
     "name": "stdout",
     "output_type": "stream",
     "text": [
      "tensor(0.0143, grad_fn=<MulBackward0>)\n",
      "tensor(0.0144, grad_fn=<MulBackward0>)\n",
      "tensor(0.0137, grad_fn=<MulBackward0>)\n",
      "tensor(0.0140, grad_fn=<MulBackward0>)\n",
      "tensor(0.0138, grad_fn=<MulBackward0>)\n",
      "tensor(0.0132, grad_fn=<MulBackward0>)\n",
      "tensor(0.0132, grad_fn=<MulBackward0>)\n",
      "tensor(0.0133, grad_fn=<MulBackward0>)\n",
      "tensor(0.0134, grad_fn=<MulBackward0>)\n",
      "tensor(0.0129, grad_fn=<MulBackward0>)\n",
      "tensor(0.0129, grad_fn=<MulBackward0>)\n",
      "tensor(0.0131, grad_fn=<MulBackward0>)\n",
      "tensor(0.0129, grad_fn=<MulBackward0>)\n",
      "tensor(0.0126, grad_fn=<MulBackward0>)\n",
      "tensor(0.0124, grad_fn=<MulBackward0>)\n",
      "tensor(0.0128, grad_fn=<MulBackward0>)\n",
      "tensor(0.0122, grad_fn=<MulBackward0>)\n",
      "tensor(0.0121, grad_fn=<MulBackward0>)\n",
      "tensor(0.0120, grad_fn=<MulBackward0>)\n",
      "tensor(0.0121, grad_fn=<MulBackward0>)\n",
      "tensor(0.0117, grad_fn=<MulBackward0>)\n",
      "tensor(0.0115, grad_fn=<MulBackward0>)\n",
      "tensor(0.0118, grad_fn=<MulBackward0>)\n",
      "tensor(0.0114, grad_fn=<MulBackward0>)\n",
      "tensor(0.0114, grad_fn=<MulBackward0>)\n",
      "tensor(0.0117, grad_fn=<MulBackward0>)\n",
      "tensor(0.0114, grad_fn=<MulBackward0>)\n",
      "tensor(0.0114, grad_fn=<MulBackward0>)\n",
      "tensor(0.0116, grad_fn=<MulBackward0>)\n",
      "tensor(0.0114, grad_fn=<MulBackward0>)\n",
      "tensor(0.0114, grad_fn=<MulBackward0>)\n",
      "tensor(0.0113, grad_fn=<MulBackward0>)\n",
      "tensor(0.0112, grad_fn=<MulBackward0>)\n",
      "tensor(0.0113, grad_fn=<MulBackward0>)\n",
      "tensor(0.0110, grad_fn=<MulBackward0>)\n",
      "tensor(0.0110, grad_fn=<MulBackward0>)\n",
      "tensor(0.0111, grad_fn=<MulBackward0>)\n",
      "tensor(0.0111, grad_fn=<MulBackward0>)\n",
      "tensor(0.0114, grad_fn=<MulBackward0>)\n",
      "tensor(0.0113, grad_fn=<MulBackward0>)\n",
      "tensor(0.0119, grad_fn=<MulBackward0>)\n",
      "tensor(0.0120, grad_fn=<MulBackward0>)\n",
      "tensor(0.0142, grad_fn=<MulBackward0>)\n",
      "tensor(0.0171, grad_fn=<MulBackward0>)\n",
      "tensor(0.0273, grad_fn=<MulBackward0>)\n",
      "tensor(0.0368, grad_fn=<MulBackward0>)\n",
      "tensor(0.0315, grad_fn=<MulBackward0>)\n",
      "tensor(0.0127, grad_fn=<MulBackward0>)\n",
      "tensor(0.0204, grad_fn=<MulBackward0>)\n",
      "tensor(0.0197, grad_fn=<MulBackward0>)\n",
      "tensor(0.0159, grad_fn=<MulBackward0>)\n",
      "tensor(0.0200, grad_fn=<MulBackward0>)\n",
      "tensor(0.0142, grad_fn=<MulBackward0>)\n",
      "tensor(0.0204, grad_fn=<MulBackward0>)\n",
      "tensor(0.0160, grad_fn=<MulBackward0>)\n",
      "tensor(0.0143, grad_fn=<MulBackward0>)\n",
      "tensor(0.0196, grad_fn=<MulBackward0>)\n",
      "tensor(0.0140, grad_fn=<MulBackward0>)\n",
      "acc train:  0.7639751434326172\n",
      "acc test:  0.7209302186965942\n"
     ]
    }
   ],
   "source": [
    "\n",
    "model_after = nn.Sequential(nn.Linear(X_tr.shape[1],128), \n",
    "            nn.ReLU(),\n",
    "            nn.BatchNorm1d(128),\n",
    "            nn.Linear(128, 64),\n",
    "            nn.ReLU(),\n",
    "            nn.BatchNorm1d(64),\n",
    "            nn.Linear(64, 1),)\n",
    "\n",
    "dp_loss = EqualiedOddsLoss(sensitive_classes=[0, 1], alpha=50, y = y_tr)\n",
    "optimizer = optim.Adam(model_after.parameters())\n",
    "\n",
    "\n",
    "\n",
    "for param in model_after.parameters():\n",
    "    nn.init.normal_(param, 0, 1e-2)\n",
    "    model_after.train()\n",
    "\n",
    "for i in range(0, 500):\n",
    "    optimizer.zero_grad()    \n",
    "    logit = model_after(X_tr)\n",
    "    loss = criterion(logit.view(-1), y_tr)\n",
    "    print(dp_loss(X_tr, logit, sensi_train))\n",
    "    loss +=  dp_loss(X_tr, logit, sensi_train)\n",
    "    loss.backward()\n",
    "    optimizer.step()\n",
    "\n",
    "\n",
    "acc_train = ((torch.sigmoid(model_after(X_tr)).view(-1) > 0.5 ).float()  == y_tr ).float().mean().float().item()\n",
    "acc_test = ((torch.sigmoid(model_after(X_te)).view(-1) > 0.5 ).float()  == y_te ).float().mean().float().item()\n",
    "\n",
    "print(\"acc train: \", acc_train)\n",
    "print(\"acc test: \",acc_test)\n",
    "acc_test_dp = acc_test"
   ]
  },
  {
   "cell_type": "code",
   "execution_count": 35,
   "metadata": {
    "pycharm": {
     "is_executing": true
    }
   },
   "outputs": [
    {
     "name": "stdout",
     "output_type": "stream",
     "text": [
      "Preparation of a new explainer is initiated\n",
      "\n",
      "  -> data              : numpy.ndarray converted to pandas.DataFrame. Columns are set as string numbers.\n",
      "  -> data              : 430 rows 3 cols\n",
      "  -> target variable   : 430 values\n",
      "  -> model_class       : torch.nn.modules.container.Sequential (default)\n",
      "  -> label             : torch_after\n",
      "  -> predict function  : <function predict_torch at 0x7fae01c7d2f0> will be used\n",
      "  -> predict function  : Accepts only pandas.DataFrame, numpy.ndarray causes problems.\n",
      "  -> predicted values  : min = 5.5e-05, mean = 0.35, max = 0.985\n",
      "  -> model type        : classification will be used\n",
      "  -> residual function : difference between y and yhat (default)\n",
      "  -> residuals         : min = -0.859, mean = -0.0364, max = 0.937\n",
      "  -> model_info        : package torch\n",
      "\n",
      "A new explainer has been created!\n"
     ]
    }
   ],
   "source": [
    "exp_net2 = dx.Explainer(model_after,\n",
    "                        X_test_std,\n",
    "                        np.array(y_test),\n",
    "                        predict_function=predict_torch,\n",
    "                        model_type='classification', \n",
    "                        label = 'torch_after')"
   ]
  },
  {
   "cell_type": "code",
   "execution_count": 36,
   "metadata": {
    "pycharm": {
     "is_executing": true
    }
   },
   "outputs": [
    {
     "data": {
      "text/html": [
       "<div>\n",
       "<style scoped>\n",
       "    .dataframe tbody tr th:only-of-type {\n",
       "        vertical-align: middle;\n",
       "    }\n",
       "\n",
       "    .dataframe tbody tr th {\n",
       "        vertical-align: top;\n",
       "    }\n",
       "\n",
       "    .dataframe thead th {\n",
       "        text-align: right;\n",
       "    }\n",
       "</style>\n",
       "<table border=\"1\" class=\"dataframe\">\n",
       "  <thead>\n",
       "    <tr style=\"text-align: right;\">\n",
       "      <th></th>\n",
       "      <th>recall</th>\n",
       "      <th>precision</th>\n",
       "      <th>f1</th>\n",
       "      <th>accuracy</th>\n",
       "      <th>auc</th>\n",
       "    </tr>\n",
       "  </thead>\n",
       "  <tbody>\n",
       "    <tr>\n",
       "      <th>torch_after</th>\n",
       "      <td>0.525926</td>\n",
       "      <td>0.559055</td>\n",
       "      <td>0.541985</td>\n",
       "      <td>0.72093</td>\n",
       "      <td>0.737954</td>\n",
       "    </tr>\n",
       "  </tbody>\n",
       "</table>\n",
       "</div>"
      ],
      "text/plain": [
       "               recall  precision        f1  accuracy       auc\n",
       "torch_after  0.525926   0.559055  0.541985   0.72093  0.737954"
      ]
     },
     "execution_count": 36,
     "metadata": {},
     "output_type": "execute_result"
    }
   ],
   "source": [
    "exp_net2.model_performance().result"
   ]
  },
  {
   "cell_type": "code",
   "execution_count": 37,
   "metadata": {
    "pycharm": {
     "is_executing": true
    }
   },
   "outputs": [
    {
     "data": {
      "application/vnd.plotly.v1+json": {
       "config": {
        "displaylogo": false,
        "modeBarButtonsToRemove": [
         "sendDataToCloud",
         "lasso2d",
         "autoScale2d",
         "select2d",
         "zoom2d",
         "pan2d",
         "zoomIn2d",
         "zoomOut2d",
         "resetScale2d",
         "toggleSpikelines",
         "hoverCompareCartesian",
         "hoverClosestCartesian"
        ],
        "plotlyServerURL": "https://plot.ly",
        "staticPlot": false,
        "toImageButtonOptions": {
         "height": null,
         "width": null
        }
       },
       "data": [
        {
         "alignmentgroup": "True",
         "customdata": [
          [
           "other",
           0.774,
           "torch_after"
          ]
         ],
         "hovertemplate": "<b>%{customdata[2]}</b><br>Subgroup: %{customdata[0]}<br>Score: %{customdata[1]}<br><extra></extra>",
         "legendgroup": "torch_after",
         "marker": {
          "color": "#8bdcbe"
         },
         "name": "torch_after",
         "offsetgroup": "torch_after",
         "orientation": "h",
         "showlegend": true,
         "textposition": "auto",
         "type": "bar",
         "x": [
          -0.22560000000000002
         ],
         "xaxis": "x5",
         "y": [
          0.5
         ],
         "yaxis": "y5"
        },
        {
         "alignmentgroup": "True",
         "customdata": [
          [
           "other",
           0.497,
           "torch_after"
          ]
         ],
         "hovertemplate": "<b>%{customdata[2]}</b><br>Subgroup: %{customdata[0]}<br>Score: %{customdata[1]}<br><extra></extra>",
         "legendgroup": "torch_after",
         "marker": {
          "color": "#8bdcbe"
         },
         "name": "torch_after",
         "offsetgroup": "torch_after",
         "orientation": "h",
         "showlegend": false,
         "textposition": "auto",
         "type": "bar",
         "x": [
          -0.5032397408207343
         ],
         "xaxis": "x4",
         "y": [
          0.5
         ],
         "yaxis": "y4"
        },
        {
         "alignmentgroup": "True",
         "customdata": [
          [
           "other",
           5.047,
           "torch_after"
          ]
         ],
         "hovertemplate": "<b>%{customdata[2]}</b><br>Subgroup: %{customdata[0]}<br>Score: %{customdata[1]}<br><extra></extra>",
         "legendgroup": "torch_after",
         "marker": {
          "color": "#8bdcbe"
         },
         "name": "torch_after",
         "offsetgroup": "torch_after",
         "orientation": "h",
         "showlegend": false,
         "textposition": "auto",
         "type": "bar",
         "x": [
          4.046511627906977
         ],
         "xaxis": "x3",
         "y": [
          0.5
         ],
         "yaxis": "y3"
        },
        {
         "alignmentgroup": "True",
         "customdata": [
          [
           "other",
           0.874,
           "torch_after"
          ]
         ],
         "hovertemplate": "<b>%{customdata[2]}</b><br>Subgroup: %{customdata[0]}<br>Score: %{customdata[1]}<br><extra></extra>",
         "legendgroup": "torch_after",
         "marker": {
          "color": "#8bdcbe"
         },
         "name": "torch_after",
         "offsetgroup": "torch_after",
         "orientation": "h",
         "showlegend": false,
         "textposition": "auto",
         "type": "bar",
         "x": [
          -0.1259351620947632
         ],
         "xaxis": "x2",
         "y": [
          0.5
         ],
         "yaxis": "y2"
        },
        {
         "alignmentgroup": "True",
         "customdata": [
          [
           "other",
           0.927,
           "torch_after"
          ]
         ],
         "hovertemplate": "<b>%{customdata[2]}</b><br>Subgroup: %{customdata[0]}<br>Score: %{customdata[1]}<br><extra></extra>",
         "legendgroup": "torch_after",
         "marker": {
          "color": "#8bdcbe"
         },
         "name": "torch_after",
         "offsetgroup": "torch_after",
         "orientation": "h",
         "showlegend": false,
         "textposition": "auto",
         "type": "bar",
         "x": [
          -0.0732484076433122
         ],
         "xaxis": "x",
         "y": [
          0.5
         ],
         "yaxis": "y"
        },
        {
         "alignmentgroup": "True",
         "customdata": [
          [
           "other",
           0.808,
           "torch_before"
          ]
         ],
         "hovertemplate": "<b>%{customdata[2]}</b><br>Subgroup: %{customdata[0]}<br>Score: %{customdata[1]}<br><extra></extra>",
         "legendgroup": "torch_before",
         "marker": {
          "color": "#4378bf"
         },
         "name": "torch_before",
         "offsetgroup": "torch_before",
         "orientation": "h",
         "showlegend": true,
         "textposition": "auto",
         "type": "bar",
         "x": [
          -0.19199999999999995
         ],
         "xaxis": "x5",
         "y": [
          0.5
         ],
         "yaxis": "y5"
        },
        {
         "alignmentgroup": "True",
         "customdata": [
          [
           "other",
           0.44,
           "torch_before"
          ]
         ],
         "hovertemplate": "<b>%{customdata[2]}</b><br>Subgroup: %{customdata[0]}<br>Score: %{customdata[1]}<br><extra></extra>",
         "legendgroup": "torch_before",
         "marker": {
          "color": "#4378bf"
         },
         "name": "torch_before",
         "offsetgroup": "torch_before",
         "orientation": "h",
         "showlegend": false,
         "textposition": "auto",
         "type": "bar",
         "x": [
          -0.5604751619870412
         ],
         "xaxis": "x4",
         "y": [
          0.5
         ],
         "yaxis": "y4"
        },
        {
         "alignmentgroup": "True",
         "customdata": [
          [
           "other",
           6.535,
           "torch_before"
          ]
         ],
         "hovertemplate": "<b>%{customdata[2]}</b><br>Subgroup: %{customdata[0]}<br>Score: %{customdata[1]}<br><extra></extra>",
         "legendgroup": "torch_before",
         "marker": {
          "color": "#4378bf"
         },
         "name": "torch_before",
         "offsetgroup": "torch_before",
         "orientation": "h",
         "showlegend": false,
         "textposition": "auto",
         "type": "bar",
         "x": [
          5.5348837209302335
         ],
         "xaxis": "x3",
         "y": [
          0.5
         ],
         "yaxis": "y3"
        },
        {
         "alignmentgroup": "True",
         "customdata": [
          [
           "other",
           0.823,
           "torch_before"
          ]
         ],
         "hovertemplate": "<b>%{customdata[2]}</b><br>Subgroup: %{customdata[0]}<br>Score: %{customdata[1]}<br><extra></extra>",
         "legendgroup": "torch_before",
         "marker": {
          "color": "#4378bf"
         },
         "name": "torch_before",
         "offsetgroup": "torch_before",
         "orientation": "h",
         "showlegend": false,
         "textposition": "auto",
         "type": "bar",
         "x": [
          -0.17705735660847877
         ],
         "xaxis": "x2",
         "y": [
          0.5
         ],
         "yaxis": "y2"
        },
        {
         "alignmentgroup": "True",
         "customdata": [
          [
           "other",
           1.092,
           "torch_before"
          ]
         ],
         "hovertemplate": "<b>%{customdata[2]}</b><br>Subgroup: %{customdata[0]}<br>Score: %{customdata[1]}<br><extra></extra>",
         "legendgroup": "torch_before",
         "marker": {
          "color": "#4378bf"
         },
         "name": "torch_before",
         "offsetgroup": "torch_before",
         "orientation": "h",
         "showlegend": false,
         "textposition": "auto",
         "type": "bar",
         "x": [
          0.09235668789808926
         ],
         "xaxis": "x",
         "y": [
          0.5
         ],
         "yaxis": "y"
        }
       ],
       "layout": {
        "annotations": [
         {
          "font": {
           "size": 15
          },
          "showarrow": false,
          "text": "Statistical parity ratio   (TP + FP)/(TP + FP + TN + FN)",
          "x": 0.05,
          "xanchor": "left",
          "xref": "paper",
          "y": 0.144,
          "yanchor": "bottom",
          "yref": "paper"
         },
         {
          "font": {
           "size": 15
          },
          "showarrow": false,
          "text": "Accuracy equality ratio    (TP + TN)/(TP + FP + TN + FN)",
          "x": 0.05,
          "xanchor": "left",
          "xref": "paper",
          "y": 0.358,
          "yanchor": "bottom",
          "yref": "paper"
         },
         {
          "font": {
           "size": 15
          },
          "showarrow": false,
          "text": "Predictive equality ratio   FP/(FP + TN)",
          "x": 0.05,
          "xanchor": "left",
          "xref": "paper",
          "y": 0.572,
          "yanchor": "bottom",
          "yref": "paper"
         },
         {
          "font": {
           "size": 15
          },
          "showarrow": false,
          "text": "Predictive parity ratio     TP/(TP + FP)",
          "x": 0.05,
          "xanchor": "left",
          "xref": "paper",
          "y": 0.7859999999999999,
          "yanchor": "bottom",
          "yref": "paper"
         },
         {
          "font": {
           "size": 15
          },
          "showarrow": false,
          "text": "Equal opportunity ratio     TP/(TP + FN)",
          "x": 0.05,
          "xanchor": "left",
          "xref": "paper",
          "y": 1,
          "yanchor": "bottom",
          "yref": "paper"
         }
        ],
        "barmode": "group",
        "font": {
         "color": "#371ea3"
        },
        "legend": {
         "title": {
          "text": "label"
         },
         "tracegroupgap": 0
        },
        "margin": {
         "b": 71,
         "r": 30,
         "t": 78
        },
        "shapes": [
         {
          "fillcolor": "#f05a71",
          "layer": "below",
          "line": {
           "width": 0
          },
          "opacity": 0.1,
          "type": "rect",
          "x0": 0.25,
          "x1": 5.8,
          "xref": "x",
          "y0": 0,
          "y1": 1,
          "yref": "y"
         },
         {
          "fillcolor": "#f05a71",
          "layer": "below",
          "line": {
           "width": 0
          },
          "opacity": 0.1,
          "type": "rect",
          "x0": -0.6165226781857454,
          "x1": -0.19999999999999996,
          "xref": "x",
          "y0": 0,
          "y1": 1,
          "yref": "y"
         },
         {
          "fillcolor": "#c7f5bf",
          "layer": "below",
          "line": {
           "width": 0
          },
          "opacity": 0.1,
          "type": "rect",
          "x0": -0.19999999999999996,
          "x1": 0.25,
          "xref": "x",
          "y0": 0,
          "y1": 1,
          "yref": "y"
         },
         {
          "line": {
           "color": "#371ea3",
           "width": 1.5
          },
          "type": "line",
          "x0": 0,
          "x1": 0,
          "xref": "x",
          "y0": 0,
          "y1": 1,
          "yref": "y"
         },
         {
          "fillcolor": "#f05a71",
          "layer": "below",
          "line": {
           "width": 0
          },
          "opacity": 0.1,
          "type": "rect",
          "x0": 0.25,
          "x1": 5.8,
          "xref": "x",
          "y0": 0,
          "y1": 1,
          "yref": "y2"
         },
         {
          "fillcolor": "#f05a71",
          "layer": "below",
          "line": {
           "width": 0
          },
          "opacity": 0.1,
          "type": "rect",
          "x0": -0.6165226781857454,
          "x1": -0.19999999999999996,
          "xref": "x",
          "y0": 0,
          "y1": 1,
          "yref": "y2"
         },
         {
          "fillcolor": "#c7f5bf",
          "layer": "below",
          "line": {
           "width": 0
          },
          "opacity": 0.1,
          "type": "rect",
          "x0": -0.19999999999999996,
          "x1": 0.25,
          "xref": "x",
          "y0": 0,
          "y1": 1,
          "yref": "y2"
         },
         {
          "line": {
           "color": "#371ea3",
           "width": 1.5
          },
          "type": "line",
          "x0": 0,
          "x1": 0,
          "xref": "x",
          "y0": 0,
          "y1": 1,
          "yref": "y2"
         },
         {
          "fillcolor": "#f05a71",
          "layer": "below",
          "line": {
           "width": 0
          },
          "opacity": 0.1,
          "type": "rect",
          "x0": 0.25,
          "x1": 5.8,
          "xref": "x",
          "y0": 0,
          "y1": 1,
          "yref": "y3"
         },
         {
          "fillcolor": "#f05a71",
          "layer": "below",
          "line": {
           "width": 0
          },
          "opacity": 0.1,
          "type": "rect",
          "x0": -0.6165226781857454,
          "x1": -0.19999999999999996,
          "xref": "x",
          "y0": 0,
          "y1": 1,
          "yref": "y3"
         },
         {
          "fillcolor": "#c7f5bf",
          "layer": "below",
          "line": {
           "width": 0
          },
          "opacity": 0.1,
          "type": "rect",
          "x0": -0.19999999999999996,
          "x1": 0.25,
          "xref": "x",
          "y0": 0,
          "y1": 1,
          "yref": "y3"
         },
         {
          "line": {
           "color": "#371ea3",
           "width": 1.5
          },
          "type": "line",
          "x0": 0,
          "x1": 0,
          "xref": "x",
          "y0": 0,
          "y1": 1,
          "yref": "y3"
         },
         {
          "fillcolor": "#f05a71",
          "layer": "below",
          "line": {
           "width": 0
          },
          "opacity": 0.1,
          "type": "rect",
          "x0": 0.25,
          "x1": 5.8,
          "xref": "x",
          "y0": 0,
          "y1": 1,
          "yref": "y4"
         },
         {
          "fillcolor": "#f05a71",
          "layer": "below",
          "line": {
           "width": 0
          },
          "opacity": 0.1,
          "type": "rect",
          "x0": -0.6165226781857454,
          "x1": -0.19999999999999996,
          "xref": "x",
          "y0": 0,
          "y1": 1,
          "yref": "y4"
         },
         {
          "fillcolor": "#c7f5bf",
          "layer": "below",
          "line": {
           "width": 0
          },
          "opacity": 0.1,
          "type": "rect",
          "x0": -0.19999999999999996,
          "x1": 0.25,
          "xref": "x",
          "y0": 0,
          "y1": 1,
          "yref": "y4"
         },
         {
          "line": {
           "color": "#371ea3",
           "width": 1.5
          },
          "type": "line",
          "x0": 0,
          "x1": 0,
          "xref": "x",
          "y0": 0,
          "y1": 1,
          "yref": "y4"
         },
         {
          "fillcolor": "#f05a71",
          "layer": "below",
          "line": {
           "width": 0
          },
          "opacity": 0.1,
          "type": "rect",
          "x0": 0.25,
          "x1": 5.8,
          "xref": "x",
          "y0": 0,
          "y1": 1,
          "yref": "y5"
         },
         {
          "fillcolor": "#f05a71",
          "layer": "below",
          "line": {
           "width": 0
          },
          "opacity": 0.1,
          "type": "rect",
          "x0": -0.6165226781857454,
          "x1": -0.19999999999999996,
          "xref": "x",
          "y0": 0,
          "y1": 1,
          "yref": "y5"
         },
         {
          "fillcolor": "#c7f5bf",
          "layer": "below",
          "line": {
           "width": 0
          },
          "opacity": 0.1,
          "type": "rect",
          "x0": -0.19999999999999996,
          "x1": 0.25,
          "xref": "x",
          "y0": 0,
          "y1": 1,
          "yref": "y5"
         },
         {
          "line": {
           "color": "#371ea3",
           "width": 1.5
          },
          "type": "line",
          "x0": 0,
          "x1": 0,
          "xref": "x",
          "y0": 0,
          "y1": 1,
          "yref": "y5"
         }
        ],
        "template": {
         "data": {
          "bar": [
           {
            "error_x": {
             "color": "#2a3f5f"
            },
            "error_y": {
             "color": "#2a3f5f"
            },
            "marker": {
             "line": {
              "color": "white",
              "width": 0.5
             }
            },
            "type": "bar"
           }
          ],
          "barpolar": [
           {
            "marker": {
             "line": {
              "color": "white",
              "width": 0.5
             }
            },
            "type": "barpolar"
           }
          ],
          "carpet": [
           {
            "aaxis": {
             "endlinecolor": "#2a3f5f",
             "gridcolor": "#C8D4E3",
             "linecolor": "#C8D4E3",
             "minorgridcolor": "#C8D4E3",
             "startlinecolor": "#2a3f5f"
            },
            "baxis": {
             "endlinecolor": "#2a3f5f",
             "gridcolor": "#C8D4E3",
             "linecolor": "#C8D4E3",
             "minorgridcolor": "#C8D4E3",
             "startlinecolor": "#2a3f5f"
            },
            "type": "carpet"
           }
          ],
          "choropleth": [
           {
            "colorbar": {
             "outlinewidth": 0,
             "ticks": ""
            },
            "type": "choropleth"
           }
          ],
          "contour": [
           {
            "colorbar": {
             "outlinewidth": 0,
             "ticks": ""
            },
            "colorscale": [
             [
              0,
              "#0d0887"
             ],
             [
              0.1111111111111111,
              "#46039f"
             ],
             [
              0.2222222222222222,
              "#7201a8"
             ],
             [
              0.3333333333333333,
              "#9c179e"
             ],
             [
              0.4444444444444444,
              "#bd3786"
             ],
             [
              0.5555555555555556,
              "#d8576b"
             ],
             [
              0.6666666666666666,
              "#ed7953"
             ],
             [
              0.7777777777777778,
              "#fb9f3a"
             ],
             [
              0.8888888888888888,
              "#fdca26"
             ],
             [
              1,
              "#f0f921"
             ]
            ],
            "type": "contour"
           }
          ],
          "contourcarpet": [
           {
            "colorbar": {
             "outlinewidth": 0,
             "ticks": ""
            },
            "type": "contourcarpet"
           }
          ],
          "heatmap": [
           {
            "colorbar": {
             "outlinewidth": 0,
             "ticks": ""
            },
            "colorscale": [
             [
              0,
              "#0d0887"
             ],
             [
              0.1111111111111111,
              "#46039f"
             ],
             [
              0.2222222222222222,
              "#7201a8"
             ],
             [
              0.3333333333333333,
              "#9c179e"
             ],
             [
              0.4444444444444444,
              "#bd3786"
             ],
             [
              0.5555555555555556,
              "#d8576b"
             ],
             [
              0.6666666666666666,
              "#ed7953"
             ],
             [
              0.7777777777777778,
              "#fb9f3a"
             ],
             [
              0.8888888888888888,
              "#fdca26"
             ],
             [
              1,
              "#f0f921"
             ]
            ],
            "type": "heatmap"
           }
          ],
          "heatmapgl": [
           {
            "colorbar": {
             "outlinewidth": 0,
             "ticks": ""
            },
            "colorscale": [
             [
              0,
              "#0d0887"
             ],
             [
              0.1111111111111111,
              "#46039f"
             ],
             [
              0.2222222222222222,
              "#7201a8"
             ],
             [
              0.3333333333333333,
              "#9c179e"
             ],
             [
              0.4444444444444444,
              "#bd3786"
             ],
             [
              0.5555555555555556,
              "#d8576b"
             ],
             [
              0.6666666666666666,
              "#ed7953"
             ],
             [
              0.7777777777777778,
              "#fb9f3a"
             ],
             [
              0.8888888888888888,
              "#fdca26"
             ],
             [
              1,
              "#f0f921"
             ]
            ],
            "type": "heatmapgl"
           }
          ],
          "histogram": [
           {
            "marker": {
             "colorbar": {
              "outlinewidth": 0,
              "ticks": ""
             }
            },
            "type": "histogram"
           }
          ],
          "histogram2d": [
           {
            "colorbar": {
             "outlinewidth": 0,
             "ticks": ""
            },
            "colorscale": [
             [
              0,
              "#0d0887"
             ],
             [
              0.1111111111111111,
              "#46039f"
             ],
             [
              0.2222222222222222,
              "#7201a8"
             ],
             [
              0.3333333333333333,
              "#9c179e"
             ],
             [
              0.4444444444444444,
              "#bd3786"
             ],
             [
              0.5555555555555556,
              "#d8576b"
             ],
             [
              0.6666666666666666,
              "#ed7953"
             ],
             [
              0.7777777777777778,
              "#fb9f3a"
             ],
             [
              0.8888888888888888,
              "#fdca26"
             ],
             [
              1,
              "#f0f921"
             ]
            ],
            "type": "histogram2d"
           }
          ],
          "histogram2dcontour": [
           {
            "colorbar": {
             "outlinewidth": 0,
             "ticks": ""
            },
            "colorscale": [
             [
              0,
              "#0d0887"
             ],
             [
              0.1111111111111111,
              "#46039f"
             ],
             [
              0.2222222222222222,
              "#7201a8"
             ],
             [
              0.3333333333333333,
              "#9c179e"
             ],
             [
              0.4444444444444444,
              "#bd3786"
             ],
             [
              0.5555555555555556,
              "#d8576b"
             ],
             [
              0.6666666666666666,
              "#ed7953"
             ],
             [
              0.7777777777777778,
              "#fb9f3a"
             ],
             [
              0.8888888888888888,
              "#fdca26"
             ],
             [
              1,
              "#f0f921"
             ]
            ],
            "type": "histogram2dcontour"
           }
          ],
          "mesh3d": [
           {
            "colorbar": {
             "outlinewidth": 0,
             "ticks": ""
            },
            "type": "mesh3d"
           }
          ],
          "parcoords": [
           {
            "line": {
             "colorbar": {
              "outlinewidth": 0,
              "ticks": ""
             }
            },
            "type": "parcoords"
           }
          ],
          "pie": [
           {
            "automargin": true,
            "type": "pie"
           }
          ],
          "scatter": [
           {
            "marker": {
             "colorbar": {
              "outlinewidth": 0,
              "ticks": ""
             }
            },
            "type": "scatter"
           }
          ],
          "scatter3d": [
           {
            "line": {
             "colorbar": {
              "outlinewidth": 0,
              "ticks": ""
             }
            },
            "marker": {
             "colorbar": {
              "outlinewidth": 0,
              "ticks": ""
             }
            },
            "type": "scatter3d"
           }
          ],
          "scattercarpet": [
           {
            "marker": {
             "colorbar": {
              "outlinewidth": 0,
              "ticks": ""
             }
            },
            "type": "scattercarpet"
           }
          ],
          "scattergeo": [
           {
            "marker": {
             "colorbar": {
              "outlinewidth": 0,
              "ticks": ""
             }
            },
            "type": "scattergeo"
           }
          ],
          "scattergl": [
           {
            "marker": {
             "colorbar": {
              "outlinewidth": 0,
              "ticks": ""
             }
            },
            "type": "scattergl"
           }
          ],
          "scattermapbox": [
           {
            "marker": {
             "colorbar": {
              "outlinewidth": 0,
              "ticks": ""
             }
            },
            "type": "scattermapbox"
           }
          ],
          "scatterpolar": [
           {
            "marker": {
             "colorbar": {
              "outlinewidth": 0,
              "ticks": ""
             }
            },
            "type": "scatterpolar"
           }
          ],
          "scatterpolargl": [
           {
            "marker": {
             "colorbar": {
              "outlinewidth": 0,
              "ticks": ""
             }
            },
            "type": "scatterpolargl"
           }
          ],
          "scatterternary": [
           {
            "marker": {
             "colorbar": {
              "outlinewidth": 0,
              "ticks": ""
             }
            },
            "type": "scatterternary"
           }
          ],
          "surface": [
           {
            "colorbar": {
             "outlinewidth": 0,
             "ticks": ""
            },
            "colorscale": [
             [
              0,
              "#0d0887"
             ],
             [
              0.1111111111111111,
              "#46039f"
             ],
             [
              0.2222222222222222,
              "#7201a8"
             ],
             [
              0.3333333333333333,
              "#9c179e"
             ],
             [
              0.4444444444444444,
              "#bd3786"
             ],
             [
              0.5555555555555556,
              "#d8576b"
             ],
             [
              0.6666666666666666,
              "#ed7953"
             ],
             [
              0.7777777777777778,
              "#fb9f3a"
             ],
             [
              0.8888888888888888,
              "#fdca26"
             ],
             [
              1,
              "#f0f921"
             ]
            ],
            "type": "surface"
           }
          ],
          "table": [
           {
            "cells": {
             "fill": {
              "color": "#EBF0F8"
             },
             "line": {
              "color": "white"
             }
            },
            "header": {
             "fill": {
              "color": "#C8D4E3"
             },
             "line": {
              "color": "white"
             }
            },
            "type": "table"
           }
          ]
         },
         "layout": {
          "annotationdefaults": {
           "arrowcolor": "#2a3f5f",
           "arrowhead": 0,
           "arrowwidth": 1
          },
          "autotypenumbers": "strict",
          "coloraxis": {
           "colorbar": {
            "outlinewidth": 0,
            "ticks": ""
           }
          },
          "colorscale": {
           "diverging": [
            [
             0,
             "#8e0152"
            ],
            [
             0.1,
             "#c51b7d"
            ],
            [
             0.2,
             "#de77ae"
            ],
            [
             0.3,
             "#f1b6da"
            ],
            [
             0.4,
             "#fde0ef"
            ],
            [
             0.5,
             "#f7f7f7"
            ],
            [
             0.6,
             "#e6f5d0"
            ],
            [
             0.7,
             "#b8e186"
            ],
            [
             0.8,
             "#7fbc41"
            ],
            [
             0.9,
             "#4d9221"
            ],
            [
             1,
             "#276419"
            ]
           ],
           "sequential": [
            [
             0,
             "#0d0887"
            ],
            [
             0.1111111111111111,
             "#46039f"
            ],
            [
             0.2222222222222222,
             "#7201a8"
            ],
            [
             0.3333333333333333,
             "#9c179e"
            ],
            [
             0.4444444444444444,
             "#bd3786"
            ],
            [
             0.5555555555555556,
             "#d8576b"
            ],
            [
             0.6666666666666666,
             "#ed7953"
            ],
            [
             0.7777777777777778,
             "#fb9f3a"
            ],
            [
             0.8888888888888888,
             "#fdca26"
            ],
            [
             1,
             "#f0f921"
            ]
           ],
           "sequentialminus": [
            [
             0,
             "#0d0887"
            ],
            [
             0.1111111111111111,
             "#46039f"
            ],
            [
             0.2222222222222222,
             "#7201a8"
            ],
            [
             0.3333333333333333,
             "#9c179e"
            ],
            [
             0.4444444444444444,
             "#bd3786"
            ],
            [
             0.5555555555555556,
             "#d8576b"
            ],
            [
             0.6666666666666666,
             "#ed7953"
            ],
            [
             0.7777777777777778,
             "#fb9f3a"
            ],
            [
             0.8888888888888888,
             "#fdca26"
            ],
            [
             1,
             "#f0f921"
            ]
           ]
          },
          "colorway": [
           "#636efa",
           "#EF553B",
           "#00cc96",
           "#ab63fa",
           "#FFA15A",
           "#19d3f3",
           "#FF6692",
           "#B6E880",
           "#FF97FF",
           "#FECB52"
          ],
          "font": {
           "color": "#2a3f5f"
          },
          "geo": {
           "bgcolor": "white",
           "lakecolor": "white",
           "landcolor": "white",
           "showlakes": true,
           "showland": true,
           "subunitcolor": "#C8D4E3"
          },
          "hoverlabel": {
           "align": "left"
          },
          "hovermode": "closest",
          "mapbox": {
           "style": "light"
          },
          "paper_bgcolor": "white",
          "plot_bgcolor": "white",
          "polar": {
           "angularaxis": {
            "gridcolor": "#EBF0F8",
            "linecolor": "#EBF0F8",
            "ticks": ""
           },
           "bgcolor": "white",
           "radialaxis": {
            "gridcolor": "#EBF0F8",
            "linecolor": "#EBF0F8",
            "ticks": ""
           }
          },
          "scene": {
           "xaxis": {
            "backgroundcolor": "white",
            "gridcolor": "#DFE8F3",
            "gridwidth": 2,
            "linecolor": "#EBF0F8",
            "showbackground": true,
            "ticks": "",
            "zerolinecolor": "#EBF0F8"
           },
           "yaxis": {
            "backgroundcolor": "white",
            "gridcolor": "#DFE8F3",
            "gridwidth": 2,
            "linecolor": "#EBF0F8",
            "showbackground": true,
            "ticks": "",
            "zerolinecolor": "#EBF0F8"
           },
           "zaxis": {
            "backgroundcolor": "white",
            "gridcolor": "#DFE8F3",
            "gridwidth": 2,
            "linecolor": "#EBF0F8",
            "showbackground": true,
            "ticks": "",
            "zerolinecolor": "#EBF0F8"
           }
          },
          "shapedefaults": {
           "line": {
            "color": "#2a3f5f"
           }
          },
          "ternary": {
           "aaxis": {
            "gridcolor": "#DFE8F3",
            "linecolor": "#A2B1C6",
            "ticks": ""
           },
           "baxis": {
            "gridcolor": "#DFE8F3",
            "linecolor": "#A2B1C6",
            "ticks": ""
           },
           "bgcolor": "white",
           "caxis": {
            "gridcolor": "#DFE8F3",
            "linecolor": "#A2B1C6",
            "ticks": ""
           }
          },
          "title": {
           "x": 0.05
          },
          "xaxis": {
           "automargin": true,
           "gridcolor": "#EBF0F8",
           "linecolor": "#EBF0F8",
           "ticks": "",
           "title": {
            "standoff": 15
           },
           "zerolinecolor": "#EBF0F8",
           "zerolinewidth": 2
          },
          "yaxis": {
           "automargin": true,
           "gridcolor": "#EBF0F8",
           "linecolor": "#EBF0F8",
           "ticks": "",
           "title": {
            "standoff": 15
           },
           "zerolinecolor": "#EBF0F8",
           "zerolinewidth": 2
          }
         }
        },
        "title": {
         "font": {
          "size": 25
         },
         "text": "Fairness Check",
         "x": 0.5,
         "y": 0.99
        },
        "xaxis": {
         "anchor": "y",
         "domain": [
          0,
          1
         ],
         "range": [
          -0.6165226781857454,
          5.8
         ],
         "ticktext": [
          0,
          1,
          2,
          3,
          4,
          5,
          6,
          1
         ],
         "tickvals": [
          -1,
          0,
          1,
          2,
          3,
          4,
          5,
          0
         ],
         "title": {
          "text": "score"
         }
        },
        "xaxis2": {
         "anchor": "y2",
         "domain": [
          0,
          1
         ],
         "matches": "x",
         "range": [
          -0.6165226781857454,
          5.8
         ],
         "showticklabels": false,
         "ticktext": [
          0,
          1,
          2,
          3,
          4,
          5,
          6,
          1
         ],
         "tickvals": [
          -1,
          0,
          1,
          2,
          3,
          4,
          5,
          0
         ]
        },
        "xaxis3": {
         "anchor": "y3",
         "domain": [
          0,
          1
         ],
         "matches": "x",
         "range": [
          -0.6165226781857454,
          5.8
         ],
         "showticklabels": false,
         "ticktext": [
          0,
          1,
          2,
          3,
          4,
          5,
          6,
          1
         ],
         "tickvals": [
          -1,
          0,
          1,
          2,
          3,
          4,
          5,
          0
         ]
        },
        "xaxis4": {
         "anchor": "y4",
         "domain": [
          0,
          1
         ],
         "matches": "x",
         "range": [
          -0.6165226781857454,
          5.8
         ],
         "showticklabels": false,
         "ticktext": [
          0,
          1,
          2,
          3,
          4,
          5,
          6,
          1
         ],
         "tickvals": [
          -1,
          0,
          1,
          2,
          3,
          4,
          5,
          0
         ]
        },
        "xaxis5": {
         "anchor": "y5",
         "domain": [
          0,
          1
         ],
         "matches": "x",
         "range": [
          -0.6165226781857454,
          5.8
         ],
         "showticklabels": false,
         "ticktext": [
          0,
          1,
          2,
          3,
          4,
          5,
          6,
          1
         ],
         "tickvals": [
          -1,
          0,
          1,
          2,
          3,
          4,
          5,
          0
         ]
        },
        "yaxis": {
         "anchor": "x",
         "domain": [
          0,
          0.144
         ],
         "range": [
          0,
          1
         ],
         "showgrid": false,
         "ticktext": [
          "other"
         ],
         "tickvals": [
          0.5
         ],
         "title": {
          "text": ""
         },
         "zeroline": false
        },
        "yaxis2": {
         "anchor": "x2",
         "domain": [
          0.214,
          0.358
         ],
         "matches": "y",
         "range": [
          0,
          1
         ],
         "showgrid": false,
         "ticktext": [
          "other"
         ],
         "tickvals": [
          0.5
         ],
         "title": {
          "text": ""
         },
         "zeroline": false
        },
        "yaxis3": {
         "anchor": "x3",
         "domain": [
          0.428,
          0.572
         ],
         "matches": "y",
         "range": [
          0,
          1
         ],
         "showgrid": false,
         "ticktext": [
          "other"
         ],
         "tickvals": [
          0.5
         ],
         "title": {
          "text": "subgroup"
         },
         "zeroline": false
        },
        "yaxis4": {
         "anchor": "x4",
         "domain": [
          0.6419999999999999,
          0.7859999999999999
         ],
         "matches": "y",
         "range": [
          0,
          1
         ],
         "showgrid": false,
         "ticktext": [
          "other"
         ],
         "tickvals": [
          0.5
         ],
         "title": {
          "text": ""
         },
         "zeroline": false
        },
        "yaxis5": {
         "anchor": "x5",
         "domain": [
          0.856,
          1
         ],
         "matches": "y",
         "range": [
          0,
          1
         ],
         "showgrid": false,
         "ticktext": [
          "other"
         ],
         "tickvals": [
          0.5
         ],
         "title": {
          "text": ""
         },
         "zeroline": false
        }
       }
      },
      "text/html": [
       "<div>                            <div id=\"700551be-5184-491c-805e-8373e7c0b5e2\" class=\"plotly-graph-div\" style=\"height:525px; width:100%;\"></div>            <script type=\"text/javascript\">                require([\"plotly\"], function(Plotly) {                    window.PLOTLYENV=window.PLOTLYENV || {};                                    if (document.getElementById(\"700551be-5184-491c-805e-8373e7c0b5e2\")) {                    Plotly.newPlot(                        \"700551be-5184-491c-805e-8373e7c0b5e2\",                        [{\"alignmentgroup\": \"True\", \"customdata\": [[\"other\", 0.774, \"torch_after\"]], \"hovertemplate\": \"<b>%{customdata[2]}</b><br>Subgroup: %{customdata[0]}<br>Score: %{customdata[1]}<br><extra></extra>\", \"legendgroup\": \"torch_after\", \"marker\": {\"color\": \"#8bdcbe\"}, \"name\": \"torch_after\", \"offsetgroup\": \"torch_after\", \"orientation\": \"h\", \"showlegend\": true, \"textposition\": \"auto\", \"type\": \"bar\", \"x\": [-0.22560000000000002], \"xaxis\": \"x5\", \"y\": [0.5], \"yaxis\": \"y5\"}, {\"alignmentgroup\": \"True\", \"customdata\": [[\"other\", 0.497, \"torch_after\"]], \"hovertemplate\": \"<b>%{customdata[2]}</b><br>Subgroup: %{customdata[0]}<br>Score: %{customdata[1]}<br><extra></extra>\", \"legendgroup\": \"torch_after\", \"marker\": {\"color\": \"#8bdcbe\"}, \"name\": \"torch_after\", \"offsetgroup\": \"torch_after\", \"orientation\": \"h\", \"showlegend\": false, \"textposition\": \"auto\", \"type\": \"bar\", \"x\": [-0.5032397408207343], \"xaxis\": \"x4\", \"y\": [0.5], \"yaxis\": \"y4\"}, {\"alignmentgroup\": \"True\", \"customdata\": [[\"other\", 5.047, \"torch_after\"]], \"hovertemplate\": \"<b>%{customdata[2]}</b><br>Subgroup: %{customdata[0]}<br>Score: %{customdata[1]}<br><extra></extra>\", \"legendgroup\": \"torch_after\", \"marker\": {\"color\": \"#8bdcbe\"}, \"name\": \"torch_after\", \"offsetgroup\": \"torch_after\", \"orientation\": \"h\", \"showlegend\": false, \"textposition\": \"auto\", \"type\": \"bar\", \"x\": [4.046511627906977], \"xaxis\": \"x3\", \"y\": [0.5], \"yaxis\": \"y3\"}, {\"alignmentgroup\": \"True\", \"customdata\": [[\"other\", 0.874, \"torch_after\"]], \"hovertemplate\": \"<b>%{customdata[2]}</b><br>Subgroup: %{customdata[0]}<br>Score: %{customdata[1]}<br><extra></extra>\", \"legendgroup\": \"torch_after\", \"marker\": {\"color\": \"#8bdcbe\"}, \"name\": \"torch_after\", \"offsetgroup\": \"torch_after\", \"orientation\": \"h\", \"showlegend\": false, \"textposition\": \"auto\", \"type\": \"bar\", \"x\": [-0.1259351620947632], \"xaxis\": \"x2\", \"y\": [0.5], \"yaxis\": \"y2\"}, {\"alignmentgroup\": \"True\", \"customdata\": [[\"other\", 0.927, \"torch_after\"]], \"hovertemplate\": \"<b>%{customdata[2]}</b><br>Subgroup: %{customdata[0]}<br>Score: %{customdata[1]}<br><extra></extra>\", \"legendgroup\": \"torch_after\", \"marker\": {\"color\": \"#8bdcbe\"}, \"name\": \"torch_after\", \"offsetgroup\": \"torch_after\", \"orientation\": \"h\", \"showlegend\": false, \"textposition\": \"auto\", \"type\": \"bar\", \"x\": [-0.0732484076433122], \"xaxis\": \"x\", \"y\": [0.5], \"yaxis\": \"y\"}, {\"alignmentgroup\": \"True\", \"customdata\": [[\"other\", 0.808, \"torch_before\"]], \"hovertemplate\": \"<b>%{customdata[2]}</b><br>Subgroup: %{customdata[0]}<br>Score: %{customdata[1]}<br><extra></extra>\", \"legendgroup\": \"torch_before\", \"marker\": {\"color\": \"#4378bf\"}, \"name\": \"torch_before\", \"offsetgroup\": \"torch_before\", \"orientation\": \"h\", \"showlegend\": true, \"textposition\": \"auto\", \"type\": \"bar\", \"x\": [-0.19199999999999995], \"xaxis\": \"x5\", \"y\": [0.5], \"yaxis\": \"y5\"}, {\"alignmentgroup\": \"True\", \"customdata\": [[\"other\", 0.44, \"torch_before\"]], \"hovertemplate\": \"<b>%{customdata[2]}</b><br>Subgroup: %{customdata[0]}<br>Score: %{customdata[1]}<br><extra></extra>\", \"legendgroup\": \"torch_before\", \"marker\": {\"color\": \"#4378bf\"}, \"name\": \"torch_before\", \"offsetgroup\": \"torch_before\", \"orientation\": \"h\", \"showlegend\": false, \"textposition\": \"auto\", \"type\": \"bar\", \"x\": [-0.5604751619870412], \"xaxis\": \"x4\", \"y\": [0.5], \"yaxis\": \"y4\"}, {\"alignmentgroup\": \"True\", \"customdata\": [[\"other\", 6.535, \"torch_before\"]], \"hovertemplate\": \"<b>%{customdata[2]}</b><br>Subgroup: %{customdata[0]}<br>Score: %{customdata[1]}<br><extra></extra>\", \"legendgroup\": \"torch_before\", \"marker\": {\"color\": \"#4378bf\"}, \"name\": \"torch_before\", \"offsetgroup\": \"torch_before\", \"orientation\": \"h\", \"showlegend\": false, \"textposition\": \"auto\", \"type\": \"bar\", \"x\": [5.5348837209302335], \"xaxis\": \"x3\", \"y\": [0.5], \"yaxis\": \"y3\"}, {\"alignmentgroup\": \"True\", \"customdata\": [[\"other\", 0.823, \"torch_before\"]], \"hovertemplate\": \"<b>%{customdata[2]}</b><br>Subgroup: %{customdata[0]}<br>Score: %{customdata[1]}<br><extra></extra>\", \"legendgroup\": \"torch_before\", \"marker\": {\"color\": \"#4378bf\"}, \"name\": \"torch_before\", \"offsetgroup\": \"torch_before\", \"orientation\": \"h\", \"showlegend\": false, \"textposition\": \"auto\", \"type\": \"bar\", \"x\": [-0.17705735660847877], \"xaxis\": \"x2\", \"y\": [0.5], \"yaxis\": \"y2\"}, {\"alignmentgroup\": \"True\", \"customdata\": [[\"other\", 1.092, \"torch_before\"]], \"hovertemplate\": \"<b>%{customdata[2]}</b><br>Subgroup: %{customdata[0]}<br>Score: %{customdata[1]}<br><extra></extra>\", \"legendgroup\": \"torch_before\", \"marker\": {\"color\": \"#4378bf\"}, \"name\": \"torch_before\", \"offsetgroup\": \"torch_before\", \"orientation\": \"h\", \"showlegend\": false, \"textposition\": \"auto\", \"type\": \"bar\", \"x\": [0.09235668789808926], \"xaxis\": \"x\", \"y\": [0.5], \"yaxis\": \"y\"}],                        {\"annotations\": [{\"font\": {\"size\": 15}, \"showarrow\": false, \"text\": \"Statistical parity ratio   (TP + FP)/(TP + FP + TN + FN)\", \"x\": 0.05, \"xanchor\": \"left\", \"xref\": \"paper\", \"y\": 0.144, \"yanchor\": \"bottom\", \"yref\": \"paper\"}, {\"font\": {\"size\": 15}, \"showarrow\": false, \"text\": \"Accuracy equality ratio    (TP + TN)/(TP + FP + TN + FN)\", \"x\": 0.05, \"xanchor\": \"left\", \"xref\": \"paper\", \"y\": 0.358, \"yanchor\": \"bottom\", \"yref\": \"paper\"}, {\"font\": {\"size\": 15}, \"showarrow\": false, \"text\": \"Predictive equality ratio   FP/(FP + TN)\", \"x\": 0.05, \"xanchor\": \"left\", \"xref\": \"paper\", \"y\": 0.572, \"yanchor\": \"bottom\", \"yref\": \"paper\"}, {\"font\": {\"size\": 15}, \"showarrow\": false, \"text\": \"Predictive parity ratio     TP/(TP + FP)\", \"x\": 0.05, \"xanchor\": \"left\", \"xref\": \"paper\", \"y\": 0.7859999999999999, \"yanchor\": \"bottom\", \"yref\": \"paper\"}, {\"font\": {\"size\": 15}, \"showarrow\": false, \"text\": \"Equal opportunity ratio     TP/(TP + FN)\", \"x\": 0.05, \"xanchor\": \"left\", \"xref\": \"paper\", \"y\": 1.0, \"yanchor\": \"bottom\", \"yref\": \"paper\"}], \"barmode\": \"group\", \"font\": {\"color\": \"#371ea3\"}, \"legend\": {\"title\": {\"text\": \"label\"}, \"tracegroupgap\": 0}, \"margin\": {\"b\": 71, \"r\": 30, \"t\": 78}, \"shapes\": [{\"fillcolor\": \"#f05a71\", \"layer\": \"below\", \"line\": {\"width\": 0}, \"opacity\": 0.1, \"type\": \"rect\", \"x0\": 0.25, \"x1\": 5.8, \"xref\": \"x\", \"y0\": 0, \"y1\": 1, \"yref\": \"y\"}, {\"fillcolor\": \"#f05a71\", \"layer\": \"below\", \"line\": {\"width\": 0}, \"opacity\": 0.1, \"type\": \"rect\", \"x0\": -0.6165226781857454, \"x1\": -0.19999999999999996, \"xref\": \"x\", \"y0\": 0, \"y1\": 1, \"yref\": \"y\"}, {\"fillcolor\": \"#c7f5bf\", \"layer\": \"below\", \"line\": {\"width\": 0}, \"opacity\": 0.1, \"type\": \"rect\", \"x0\": -0.19999999999999996, \"x1\": 0.25, \"xref\": \"x\", \"y0\": 0, \"y1\": 1, \"yref\": \"y\"}, {\"line\": {\"color\": \"#371ea3\", \"width\": 1.5}, \"type\": \"line\", \"x0\": 0, \"x1\": 0, \"xref\": \"x\", \"y0\": 0, \"y1\": 1, \"yref\": \"y\"}, {\"fillcolor\": \"#f05a71\", \"layer\": \"below\", \"line\": {\"width\": 0}, \"opacity\": 0.1, \"type\": \"rect\", \"x0\": 0.25, \"x1\": 5.8, \"xref\": \"x\", \"y0\": 0, \"y1\": 1, \"yref\": \"y2\"}, {\"fillcolor\": \"#f05a71\", \"layer\": \"below\", \"line\": {\"width\": 0}, \"opacity\": 0.1, \"type\": \"rect\", \"x0\": -0.6165226781857454, \"x1\": -0.19999999999999996, \"xref\": \"x\", \"y0\": 0, \"y1\": 1, \"yref\": \"y2\"}, {\"fillcolor\": \"#c7f5bf\", \"layer\": \"below\", \"line\": {\"width\": 0}, \"opacity\": 0.1, \"type\": \"rect\", \"x0\": -0.19999999999999996, \"x1\": 0.25, \"xref\": \"x\", \"y0\": 0, \"y1\": 1, \"yref\": \"y2\"}, {\"line\": {\"color\": \"#371ea3\", \"width\": 1.5}, \"type\": \"line\", \"x0\": 0, \"x1\": 0, \"xref\": \"x\", \"y0\": 0, \"y1\": 1, \"yref\": \"y2\"}, {\"fillcolor\": \"#f05a71\", \"layer\": \"below\", \"line\": {\"width\": 0}, \"opacity\": 0.1, \"type\": \"rect\", \"x0\": 0.25, \"x1\": 5.8, \"xref\": \"x\", \"y0\": 0, \"y1\": 1, \"yref\": \"y3\"}, {\"fillcolor\": \"#f05a71\", \"layer\": \"below\", \"line\": {\"width\": 0}, \"opacity\": 0.1, \"type\": \"rect\", \"x0\": -0.6165226781857454, \"x1\": -0.19999999999999996, \"xref\": \"x\", \"y0\": 0, \"y1\": 1, \"yref\": \"y3\"}, {\"fillcolor\": \"#c7f5bf\", \"layer\": \"below\", \"line\": {\"width\": 0}, \"opacity\": 0.1, \"type\": \"rect\", \"x0\": -0.19999999999999996, \"x1\": 0.25, \"xref\": \"x\", \"y0\": 0, \"y1\": 1, \"yref\": \"y3\"}, {\"line\": {\"color\": \"#371ea3\", \"width\": 1.5}, \"type\": \"line\", \"x0\": 0, \"x1\": 0, \"xref\": \"x\", \"y0\": 0, \"y1\": 1, \"yref\": \"y3\"}, {\"fillcolor\": \"#f05a71\", \"layer\": \"below\", \"line\": {\"width\": 0}, \"opacity\": 0.1, \"type\": \"rect\", \"x0\": 0.25, \"x1\": 5.8, \"xref\": \"x\", \"y0\": 0, \"y1\": 1, \"yref\": \"y4\"}, {\"fillcolor\": \"#f05a71\", \"layer\": \"below\", \"line\": {\"width\": 0}, \"opacity\": 0.1, \"type\": \"rect\", \"x0\": -0.6165226781857454, \"x1\": -0.19999999999999996, \"xref\": \"x\", \"y0\": 0, \"y1\": 1, \"yref\": \"y4\"}, {\"fillcolor\": \"#c7f5bf\", \"layer\": \"below\", \"line\": {\"width\": 0}, \"opacity\": 0.1, \"type\": \"rect\", \"x0\": -0.19999999999999996, \"x1\": 0.25, \"xref\": \"x\", \"y0\": 0, \"y1\": 1, \"yref\": \"y4\"}, {\"line\": {\"color\": \"#371ea3\", \"width\": 1.5}, \"type\": \"line\", \"x0\": 0, \"x1\": 0, \"xref\": \"x\", \"y0\": 0, \"y1\": 1, \"yref\": \"y4\"}, {\"fillcolor\": \"#f05a71\", \"layer\": \"below\", \"line\": {\"width\": 0}, \"opacity\": 0.1, \"type\": \"rect\", \"x0\": 0.25, \"x1\": 5.8, \"xref\": \"x\", \"y0\": 0, \"y1\": 1, \"yref\": \"y5\"}, {\"fillcolor\": \"#f05a71\", \"layer\": \"below\", \"line\": {\"width\": 0}, \"opacity\": 0.1, \"type\": \"rect\", \"x0\": -0.6165226781857454, \"x1\": -0.19999999999999996, \"xref\": \"x\", \"y0\": 0, \"y1\": 1, \"yref\": \"y5\"}, {\"fillcolor\": \"#c7f5bf\", \"layer\": \"below\", \"line\": {\"width\": 0}, \"opacity\": 0.1, \"type\": \"rect\", \"x0\": -0.19999999999999996, \"x1\": 0.25, \"xref\": \"x\", \"y0\": 0, \"y1\": 1, \"yref\": \"y5\"}, {\"line\": {\"color\": \"#371ea3\", \"width\": 1.5}, \"type\": \"line\", \"x0\": 0, \"x1\": 0, \"xref\": \"x\", \"y0\": 0, \"y1\": 1, \"yref\": \"y5\"}], \"template\": {\"data\": {\"bar\": [{\"error_x\": {\"color\": \"#2a3f5f\"}, \"error_y\": {\"color\": \"#2a3f5f\"}, \"marker\": {\"line\": {\"color\": \"white\", \"width\": 0.5}}, \"type\": \"bar\"}], \"barpolar\": [{\"marker\": {\"line\": {\"color\": \"white\", \"width\": 0.5}}, \"type\": \"barpolar\"}], \"carpet\": [{\"aaxis\": {\"endlinecolor\": \"#2a3f5f\", \"gridcolor\": \"#C8D4E3\", \"linecolor\": \"#C8D4E3\", \"minorgridcolor\": \"#C8D4E3\", \"startlinecolor\": \"#2a3f5f\"}, \"baxis\": {\"endlinecolor\": \"#2a3f5f\", \"gridcolor\": \"#C8D4E3\", \"linecolor\": \"#C8D4E3\", \"minorgridcolor\": \"#C8D4E3\", \"startlinecolor\": \"#2a3f5f\"}, \"type\": \"carpet\"}], \"choropleth\": [{\"colorbar\": {\"outlinewidth\": 0, \"ticks\": \"\"}, \"type\": \"choropleth\"}], \"contour\": [{\"colorbar\": {\"outlinewidth\": 0, \"ticks\": \"\"}, \"colorscale\": [[0.0, \"#0d0887\"], [0.1111111111111111, \"#46039f\"], [0.2222222222222222, \"#7201a8\"], [0.3333333333333333, \"#9c179e\"], [0.4444444444444444, \"#bd3786\"], [0.5555555555555556, \"#d8576b\"], [0.6666666666666666, \"#ed7953\"], [0.7777777777777778, \"#fb9f3a\"], [0.8888888888888888, \"#fdca26\"], [1.0, \"#f0f921\"]], \"type\": \"contour\"}], \"contourcarpet\": [{\"colorbar\": {\"outlinewidth\": 0, \"ticks\": \"\"}, \"type\": \"contourcarpet\"}], \"heatmap\": [{\"colorbar\": {\"outlinewidth\": 0, \"ticks\": \"\"}, \"colorscale\": [[0.0, \"#0d0887\"], [0.1111111111111111, \"#46039f\"], [0.2222222222222222, \"#7201a8\"], [0.3333333333333333, \"#9c179e\"], [0.4444444444444444, \"#bd3786\"], [0.5555555555555556, \"#d8576b\"], [0.6666666666666666, \"#ed7953\"], [0.7777777777777778, \"#fb9f3a\"], [0.8888888888888888, \"#fdca26\"], [1.0, \"#f0f921\"]], \"type\": \"heatmap\"}], \"heatmapgl\": [{\"colorbar\": {\"outlinewidth\": 0, \"ticks\": \"\"}, \"colorscale\": [[0.0, \"#0d0887\"], [0.1111111111111111, \"#46039f\"], [0.2222222222222222, \"#7201a8\"], [0.3333333333333333, \"#9c179e\"], [0.4444444444444444, \"#bd3786\"], [0.5555555555555556, \"#d8576b\"], [0.6666666666666666, \"#ed7953\"], [0.7777777777777778, \"#fb9f3a\"], [0.8888888888888888, \"#fdca26\"], [1.0, \"#f0f921\"]], \"type\": \"heatmapgl\"}], \"histogram\": [{\"marker\": {\"colorbar\": {\"outlinewidth\": 0, \"ticks\": \"\"}}, \"type\": \"histogram\"}], \"histogram2d\": [{\"colorbar\": {\"outlinewidth\": 0, \"ticks\": \"\"}, \"colorscale\": [[0.0, \"#0d0887\"], [0.1111111111111111, \"#46039f\"], [0.2222222222222222, \"#7201a8\"], [0.3333333333333333, \"#9c179e\"], [0.4444444444444444, \"#bd3786\"], [0.5555555555555556, \"#d8576b\"], [0.6666666666666666, \"#ed7953\"], [0.7777777777777778, \"#fb9f3a\"], [0.8888888888888888, \"#fdca26\"], [1.0, \"#f0f921\"]], \"type\": \"histogram2d\"}], \"histogram2dcontour\": [{\"colorbar\": {\"outlinewidth\": 0, \"ticks\": \"\"}, \"colorscale\": [[0.0, \"#0d0887\"], [0.1111111111111111, \"#46039f\"], [0.2222222222222222, \"#7201a8\"], [0.3333333333333333, \"#9c179e\"], [0.4444444444444444, \"#bd3786\"], [0.5555555555555556, \"#d8576b\"], [0.6666666666666666, \"#ed7953\"], [0.7777777777777778, \"#fb9f3a\"], [0.8888888888888888, \"#fdca26\"], [1.0, \"#f0f921\"]], \"type\": \"histogram2dcontour\"}], \"mesh3d\": [{\"colorbar\": {\"outlinewidth\": 0, \"ticks\": \"\"}, \"type\": \"mesh3d\"}], \"parcoords\": [{\"line\": {\"colorbar\": {\"outlinewidth\": 0, \"ticks\": \"\"}}, \"type\": \"parcoords\"}], \"pie\": [{\"automargin\": true, \"type\": \"pie\"}], \"scatter\": [{\"marker\": {\"colorbar\": {\"outlinewidth\": 0, \"ticks\": \"\"}}, \"type\": \"scatter\"}], \"scatter3d\": [{\"line\": {\"colorbar\": {\"outlinewidth\": 0, \"ticks\": \"\"}}, \"marker\": {\"colorbar\": {\"outlinewidth\": 0, \"ticks\": \"\"}}, \"type\": \"scatter3d\"}], \"scattercarpet\": [{\"marker\": {\"colorbar\": {\"outlinewidth\": 0, \"ticks\": \"\"}}, \"type\": \"scattercarpet\"}], \"scattergeo\": [{\"marker\": {\"colorbar\": {\"outlinewidth\": 0, \"ticks\": \"\"}}, \"type\": \"scattergeo\"}], \"scattergl\": [{\"marker\": {\"colorbar\": {\"outlinewidth\": 0, \"ticks\": \"\"}}, \"type\": \"scattergl\"}], \"scattermapbox\": [{\"marker\": {\"colorbar\": {\"outlinewidth\": 0, \"ticks\": \"\"}}, \"type\": \"scattermapbox\"}], \"scatterpolar\": [{\"marker\": {\"colorbar\": {\"outlinewidth\": 0, \"ticks\": \"\"}}, \"type\": \"scatterpolar\"}], \"scatterpolargl\": [{\"marker\": {\"colorbar\": {\"outlinewidth\": 0, \"ticks\": \"\"}}, \"type\": \"scatterpolargl\"}], \"scatterternary\": [{\"marker\": {\"colorbar\": {\"outlinewidth\": 0, \"ticks\": \"\"}}, \"type\": \"scatterternary\"}], \"surface\": [{\"colorbar\": {\"outlinewidth\": 0, \"ticks\": \"\"}, \"colorscale\": [[0.0, \"#0d0887\"], [0.1111111111111111, \"#46039f\"], [0.2222222222222222, \"#7201a8\"], [0.3333333333333333, \"#9c179e\"], [0.4444444444444444, \"#bd3786\"], [0.5555555555555556, \"#d8576b\"], [0.6666666666666666, \"#ed7953\"], [0.7777777777777778, \"#fb9f3a\"], [0.8888888888888888, \"#fdca26\"], [1.0, \"#f0f921\"]], \"type\": \"surface\"}], \"table\": [{\"cells\": {\"fill\": {\"color\": \"#EBF0F8\"}, \"line\": {\"color\": \"white\"}}, \"header\": {\"fill\": {\"color\": \"#C8D4E3\"}, \"line\": {\"color\": \"white\"}}, \"type\": \"table\"}]}, \"layout\": {\"annotationdefaults\": {\"arrowcolor\": \"#2a3f5f\", \"arrowhead\": 0, \"arrowwidth\": 1}, \"autotypenumbers\": \"strict\", \"coloraxis\": {\"colorbar\": {\"outlinewidth\": 0, \"ticks\": \"\"}}, \"colorscale\": {\"diverging\": [[0, \"#8e0152\"], [0.1, \"#c51b7d\"], [0.2, \"#de77ae\"], [0.3, \"#f1b6da\"], [0.4, \"#fde0ef\"], [0.5, \"#f7f7f7\"], [0.6, \"#e6f5d0\"], [0.7, \"#b8e186\"], [0.8, \"#7fbc41\"], [0.9, \"#4d9221\"], [1, \"#276419\"]], \"sequential\": [[0.0, \"#0d0887\"], [0.1111111111111111, \"#46039f\"], [0.2222222222222222, \"#7201a8\"], [0.3333333333333333, \"#9c179e\"], [0.4444444444444444, \"#bd3786\"], [0.5555555555555556, \"#d8576b\"], [0.6666666666666666, \"#ed7953\"], [0.7777777777777778, \"#fb9f3a\"], [0.8888888888888888, \"#fdca26\"], [1.0, \"#f0f921\"]], \"sequentialminus\": [[0.0, \"#0d0887\"], [0.1111111111111111, \"#46039f\"], [0.2222222222222222, \"#7201a8\"], [0.3333333333333333, \"#9c179e\"], [0.4444444444444444, \"#bd3786\"], [0.5555555555555556, \"#d8576b\"], [0.6666666666666666, \"#ed7953\"], [0.7777777777777778, \"#fb9f3a\"], [0.8888888888888888, \"#fdca26\"], [1.0, \"#f0f921\"]]}, \"colorway\": [\"#636efa\", \"#EF553B\", \"#00cc96\", \"#ab63fa\", \"#FFA15A\", \"#19d3f3\", \"#FF6692\", \"#B6E880\", \"#FF97FF\", \"#FECB52\"], \"font\": {\"color\": \"#2a3f5f\"}, \"geo\": {\"bgcolor\": \"white\", \"lakecolor\": \"white\", \"landcolor\": \"white\", \"showlakes\": true, \"showland\": true, \"subunitcolor\": \"#C8D4E3\"}, \"hoverlabel\": {\"align\": \"left\"}, \"hovermode\": \"closest\", \"mapbox\": {\"style\": \"light\"}, \"paper_bgcolor\": \"white\", \"plot_bgcolor\": \"white\", \"polar\": {\"angularaxis\": {\"gridcolor\": \"#EBF0F8\", \"linecolor\": \"#EBF0F8\", \"ticks\": \"\"}, \"bgcolor\": \"white\", \"radialaxis\": {\"gridcolor\": \"#EBF0F8\", \"linecolor\": \"#EBF0F8\", \"ticks\": \"\"}}, \"scene\": {\"xaxis\": {\"backgroundcolor\": \"white\", \"gridcolor\": \"#DFE8F3\", \"gridwidth\": 2, \"linecolor\": \"#EBF0F8\", \"showbackground\": true, \"ticks\": \"\", \"zerolinecolor\": \"#EBF0F8\"}, \"yaxis\": {\"backgroundcolor\": \"white\", \"gridcolor\": \"#DFE8F3\", \"gridwidth\": 2, \"linecolor\": \"#EBF0F8\", \"showbackground\": true, \"ticks\": \"\", \"zerolinecolor\": \"#EBF0F8\"}, \"zaxis\": {\"backgroundcolor\": \"white\", \"gridcolor\": \"#DFE8F3\", \"gridwidth\": 2, \"linecolor\": \"#EBF0F8\", \"showbackground\": true, \"ticks\": \"\", \"zerolinecolor\": \"#EBF0F8\"}}, \"shapedefaults\": {\"line\": {\"color\": \"#2a3f5f\"}}, \"ternary\": {\"aaxis\": {\"gridcolor\": \"#DFE8F3\", \"linecolor\": \"#A2B1C6\", \"ticks\": \"\"}, \"baxis\": {\"gridcolor\": \"#DFE8F3\", \"linecolor\": \"#A2B1C6\", \"ticks\": \"\"}, \"bgcolor\": \"white\", \"caxis\": {\"gridcolor\": \"#DFE8F3\", \"linecolor\": \"#A2B1C6\", \"ticks\": \"\"}}, \"title\": {\"x\": 0.05}, \"xaxis\": {\"automargin\": true, \"gridcolor\": \"#EBF0F8\", \"linecolor\": \"#EBF0F8\", \"ticks\": \"\", \"title\": {\"standoff\": 15}, \"zerolinecolor\": \"#EBF0F8\", \"zerolinewidth\": 2}, \"yaxis\": {\"automargin\": true, \"gridcolor\": \"#EBF0F8\", \"linecolor\": \"#EBF0F8\", \"ticks\": \"\", \"title\": {\"standoff\": 15}, \"zerolinecolor\": \"#EBF0F8\", \"zerolinewidth\": 2}}}, \"title\": {\"font\": {\"size\": 25}, \"text\": \"Fairness Check\", \"x\": 0.5, \"y\": 0.99}, \"xaxis\": {\"anchor\": \"y\", \"domain\": [0.0, 1.0], \"range\": [-0.6165226781857454, 5.8], \"ticktext\": [0.0, 1.0, 2.0, 3.0, 4.0, 5.0, 6.0, 1.0], \"tickvals\": [-1.0, 0.0, 1.0, 2.0, 3.0, 4.0, 5.0, 0.0], \"title\": {\"text\": \"score\"}}, \"xaxis2\": {\"anchor\": \"y2\", \"domain\": [0.0, 1.0], \"matches\": \"x\", \"range\": [-0.6165226781857454, 5.8], \"showticklabels\": false, \"ticktext\": [0.0, 1.0, 2.0, 3.0, 4.0, 5.0, 6.0, 1.0], \"tickvals\": [-1.0, 0.0, 1.0, 2.0, 3.0, 4.0, 5.0, 0.0]}, \"xaxis3\": {\"anchor\": \"y3\", \"domain\": [0.0, 1.0], \"matches\": \"x\", \"range\": [-0.6165226781857454, 5.8], \"showticklabels\": false, \"ticktext\": [0.0, 1.0, 2.0, 3.0, 4.0, 5.0, 6.0, 1.0], \"tickvals\": [-1.0, 0.0, 1.0, 2.0, 3.0, 4.0, 5.0, 0.0]}, \"xaxis4\": {\"anchor\": \"y4\", \"domain\": [0.0, 1.0], \"matches\": \"x\", \"range\": [-0.6165226781857454, 5.8], \"showticklabels\": false, \"ticktext\": [0.0, 1.0, 2.0, 3.0, 4.0, 5.0, 6.0, 1.0], \"tickvals\": [-1.0, 0.0, 1.0, 2.0, 3.0, 4.0, 5.0, 0.0]}, \"xaxis5\": {\"anchor\": \"y5\", \"domain\": [0.0, 1.0], \"matches\": \"x\", \"range\": [-0.6165226781857454, 5.8], \"showticklabels\": false, \"ticktext\": [0.0, 1.0, 2.0, 3.0, 4.0, 5.0, 6.0, 1.0], \"tickvals\": [-1.0, 0.0, 1.0, 2.0, 3.0, 4.0, 5.0, 0.0]}, \"yaxis\": {\"anchor\": \"x\", \"domain\": [0.0, 0.144], \"range\": [0, 1], \"showgrid\": false, \"ticktext\": [\"other\"], \"tickvals\": [0.5], \"title\": {\"text\": \"\"}, \"zeroline\": false}, \"yaxis2\": {\"anchor\": \"x2\", \"domain\": [0.214, 0.358], \"matches\": \"y\", \"range\": [0, 1], \"showgrid\": false, \"ticktext\": [\"other\"], \"tickvals\": [0.5], \"title\": {\"text\": \"\"}, \"zeroline\": false}, \"yaxis3\": {\"anchor\": \"x3\", \"domain\": [0.428, 0.572], \"matches\": \"y\", \"range\": [0, 1], \"showgrid\": false, \"ticktext\": [\"other\"], \"tickvals\": [0.5], \"title\": {\"text\": \"subgroup\"}, \"zeroline\": false}, \"yaxis4\": {\"anchor\": \"x4\", \"domain\": [0.6419999999999999, 0.7859999999999999], \"matches\": \"y\", \"range\": [0, 1], \"showgrid\": false, \"ticktext\": [\"other\"], \"tickvals\": [0.5], \"title\": {\"text\": \"\"}, \"zeroline\": false}, \"yaxis5\": {\"anchor\": \"x5\", \"domain\": [0.856, 1.0], \"matches\": \"y\", \"range\": [0, 1], \"showgrid\": false, \"ticktext\": [\"other\"], \"tickvals\": [0.5], \"title\": {\"text\": \"\"}, \"zeroline\": false}},                        {\"displaylogo\": false, \"staticPlot\": false, \"toImageButtonOptions\": {\"height\": null, \"width\": null}, \"modeBarButtonsToRemove\": [\"sendDataToCloud\", \"lasso2d\", \"autoScale2d\", \"select2d\", \"zoom2d\", \"pan2d\", \"zoomIn2d\", \"zoomOut2d\", \"resetScale2d\", \"toggleSpikelines\", \"hoverCompareCartesian\", \"hoverClosestCartesian\"], \"responsive\": true}                    ).then(function(){\n",
       "                            \n",
       "var gd = document.getElementById('700551be-5184-491c-805e-8373e7c0b5e2');\n",
       "var x = new MutationObserver(function (mutations, observer) {{\n",
       "        var display = window.getComputedStyle(gd).display;\n",
       "        if (!display || display === 'none') {{\n",
       "            console.log([gd, 'removed!']);\n",
       "            Plotly.purge(gd);\n",
       "            observer.disconnect();\n",
       "        }}\n",
       "}});\n",
       "\n",
       "// Listen for the removal of the full notebook cells\n",
       "var notebookContainer = gd.closest('#notebook-container');\n",
       "if (notebookContainer) {{\n",
       "    x.observe(notebookContainer, {childList: true});\n",
       "}}\n",
       "\n",
       "// Listen for the clearing of the current output cell\n",
       "var outputEl = gd.closest('.output');\n",
       "if (outputEl) {{\n",
       "    x.observe(outputEl, {childList: true});\n",
       "}}\n",
       "\n",
       "                        })                };                });            </script>        </div>"
      ]
     },
     "metadata": {},
     "output_type": "display_data"
    }
   ],
   "source": [
    "fobject2 = exp_net2.model_fairness(protected=A_test, privileged = \"china\")\n",
    "fobject2.plot(fobject)"
   ]
  },
  {
   "cell_type": "code",
   "execution_count": 38,
   "metadata": {
    "pycharm": {
     "is_executing": true
    }
   },
   "outputs": [
    {
     "data": {
      "application/vnd.plotly.v1+json": {
       "config": {
        "displaylogo": false,
        "modeBarButtonsToRemove": [
         "sendDataToCloud",
         "lasso2d",
         "autoScale2d",
         "select2d",
         "zoom2d",
         "pan2d",
         "zoomIn2d",
         "zoomOut2d",
         "resetScale2d",
         "toggleSpikelines",
         "hoverCompareCartesian",
         "hoverClosestCartesian"
        ],
        "plotlyServerURL": "https://plot.ly",
        "staticPlot": false,
        "toImageButtonOptions": {
         "height": null,
         "width": null
        }
       },
       "data": [
        {
         "alignmentgroup": "True",
         "customdata": [
          [
           0.213,
           "TPR"
          ],
          [
           0.256,
           "TPR"
          ]
         ],
         "hovertemplate": "<b>%{label}</b><br>Metric: %{customdata[1]}<br>Parity loss: %{customdata[0]}<br><extra></extra>",
         "legendgroup": "TPR",
         "marker": {
          "color": "#8bdcbe",
          "line": {
           "width": 0
          }
         },
         "name": "TPR",
         "offsetgroup": "TPR",
         "orientation": "h",
         "showlegend": true,
         "textposition": "auto",
         "type": "bar",
         "x": [
          0.2131932204610416,
          0.2556667430197698
         ],
         "xaxis": "x",
         "y": [
          "torch_before",
          "torch_after"
         ],
         "yaxis": "y"
        },
        {
         "alignmentgroup": "True",
         "customdata": [
          [
           0.822,
           "PPV"
          ],
          [
           0.7,
           "PPV"
          ]
         ],
         "hovertemplate": "<b>%{label}</b><br>Metric: %{customdata[1]}<br>Parity loss: %{customdata[0]}<br><extra></extra>",
         "legendgroup": "PPV",
         "marker": {
          "color": "#f05a71",
          "line": {
           "width": 0
          }
         },
         "name": "PPV",
         "offsetgroup": "PPV",
         "orientation": "h",
         "showlegend": true,
         "textposition": "auto",
         "type": "bar",
         "x": [
          0.8220610492035846,
          0.6996477451630387
         ],
         "xaxis": "x",
         "y": [
          "torch_before",
          "torch_after"
         ],
         "yaxis": "y"
        },
        {
         "alignmentgroup": "True",
         "customdata": [
          [
           1.877,
           "FPR"
          ],
          [
           1.619,
           "FPR"
          ]
         ],
         "hovertemplate": "<b>%{label}</b><br>Metric: %{customdata[1]}<br>Parity loss: %{customdata[0]}<br><extra></extra>",
         "legendgroup": "FPR",
         "marker": {
          "color": "#4378bf",
          "line": {
           "width": 0
          }
         },
         "name": "FPR",
         "offsetgroup": "FPR",
         "orientation": "h",
         "showlegend": true,
         "textposition": "auto",
         "type": "bar",
         "x": [
          1.8771545536401835,
          1.6186972378468971
         ],
         "xaxis": "x",
         "y": [
          "torch_before",
          "torch_after"
         ],
         "yaxis": "y"
        },
        {
         "alignmentgroup": "True",
         "customdata": [
          [
           0.195,
           "ACC"
          ],
          [
           0.135,
           "ACC"
          ]
         ],
         "hovertemplate": "<b>%{label}</b><br>Metric: %{customdata[1]}<br>Parity loss: %{customdata[0]}<br><extra></extra>",
         "legendgroup": "ACC",
         "marker": {
          "color": "#ae2c87",
          "line": {
           "width": 0
          }
         },
         "name": "ACC",
         "offsetgroup": "ACC",
         "orientation": "h",
         "showlegend": true,
         "textposition": "auto",
         "type": "bar",
         "x": [
          0.19486877284604323,
          0.1346007208319245
         ],
         "xaxis": "x",
         "y": [
          "torch_before",
          "torch_after"
         ],
         "yaxis": "y"
        },
        {
         "alignmentgroup": "True",
         "customdata": [
          [
           0.088,
           "STP"
          ],
          [
           0.076,
           "STP"
          ]
         ],
         "hovertemplate": "<b>%{label}</b><br>Metric: %{customdata[1]}<br>Parity loss: %{customdata[0]}<br><extra></extra>",
         "legendgroup": "STP",
         "marker": {
          "color": "#ffa58c",
          "line": {
           "width": 0
          }
         },
         "name": "STP",
         "offsetgroup": "STP",
         "orientation": "h",
         "showlegend": true,
         "textposition": "auto",
         "type": "bar",
         "x": [
          0.08833746125768663,
          0.07606971873676095
         ],
         "xaxis": "x",
         "y": [
          "torch_before",
          "torch_after"
         ],
         "yaxis": "y"
        }
       ],
       "layout": {
        "barmode": "relative",
        "font": {
         "color": "#371ea3"
        },
        "legend": {
         "title": {
          "text": "metric"
         },
         "tracegroupgap": 0
        },
        "margin": {
         "b": 71,
         "r": 30,
         "t": 78
        },
        "template": {
         "data": {
          "bar": [
           {
            "error_x": {
             "color": "#2a3f5f"
            },
            "error_y": {
             "color": "#2a3f5f"
            },
            "marker": {
             "line": {
              "color": "white",
              "width": 0.5
             }
            },
            "type": "bar"
           }
          ],
          "barpolar": [
           {
            "marker": {
             "line": {
              "color": "white",
              "width": 0.5
             }
            },
            "type": "barpolar"
           }
          ],
          "carpet": [
           {
            "aaxis": {
             "endlinecolor": "#2a3f5f",
             "gridcolor": "#C8D4E3",
             "linecolor": "#C8D4E3",
             "minorgridcolor": "#C8D4E3",
             "startlinecolor": "#2a3f5f"
            },
            "baxis": {
             "endlinecolor": "#2a3f5f",
             "gridcolor": "#C8D4E3",
             "linecolor": "#C8D4E3",
             "minorgridcolor": "#C8D4E3",
             "startlinecolor": "#2a3f5f"
            },
            "type": "carpet"
           }
          ],
          "choropleth": [
           {
            "colorbar": {
             "outlinewidth": 0,
             "ticks": ""
            },
            "type": "choropleth"
           }
          ],
          "contour": [
           {
            "colorbar": {
             "outlinewidth": 0,
             "ticks": ""
            },
            "colorscale": [
             [
              0,
              "#0d0887"
             ],
             [
              0.1111111111111111,
              "#46039f"
             ],
             [
              0.2222222222222222,
              "#7201a8"
             ],
             [
              0.3333333333333333,
              "#9c179e"
             ],
             [
              0.4444444444444444,
              "#bd3786"
             ],
             [
              0.5555555555555556,
              "#d8576b"
             ],
             [
              0.6666666666666666,
              "#ed7953"
             ],
             [
              0.7777777777777778,
              "#fb9f3a"
             ],
             [
              0.8888888888888888,
              "#fdca26"
             ],
             [
              1,
              "#f0f921"
             ]
            ],
            "type": "contour"
           }
          ],
          "contourcarpet": [
           {
            "colorbar": {
             "outlinewidth": 0,
             "ticks": ""
            },
            "type": "contourcarpet"
           }
          ],
          "heatmap": [
           {
            "colorbar": {
             "outlinewidth": 0,
             "ticks": ""
            },
            "colorscale": [
             [
              0,
              "#0d0887"
             ],
             [
              0.1111111111111111,
              "#46039f"
             ],
             [
              0.2222222222222222,
              "#7201a8"
             ],
             [
              0.3333333333333333,
              "#9c179e"
             ],
             [
              0.4444444444444444,
              "#bd3786"
             ],
             [
              0.5555555555555556,
              "#d8576b"
             ],
             [
              0.6666666666666666,
              "#ed7953"
             ],
             [
              0.7777777777777778,
              "#fb9f3a"
             ],
             [
              0.8888888888888888,
              "#fdca26"
             ],
             [
              1,
              "#f0f921"
             ]
            ],
            "type": "heatmap"
           }
          ],
          "heatmapgl": [
           {
            "colorbar": {
             "outlinewidth": 0,
             "ticks": ""
            },
            "colorscale": [
             [
              0,
              "#0d0887"
             ],
             [
              0.1111111111111111,
              "#46039f"
             ],
             [
              0.2222222222222222,
              "#7201a8"
             ],
             [
              0.3333333333333333,
              "#9c179e"
             ],
             [
              0.4444444444444444,
              "#bd3786"
             ],
             [
              0.5555555555555556,
              "#d8576b"
             ],
             [
              0.6666666666666666,
              "#ed7953"
             ],
             [
              0.7777777777777778,
              "#fb9f3a"
             ],
             [
              0.8888888888888888,
              "#fdca26"
             ],
             [
              1,
              "#f0f921"
             ]
            ],
            "type": "heatmapgl"
           }
          ],
          "histogram": [
           {
            "marker": {
             "colorbar": {
              "outlinewidth": 0,
              "ticks": ""
             }
            },
            "type": "histogram"
           }
          ],
          "histogram2d": [
           {
            "colorbar": {
             "outlinewidth": 0,
             "ticks": ""
            },
            "colorscale": [
             [
              0,
              "#0d0887"
             ],
             [
              0.1111111111111111,
              "#46039f"
             ],
             [
              0.2222222222222222,
              "#7201a8"
             ],
             [
              0.3333333333333333,
              "#9c179e"
             ],
             [
              0.4444444444444444,
              "#bd3786"
             ],
             [
              0.5555555555555556,
              "#d8576b"
             ],
             [
              0.6666666666666666,
              "#ed7953"
             ],
             [
              0.7777777777777778,
              "#fb9f3a"
             ],
             [
              0.8888888888888888,
              "#fdca26"
             ],
             [
              1,
              "#f0f921"
             ]
            ],
            "type": "histogram2d"
           }
          ],
          "histogram2dcontour": [
           {
            "colorbar": {
             "outlinewidth": 0,
             "ticks": ""
            },
            "colorscale": [
             [
              0,
              "#0d0887"
             ],
             [
              0.1111111111111111,
              "#46039f"
             ],
             [
              0.2222222222222222,
              "#7201a8"
             ],
             [
              0.3333333333333333,
              "#9c179e"
             ],
             [
              0.4444444444444444,
              "#bd3786"
             ],
             [
              0.5555555555555556,
              "#d8576b"
             ],
             [
              0.6666666666666666,
              "#ed7953"
             ],
             [
              0.7777777777777778,
              "#fb9f3a"
             ],
             [
              0.8888888888888888,
              "#fdca26"
             ],
             [
              1,
              "#f0f921"
             ]
            ],
            "type": "histogram2dcontour"
           }
          ],
          "mesh3d": [
           {
            "colorbar": {
             "outlinewidth": 0,
             "ticks": ""
            },
            "type": "mesh3d"
           }
          ],
          "parcoords": [
           {
            "line": {
             "colorbar": {
              "outlinewidth": 0,
              "ticks": ""
             }
            },
            "type": "parcoords"
           }
          ],
          "pie": [
           {
            "automargin": true,
            "type": "pie"
           }
          ],
          "scatter": [
           {
            "marker": {
             "colorbar": {
              "outlinewidth": 0,
              "ticks": ""
             }
            },
            "type": "scatter"
           }
          ],
          "scatter3d": [
           {
            "line": {
             "colorbar": {
              "outlinewidth": 0,
              "ticks": ""
             }
            },
            "marker": {
             "colorbar": {
              "outlinewidth": 0,
              "ticks": ""
             }
            },
            "type": "scatter3d"
           }
          ],
          "scattercarpet": [
           {
            "marker": {
             "colorbar": {
              "outlinewidth": 0,
              "ticks": ""
             }
            },
            "type": "scattercarpet"
           }
          ],
          "scattergeo": [
           {
            "marker": {
             "colorbar": {
              "outlinewidth": 0,
              "ticks": ""
             }
            },
            "type": "scattergeo"
           }
          ],
          "scattergl": [
           {
            "marker": {
             "colorbar": {
              "outlinewidth": 0,
              "ticks": ""
             }
            },
            "type": "scattergl"
           }
          ],
          "scattermapbox": [
           {
            "marker": {
             "colorbar": {
              "outlinewidth": 0,
              "ticks": ""
             }
            },
            "type": "scattermapbox"
           }
          ],
          "scatterpolar": [
           {
            "marker": {
             "colorbar": {
              "outlinewidth": 0,
              "ticks": ""
             }
            },
            "type": "scatterpolar"
           }
          ],
          "scatterpolargl": [
           {
            "marker": {
             "colorbar": {
              "outlinewidth": 0,
              "ticks": ""
             }
            },
            "type": "scatterpolargl"
           }
          ],
          "scatterternary": [
           {
            "marker": {
             "colorbar": {
              "outlinewidth": 0,
              "ticks": ""
             }
            },
            "type": "scatterternary"
           }
          ],
          "surface": [
           {
            "colorbar": {
             "outlinewidth": 0,
             "ticks": ""
            },
            "colorscale": [
             [
              0,
              "#0d0887"
             ],
             [
              0.1111111111111111,
              "#46039f"
             ],
             [
              0.2222222222222222,
              "#7201a8"
             ],
             [
              0.3333333333333333,
              "#9c179e"
             ],
             [
              0.4444444444444444,
              "#bd3786"
             ],
             [
              0.5555555555555556,
              "#d8576b"
             ],
             [
              0.6666666666666666,
              "#ed7953"
             ],
             [
              0.7777777777777778,
              "#fb9f3a"
             ],
             [
              0.8888888888888888,
              "#fdca26"
             ],
             [
              1,
              "#f0f921"
             ]
            ],
            "type": "surface"
           }
          ],
          "table": [
           {
            "cells": {
             "fill": {
              "color": "#EBF0F8"
             },
             "line": {
              "color": "white"
             }
            },
            "header": {
             "fill": {
              "color": "#C8D4E3"
             },
             "line": {
              "color": "white"
             }
            },
            "type": "table"
           }
          ]
         },
         "layout": {
          "annotationdefaults": {
           "arrowcolor": "#2a3f5f",
           "arrowhead": 0,
           "arrowwidth": 1
          },
          "autotypenumbers": "strict",
          "coloraxis": {
           "colorbar": {
            "outlinewidth": 0,
            "ticks": ""
           }
          },
          "colorscale": {
           "diverging": [
            [
             0,
             "#8e0152"
            ],
            [
             0.1,
             "#c51b7d"
            ],
            [
             0.2,
             "#de77ae"
            ],
            [
             0.3,
             "#f1b6da"
            ],
            [
             0.4,
             "#fde0ef"
            ],
            [
             0.5,
             "#f7f7f7"
            ],
            [
             0.6,
             "#e6f5d0"
            ],
            [
             0.7,
             "#b8e186"
            ],
            [
             0.8,
             "#7fbc41"
            ],
            [
             0.9,
             "#4d9221"
            ],
            [
             1,
             "#276419"
            ]
           ],
           "sequential": [
            [
             0,
             "#0d0887"
            ],
            [
             0.1111111111111111,
             "#46039f"
            ],
            [
             0.2222222222222222,
             "#7201a8"
            ],
            [
             0.3333333333333333,
             "#9c179e"
            ],
            [
             0.4444444444444444,
             "#bd3786"
            ],
            [
             0.5555555555555556,
             "#d8576b"
            ],
            [
             0.6666666666666666,
             "#ed7953"
            ],
            [
             0.7777777777777778,
             "#fb9f3a"
            ],
            [
             0.8888888888888888,
             "#fdca26"
            ],
            [
             1,
             "#f0f921"
            ]
           ],
           "sequentialminus": [
            [
             0,
             "#0d0887"
            ],
            [
             0.1111111111111111,
             "#46039f"
            ],
            [
             0.2222222222222222,
             "#7201a8"
            ],
            [
             0.3333333333333333,
             "#9c179e"
            ],
            [
             0.4444444444444444,
             "#bd3786"
            ],
            [
             0.5555555555555556,
             "#d8576b"
            ],
            [
             0.6666666666666666,
             "#ed7953"
            ],
            [
             0.7777777777777778,
             "#fb9f3a"
            ],
            [
             0.8888888888888888,
             "#fdca26"
            ],
            [
             1,
             "#f0f921"
            ]
           ]
          },
          "colorway": [
           "#636efa",
           "#EF553B",
           "#00cc96",
           "#ab63fa",
           "#FFA15A",
           "#19d3f3",
           "#FF6692",
           "#B6E880",
           "#FF97FF",
           "#FECB52"
          ],
          "font": {
           "color": "#2a3f5f"
          },
          "geo": {
           "bgcolor": "white",
           "lakecolor": "white",
           "landcolor": "white",
           "showlakes": true,
           "showland": true,
           "subunitcolor": "#C8D4E3"
          },
          "hoverlabel": {
           "align": "left"
          },
          "hovermode": "closest",
          "mapbox": {
           "style": "light"
          },
          "paper_bgcolor": "white",
          "plot_bgcolor": "white",
          "polar": {
           "angularaxis": {
            "gridcolor": "#EBF0F8",
            "linecolor": "#EBF0F8",
            "ticks": ""
           },
           "bgcolor": "white",
           "radialaxis": {
            "gridcolor": "#EBF0F8",
            "linecolor": "#EBF0F8",
            "ticks": ""
           }
          },
          "scene": {
           "xaxis": {
            "backgroundcolor": "white",
            "gridcolor": "#DFE8F3",
            "gridwidth": 2,
            "linecolor": "#EBF0F8",
            "showbackground": true,
            "ticks": "",
            "zerolinecolor": "#EBF0F8"
           },
           "yaxis": {
            "backgroundcolor": "white",
            "gridcolor": "#DFE8F3",
            "gridwidth": 2,
            "linecolor": "#EBF0F8",
            "showbackground": true,
            "ticks": "",
            "zerolinecolor": "#EBF0F8"
           },
           "zaxis": {
            "backgroundcolor": "white",
            "gridcolor": "#DFE8F3",
            "gridwidth": 2,
            "linecolor": "#EBF0F8",
            "showbackground": true,
            "ticks": "",
            "zerolinecolor": "#EBF0F8"
           }
          },
          "shapedefaults": {
           "line": {
            "color": "#2a3f5f"
           }
          },
          "ternary": {
           "aaxis": {
            "gridcolor": "#DFE8F3",
            "linecolor": "#A2B1C6",
            "ticks": ""
           },
           "baxis": {
            "gridcolor": "#DFE8F3",
            "linecolor": "#A2B1C6",
            "ticks": ""
           },
           "bgcolor": "white",
           "caxis": {
            "gridcolor": "#DFE8F3",
            "linecolor": "#A2B1C6",
            "ticks": ""
           }
          },
          "title": {
           "x": 0.05
          },
          "xaxis": {
           "automargin": true,
           "gridcolor": "#EBF0F8",
           "linecolor": "#EBF0F8",
           "ticks": "",
           "title": {
            "standoff": 15
           },
           "zerolinecolor": "#EBF0F8",
           "zerolinewidth": 2
          },
          "yaxis": {
           "automargin": true,
           "gridcolor": "#EBF0F8",
           "linecolor": "#EBF0F8",
           "ticks": "",
           "title": {
            "standoff": 15
           },
           "zerolinecolor": "#EBF0F8",
           "zerolinewidth": 2
          }
         }
        },
        "title": {
         "font": {
          "size": 25
         },
         "text": "Stacked Parity Loss Metrics",
         "x": 0.5,
         "y": 0.99
        },
        "xaxis": {
         "anchor": "y",
         "domain": [
          0,
          1
         ],
         "title": {
          "text": "cumulated parity loss"
         }
        },
        "yaxis": {
         "anchor": "x",
         "domain": [
          0,
          1
         ],
         "showgrid": false,
         "title": {
          "text": "label"
         },
         "zeroline": false
        }
       }
      },
      "text/html": [
       "<div>                            <div id=\"a7349aa7-517a-4099-bf6d-08e82bf2fbc8\" class=\"plotly-graph-div\" style=\"height:525px; width:100%;\"></div>            <script type=\"text/javascript\">                require([\"plotly\"], function(Plotly) {                    window.PLOTLYENV=window.PLOTLYENV || {};                                    if (document.getElementById(\"a7349aa7-517a-4099-bf6d-08e82bf2fbc8\")) {                    Plotly.newPlot(                        \"a7349aa7-517a-4099-bf6d-08e82bf2fbc8\",                        [{\"alignmentgroup\": \"True\", \"customdata\": [[0.213, \"TPR\"], [0.256, \"TPR\"]], \"hovertemplate\": \"<b>%{label}</b><br>Metric: %{customdata[1]}<br>Parity loss: %{customdata[0]}<br><extra></extra>\", \"legendgroup\": \"TPR\", \"marker\": {\"color\": \"#8bdcbe\", \"line\": {\"width\": 0}}, \"name\": \"TPR\", \"offsetgroup\": \"TPR\", \"orientation\": \"h\", \"showlegend\": true, \"textposition\": \"auto\", \"type\": \"bar\", \"x\": [0.2131932204610416, 0.2556667430197698], \"xaxis\": \"x\", \"y\": [\"torch_before\", \"torch_after\"], \"yaxis\": \"y\"}, {\"alignmentgroup\": \"True\", \"customdata\": [[0.822, \"PPV\"], [0.7, \"PPV\"]], \"hovertemplate\": \"<b>%{label}</b><br>Metric: %{customdata[1]}<br>Parity loss: %{customdata[0]}<br><extra></extra>\", \"legendgroup\": \"PPV\", \"marker\": {\"color\": \"#f05a71\", \"line\": {\"width\": 0}}, \"name\": \"PPV\", \"offsetgroup\": \"PPV\", \"orientation\": \"h\", \"showlegend\": true, \"textposition\": \"auto\", \"type\": \"bar\", \"x\": [0.8220610492035846, 0.6996477451630387], \"xaxis\": \"x\", \"y\": [\"torch_before\", \"torch_after\"], \"yaxis\": \"y\"}, {\"alignmentgroup\": \"True\", \"customdata\": [[1.877, \"FPR\"], [1.619, \"FPR\"]], \"hovertemplate\": \"<b>%{label}</b><br>Metric: %{customdata[1]}<br>Parity loss: %{customdata[0]}<br><extra></extra>\", \"legendgroup\": \"FPR\", \"marker\": {\"color\": \"#4378bf\", \"line\": {\"width\": 0}}, \"name\": \"FPR\", \"offsetgroup\": \"FPR\", \"orientation\": \"h\", \"showlegend\": true, \"textposition\": \"auto\", \"type\": \"bar\", \"x\": [1.8771545536401835, 1.6186972378468971], \"xaxis\": \"x\", \"y\": [\"torch_before\", \"torch_after\"], \"yaxis\": \"y\"}, {\"alignmentgroup\": \"True\", \"customdata\": [[0.195, \"ACC\"], [0.135, \"ACC\"]], \"hovertemplate\": \"<b>%{label}</b><br>Metric: %{customdata[1]}<br>Parity loss: %{customdata[0]}<br><extra></extra>\", \"legendgroup\": \"ACC\", \"marker\": {\"color\": \"#ae2c87\", \"line\": {\"width\": 0}}, \"name\": \"ACC\", \"offsetgroup\": \"ACC\", \"orientation\": \"h\", \"showlegend\": true, \"textposition\": \"auto\", \"type\": \"bar\", \"x\": [0.19486877284604323, 0.1346007208319245], \"xaxis\": \"x\", \"y\": [\"torch_before\", \"torch_after\"], \"yaxis\": \"y\"}, {\"alignmentgroup\": \"True\", \"customdata\": [[0.088, \"STP\"], [0.076, \"STP\"]], \"hovertemplate\": \"<b>%{label}</b><br>Metric: %{customdata[1]}<br>Parity loss: %{customdata[0]}<br><extra></extra>\", \"legendgroup\": \"STP\", \"marker\": {\"color\": \"#ffa58c\", \"line\": {\"width\": 0}}, \"name\": \"STP\", \"offsetgroup\": \"STP\", \"orientation\": \"h\", \"showlegend\": true, \"textposition\": \"auto\", \"type\": \"bar\", \"x\": [0.08833746125768663, 0.07606971873676095], \"xaxis\": \"x\", \"y\": [\"torch_before\", \"torch_after\"], \"yaxis\": \"y\"}],                        {\"barmode\": \"relative\", \"font\": {\"color\": \"#371ea3\"}, \"legend\": {\"title\": {\"text\": \"metric\"}, \"tracegroupgap\": 0}, \"margin\": {\"b\": 71, \"r\": 30, \"t\": 78}, \"template\": {\"data\": {\"bar\": [{\"error_x\": {\"color\": \"#2a3f5f\"}, \"error_y\": {\"color\": \"#2a3f5f\"}, \"marker\": {\"line\": {\"color\": \"white\", \"width\": 0.5}}, \"type\": \"bar\"}], \"barpolar\": [{\"marker\": {\"line\": {\"color\": \"white\", \"width\": 0.5}}, \"type\": \"barpolar\"}], \"carpet\": [{\"aaxis\": {\"endlinecolor\": \"#2a3f5f\", \"gridcolor\": \"#C8D4E3\", \"linecolor\": \"#C8D4E3\", \"minorgridcolor\": \"#C8D4E3\", \"startlinecolor\": \"#2a3f5f\"}, \"baxis\": {\"endlinecolor\": \"#2a3f5f\", \"gridcolor\": \"#C8D4E3\", \"linecolor\": \"#C8D4E3\", \"minorgridcolor\": \"#C8D4E3\", \"startlinecolor\": \"#2a3f5f\"}, \"type\": \"carpet\"}], \"choropleth\": [{\"colorbar\": {\"outlinewidth\": 0, \"ticks\": \"\"}, \"type\": \"choropleth\"}], \"contour\": [{\"colorbar\": {\"outlinewidth\": 0, \"ticks\": \"\"}, \"colorscale\": [[0.0, \"#0d0887\"], [0.1111111111111111, \"#46039f\"], [0.2222222222222222, \"#7201a8\"], [0.3333333333333333, \"#9c179e\"], [0.4444444444444444, \"#bd3786\"], [0.5555555555555556, \"#d8576b\"], [0.6666666666666666, \"#ed7953\"], [0.7777777777777778, \"#fb9f3a\"], [0.8888888888888888, \"#fdca26\"], [1.0, \"#f0f921\"]], \"type\": \"contour\"}], \"contourcarpet\": [{\"colorbar\": {\"outlinewidth\": 0, \"ticks\": \"\"}, \"type\": \"contourcarpet\"}], \"heatmap\": [{\"colorbar\": {\"outlinewidth\": 0, \"ticks\": \"\"}, \"colorscale\": [[0.0, \"#0d0887\"], [0.1111111111111111, \"#46039f\"], [0.2222222222222222, \"#7201a8\"], [0.3333333333333333, \"#9c179e\"], [0.4444444444444444, \"#bd3786\"], [0.5555555555555556, \"#d8576b\"], [0.6666666666666666, \"#ed7953\"], [0.7777777777777778, \"#fb9f3a\"], [0.8888888888888888, \"#fdca26\"], [1.0, \"#f0f921\"]], \"type\": \"heatmap\"}], \"heatmapgl\": [{\"colorbar\": {\"outlinewidth\": 0, \"ticks\": \"\"}, \"colorscale\": [[0.0, \"#0d0887\"], [0.1111111111111111, \"#46039f\"], [0.2222222222222222, \"#7201a8\"], [0.3333333333333333, \"#9c179e\"], [0.4444444444444444, \"#bd3786\"], [0.5555555555555556, \"#d8576b\"], [0.6666666666666666, \"#ed7953\"], [0.7777777777777778, \"#fb9f3a\"], [0.8888888888888888, \"#fdca26\"], [1.0, \"#f0f921\"]], \"type\": \"heatmapgl\"}], \"histogram\": [{\"marker\": {\"colorbar\": {\"outlinewidth\": 0, \"ticks\": \"\"}}, \"type\": \"histogram\"}], \"histogram2d\": [{\"colorbar\": {\"outlinewidth\": 0, \"ticks\": \"\"}, \"colorscale\": [[0.0, \"#0d0887\"], [0.1111111111111111, \"#46039f\"], [0.2222222222222222, \"#7201a8\"], [0.3333333333333333, \"#9c179e\"], [0.4444444444444444, \"#bd3786\"], [0.5555555555555556, \"#d8576b\"], [0.6666666666666666, \"#ed7953\"], [0.7777777777777778, \"#fb9f3a\"], [0.8888888888888888, \"#fdca26\"], [1.0, \"#f0f921\"]], \"type\": \"histogram2d\"}], \"histogram2dcontour\": [{\"colorbar\": {\"outlinewidth\": 0, \"ticks\": \"\"}, \"colorscale\": [[0.0, \"#0d0887\"], [0.1111111111111111, \"#46039f\"], [0.2222222222222222, \"#7201a8\"], [0.3333333333333333, \"#9c179e\"], [0.4444444444444444, \"#bd3786\"], [0.5555555555555556, \"#d8576b\"], [0.6666666666666666, \"#ed7953\"], [0.7777777777777778, \"#fb9f3a\"], [0.8888888888888888, \"#fdca26\"], [1.0, \"#f0f921\"]], \"type\": \"histogram2dcontour\"}], \"mesh3d\": [{\"colorbar\": {\"outlinewidth\": 0, \"ticks\": \"\"}, \"type\": \"mesh3d\"}], \"parcoords\": [{\"line\": {\"colorbar\": {\"outlinewidth\": 0, \"ticks\": \"\"}}, \"type\": \"parcoords\"}], \"pie\": [{\"automargin\": true, \"type\": \"pie\"}], \"scatter\": [{\"marker\": {\"colorbar\": {\"outlinewidth\": 0, \"ticks\": \"\"}}, \"type\": \"scatter\"}], \"scatter3d\": [{\"line\": {\"colorbar\": {\"outlinewidth\": 0, \"ticks\": \"\"}}, \"marker\": {\"colorbar\": {\"outlinewidth\": 0, \"ticks\": \"\"}}, \"type\": \"scatter3d\"}], \"scattercarpet\": [{\"marker\": {\"colorbar\": {\"outlinewidth\": 0, \"ticks\": \"\"}}, \"type\": \"scattercarpet\"}], \"scattergeo\": [{\"marker\": {\"colorbar\": {\"outlinewidth\": 0, \"ticks\": \"\"}}, \"type\": \"scattergeo\"}], \"scattergl\": [{\"marker\": {\"colorbar\": {\"outlinewidth\": 0, \"ticks\": \"\"}}, \"type\": \"scattergl\"}], \"scattermapbox\": [{\"marker\": {\"colorbar\": {\"outlinewidth\": 0, \"ticks\": \"\"}}, \"type\": \"scattermapbox\"}], \"scatterpolar\": [{\"marker\": {\"colorbar\": {\"outlinewidth\": 0, \"ticks\": \"\"}}, \"type\": \"scatterpolar\"}], \"scatterpolargl\": [{\"marker\": {\"colorbar\": {\"outlinewidth\": 0, \"ticks\": \"\"}}, \"type\": \"scatterpolargl\"}], \"scatterternary\": [{\"marker\": {\"colorbar\": {\"outlinewidth\": 0, \"ticks\": \"\"}}, \"type\": \"scatterternary\"}], \"surface\": [{\"colorbar\": {\"outlinewidth\": 0, \"ticks\": \"\"}, \"colorscale\": [[0.0, \"#0d0887\"], [0.1111111111111111, \"#46039f\"], [0.2222222222222222, \"#7201a8\"], [0.3333333333333333, \"#9c179e\"], [0.4444444444444444, \"#bd3786\"], [0.5555555555555556, \"#d8576b\"], [0.6666666666666666, \"#ed7953\"], [0.7777777777777778, \"#fb9f3a\"], [0.8888888888888888, \"#fdca26\"], [1.0, \"#f0f921\"]], \"type\": \"surface\"}], \"table\": [{\"cells\": {\"fill\": {\"color\": \"#EBF0F8\"}, \"line\": {\"color\": \"white\"}}, \"header\": {\"fill\": {\"color\": \"#C8D4E3\"}, \"line\": {\"color\": \"white\"}}, \"type\": \"table\"}]}, \"layout\": {\"annotationdefaults\": {\"arrowcolor\": \"#2a3f5f\", \"arrowhead\": 0, \"arrowwidth\": 1}, \"autotypenumbers\": \"strict\", \"coloraxis\": {\"colorbar\": {\"outlinewidth\": 0, \"ticks\": \"\"}}, \"colorscale\": {\"diverging\": [[0, \"#8e0152\"], [0.1, \"#c51b7d\"], [0.2, \"#de77ae\"], [0.3, \"#f1b6da\"], [0.4, \"#fde0ef\"], [0.5, \"#f7f7f7\"], [0.6, \"#e6f5d0\"], [0.7, \"#b8e186\"], [0.8, \"#7fbc41\"], [0.9, \"#4d9221\"], [1, \"#276419\"]], \"sequential\": [[0.0, \"#0d0887\"], [0.1111111111111111, \"#46039f\"], [0.2222222222222222, \"#7201a8\"], [0.3333333333333333, \"#9c179e\"], [0.4444444444444444, \"#bd3786\"], [0.5555555555555556, \"#d8576b\"], [0.6666666666666666, \"#ed7953\"], [0.7777777777777778, \"#fb9f3a\"], [0.8888888888888888, \"#fdca26\"], [1.0, \"#f0f921\"]], \"sequentialminus\": [[0.0, \"#0d0887\"], [0.1111111111111111, \"#46039f\"], [0.2222222222222222, \"#7201a8\"], [0.3333333333333333, \"#9c179e\"], [0.4444444444444444, \"#bd3786\"], [0.5555555555555556, \"#d8576b\"], [0.6666666666666666, \"#ed7953\"], [0.7777777777777778, \"#fb9f3a\"], [0.8888888888888888, \"#fdca26\"], [1.0, \"#f0f921\"]]}, \"colorway\": [\"#636efa\", \"#EF553B\", \"#00cc96\", \"#ab63fa\", \"#FFA15A\", \"#19d3f3\", \"#FF6692\", \"#B6E880\", \"#FF97FF\", \"#FECB52\"], \"font\": {\"color\": \"#2a3f5f\"}, \"geo\": {\"bgcolor\": \"white\", \"lakecolor\": \"white\", \"landcolor\": \"white\", \"showlakes\": true, \"showland\": true, \"subunitcolor\": \"#C8D4E3\"}, \"hoverlabel\": {\"align\": \"left\"}, \"hovermode\": \"closest\", \"mapbox\": {\"style\": \"light\"}, \"paper_bgcolor\": \"white\", \"plot_bgcolor\": \"white\", \"polar\": {\"angularaxis\": {\"gridcolor\": \"#EBF0F8\", \"linecolor\": \"#EBF0F8\", \"ticks\": \"\"}, \"bgcolor\": \"white\", \"radialaxis\": {\"gridcolor\": \"#EBF0F8\", \"linecolor\": \"#EBF0F8\", \"ticks\": \"\"}}, \"scene\": {\"xaxis\": {\"backgroundcolor\": \"white\", \"gridcolor\": \"#DFE8F3\", \"gridwidth\": 2, \"linecolor\": \"#EBF0F8\", \"showbackground\": true, \"ticks\": \"\", \"zerolinecolor\": \"#EBF0F8\"}, \"yaxis\": {\"backgroundcolor\": \"white\", \"gridcolor\": \"#DFE8F3\", \"gridwidth\": 2, \"linecolor\": \"#EBF0F8\", \"showbackground\": true, \"ticks\": \"\", \"zerolinecolor\": \"#EBF0F8\"}, \"zaxis\": {\"backgroundcolor\": \"white\", \"gridcolor\": \"#DFE8F3\", \"gridwidth\": 2, \"linecolor\": \"#EBF0F8\", \"showbackground\": true, \"ticks\": \"\", \"zerolinecolor\": \"#EBF0F8\"}}, \"shapedefaults\": {\"line\": {\"color\": \"#2a3f5f\"}}, \"ternary\": {\"aaxis\": {\"gridcolor\": \"#DFE8F3\", \"linecolor\": \"#A2B1C6\", \"ticks\": \"\"}, \"baxis\": {\"gridcolor\": \"#DFE8F3\", \"linecolor\": \"#A2B1C6\", \"ticks\": \"\"}, \"bgcolor\": \"white\", \"caxis\": {\"gridcolor\": \"#DFE8F3\", \"linecolor\": \"#A2B1C6\", \"ticks\": \"\"}}, \"title\": {\"x\": 0.05}, \"xaxis\": {\"automargin\": true, \"gridcolor\": \"#EBF0F8\", \"linecolor\": \"#EBF0F8\", \"ticks\": \"\", \"title\": {\"standoff\": 15}, \"zerolinecolor\": \"#EBF0F8\", \"zerolinewidth\": 2}, \"yaxis\": {\"automargin\": true, \"gridcolor\": \"#EBF0F8\", \"linecolor\": \"#EBF0F8\", \"ticks\": \"\", \"title\": {\"standoff\": 15}, \"zerolinecolor\": \"#EBF0F8\", \"zerolinewidth\": 2}}}, \"title\": {\"font\": {\"size\": 25}, \"text\": \"Stacked Parity Loss Metrics\", \"x\": 0.5, \"y\": 0.99}, \"xaxis\": {\"anchor\": \"y\", \"domain\": [0.0, 1.0], \"title\": {\"text\": \"cumulated parity loss\"}}, \"yaxis\": {\"anchor\": \"x\", \"domain\": [0.0, 1.0], \"showgrid\": false, \"title\": {\"text\": \"label\"}, \"zeroline\": false}},                        {\"displaylogo\": false, \"staticPlot\": false, \"toImageButtonOptions\": {\"height\": null, \"width\": null}, \"modeBarButtonsToRemove\": [\"sendDataToCloud\", \"lasso2d\", \"autoScale2d\", \"select2d\", \"zoom2d\", \"pan2d\", \"zoomIn2d\", \"zoomOut2d\", \"resetScale2d\", \"toggleSpikelines\", \"hoverCompareCartesian\", \"hoverClosestCartesian\"], \"responsive\": true}                    ).then(function(){\n",
       "                            \n",
       "var gd = document.getElementById('a7349aa7-517a-4099-bf6d-08e82bf2fbc8');\n",
       "var x = new MutationObserver(function (mutations, observer) {{\n",
       "        var display = window.getComputedStyle(gd).display;\n",
       "        if (!display || display === 'none') {{\n",
       "            console.log([gd, 'removed!']);\n",
       "            Plotly.purge(gd);\n",
       "            observer.disconnect();\n",
       "        }}\n",
       "}});\n",
       "\n",
       "// Listen for the removal of the full notebook cells\n",
       "var notebookContainer = gd.closest('#notebook-container');\n",
       "if (notebookContainer) {{\n",
       "    x.observe(notebookContainer, {childList: true});\n",
       "}}\n",
       "\n",
       "// Listen for the clearing of the current output cell\n",
       "var outputEl = gd.closest('.output');\n",
       "if (outputEl) {{\n",
       "    x.observe(outputEl, {childList: true});\n",
       "}}\n",
       "\n",
       "                        })                };                });            </script>        </div>"
      ]
     },
     "metadata": {},
     "output_type": "display_data"
    }
   ],
   "source": [
    "fobject.plot(fobject2, type = 'stacked')"
   ]
  },
  {
   "cell_type": "code",
   "execution_count": 39,
   "metadata": {
    "pycharm": {
     "is_executing": true
    }
   },
   "outputs": [
    {
     "data": {
      "text/html": [
       "<div>\n",
       "<style scoped>\n",
       "    .dataframe tbody tr th:only-of-type {\n",
       "        vertical-align: middle;\n",
       "    }\n",
       "\n",
       "    .dataframe tbody tr th {\n",
       "        vertical-align: top;\n",
       "    }\n",
       "\n",
       "    .dataframe thead th {\n",
       "        text-align: right;\n",
       "    }\n",
       "</style>\n",
       "<table border=\"1\" class=\"dataframe\">\n",
       "  <thead>\n",
       "    <tr style=\"text-align: right;\">\n",
       "      <th></th>\n",
       "      <th>TPR</th>\n",
       "      <th>TNR</th>\n",
       "      <th>PPV</th>\n",
       "      <th>NPV</th>\n",
       "      <th>FNR</th>\n",
       "      <th>FPR</th>\n",
       "      <th>FDR</th>\n",
       "      <th>FOR</th>\n",
       "      <th>ACC</th>\n",
       "      <th>STP</th>\n",
       "    </tr>\n",
       "  </thead>\n",
       "  <tbody>\n",
       "    <tr>\n",
       "      <th>china</th>\n",
       "      <td>1.000</td>\n",
       "      <td>1.000000</td>\n",
       "      <td>1.000000</td>\n",
       "      <td>1.000000</td>\n",
       "      <td>1.00</td>\n",
       "      <td>1.000000</td>\n",
       "      <td>1.000000</td>\n",
       "      <td>1.000000</td>\n",
       "      <td>1.000000</td>\n",
       "      <td>1.000000</td>\n",
       "    </tr>\n",
       "    <tr>\n",
       "      <th>other</th>\n",
       "      <td>0.808</td>\n",
       "      <td>0.751306</td>\n",
       "      <td>0.439525</td>\n",
       "      <td>1.061662</td>\n",
       "      <td>1.32</td>\n",
       "      <td>6.534884</td>\n",
       "      <td>8.013514</td>\n",
       "      <td>0.818898</td>\n",
       "      <td>0.822943</td>\n",
       "      <td>1.092357</td>\n",
       "    </tr>\n",
       "  </tbody>\n",
       "</table>\n",
       "</div>"
      ],
      "text/plain": [
       "         TPR       TNR       PPV       NPV   FNR       FPR       FDR  \\\n",
       "china  1.000  1.000000  1.000000  1.000000  1.00  1.000000  1.000000   \n",
       "other  0.808  0.751306  0.439525  1.061662  1.32  6.534884  8.013514   \n",
       "\n",
       "            FOR       ACC       STP  \n",
       "china  1.000000  1.000000  1.000000  \n",
       "other  0.818898  0.822943  1.092357  "
      ]
     },
     "execution_count": 39,
     "metadata": {},
     "output_type": "execute_result"
    }
   ],
   "source": [
    "fobject.result"
   ]
  },
  {
   "cell_type": "code",
   "execution_count": null,
   "metadata": {
    "pycharm": {
     "is_executing": true
    }
   },
   "outputs": [],
   "source": []
  }
 ],
 "metadata": {
  "kernelspec": {
   "display_name": "Python 3",
   "language": "python",
   "name": "python3"
  },
  "language_info": {
   "codemirror_mode": {
    "name": "ipython",
    "version": 3
   },
   "file_extension": ".py",
   "mimetype": "text/x-python",
   "name": "python",
   "nbconvert_exporter": "python",
   "pygments_lexer": "ipython3",
   "version": "3.6.13"
  }
 },
 "nbformat": 4,
 "nbformat_minor": 4
}