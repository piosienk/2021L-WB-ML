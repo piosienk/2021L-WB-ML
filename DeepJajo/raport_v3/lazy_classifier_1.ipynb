{
 "cells": [
  {
   "cell_type": "code",
   "execution_count": 1,
   "metadata": {},
   "outputs": [
    {
     "name": "stderr",
     "output_type": "stream",
     "text": [
      "/home/hania/anaconda3/lib/python3.8/site-packages/sklearn/utils/deprecation.py:143: FutureWarning: The sklearn.utils.testing module is  deprecated in version 0.22 and will be removed in version 0.24. The corresponding classes / functions should instead be imported from sklearn.utils. Anything that cannot be imported from sklearn.utils is now part of the private API.\n",
      "  warnings.warn(message, FutureWarning)\n"
     ]
    }
   ],
   "source": [
    "import pandas as pd \n",
    "import numpy as np\n",
    "from sklearn.model_selection import train_test_split\n",
    "import lazypredict\n",
    "from lazypredict.Supervised import LazyClassifier\n",
    "from copy import deepcopy\n",
    "from sklearn.metrics import roc_auc_score"
   ]
  },
  {
   "cell_type": "markdown",
   "metadata": {},
   "source": [
    "### The Netherlands"
   ]
  },
  {
   "cell_type": "code",
   "execution_count": 2,
   "metadata": {},
   "outputs": [],
   "source": [
    "netherlands = pd.read_excel('../data/42256_2020_253_MOESM1_ESM.xlsx', engine = 'openpyxl')\n",
    "\n",
    "df = netherlands[[\"LD\", \"CRP\", \"Percentage lymphocytes\", \"Survival/death\"]]\n",
    "df = df.assign(death = np.where(df[\"Survival/death\"] == 'Alive', 0, 1))\n",
    "netherlands = df\n",
    "netherlands['from'] = 'netherlands'\n",
    "netherlands = netherlands.rename(columns = { 'Percentage lymphocytes':'Lymphocytes', 'LD':'LDH'})\n",
    "netherlands = netherlands[[\"LDH\", \"CRP\", \"Lymphocytes\", \"death\", \"from\"]]"
   ]
  },
  {
   "cell_type": "markdown",
   "metadata": {},
   "source": [
    "### China"
   ]
  },
  {
   "cell_type": "code",
   "execution_count": 3,
   "metadata": {},
   "outputs": [],
   "source": [
    "import sys\n",
    "sys.path.append(\"..\")\n",
    "china = pd.read_excel('../data/time_series_375_prerpocess_en.xlsx', engine = 'openpyxl')\n",
    "\n",
    "from raport_v1.utils_features_selection import data_read_and_split\n",
    "X_data_all_features, Y_data, x_col = data_read_and_split()\n",
    "cheng = {'乳酸脱氢酶':'LDH', '超敏C反应蛋白':'CRP', '淋巴细胞(%)':'Lymphocytes'}\n",
    "blood_df = X_data_all_features[list(cheng.keys())]\n",
    "blood_df.columns = list(cheng.values())\n",
    "china = blood_df\n",
    "china['death'] = Y_data\n",
    "china['from'] = 'china'\n",
    "china = china.reset_index(drop = True)"
   ]
  },
  {
   "cell_type": "markdown",
   "metadata": {},
   "source": [
    "### NY"
   ]
  },
  {
   "cell_type": "code",
   "execution_count": 7,
   "metadata": {},
   "outputs": [],
   "source": [
    "ny = pd.read_csv('~/Downloads/Yan_reply_First_last_wtime.csv')\n",
    "#ny = pd.read_csv('../data/Yan_reply_First_last_wtime.csv')\n",
    "y_ny = ny.iloc[:,1]\n",
    "newyork = ny.iloc[:,[5,6,7]]\n",
    "newyork['death'] = y_ny\n",
    "newyork['from'] = 'newyork'\n",
    "newyork.columns = ['LDH', 'CRP', 'Lymphocytes', 'death', 'from']"
   ]
  },
  {
   "cell_type": "markdown",
   "metadata": {},
   "source": [
    "## Combining together"
   ]
  },
  {
   "cell_type": "code",
   "execution_count": 8,
   "metadata": {},
   "outputs": [],
   "source": [
    "nations = china.append([newyork, netherlands])\n",
    "nations['death'] = nations.death.astype('int')\n",
    "nations = nations.reset_index(drop=True)\n",
    "# nations.to_csv(\"all.csv\")"
   ]
  },
  {
   "cell_type": "code",
   "execution_count": 9,
   "metadata": {},
   "outputs": [
    {
     "data": {
      "text/html": [
       "<div>\n",
       "<style scoped>\n",
       "    .dataframe tbody tr th:only-of-type {\n",
       "        vertical-align: middle;\n",
       "    }\n",
       "\n",
       "    .dataframe tbody tr th {\n",
       "        vertical-align: top;\n",
       "    }\n",
       "\n",
       "    .dataframe thead th {\n",
       "        text-align: right;\n",
       "    }\n",
       "</style>\n",
       "<table border=\"1\" class=\"dataframe\">\n",
       "  <thead>\n",
       "    <tr style=\"text-align: right;\">\n",
       "      <th></th>\n",
       "      <th>LDH</th>\n",
       "      <th>CRP</th>\n",
       "      <th>Lymphocytes</th>\n",
       "      <th>death</th>\n",
       "      <th>from</th>\n",
       "    </tr>\n",
       "  </thead>\n",
       "  <tbody>\n",
       "    <tr>\n",
       "      <th>0</th>\n",
       "      <td>206.00</td>\n",
       "      <td>2.60</td>\n",
       "      <td>25.90</td>\n",
       "      <td>0</td>\n",
       "      <td>china</td>\n",
       "    </tr>\n",
       "    <tr>\n",
       "      <th>1</th>\n",
       "      <td>282.00</td>\n",
       "      <td>27.40</td>\n",
       "      <td>9.20</td>\n",
       "      <td>0</td>\n",
       "      <td>china</td>\n",
       "    </tr>\n",
       "    <tr>\n",
       "      <th>2</th>\n",
       "      <td>226.00</td>\n",
       "      <td>3.60</td>\n",
       "      <td>27.30</td>\n",
       "      <td>0</td>\n",
       "      <td>china</td>\n",
       "    </tr>\n",
       "  </tbody>\n",
       "</table>\n",
       "</div>"
      ],
      "text/plain": [
       "     LDH   CRP  Lymphocytes  death   from\n",
       "0 206.00  2.60        25.90      0  china\n",
       "1 282.00 27.40         9.20      0  china\n",
       "2 226.00  3.60        27.30      0  china"
      ]
     },
     "execution_count": 9,
     "metadata": {},
     "output_type": "execute_result"
    }
   ],
   "source": [
    "nations.head(3)"
   ]
  },
  {
   "cell_type": "markdown",
   "metadata": {},
   "source": [
    "### Lazypredict without country of origin"
   ]
  },
  {
   "cell_type": "code",
   "execution_count": 23,
   "metadata": {
    "scrolled": true
   },
   "outputs": [
    {
     "name": "stderr",
     "output_type": "stream",
     "text": [
      "100%|██████████| 29/29 [00:03<00:00,  8.28it/s]\n"
     ]
    }
   ],
   "source": [
    "# nations = pd.read_csv('all.csv')\n",
    "X = nations[['LDH','CRP','Lymphocytes']]\n",
    "X_train, X_test, y_train, y_test = train_test_split(X, nations.death, test_size = 0.25, random_state = 42)\n",
    "\n",
    "clf = LazyClassifier(verbose=0,ignore_warnings=True, custom_metric=None)\n",
    "models,predictions = clf.fit(X_train, X_test, y_train, y_test)\n",
    "models.to_csv(\"LazyClassifier_results.csv\", float_format='%.3f')\n",
    "\n",
    "#print(models)"
   ]
  },
  {
   "cell_type": "code",
   "execution_count": 24,
   "metadata": {
    "scrolled": false
   },
   "outputs": [
    {
     "data": {
      "text/html": [
       "<div>\n",
       "<style scoped>\n",
       "    .dataframe tbody tr th:only-of-type {\n",
       "        vertical-align: middle;\n",
       "    }\n",
       "\n",
       "    .dataframe tbody tr th {\n",
       "        vertical-align: top;\n",
       "    }\n",
       "\n",
       "    .dataframe thead th {\n",
       "        text-align: right;\n",
       "    }\n",
       "</style>\n",
       "<table border=\"1\" class=\"dataframe\">\n",
       "  <thead>\n",
       "    <tr style=\"text-align: right;\">\n",
       "      <th></th>\n",
       "      <th>Accuracy</th>\n",
       "      <th>Balanced Accuracy</th>\n",
       "      <th>ROC AUC</th>\n",
       "      <th>F1 Score</th>\n",
       "      <th>Time Taken</th>\n",
       "    </tr>\n",
       "    <tr>\n",
       "      <th>Model</th>\n",
       "      <th></th>\n",
       "      <th></th>\n",
       "      <th></th>\n",
       "      <th></th>\n",
       "      <th></th>\n",
       "    </tr>\n",
       "  </thead>\n",
       "  <tbody>\n",
       "    <tr>\n",
       "      <th>ExtraTreesClassifier</th>\n",
       "      <td>0.74</td>\n",
       "      <td>0.70</td>\n",
       "      <td>0.70</td>\n",
       "      <td>0.73</td>\n",
       "      <td>0.26</td>\n",
       "    </tr>\n",
       "    <tr>\n",
       "      <th>AdaBoostClassifier</th>\n",
       "      <td>0.74</td>\n",
       "      <td>0.69</td>\n",
       "      <td>0.69</td>\n",
       "      <td>0.73</td>\n",
       "      <td>0.19</td>\n",
       "    </tr>\n",
       "    <tr>\n",
       "      <th>NearestCentroid</th>\n",
       "      <td>0.69</td>\n",
       "      <td>0.69</td>\n",
       "      <td>0.69</td>\n",
       "      <td>0.70</td>\n",
       "      <td>0.02</td>\n",
       "    </tr>\n",
       "    <tr>\n",
       "      <th>KNeighborsClassifier</th>\n",
       "      <td>0.72</td>\n",
       "      <td>0.68</td>\n",
       "      <td>0.68</td>\n",
       "      <td>0.72</td>\n",
       "      <td>0.04</td>\n",
       "    </tr>\n",
       "    <tr>\n",
       "      <th>LabelPropagation</th>\n",
       "      <td>0.71</td>\n",
       "      <td>0.67</td>\n",
       "      <td>0.67</td>\n",
       "      <td>0.71</td>\n",
       "      <td>0.20</td>\n",
       "    </tr>\n",
       "    <tr>\n",
       "      <th>RandomForestClassifier</th>\n",
       "      <td>0.72</td>\n",
       "      <td>0.67</td>\n",
       "      <td>0.67</td>\n",
       "      <td>0.71</td>\n",
       "      <td>0.33</td>\n",
       "    </tr>\n",
       "    <tr>\n",
       "      <th>NuSVC</th>\n",
       "      <td>0.71</td>\n",
       "      <td>0.67</td>\n",
       "      <td>0.67</td>\n",
       "      <td>0.71</td>\n",
       "      <td>0.18</td>\n",
       "    </tr>\n",
       "    <tr>\n",
       "      <th>LogisticRegression</th>\n",
       "      <td>0.73</td>\n",
       "      <td>0.67</td>\n",
       "      <td>0.67</td>\n",
       "      <td>0.71</td>\n",
       "      <td>0.03</td>\n",
       "    </tr>\n",
       "    <tr>\n",
       "      <th>LabelSpreading</th>\n",
       "      <td>0.71</td>\n",
       "      <td>0.66</td>\n",
       "      <td>0.66</td>\n",
       "      <td>0.70</td>\n",
       "      <td>0.26</td>\n",
       "    </tr>\n",
       "    <tr>\n",
       "      <th>LGBMClassifier</th>\n",
       "      <td>0.70</td>\n",
       "      <td>0.66</td>\n",
       "      <td>0.66</td>\n",
       "      <td>0.70</td>\n",
       "      <td>0.97</td>\n",
       "    </tr>\n",
       "    <tr>\n",
       "      <th>SVC</th>\n",
       "      <td>0.72</td>\n",
       "      <td>0.66</td>\n",
       "      <td>0.66</td>\n",
       "      <td>0.70</td>\n",
       "      <td>0.06</td>\n",
       "    </tr>\n",
       "    <tr>\n",
       "      <th>GaussianNB</th>\n",
       "      <td>0.69</td>\n",
       "      <td>0.65</td>\n",
       "      <td>0.65</td>\n",
       "      <td>0.69</td>\n",
       "      <td>0.02</td>\n",
       "    </tr>\n",
       "    <tr>\n",
       "      <th>CalibratedClassifierCV</th>\n",
       "      <td>0.72</td>\n",
       "      <td>0.65</td>\n",
       "      <td>0.65</td>\n",
       "      <td>0.70</td>\n",
       "      <td>0.23</td>\n",
       "    </tr>\n",
       "    <tr>\n",
       "      <th>LinearSVC</th>\n",
       "      <td>0.72</td>\n",
       "      <td>0.65</td>\n",
       "      <td>0.65</td>\n",
       "      <td>0.70</td>\n",
       "      <td>0.13</td>\n",
       "    </tr>\n",
       "    <tr>\n",
       "      <th>BaggingClassifier</th>\n",
       "      <td>0.70</td>\n",
       "      <td>0.65</td>\n",
       "      <td>0.65</td>\n",
       "      <td>0.69</td>\n",
       "      <td>0.08</td>\n",
       "    </tr>\n",
       "    <tr>\n",
       "      <th>BernoulliNB</th>\n",
       "      <td>0.69</td>\n",
       "      <td>0.65</td>\n",
       "      <td>0.65</td>\n",
       "      <td>0.69</td>\n",
       "      <td>0.02</td>\n",
       "    </tr>\n",
       "    <tr>\n",
       "      <th>XGBClassifier</th>\n",
       "      <td>0.68</td>\n",
       "      <td>0.64</td>\n",
       "      <td>0.64</td>\n",
       "      <td>0.68</td>\n",
       "      <td>0.25</td>\n",
       "    </tr>\n",
       "    <tr>\n",
       "      <th>DecisionTreeClassifier</th>\n",
       "      <td>0.67</td>\n",
       "      <td>0.64</td>\n",
       "      <td>0.64</td>\n",
       "      <td>0.67</td>\n",
       "      <td>0.02</td>\n",
       "    </tr>\n",
       "    <tr>\n",
       "      <th>LinearDiscriminantAnalysis</th>\n",
       "      <td>0.71</td>\n",
       "      <td>0.64</td>\n",
       "      <td>0.64</td>\n",
       "      <td>0.69</td>\n",
       "      <td>0.04</td>\n",
       "    </tr>\n",
       "    <tr>\n",
       "      <th>RidgeClassifier</th>\n",
       "      <td>0.72</td>\n",
       "      <td>0.64</td>\n",
       "      <td>0.64</td>\n",
       "      <td>0.69</td>\n",
       "      <td>0.02</td>\n",
       "    </tr>\n",
       "    <tr>\n",
       "      <th>RidgeClassifierCV</th>\n",
       "      <td>0.72</td>\n",
       "      <td>0.64</td>\n",
       "      <td>0.64</td>\n",
       "      <td>0.69</td>\n",
       "      <td>0.02</td>\n",
       "    </tr>\n",
       "    <tr>\n",
       "      <th>SGDClassifier</th>\n",
       "      <td>0.70</td>\n",
       "      <td>0.63</td>\n",
       "      <td>0.63</td>\n",
       "      <td>0.68</td>\n",
       "      <td>0.02</td>\n",
       "    </tr>\n",
       "    <tr>\n",
       "      <th>QuadraticDiscriminantAnalysis</th>\n",
       "      <td>0.68</td>\n",
       "      <td>0.63</td>\n",
       "      <td>0.63</td>\n",
       "      <td>0.67</td>\n",
       "      <td>0.02</td>\n",
       "    </tr>\n",
       "    <tr>\n",
       "      <th>ExtraTreeClassifier</th>\n",
       "      <td>0.64</td>\n",
       "      <td>0.61</td>\n",
       "      <td>0.61</td>\n",
       "      <td>0.64</td>\n",
       "      <td>0.02</td>\n",
       "    </tr>\n",
       "    <tr>\n",
       "      <th>PassiveAggressiveClassifier</th>\n",
       "      <td>0.68</td>\n",
       "      <td>0.60</td>\n",
       "      <td>0.60</td>\n",
       "      <td>0.65</td>\n",
       "      <td>0.02</td>\n",
       "    </tr>\n",
       "    <tr>\n",
       "      <th>Perceptron</th>\n",
       "      <td>0.44</td>\n",
       "      <td>0.54</td>\n",
       "      <td>0.54</td>\n",
       "      <td>0.39</td>\n",
       "      <td>0.02</td>\n",
       "    </tr>\n",
       "    <tr>\n",
       "      <th>DummyClassifier</th>\n",
       "      <td>0.52</td>\n",
       "      <td>0.47</td>\n",
       "      <td>0.47</td>\n",
       "      <td>0.52</td>\n",
       "      <td>0.02</td>\n",
       "    </tr>\n",
       "  </tbody>\n",
       "</table>\n",
       "</div>"
      ],
      "text/plain": [
       "                               Accuracy  Balanced Accuracy  ROC AUC  F1 Score  \\\n",
       "Model                                                                           \n",
       "ExtraTreesClassifier               0.74               0.70     0.70      0.73   \n",
       "AdaBoostClassifier                 0.74               0.69     0.69      0.73   \n",
       "NearestCentroid                    0.69               0.69     0.69      0.70   \n",
       "KNeighborsClassifier               0.72               0.68     0.68      0.72   \n",
       "LabelPropagation                   0.71               0.67     0.67      0.71   \n",
       "RandomForestClassifier             0.72               0.67     0.67      0.71   \n",
       "NuSVC                              0.71               0.67     0.67      0.71   \n",
       "LogisticRegression                 0.73               0.67     0.67      0.71   \n",
       "LabelSpreading                     0.71               0.66     0.66      0.70   \n",
       "LGBMClassifier                     0.70               0.66     0.66      0.70   \n",
       "SVC                                0.72               0.66     0.66      0.70   \n",
       "GaussianNB                         0.69               0.65     0.65      0.69   \n",
       "CalibratedClassifierCV             0.72               0.65     0.65      0.70   \n",
       "LinearSVC                          0.72               0.65     0.65      0.70   \n",
       "BaggingClassifier                  0.70               0.65     0.65      0.69   \n",
       "BernoulliNB                        0.69               0.65     0.65      0.69   \n",
       "XGBClassifier                      0.68               0.64     0.64      0.68   \n",
       "DecisionTreeClassifier             0.67               0.64     0.64      0.67   \n",
       "LinearDiscriminantAnalysis         0.71               0.64     0.64      0.69   \n",
       "RidgeClassifier                    0.72               0.64     0.64      0.69   \n",
       "RidgeClassifierCV                  0.72               0.64     0.64      0.69   \n",
       "SGDClassifier                      0.70               0.63     0.63      0.68   \n",
       "QuadraticDiscriminantAnalysis      0.68               0.63     0.63      0.67   \n",
       "ExtraTreeClassifier                0.64               0.61     0.61      0.64   \n",
       "PassiveAggressiveClassifier        0.68               0.60     0.60      0.65   \n",
       "Perceptron                         0.44               0.54     0.54      0.39   \n",
       "DummyClassifier                    0.52               0.47     0.47      0.52   \n",
       "\n",
       "                               Time Taken  \n",
       "Model                                      \n",
       "ExtraTreesClassifier                 0.26  \n",
       "AdaBoostClassifier                   0.19  \n",
       "NearestCentroid                      0.02  \n",
       "KNeighborsClassifier                 0.04  \n",
       "LabelPropagation                     0.20  \n",
       "RandomForestClassifier               0.33  \n",
       "NuSVC                                0.18  \n",
       "LogisticRegression                   0.03  \n",
       "LabelSpreading                       0.26  \n",
       "LGBMClassifier                       0.97  \n",
       "SVC                                  0.06  \n",
       "GaussianNB                           0.02  \n",
       "CalibratedClassifierCV               0.23  \n",
       "LinearSVC                            0.13  \n",
       "BaggingClassifier                    0.08  \n",
       "BernoulliNB                          0.02  \n",
       "XGBClassifier                        0.25  \n",
       "DecisionTreeClassifier               0.02  \n",
       "LinearDiscriminantAnalysis           0.04  \n",
       "RidgeClassifier                      0.02  \n",
       "RidgeClassifierCV                    0.02  \n",
       "SGDClassifier                        0.02  \n",
       "QuadraticDiscriminantAnalysis        0.02  \n",
       "ExtraTreeClassifier                  0.02  \n",
       "PassiveAggressiveClassifier          0.02  \n",
       "Perceptron                           0.02  \n",
       "DummyClassifier                      0.02  "
      ]
     },
     "execution_count": 24,
     "metadata": {},
     "output_type": "execute_result"
    }
   ],
   "source": [
    "models.sort_values(\"ROC AUC\", ascending = False)"
   ]
  },
  {
   "cell_type": "markdown",
   "metadata": {},
   "source": [
    "### Lazypredict with country of origin"
   ]
  },
  {
   "cell_type": "code",
   "execution_count": 71,
   "metadata": {
    "scrolled": false
   },
   "outputs": [
    {
     "name": "stderr",
     "output_type": "stream",
     "text": [
      "100%|██████████| 29/29 [00:03<00:00,  9.59it/s]\n"
     ]
    }
   ],
   "source": [
    "# nations = pd.read_csv('all.csv')\n",
    "X = nations[['LDH','CRP','Lymphocytes', \"from\"]]\n",
    "X_train, X_test, y_train, y_test = train_test_split(X, nations.death, test_size = 0.25, random_state = 42)\n",
    "\n",
    "clf_2 = LazyClassifier(verbose=0,ignore_warnings=True, custom_metric=None, random_state=6)\n",
    "models_2,predictions_2 = clf_2.fit(X_train, X_test, y_train, y_test)\n",
    "models_2.sort_values(\"ROC AUC\", ascending = False)\n",
    "models_2.to_csv(\"LazyClassifier_results_nations.csv\", float_format='%.3f')"
   ]
  },
  {
   "cell_type": "code",
   "execution_count": 72,
   "metadata": {
    "scrolled": false
   },
   "outputs": [
    {
     "data": {
      "text/html": [
       "<div>\n",
       "<style scoped>\n",
       "    .dataframe tbody tr th:only-of-type {\n",
       "        vertical-align: middle;\n",
       "    }\n",
       "\n",
       "    .dataframe tbody tr th {\n",
       "        vertical-align: top;\n",
       "    }\n",
       "\n",
       "    .dataframe thead th {\n",
       "        text-align: right;\n",
       "    }\n",
       "</style>\n",
       "<table border=\"1\" class=\"dataframe\">\n",
       "  <thead>\n",
       "    <tr style=\"text-align: right;\">\n",
       "      <th></th>\n",
       "      <th>Accuracy</th>\n",
       "      <th>Balanced Accuracy</th>\n",
       "      <th>ROC AUC</th>\n",
       "      <th>F1 Score</th>\n",
       "      <th>Time Taken</th>\n",
       "    </tr>\n",
       "    <tr>\n",
       "      <th>Model</th>\n",
       "      <th></th>\n",
       "      <th></th>\n",
       "      <th></th>\n",
       "      <th></th>\n",
       "      <th></th>\n",
       "    </tr>\n",
       "  </thead>\n",
       "  <tbody>\n",
       "    <tr>\n",
       "      <th>RandomForestClassifier</th>\n",
       "      <td>0.77</td>\n",
       "      <td>0.73</td>\n",
       "      <td>0.73</td>\n",
       "      <td>0.77</td>\n",
       "      <td>0.35</td>\n",
       "    </tr>\n",
       "    <tr>\n",
       "      <th>ExtraTreesClassifier</th>\n",
       "      <td>0.76</td>\n",
       "      <td>0.72</td>\n",
       "      <td>0.72</td>\n",
       "      <td>0.75</td>\n",
       "      <td>0.22</td>\n",
       "    </tr>\n",
       "    <tr>\n",
       "      <th>AdaBoostClassifier</th>\n",
       "      <td>0.76</td>\n",
       "      <td>0.71</td>\n",
       "      <td>0.71</td>\n",
       "      <td>0.75</td>\n",
       "      <td>0.15</td>\n",
       "    </tr>\n",
       "    <tr>\n",
       "      <th>GaussianNB</th>\n",
       "      <td>0.72</td>\n",
       "      <td>0.71</td>\n",
       "      <td>0.71</td>\n",
       "      <td>0.72</td>\n",
       "      <td>0.03</td>\n",
       "    </tr>\n",
       "    <tr>\n",
       "      <th>LabelPropagation</th>\n",
       "      <td>0.74</td>\n",
       "      <td>0.71</td>\n",
       "      <td>0.71</td>\n",
       "      <td>0.74</td>\n",
       "      <td>0.14</td>\n",
       "    </tr>\n",
       "    <tr>\n",
       "      <th>KNeighborsClassifier</th>\n",
       "      <td>0.74</td>\n",
       "      <td>0.70</td>\n",
       "      <td>0.70</td>\n",
       "      <td>0.74</td>\n",
       "      <td>0.04</td>\n",
       "    </tr>\n",
       "    <tr>\n",
       "      <th>LGBMClassifier</th>\n",
       "      <td>0.75</td>\n",
       "      <td>0.70</td>\n",
       "      <td>0.70</td>\n",
       "      <td>0.74</td>\n",
       "      <td>0.55</td>\n",
       "    </tr>\n",
       "    <tr>\n",
       "      <th>LogisticRegression</th>\n",
       "      <td>0.76</td>\n",
       "      <td>0.70</td>\n",
       "      <td>0.70</td>\n",
       "      <td>0.75</td>\n",
       "      <td>0.04</td>\n",
       "    </tr>\n",
       "    <tr>\n",
       "      <th>CalibratedClassifierCV</th>\n",
       "      <td>0.76</td>\n",
       "      <td>0.70</td>\n",
       "      <td>0.70</td>\n",
       "      <td>0.75</td>\n",
       "      <td>0.23</td>\n",
       "    </tr>\n",
       "    <tr>\n",
       "      <th>NuSVC</th>\n",
       "      <td>0.77</td>\n",
       "      <td>0.70</td>\n",
       "      <td>0.70</td>\n",
       "      <td>0.75</td>\n",
       "      <td>0.09</td>\n",
       "    </tr>\n",
       "    <tr>\n",
       "      <th>LabelSpreading</th>\n",
       "      <td>0.74</td>\n",
       "      <td>0.70</td>\n",
       "      <td>0.70</td>\n",
       "      <td>0.73</td>\n",
       "      <td>0.19</td>\n",
       "    </tr>\n",
       "    <tr>\n",
       "      <th>LinearSVC</th>\n",
       "      <td>0.76</td>\n",
       "      <td>0.70</td>\n",
       "      <td>0.70</td>\n",
       "      <td>0.74</td>\n",
       "      <td>0.13</td>\n",
       "    </tr>\n",
       "    <tr>\n",
       "      <th>NearestCentroid</th>\n",
       "      <td>0.70</td>\n",
       "      <td>0.69</td>\n",
       "      <td>0.69</td>\n",
       "      <td>0.70</td>\n",
       "      <td>0.03</td>\n",
       "    </tr>\n",
       "    <tr>\n",
       "      <th>SVC</th>\n",
       "      <td>0.76</td>\n",
       "      <td>0.69</td>\n",
       "      <td>0.69</td>\n",
       "      <td>0.74</td>\n",
       "      <td>0.07</td>\n",
       "    </tr>\n",
       "    <tr>\n",
       "      <th>XGBClassifier</th>\n",
       "      <td>0.73</td>\n",
       "      <td>0.69</td>\n",
       "      <td>0.69</td>\n",
       "      <td>0.72</td>\n",
       "      <td>0.30</td>\n",
       "    </tr>\n",
       "    <tr>\n",
       "      <th>LinearDiscriminantAnalysis</th>\n",
       "      <td>0.75</td>\n",
       "      <td>0.68</td>\n",
       "      <td>0.68</td>\n",
       "      <td>0.73</td>\n",
       "      <td>0.06</td>\n",
       "    </tr>\n",
       "    <tr>\n",
       "      <th>RidgeClassifierCV</th>\n",
       "      <td>0.75</td>\n",
       "      <td>0.68</td>\n",
       "      <td>0.68</td>\n",
       "      <td>0.73</td>\n",
       "      <td>0.03</td>\n",
       "    </tr>\n",
       "    <tr>\n",
       "      <th>BaggingClassifier</th>\n",
       "      <td>0.73</td>\n",
       "      <td>0.68</td>\n",
       "      <td>0.68</td>\n",
       "      <td>0.72</td>\n",
       "      <td>0.09</td>\n",
       "    </tr>\n",
       "    <tr>\n",
       "      <th>RidgeClassifier</th>\n",
       "      <td>0.75</td>\n",
       "      <td>0.68</td>\n",
       "      <td>0.68</td>\n",
       "      <td>0.73</td>\n",
       "      <td>0.04</td>\n",
       "    </tr>\n",
       "    <tr>\n",
       "      <th>ExtraTreeClassifier</th>\n",
       "      <td>0.71</td>\n",
       "      <td>0.68</td>\n",
       "      <td>0.68</td>\n",
       "      <td>0.71</td>\n",
       "      <td>0.02</td>\n",
       "    </tr>\n",
       "    <tr>\n",
       "      <th>PassiveAggressiveClassifier</th>\n",
       "      <td>0.74</td>\n",
       "      <td>0.67</td>\n",
       "      <td>0.67</td>\n",
       "      <td>0.72</td>\n",
       "      <td>0.03</td>\n",
       "    </tr>\n",
       "    <tr>\n",
       "      <th>BernoulliNB</th>\n",
       "      <td>0.70</td>\n",
       "      <td>0.67</td>\n",
       "      <td>0.67</td>\n",
       "      <td>0.70</td>\n",
       "      <td>0.03</td>\n",
       "    </tr>\n",
       "    <tr>\n",
       "      <th>DecisionTreeClassifier</th>\n",
       "      <td>0.68</td>\n",
       "      <td>0.66</td>\n",
       "      <td>0.66</td>\n",
       "      <td>0.68</td>\n",
       "      <td>0.03</td>\n",
       "    </tr>\n",
       "    <tr>\n",
       "      <th>SGDClassifier</th>\n",
       "      <td>0.73</td>\n",
       "      <td>0.64</td>\n",
       "      <td>0.64</td>\n",
       "      <td>0.69</td>\n",
       "      <td>0.03</td>\n",
       "    </tr>\n",
       "    <tr>\n",
       "      <th>Perceptron</th>\n",
       "      <td>0.72</td>\n",
       "      <td>0.64</td>\n",
       "      <td>0.64</td>\n",
       "      <td>0.69</td>\n",
       "      <td>0.03</td>\n",
       "    </tr>\n",
       "    <tr>\n",
       "      <th>QuadraticDiscriminantAnalysis</th>\n",
       "      <td>0.54</td>\n",
       "      <td>0.56</td>\n",
       "      <td>0.56</td>\n",
       "      <td>0.55</td>\n",
       "      <td>0.03</td>\n",
       "    </tr>\n",
       "    <tr>\n",
       "      <th>DummyClassifier</th>\n",
       "      <td>0.54</td>\n",
       "      <td>0.50</td>\n",
       "      <td>0.50</td>\n",
       "      <td>0.54</td>\n",
       "      <td>0.02</td>\n",
       "    </tr>\n",
       "  </tbody>\n",
       "</table>\n",
       "</div>"
      ],
      "text/plain": [
       "                               Accuracy  Balanced Accuracy  ROC AUC  F1 Score  \\\n",
       "Model                                                                           \n",
       "RandomForestClassifier             0.77               0.73     0.73      0.77   \n",
       "ExtraTreesClassifier               0.76               0.72     0.72      0.75   \n",
       "AdaBoostClassifier                 0.76               0.71     0.71      0.75   \n",
       "GaussianNB                         0.72               0.71     0.71      0.72   \n",
       "LabelPropagation                   0.74               0.71     0.71      0.74   \n",
       "KNeighborsClassifier               0.74               0.70     0.70      0.74   \n",
       "LGBMClassifier                     0.75               0.70     0.70      0.74   \n",
       "LogisticRegression                 0.76               0.70     0.70      0.75   \n",
       "CalibratedClassifierCV             0.76               0.70     0.70      0.75   \n",
       "NuSVC                              0.77               0.70     0.70      0.75   \n",
       "LabelSpreading                     0.74               0.70     0.70      0.73   \n",
       "LinearSVC                          0.76               0.70     0.70      0.74   \n",
       "NearestCentroid                    0.70               0.69     0.69      0.70   \n",
       "SVC                                0.76               0.69     0.69      0.74   \n",
       "XGBClassifier                      0.73               0.69     0.69      0.72   \n",
       "LinearDiscriminantAnalysis         0.75               0.68     0.68      0.73   \n",
       "RidgeClassifierCV                  0.75               0.68     0.68      0.73   \n",
       "BaggingClassifier                  0.73               0.68     0.68      0.72   \n",
       "RidgeClassifier                    0.75               0.68     0.68      0.73   \n",
       "ExtraTreeClassifier                0.71               0.68     0.68      0.71   \n",
       "PassiveAggressiveClassifier        0.74               0.67     0.67      0.72   \n",
       "BernoulliNB                        0.70               0.67     0.67      0.70   \n",
       "DecisionTreeClassifier             0.68               0.66     0.66      0.68   \n",
       "SGDClassifier                      0.73               0.64     0.64      0.69   \n",
       "Perceptron                         0.72               0.64     0.64      0.69   \n",
       "QuadraticDiscriminantAnalysis      0.54               0.56     0.56      0.55   \n",
       "DummyClassifier                    0.54               0.50     0.50      0.54   \n",
       "\n",
       "                               Time Taken  \n",
       "Model                                      \n",
       "RandomForestClassifier               0.35  \n",
       "ExtraTreesClassifier                 0.22  \n",
       "AdaBoostClassifier                   0.15  \n",
       "GaussianNB                           0.03  \n",
       "LabelPropagation                     0.14  \n",
       "KNeighborsClassifier                 0.04  \n",
       "LGBMClassifier                       0.55  \n",
       "LogisticRegression                   0.04  \n",
       "CalibratedClassifierCV               0.23  \n",
       "NuSVC                                0.09  \n",
       "LabelSpreading                       0.19  \n",
       "LinearSVC                            0.13  \n",
       "NearestCentroid                      0.03  \n",
       "SVC                                  0.07  \n",
       "XGBClassifier                        0.30  \n",
       "LinearDiscriminantAnalysis           0.06  \n",
       "RidgeClassifierCV                    0.03  \n",
       "BaggingClassifier                    0.09  \n",
       "RidgeClassifier                      0.04  \n",
       "ExtraTreeClassifier                  0.02  \n",
       "PassiveAggressiveClassifier          0.03  \n",
       "BernoulliNB                          0.03  \n",
       "DecisionTreeClassifier               0.03  \n",
       "SGDClassifier                        0.03  \n",
       "Perceptron                           0.03  \n",
       "QuadraticDiscriminantAnalysis        0.03  \n",
       "DummyClassifier                      0.02  "
      ]
     },
     "execution_count": 72,
     "metadata": {},
     "output_type": "execute_result"
    }
   ],
   "source": [
    "models_2.sort_values(\"ROC AUC\", ascending = False)"
   ]
  },
  {
   "cell_type": "markdown",
   "metadata": {},
   "source": [
    "## DALEX"
   ]
  },
  {
   "cell_type": "code",
   "execution_count": 83,
   "metadata": {},
   "outputs": [],
   "source": [
    "import dalex as dx\n",
    "from sklearn.ensemble import ExtraTreesClassifier\n",
    "from sklearn.model_selection import GridSearchCV"
   ]
  },
  {
   "cell_type": "code",
   "execution_count": 85,
   "metadata": {},
   "outputs": [],
   "source": [
    "X = nations.drop(\"death\", axis = 1)"
   ]
  },
  {
   "cell_type": "code",
   "execution_count": 90,
   "metadata": {},
   "outputs": [],
   "source": [
    "from sklearn.ensemble import RandomForestClassifier\n",
    "nations = nations.dropna()\n",
    "X = nations.drop(\"death\", axis = 1)\n",
    "trees = RandomForestClassifier()\n",
    "parameters = {'max_depth': [None,5,10,15,20,30,50,100], 'n_estimators':[10,20,50,100,150]}\n",
    "one_hot_data = pd.get_dummies(X)\n",
    "X_train, X_test, y_train, y_test = train_test_split(one_hot_data, nations.death, test_size = 0.25, random_state = 42)"
   ]
  },
  {
   "cell_type": "code",
   "execution_count": 91,
   "metadata": {},
   "outputs": [
    {
     "data": {
      "text/plain": [
       "GridSearchCV(estimator=RandomForestClassifier(),\n",
       "             param_grid={'max_depth': [None, 5, 10, 15, 20, 30, 50, 100],\n",
       "                         'n_estimators': [10, 20, 50, 100, 150]})"
      ]
     },
     "execution_count": 91,
     "metadata": {},
     "output_type": "execute_result"
    }
   ],
   "source": [
    "clf = GridSearchCV(trees, parameters)\n",
    "clf.fit(X_train, y_train)"
   ]
  },
  {
   "cell_type": "code",
   "execution_count": 92,
   "metadata": {},
   "outputs": [
    {
     "name": "stdout",
     "output_type": "stream",
     "text": [
      "{'max_depth': 5, 'n_estimators': 50}\n"
     ]
    }
   ],
   "source": [
    "print(clf.best_params_)\n",
    "best = clf.best_estimator_"
   ]
  },
  {
   "cell_type": "code",
   "execution_count": 93,
   "metadata": {
    "scrolled": true
   },
   "outputs": [
    {
     "name": "stdout",
     "output_type": "stream",
     "text": [
      "Preparation of a new explainer is initiated\n",
      "\n",
      "  -> data              : 430 rows 6 cols\n",
      "  -> target variable   : Parameter 'y' was a pandas.Series. Converted to a numpy.ndarray.\n",
      "  -> target variable   : 430 values\n",
      "  -> model_class       : sklearn.model_selection._search.GridSearchCV (default)\n",
      "  -> label             : Not specified, model's class short name will be used. (default)\n",
      "  -> predict function  : <function yhat_proba_default at 0x7f812e761160> will be used (default)\n",
      "  -> predict function  : Accepts pandas.DataFrame and numpy.ndarray.\n",
      "  -> predicted values  : min = 0.00532, mean = 0.357, max = 0.99\n",
      "  -> model type        : classification will be used (default)\n",
      "  -> residual function : difference between y and yhat (default)\n",
      "  -> residuals         : min = -0.94, mean = -0.00105, max = 0.887\n",
      "  -> model_info        : package sklearn\n",
      "\n",
      "A new explainer has been created!\n"
     ]
    }
   ],
   "source": [
    "exp = dx.Explainer(clf, X_test, y_test)"
   ]
  },
  {
   "cell_type": "code",
   "execution_count": 94,
   "metadata": {},
   "outputs": [
    {
     "data": {
      "text/html": [
       "<div>\n",
       "<style scoped>\n",
       "    .dataframe tbody tr th:only-of-type {\n",
       "        vertical-align: middle;\n",
       "    }\n",
       "\n",
       "    .dataframe tbody tr th {\n",
       "        vertical-align: top;\n",
       "    }\n",
       "\n",
       "    .dataframe thead th {\n",
       "        text-align: right;\n",
       "    }\n",
       "</style>\n",
       "<table border=\"1\" class=\"dataframe\">\n",
       "  <thead>\n",
       "    <tr style=\"text-align: right;\">\n",
       "      <th></th>\n",
       "      <th>recall</th>\n",
       "      <th>precision</th>\n",
       "      <th>f1</th>\n",
       "      <th>accuracy</th>\n",
       "      <th>auc</th>\n",
       "    </tr>\n",
       "  </thead>\n",
       "  <tbody>\n",
       "    <tr>\n",
       "      <th>GridSearchCV</th>\n",
       "      <td>0.54</td>\n",
       "      <td>0.75</td>\n",
       "      <td>0.63</td>\n",
       "      <td>0.77</td>\n",
       "      <td>0.83</td>\n",
       "    </tr>\n",
       "  </tbody>\n",
       "</table>\n",
       "</div>"
      ],
      "text/plain": [
       "<dalex.model_explanations._model_performance.object.ModelPerformance at 0x7f811adf8820>"
      ]
     },
     "execution_count": 94,
     "metadata": {},
     "output_type": "execute_result"
    }
   ],
   "source": [
    "exp.model_performance()"
   ]
  },
  {
   "cell_type": "code",
   "execution_count": 108,
   "metadata": {},
   "outputs": [
    {
     "data": {
      "text/plain": [
       "0.7225053679714966"
      ]
     },
     "execution_count": 108,
     "metadata": {},
     "output_type": "execute_result"
    }
   ],
   "source": [
    "roc_auc_score(y_test,clf.predict(X_test))"
   ]
  },
  {
   "cell_type": "code",
   "execution_count": 95,
   "metadata": {
    "scrolled": true
   },
   "outputs": [
    {
     "data": {
      "application/vnd.plotly.v1+json": {
       "config": {
        "displaylogo": false,
        "modeBarButtonsToRemove": [
         "sendDataToCloud",
         "lasso2d",
         "autoScale2d",
         "select2d",
         "zoom2d",
         "pan2d",
         "zoomIn2d",
         "zoomOut2d",
         "resetScale2d",
         "toggleSpikelines",
         "hoverCompareCartesian",
         "hoverClosestCartesian"
        ],
        "plotlyServerURL": "https://plot.ly",
        "staticPlot": false,
        "toImageButtonOptions": {
         "height": null,
         "width": null
        }
       },
       "data": [
        {
         "base": 0.17060003303367077,
         "hoverinfo": "text",
         "hoverlabel": {
          "bgcolor": "rgba(0,0,0,0.8)"
         },
         "hovertext": [
          "Model: GridSearchCV loss after<br>variable: Lymphocytes is permuted: 0.3<br>Drop-out loss change: +0.129",
          "Model: GridSearchCV loss after<br>variable: LDH is permuted: 0.244<br>Drop-out loss change: +0.073",
          "Model: GridSearchCV loss after<br>variable: from_china is permuted: 0.225<br>Drop-out loss change: +0.055",
          "Model: GridSearchCV loss after<br>variable: CRP is permuted: 0.193<br>Drop-out loss change: +0.023",
          "Model: GridSearchCV loss after<br>variable: from_newyork is permuted: 0.179<br>Drop-out loss change: +0.008",
          "Model: GridSearchCV loss after<br>variable: from_netherlands is permuted: 0.169<br>Drop-out loss change: -0.002"
         ],
         "marker": {
          "color": "#46bac2"
         },
         "orientation": "h",
         "showlegend": false,
         "text": [
          "+0.129",
          "+0.073",
          "+0.055",
          "+0.023",
          "+0.008",
          "0.002"
         ],
         "textposition": "outside",
         "type": "bar",
         "x": [
          0.12904839432764675,
          0.07328047946013533,
          0.054774545197140256,
          0.02267525542106133,
          0.007991788773271058,
          -0.0018192114390883085
         ],
         "xaxis": "x",
         "y": [
          "Lymphocytes",
          "LDH",
          "from_china",
          "CRP",
          "from_newyork",
          "from_netherlands"
         ],
         "yaxis": "y"
        }
       ],
       "layout": {
        "annotations": [
         {
          "font": {
           "size": 16
          },
          "showarrow": false,
          "text": "GridSearchCV",
          "x": 0.5,
          "xanchor": "center",
          "xref": "paper",
          "y": 1,
          "yanchor": "bottom",
          "yref": "paper"
         },
         {
          "font": {
           "size": 16
          },
          "showarrow": false,
          "text": "drop-out loss",
          "x": 0.5,
          "xanchor": "center",
          "xref": "paper",
          "y": 0,
          "yanchor": "top",
          "yref": "paper",
          "yshift": -30
         }
        ],
        "font": {
         "color": "#371ea3"
        },
        "height": 303,
        "margin": {
         "b": 71,
         "r": 30,
         "t": 78
        },
        "shapes": [
         {
          "line": {
           "color": "#371ea3",
           "dash": "dot",
           "width": 1.5
          },
          "type": "line",
          "x0": 0.17060003303367077,
          "x1": 0.17060003303367077,
          "xref": "x",
          "y0": -1,
          "y1": 6,
          "yref": "y"
         }
        ],
        "template": {
         "data": {
          "scatter": [
           {
            "type": "scatter"
           }
          ]
         }
        },
        "title": {
         "text": "Variable Importance",
         "x": 0.15
        },
        "xaxis": {
         "anchor": "y",
         "automargin": true,
         "domain": [
          0,
          1
         ],
         "fixedrange": true,
         "gridwidth": 2,
         "range": [
          0.14915068072957222,
          0.3192785682263278
         ],
         "tickcolor": "white",
         "ticklen": 3,
         "ticks": "outside",
         "type": "linear",
         "zeroline": false
        },
        "yaxis": {
         "anchor": "x",
         "automargin": true,
         "autorange": "reversed",
         "domain": [
          0,
          1
         ],
         "fixedrange": true,
         "gridwidth": 2,
         "tickcolor": "white",
         "ticklen": 10,
         "ticks": "outside",
         "type": "category"
        }
       }
      },
      "text/html": [
       "<div>                            <div id=\"71cc6efd-c7d7-45e9-bee2-ab5403592170\" class=\"plotly-graph-div\" style=\"height:303.0px; width:100%;\"></div>            <script type=\"text/javascript\">                require([\"plotly\"], function(Plotly) {                    window.PLOTLYENV=window.PLOTLYENV || {};                                    if (document.getElementById(\"71cc6efd-c7d7-45e9-bee2-ab5403592170\")) {                    Plotly.newPlot(                        \"71cc6efd-c7d7-45e9-bee2-ab5403592170\",                        [{\"base\": 0.17060003303367077, \"hoverinfo\": \"text\", \"hoverlabel\": {\"bgcolor\": \"rgba(0,0,0,0.8)\"}, \"hovertext\": [\"Model: GridSearchCV loss after<br>variable: Lymphocytes is permuted: 0.3<br>Drop-out loss change: +0.129\", \"Model: GridSearchCV loss after<br>variable: LDH is permuted: 0.244<br>Drop-out loss change: +0.073\", \"Model: GridSearchCV loss after<br>variable: from_china is permuted: 0.225<br>Drop-out loss change: +0.055\", \"Model: GridSearchCV loss after<br>variable: CRP is permuted: 0.193<br>Drop-out loss change: +0.023\", \"Model: GridSearchCV loss after<br>variable: from_newyork is permuted: 0.179<br>Drop-out loss change: +0.008\", \"Model: GridSearchCV loss after<br>variable: from_netherlands is permuted: 0.169<br>Drop-out loss change: -0.002\"], \"marker\": {\"color\": \"#46bac2\"}, \"orientation\": \"h\", \"showlegend\": false, \"text\": [\"+0.129\", \"+0.073\", \"+0.055\", \"+0.023\", \"+0.008\", \"0.002\"], \"textposition\": \"outside\", \"type\": \"bar\", \"x\": [0.12904839432764675, 0.07328047946013533, 0.054774545197140256, 0.02267525542106133, 0.007991788773271058, -0.0018192114390883085], \"xaxis\": \"x\", \"y\": [\"Lymphocytes\", \"LDH\", \"from_china\", \"CRP\", \"from_newyork\", \"from_netherlands\"], \"yaxis\": \"y\"}],                        {\"annotations\": [{\"font\": {\"size\": 16}, \"showarrow\": false, \"text\": \"GridSearchCV\", \"x\": 0.5, \"xanchor\": \"center\", \"xref\": \"paper\", \"y\": 1.0, \"yanchor\": \"bottom\", \"yref\": \"paper\"}, {\"font\": {\"size\": 16}, \"showarrow\": false, \"text\": \"drop-out loss\", \"x\": 0.5, \"xanchor\": \"center\", \"xref\": \"paper\", \"y\": 0, \"yanchor\": \"top\", \"yref\": \"paper\", \"yshift\": -30}], \"font\": {\"color\": \"#371ea3\"}, \"height\": 303.0, \"margin\": {\"b\": 71, \"r\": 30, \"t\": 78}, \"shapes\": [{\"line\": {\"color\": \"#371ea3\", \"dash\": \"dot\", \"width\": 1.5}, \"type\": \"line\", \"x0\": 0.17060003303367077, \"x1\": 0.17060003303367077, \"xref\": \"x\", \"y0\": -1, \"y1\": 6, \"yref\": \"y\"}], \"template\": {\"data\": {\"scatter\": [{\"type\": \"scatter\"}]}}, \"title\": {\"text\": \"Variable Importance\", \"x\": 0.15}, \"xaxis\": {\"anchor\": \"y\", \"automargin\": true, \"domain\": [0.0, 1.0], \"fixedrange\": true, \"gridwidth\": 2, \"range\": [0.14915068072957222, 0.3192785682263278], \"tickcolor\": \"white\", \"ticklen\": 3, \"ticks\": \"outside\", \"type\": \"linear\", \"zeroline\": false}, \"yaxis\": {\"anchor\": \"x\", \"automargin\": true, \"autorange\": \"reversed\", \"domain\": [0.0, 1.0], \"fixedrange\": true, \"gridwidth\": 2, \"tickcolor\": \"white\", \"ticklen\": 10, \"ticks\": \"outside\", \"type\": \"category\"}},                        {\"displaylogo\": false, \"staticPlot\": false, \"toImageButtonOptions\": {\"height\": null, \"width\": null}, \"modeBarButtonsToRemove\": [\"sendDataToCloud\", \"lasso2d\", \"autoScale2d\", \"select2d\", \"zoom2d\", \"pan2d\", \"zoomIn2d\", \"zoomOut2d\", \"resetScale2d\", \"toggleSpikelines\", \"hoverCompareCartesian\", \"hoverClosestCartesian\"], \"responsive\": true}                    ).then(function(){\n",
       "                            \n",
       "var gd = document.getElementById('71cc6efd-c7d7-45e9-bee2-ab5403592170');\n",
       "var x = new MutationObserver(function (mutations, observer) {{\n",
       "        var display = window.getComputedStyle(gd).display;\n",
       "        if (!display || display === 'none') {{\n",
       "            console.log([gd, 'removed!']);\n",
       "            Plotly.purge(gd);\n",
       "            observer.disconnect();\n",
       "        }}\n",
       "}});\n",
       "\n",
       "// Listen for the removal of the full notebook cells\n",
       "var notebookContainer = gd.closest('#notebook-container');\n",
       "if (notebookContainer) {{\n",
       "    x.observe(notebookContainer, {childList: true});\n",
       "}}\n",
       "\n",
       "// Listen for the clearing of the current output cell\n",
       "var outputEl = gd.closest('.output');\n",
       "if (outputEl) {{\n",
       "    x.observe(outputEl, {childList: true});\n",
       "}}\n",
       "\n",
       "                        })                };                });            </script>        </div>"
      ]
     },
     "metadata": {},
     "output_type": "display_data"
    }
   ],
   "source": [
    "exp.model_parts().plot()"
   ]
  },
  {
   "cell_type": "code",
   "execution_count": 109,
   "metadata": {
    "scrolled": true
   },
   "outputs": [
    {
     "name": "stderr",
     "output_type": "stream",
     "text": [
      "Calculating ceteris paribus: 100%|██████████| 6/6 [00:00<00:00, 10.38it/s]\n"
     ]
    },
    {
     "data": {
      "application/vnd.plotly.v1+json": {
       "config": {
        "displaylogo": false,
        "modeBarButtonsToRemove": [
         "sendDataToCloud",
         "lasso2d",
         "autoScale2d",
         "select2d",
         "zoom2d",
         "pan2d",
         "zoomIn2d",
         "zoomOut2d",
         "resetScale2d",
         "toggleSpikelines",
         "hoverCompareCartesian",
         "hoverClosestCartesian"
        ],
        "plotlyServerURL": "https://plot.ly",
        "staticPlot": false,
        "toImageButtonOptions": {
         "height": null,
         "width": null
        }
       },
       "data": [
        {
         "customdata": [
          [
           0.3541074788260499,
           "GridSearchCV",
           "LDH"
          ],
          [
           0.3541074788260499,
           "GridSearchCV",
           "LDH"
          ],
          [
           0.3541074788260499,
           "GridSearchCV",
           "LDH"
          ],
          [
           0.3541074788260499,
           "GridSearchCV",
           "LDH"
          ],
          [
           0.3541074788260499,
           "GridSearchCV",
           "LDH"
          ],
          [
           0.3541074788260499,
           "GridSearchCV",
           "LDH"
          ],
          [
           0.3541074788260499,
           "GridSearchCV",
           "LDH"
          ],
          [
           0.3541074788260499,
           "GridSearchCV",
           "LDH"
          ],
          [
           0.3541074788260499,
           "GridSearchCV",
           "LDH"
          ],
          [
           0.3541074788260499,
           "GridSearchCV",
           "LDH"
          ],
          [
           0.3541074788260499,
           "GridSearchCV",
           "LDH"
          ],
          [
           0.3541074788260499,
           "GridSearchCV",
           "LDH"
          ],
          [
           0.3541074788260499,
           "GridSearchCV",
           "LDH"
          ],
          [
           0.3541074788260499,
           "GridSearchCV",
           "LDH"
          ],
          [
           0.3541074788260499,
           "GridSearchCV",
           "LDH"
          ],
          [
           0.3541074788260499,
           "GridSearchCV",
           "LDH"
          ],
          [
           0.3541074788260499,
           "GridSearchCV",
           "LDH"
          ],
          [
           0.3541074788260499,
           "GridSearchCV",
           "LDH"
          ],
          [
           0.3541074788260499,
           "GridSearchCV",
           "LDH"
          ],
          [
           0.3541074788260499,
           "GridSearchCV",
           "LDH"
          ],
          [
           0.3541074788260499,
           "GridSearchCV",
           "LDH"
          ],
          [
           0.3541074788260499,
           "GridSearchCV",
           "LDH"
          ],
          [
           0.3541074788260499,
           "GridSearchCV",
           "LDH"
          ],
          [
           0.3541074788260499,
           "GridSearchCV",
           "LDH"
          ],
          [
           0.3541074788260499,
           "GridSearchCV",
           "LDH"
          ],
          [
           0.3541074788260499,
           "GridSearchCV",
           "LDH"
          ],
          [
           0.3541074788260499,
           "GridSearchCV",
           "LDH"
          ],
          [
           0.3541074788260499,
           "GridSearchCV",
           "LDH"
          ],
          [
           0.3541074788260499,
           "GridSearchCV",
           "LDH"
          ],
          [
           0.3541074788260499,
           "GridSearchCV",
           "LDH"
          ],
          [
           0.3541074788260499,
           "GridSearchCV",
           "LDH"
          ],
          [
           0.3541074788260499,
           "GridSearchCV",
           "LDH"
          ],
          [
           0.3541074788260499,
           "GridSearchCV",
           "LDH"
          ],
          [
           0.3541074788260499,
           "GridSearchCV",
           "LDH"
          ],
          [
           0.3541074788260499,
           "GridSearchCV",
           "LDH"
          ],
          [
           0.3541074788260499,
           "GridSearchCV",
           "LDH"
          ],
          [
           0.3541074788260499,
           "GridSearchCV",
           "LDH"
          ],
          [
           0.3541074788260499,
           "GridSearchCV",
           "LDH"
          ],
          [
           0.3541074788260499,
           "GridSearchCV",
           "LDH"
          ],
          [
           0.3541074788260499,
           "GridSearchCV",
           "LDH"
          ],
          [
           0.3541074788260499,
           "GridSearchCV",
           "LDH"
          ],
          [
           0.3541074788260499,
           "GridSearchCV",
           "LDH"
          ],
          [
           0.3541074788260499,
           "GridSearchCV",
           "LDH"
          ],
          [
           0.3541074788260499,
           "GridSearchCV",
           "LDH"
          ],
          [
           0.3541074788260499,
           "GridSearchCV",
           "LDH"
          ],
          [
           0.3541074788260499,
           "GridSearchCV",
           "LDH"
          ],
          [
           0.3541074788260499,
           "GridSearchCV",
           "LDH"
          ],
          [
           0.3541074788260499,
           "GridSearchCV",
           "LDH"
          ],
          [
           0.3541074788260499,
           "GridSearchCV",
           "LDH"
          ],
          [
           0.3541074788260499,
           "GridSearchCV",
           "LDH"
          ],
          [
           0.3541074788260499,
           "GridSearchCV",
           "LDH"
          ],
          [
           0.3541074788260499,
           "GridSearchCV",
           "LDH"
          ],
          [
           0.3541074788260499,
           "GridSearchCV",
           "LDH"
          ],
          [
           0.3541074788260499,
           "GridSearchCV",
           "LDH"
          ],
          [
           0.3541074788260499,
           "GridSearchCV",
           "LDH"
          ],
          [
           0.3541074788260499,
           "GridSearchCV",
           "LDH"
          ],
          [
           0.3541074788260499,
           "GridSearchCV",
           "LDH"
          ],
          [
           0.3541074788260499,
           "GridSearchCV",
           "LDH"
          ],
          [
           0.3541074788260499,
           "GridSearchCV",
           "LDH"
          ],
          [
           0.3541074788260499,
           "GridSearchCV",
           "LDH"
          ],
          [
           0.3541074788260499,
           "GridSearchCV",
           "LDH"
          ],
          [
           0.3541074788260499,
           "GridSearchCV",
           "LDH"
          ],
          [
           0.3541074788260499,
           "GridSearchCV",
           "LDH"
          ],
          [
           0.3541074788260499,
           "GridSearchCV",
           "LDH"
          ],
          [
           0.3541074788260499,
           "GridSearchCV",
           "LDH"
          ],
          [
           0.3541074788260499,
           "GridSearchCV",
           "LDH"
          ],
          [
           0.3541074788260499,
           "GridSearchCV",
           "LDH"
          ],
          [
           0.3541074788260499,
           "GridSearchCV",
           "LDH"
          ],
          [
           0.3541074788260499,
           "GridSearchCV",
           "LDH"
          ],
          [
           0.3541074788260499,
           "GridSearchCV",
           "LDH"
          ],
          [
           0.3541074788260499,
           "GridSearchCV",
           "LDH"
          ],
          [
           0.3541074788260499,
           "GridSearchCV",
           "LDH"
          ],
          [
           0.3541074788260499,
           "GridSearchCV",
           "LDH"
          ],
          [
           0.3541074788260499,
           "GridSearchCV",
           "LDH"
          ],
          [
           0.3541074788260499,
           "GridSearchCV",
           "LDH"
          ],
          [
           0.3541074788260499,
           "GridSearchCV",
           "LDH"
          ],
          [
           0.3541074788260499,
           "GridSearchCV",
           "LDH"
          ],
          [
           0.3541074788260499,
           "GridSearchCV",
           "LDH"
          ],
          [
           0.3541074788260499,
           "GridSearchCV",
           "LDH"
          ],
          [
           0.3541074788260499,
           "GridSearchCV",
           "LDH"
          ],
          [
           0.3541074788260499,
           "GridSearchCV",
           "LDH"
          ],
          [
           0.3541074788260499,
           "GridSearchCV",
           "LDH"
          ],
          [
           0.3541074788260499,
           "GridSearchCV",
           "LDH"
          ],
          [
           0.3541074788260499,
           "GridSearchCV",
           "LDH"
          ],
          [
           0.3541074788260499,
           "GridSearchCV",
           "LDH"
          ],
          [
           0.3541074788260499,
           "GridSearchCV",
           "LDH"
          ],
          [
           0.3541074788260499,
           "GridSearchCV",
           "LDH"
          ],
          [
           0.3541074788260499,
           "GridSearchCV",
           "LDH"
          ],
          [
           0.3541074788260499,
           "GridSearchCV",
           "LDH"
          ],
          [
           0.3541074788260499,
           "GridSearchCV",
           "LDH"
          ],
          [
           0.3541074788260499,
           "GridSearchCV",
           "LDH"
          ],
          [
           0.3541074788260499,
           "GridSearchCV",
           "LDH"
          ],
          [
           0.3541074788260499,
           "GridSearchCV",
           "LDH"
          ],
          [
           0.3541074788260499,
           "GridSearchCV",
           "LDH"
          ],
          [
           0.3541074788260499,
           "GridSearchCV",
           "LDH"
          ],
          [
           0.3541074788260499,
           "GridSearchCV",
           "LDH"
          ],
          [
           0.3541074788260499,
           "GridSearchCV",
           "LDH"
          ],
          [
           0.3541074788260499,
           "GridSearchCV",
           "LDH"
          ],
          [
           0.3541074788260499,
           "GridSearchCV",
           "LDH"
          ],
          [
           0.3541074788260499,
           "GridSearchCV",
           "LDH"
          ],
          [
           0.3541074788260499,
           "GridSearchCV",
           "LDH"
          ]
         ],
         "hovertemplate": "<b>%{hovertext}</b><br><br>prediction=%{y:.3f}<br>mean_prediction=%{customdata[0]:.3f}<extra></extra>",
         "hovertext": [
          "GridSearchCV",
          "GridSearchCV",
          "GridSearchCV",
          "GridSearchCV",
          "GridSearchCV",
          "GridSearchCV",
          "GridSearchCV",
          "GridSearchCV",
          "GridSearchCV",
          "GridSearchCV",
          "GridSearchCV",
          "GridSearchCV",
          "GridSearchCV",
          "GridSearchCV",
          "GridSearchCV",
          "GridSearchCV",
          "GridSearchCV",
          "GridSearchCV",
          "GridSearchCV",
          "GridSearchCV",
          "GridSearchCV",
          "GridSearchCV",
          "GridSearchCV",
          "GridSearchCV",
          "GridSearchCV",
          "GridSearchCV",
          "GridSearchCV",
          "GridSearchCV",
          "GridSearchCV",
          "GridSearchCV",
          "GridSearchCV",
          "GridSearchCV",
          "GridSearchCV",
          "GridSearchCV",
          "GridSearchCV",
          "GridSearchCV",
          "GridSearchCV",
          "GridSearchCV",
          "GridSearchCV",
          "GridSearchCV",
          "GridSearchCV",
          "GridSearchCV",
          "GridSearchCV",
          "GridSearchCV",
          "GridSearchCV",
          "GridSearchCV",
          "GridSearchCV",
          "GridSearchCV",
          "GridSearchCV",
          "GridSearchCV",
          "GridSearchCV",
          "GridSearchCV",
          "GridSearchCV",
          "GridSearchCV",
          "GridSearchCV",
          "GridSearchCV",
          "GridSearchCV",
          "GridSearchCV",
          "GridSearchCV",
          "GridSearchCV",
          "GridSearchCV",
          "GridSearchCV",
          "GridSearchCV",
          "GridSearchCV",
          "GridSearchCV",
          "GridSearchCV",
          "GridSearchCV",
          "GridSearchCV",
          "GridSearchCV",
          "GridSearchCV",
          "GridSearchCV",
          "GridSearchCV",
          "GridSearchCV",
          "GridSearchCV",
          "GridSearchCV",
          "GridSearchCV",
          "GridSearchCV",
          "GridSearchCV",
          "GridSearchCV",
          "GridSearchCV",
          "GridSearchCV",
          "GridSearchCV",
          "GridSearchCV",
          "GridSearchCV",
          "GridSearchCV",
          "GridSearchCV",
          "GridSearchCV",
          "GridSearchCV",
          "GridSearchCV",
          "GridSearchCV",
          "GridSearchCV",
          "GridSearchCV",
          "GridSearchCV",
          "GridSearchCV",
          "GridSearchCV",
          "GridSearchCV",
          "GridSearchCV",
          "GridSearchCV",
          "GridSearchCV",
          "GridSearchCV",
          "GridSearchCV"
         ],
         "legendgroup": "GridSearchCV",
         "line": {
          "color": "#46bac2",
          "dash": "solid",
          "width": 2
         },
         "mode": "lines",
         "name": "GridSearchCV",
         "opacity": 1,
         "orientation": "v",
         "showlegend": true,
         "type": "scatter",
         "x": [
          -1,
          25.6,
          52.2,
          78.80000000000001,
          105.4,
          132,
          158.60000000000002,
          185.20000000000002,
          211.8,
          238.4,
          265,
          291.6,
          318.20000000000005,
          344.8,
          371.40000000000003,
          398,
          424.6,
          451.20000000000005,
          477.8,
          504.40000000000003,
          531,
          557.6,
          584.2,
          610.8000000000001,
          637.4000000000001,
          664,
          690.6,
          717.2,
          743.8000000000001,
          770.4000000000001,
          797,
          823.6,
          850.2,
          876.8000000000001,
          903.4000000000001,
          930,
          956.6,
          983.2,
          1009.8000000000001,
          1036.4,
          1063,
          1089.6000000000001,
          1116.2,
          1142.8,
          1169.4,
          1196,
          1222.6000000000001,
          1249.2,
          1275.8000000000002,
          1302.4,
          1329,
          1355.6000000000001,
          1382.2,
          1408.8000000000002,
          1435.4,
          1462,
          1488.6000000000001,
          1515.2,
          1541.8000000000002,
          1568.4,
          1595,
          1621.6000000000001,
          1648.2,
          1674.8000000000002,
          1701.4,
          1728,
          1754.6000000000001,
          1781.2,
          1807.8000000000002,
          1834.4,
          1861,
          1887.6000000000001,
          1914.2,
          1940.8000000000002,
          1967.4,
          1994,
          2020.6000000000001,
          2047.2000000000003,
          2073.8,
          2100.4,
          2127,
          2153.6,
          2180.2000000000003,
          2206.8,
          2233.4,
          2260,
          2286.6,
          2313.2000000000003,
          2339.8,
          2366.4,
          2393,
          2419.6,
          2446.2000000000003,
          2472.8,
          2499.4,
          2526,
          2552.6000000000004,
          2579.2000000000003,
          2605.8,
          2632.4,
          2659
         ],
         "xaxis": "x5",
         "y": [
          0.2492378728549365,
          0.2492378728549365,
          0.24238249702754375,
          0.24098919014923686,
          0.2408225234825702,
          0.24206696792701454,
          0.2423603012603479,
          0.24582696792701456,
          0.2504186865992027,
          0.23963563447339098,
          0.24072500629745433,
          0.2726536527516736,
          0.29557817399257375,
          0.328967928584998,
          0.3331468452528492,
          0.32581113244698445,
          0.3258255550927311,
          0.391949628262453,
          0.4051473437379076,
          0.4324827228733449,
          0.45217384565929675,
          0.4564111065465577,
          0.45756737692713784,
          0.4574737261334871,
          0.4683443789835449,
          0.4673756626274366,
          0.47176103250641754,
          0.4779843666973515,
          0.4863756273391086,
          0.49722985139260373,
          0.4974646662074184,
          0.4979497236786829,
          0.5021163816693772,
          0.5021163816693772,
          0.5021163816693772,
          0.5028020959550915,
          0.5029020959550914,
          0.4994941781862689,
          0.5087085572712364,
          0.511041067075158,
          0.511041067075158,
          0.511041067075158,
          0.511041067075158,
          0.511041067075158,
          0.5148506944615546,
          0.5148506944615546,
          0.5148506944615546,
          0.5127395833504435,
          0.5127395833504435,
          0.5127395833504435,
          0.5127395833504435,
          0.5175216094581838,
          0.5175216094581838,
          0.5175216094581838,
          0.5213563920668792,
          0.5213563920668792,
          0.5213563920668792,
          0.5213563920668792,
          0.5213563920668792,
          0.523553575165471,
          0.523553575165471,
          0.5268202418321379,
          0.5268202418321379,
          0.5268202418321379,
          0.5268202418321379,
          0.5268202418321379,
          0.5268202418321379,
          0.5268202418321379,
          0.5268202418321379,
          0.5268202418321379,
          0.5268202418321379,
          0.5268202418321379,
          0.5268202418321379,
          0.5268202418321379,
          0.5268202418321379,
          0.5268202418321379,
          0.5268202418321379,
          0.5268202418321379,
          0.5268202418321379,
          0.5268202418321379,
          0.5268202418321379,
          0.5268202418321379,
          0.5268202418321379,
          0.5268202418321379,
          0.5268202418321379,
          0.5268202418321379,
          0.5268202418321379,
          0.5268202418321379,
          0.5268202418321379,
          0.5268202418321379,
          0.5268202418321379,
          0.5268202418321379,
          0.5268202418321379,
          0.5268202418321379,
          0.5268202418321379,
          0.5268202418321379,
          0.5268202418321379,
          0.5268202418321379,
          0.5268202418321379,
          0.5268202418321379,
          0.5268202418321379
         ],
         "yaxis": "y5"
        },
        {
         "customdata": [
          [
           0.3541074788260499,
           "GridSearchCV",
           "CRP"
          ],
          [
           0.3541074788260499,
           "GridSearchCV",
           "CRP"
          ],
          [
           0.3541074788260499,
           "GridSearchCV",
           "CRP"
          ],
          [
           0.3541074788260499,
           "GridSearchCV",
           "CRP"
          ],
          [
           0.3541074788260499,
           "GridSearchCV",
           "CRP"
          ],
          [
           0.3541074788260499,
           "GridSearchCV",
           "CRP"
          ],
          [
           0.3541074788260499,
           "GridSearchCV",
           "CRP"
          ],
          [
           0.3541074788260499,
           "GridSearchCV",
           "CRP"
          ],
          [
           0.3541074788260499,
           "GridSearchCV",
           "CRP"
          ],
          [
           0.3541074788260499,
           "GridSearchCV",
           "CRP"
          ],
          [
           0.3541074788260499,
           "GridSearchCV",
           "CRP"
          ],
          [
           0.3541074788260499,
           "GridSearchCV",
           "CRP"
          ],
          [
           0.3541074788260499,
           "GridSearchCV",
           "CRP"
          ],
          [
           0.3541074788260499,
           "GridSearchCV",
           "CRP"
          ],
          [
           0.3541074788260499,
           "GridSearchCV",
           "CRP"
          ],
          [
           0.3541074788260499,
           "GridSearchCV",
           "CRP"
          ],
          [
           0.3541074788260499,
           "GridSearchCV",
           "CRP"
          ],
          [
           0.3541074788260499,
           "GridSearchCV",
           "CRP"
          ],
          [
           0.3541074788260499,
           "GridSearchCV",
           "CRP"
          ],
          [
           0.3541074788260499,
           "GridSearchCV",
           "CRP"
          ],
          [
           0.3541074788260499,
           "GridSearchCV",
           "CRP"
          ],
          [
           0.3541074788260499,
           "GridSearchCV",
           "CRP"
          ],
          [
           0.3541074788260499,
           "GridSearchCV",
           "CRP"
          ],
          [
           0.3541074788260499,
           "GridSearchCV",
           "CRP"
          ],
          [
           0.3541074788260499,
           "GridSearchCV",
           "CRP"
          ],
          [
           0.3541074788260499,
           "GridSearchCV",
           "CRP"
          ],
          [
           0.3541074788260499,
           "GridSearchCV",
           "CRP"
          ],
          [
           0.3541074788260499,
           "GridSearchCV",
           "CRP"
          ],
          [
           0.3541074788260499,
           "GridSearchCV",
           "CRP"
          ],
          [
           0.3541074788260499,
           "GridSearchCV",
           "CRP"
          ],
          [
           0.3541074788260499,
           "GridSearchCV",
           "CRP"
          ],
          [
           0.3541074788260499,
           "GridSearchCV",
           "CRP"
          ],
          [
           0.3541074788260499,
           "GridSearchCV",
           "CRP"
          ],
          [
           0.3541074788260499,
           "GridSearchCV",
           "CRP"
          ],
          [
           0.3541074788260499,
           "GridSearchCV",
           "CRP"
          ],
          [
           0.3541074788260499,
           "GridSearchCV",
           "CRP"
          ],
          [
           0.3541074788260499,
           "GridSearchCV",
           "CRP"
          ],
          [
           0.3541074788260499,
           "GridSearchCV",
           "CRP"
          ],
          [
           0.3541074788260499,
           "GridSearchCV",
           "CRP"
          ],
          [
           0.3541074788260499,
           "GridSearchCV",
           "CRP"
          ],
          [
           0.3541074788260499,
           "GridSearchCV",
           "CRP"
          ],
          [
           0.3541074788260499,
           "GridSearchCV",
           "CRP"
          ],
          [
           0.3541074788260499,
           "GridSearchCV",
           "CRP"
          ],
          [
           0.3541074788260499,
           "GridSearchCV",
           "CRP"
          ],
          [
           0.3541074788260499,
           "GridSearchCV",
           "CRP"
          ],
          [
           0.3541074788260499,
           "GridSearchCV",
           "CRP"
          ],
          [
           0.3541074788260499,
           "GridSearchCV",
           "CRP"
          ],
          [
           0.3541074788260499,
           "GridSearchCV",
           "CRP"
          ],
          [
           0.3541074788260499,
           "GridSearchCV",
           "CRP"
          ],
          [
           0.3541074788260499,
           "GridSearchCV",
           "CRP"
          ],
          [
           0.3541074788260499,
           "GridSearchCV",
           "CRP"
          ],
          [
           0.3541074788260499,
           "GridSearchCV",
           "CRP"
          ],
          [
           0.3541074788260499,
           "GridSearchCV",
           "CRP"
          ],
          [
           0.3541074788260499,
           "GridSearchCV",
           "CRP"
          ],
          [
           0.3541074788260499,
           "GridSearchCV",
           "CRP"
          ],
          [
           0.3541074788260499,
           "GridSearchCV",
           "CRP"
          ],
          [
           0.3541074788260499,
           "GridSearchCV",
           "CRP"
          ],
          [
           0.3541074788260499,
           "GridSearchCV",
           "CRP"
          ],
          [
           0.3541074788260499,
           "GridSearchCV",
           "CRP"
          ],
          [
           0.3541074788260499,
           "GridSearchCV",
           "CRP"
          ],
          [
           0.3541074788260499,
           "GridSearchCV",
           "CRP"
          ],
          [
           0.3541074788260499,
           "GridSearchCV",
           "CRP"
          ],
          [
           0.3541074788260499,
           "GridSearchCV",
           "CRP"
          ],
          [
           0.3541074788260499,
           "GridSearchCV",
           "CRP"
          ],
          [
           0.3541074788260499,
           "GridSearchCV",
           "CRP"
          ],
          [
           0.3541074788260499,
           "GridSearchCV",
           "CRP"
          ],
          [
           0.3541074788260499,
           "GridSearchCV",
           "CRP"
          ],
          [
           0.3541074788260499,
           "GridSearchCV",
           "CRP"
          ],
          [
           0.3541074788260499,
           "GridSearchCV",
           "CRP"
          ],
          [
           0.3541074788260499,
           "GridSearchCV",
           "CRP"
          ],
          [
           0.3541074788260499,
           "GridSearchCV",
           "CRP"
          ],
          [
           0.3541074788260499,
           "GridSearchCV",
           "CRP"
          ],
          [
           0.3541074788260499,
           "GridSearchCV",
           "CRP"
          ],
          [
           0.3541074788260499,
           "GridSearchCV",
           "CRP"
          ],
          [
           0.3541074788260499,
           "GridSearchCV",
           "CRP"
          ],
          [
           0.3541074788260499,
           "GridSearchCV",
           "CRP"
          ],
          [
           0.3541074788260499,
           "GridSearchCV",
           "CRP"
          ],
          [
           0.3541074788260499,
           "GridSearchCV",
           "CRP"
          ],
          [
           0.3541074788260499,
           "GridSearchCV",
           "CRP"
          ],
          [
           0.3541074788260499,
           "GridSearchCV",
           "CRP"
          ],
          [
           0.3541074788260499,
           "GridSearchCV",
           "CRP"
          ],
          [
           0.3541074788260499,
           "GridSearchCV",
           "CRP"
          ],
          [
           0.3541074788260499,
           "GridSearchCV",
           "CRP"
          ],
          [
           0.3541074788260499,
           "GridSearchCV",
           "CRP"
          ],
          [
           0.3541074788260499,
           "GridSearchCV",
           "CRP"
          ],
          [
           0.3541074788260499,
           "GridSearchCV",
           "CRP"
          ],
          [
           0.3541074788260499,
           "GridSearchCV",
           "CRP"
          ],
          [
           0.3541074788260499,
           "GridSearchCV",
           "CRP"
          ],
          [
           0.3541074788260499,
           "GridSearchCV",
           "CRP"
          ],
          [
           0.3541074788260499,
           "GridSearchCV",
           "CRP"
          ],
          [
           0.3541074788260499,
           "GridSearchCV",
           "CRP"
          ],
          [
           0.3541074788260499,
           "GridSearchCV",
           "CRP"
          ],
          [
           0.3541074788260499,
           "GridSearchCV",
           "CRP"
          ],
          [
           0.3541074788260499,
           "GridSearchCV",
           "CRP"
          ],
          [
           0.3541074788260499,
           "GridSearchCV",
           "CRP"
          ],
          [
           0.3541074788260499,
           "GridSearchCV",
           "CRP"
          ],
          [
           0.3541074788260499,
           "GridSearchCV",
           "CRP"
          ],
          [
           0.3541074788260499,
           "GridSearchCV",
           "CRP"
          ],
          [
           0.3541074788260499,
           "GridSearchCV",
           "CRP"
          ],
          [
           0.3541074788260499,
           "GridSearchCV",
           "CRP"
          ],
          [
           0.3541074788260499,
           "GridSearchCV",
           "CRP"
          ]
         ],
         "hovertemplate": "<b>%{hovertext}</b><br><br>prediction=%{y:.3f}<br>mean_prediction=%{customdata[0]:.3f}<extra></extra>",
         "hovertext": [
          "GridSearchCV",
          "GridSearchCV",
          "GridSearchCV",
          "GridSearchCV",
          "GridSearchCV",
          "GridSearchCV",
          "GridSearchCV",
          "GridSearchCV",
          "GridSearchCV",
          "GridSearchCV",
          "GridSearchCV",
          "GridSearchCV",
          "GridSearchCV",
          "GridSearchCV",
          "GridSearchCV",
          "GridSearchCV",
          "GridSearchCV",
          "GridSearchCV",
          "GridSearchCV",
          "GridSearchCV",
          "GridSearchCV",
          "GridSearchCV",
          "GridSearchCV",
          "GridSearchCV",
          "GridSearchCV",
          "GridSearchCV",
          "GridSearchCV",
          "GridSearchCV",
          "GridSearchCV",
          "GridSearchCV",
          "GridSearchCV",
          "GridSearchCV",
          "GridSearchCV",
          "GridSearchCV",
          "GridSearchCV",
          "GridSearchCV",
          "GridSearchCV",
          "GridSearchCV",
          "GridSearchCV",
          "GridSearchCV",
          "GridSearchCV",
          "GridSearchCV",
          "GridSearchCV",
          "GridSearchCV",
          "GridSearchCV",
          "GridSearchCV",
          "GridSearchCV",
          "GridSearchCV",
          "GridSearchCV",
          "GridSearchCV",
          "GridSearchCV",
          "GridSearchCV",
          "GridSearchCV",
          "GridSearchCV",
          "GridSearchCV",
          "GridSearchCV",
          "GridSearchCV",
          "GridSearchCV",
          "GridSearchCV",
          "GridSearchCV",
          "GridSearchCV",
          "GridSearchCV",
          "GridSearchCV",
          "GridSearchCV",
          "GridSearchCV",
          "GridSearchCV",
          "GridSearchCV",
          "GridSearchCV",
          "GridSearchCV",
          "GridSearchCV",
          "GridSearchCV",
          "GridSearchCV",
          "GridSearchCV",
          "GridSearchCV",
          "GridSearchCV",
          "GridSearchCV",
          "GridSearchCV",
          "GridSearchCV",
          "GridSearchCV",
          "GridSearchCV",
          "GridSearchCV",
          "GridSearchCV",
          "GridSearchCV",
          "GridSearchCV",
          "GridSearchCV",
          "GridSearchCV",
          "GridSearchCV",
          "GridSearchCV",
          "GridSearchCV",
          "GridSearchCV",
          "GridSearchCV",
          "GridSearchCV",
          "GridSearchCV",
          "GridSearchCV",
          "GridSearchCV",
          "GridSearchCV",
          "GridSearchCV",
          "GridSearchCV",
          "GridSearchCV",
          "GridSearchCV",
          "GridSearchCV"
         ],
         "legendgroup": "GridSearchCV",
         "line": {
          "color": "#46bac2",
          "dash": "solid",
          "width": 2
         },
         "mode": "lines",
         "name": "GridSearchCV",
         "opacity": 1,
         "orientation": "v",
         "showlegend": false,
         "type": "scatter",
         "x": [
          -1,
          4.59,
          10.18,
          15.77,
          21.36,
          26.95,
          32.54,
          38.129999999999995,
          43.72,
          49.31,
          54.9,
          60.489999999999995,
          66.08,
          71.67,
          77.25999999999999,
          82.85,
          88.44,
          94.03,
          99.62,
          105.21,
          110.8,
          116.39,
          121.97999999999999,
          127.57,
          133.16,
          138.75,
          144.34,
          149.93,
          155.51999999999998,
          161.10999999999999,
          166.7,
          172.29,
          177.88,
          183.47,
          189.06,
          194.65,
          200.24,
          205.82999999999998,
          211.42,
          217.01,
          222.6,
          228.19,
          233.78,
          239.37,
          244.95999999999998,
          250.54999999999998,
          256.14,
          261.73,
          267.32,
          272.90999999999997,
          278.5,
          284.09,
          289.68,
          295.27,
          300.86,
          306.45,
          312.03999999999996,
          317.63,
          323.21999999999997,
          328.81,
          334.4,
          339.99,
          345.58,
          351.17,
          356.76,
          362.34999999999997,
          367.94,
          373.53,
          379.12,
          384.71,
          390.3,
          395.89,
          401.48,
          407.07,
          412.65999999999997,
          418.25,
          423.84,
          429.43,
          435.02,
          440.61,
          446.2,
          451.78999999999996,
          457.38,
          462.96999999999997,
          468.56,
          474.15,
          479.74,
          485.33,
          490.91999999999996,
          496.51,
          502.09999999999997,
          507.69,
          513.28,
          518.87,
          524.46,
          530.05,
          535.64,
          541.23,
          546.8199999999999,
          552.41,
          558
         ],
         "xaxis": "x6",
         "y": [
          0.3487447224193973,
          0.29724452990310674,
          0.298697439956017,
          0.34499487170484616,
          0.34617706617704097,
          0.3420654066763733,
          0.3437808397624533,
          0.3528695328412757,
          0.3563962687955543,
          0.35836917727802214,
          0.3566970088919215,
          0.3545200354144282,
          0.35488194017633307,
          0.3555477211747226,
          0.3677856450525404,
          0.3682830809499762,
          0.36637042558274485,
          0.3719902462591444,
          0.37701411280414493,
          0.38397227130837086,
          0.38431550080556137,
          0.38002599858758035,
          0.3783747030333607,
          0.37864167386590153,
          0.3780666738659016,
          0.38382928883115797,
          0.3803942581946201,
          0.38547150463320384,
          0.38547150463320384,
          0.3829812582781441,
          0.3852936302245587,
          0.38727735208911623,
          0.386632892498028,
          0.3868381779264533,
          0.3905707906948338,
          0.3912352595593026,
          0.39743394343415167,
          0.3994283078351827,
          0.4002379530679988,
          0.4013633181613725,
          0.40022331816137247,
          0.4009640589021132,
          0.4017592566422262,
          0.40293242404487595,
          0.40565717017812297,
          0.4064229596518072,
          0.4190531494187807,
          0.4112364827521142,
          0.41543271758281847,
          0.41536605091615175,
          0.4222993785766796,
          0.4246115138412771,
          0.4261254300525704,
          0.4261254300525704,
          0.4306069667342835,
          0.43492016117872806,
          0.4353359299407524,
          0.4249179949345818,
          0.4249179949345818,
          0.4232189099672615,
          0.4222509899948573,
          0.4187819531950172,
          0.41681206935859616,
          0.41681206935859616,
          0.4179379952845221,
          0.41658285901617825,
          0.41658285901617825,
          0.41658285901617825,
          0.41658285901617825,
          0.41658285901617825,
          0.4172495256828449,
          0.4172495256828449,
          0.4172495256828449,
          0.4149073034606226,
          0.4149073034606226,
          0.4149073034606226,
          0.4149073034606226,
          0.4149073034606226,
          0.4149073034606226,
          0.4149073034606226,
          0.4149073034606226,
          0.4149073034606226,
          0.4162139701272892,
          0.4162139701272892,
          0.4162139701272892,
          0.4162139701272892,
          0.4162139701272892,
          0.4162139701272892,
          0.4172633656367884,
          0.4172633656367884,
          0.4172633656367884,
          0.4172633656367884,
          0.4172633656367884,
          0.4172633656367884,
          0.4172633656367884,
          0.4172633656367884,
          0.4172633656367884,
          0.4172633656367884,
          0.4172633656367884,
          0.4172633656367884,
          0.4172633656367884
         ],
         "yaxis": "y6"
        },
        {
         "customdata": [
          [
           0.3541074788260499,
           "GridSearchCV",
           "Lymphocytes"
          ],
          [
           0.3541074788260499,
           "GridSearchCV",
           "Lymphocytes"
          ],
          [
           0.3541074788260499,
           "GridSearchCV",
           "Lymphocytes"
          ],
          [
           0.3541074788260499,
           "GridSearchCV",
           "Lymphocytes"
          ],
          [
           0.3541074788260499,
           "GridSearchCV",
           "Lymphocytes"
          ],
          [
           0.3541074788260499,
           "GridSearchCV",
           "Lymphocytes"
          ],
          [
           0.3541074788260499,
           "GridSearchCV",
           "Lymphocytes"
          ],
          [
           0.3541074788260499,
           "GridSearchCV",
           "Lymphocytes"
          ],
          [
           0.3541074788260499,
           "GridSearchCV",
           "Lymphocytes"
          ],
          [
           0.3541074788260499,
           "GridSearchCV",
           "Lymphocytes"
          ],
          [
           0.3541074788260499,
           "GridSearchCV",
           "Lymphocytes"
          ],
          [
           0.3541074788260499,
           "GridSearchCV",
           "Lymphocytes"
          ],
          [
           0.3541074788260499,
           "GridSearchCV",
           "Lymphocytes"
          ],
          [
           0.3541074788260499,
           "GridSearchCV",
           "Lymphocytes"
          ],
          [
           0.3541074788260499,
           "GridSearchCV",
           "Lymphocytes"
          ],
          [
           0.3541074788260499,
           "GridSearchCV",
           "Lymphocytes"
          ],
          [
           0.3541074788260499,
           "GridSearchCV",
           "Lymphocytes"
          ],
          [
           0.3541074788260499,
           "GridSearchCV",
           "Lymphocytes"
          ],
          [
           0.3541074788260499,
           "GridSearchCV",
           "Lymphocytes"
          ],
          [
           0.3541074788260499,
           "GridSearchCV",
           "Lymphocytes"
          ],
          [
           0.3541074788260499,
           "GridSearchCV",
           "Lymphocytes"
          ],
          [
           0.3541074788260499,
           "GridSearchCV",
           "Lymphocytes"
          ],
          [
           0.3541074788260499,
           "GridSearchCV",
           "Lymphocytes"
          ],
          [
           0.3541074788260499,
           "GridSearchCV",
           "Lymphocytes"
          ],
          [
           0.3541074788260499,
           "GridSearchCV",
           "Lymphocytes"
          ],
          [
           0.3541074788260499,
           "GridSearchCV",
           "Lymphocytes"
          ],
          [
           0.3541074788260499,
           "GridSearchCV",
           "Lymphocytes"
          ],
          [
           0.3541074788260499,
           "GridSearchCV",
           "Lymphocytes"
          ],
          [
           0.3541074788260499,
           "GridSearchCV",
           "Lymphocytes"
          ],
          [
           0.3541074788260499,
           "GridSearchCV",
           "Lymphocytes"
          ],
          [
           0.3541074788260499,
           "GridSearchCV",
           "Lymphocytes"
          ],
          [
           0.3541074788260499,
           "GridSearchCV",
           "Lymphocytes"
          ],
          [
           0.3541074788260499,
           "GridSearchCV",
           "Lymphocytes"
          ],
          [
           0.3541074788260499,
           "GridSearchCV",
           "Lymphocytes"
          ],
          [
           0.3541074788260499,
           "GridSearchCV",
           "Lymphocytes"
          ],
          [
           0.3541074788260499,
           "GridSearchCV",
           "Lymphocytes"
          ],
          [
           0.3541074788260499,
           "GridSearchCV",
           "Lymphocytes"
          ],
          [
           0.3541074788260499,
           "GridSearchCV",
           "Lymphocytes"
          ],
          [
           0.3541074788260499,
           "GridSearchCV",
           "Lymphocytes"
          ],
          [
           0.3541074788260499,
           "GridSearchCV",
           "Lymphocytes"
          ],
          [
           0.3541074788260499,
           "GridSearchCV",
           "Lymphocytes"
          ],
          [
           0.3541074788260499,
           "GridSearchCV",
           "Lymphocytes"
          ],
          [
           0.3541074788260499,
           "GridSearchCV",
           "Lymphocytes"
          ],
          [
           0.3541074788260499,
           "GridSearchCV",
           "Lymphocytes"
          ],
          [
           0.3541074788260499,
           "GridSearchCV",
           "Lymphocytes"
          ],
          [
           0.3541074788260499,
           "GridSearchCV",
           "Lymphocytes"
          ],
          [
           0.3541074788260499,
           "GridSearchCV",
           "Lymphocytes"
          ],
          [
           0.3541074788260499,
           "GridSearchCV",
           "Lymphocytes"
          ],
          [
           0.3541074788260499,
           "GridSearchCV",
           "Lymphocytes"
          ],
          [
           0.3541074788260499,
           "GridSearchCV",
           "Lymphocytes"
          ],
          [
           0.3541074788260499,
           "GridSearchCV",
           "Lymphocytes"
          ],
          [
           0.3541074788260499,
           "GridSearchCV",
           "Lymphocytes"
          ],
          [
           0.3541074788260499,
           "GridSearchCV",
           "Lymphocytes"
          ],
          [
           0.3541074788260499,
           "GridSearchCV",
           "Lymphocytes"
          ],
          [
           0.3541074788260499,
           "GridSearchCV",
           "Lymphocytes"
          ],
          [
           0.3541074788260499,
           "GridSearchCV",
           "Lymphocytes"
          ],
          [
           0.3541074788260499,
           "GridSearchCV",
           "Lymphocytes"
          ],
          [
           0.3541074788260499,
           "GridSearchCV",
           "Lymphocytes"
          ],
          [
           0.3541074788260499,
           "GridSearchCV",
           "Lymphocytes"
          ],
          [
           0.3541074788260499,
           "GridSearchCV",
           "Lymphocytes"
          ],
          [
           0.3541074788260499,
           "GridSearchCV",
           "Lymphocytes"
          ],
          [
           0.3541074788260499,
           "GridSearchCV",
           "Lymphocytes"
          ],
          [
           0.3541074788260499,
           "GridSearchCV",
           "Lymphocytes"
          ],
          [
           0.3541074788260499,
           "GridSearchCV",
           "Lymphocytes"
          ],
          [
           0.3541074788260499,
           "GridSearchCV",
           "Lymphocytes"
          ],
          [
           0.3541074788260499,
           "GridSearchCV",
           "Lymphocytes"
          ],
          [
           0.3541074788260499,
           "GridSearchCV",
           "Lymphocytes"
          ],
          [
           0.3541074788260499,
           "GridSearchCV",
           "Lymphocytes"
          ],
          [
           0.3541074788260499,
           "GridSearchCV",
           "Lymphocytes"
          ],
          [
           0.3541074788260499,
           "GridSearchCV",
           "Lymphocytes"
          ],
          [
           0.3541074788260499,
           "GridSearchCV",
           "Lymphocytes"
          ],
          [
           0.3541074788260499,
           "GridSearchCV",
           "Lymphocytes"
          ],
          [
           0.3541074788260499,
           "GridSearchCV",
           "Lymphocytes"
          ],
          [
           0.3541074788260499,
           "GridSearchCV",
           "Lymphocytes"
          ],
          [
           0.3541074788260499,
           "GridSearchCV",
           "Lymphocytes"
          ],
          [
           0.3541074788260499,
           "GridSearchCV",
           "Lymphocytes"
          ],
          [
           0.3541074788260499,
           "GridSearchCV",
           "Lymphocytes"
          ],
          [
           0.3541074788260499,
           "GridSearchCV",
           "Lymphocytes"
          ],
          [
           0.3541074788260499,
           "GridSearchCV",
           "Lymphocytes"
          ],
          [
           0.3541074788260499,
           "GridSearchCV",
           "Lymphocytes"
          ],
          [
           0.3541074788260499,
           "GridSearchCV",
           "Lymphocytes"
          ],
          [
           0.3541074788260499,
           "GridSearchCV",
           "Lymphocytes"
          ],
          [
           0.3541074788260499,
           "GridSearchCV",
           "Lymphocytes"
          ],
          [
           0.3541074788260499,
           "GridSearchCV",
           "Lymphocytes"
          ],
          [
           0.3541074788260499,
           "GridSearchCV",
           "Lymphocytes"
          ],
          [
           0.3541074788260499,
           "GridSearchCV",
           "Lymphocytes"
          ],
          [
           0.3541074788260499,
           "GridSearchCV",
           "Lymphocytes"
          ],
          [
           0.3541074788260499,
           "GridSearchCV",
           "Lymphocytes"
          ],
          [
           0.3541074788260499,
           "GridSearchCV",
           "Lymphocytes"
          ],
          [
           0.3541074788260499,
           "GridSearchCV",
           "Lymphocytes"
          ],
          [
           0.3541074788260499,
           "GridSearchCV",
           "Lymphocytes"
          ],
          [
           0.3541074788260499,
           "GridSearchCV",
           "Lymphocytes"
          ],
          [
           0.3541074788260499,
           "GridSearchCV",
           "Lymphocytes"
          ],
          [
           0.3541074788260499,
           "GridSearchCV",
           "Lymphocytes"
          ],
          [
           0.3541074788260499,
           "GridSearchCV",
           "Lymphocytes"
          ],
          [
           0.3541074788260499,
           "GridSearchCV",
           "Lymphocytes"
          ],
          [
           0.3541074788260499,
           "GridSearchCV",
           "Lymphocytes"
          ],
          [
           0.3541074788260499,
           "GridSearchCV",
           "Lymphocytes"
          ],
          [
           0.3541074788260499,
           "GridSearchCV",
           "Lymphocytes"
          ],
          [
           0.3541074788260499,
           "GridSearchCV",
           "Lymphocytes"
          ],
          [
           0.3541074788260499,
           "GridSearchCV",
           "Lymphocytes"
          ]
         ],
         "hovertemplate": "<b>%{hovertext}</b><br><br>prediction=%{y:.3f}<br>mean_prediction=%{customdata[0]:.3f}<extra></extra>",
         "hovertext": [
          "GridSearchCV",
          "GridSearchCV",
          "GridSearchCV",
          "GridSearchCV",
          "GridSearchCV",
          "GridSearchCV",
          "GridSearchCV",
          "GridSearchCV",
          "GridSearchCV",
          "GridSearchCV",
          "GridSearchCV",
          "GridSearchCV",
          "GridSearchCV",
          "GridSearchCV",
          "GridSearchCV",
          "GridSearchCV",
          "GridSearchCV",
          "GridSearchCV",
          "GridSearchCV",
          "GridSearchCV",
          "GridSearchCV",
          "GridSearchCV",
          "GridSearchCV",
          "GridSearchCV",
          "GridSearchCV",
          "GridSearchCV",
          "GridSearchCV",
          "GridSearchCV",
          "GridSearchCV",
          "GridSearchCV",
          "GridSearchCV",
          "GridSearchCV",
          "GridSearchCV",
          "GridSearchCV",
          "GridSearchCV",
          "GridSearchCV",
          "GridSearchCV",
          "GridSearchCV",
          "GridSearchCV",
          "GridSearchCV",
          "GridSearchCV",
          "GridSearchCV",
          "GridSearchCV",
          "GridSearchCV",
          "GridSearchCV",
          "GridSearchCV",
          "GridSearchCV",
          "GridSearchCV",
          "GridSearchCV",
          "GridSearchCV",
          "GridSearchCV",
          "GridSearchCV",
          "GridSearchCV",
          "GridSearchCV",
          "GridSearchCV",
          "GridSearchCV",
          "GridSearchCV",
          "GridSearchCV",
          "GridSearchCV",
          "GridSearchCV",
          "GridSearchCV",
          "GridSearchCV",
          "GridSearchCV",
          "GridSearchCV",
          "GridSearchCV",
          "GridSearchCV",
          "GridSearchCV",
          "GridSearchCV",
          "GridSearchCV",
          "GridSearchCV",
          "GridSearchCV",
          "GridSearchCV",
          "GridSearchCV",
          "GridSearchCV",
          "GridSearchCV",
          "GridSearchCV",
          "GridSearchCV",
          "GridSearchCV",
          "GridSearchCV",
          "GridSearchCV",
          "GridSearchCV",
          "GridSearchCV",
          "GridSearchCV",
          "GridSearchCV",
          "GridSearchCV",
          "GridSearchCV",
          "GridSearchCV",
          "GridSearchCV",
          "GridSearchCV",
          "GridSearchCV",
          "GridSearchCV",
          "GridSearchCV",
          "GridSearchCV",
          "GridSearchCV",
          "GridSearchCV",
          "GridSearchCV",
          "GridSearchCV",
          "GridSearchCV",
          "GridSearchCV",
          "GridSearchCV",
          "GridSearchCV"
         ],
         "legendgroup": "GridSearchCV",
         "line": {
          "color": "#46bac2",
          "dash": "solid",
          "width": 2
         },
         "mode": "lines",
         "name": "GridSearchCV",
         "opacity": 1,
         "orientation": "v",
         "showlegend": false,
         "type": "scatter",
         "x": [
          -1,
          -0.3191666666666667,
          0.3616666666666666,
          1.0425,
          1.7233333333333332,
          2.4041666666666663,
          3.085,
          3.765833333333333,
          4.446666666666666,
          5.1274999999999995,
          5.808333333333333,
          6.489166666666666,
          7.17,
          7.850833333333332,
          8.531666666666666,
          9.212499999999999,
          9.893333333333333,
          10.574166666666667,
          11.254999999999999,
          11.935833333333333,
          12.616666666666665,
          13.2975,
          13.978333333333332,
          14.659166666666666,
          15.34,
          16.020833333333332,
          16.701666666666664,
          17.3825,
          18.063333333333333,
          18.744166666666665,
          19.424999999999997,
          20.105833333333333,
          20.786666666666665,
          21.467499999999998,
          22.148333333333333,
          22.829166666666666,
          23.509999999999998,
          24.19083333333333,
          24.871666666666666,
          25.5525,
          26.23333333333333,
          26.914166666666667,
          27.595,
          28.27583333333333,
          28.956666666666663,
          29.6375,
          30.31833333333333,
          30.999166666666664,
          31.68,
          32.36083333333333,
          33.041666666666664,
          33.7225,
          34.40333333333333,
          35.08416666666666,
          35.765,
          36.44583333333333,
          37.126666666666665,
          37.8075,
          38.48833333333333,
          39.16916666666666,
          39.849999999999994,
          40.530833333333334,
          41.211666666666666,
          41.8925,
          42.57333333333333,
          43.25416666666666,
          43.934999999999995,
          44.61583333333333,
          45.29666666666667,
          45.9775,
          46.65833333333333,
          47.339166666666664,
          48.019999999999996,
          48.70083333333333,
          49.38166666666666,
          50.0625,
          50.74333333333333,
          51.424166666666665,
          52.105,
          52.78583333333333,
          53.46666666666666,
          54.147499999999994,
          54.82833333333333,
          55.509166666666665,
          56.19,
          56.87083333333333,
          57.55166666666666,
          58.232499999999995,
          58.91333333333333,
          59.594166666666666,
          60.275,
          60.95583333333333,
          61.63666666666666,
          62.317499999999995,
          62.99833333333333,
          63.67916666666666,
          64.36,
          65.04083333333332,
          65.72166666666666,
          66.40249999999999,
          67.08333333333333
         ],
         "xaxis": "x3",
         "y": [
          0.5841733311984258,
          0.588714775821219,
          0.6005007482962323,
          0.600545390271541,
          0.5968655788332892,
          0.5993542364751424,
          0.5706469580851851,
          0.5224927716965451,
          0.46997224787675784,
          0.43084151449171343,
          0.39458282780911913,
          0.3433028233214413,
          0.3139814840232801,
          0.2811784385405876,
          0.2780586203341029,
          0.27946017830511743,
          0.2784359933687626,
          0.2757189928488029,
          0.27711449417682443,
          0.2725771938945384,
          0.28429995299151395,
          0.26551268504325526,
          0.2591975468246431,
          0.2534110266781229,
          0.25601186644091606,
          0.2581914895682019,
          0.25688060928106843,
          0.2529251629110006,
          0.25299182957766725,
          0.2569166210149559,
          0.26059006028373627,
          0.25340775285322004,
          0.25133121237723505,
          0.2521994470660979,
          0.2563246995913505,
          0.2544940314248154,
          0.2457840314248156,
          0.24377498357583538,
          0.2430722057980577,
          0.24135566689478594,
          0.24165566689478585,
          0.24093731788319767,
          0.2404484289943088,
          0.2404484289943088,
          0.2404484289943088,
          0.24272176232764214,
          0.24272176232764214,
          0.250215365021245,
          0.250215365021245,
          0.250215365021245,
          0.250215365021245,
          0.250215365021245,
          0.250215365021245,
          0.250215365021245,
          0.250215365021245,
          0.2508820316879116,
          0.2512153650212449,
          0.2508820316879116,
          0.2508820316879116,
          0.2508820316879116,
          0.2508820316879116,
          0.2508820316879116,
          0.2508820316879116,
          0.2508820316879116,
          0.2508820316879116,
          0.2508820316879116,
          0.2508820316879116,
          0.2508820316879116,
          0.2508820316879116,
          0.2508820316879116,
          0.2508820316879116,
          0.2508820316879116,
          0.2508820316879116,
          0.2508820316879116,
          0.2508820316879116,
          0.2508820316879116,
          0.2508820316879116,
          0.2508820316879116,
          0.2508820316879116,
          0.2508820316879116,
          0.2508820316879116,
          0.2508820316879116,
          0.2508820316879116,
          0.2508820316879116,
          0.2508820316879116,
          0.2508820316879116,
          0.2508820316879116,
          0.2508820316879116,
          0.2508820316879116,
          0.2508820316879116,
          0.2508820316879116,
          0.2508820316879116,
          0.2508820316879116,
          0.2508820316879116,
          0.2508820316879116,
          0.2508820316879116,
          0.2508820316879116,
          0.2508820316879116,
          0.2508820316879116,
          0.2508820316879116,
          0.2508820316879116
         ],
         "yaxis": "y3"
        },
        {
         "customdata": [
          [
           0.3541074788260499,
           "GridSearchCV",
           "from_china"
          ],
          [
           0.3541074788260499,
           "GridSearchCV",
           "from_china"
          ],
          [
           0.3541074788260499,
           "GridSearchCV",
           "from_china"
          ],
          [
           0.3541074788260499,
           "GridSearchCV",
           "from_china"
          ],
          [
           0.3541074788260499,
           "GridSearchCV",
           "from_china"
          ],
          [
           0.3541074788260499,
           "GridSearchCV",
           "from_china"
          ],
          [
           0.3541074788260499,
           "GridSearchCV",
           "from_china"
          ],
          [
           0.3541074788260499,
           "GridSearchCV",
           "from_china"
          ],
          [
           0.3541074788260499,
           "GridSearchCV",
           "from_china"
          ],
          [
           0.3541074788260499,
           "GridSearchCV",
           "from_china"
          ],
          [
           0.3541074788260499,
           "GridSearchCV",
           "from_china"
          ],
          [
           0.3541074788260499,
           "GridSearchCV",
           "from_china"
          ],
          [
           0.3541074788260499,
           "GridSearchCV",
           "from_china"
          ],
          [
           0.3541074788260499,
           "GridSearchCV",
           "from_china"
          ],
          [
           0.3541074788260499,
           "GridSearchCV",
           "from_china"
          ],
          [
           0.3541074788260499,
           "GridSearchCV",
           "from_china"
          ],
          [
           0.3541074788260499,
           "GridSearchCV",
           "from_china"
          ],
          [
           0.3541074788260499,
           "GridSearchCV",
           "from_china"
          ],
          [
           0.3541074788260499,
           "GridSearchCV",
           "from_china"
          ],
          [
           0.3541074788260499,
           "GridSearchCV",
           "from_china"
          ],
          [
           0.3541074788260499,
           "GridSearchCV",
           "from_china"
          ],
          [
           0.3541074788260499,
           "GridSearchCV",
           "from_china"
          ],
          [
           0.3541074788260499,
           "GridSearchCV",
           "from_china"
          ],
          [
           0.3541074788260499,
           "GridSearchCV",
           "from_china"
          ],
          [
           0.3541074788260499,
           "GridSearchCV",
           "from_china"
          ],
          [
           0.3541074788260499,
           "GridSearchCV",
           "from_china"
          ],
          [
           0.3541074788260499,
           "GridSearchCV",
           "from_china"
          ],
          [
           0.3541074788260499,
           "GridSearchCV",
           "from_china"
          ],
          [
           0.3541074788260499,
           "GridSearchCV",
           "from_china"
          ],
          [
           0.3541074788260499,
           "GridSearchCV",
           "from_china"
          ],
          [
           0.3541074788260499,
           "GridSearchCV",
           "from_china"
          ],
          [
           0.3541074788260499,
           "GridSearchCV",
           "from_china"
          ],
          [
           0.3541074788260499,
           "GridSearchCV",
           "from_china"
          ],
          [
           0.3541074788260499,
           "GridSearchCV",
           "from_china"
          ],
          [
           0.3541074788260499,
           "GridSearchCV",
           "from_china"
          ],
          [
           0.3541074788260499,
           "GridSearchCV",
           "from_china"
          ],
          [
           0.3541074788260499,
           "GridSearchCV",
           "from_china"
          ],
          [
           0.3541074788260499,
           "GridSearchCV",
           "from_china"
          ],
          [
           0.3541074788260499,
           "GridSearchCV",
           "from_china"
          ],
          [
           0.3541074788260499,
           "GridSearchCV",
           "from_china"
          ],
          [
           0.3541074788260499,
           "GridSearchCV",
           "from_china"
          ],
          [
           0.3541074788260499,
           "GridSearchCV",
           "from_china"
          ],
          [
           0.3541074788260499,
           "GridSearchCV",
           "from_china"
          ],
          [
           0.3541074788260499,
           "GridSearchCV",
           "from_china"
          ],
          [
           0.3541074788260499,
           "GridSearchCV",
           "from_china"
          ],
          [
           0.3541074788260499,
           "GridSearchCV",
           "from_china"
          ],
          [
           0.3541074788260499,
           "GridSearchCV",
           "from_china"
          ],
          [
           0.3541074788260499,
           "GridSearchCV",
           "from_china"
          ],
          [
           0.3541074788260499,
           "GridSearchCV",
           "from_china"
          ],
          [
           0.3541074788260499,
           "GridSearchCV",
           "from_china"
          ],
          [
           0.3541074788260499,
           "GridSearchCV",
           "from_china"
          ],
          [
           0.3541074788260499,
           "GridSearchCV",
           "from_china"
          ],
          [
           0.3541074788260499,
           "GridSearchCV",
           "from_china"
          ],
          [
           0.3541074788260499,
           "GridSearchCV",
           "from_china"
          ],
          [
           0.3541074788260499,
           "GridSearchCV",
           "from_china"
          ],
          [
           0.3541074788260499,
           "GridSearchCV",
           "from_china"
          ],
          [
           0.3541074788260499,
           "GridSearchCV",
           "from_china"
          ],
          [
           0.3541074788260499,
           "GridSearchCV",
           "from_china"
          ],
          [
           0.3541074788260499,
           "GridSearchCV",
           "from_china"
          ],
          [
           0.3541074788260499,
           "GridSearchCV",
           "from_china"
          ],
          [
           0.3541074788260499,
           "GridSearchCV",
           "from_china"
          ],
          [
           0.3541074788260499,
           "GridSearchCV",
           "from_china"
          ],
          [
           0.3541074788260499,
           "GridSearchCV",
           "from_china"
          ],
          [
           0.3541074788260499,
           "GridSearchCV",
           "from_china"
          ],
          [
           0.3541074788260499,
           "GridSearchCV",
           "from_china"
          ],
          [
           0.3541074788260499,
           "GridSearchCV",
           "from_china"
          ],
          [
           0.3541074788260499,
           "GridSearchCV",
           "from_china"
          ],
          [
           0.3541074788260499,
           "GridSearchCV",
           "from_china"
          ],
          [
           0.3541074788260499,
           "GridSearchCV",
           "from_china"
          ],
          [
           0.3541074788260499,
           "GridSearchCV",
           "from_china"
          ],
          [
           0.3541074788260499,
           "GridSearchCV",
           "from_china"
          ],
          [
           0.3541074788260499,
           "GridSearchCV",
           "from_china"
          ],
          [
           0.3541074788260499,
           "GridSearchCV",
           "from_china"
          ],
          [
           0.3541074788260499,
           "GridSearchCV",
           "from_china"
          ],
          [
           0.3541074788260499,
           "GridSearchCV",
           "from_china"
          ],
          [
           0.3541074788260499,
           "GridSearchCV",
           "from_china"
          ],
          [
           0.3541074788260499,
           "GridSearchCV",
           "from_china"
          ],
          [
           0.3541074788260499,
           "GridSearchCV",
           "from_china"
          ],
          [
           0.3541074788260499,
           "GridSearchCV",
           "from_china"
          ],
          [
           0.3541074788260499,
           "GridSearchCV",
           "from_china"
          ],
          [
           0.3541074788260499,
           "GridSearchCV",
           "from_china"
          ],
          [
           0.3541074788260499,
           "GridSearchCV",
           "from_china"
          ],
          [
           0.3541074788260499,
           "GridSearchCV",
           "from_china"
          ],
          [
           0.3541074788260499,
           "GridSearchCV",
           "from_china"
          ],
          [
           0.3541074788260499,
           "GridSearchCV",
           "from_china"
          ],
          [
           0.3541074788260499,
           "GridSearchCV",
           "from_china"
          ],
          [
           0.3541074788260499,
           "GridSearchCV",
           "from_china"
          ],
          [
           0.3541074788260499,
           "GridSearchCV",
           "from_china"
          ],
          [
           0.3541074788260499,
           "GridSearchCV",
           "from_china"
          ],
          [
           0.3541074788260499,
           "GridSearchCV",
           "from_china"
          ],
          [
           0.3541074788260499,
           "GridSearchCV",
           "from_china"
          ],
          [
           0.3541074788260499,
           "GridSearchCV",
           "from_china"
          ],
          [
           0.3541074788260499,
           "GridSearchCV",
           "from_china"
          ],
          [
           0.3541074788260499,
           "GridSearchCV",
           "from_china"
          ],
          [
           0.3541074788260499,
           "GridSearchCV",
           "from_china"
          ],
          [
           0.3541074788260499,
           "GridSearchCV",
           "from_china"
          ],
          [
           0.3541074788260499,
           "GridSearchCV",
           "from_china"
          ],
          [
           0.3541074788260499,
           "GridSearchCV",
           "from_china"
          ],
          [
           0.3541074788260499,
           "GridSearchCV",
           "from_china"
          ],
          [
           0.3541074788260499,
           "GridSearchCV",
           "from_china"
          ],
          [
           0.3541074788260499,
           "GridSearchCV",
           "from_china"
          ]
         ],
         "hovertemplate": "<b>%{hovertext}</b><br><br>prediction=%{y:.3f}<br>mean_prediction=%{customdata[0]:.3f}<extra></extra>",
         "hovertext": [
          "GridSearchCV",
          "GridSearchCV",
          "GridSearchCV",
          "GridSearchCV",
          "GridSearchCV",
          "GridSearchCV",
          "GridSearchCV",
          "GridSearchCV",
          "GridSearchCV",
          "GridSearchCV",
          "GridSearchCV",
          "GridSearchCV",
          "GridSearchCV",
          "GridSearchCV",
          "GridSearchCV",
          "GridSearchCV",
          "GridSearchCV",
          "GridSearchCV",
          "GridSearchCV",
          "GridSearchCV",
          "GridSearchCV",
          "GridSearchCV",
          "GridSearchCV",
          "GridSearchCV",
          "GridSearchCV",
          "GridSearchCV",
          "GridSearchCV",
          "GridSearchCV",
          "GridSearchCV",
          "GridSearchCV",
          "GridSearchCV",
          "GridSearchCV",
          "GridSearchCV",
          "GridSearchCV",
          "GridSearchCV",
          "GridSearchCV",
          "GridSearchCV",
          "GridSearchCV",
          "GridSearchCV",
          "GridSearchCV",
          "GridSearchCV",
          "GridSearchCV",
          "GridSearchCV",
          "GridSearchCV",
          "GridSearchCV",
          "GridSearchCV",
          "GridSearchCV",
          "GridSearchCV",
          "GridSearchCV",
          "GridSearchCV",
          "GridSearchCV",
          "GridSearchCV",
          "GridSearchCV",
          "GridSearchCV",
          "GridSearchCV",
          "GridSearchCV",
          "GridSearchCV",
          "GridSearchCV",
          "GridSearchCV",
          "GridSearchCV",
          "GridSearchCV",
          "GridSearchCV",
          "GridSearchCV",
          "GridSearchCV",
          "GridSearchCV",
          "GridSearchCV",
          "GridSearchCV",
          "GridSearchCV",
          "GridSearchCV",
          "GridSearchCV",
          "GridSearchCV",
          "GridSearchCV",
          "GridSearchCV",
          "GridSearchCV",
          "GridSearchCV",
          "GridSearchCV",
          "GridSearchCV",
          "GridSearchCV",
          "GridSearchCV",
          "GridSearchCV",
          "GridSearchCV",
          "GridSearchCV",
          "GridSearchCV",
          "GridSearchCV",
          "GridSearchCV",
          "GridSearchCV",
          "GridSearchCV",
          "GridSearchCV",
          "GridSearchCV",
          "GridSearchCV",
          "GridSearchCV",
          "GridSearchCV",
          "GridSearchCV",
          "GridSearchCV",
          "GridSearchCV",
          "GridSearchCV",
          "GridSearchCV",
          "GridSearchCV",
          "GridSearchCV",
          "GridSearchCV",
          "GridSearchCV"
         ],
         "legendgroup": "GridSearchCV",
         "line": {
          "color": "#46bac2",
          "dash": "solid",
          "width": 2
         },
         "mode": "lines",
         "name": "GridSearchCV",
         "opacity": 1,
         "orientation": "v",
         "showlegend": false,
         "type": "scatter",
         "x": [
          0,
          0.01,
          0.02,
          0.03,
          0.04,
          0.05,
          0.06,
          0.07,
          0.08,
          0.09,
          0.1,
          0.11,
          0.12,
          0.13,
          0.14,
          0.15,
          0.16,
          0.17,
          0.18,
          0.19,
          0.2,
          0.21,
          0.22,
          0.23,
          0.24,
          0.25,
          0.26,
          0.27,
          0.28,
          0.29,
          0.3,
          0.31,
          0.32,
          0.33,
          0.34,
          0.35000000000000003,
          0.36,
          0.37,
          0.38,
          0.39,
          0.4,
          0.41000000000000003,
          0.42,
          0.43,
          0.44,
          0.45,
          0.46,
          0.47000000000000003,
          0.48,
          0.49,
          0.5,
          0.51,
          0.52,
          0.53,
          0.54,
          0.55,
          0.56,
          0.5700000000000001,
          0.58,
          0.59,
          0.6,
          0.61,
          0.62,
          0.63,
          0.64,
          0.65,
          0.66,
          0.67,
          0.68,
          0.6900000000000001,
          0.7000000000000001,
          0.71,
          0.72,
          0.73,
          0.74,
          0.75,
          0.76,
          0.77,
          0.78,
          0.79,
          0.8,
          0.81,
          0.8200000000000001,
          0.8300000000000001,
          0.84,
          0.85,
          0.86,
          0.87,
          0.88,
          0.89,
          0.9,
          0.91,
          0.92,
          0.93,
          0.9400000000000001,
          0.9500000000000001,
          0.96,
          0.97,
          0.98,
          0.99,
          1
         ],
         "xaxis": "x4",
         "y": [
          0.3127715687382982,
          0.3127715687382982,
          0.3127715687382982,
          0.3127715687382982,
          0.3127715687382982,
          0.3127715687382982,
          0.3127715687382982,
          0.3127715687382982,
          0.3127715687382982,
          0.3127715687382982,
          0.3127715687382982,
          0.3127715687382982,
          0.3127715687382982,
          0.3127715687382982,
          0.3127715687382982,
          0.3127715687382982,
          0.3127715687382982,
          0.3127715687382982,
          0.3127715687382982,
          0.3127715687382982,
          0.3127715687382982,
          0.3127715687382982,
          0.3127715687382982,
          0.3127715687382982,
          0.3127715687382982,
          0.3127715687382982,
          0.3127715687382982,
          0.3127715687382982,
          0.3127715687382982,
          0.3127715687382982,
          0.3127715687382982,
          0.3127715687382982,
          0.3127715687382982,
          0.3127715687382982,
          0.3127715687382982,
          0.3127715687382982,
          0.3127715687382982,
          0.3127715687382982,
          0.3127715687382982,
          0.3127715687382982,
          0.3127715687382982,
          0.3127715687382982,
          0.3127715687382982,
          0.3127715687382982,
          0.3127715687382982,
          0.3127715687382982,
          0.3127715687382982,
          0.3127715687382982,
          0.3127715687382982,
          0.3127715687382982,
          0.3127715687382982,
          0.5449597423620864,
          0.5449597423620864,
          0.5449597423620864,
          0.5449597423620864,
          0.5449597423620864,
          0.5449597423620864,
          0.5449597423620864,
          0.5449597423620864,
          0.5449597423620864,
          0.5449597423620864,
          0.5449597423620864,
          0.5449597423620864,
          0.5449597423620864,
          0.5449597423620864,
          0.5449597423620864,
          0.5449597423620864,
          0.5449597423620864,
          0.5449597423620864,
          0.5449597423620864,
          0.5449597423620864,
          0.5449597423620864,
          0.5449597423620864,
          0.5449597423620864,
          0.5449597423620864,
          0.5449597423620864,
          0.5449597423620864,
          0.5449597423620864,
          0.5449597423620864,
          0.5449597423620864,
          0.5449597423620864,
          0.5449597423620864,
          0.5449597423620864,
          0.5449597423620864,
          0.5449597423620864,
          0.5449597423620864,
          0.5449597423620864,
          0.5449597423620864,
          0.5449597423620864,
          0.5449597423620864,
          0.5449597423620864,
          0.5449597423620864,
          0.5449597423620864,
          0.5449597423620864,
          0.5449597423620864,
          0.5449597423620864,
          0.5449597423620864,
          0.5449597423620864,
          0.5449597423620864,
          0.5449597423620864,
          0.5449597423620864
         ],
         "yaxis": "y4"
        },
        {
         "customdata": [
          [
           0.3541074788260499,
           "GridSearchCV",
           "from_netherlands"
          ],
          [
           0.3541074788260499,
           "GridSearchCV",
           "from_netherlands"
          ],
          [
           0.3541074788260499,
           "GridSearchCV",
           "from_netherlands"
          ],
          [
           0.3541074788260499,
           "GridSearchCV",
           "from_netherlands"
          ],
          [
           0.3541074788260499,
           "GridSearchCV",
           "from_netherlands"
          ],
          [
           0.3541074788260499,
           "GridSearchCV",
           "from_netherlands"
          ],
          [
           0.3541074788260499,
           "GridSearchCV",
           "from_netherlands"
          ],
          [
           0.3541074788260499,
           "GridSearchCV",
           "from_netherlands"
          ],
          [
           0.3541074788260499,
           "GridSearchCV",
           "from_netherlands"
          ],
          [
           0.3541074788260499,
           "GridSearchCV",
           "from_netherlands"
          ],
          [
           0.3541074788260499,
           "GridSearchCV",
           "from_netherlands"
          ],
          [
           0.3541074788260499,
           "GridSearchCV",
           "from_netherlands"
          ],
          [
           0.3541074788260499,
           "GridSearchCV",
           "from_netherlands"
          ],
          [
           0.3541074788260499,
           "GridSearchCV",
           "from_netherlands"
          ],
          [
           0.3541074788260499,
           "GridSearchCV",
           "from_netherlands"
          ],
          [
           0.3541074788260499,
           "GridSearchCV",
           "from_netherlands"
          ],
          [
           0.3541074788260499,
           "GridSearchCV",
           "from_netherlands"
          ],
          [
           0.3541074788260499,
           "GridSearchCV",
           "from_netherlands"
          ],
          [
           0.3541074788260499,
           "GridSearchCV",
           "from_netherlands"
          ],
          [
           0.3541074788260499,
           "GridSearchCV",
           "from_netherlands"
          ],
          [
           0.3541074788260499,
           "GridSearchCV",
           "from_netherlands"
          ],
          [
           0.3541074788260499,
           "GridSearchCV",
           "from_netherlands"
          ],
          [
           0.3541074788260499,
           "GridSearchCV",
           "from_netherlands"
          ],
          [
           0.3541074788260499,
           "GridSearchCV",
           "from_netherlands"
          ],
          [
           0.3541074788260499,
           "GridSearchCV",
           "from_netherlands"
          ],
          [
           0.3541074788260499,
           "GridSearchCV",
           "from_netherlands"
          ],
          [
           0.3541074788260499,
           "GridSearchCV",
           "from_netherlands"
          ],
          [
           0.3541074788260499,
           "GridSearchCV",
           "from_netherlands"
          ],
          [
           0.3541074788260499,
           "GridSearchCV",
           "from_netherlands"
          ],
          [
           0.3541074788260499,
           "GridSearchCV",
           "from_netherlands"
          ],
          [
           0.3541074788260499,
           "GridSearchCV",
           "from_netherlands"
          ],
          [
           0.3541074788260499,
           "GridSearchCV",
           "from_netherlands"
          ],
          [
           0.3541074788260499,
           "GridSearchCV",
           "from_netherlands"
          ],
          [
           0.3541074788260499,
           "GridSearchCV",
           "from_netherlands"
          ],
          [
           0.3541074788260499,
           "GridSearchCV",
           "from_netherlands"
          ],
          [
           0.3541074788260499,
           "GridSearchCV",
           "from_netherlands"
          ],
          [
           0.3541074788260499,
           "GridSearchCV",
           "from_netherlands"
          ],
          [
           0.3541074788260499,
           "GridSearchCV",
           "from_netherlands"
          ],
          [
           0.3541074788260499,
           "GridSearchCV",
           "from_netherlands"
          ],
          [
           0.3541074788260499,
           "GridSearchCV",
           "from_netherlands"
          ],
          [
           0.3541074788260499,
           "GridSearchCV",
           "from_netherlands"
          ],
          [
           0.3541074788260499,
           "GridSearchCV",
           "from_netherlands"
          ],
          [
           0.3541074788260499,
           "GridSearchCV",
           "from_netherlands"
          ],
          [
           0.3541074788260499,
           "GridSearchCV",
           "from_netherlands"
          ],
          [
           0.3541074788260499,
           "GridSearchCV",
           "from_netherlands"
          ],
          [
           0.3541074788260499,
           "GridSearchCV",
           "from_netherlands"
          ],
          [
           0.3541074788260499,
           "GridSearchCV",
           "from_netherlands"
          ],
          [
           0.3541074788260499,
           "GridSearchCV",
           "from_netherlands"
          ],
          [
           0.3541074788260499,
           "GridSearchCV",
           "from_netherlands"
          ],
          [
           0.3541074788260499,
           "GridSearchCV",
           "from_netherlands"
          ],
          [
           0.3541074788260499,
           "GridSearchCV",
           "from_netherlands"
          ],
          [
           0.3541074788260499,
           "GridSearchCV",
           "from_netherlands"
          ],
          [
           0.3541074788260499,
           "GridSearchCV",
           "from_netherlands"
          ],
          [
           0.3541074788260499,
           "GridSearchCV",
           "from_netherlands"
          ],
          [
           0.3541074788260499,
           "GridSearchCV",
           "from_netherlands"
          ],
          [
           0.3541074788260499,
           "GridSearchCV",
           "from_netherlands"
          ],
          [
           0.3541074788260499,
           "GridSearchCV",
           "from_netherlands"
          ],
          [
           0.3541074788260499,
           "GridSearchCV",
           "from_netherlands"
          ],
          [
           0.3541074788260499,
           "GridSearchCV",
           "from_netherlands"
          ],
          [
           0.3541074788260499,
           "GridSearchCV",
           "from_netherlands"
          ],
          [
           0.3541074788260499,
           "GridSearchCV",
           "from_netherlands"
          ],
          [
           0.3541074788260499,
           "GridSearchCV",
           "from_netherlands"
          ],
          [
           0.3541074788260499,
           "GridSearchCV",
           "from_netherlands"
          ],
          [
           0.3541074788260499,
           "GridSearchCV",
           "from_netherlands"
          ],
          [
           0.3541074788260499,
           "GridSearchCV",
           "from_netherlands"
          ],
          [
           0.3541074788260499,
           "GridSearchCV",
           "from_netherlands"
          ],
          [
           0.3541074788260499,
           "GridSearchCV",
           "from_netherlands"
          ],
          [
           0.3541074788260499,
           "GridSearchCV",
           "from_netherlands"
          ],
          [
           0.3541074788260499,
           "GridSearchCV",
           "from_netherlands"
          ],
          [
           0.3541074788260499,
           "GridSearchCV",
           "from_netherlands"
          ],
          [
           0.3541074788260499,
           "GridSearchCV",
           "from_netherlands"
          ],
          [
           0.3541074788260499,
           "GridSearchCV",
           "from_netherlands"
          ],
          [
           0.3541074788260499,
           "GridSearchCV",
           "from_netherlands"
          ],
          [
           0.3541074788260499,
           "GridSearchCV",
           "from_netherlands"
          ],
          [
           0.3541074788260499,
           "GridSearchCV",
           "from_netherlands"
          ],
          [
           0.3541074788260499,
           "GridSearchCV",
           "from_netherlands"
          ],
          [
           0.3541074788260499,
           "GridSearchCV",
           "from_netherlands"
          ],
          [
           0.3541074788260499,
           "GridSearchCV",
           "from_netherlands"
          ],
          [
           0.3541074788260499,
           "GridSearchCV",
           "from_netherlands"
          ],
          [
           0.3541074788260499,
           "GridSearchCV",
           "from_netherlands"
          ],
          [
           0.3541074788260499,
           "GridSearchCV",
           "from_netherlands"
          ],
          [
           0.3541074788260499,
           "GridSearchCV",
           "from_netherlands"
          ],
          [
           0.3541074788260499,
           "GridSearchCV",
           "from_netherlands"
          ],
          [
           0.3541074788260499,
           "GridSearchCV",
           "from_netherlands"
          ],
          [
           0.3541074788260499,
           "GridSearchCV",
           "from_netherlands"
          ],
          [
           0.3541074788260499,
           "GridSearchCV",
           "from_netherlands"
          ],
          [
           0.3541074788260499,
           "GridSearchCV",
           "from_netherlands"
          ],
          [
           0.3541074788260499,
           "GridSearchCV",
           "from_netherlands"
          ],
          [
           0.3541074788260499,
           "GridSearchCV",
           "from_netherlands"
          ],
          [
           0.3541074788260499,
           "GridSearchCV",
           "from_netherlands"
          ],
          [
           0.3541074788260499,
           "GridSearchCV",
           "from_netherlands"
          ],
          [
           0.3541074788260499,
           "GridSearchCV",
           "from_netherlands"
          ],
          [
           0.3541074788260499,
           "GridSearchCV",
           "from_netherlands"
          ],
          [
           0.3541074788260499,
           "GridSearchCV",
           "from_netherlands"
          ],
          [
           0.3541074788260499,
           "GridSearchCV",
           "from_netherlands"
          ],
          [
           0.3541074788260499,
           "GridSearchCV",
           "from_netherlands"
          ],
          [
           0.3541074788260499,
           "GridSearchCV",
           "from_netherlands"
          ],
          [
           0.3541074788260499,
           "GridSearchCV",
           "from_netherlands"
          ],
          [
           0.3541074788260499,
           "GridSearchCV",
           "from_netherlands"
          ],
          [
           0.3541074788260499,
           "GridSearchCV",
           "from_netherlands"
          ],
          [
           0.3541074788260499,
           "GridSearchCV",
           "from_netherlands"
          ]
         ],
         "hovertemplate": "<b>%{hovertext}</b><br><br>prediction=%{y:.3f}<br>mean_prediction=%{customdata[0]:.3f}<extra></extra>",
         "hovertext": [
          "GridSearchCV",
          "GridSearchCV",
          "GridSearchCV",
          "GridSearchCV",
          "GridSearchCV",
          "GridSearchCV",
          "GridSearchCV",
          "GridSearchCV",
          "GridSearchCV",
          "GridSearchCV",
          "GridSearchCV",
          "GridSearchCV",
          "GridSearchCV",
          "GridSearchCV",
          "GridSearchCV",
          "GridSearchCV",
          "GridSearchCV",
          "GridSearchCV",
          "GridSearchCV",
          "GridSearchCV",
          "GridSearchCV",
          "GridSearchCV",
          "GridSearchCV",
          "GridSearchCV",
          "GridSearchCV",
          "GridSearchCV",
          "GridSearchCV",
          "GridSearchCV",
          "GridSearchCV",
          "GridSearchCV",
          "GridSearchCV",
          "GridSearchCV",
          "GridSearchCV",
          "GridSearchCV",
          "GridSearchCV",
          "GridSearchCV",
          "GridSearchCV",
          "GridSearchCV",
          "GridSearchCV",
          "GridSearchCV",
          "GridSearchCV",
          "GridSearchCV",
          "GridSearchCV",
          "GridSearchCV",
          "GridSearchCV",
          "GridSearchCV",
          "GridSearchCV",
          "GridSearchCV",
          "GridSearchCV",
          "GridSearchCV",
          "GridSearchCV",
          "GridSearchCV",
          "GridSearchCV",
          "GridSearchCV",
          "GridSearchCV",
          "GridSearchCV",
          "GridSearchCV",
          "GridSearchCV",
          "GridSearchCV",
          "GridSearchCV",
          "GridSearchCV",
          "GridSearchCV",
          "GridSearchCV",
          "GridSearchCV",
          "GridSearchCV",
          "GridSearchCV",
          "GridSearchCV",
          "GridSearchCV",
          "GridSearchCV",
          "GridSearchCV",
          "GridSearchCV",
          "GridSearchCV",
          "GridSearchCV",
          "GridSearchCV",
          "GridSearchCV",
          "GridSearchCV",
          "GridSearchCV",
          "GridSearchCV",
          "GridSearchCV",
          "GridSearchCV",
          "GridSearchCV",
          "GridSearchCV",
          "GridSearchCV",
          "GridSearchCV",
          "GridSearchCV",
          "GridSearchCV",
          "GridSearchCV",
          "GridSearchCV",
          "GridSearchCV",
          "GridSearchCV",
          "GridSearchCV",
          "GridSearchCV",
          "GridSearchCV",
          "GridSearchCV",
          "GridSearchCV",
          "GridSearchCV",
          "GridSearchCV",
          "GridSearchCV",
          "GridSearchCV",
          "GridSearchCV",
          "GridSearchCV"
         ],
         "legendgroup": "GridSearchCV",
         "line": {
          "color": "#46bac2",
          "dash": "solid",
          "width": 2
         },
         "mode": "lines",
         "name": "GridSearchCV",
         "opacity": 1,
         "orientation": "v",
         "showlegend": false,
         "type": "scatter",
         "x": [
          0,
          0.01,
          0.02,
          0.03,
          0.04,
          0.05,
          0.06,
          0.07,
          0.08,
          0.09,
          0.1,
          0.11,
          0.12,
          0.13,
          0.14,
          0.15,
          0.16,
          0.17,
          0.18,
          0.19,
          0.2,
          0.21,
          0.22,
          0.23,
          0.24,
          0.25,
          0.26,
          0.27,
          0.28,
          0.29,
          0.3,
          0.31,
          0.32,
          0.33,
          0.34,
          0.35000000000000003,
          0.36,
          0.37,
          0.38,
          0.39,
          0.4,
          0.41000000000000003,
          0.42,
          0.43,
          0.44,
          0.45,
          0.46,
          0.47000000000000003,
          0.48,
          0.49,
          0.5,
          0.51,
          0.52,
          0.53,
          0.54,
          0.55,
          0.56,
          0.5700000000000001,
          0.58,
          0.59,
          0.6,
          0.61,
          0.62,
          0.63,
          0.64,
          0.65,
          0.66,
          0.67,
          0.68,
          0.6900000000000001,
          0.7000000000000001,
          0.71,
          0.72,
          0.73,
          0.74,
          0.75,
          0.76,
          0.77,
          0.78,
          0.79,
          0.8,
          0.81,
          0.8200000000000001,
          0.8300000000000001,
          0.84,
          0.85,
          0.86,
          0.87,
          0.88,
          0.89,
          0.9,
          0.91,
          0.92,
          0.93,
          0.9400000000000001,
          0.9500000000000001,
          0.96,
          0.97,
          0.98,
          0.99,
          1
         ],
         "xaxis": "x",
         "y": [
          0.36225307260331174,
          0.36225307260331174,
          0.36225307260331174,
          0.36225307260331174,
          0.36225307260331174,
          0.36225307260331174,
          0.36225307260331174,
          0.36225307260331174,
          0.36225307260331174,
          0.36225307260331174,
          0.36225307260331174,
          0.36225307260331174,
          0.36225307260331174,
          0.36225307260331174,
          0.36225307260331174,
          0.36225307260331174,
          0.36225307260331174,
          0.36225307260331174,
          0.36225307260331174,
          0.36225307260331174,
          0.36225307260331174,
          0.36225307260331174,
          0.36225307260331174,
          0.36225307260331174,
          0.36225307260331174,
          0.36225307260331174,
          0.36225307260331174,
          0.36225307260331174,
          0.36225307260331174,
          0.36225307260331174,
          0.36225307260331174,
          0.36225307260331174,
          0.36225307260331174,
          0.36225307260331174,
          0.36225307260331174,
          0.36225307260331174,
          0.36225307260331174,
          0.36225307260331174,
          0.36225307260331174,
          0.36225307260331174,
          0.36225307260331174,
          0.36225307260331174,
          0.36225307260331174,
          0.36225307260331174,
          0.36225307260331174,
          0.36225307260331174,
          0.36225307260331174,
          0.36225307260331174,
          0.36225307260331174,
          0.36225307260331174,
          0.36225307260331174,
          0.3287206059522345,
          0.3287206059522345,
          0.3287206059522345,
          0.3287206059522345,
          0.3287206059522345,
          0.3287206059522345,
          0.3287206059522345,
          0.3287206059522345,
          0.3287206059522345,
          0.3287206059522345,
          0.3287206059522345,
          0.3287206059522345,
          0.3287206059522345,
          0.3287206059522345,
          0.3287206059522345,
          0.3287206059522345,
          0.3287206059522345,
          0.3287206059522345,
          0.3287206059522345,
          0.3287206059522345,
          0.3287206059522345,
          0.3287206059522345,
          0.3287206059522345,
          0.3287206059522345,
          0.3287206059522345,
          0.3287206059522345,
          0.3287206059522345,
          0.3287206059522345,
          0.3287206059522345,
          0.3287206059522345,
          0.3287206059522345,
          0.3287206059522345,
          0.3287206059522345,
          0.3287206059522345,
          0.3287206059522345,
          0.3287206059522345,
          0.3287206059522345,
          0.3287206059522345,
          0.3287206059522345,
          0.3287206059522345,
          0.3287206059522345,
          0.3287206059522345,
          0.3287206059522345,
          0.3287206059522345,
          0.3287206059522345,
          0.3287206059522345,
          0.3287206059522345,
          0.3287206059522345,
          0.3287206059522345,
          0.3287206059522345
         ],
         "yaxis": "y"
        },
        {
         "customdata": [
          [
           0.3541074788260499,
           "GridSearchCV",
           "from_newyork"
          ],
          [
           0.3541074788260499,
           "GridSearchCV",
           "from_newyork"
          ],
          [
           0.3541074788260499,
           "GridSearchCV",
           "from_newyork"
          ],
          [
           0.3541074788260499,
           "GridSearchCV",
           "from_newyork"
          ],
          [
           0.3541074788260499,
           "GridSearchCV",
           "from_newyork"
          ],
          [
           0.3541074788260499,
           "GridSearchCV",
           "from_newyork"
          ],
          [
           0.3541074788260499,
           "GridSearchCV",
           "from_newyork"
          ],
          [
           0.3541074788260499,
           "GridSearchCV",
           "from_newyork"
          ],
          [
           0.3541074788260499,
           "GridSearchCV",
           "from_newyork"
          ],
          [
           0.3541074788260499,
           "GridSearchCV",
           "from_newyork"
          ],
          [
           0.3541074788260499,
           "GridSearchCV",
           "from_newyork"
          ],
          [
           0.3541074788260499,
           "GridSearchCV",
           "from_newyork"
          ],
          [
           0.3541074788260499,
           "GridSearchCV",
           "from_newyork"
          ],
          [
           0.3541074788260499,
           "GridSearchCV",
           "from_newyork"
          ],
          [
           0.3541074788260499,
           "GridSearchCV",
           "from_newyork"
          ],
          [
           0.3541074788260499,
           "GridSearchCV",
           "from_newyork"
          ],
          [
           0.3541074788260499,
           "GridSearchCV",
           "from_newyork"
          ],
          [
           0.3541074788260499,
           "GridSearchCV",
           "from_newyork"
          ],
          [
           0.3541074788260499,
           "GridSearchCV",
           "from_newyork"
          ],
          [
           0.3541074788260499,
           "GridSearchCV",
           "from_newyork"
          ],
          [
           0.3541074788260499,
           "GridSearchCV",
           "from_newyork"
          ],
          [
           0.3541074788260499,
           "GridSearchCV",
           "from_newyork"
          ],
          [
           0.3541074788260499,
           "GridSearchCV",
           "from_newyork"
          ],
          [
           0.3541074788260499,
           "GridSearchCV",
           "from_newyork"
          ],
          [
           0.3541074788260499,
           "GridSearchCV",
           "from_newyork"
          ],
          [
           0.3541074788260499,
           "GridSearchCV",
           "from_newyork"
          ],
          [
           0.3541074788260499,
           "GridSearchCV",
           "from_newyork"
          ],
          [
           0.3541074788260499,
           "GridSearchCV",
           "from_newyork"
          ],
          [
           0.3541074788260499,
           "GridSearchCV",
           "from_newyork"
          ],
          [
           0.3541074788260499,
           "GridSearchCV",
           "from_newyork"
          ],
          [
           0.3541074788260499,
           "GridSearchCV",
           "from_newyork"
          ],
          [
           0.3541074788260499,
           "GridSearchCV",
           "from_newyork"
          ],
          [
           0.3541074788260499,
           "GridSearchCV",
           "from_newyork"
          ],
          [
           0.3541074788260499,
           "GridSearchCV",
           "from_newyork"
          ],
          [
           0.3541074788260499,
           "GridSearchCV",
           "from_newyork"
          ],
          [
           0.3541074788260499,
           "GridSearchCV",
           "from_newyork"
          ],
          [
           0.3541074788260499,
           "GridSearchCV",
           "from_newyork"
          ],
          [
           0.3541074788260499,
           "GridSearchCV",
           "from_newyork"
          ],
          [
           0.3541074788260499,
           "GridSearchCV",
           "from_newyork"
          ],
          [
           0.3541074788260499,
           "GridSearchCV",
           "from_newyork"
          ],
          [
           0.3541074788260499,
           "GridSearchCV",
           "from_newyork"
          ],
          [
           0.3541074788260499,
           "GridSearchCV",
           "from_newyork"
          ],
          [
           0.3541074788260499,
           "GridSearchCV",
           "from_newyork"
          ],
          [
           0.3541074788260499,
           "GridSearchCV",
           "from_newyork"
          ],
          [
           0.3541074788260499,
           "GridSearchCV",
           "from_newyork"
          ],
          [
           0.3541074788260499,
           "GridSearchCV",
           "from_newyork"
          ],
          [
           0.3541074788260499,
           "GridSearchCV",
           "from_newyork"
          ],
          [
           0.3541074788260499,
           "GridSearchCV",
           "from_newyork"
          ],
          [
           0.3541074788260499,
           "GridSearchCV",
           "from_newyork"
          ],
          [
           0.3541074788260499,
           "GridSearchCV",
           "from_newyork"
          ],
          [
           0.3541074788260499,
           "GridSearchCV",
           "from_newyork"
          ],
          [
           0.3541074788260499,
           "GridSearchCV",
           "from_newyork"
          ],
          [
           0.3541074788260499,
           "GridSearchCV",
           "from_newyork"
          ],
          [
           0.3541074788260499,
           "GridSearchCV",
           "from_newyork"
          ],
          [
           0.3541074788260499,
           "GridSearchCV",
           "from_newyork"
          ],
          [
           0.3541074788260499,
           "GridSearchCV",
           "from_newyork"
          ],
          [
           0.3541074788260499,
           "GridSearchCV",
           "from_newyork"
          ],
          [
           0.3541074788260499,
           "GridSearchCV",
           "from_newyork"
          ],
          [
           0.3541074788260499,
           "GridSearchCV",
           "from_newyork"
          ],
          [
           0.3541074788260499,
           "GridSearchCV",
           "from_newyork"
          ],
          [
           0.3541074788260499,
           "GridSearchCV",
           "from_newyork"
          ],
          [
           0.3541074788260499,
           "GridSearchCV",
           "from_newyork"
          ],
          [
           0.3541074788260499,
           "GridSearchCV",
           "from_newyork"
          ],
          [
           0.3541074788260499,
           "GridSearchCV",
           "from_newyork"
          ],
          [
           0.3541074788260499,
           "GridSearchCV",
           "from_newyork"
          ],
          [
           0.3541074788260499,
           "GridSearchCV",
           "from_newyork"
          ],
          [
           0.3541074788260499,
           "GridSearchCV",
           "from_newyork"
          ],
          [
           0.3541074788260499,
           "GridSearchCV",
           "from_newyork"
          ],
          [
           0.3541074788260499,
           "GridSearchCV",
           "from_newyork"
          ],
          [
           0.3541074788260499,
           "GridSearchCV",
           "from_newyork"
          ],
          [
           0.3541074788260499,
           "GridSearchCV",
           "from_newyork"
          ],
          [
           0.3541074788260499,
           "GridSearchCV",
           "from_newyork"
          ],
          [
           0.3541074788260499,
           "GridSearchCV",
           "from_newyork"
          ],
          [
           0.3541074788260499,
           "GridSearchCV",
           "from_newyork"
          ],
          [
           0.3541074788260499,
           "GridSearchCV",
           "from_newyork"
          ],
          [
           0.3541074788260499,
           "GridSearchCV",
           "from_newyork"
          ],
          [
           0.3541074788260499,
           "GridSearchCV",
           "from_newyork"
          ],
          [
           0.3541074788260499,
           "GridSearchCV",
           "from_newyork"
          ],
          [
           0.3541074788260499,
           "GridSearchCV",
           "from_newyork"
          ],
          [
           0.3541074788260499,
           "GridSearchCV",
           "from_newyork"
          ],
          [
           0.3541074788260499,
           "GridSearchCV",
           "from_newyork"
          ],
          [
           0.3541074788260499,
           "GridSearchCV",
           "from_newyork"
          ],
          [
           0.3541074788260499,
           "GridSearchCV",
           "from_newyork"
          ],
          [
           0.3541074788260499,
           "GridSearchCV",
           "from_newyork"
          ],
          [
           0.3541074788260499,
           "GridSearchCV",
           "from_newyork"
          ],
          [
           0.3541074788260499,
           "GridSearchCV",
           "from_newyork"
          ],
          [
           0.3541074788260499,
           "GridSearchCV",
           "from_newyork"
          ],
          [
           0.3541074788260499,
           "GridSearchCV",
           "from_newyork"
          ],
          [
           0.3541074788260499,
           "GridSearchCV",
           "from_newyork"
          ],
          [
           0.3541074788260499,
           "GridSearchCV",
           "from_newyork"
          ],
          [
           0.3541074788260499,
           "GridSearchCV",
           "from_newyork"
          ],
          [
           0.3541074788260499,
           "GridSearchCV",
           "from_newyork"
          ],
          [
           0.3541074788260499,
           "GridSearchCV",
           "from_newyork"
          ],
          [
           0.3541074788260499,
           "GridSearchCV",
           "from_newyork"
          ],
          [
           0.3541074788260499,
           "GridSearchCV",
           "from_newyork"
          ],
          [
           0.3541074788260499,
           "GridSearchCV",
           "from_newyork"
          ],
          [
           0.3541074788260499,
           "GridSearchCV",
           "from_newyork"
          ],
          [
           0.3541074788260499,
           "GridSearchCV",
           "from_newyork"
          ],
          [
           0.3541074788260499,
           "GridSearchCV",
           "from_newyork"
          ],
          [
           0.3541074788260499,
           "GridSearchCV",
           "from_newyork"
          ],
          [
           0.3541074788260499,
           "GridSearchCV",
           "from_newyork"
          ]
         ],
         "hovertemplate": "<b>%{hovertext}</b><br><br>prediction=%{y:.3f}<br>mean_prediction=%{customdata[0]:.3f}<extra></extra>",
         "hovertext": [
          "GridSearchCV",
          "GridSearchCV",
          "GridSearchCV",
          "GridSearchCV",
          "GridSearchCV",
          "GridSearchCV",
          "GridSearchCV",
          "GridSearchCV",
          "GridSearchCV",
          "GridSearchCV",
          "GridSearchCV",
          "GridSearchCV",
          "GridSearchCV",
          "GridSearchCV",
          "GridSearchCV",
          "GridSearchCV",
          "GridSearchCV",
          "GridSearchCV",
          "GridSearchCV",
          "GridSearchCV",
          "GridSearchCV",
          "GridSearchCV",
          "GridSearchCV",
          "GridSearchCV",
          "GridSearchCV",
          "GridSearchCV",
          "GridSearchCV",
          "GridSearchCV",
          "GridSearchCV",
          "GridSearchCV",
          "GridSearchCV",
          "GridSearchCV",
          "GridSearchCV",
          "GridSearchCV",
          "GridSearchCV",
          "GridSearchCV",
          "GridSearchCV",
          "GridSearchCV",
          "GridSearchCV",
          "GridSearchCV",
          "GridSearchCV",
          "GridSearchCV",
          "GridSearchCV",
          "GridSearchCV",
          "GridSearchCV",
          "GridSearchCV",
          "GridSearchCV",
          "GridSearchCV",
          "GridSearchCV",
          "GridSearchCV",
          "GridSearchCV",
          "GridSearchCV",
          "GridSearchCV",
          "GridSearchCV",
          "GridSearchCV",
          "GridSearchCV",
          "GridSearchCV",
          "GridSearchCV",
          "GridSearchCV",
          "GridSearchCV",
          "GridSearchCV",
          "GridSearchCV",
          "GridSearchCV",
          "GridSearchCV",
          "GridSearchCV",
          "GridSearchCV",
          "GridSearchCV",
          "GridSearchCV",
          "GridSearchCV",
          "GridSearchCV",
          "GridSearchCV",
          "GridSearchCV",
          "GridSearchCV",
          "GridSearchCV",
          "GridSearchCV",
          "GridSearchCV",
          "GridSearchCV",
          "GridSearchCV",
          "GridSearchCV",
          "GridSearchCV",
          "GridSearchCV",
          "GridSearchCV",
          "GridSearchCV",
          "GridSearchCV",
          "GridSearchCV",
          "GridSearchCV",
          "GridSearchCV",
          "GridSearchCV",
          "GridSearchCV",
          "GridSearchCV",
          "GridSearchCV",
          "GridSearchCV",
          "GridSearchCV",
          "GridSearchCV",
          "GridSearchCV",
          "GridSearchCV",
          "GridSearchCV",
          "GridSearchCV",
          "GridSearchCV",
          "GridSearchCV",
          "GridSearchCV"
         ],
         "legendgroup": "GridSearchCV",
         "line": {
          "color": "#46bac2",
          "dash": "solid",
          "width": 2
         },
         "mode": "lines",
         "name": "GridSearchCV",
         "opacity": 1,
         "orientation": "v",
         "showlegend": false,
         "type": "scatter",
         "x": [
          0,
          0.01,
          0.02,
          0.03,
          0.04,
          0.05,
          0.06,
          0.07,
          0.08,
          0.09,
          0.1,
          0.11,
          0.12,
          0.13,
          0.14,
          0.15,
          0.16,
          0.17,
          0.18,
          0.19,
          0.2,
          0.21,
          0.22,
          0.23,
          0.24,
          0.25,
          0.26,
          0.27,
          0.28,
          0.29,
          0.3,
          0.31,
          0.32,
          0.33,
          0.34,
          0.35000000000000003,
          0.36,
          0.37,
          0.38,
          0.39,
          0.4,
          0.41000000000000003,
          0.42,
          0.43,
          0.44,
          0.45,
          0.46,
          0.47000000000000003,
          0.48,
          0.49,
          0.5,
          0.51,
          0.52,
          0.53,
          0.54,
          0.55,
          0.56,
          0.5700000000000001,
          0.58,
          0.59,
          0.6,
          0.61,
          0.62,
          0.63,
          0.64,
          0.65,
          0.66,
          0.67,
          0.68,
          0.6900000000000001,
          0.7000000000000001,
          0.71,
          0.72,
          0.73,
          0.74,
          0.75,
          0.76,
          0.77,
          0.78,
          0.79,
          0.8,
          0.81,
          0.8200000000000001,
          0.8300000000000001,
          0.84,
          0.85,
          0.86,
          0.87,
          0.88,
          0.89,
          0.9,
          0.91,
          0.92,
          0.93,
          0.9400000000000001,
          0.9500000000000001,
          0.96,
          0.97,
          0.98,
          0.99,
          1
         ],
         "xaxis": "x2",
         "y": [
          0.40009013821171036,
          0.40009013821171036,
          0.40009013821171036,
          0.40009013821171036,
          0.40009013821171036,
          0.40009013821171036,
          0.40009013821171036,
          0.40009013821171036,
          0.40009013821171036,
          0.40009013821171036,
          0.40009013821171036,
          0.40009013821171036,
          0.40009013821171036,
          0.40009013821171036,
          0.40009013821171036,
          0.40009013821171036,
          0.40009013821171036,
          0.40009013821171036,
          0.40009013821171036,
          0.40009013821171036,
          0.40009013821171036,
          0.40009013821171036,
          0.40009013821171036,
          0.40009013821171036,
          0.40009013821171036,
          0.40009013821171036,
          0.40009013821171036,
          0.40009013821171036,
          0.40009013821171036,
          0.40009013821171036,
          0.40009013821171036,
          0.40009013821171036,
          0.40009013821171036,
          0.40009013821171036,
          0.40009013821171036,
          0.40009013821171036,
          0.40009013821171036,
          0.40009013821171036,
          0.40009013821171036,
          0.40009013821171036,
          0.40009013821171036,
          0.40009013821171036,
          0.40009013821171036,
          0.40009013821171036,
          0.40009013821171036,
          0.40009013821171036,
          0.40009013821171036,
          0.40009013821171036,
          0.40009013821171036,
          0.40009013821171036,
          0.40009013821171036,
          0.3360165455132699,
          0.3360165455132699,
          0.3360165455132699,
          0.3360165455132699,
          0.3360165455132699,
          0.3360165455132699,
          0.3360165455132699,
          0.3360165455132699,
          0.3360165455132699,
          0.3360165455132699,
          0.3360165455132699,
          0.3360165455132699,
          0.3360165455132699,
          0.3360165455132699,
          0.3360165455132699,
          0.3360165455132699,
          0.3360165455132699,
          0.3360165455132699,
          0.3360165455132699,
          0.3360165455132699,
          0.3360165455132699,
          0.3360165455132699,
          0.3360165455132699,
          0.3360165455132699,
          0.3360165455132699,
          0.3360165455132699,
          0.3360165455132699,
          0.3360165455132699,
          0.3360165455132699,
          0.3360165455132699,
          0.3360165455132699,
          0.3360165455132699,
          0.3360165455132699,
          0.3360165455132699,
          0.3360165455132699,
          0.3360165455132699,
          0.3360165455132699,
          0.3360165455132699,
          0.3360165455132699,
          0.3360165455132699,
          0.3360165455132699,
          0.3360165455132699,
          0.3360165455132699,
          0.3360165455132699,
          0.3360165455132699,
          0.3360165455132699,
          0.3360165455132699,
          0.3360165455132699,
          0.3360165455132699,
          0.3360165455132699
         ],
         "yaxis": "y2"
        }
       ],
       "layout": {
        "annotations": [
         {
          "font": {
           "size": 13
          },
          "showarrow": false,
          "text": "from_netherlands",
          "x": 0.2375,
          "xanchor": "center",
          "xref": "paper",
          "y": 0.26666666666666666,
          "yanchor": "bottom",
          "yref": "paper"
         },
         {
          "font": {
           "size": 13
          },
          "showarrow": false,
          "text": "from_newyork",
          "x": 0.7625,
          "xanchor": "center",
          "xref": "paper",
          "y": 0.26666666666666666,
          "yanchor": "bottom",
          "yref": "paper"
         },
         {
          "font": {
           "size": 13
          },
          "showarrow": false,
          "text": "Lymphocytes",
          "x": 0.2375,
          "xanchor": "center",
          "xref": "paper",
          "y": 0.6333333333333333,
          "yanchor": "bottom",
          "yref": "paper"
         },
         {
          "font": {
           "size": 13
          },
          "showarrow": false,
          "text": "from_china",
          "x": 0.7625,
          "xanchor": "center",
          "xref": "paper",
          "y": 0.6333333333333333,
          "yanchor": "bottom",
          "yref": "paper"
         },
         {
          "font": {
           "size": 13
          },
          "showarrow": false,
          "text": "LDH",
          "x": 0.2375,
          "xanchor": "center",
          "xref": "paper",
          "y": 1,
          "yanchor": "bottom",
          "yref": "paper"
         },
         {
          "font": {
           "size": 13
          },
          "showarrow": false,
          "text": "CRP",
          "x": 0.7625,
          "xanchor": "center",
          "xref": "paper",
          "y": 1,
          "yanchor": "bottom",
          "yref": "paper"
         },
         {
          "font": {
           "size": 13
          },
          "showarrow": false,
          "text": "prediction",
          "textangle": -90,
          "x": -0.07,
          "xref": "paper",
          "y": 0.5,
          "yref": "paper"
         }
        ],
        "font": {
         "color": "#371ea3"
        },
        "height": 1169,
        "hovermode": "x unified",
        "legend": {
         "font": {
          "size": 11
         },
         "itemsizing": "constant",
         "orientation": "h",
         "title": {
          "font": {
           "size": 12
          },
          "text": "label"
         },
         "tracegroupgap": 0,
         "x": 1,
         "xanchor": "right",
         "y": 1.0256629597946962,
         "yanchor": "bottom"
        },
        "margin": {
         "b": 71,
         "r": 30,
         "t": 78
        },
        "template": {
         "data": {
          "scatter": [
           {
            "type": "scatter"
           }
          ]
         }
        },
        "title": {
         "font": {
          "size": 16
         },
         "text": "Aggregated Profiles",
         "x": 0.15
        },
        "xaxis": {
         "anchor": "y",
         "automargin": true,
         "domain": [
          0,
          0.475
         ],
         "fixedrange": true,
         "gridwidth": 2,
         "showticklabels": true,
         "tickcolor": "white",
         "ticklen": 3,
         "ticks": "outside",
         "title": {
          "text": ""
         },
         "type": "linear",
         "zeroline": false
        },
        "xaxis2": {
         "anchor": "y2",
         "automargin": true,
         "domain": [
          0.525,
          1
         ],
         "fixedrange": true,
         "gridwidth": 2,
         "showticklabels": true,
         "tickcolor": "white",
         "ticklen": 3,
         "ticks": "outside",
         "title": {
          "text": ""
         },
         "type": "linear",
         "zeroline": false
        },
        "xaxis3": {
         "anchor": "y3",
         "automargin": true,
         "domain": [
          0,
          0.475
         ],
         "fixedrange": true,
         "gridwidth": 2,
         "showticklabels": true,
         "tickcolor": "white",
         "ticklen": 3,
         "ticks": "outside",
         "title": {
          "text": ""
         },
         "type": "linear",
         "zeroline": false
        },
        "xaxis4": {
         "anchor": "y4",
         "automargin": true,
         "domain": [
          0.525,
          1
         ],
         "fixedrange": true,
         "gridwidth": 2,
         "showticklabels": true,
         "tickcolor": "white",
         "ticklen": 3,
         "ticks": "outside",
         "title": {
          "text": ""
         },
         "type": "linear",
         "zeroline": false
        },
        "xaxis5": {
         "anchor": "y5",
         "automargin": true,
         "domain": [
          0,
          0.475
         ],
         "fixedrange": true,
         "gridwidth": 2,
         "showticklabels": true,
         "tickcolor": "white",
         "ticklen": 3,
         "ticks": "outside",
         "title": {
          "text": ""
         },
         "type": "linear",
         "zeroline": false
        },
        "xaxis6": {
         "anchor": "y6",
         "automargin": true,
         "domain": [
          0.525,
          1
         ],
         "fixedrange": true,
         "gridwidth": 2,
         "showticklabels": true,
         "tickcolor": "white",
         "ticklen": 3,
         "ticks": "outside",
         "title": {
          "text": ""
         },
         "type": "linear",
         "zeroline": false
        },
        "yaxis": {
         "anchor": "x",
         "automargin": true,
         "domain": [
          0,
          0.26666666666666666
         ],
         "fixedrange": true,
         "gridwidth": 2,
         "range": [
          0.20354465889357598,
          0.636636365851356
         ],
         "tickcolor": "white",
         "ticklen": 3,
         "ticks": "outside",
         "title": {
          "text": ""
         },
         "type": "linear",
         "zeroline": false
        },
        "yaxis2": {
         "anchor": "x2",
         "automargin": true,
         "domain": [
          0,
          0.26666666666666666
         ],
         "fixedrange": true,
         "gridwidth": 2,
         "matches": "y",
         "range": [
          0.20354465889357598,
          0.636636365851356
         ],
         "showticklabels": false,
         "tickcolor": "white",
         "ticklen": 3,
         "ticks": "outside",
         "title": {
          "text": ""
         },
         "type": "linear",
         "zeroline": false
        },
        "yaxis3": {
         "anchor": "x3",
         "automargin": true,
         "domain": [
          0.36666666666666664,
          0.6333333333333333
         ],
         "fixedrange": true,
         "gridwidth": 2,
         "matches": "y",
         "range": [
          0.20354465889357598,
          0.636636365851356
         ],
         "tickcolor": "white",
         "ticklen": 3,
         "ticks": "outside",
         "title": {
          "text": ""
         },
         "type": "linear",
         "zeroline": false
        },
        "yaxis4": {
         "anchor": "x4",
         "automargin": true,
         "domain": [
          0.36666666666666664,
          0.6333333333333333
         ],
         "fixedrange": true,
         "gridwidth": 2,
         "matches": "y",
         "range": [
          0.20354465889357598,
          0.636636365851356
         ],
         "showticklabels": false,
         "tickcolor": "white",
         "ticklen": 3,
         "ticks": "outside",
         "title": {
          "text": ""
         },
         "type": "linear",
         "zeroline": false
        },
        "yaxis5": {
         "anchor": "x5",
         "automargin": true,
         "domain": [
          0.7333333333333333,
          1
         ],
         "fixedrange": true,
         "gridwidth": 2,
         "matches": "y",
         "range": [
          0.20354465889357598,
          0.636636365851356
         ],
         "tickcolor": "white",
         "ticklen": 3,
         "ticks": "outside",
         "title": {
          "text": ""
         },
         "type": "linear",
         "zeroline": false
        },
        "yaxis6": {
         "anchor": "x6",
         "automargin": true,
         "domain": [
          0.7333333333333333,
          1
         ],
         "fixedrange": true,
         "gridwidth": 2,
         "matches": "y",
         "range": [
          0.20354465889357598,
          0.636636365851356
         ],
         "showticklabels": false,
         "tickcolor": "white",
         "ticklen": 3,
         "ticks": "outside",
         "title": {
          "text": ""
         },
         "type": "linear",
         "zeroline": false
        }
       }
      },
      "text/html": [
       "<div>                            <div id=\"c3921e42-2730-4031-899b-22bf43dd209e\" class=\"plotly-graph-div\" style=\"height:1169px; width:100%;\"></div>            <script type=\"text/javascript\">                require([\"plotly\"], function(Plotly) {                    window.PLOTLYENV=window.PLOTLYENV || {};                                    if (document.getElementById(\"c3921e42-2730-4031-899b-22bf43dd209e\")) {                    Plotly.newPlot(                        \"c3921e42-2730-4031-899b-22bf43dd209e\",                        [{\"customdata\": [[0.3541074788260499, \"GridSearchCV\", \"LDH\"], [0.3541074788260499, \"GridSearchCV\", \"LDH\"], [0.3541074788260499, \"GridSearchCV\", \"LDH\"], [0.3541074788260499, \"GridSearchCV\", \"LDH\"], [0.3541074788260499, \"GridSearchCV\", \"LDH\"], [0.3541074788260499, \"GridSearchCV\", \"LDH\"], [0.3541074788260499, \"GridSearchCV\", \"LDH\"], [0.3541074788260499, \"GridSearchCV\", \"LDH\"], [0.3541074788260499, \"GridSearchCV\", \"LDH\"], [0.3541074788260499, \"GridSearchCV\", \"LDH\"], [0.3541074788260499, \"GridSearchCV\", \"LDH\"], [0.3541074788260499, \"GridSearchCV\", \"LDH\"], [0.3541074788260499, \"GridSearchCV\", \"LDH\"], [0.3541074788260499, \"GridSearchCV\", \"LDH\"], [0.3541074788260499, \"GridSearchCV\", \"LDH\"], [0.3541074788260499, \"GridSearchCV\", \"LDH\"], [0.3541074788260499, \"GridSearchCV\", \"LDH\"], [0.3541074788260499, \"GridSearchCV\", \"LDH\"], [0.3541074788260499, \"GridSearchCV\", \"LDH\"], [0.3541074788260499, \"GridSearchCV\", \"LDH\"], [0.3541074788260499, \"GridSearchCV\", \"LDH\"], [0.3541074788260499, \"GridSearchCV\", \"LDH\"], [0.3541074788260499, \"GridSearchCV\", \"LDH\"], [0.3541074788260499, \"GridSearchCV\", \"LDH\"], [0.3541074788260499, \"GridSearchCV\", \"LDH\"], [0.3541074788260499, \"GridSearchCV\", \"LDH\"], [0.3541074788260499, \"GridSearchCV\", \"LDH\"], [0.3541074788260499, \"GridSearchCV\", \"LDH\"], [0.3541074788260499, \"GridSearchCV\", \"LDH\"], [0.3541074788260499, \"GridSearchCV\", \"LDH\"], [0.3541074788260499, \"GridSearchCV\", \"LDH\"], [0.3541074788260499, \"GridSearchCV\", \"LDH\"], [0.3541074788260499, \"GridSearchCV\", \"LDH\"], [0.3541074788260499, \"GridSearchCV\", \"LDH\"], [0.3541074788260499, \"GridSearchCV\", \"LDH\"], [0.3541074788260499, \"GridSearchCV\", \"LDH\"], [0.3541074788260499, \"GridSearchCV\", \"LDH\"], [0.3541074788260499, \"GridSearchCV\", \"LDH\"], [0.3541074788260499, \"GridSearchCV\", \"LDH\"], [0.3541074788260499, \"GridSearchCV\", \"LDH\"], [0.3541074788260499, \"GridSearchCV\", \"LDH\"], [0.3541074788260499, \"GridSearchCV\", \"LDH\"], [0.3541074788260499, \"GridSearchCV\", \"LDH\"], [0.3541074788260499, \"GridSearchCV\", \"LDH\"], [0.3541074788260499, \"GridSearchCV\", \"LDH\"], [0.3541074788260499, \"GridSearchCV\", \"LDH\"], [0.3541074788260499, \"GridSearchCV\", \"LDH\"], [0.3541074788260499, \"GridSearchCV\", \"LDH\"], [0.3541074788260499, \"GridSearchCV\", \"LDH\"], [0.3541074788260499, \"GridSearchCV\", \"LDH\"], [0.3541074788260499, \"GridSearchCV\", \"LDH\"], [0.3541074788260499, \"GridSearchCV\", \"LDH\"], [0.3541074788260499, \"GridSearchCV\", \"LDH\"], [0.3541074788260499, \"GridSearchCV\", \"LDH\"], [0.3541074788260499, \"GridSearchCV\", \"LDH\"], [0.3541074788260499, \"GridSearchCV\", \"LDH\"], [0.3541074788260499, \"GridSearchCV\", \"LDH\"], [0.3541074788260499, \"GridSearchCV\", \"LDH\"], [0.3541074788260499, \"GridSearchCV\", \"LDH\"], [0.3541074788260499, \"GridSearchCV\", \"LDH\"], [0.3541074788260499, \"GridSearchCV\", \"LDH\"], [0.3541074788260499, \"GridSearchCV\", \"LDH\"], [0.3541074788260499, \"GridSearchCV\", \"LDH\"], [0.3541074788260499, \"GridSearchCV\", \"LDH\"], [0.3541074788260499, \"GridSearchCV\", \"LDH\"], [0.3541074788260499, \"GridSearchCV\", \"LDH\"], [0.3541074788260499, \"GridSearchCV\", \"LDH\"], [0.3541074788260499, \"GridSearchCV\", \"LDH\"], [0.3541074788260499, \"GridSearchCV\", \"LDH\"], [0.3541074788260499, \"GridSearchCV\", \"LDH\"], [0.3541074788260499, \"GridSearchCV\", \"LDH\"], [0.3541074788260499, \"GridSearchCV\", \"LDH\"], [0.3541074788260499, \"GridSearchCV\", \"LDH\"], [0.3541074788260499, \"GridSearchCV\", \"LDH\"], [0.3541074788260499, \"GridSearchCV\", \"LDH\"], [0.3541074788260499, \"GridSearchCV\", \"LDH\"], [0.3541074788260499, \"GridSearchCV\", \"LDH\"], [0.3541074788260499, \"GridSearchCV\", \"LDH\"], [0.3541074788260499, \"GridSearchCV\", \"LDH\"], [0.3541074788260499, \"GridSearchCV\", \"LDH\"], [0.3541074788260499, \"GridSearchCV\", \"LDH\"], [0.3541074788260499, \"GridSearchCV\", \"LDH\"], [0.3541074788260499, \"GridSearchCV\", \"LDH\"], [0.3541074788260499, \"GridSearchCV\", \"LDH\"], [0.3541074788260499, \"GridSearchCV\", \"LDH\"], [0.3541074788260499, \"GridSearchCV\", \"LDH\"], [0.3541074788260499, \"GridSearchCV\", \"LDH\"], [0.3541074788260499, \"GridSearchCV\", \"LDH\"], [0.3541074788260499, \"GridSearchCV\", \"LDH\"], [0.3541074788260499, \"GridSearchCV\", \"LDH\"], [0.3541074788260499, \"GridSearchCV\", \"LDH\"], [0.3541074788260499, \"GridSearchCV\", \"LDH\"], [0.3541074788260499, \"GridSearchCV\", \"LDH\"], [0.3541074788260499, \"GridSearchCV\", \"LDH\"], [0.3541074788260499, \"GridSearchCV\", \"LDH\"], [0.3541074788260499, \"GridSearchCV\", \"LDH\"], [0.3541074788260499, \"GridSearchCV\", \"LDH\"], [0.3541074788260499, \"GridSearchCV\", \"LDH\"], [0.3541074788260499, \"GridSearchCV\", \"LDH\"], [0.3541074788260499, \"GridSearchCV\", \"LDH\"], [0.3541074788260499, \"GridSearchCV\", \"LDH\"]], \"hovertemplate\": \"<b>%{hovertext}</b><br><br>prediction=%{y:.3f}<br>mean_prediction=%{customdata[0]:.3f}<extra></extra>\", \"hovertext\": [\"GridSearchCV\", \"GridSearchCV\", \"GridSearchCV\", \"GridSearchCV\", \"GridSearchCV\", \"GridSearchCV\", \"GridSearchCV\", \"GridSearchCV\", \"GridSearchCV\", \"GridSearchCV\", \"GridSearchCV\", \"GridSearchCV\", \"GridSearchCV\", \"GridSearchCV\", \"GridSearchCV\", \"GridSearchCV\", \"GridSearchCV\", \"GridSearchCV\", \"GridSearchCV\", \"GridSearchCV\", \"GridSearchCV\", \"GridSearchCV\", \"GridSearchCV\", \"GridSearchCV\", \"GridSearchCV\", \"GridSearchCV\", \"GridSearchCV\", \"GridSearchCV\", \"GridSearchCV\", \"GridSearchCV\", \"GridSearchCV\", \"GridSearchCV\", \"GridSearchCV\", \"GridSearchCV\", \"GridSearchCV\", \"GridSearchCV\", \"GridSearchCV\", \"GridSearchCV\", \"GridSearchCV\", \"GridSearchCV\", \"GridSearchCV\", \"GridSearchCV\", \"GridSearchCV\", \"GridSearchCV\", \"GridSearchCV\", \"GridSearchCV\", \"GridSearchCV\", \"GridSearchCV\", \"GridSearchCV\", \"GridSearchCV\", \"GridSearchCV\", \"GridSearchCV\", \"GridSearchCV\", \"GridSearchCV\", \"GridSearchCV\", \"GridSearchCV\", \"GridSearchCV\", \"GridSearchCV\", \"GridSearchCV\", \"GridSearchCV\", \"GridSearchCV\", \"GridSearchCV\", \"GridSearchCV\", \"GridSearchCV\", \"GridSearchCV\", \"GridSearchCV\", \"GridSearchCV\", \"GridSearchCV\", \"GridSearchCV\", \"GridSearchCV\", \"GridSearchCV\", \"GridSearchCV\", \"GridSearchCV\", \"GridSearchCV\", \"GridSearchCV\", \"GridSearchCV\", \"GridSearchCV\", \"GridSearchCV\", \"GridSearchCV\", \"GridSearchCV\", \"GridSearchCV\", \"GridSearchCV\", \"GridSearchCV\", \"GridSearchCV\", \"GridSearchCV\", \"GridSearchCV\", \"GridSearchCV\", \"GridSearchCV\", \"GridSearchCV\", \"GridSearchCV\", \"GridSearchCV\", \"GridSearchCV\", \"GridSearchCV\", \"GridSearchCV\", \"GridSearchCV\", \"GridSearchCV\", \"GridSearchCV\", \"GridSearchCV\", \"GridSearchCV\", \"GridSearchCV\", \"GridSearchCV\"], \"legendgroup\": \"GridSearchCV\", \"line\": {\"color\": \"#46bac2\", \"dash\": \"solid\", \"width\": 2}, \"mode\": \"lines\", \"name\": \"GridSearchCV\", \"opacity\": 1, \"orientation\": \"v\", \"showlegend\": true, \"type\": \"scatter\", \"x\": [-1.0, 25.6, 52.2, 78.80000000000001, 105.4, 132.0, 158.60000000000002, 185.20000000000002, 211.8, 238.4, 265.0, 291.6, 318.20000000000005, 344.8, 371.40000000000003, 398.0, 424.6, 451.20000000000005, 477.8, 504.40000000000003, 531.0, 557.6, 584.2, 610.8000000000001, 637.4000000000001, 664.0, 690.6, 717.2, 743.8000000000001, 770.4000000000001, 797.0, 823.6, 850.2, 876.8000000000001, 903.4000000000001, 930.0, 956.6, 983.2, 1009.8000000000001, 1036.4, 1063.0, 1089.6000000000001, 1116.2, 1142.8, 1169.4, 1196.0, 1222.6000000000001, 1249.2, 1275.8000000000002, 1302.4, 1329.0, 1355.6000000000001, 1382.2, 1408.8000000000002, 1435.4, 1462.0, 1488.6000000000001, 1515.2, 1541.8000000000002, 1568.4, 1595.0, 1621.6000000000001, 1648.2, 1674.8000000000002, 1701.4, 1728.0, 1754.6000000000001, 1781.2, 1807.8000000000002, 1834.4, 1861.0, 1887.6000000000001, 1914.2, 1940.8000000000002, 1967.4, 1994.0, 2020.6000000000001, 2047.2000000000003, 2073.8, 2100.4, 2127.0, 2153.6, 2180.2000000000003, 2206.8, 2233.4, 2260.0, 2286.6, 2313.2000000000003, 2339.8, 2366.4, 2393.0, 2419.6, 2446.2000000000003, 2472.8, 2499.4, 2526.0, 2552.6000000000004, 2579.2000000000003, 2605.8, 2632.4, 2659.0], \"xaxis\": \"x5\", \"y\": [0.2492378728549365, 0.2492378728549365, 0.24238249702754375, 0.24098919014923686, 0.2408225234825702, 0.24206696792701454, 0.2423603012603479, 0.24582696792701456, 0.2504186865992027, 0.23963563447339098, 0.24072500629745433, 0.2726536527516736, 0.29557817399257375, 0.328967928584998, 0.3331468452528492, 0.32581113244698445, 0.3258255550927311, 0.391949628262453, 0.4051473437379076, 0.4324827228733449, 0.45217384565929675, 0.4564111065465577, 0.45756737692713784, 0.4574737261334871, 0.4683443789835449, 0.4673756626274366, 0.47176103250641754, 0.4779843666973515, 0.4863756273391086, 0.49722985139260373, 0.4974646662074184, 0.4979497236786829, 0.5021163816693772, 0.5021163816693772, 0.5021163816693772, 0.5028020959550915, 0.5029020959550914, 0.4994941781862689, 0.5087085572712364, 0.511041067075158, 0.511041067075158, 0.511041067075158, 0.511041067075158, 0.511041067075158, 0.5148506944615546, 0.5148506944615546, 0.5148506944615546, 0.5127395833504435, 0.5127395833504435, 0.5127395833504435, 0.5127395833504435, 0.5175216094581838, 0.5175216094581838, 0.5175216094581838, 0.5213563920668792, 0.5213563920668792, 0.5213563920668792, 0.5213563920668792, 0.5213563920668792, 0.523553575165471, 0.523553575165471, 0.5268202418321379, 0.5268202418321379, 0.5268202418321379, 0.5268202418321379, 0.5268202418321379, 0.5268202418321379, 0.5268202418321379, 0.5268202418321379, 0.5268202418321379, 0.5268202418321379, 0.5268202418321379, 0.5268202418321379, 0.5268202418321379, 0.5268202418321379, 0.5268202418321379, 0.5268202418321379, 0.5268202418321379, 0.5268202418321379, 0.5268202418321379, 0.5268202418321379, 0.5268202418321379, 0.5268202418321379, 0.5268202418321379, 0.5268202418321379, 0.5268202418321379, 0.5268202418321379, 0.5268202418321379, 0.5268202418321379, 0.5268202418321379, 0.5268202418321379, 0.5268202418321379, 0.5268202418321379, 0.5268202418321379, 0.5268202418321379, 0.5268202418321379, 0.5268202418321379, 0.5268202418321379, 0.5268202418321379, 0.5268202418321379, 0.5268202418321379], \"yaxis\": \"y5\"}, {\"customdata\": [[0.3541074788260499, \"GridSearchCV\", \"CRP\"], [0.3541074788260499, \"GridSearchCV\", \"CRP\"], [0.3541074788260499, \"GridSearchCV\", \"CRP\"], [0.3541074788260499, \"GridSearchCV\", \"CRP\"], [0.3541074788260499, \"GridSearchCV\", \"CRP\"], [0.3541074788260499, \"GridSearchCV\", \"CRP\"], [0.3541074788260499, \"GridSearchCV\", \"CRP\"], [0.3541074788260499, \"GridSearchCV\", \"CRP\"], [0.3541074788260499, \"GridSearchCV\", \"CRP\"], [0.3541074788260499, \"GridSearchCV\", \"CRP\"], [0.3541074788260499, \"GridSearchCV\", \"CRP\"], [0.3541074788260499, \"GridSearchCV\", \"CRP\"], [0.3541074788260499, \"GridSearchCV\", \"CRP\"], [0.3541074788260499, \"GridSearchCV\", \"CRP\"], [0.3541074788260499, \"GridSearchCV\", \"CRP\"], [0.3541074788260499, \"GridSearchCV\", \"CRP\"], [0.3541074788260499, \"GridSearchCV\", \"CRP\"], [0.3541074788260499, \"GridSearchCV\", \"CRP\"], [0.3541074788260499, \"GridSearchCV\", \"CRP\"], [0.3541074788260499, \"GridSearchCV\", \"CRP\"], [0.3541074788260499, \"GridSearchCV\", \"CRP\"], [0.3541074788260499, \"GridSearchCV\", \"CRP\"], [0.3541074788260499, \"GridSearchCV\", \"CRP\"], [0.3541074788260499, \"GridSearchCV\", \"CRP\"], [0.3541074788260499, \"GridSearchCV\", \"CRP\"], [0.3541074788260499, \"GridSearchCV\", \"CRP\"], [0.3541074788260499, \"GridSearchCV\", \"CRP\"], [0.3541074788260499, \"GridSearchCV\", \"CRP\"], [0.3541074788260499, \"GridSearchCV\", \"CRP\"], [0.3541074788260499, \"GridSearchCV\", \"CRP\"], [0.3541074788260499, \"GridSearchCV\", \"CRP\"], [0.3541074788260499, \"GridSearchCV\", \"CRP\"], [0.3541074788260499, \"GridSearchCV\", \"CRP\"], [0.3541074788260499, \"GridSearchCV\", \"CRP\"], [0.3541074788260499, \"GridSearchCV\", \"CRP\"], [0.3541074788260499, \"GridSearchCV\", \"CRP\"], [0.3541074788260499, \"GridSearchCV\", \"CRP\"], [0.3541074788260499, \"GridSearchCV\", \"CRP\"], [0.3541074788260499, \"GridSearchCV\", \"CRP\"], [0.3541074788260499, \"GridSearchCV\", \"CRP\"], [0.3541074788260499, \"GridSearchCV\", \"CRP\"], [0.3541074788260499, \"GridSearchCV\", \"CRP\"], [0.3541074788260499, \"GridSearchCV\", \"CRP\"], [0.3541074788260499, \"GridSearchCV\", \"CRP\"], [0.3541074788260499, \"GridSearchCV\", \"CRP\"], [0.3541074788260499, \"GridSearchCV\", \"CRP\"], [0.3541074788260499, \"GridSearchCV\", \"CRP\"], [0.3541074788260499, \"GridSearchCV\", \"CRP\"], [0.3541074788260499, \"GridSearchCV\", \"CRP\"], [0.3541074788260499, \"GridSearchCV\", \"CRP\"], [0.3541074788260499, \"GridSearchCV\", \"CRP\"], [0.3541074788260499, \"GridSearchCV\", \"CRP\"], [0.3541074788260499, \"GridSearchCV\", \"CRP\"], [0.3541074788260499, \"GridSearchCV\", \"CRP\"], [0.3541074788260499, \"GridSearchCV\", \"CRP\"], [0.3541074788260499, \"GridSearchCV\", \"CRP\"], [0.3541074788260499, \"GridSearchCV\", \"CRP\"], [0.3541074788260499, \"GridSearchCV\", \"CRP\"], [0.3541074788260499, \"GridSearchCV\", \"CRP\"], [0.3541074788260499, \"GridSearchCV\", \"CRP\"], [0.3541074788260499, \"GridSearchCV\", \"CRP\"], [0.3541074788260499, \"GridSearchCV\", \"CRP\"], [0.3541074788260499, \"GridSearchCV\", \"CRP\"], [0.3541074788260499, \"GridSearchCV\", \"CRP\"], [0.3541074788260499, \"GridSearchCV\", \"CRP\"], [0.3541074788260499, \"GridSearchCV\", \"CRP\"], [0.3541074788260499, \"GridSearchCV\", \"CRP\"], [0.3541074788260499, \"GridSearchCV\", \"CRP\"], [0.3541074788260499, \"GridSearchCV\", \"CRP\"], [0.3541074788260499, \"GridSearchCV\", \"CRP\"], [0.3541074788260499, \"GridSearchCV\", \"CRP\"], [0.3541074788260499, \"GridSearchCV\", \"CRP\"], [0.3541074788260499, \"GridSearchCV\", \"CRP\"], [0.3541074788260499, \"GridSearchCV\", \"CRP\"], [0.3541074788260499, \"GridSearchCV\", \"CRP\"], [0.3541074788260499, \"GridSearchCV\", \"CRP\"], [0.3541074788260499, \"GridSearchCV\", \"CRP\"], [0.3541074788260499, \"GridSearchCV\", \"CRP\"], [0.3541074788260499, \"GridSearchCV\", \"CRP\"], [0.3541074788260499, \"GridSearchCV\", \"CRP\"], [0.3541074788260499, \"GridSearchCV\", \"CRP\"], [0.3541074788260499, \"GridSearchCV\", \"CRP\"], [0.3541074788260499, \"GridSearchCV\", \"CRP\"], [0.3541074788260499, \"GridSearchCV\", \"CRP\"], [0.3541074788260499, \"GridSearchCV\", \"CRP\"], [0.3541074788260499, \"GridSearchCV\", \"CRP\"], [0.3541074788260499, \"GridSearchCV\", \"CRP\"], [0.3541074788260499, \"GridSearchCV\", \"CRP\"], [0.3541074788260499, \"GridSearchCV\", \"CRP\"], [0.3541074788260499, \"GridSearchCV\", \"CRP\"], [0.3541074788260499, \"GridSearchCV\", \"CRP\"], [0.3541074788260499, \"GridSearchCV\", \"CRP\"], [0.3541074788260499, \"GridSearchCV\", \"CRP\"], [0.3541074788260499, \"GridSearchCV\", \"CRP\"], [0.3541074788260499, \"GridSearchCV\", \"CRP\"], [0.3541074788260499, \"GridSearchCV\", \"CRP\"], [0.3541074788260499, \"GridSearchCV\", \"CRP\"], [0.3541074788260499, \"GridSearchCV\", \"CRP\"], [0.3541074788260499, \"GridSearchCV\", \"CRP\"], [0.3541074788260499, \"GridSearchCV\", \"CRP\"], [0.3541074788260499, \"GridSearchCV\", \"CRP\"]], \"hovertemplate\": \"<b>%{hovertext}</b><br><br>prediction=%{y:.3f}<br>mean_prediction=%{customdata[0]:.3f}<extra></extra>\", \"hovertext\": [\"GridSearchCV\", \"GridSearchCV\", \"GridSearchCV\", \"GridSearchCV\", \"GridSearchCV\", \"GridSearchCV\", \"GridSearchCV\", \"GridSearchCV\", \"GridSearchCV\", \"GridSearchCV\", \"GridSearchCV\", \"GridSearchCV\", \"GridSearchCV\", \"GridSearchCV\", \"GridSearchCV\", \"GridSearchCV\", \"GridSearchCV\", \"GridSearchCV\", \"GridSearchCV\", \"GridSearchCV\", \"GridSearchCV\", \"GridSearchCV\", \"GridSearchCV\", \"GridSearchCV\", \"GridSearchCV\", \"GridSearchCV\", \"GridSearchCV\", \"GridSearchCV\", \"GridSearchCV\", \"GridSearchCV\", \"GridSearchCV\", \"GridSearchCV\", \"GridSearchCV\", \"GridSearchCV\", \"GridSearchCV\", \"GridSearchCV\", \"GridSearchCV\", \"GridSearchCV\", \"GridSearchCV\", \"GridSearchCV\", \"GridSearchCV\", \"GridSearchCV\", \"GridSearchCV\", \"GridSearchCV\", \"GridSearchCV\", \"GridSearchCV\", \"GridSearchCV\", \"GridSearchCV\", \"GridSearchCV\", \"GridSearchCV\", \"GridSearchCV\", \"GridSearchCV\", \"GridSearchCV\", \"GridSearchCV\", \"GridSearchCV\", \"GridSearchCV\", \"GridSearchCV\", \"GridSearchCV\", \"GridSearchCV\", \"GridSearchCV\", \"GridSearchCV\", \"GridSearchCV\", \"GridSearchCV\", \"GridSearchCV\", \"GridSearchCV\", \"GridSearchCV\", \"GridSearchCV\", \"GridSearchCV\", \"GridSearchCV\", \"GridSearchCV\", \"GridSearchCV\", \"GridSearchCV\", \"GridSearchCV\", \"GridSearchCV\", \"GridSearchCV\", \"GridSearchCV\", \"GridSearchCV\", \"GridSearchCV\", \"GridSearchCV\", \"GridSearchCV\", \"GridSearchCV\", \"GridSearchCV\", \"GridSearchCV\", \"GridSearchCV\", \"GridSearchCV\", \"GridSearchCV\", \"GridSearchCV\", \"GridSearchCV\", \"GridSearchCV\", \"GridSearchCV\", \"GridSearchCV\", \"GridSearchCV\", \"GridSearchCV\", \"GridSearchCV\", \"GridSearchCV\", \"GridSearchCV\", \"GridSearchCV\", \"GridSearchCV\", \"GridSearchCV\", \"GridSearchCV\", \"GridSearchCV\"], \"legendgroup\": \"GridSearchCV\", \"line\": {\"color\": \"#46bac2\", \"dash\": \"solid\", \"width\": 2}, \"mode\": \"lines\", \"name\": \"GridSearchCV\", \"opacity\": 1, \"orientation\": \"v\", \"showlegend\": false, \"type\": \"scatter\", \"x\": [-1.0, 4.59, 10.18, 15.77, 21.36, 26.95, 32.54, 38.129999999999995, 43.72, 49.31, 54.9, 60.489999999999995, 66.08, 71.67, 77.25999999999999, 82.85, 88.44, 94.03, 99.62, 105.21, 110.8, 116.39, 121.97999999999999, 127.57, 133.16, 138.75, 144.34, 149.93, 155.51999999999998, 161.10999999999999, 166.7, 172.29, 177.88, 183.47, 189.06, 194.65, 200.24, 205.82999999999998, 211.42, 217.01, 222.6, 228.19, 233.78, 239.37, 244.95999999999998, 250.54999999999998, 256.14, 261.73, 267.32, 272.90999999999997, 278.5, 284.09, 289.68, 295.27, 300.86, 306.45, 312.03999999999996, 317.63, 323.21999999999997, 328.81, 334.4, 339.99, 345.58, 351.17, 356.76, 362.34999999999997, 367.94, 373.53, 379.12, 384.71, 390.3, 395.89, 401.48, 407.07, 412.65999999999997, 418.25, 423.84, 429.43, 435.02, 440.61, 446.2, 451.78999999999996, 457.38, 462.96999999999997, 468.56, 474.15, 479.74, 485.33, 490.91999999999996, 496.51, 502.09999999999997, 507.69, 513.28, 518.87, 524.46, 530.05, 535.64, 541.23, 546.8199999999999, 552.41, 558.0], \"xaxis\": \"x6\", \"y\": [0.3487447224193973, 0.29724452990310674, 0.298697439956017, 0.34499487170484616, 0.34617706617704097, 0.3420654066763733, 0.3437808397624533, 0.3528695328412757, 0.3563962687955543, 0.35836917727802214, 0.3566970088919215, 0.3545200354144282, 0.35488194017633307, 0.3555477211747226, 0.3677856450525404, 0.3682830809499762, 0.36637042558274485, 0.3719902462591444, 0.37701411280414493, 0.38397227130837086, 0.38431550080556137, 0.38002599858758035, 0.3783747030333607, 0.37864167386590153, 0.3780666738659016, 0.38382928883115797, 0.3803942581946201, 0.38547150463320384, 0.38547150463320384, 0.3829812582781441, 0.3852936302245587, 0.38727735208911623, 0.386632892498028, 0.3868381779264533, 0.3905707906948338, 0.3912352595593026, 0.39743394343415167, 0.3994283078351827, 0.4002379530679988, 0.4013633181613725, 0.40022331816137247, 0.4009640589021132, 0.4017592566422262, 0.40293242404487595, 0.40565717017812297, 0.4064229596518072, 0.4190531494187807, 0.4112364827521142, 0.41543271758281847, 0.41536605091615175, 0.4222993785766796, 0.4246115138412771, 0.4261254300525704, 0.4261254300525704, 0.4306069667342835, 0.43492016117872806, 0.4353359299407524, 0.4249179949345818, 0.4249179949345818, 0.4232189099672615, 0.4222509899948573, 0.4187819531950172, 0.41681206935859616, 0.41681206935859616, 0.4179379952845221, 0.41658285901617825, 0.41658285901617825, 0.41658285901617825, 0.41658285901617825, 0.41658285901617825, 0.4172495256828449, 0.4172495256828449, 0.4172495256828449, 0.4149073034606226, 0.4149073034606226, 0.4149073034606226, 0.4149073034606226, 0.4149073034606226, 0.4149073034606226, 0.4149073034606226, 0.4149073034606226, 0.4149073034606226, 0.4162139701272892, 0.4162139701272892, 0.4162139701272892, 0.4162139701272892, 0.4162139701272892, 0.4162139701272892, 0.4172633656367884, 0.4172633656367884, 0.4172633656367884, 0.4172633656367884, 0.4172633656367884, 0.4172633656367884, 0.4172633656367884, 0.4172633656367884, 0.4172633656367884, 0.4172633656367884, 0.4172633656367884, 0.4172633656367884, 0.4172633656367884], \"yaxis\": \"y6\"}, {\"customdata\": [[0.3541074788260499, \"GridSearchCV\", \"Lymphocytes\"], [0.3541074788260499, \"GridSearchCV\", \"Lymphocytes\"], [0.3541074788260499, \"GridSearchCV\", \"Lymphocytes\"], [0.3541074788260499, \"GridSearchCV\", \"Lymphocytes\"], [0.3541074788260499, \"GridSearchCV\", \"Lymphocytes\"], [0.3541074788260499, \"GridSearchCV\", \"Lymphocytes\"], [0.3541074788260499, \"GridSearchCV\", \"Lymphocytes\"], [0.3541074788260499, \"GridSearchCV\", \"Lymphocytes\"], [0.3541074788260499, \"GridSearchCV\", \"Lymphocytes\"], [0.3541074788260499, \"GridSearchCV\", \"Lymphocytes\"], [0.3541074788260499, \"GridSearchCV\", \"Lymphocytes\"], [0.3541074788260499, \"GridSearchCV\", \"Lymphocytes\"], [0.3541074788260499, \"GridSearchCV\", \"Lymphocytes\"], [0.3541074788260499, \"GridSearchCV\", \"Lymphocytes\"], [0.3541074788260499, \"GridSearchCV\", \"Lymphocytes\"], [0.3541074788260499, \"GridSearchCV\", \"Lymphocytes\"], [0.3541074788260499, \"GridSearchCV\", \"Lymphocytes\"], [0.3541074788260499, \"GridSearchCV\", \"Lymphocytes\"], [0.3541074788260499, \"GridSearchCV\", \"Lymphocytes\"], [0.3541074788260499, \"GridSearchCV\", \"Lymphocytes\"], [0.3541074788260499, \"GridSearchCV\", \"Lymphocytes\"], [0.3541074788260499, \"GridSearchCV\", \"Lymphocytes\"], [0.3541074788260499, \"GridSearchCV\", \"Lymphocytes\"], [0.3541074788260499, \"GridSearchCV\", \"Lymphocytes\"], [0.3541074788260499, \"GridSearchCV\", \"Lymphocytes\"], [0.3541074788260499, \"GridSearchCV\", \"Lymphocytes\"], [0.3541074788260499, \"GridSearchCV\", \"Lymphocytes\"], [0.3541074788260499, \"GridSearchCV\", \"Lymphocytes\"], [0.3541074788260499, \"GridSearchCV\", \"Lymphocytes\"], [0.3541074788260499, \"GridSearchCV\", \"Lymphocytes\"], [0.3541074788260499, \"GridSearchCV\", \"Lymphocytes\"], [0.3541074788260499, \"GridSearchCV\", \"Lymphocytes\"], [0.3541074788260499, \"GridSearchCV\", \"Lymphocytes\"], [0.3541074788260499, \"GridSearchCV\", \"Lymphocytes\"], [0.3541074788260499, \"GridSearchCV\", \"Lymphocytes\"], [0.3541074788260499, \"GridSearchCV\", \"Lymphocytes\"], [0.3541074788260499, \"GridSearchCV\", \"Lymphocytes\"], [0.3541074788260499, \"GridSearchCV\", \"Lymphocytes\"], [0.3541074788260499, \"GridSearchCV\", \"Lymphocytes\"], [0.3541074788260499, \"GridSearchCV\", \"Lymphocytes\"], [0.3541074788260499, \"GridSearchCV\", \"Lymphocytes\"], [0.3541074788260499, \"GridSearchCV\", \"Lymphocytes\"], [0.3541074788260499, \"GridSearchCV\", \"Lymphocytes\"], [0.3541074788260499, \"GridSearchCV\", \"Lymphocytes\"], [0.3541074788260499, \"GridSearchCV\", \"Lymphocytes\"], [0.3541074788260499, \"GridSearchCV\", \"Lymphocytes\"], [0.3541074788260499, \"GridSearchCV\", \"Lymphocytes\"], [0.3541074788260499, \"GridSearchCV\", \"Lymphocytes\"], [0.3541074788260499, \"GridSearchCV\", \"Lymphocytes\"], [0.3541074788260499, \"GridSearchCV\", \"Lymphocytes\"], [0.3541074788260499, \"GridSearchCV\", \"Lymphocytes\"], [0.3541074788260499, \"GridSearchCV\", \"Lymphocytes\"], [0.3541074788260499, \"GridSearchCV\", \"Lymphocytes\"], [0.3541074788260499, \"GridSearchCV\", \"Lymphocytes\"], [0.3541074788260499, \"GridSearchCV\", \"Lymphocytes\"], [0.3541074788260499, \"GridSearchCV\", \"Lymphocytes\"], [0.3541074788260499, \"GridSearchCV\", \"Lymphocytes\"], [0.3541074788260499, \"GridSearchCV\", \"Lymphocytes\"], [0.3541074788260499, \"GridSearchCV\", \"Lymphocytes\"], [0.3541074788260499, \"GridSearchCV\", \"Lymphocytes\"], [0.3541074788260499, \"GridSearchCV\", \"Lymphocytes\"], [0.3541074788260499, \"GridSearchCV\", \"Lymphocytes\"], [0.3541074788260499, \"GridSearchCV\", \"Lymphocytes\"], [0.3541074788260499, \"GridSearchCV\", \"Lymphocytes\"], [0.3541074788260499, \"GridSearchCV\", \"Lymphocytes\"], [0.3541074788260499, \"GridSearchCV\", \"Lymphocytes\"], [0.3541074788260499, \"GridSearchCV\", \"Lymphocytes\"], [0.3541074788260499, \"GridSearchCV\", \"Lymphocytes\"], [0.3541074788260499, \"GridSearchCV\", \"Lymphocytes\"], [0.3541074788260499, \"GridSearchCV\", \"Lymphocytes\"], [0.3541074788260499, \"GridSearchCV\", \"Lymphocytes\"], [0.3541074788260499, \"GridSearchCV\", \"Lymphocytes\"], [0.3541074788260499, \"GridSearchCV\", \"Lymphocytes\"], [0.3541074788260499, \"GridSearchCV\", \"Lymphocytes\"], [0.3541074788260499, \"GridSearchCV\", \"Lymphocytes\"], [0.3541074788260499, \"GridSearchCV\", \"Lymphocytes\"], [0.3541074788260499, \"GridSearchCV\", \"Lymphocytes\"], [0.3541074788260499, \"GridSearchCV\", \"Lymphocytes\"], [0.3541074788260499, \"GridSearchCV\", \"Lymphocytes\"], [0.3541074788260499, \"GridSearchCV\", \"Lymphocytes\"], [0.3541074788260499, \"GridSearchCV\", \"Lymphocytes\"], [0.3541074788260499, \"GridSearchCV\", \"Lymphocytes\"], [0.3541074788260499, \"GridSearchCV\", \"Lymphocytes\"], [0.3541074788260499, \"GridSearchCV\", \"Lymphocytes\"], [0.3541074788260499, \"GridSearchCV\", \"Lymphocytes\"], [0.3541074788260499, \"GridSearchCV\", \"Lymphocytes\"], [0.3541074788260499, \"GridSearchCV\", \"Lymphocytes\"], [0.3541074788260499, \"GridSearchCV\", \"Lymphocytes\"], [0.3541074788260499, \"GridSearchCV\", \"Lymphocytes\"], [0.3541074788260499, \"GridSearchCV\", \"Lymphocytes\"], [0.3541074788260499, \"GridSearchCV\", \"Lymphocytes\"], [0.3541074788260499, \"GridSearchCV\", \"Lymphocytes\"], [0.3541074788260499, \"GridSearchCV\", \"Lymphocytes\"], [0.3541074788260499, \"GridSearchCV\", \"Lymphocytes\"], [0.3541074788260499, \"GridSearchCV\", \"Lymphocytes\"], [0.3541074788260499, \"GridSearchCV\", \"Lymphocytes\"], [0.3541074788260499, \"GridSearchCV\", \"Lymphocytes\"], [0.3541074788260499, \"GridSearchCV\", \"Lymphocytes\"], [0.3541074788260499, \"GridSearchCV\", \"Lymphocytes\"], [0.3541074788260499, \"GridSearchCV\", \"Lymphocytes\"], [0.3541074788260499, \"GridSearchCV\", \"Lymphocytes\"]], \"hovertemplate\": \"<b>%{hovertext}</b><br><br>prediction=%{y:.3f}<br>mean_prediction=%{customdata[0]:.3f}<extra></extra>\", \"hovertext\": [\"GridSearchCV\", \"GridSearchCV\", \"GridSearchCV\", \"GridSearchCV\", \"GridSearchCV\", \"GridSearchCV\", \"GridSearchCV\", \"GridSearchCV\", \"GridSearchCV\", \"GridSearchCV\", \"GridSearchCV\", \"GridSearchCV\", \"GridSearchCV\", \"GridSearchCV\", \"GridSearchCV\", \"GridSearchCV\", \"GridSearchCV\", \"GridSearchCV\", \"GridSearchCV\", \"GridSearchCV\", \"GridSearchCV\", \"GridSearchCV\", \"GridSearchCV\", \"GridSearchCV\", \"GridSearchCV\", \"GridSearchCV\", \"GridSearchCV\", \"GridSearchCV\", \"GridSearchCV\", \"GridSearchCV\", \"GridSearchCV\", \"GridSearchCV\", \"GridSearchCV\", \"GridSearchCV\", \"GridSearchCV\", \"GridSearchCV\", \"GridSearchCV\", \"GridSearchCV\", \"GridSearchCV\", \"GridSearchCV\", \"GridSearchCV\", \"GridSearchCV\", \"GridSearchCV\", \"GridSearchCV\", \"GridSearchCV\", \"GridSearchCV\", \"GridSearchCV\", \"GridSearchCV\", \"GridSearchCV\", \"GridSearchCV\", \"GridSearchCV\", \"GridSearchCV\", \"GridSearchCV\", \"GridSearchCV\", \"GridSearchCV\", \"GridSearchCV\", \"GridSearchCV\", \"GridSearchCV\", \"GridSearchCV\", \"GridSearchCV\", \"GridSearchCV\", \"GridSearchCV\", \"GridSearchCV\", \"GridSearchCV\", \"GridSearchCV\", \"GridSearchCV\", \"GridSearchCV\", \"GridSearchCV\", \"GridSearchCV\", \"GridSearchCV\", \"GridSearchCV\", \"GridSearchCV\", \"GridSearchCV\", \"GridSearchCV\", \"GridSearchCV\", \"GridSearchCV\", \"GridSearchCV\", \"GridSearchCV\", \"GridSearchCV\", \"GridSearchCV\", \"GridSearchCV\", \"GridSearchCV\", \"GridSearchCV\", \"GridSearchCV\", \"GridSearchCV\", \"GridSearchCV\", \"GridSearchCV\", \"GridSearchCV\", \"GridSearchCV\", \"GridSearchCV\", \"GridSearchCV\", \"GridSearchCV\", \"GridSearchCV\", \"GridSearchCV\", \"GridSearchCV\", \"GridSearchCV\", \"GridSearchCV\", \"GridSearchCV\", \"GridSearchCV\", \"GridSearchCV\", \"GridSearchCV\"], \"legendgroup\": \"GridSearchCV\", \"line\": {\"color\": \"#46bac2\", \"dash\": \"solid\", \"width\": 2}, \"mode\": \"lines\", \"name\": \"GridSearchCV\", \"opacity\": 1, \"orientation\": \"v\", \"showlegend\": false, \"type\": \"scatter\", \"x\": [-1.0, -0.3191666666666667, 0.3616666666666666, 1.0425, 1.7233333333333332, 2.4041666666666663, 3.085, 3.765833333333333, 4.446666666666666, 5.1274999999999995, 5.808333333333333, 6.489166666666666, 7.17, 7.850833333333332, 8.531666666666666, 9.212499999999999, 9.893333333333333, 10.574166666666667, 11.254999999999999, 11.935833333333333, 12.616666666666665, 13.2975, 13.978333333333332, 14.659166666666666, 15.34, 16.020833333333332, 16.701666666666664, 17.3825, 18.063333333333333, 18.744166666666665, 19.424999999999997, 20.105833333333333, 20.786666666666665, 21.467499999999998, 22.148333333333333, 22.829166666666666, 23.509999999999998, 24.19083333333333, 24.871666666666666, 25.5525, 26.23333333333333, 26.914166666666667, 27.595, 28.27583333333333, 28.956666666666663, 29.6375, 30.31833333333333, 30.999166666666664, 31.68, 32.36083333333333, 33.041666666666664, 33.7225, 34.40333333333333, 35.08416666666666, 35.765, 36.44583333333333, 37.126666666666665, 37.8075, 38.48833333333333, 39.16916666666666, 39.849999999999994, 40.530833333333334, 41.211666666666666, 41.8925, 42.57333333333333, 43.25416666666666, 43.934999999999995, 44.61583333333333, 45.29666666666667, 45.9775, 46.65833333333333, 47.339166666666664, 48.019999999999996, 48.70083333333333, 49.38166666666666, 50.0625, 50.74333333333333, 51.424166666666665, 52.105, 52.78583333333333, 53.46666666666666, 54.147499999999994, 54.82833333333333, 55.509166666666665, 56.19, 56.87083333333333, 57.55166666666666, 58.232499999999995, 58.91333333333333, 59.594166666666666, 60.275, 60.95583333333333, 61.63666666666666, 62.317499999999995, 62.99833333333333, 63.67916666666666, 64.36, 65.04083333333332, 65.72166666666666, 66.40249999999999, 67.08333333333333], \"xaxis\": \"x3\", \"y\": [0.5841733311984258, 0.588714775821219, 0.6005007482962323, 0.600545390271541, 0.5968655788332892, 0.5993542364751424, 0.5706469580851851, 0.5224927716965451, 0.46997224787675784, 0.43084151449171343, 0.39458282780911913, 0.3433028233214413, 0.3139814840232801, 0.2811784385405876, 0.2780586203341029, 0.27946017830511743, 0.2784359933687626, 0.2757189928488029, 0.27711449417682443, 0.2725771938945384, 0.28429995299151395, 0.26551268504325526, 0.2591975468246431, 0.2534110266781229, 0.25601186644091606, 0.2581914895682019, 0.25688060928106843, 0.2529251629110006, 0.25299182957766725, 0.2569166210149559, 0.26059006028373627, 0.25340775285322004, 0.25133121237723505, 0.2521994470660979, 0.2563246995913505, 0.2544940314248154, 0.2457840314248156, 0.24377498357583538, 0.2430722057980577, 0.24135566689478594, 0.24165566689478585, 0.24093731788319767, 0.2404484289943088, 0.2404484289943088, 0.2404484289943088, 0.24272176232764214, 0.24272176232764214, 0.250215365021245, 0.250215365021245, 0.250215365021245, 0.250215365021245, 0.250215365021245, 0.250215365021245, 0.250215365021245, 0.250215365021245, 0.2508820316879116, 0.2512153650212449, 0.2508820316879116, 0.2508820316879116, 0.2508820316879116, 0.2508820316879116, 0.2508820316879116, 0.2508820316879116, 0.2508820316879116, 0.2508820316879116, 0.2508820316879116, 0.2508820316879116, 0.2508820316879116, 0.2508820316879116, 0.2508820316879116, 0.2508820316879116, 0.2508820316879116, 0.2508820316879116, 0.2508820316879116, 0.2508820316879116, 0.2508820316879116, 0.2508820316879116, 0.2508820316879116, 0.2508820316879116, 0.2508820316879116, 0.2508820316879116, 0.2508820316879116, 0.2508820316879116, 0.2508820316879116, 0.2508820316879116, 0.2508820316879116, 0.2508820316879116, 0.2508820316879116, 0.2508820316879116, 0.2508820316879116, 0.2508820316879116, 0.2508820316879116, 0.2508820316879116, 0.2508820316879116, 0.2508820316879116, 0.2508820316879116, 0.2508820316879116, 0.2508820316879116, 0.2508820316879116, 0.2508820316879116, 0.2508820316879116], \"yaxis\": \"y3\"}, {\"customdata\": [[0.3541074788260499, \"GridSearchCV\", \"from_china\"], [0.3541074788260499, \"GridSearchCV\", \"from_china\"], [0.3541074788260499, \"GridSearchCV\", \"from_china\"], [0.3541074788260499, \"GridSearchCV\", \"from_china\"], [0.3541074788260499, \"GridSearchCV\", \"from_china\"], [0.3541074788260499, \"GridSearchCV\", \"from_china\"], [0.3541074788260499, \"GridSearchCV\", \"from_china\"], [0.3541074788260499, \"GridSearchCV\", \"from_china\"], [0.3541074788260499, \"GridSearchCV\", \"from_china\"], [0.3541074788260499, \"GridSearchCV\", \"from_china\"], [0.3541074788260499, \"GridSearchCV\", \"from_china\"], [0.3541074788260499, \"GridSearchCV\", \"from_china\"], [0.3541074788260499, \"GridSearchCV\", \"from_china\"], [0.3541074788260499, \"GridSearchCV\", \"from_china\"], [0.3541074788260499, \"GridSearchCV\", \"from_china\"], [0.3541074788260499, \"GridSearchCV\", \"from_china\"], [0.3541074788260499, \"GridSearchCV\", \"from_china\"], [0.3541074788260499, \"GridSearchCV\", \"from_china\"], [0.3541074788260499, \"GridSearchCV\", \"from_china\"], [0.3541074788260499, \"GridSearchCV\", \"from_china\"], [0.3541074788260499, \"GridSearchCV\", \"from_china\"], [0.3541074788260499, \"GridSearchCV\", \"from_china\"], [0.3541074788260499, \"GridSearchCV\", \"from_china\"], [0.3541074788260499, \"GridSearchCV\", \"from_china\"], [0.3541074788260499, \"GridSearchCV\", \"from_china\"], [0.3541074788260499, \"GridSearchCV\", \"from_china\"], [0.3541074788260499, \"GridSearchCV\", \"from_china\"], [0.3541074788260499, \"GridSearchCV\", \"from_china\"], [0.3541074788260499, \"GridSearchCV\", \"from_china\"], [0.3541074788260499, \"GridSearchCV\", \"from_china\"], [0.3541074788260499, \"GridSearchCV\", \"from_china\"], [0.3541074788260499, \"GridSearchCV\", \"from_china\"], [0.3541074788260499, \"GridSearchCV\", \"from_china\"], [0.3541074788260499, \"GridSearchCV\", \"from_china\"], [0.3541074788260499, \"GridSearchCV\", \"from_china\"], [0.3541074788260499, \"GridSearchCV\", \"from_china\"], [0.3541074788260499, \"GridSearchCV\", \"from_china\"], [0.3541074788260499, \"GridSearchCV\", \"from_china\"], [0.3541074788260499, \"GridSearchCV\", \"from_china\"], [0.3541074788260499, \"GridSearchCV\", \"from_china\"], [0.3541074788260499, \"GridSearchCV\", \"from_china\"], [0.3541074788260499, \"GridSearchCV\", \"from_china\"], [0.3541074788260499, \"GridSearchCV\", \"from_china\"], [0.3541074788260499, \"GridSearchCV\", \"from_china\"], [0.3541074788260499, \"GridSearchCV\", \"from_china\"], [0.3541074788260499, \"GridSearchCV\", \"from_china\"], [0.3541074788260499, \"GridSearchCV\", \"from_china\"], [0.3541074788260499, \"GridSearchCV\", \"from_china\"], [0.3541074788260499, \"GridSearchCV\", \"from_china\"], [0.3541074788260499, \"GridSearchCV\", \"from_china\"], [0.3541074788260499, \"GridSearchCV\", \"from_china\"], [0.3541074788260499, \"GridSearchCV\", \"from_china\"], [0.3541074788260499, \"GridSearchCV\", \"from_china\"], [0.3541074788260499, \"GridSearchCV\", \"from_china\"], [0.3541074788260499, \"GridSearchCV\", \"from_china\"], [0.3541074788260499, \"GridSearchCV\", \"from_china\"], [0.3541074788260499, \"GridSearchCV\", \"from_china\"], [0.3541074788260499, \"GridSearchCV\", \"from_china\"], [0.3541074788260499, \"GridSearchCV\", \"from_china\"], [0.3541074788260499, \"GridSearchCV\", \"from_china\"], [0.3541074788260499, \"GridSearchCV\", \"from_china\"], [0.3541074788260499, \"GridSearchCV\", \"from_china\"], [0.3541074788260499, \"GridSearchCV\", \"from_china\"], [0.3541074788260499, \"GridSearchCV\", \"from_china\"], [0.3541074788260499, \"GridSearchCV\", \"from_china\"], [0.3541074788260499, \"GridSearchCV\", \"from_china\"], [0.3541074788260499, \"GridSearchCV\", \"from_china\"], [0.3541074788260499, \"GridSearchCV\", \"from_china\"], [0.3541074788260499, \"GridSearchCV\", \"from_china\"], [0.3541074788260499, \"GridSearchCV\", \"from_china\"], [0.3541074788260499, \"GridSearchCV\", \"from_china\"], [0.3541074788260499, \"GridSearchCV\", \"from_china\"], [0.3541074788260499, \"GridSearchCV\", \"from_china\"], [0.3541074788260499, \"GridSearchCV\", \"from_china\"], [0.3541074788260499, \"GridSearchCV\", \"from_china\"], [0.3541074788260499, \"GridSearchCV\", \"from_china\"], [0.3541074788260499, \"GridSearchCV\", \"from_china\"], [0.3541074788260499, \"GridSearchCV\", \"from_china\"], [0.3541074788260499, \"GridSearchCV\", \"from_china\"], [0.3541074788260499, \"GridSearchCV\", \"from_china\"], [0.3541074788260499, \"GridSearchCV\", \"from_china\"], [0.3541074788260499, \"GridSearchCV\", \"from_china\"], [0.3541074788260499, \"GridSearchCV\", \"from_china\"], [0.3541074788260499, \"GridSearchCV\", \"from_china\"], [0.3541074788260499, \"GridSearchCV\", \"from_china\"], [0.3541074788260499, \"GridSearchCV\", \"from_china\"], [0.3541074788260499, \"GridSearchCV\", \"from_china\"], [0.3541074788260499, \"GridSearchCV\", \"from_china\"], [0.3541074788260499, \"GridSearchCV\", \"from_china\"], [0.3541074788260499, \"GridSearchCV\", \"from_china\"], [0.3541074788260499, \"GridSearchCV\", \"from_china\"], [0.3541074788260499, \"GridSearchCV\", \"from_china\"], [0.3541074788260499, \"GridSearchCV\", \"from_china\"], [0.3541074788260499, \"GridSearchCV\", \"from_china\"], [0.3541074788260499, \"GridSearchCV\", \"from_china\"], [0.3541074788260499, \"GridSearchCV\", \"from_china\"], [0.3541074788260499, \"GridSearchCV\", \"from_china\"], [0.3541074788260499, \"GridSearchCV\", \"from_china\"], [0.3541074788260499, \"GridSearchCV\", \"from_china\"], [0.3541074788260499, \"GridSearchCV\", \"from_china\"], [0.3541074788260499, \"GridSearchCV\", \"from_china\"]], \"hovertemplate\": \"<b>%{hovertext}</b><br><br>prediction=%{y:.3f}<br>mean_prediction=%{customdata[0]:.3f}<extra></extra>\", \"hovertext\": [\"GridSearchCV\", \"GridSearchCV\", \"GridSearchCV\", \"GridSearchCV\", \"GridSearchCV\", \"GridSearchCV\", \"GridSearchCV\", \"GridSearchCV\", \"GridSearchCV\", \"GridSearchCV\", \"GridSearchCV\", \"GridSearchCV\", \"GridSearchCV\", \"GridSearchCV\", \"GridSearchCV\", \"GridSearchCV\", \"GridSearchCV\", \"GridSearchCV\", \"GridSearchCV\", \"GridSearchCV\", \"GridSearchCV\", \"GridSearchCV\", \"GridSearchCV\", \"GridSearchCV\", \"GridSearchCV\", \"GridSearchCV\", \"GridSearchCV\", \"GridSearchCV\", \"GridSearchCV\", \"GridSearchCV\", \"GridSearchCV\", \"GridSearchCV\", \"GridSearchCV\", \"GridSearchCV\", \"GridSearchCV\", \"GridSearchCV\", \"GridSearchCV\", \"GridSearchCV\", \"GridSearchCV\", \"GridSearchCV\", \"GridSearchCV\", \"GridSearchCV\", \"GridSearchCV\", \"GridSearchCV\", \"GridSearchCV\", \"GridSearchCV\", \"GridSearchCV\", \"GridSearchCV\", \"GridSearchCV\", \"GridSearchCV\", \"GridSearchCV\", \"GridSearchCV\", \"GridSearchCV\", \"GridSearchCV\", \"GridSearchCV\", \"GridSearchCV\", \"GridSearchCV\", \"GridSearchCV\", \"GridSearchCV\", \"GridSearchCV\", \"GridSearchCV\", \"GridSearchCV\", \"GridSearchCV\", \"GridSearchCV\", \"GridSearchCV\", \"GridSearchCV\", \"GridSearchCV\", \"GridSearchCV\", \"GridSearchCV\", \"GridSearchCV\", \"GridSearchCV\", \"GridSearchCV\", \"GridSearchCV\", \"GridSearchCV\", \"GridSearchCV\", \"GridSearchCV\", \"GridSearchCV\", \"GridSearchCV\", \"GridSearchCV\", \"GridSearchCV\", \"GridSearchCV\", \"GridSearchCV\", \"GridSearchCV\", \"GridSearchCV\", \"GridSearchCV\", \"GridSearchCV\", \"GridSearchCV\", \"GridSearchCV\", \"GridSearchCV\", \"GridSearchCV\", \"GridSearchCV\", \"GridSearchCV\", \"GridSearchCV\", \"GridSearchCV\", \"GridSearchCV\", \"GridSearchCV\", \"GridSearchCV\", \"GridSearchCV\", \"GridSearchCV\", \"GridSearchCV\", \"GridSearchCV\"], \"legendgroup\": \"GridSearchCV\", \"line\": {\"color\": \"#46bac2\", \"dash\": \"solid\", \"width\": 2}, \"mode\": \"lines\", \"name\": \"GridSearchCV\", \"opacity\": 1, \"orientation\": \"v\", \"showlegend\": false, \"type\": \"scatter\", \"x\": [0.0, 0.01, 0.02, 0.03, 0.04, 0.05, 0.06, 0.07, 0.08, 0.09, 0.1, 0.11, 0.12, 0.13, 0.14, 0.15, 0.16, 0.17, 0.18, 0.19, 0.2, 0.21, 0.22, 0.23, 0.24, 0.25, 0.26, 0.27, 0.28, 0.29, 0.3, 0.31, 0.32, 0.33, 0.34, 0.35000000000000003, 0.36, 0.37, 0.38, 0.39, 0.4, 0.41000000000000003, 0.42, 0.43, 0.44, 0.45, 0.46, 0.47000000000000003, 0.48, 0.49, 0.5, 0.51, 0.52, 0.53, 0.54, 0.55, 0.56, 0.5700000000000001, 0.58, 0.59, 0.6, 0.61, 0.62, 0.63, 0.64, 0.65, 0.66, 0.67, 0.68, 0.6900000000000001, 0.7000000000000001, 0.71, 0.72, 0.73, 0.74, 0.75, 0.76, 0.77, 0.78, 0.79, 0.8, 0.81, 0.8200000000000001, 0.8300000000000001, 0.84, 0.85, 0.86, 0.87, 0.88, 0.89, 0.9, 0.91, 0.92, 0.93, 0.9400000000000001, 0.9500000000000001, 0.96, 0.97, 0.98, 0.99, 1.0], \"xaxis\": \"x4\", \"y\": [0.3127715687382982, 0.3127715687382982, 0.3127715687382982, 0.3127715687382982, 0.3127715687382982, 0.3127715687382982, 0.3127715687382982, 0.3127715687382982, 0.3127715687382982, 0.3127715687382982, 0.3127715687382982, 0.3127715687382982, 0.3127715687382982, 0.3127715687382982, 0.3127715687382982, 0.3127715687382982, 0.3127715687382982, 0.3127715687382982, 0.3127715687382982, 0.3127715687382982, 0.3127715687382982, 0.3127715687382982, 0.3127715687382982, 0.3127715687382982, 0.3127715687382982, 0.3127715687382982, 0.3127715687382982, 0.3127715687382982, 0.3127715687382982, 0.3127715687382982, 0.3127715687382982, 0.3127715687382982, 0.3127715687382982, 0.3127715687382982, 0.3127715687382982, 0.3127715687382982, 0.3127715687382982, 0.3127715687382982, 0.3127715687382982, 0.3127715687382982, 0.3127715687382982, 0.3127715687382982, 0.3127715687382982, 0.3127715687382982, 0.3127715687382982, 0.3127715687382982, 0.3127715687382982, 0.3127715687382982, 0.3127715687382982, 0.3127715687382982, 0.3127715687382982, 0.5449597423620864, 0.5449597423620864, 0.5449597423620864, 0.5449597423620864, 0.5449597423620864, 0.5449597423620864, 0.5449597423620864, 0.5449597423620864, 0.5449597423620864, 0.5449597423620864, 0.5449597423620864, 0.5449597423620864, 0.5449597423620864, 0.5449597423620864, 0.5449597423620864, 0.5449597423620864, 0.5449597423620864, 0.5449597423620864, 0.5449597423620864, 0.5449597423620864, 0.5449597423620864, 0.5449597423620864, 0.5449597423620864, 0.5449597423620864, 0.5449597423620864, 0.5449597423620864, 0.5449597423620864, 0.5449597423620864, 0.5449597423620864, 0.5449597423620864, 0.5449597423620864, 0.5449597423620864, 0.5449597423620864, 0.5449597423620864, 0.5449597423620864, 0.5449597423620864, 0.5449597423620864, 0.5449597423620864, 0.5449597423620864, 0.5449597423620864, 0.5449597423620864, 0.5449597423620864, 0.5449597423620864, 0.5449597423620864, 0.5449597423620864, 0.5449597423620864, 0.5449597423620864, 0.5449597423620864, 0.5449597423620864, 0.5449597423620864], \"yaxis\": \"y4\"}, {\"customdata\": [[0.3541074788260499, \"GridSearchCV\", \"from_netherlands\"], [0.3541074788260499, \"GridSearchCV\", \"from_netherlands\"], [0.3541074788260499, \"GridSearchCV\", \"from_netherlands\"], [0.3541074788260499, \"GridSearchCV\", \"from_netherlands\"], [0.3541074788260499, \"GridSearchCV\", \"from_netherlands\"], [0.3541074788260499, \"GridSearchCV\", \"from_netherlands\"], [0.3541074788260499, \"GridSearchCV\", \"from_netherlands\"], [0.3541074788260499, \"GridSearchCV\", \"from_netherlands\"], [0.3541074788260499, \"GridSearchCV\", \"from_netherlands\"], [0.3541074788260499, \"GridSearchCV\", \"from_netherlands\"], [0.3541074788260499, \"GridSearchCV\", \"from_netherlands\"], [0.3541074788260499, \"GridSearchCV\", \"from_netherlands\"], [0.3541074788260499, \"GridSearchCV\", \"from_netherlands\"], [0.3541074788260499, \"GridSearchCV\", \"from_netherlands\"], [0.3541074788260499, \"GridSearchCV\", \"from_netherlands\"], [0.3541074788260499, \"GridSearchCV\", \"from_netherlands\"], [0.3541074788260499, \"GridSearchCV\", \"from_netherlands\"], [0.3541074788260499, \"GridSearchCV\", \"from_netherlands\"], [0.3541074788260499, \"GridSearchCV\", \"from_netherlands\"], [0.3541074788260499, \"GridSearchCV\", \"from_netherlands\"], [0.3541074788260499, \"GridSearchCV\", \"from_netherlands\"], [0.3541074788260499, \"GridSearchCV\", \"from_netherlands\"], [0.3541074788260499, \"GridSearchCV\", \"from_netherlands\"], [0.3541074788260499, \"GridSearchCV\", \"from_netherlands\"], [0.3541074788260499, \"GridSearchCV\", \"from_netherlands\"], [0.3541074788260499, \"GridSearchCV\", \"from_netherlands\"], [0.3541074788260499, \"GridSearchCV\", \"from_netherlands\"], [0.3541074788260499, \"GridSearchCV\", \"from_netherlands\"], [0.3541074788260499, \"GridSearchCV\", \"from_netherlands\"], [0.3541074788260499, \"GridSearchCV\", \"from_netherlands\"], [0.3541074788260499, \"GridSearchCV\", \"from_netherlands\"], [0.3541074788260499, \"GridSearchCV\", \"from_netherlands\"], [0.3541074788260499, \"GridSearchCV\", \"from_netherlands\"], [0.3541074788260499, \"GridSearchCV\", \"from_netherlands\"], [0.3541074788260499, \"GridSearchCV\", \"from_netherlands\"], [0.3541074788260499, \"GridSearchCV\", \"from_netherlands\"], [0.3541074788260499, \"GridSearchCV\", \"from_netherlands\"], [0.3541074788260499, \"GridSearchCV\", \"from_netherlands\"], [0.3541074788260499, \"GridSearchCV\", \"from_netherlands\"], [0.3541074788260499, \"GridSearchCV\", \"from_netherlands\"], [0.3541074788260499, \"GridSearchCV\", \"from_netherlands\"], [0.3541074788260499, \"GridSearchCV\", \"from_netherlands\"], [0.3541074788260499, \"GridSearchCV\", \"from_netherlands\"], [0.3541074788260499, \"GridSearchCV\", \"from_netherlands\"], [0.3541074788260499, \"GridSearchCV\", \"from_netherlands\"], [0.3541074788260499, \"GridSearchCV\", \"from_netherlands\"], [0.3541074788260499, \"GridSearchCV\", \"from_netherlands\"], [0.3541074788260499, \"GridSearchCV\", \"from_netherlands\"], [0.3541074788260499, \"GridSearchCV\", \"from_netherlands\"], [0.3541074788260499, \"GridSearchCV\", \"from_netherlands\"], [0.3541074788260499, \"GridSearchCV\", \"from_netherlands\"], [0.3541074788260499, \"GridSearchCV\", \"from_netherlands\"], [0.3541074788260499, \"GridSearchCV\", \"from_netherlands\"], [0.3541074788260499, \"GridSearchCV\", \"from_netherlands\"], [0.3541074788260499, \"GridSearchCV\", \"from_netherlands\"], [0.3541074788260499, \"GridSearchCV\", \"from_netherlands\"], [0.3541074788260499, \"GridSearchCV\", \"from_netherlands\"], [0.3541074788260499, \"GridSearchCV\", \"from_netherlands\"], [0.3541074788260499, \"GridSearchCV\", \"from_netherlands\"], [0.3541074788260499, \"GridSearchCV\", \"from_netherlands\"], [0.3541074788260499, \"GridSearchCV\", \"from_netherlands\"], [0.3541074788260499, \"GridSearchCV\", \"from_netherlands\"], [0.3541074788260499, \"GridSearchCV\", \"from_netherlands\"], [0.3541074788260499, \"GridSearchCV\", \"from_netherlands\"], [0.3541074788260499, \"GridSearchCV\", \"from_netherlands\"], [0.3541074788260499, \"GridSearchCV\", \"from_netherlands\"], [0.3541074788260499, \"GridSearchCV\", \"from_netherlands\"], [0.3541074788260499, \"GridSearchCV\", \"from_netherlands\"], [0.3541074788260499, \"GridSearchCV\", \"from_netherlands\"], [0.3541074788260499, \"GridSearchCV\", \"from_netherlands\"], [0.3541074788260499, \"GridSearchCV\", \"from_netherlands\"], [0.3541074788260499, \"GridSearchCV\", \"from_netherlands\"], [0.3541074788260499, \"GridSearchCV\", \"from_netherlands\"], [0.3541074788260499, \"GridSearchCV\", \"from_netherlands\"], [0.3541074788260499, \"GridSearchCV\", \"from_netherlands\"], [0.3541074788260499, \"GridSearchCV\", \"from_netherlands\"], [0.3541074788260499, \"GridSearchCV\", \"from_netherlands\"], [0.3541074788260499, \"GridSearchCV\", \"from_netherlands\"], [0.3541074788260499, \"GridSearchCV\", \"from_netherlands\"], [0.3541074788260499, \"GridSearchCV\", \"from_netherlands\"], [0.3541074788260499, \"GridSearchCV\", \"from_netherlands\"], [0.3541074788260499, \"GridSearchCV\", \"from_netherlands\"], [0.3541074788260499, \"GridSearchCV\", \"from_netherlands\"], [0.3541074788260499, \"GridSearchCV\", \"from_netherlands\"], [0.3541074788260499, \"GridSearchCV\", \"from_netherlands\"], [0.3541074788260499, \"GridSearchCV\", \"from_netherlands\"], [0.3541074788260499, \"GridSearchCV\", \"from_netherlands\"], [0.3541074788260499, \"GridSearchCV\", \"from_netherlands\"], [0.3541074788260499, \"GridSearchCV\", \"from_netherlands\"], [0.3541074788260499, \"GridSearchCV\", \"from_netherlands\"], [0.3541074788260499, \"GridSearchCV\", \"from_netherlands\"], [0.3541074788260499, \"GridSearchCV\", \"from_netherlands\"], [0.3541074788260499, \"GridSearchCV\", \"from_netherlands\"], [0.3541074788260499, \"GridSearchCV\", \"from_netherlands\"], [0.3541074788260499, \"GridSearchCV\", \"from_netherlands\"], [0.3541074788260499, \"GridSearchCV\", \"from_netherlands\"], [0.3541074788260499, \"GridSearchCV\", \"from_netherlands\"], [0.3541074788260499, \"GridSearchCV\", \"from_netherlands\"], [0.3541074788260499, \"GridSearchCV\", \"from_netherlands\"], [0.3541074788260499, \"GridSearchCV\", \"from_netherlands\"], [0.3541074788260499, \"GridSearchCV\", \"from_netherlands\"]], \"hovertemplate\": \"<b>%{hovertext}</b><br><br>prediction=%{y:.3f}<br>mean_prediction=%{customdata[0]:.3f}<extra></extra>\", \"hovertext\": [\"GridSearchCV\", \"GridSearchCV\", \"GridSearchCV\", \"GridSearchCV\", \"GridSearchCV\", \"GridSearchCV\", \"GridSearchCV\", \"GridSearchCV\", \"GridSearchCV\", \"GridSearchCV\", \"GridSearchCV\", \"GridSearchCV\", \"GridSearchCV\", \"GridSearchCV\", \"GridSearchCV\", \"GridSearchCV\", \"GridSearchCV\", \"GridSearchCV\", \"GridSearchCV\", \"GridSearchCV\", \"GridSearchCV\", \"GridSearchCV\", \"GridSearchCV\", \"GridSearchCV\", \"GridSearchCV\", \"GridSearchCV\", \"GridSearchCV\", \"GridSearchCV\", \"GridSearchCV\", \"GridSearchCV\", \"GridSearchCV\", \"GridSearchCV\", \"GridSearchCV\", \"GridSearchCV\", \"GridSearchCV\", \"GridSearchCV\", \"GridSearchCV\", \"GridSearchCV\", \"GridSearchCV\", \"GridSearchCV\", \"GridSearchCV\", \"GridSearchCV\", \"GridSearchCV\", \"GridSearchCV\", \"GridSearchCV\", \"GridSearchCV\", \"GridSearchCV\", \"GridSearchCV\", \"GridSearchCV\", \"GridSearchCV\", \"GridSearchCV\", \"GridSearchCV\", \"GridSearchCV\", \"GridSearchCV\", \"GridSearchCV\", \"GridSearchCV\", \"GridSearchCV\", \"GridSearchCV\", \"GridSearchCV\", \"GridSearchCV\", \"GridSearchCV\", \"GridSearchCV\", \"GridSearchCV\", \"GridSearchCV\", \"GridSearchCV\", \"GridSearchCV\", \"GridSearchCV\", \"GridSearchCV\", \"GridSearchCV\", \"GridSearchCV\", \"GridSearchCV\", \"GridSearchCV\", \"GridSearchCV\", \"GridSearchCV\", \"GridSearchCV\", \"GridSearchCV\", \"GridSearchCV\", \"GridSearchCV\", \"GridSearchCV\", \"GridSearchCV\", \"GridSearchCV\", \"GridSearchCV\", \"GridSearchCV\", \"GridSearchCV\", \"GridSearchCV\", \"GridSearchCV\", \"GridSearchCV\", \"GridSearchCV\", \"GridSearchCV\", \"GridSearchCV\", \"GridSearchCV\", \"GridSearchCV\", \"GridSearchCV\", \"GridSearchCV\", \"GridSearchCV\", \"GridSearchCV\", \"GridSearchCV\", \"GridSearchCV\", \"GridSearchCV\", \"GridSearchCV\", \"GridSearchCV\"], \"legendgroup\": \"GridSearchCV\", \"line\": {\"color\": \"#46bac2\", \"dash\": \"solid\", \"width\": 2}, \"mode\": \"lines\", \"name\": \"GridSearchCV\", \"opacity\": 1, \"orientation\": \"v\", \"showlegend\": false, \"type\": \"scatter\", \"x\": [0.0, 0.01, 0.02, 0.03, 0.04, 0.05, 0.06, 0.07, 0.08, 0.09, 0.1, 0.11, 0.12, 0.13, 0.14, 0.15, 0.16, 0.17, 0.18, 0.19, 0.2, 0.21, 0.22, 0.23, 0.24, 0.25, 0.26, 0.27, 0.28, 0.29, 0.3, 0.31, 0.32, 0.33, 0.34, 0.35000000000000003, 0.36, 0.37, 0.38, 0.39, 0.4, 0.41000000000000003, 0.42, 0.43, 0.44, 0.45, 0.46, 0.47000000000000003, 0.48, 0.49, 0.5, 0.51, 0.52, 0.53, 0.54, 0.55, 0.56, 0.5700000000000001, 0.58, 0.59, 0.6, 0.61, 0.62, 0.63, 0.64, 0.65, 0.66, 0.67, 0.68, 0.6900000000000001, 0.7000000000000001, 0.71, 0.72, 0.73, 0.74, 0.75, 0.76, 0.77, 0.78, 0.79, 0.8, 0.81, 0.8200000000000001, 0.8300000000000001, 0.84, 0.85, 0.86, 0.87, 0.88, 0.89, 0.9, 0.91, 0.92, 0.93, 0.9400000000000001, 0.9500000000000001, 0.96, 0.97, 0.98, 0.99, 1.0], \"xaxis\": \"x\", \"y\": [0.36225307260331174, 0.36225307260331174, 0.36225307260331174, 0.36225307260331174, 0.36225307260331174, 0.36225307260331174, 0.36225307260331174, 0.36225307260331174, 0.36225307260331174, 0.36225307260331174, 0.36225307260331174, 0.36225307260331174, 0.36225307260331174, 0.36225307260331174, 0.36225307260331174, 0.36225307260331174, 0.36225307260331174, 0.36225307260331174, 0.36225307260331174, 0.36225307260331174, 0.36225307260331174, 0.36225307260331174, 0.36225307260331174, 0.36225307260331174, 0.36225307260331174, 0.36225307260331174, 0.36225307260331174, 0.36225307260331174, 0.36225307260331174, 0.36225307260331174, 0.36225307260331174, 0.36225307260331174, 0.36225307260331174, 0.36225307260331174, 0.36225307260331174, 0.36225307260331174, 0.36225307260331174, 0.36225307260331174, 0.36225307260331174, 0.36225307260331174, 0.36225307260331174, 0.36225307260331174, 0.36225307260331174, 0.36225307260331174, 0.36225307260331174, 0.36225307260331174, 0.36225307260331174, 0.36225307260331174, 0.36225307260331174, 0.36225307260331174, 0.36225307260331174, 0.3287206059522345, 0.3287206059522345, 0.3287206059522345, 0.3287206059522345, 0.3287206059522345, 0.3287206059522345, 0.3287206059522345, 0.3287206059522345, 0.3287206059522345, 0.3287206059522345, 0.3287206059522345, 0.3287206059522345, 0.3287206059522345, 0.3287206059522345, 0.3287206059522345, 0.3287206059522345, 0.3287206059522345, 0.3287206059522345, 0.3287206059522345, 0.3287206059522345, 0.3287206059522345, 0.3287206059522345, 0.3287206059522345, 0.3287206059522345, 0.3287206059522345, 0.3287206059522345, 0.3287206059522345, 0.3287206059522345, 0.3287206059522345, 0.3287206059522345, 0.3287206059522345, 0.3287206059522345, 0.3287206059522345, 0.3287206059522345, 0.3287206059522345, 0.3287206059522345, 0.3287206059522345, 0.3287206059522345, 0.3287206059522345, 0.3287206059522345, 0.3287206059522345, 0.3287206059522345, 0.3287206059522345, 0.3287206059522345, 0.3287206059522345, 0.3287206059522345, 0.3287206059522345, 0.3287206059522345, 0.3287206059522345, 0.3287206059522345], \"yaxis\": \"y\"}, {\"customdata\": [[0.3541074788260499, \"GridSearchCV\", \"from_newyork\"], [0.3541074788260499, \"GridSearchCV\", \"from_newyork\"], [0.3541074788260499, \"GridSearchCV\", \"from_newyork\"], [0.3541074788260499, \"GridSearchCV\", \"from_newyork\"], [0.3541074788260499, \"GridSearchCV\", \"from_newyork\"], [0.3541074788260499, \"GridSearchCV\", \"from_newyork\"], [0.3541074788260499, \"GridSearchCV\", \"from_newyork\"], [0.3541074788260499, \"GridSearchCV\", \"from_newyork\"], [0.3541074788260499, \"GridSearchCV\", \"from_newyork\"], [0.3541074788260499, \"GridSearchCV\", \"from_newyork\"], [0.3541074788260499, \"GridSearchCV\", \"from_newyork\"], [0.3541074788260499, \"GridSearchCV\", \"from_newyork\"], [0.3541074788260499, \"GridSearchCV\", \"from_newyork\"], [0.3541074788260499, \"GridSearchCV\", \"from_newyork\"], [0.3541074788260499, \"GridSearchCV\", \"from_newyork\"], [0.3541074788260499, \"GridSearchCV\", \"from_newyork\"], [0.3541074788260499, \"GridSearchCV\", \"from_newyork\"], [0.3541074788260499, \"GridSearchCV\", \"from_newyork\"], [0.3541074788260499, \"GridSearchCV\", \"from_newyork\"], [0.3541074788260499, \"GridSearchCV\", \"from_newyork\"], [0.3541074788260499, \"GridSearchCV\", \"from_newyork\"], [0.3541074788260499, \"GridSearchCV\", \"from_newyork\"], [0.3541074788260499, \"GridSearchCV\", \"from_newyork\"], [0.3541074788260499, \"GridSearchCV\", \"from_newyork\"], [0.3541074788260499, \"GridSearchCV\", \"from_newyork\"], [0.3541074788260499, \"GridSearchCV\", \"from_newyork\"], [0.3541074788260499, \"GridSearchCV\", \"from_newyork\"], [0.3541074788260499, \"GridSearchCV\", \"from_newyork\"], [0.3541074788260499, \"GridSearchCV\", \"from_newyork\"], [0.3541074788260499, \"GridSearchCV\", \"from_newyork\"], [0.3541074788260499, \"GridSearchCV\", \"from_newyork\"], [0.3541074788260499, \"GridSearchCV\", \"from_newyork\"], [0.3541074788260499, \"GridSearchCV\", \"from_newyork\"], [0.3541074788260499, \"GridSearchCV\", \"from_newyork\"], [0.3541074788260499, \"GridSearchCV\", \"from_newyork\"], [0.3541074788260499, \"GridSearchCV\", \"from_newyork\"], [0.3541074788260499, \"GridSearchCV\", \"from_newyork\"], [0.3541074788260499, \"GridSearchCV\", \"from_newyork\"], [0.3541074788260499, \"GridSearchCV\", \"from_newyork\"], [0.3541074788260499, \"GridSearchCV\", \"from_newyork\"], [0.3541074788260499, \"GridSearchCV\", \"from_newyork\"], [0.3541074788260499, \"GridSearchCV\", \"from_newyork\"], [0.3541074788260499, \"GridSearchCV\", \"from_newyork\"], [0.3541074788260499, \"GridSearchCV\", \"from_newyork\"], [0.3541074788260499, \"GridSearchCV\", \"from_newyork\"], [0.3541074788260499, \"GridSearchCV\", \"from_newyork\"], [0.3541074788260499, \"GridSearchCV\", \"from_newyork\"], [0.3541074788260499, \"GridSearchCV\", \"from_newyork\"], [0.3541074788260499, \"GridSearchCV\", \"from_newyork\"], [0.3541074788260499, \"GridSearchCV\", \"from_newyork\"], [0.3541074788260499, \"GridSearchCV\", \"from_newyork\"], [0.3541074788260499, \"GridSearchCV\", \"from_newyork\"], [0.3541074788260499, \"GridSearchCV\", \"from_newyork\"], [0.3541074788260499, \"GridSearchCV\", \"from_newyork\"], [0.3541074788260499, \"GridSearchCV\", \"from_newyork\"], [0.3541074788260499, \"GridSearchCV\", \"from_newyork\"], [0.3541074788260499, \"GridSearchCV\", \"from_newyork\"], [0.3541074788260499, \"GridSearchCV\", \"from_newyork\"], [0.3541074788260499, \"GridSearchCV\", \"from_newyork\"], [0.3541074788260499, \"GridSearchCV\", \"from_newyork\"], [0.3541074788260499, \"GridSearchCV\", \"from_newyork\"], [0.3541074788260499, \"GridSearchCV\", \"from_newyork\"], [0.3541074788260499, \"GridSearchCV\", \"from_newyork\"], [0.3541074788260499, \"GridSearchCV\", \"from_newyork\"], [0.3541074788260499, \"GridSearchCV\", \"from_newyork\"], [0.3541074788260499, \"GridSearchCV\", \"from_newyork\"], [0.3541074788260499, \"GridSearchCV\", \"from_newyork\"], [0.3541074788260499, \"GridSearchCV\", \"from_newyork\"], [0.3541074788260499, \"GridSearchCV\", \"from_newyork\"], [0.3541074788260499, \"GridSearchCV\", \"from_newyork\"], [0.3541074788260499, \"GridSearchCV\", \"from_newyork\"], [0.3541074788260499, \"GridSearchCV\", \"from_newyork\"], [0.3541074788260499, \"GridSearchCV\", \"from_newyork\"], [0.3541074788260499, \"GridSearchCV\", \"from_newyork\"], [0.3541074788260499, \"GridSearchCV\", \"from_newyork\"], [0.3541074788260499, \"GridSearchCV\", \"from_newyork\"], [0.3541074788260499, \"GridSearchCV\", \"from_newyork\"], [0.3541074788260499, \"GridSearchCV\", \"from_newyork\"], [0.3541074788260499, \"GridSearchCV\", \"from_newyork\"], [0.3541074788260499, \"GridSearchCV\", \"from_newyork\"], [0.3541074788260499, \"GridSearchCV\", \"from_newyork\"], [0.3541074788260499, \"GridSearchCV\", \"from_newyork\"], [0.3541074788260499, \"GridSearchCV\", \"from_newyork\"], [0.3541074788260499, \"GridSearchCV\", \"from_newyork\"], [0.3541074788260499, \"GridSearchCV\", \"from_newyork\"], [0.3541074788260499, \"GridSearchCV\", \"from_newyork\"], [0.3541074788260499, \"GridSearchCV\", \"from_newyork\"], [0.3541074788260499, \"GridSearchCV\", \"from_newyork\"], [0.3541074788260499, \"GridSearchCV\", \"from_newyork\"], [0.3541074788260499, \"GridSearchCV\", \"from_newyork\"], [0.3541074788260499, \"GridSearchCV\", \"from_newyork\"], [0.3541074788260499, \"GridSearchCV\", \"from_newyork\"], [0.3541074788260499, \"GridSearchCV\", \"from_newyork\"], [0.3541074788260499, \"GridSearchCV\", \"from_newyork\"], [0.3541074788260499, \"GridSearchCV\", \"from_newyork\"], [0.3541074788260499, \"GridSearchCV\", \"from_newyork\"], [0.3541074788260499, \"GridSearchCV\", \"from_newyork\"], [0.3541074788260499, \"GridSearchCV\", \"from_newyork\"], [0.3541074788260499, \"GridSearchCV\", \"from_newyork\"], [0.3541074788260499, \"GridSearchCV\", \"from_newyork\"], [0.3541074788260499, \"GridSearchCV\", \"from_newyork\"]], \"hovertemplate\": \"<b>%{hovertext}</b><br><br>prediction=%{y:.3f}<br>mean_prediction=%{customdata[0]:.3f}<extra></extra>\", \"hovertext\": [\"GridSearchCV\", \"GridSearchCV\", \"GridSearchCV\", \"GridSearchCV\", \"GridSearchCV\", \"GridSearchCV\", \"GridSearchCV\", \"GridSearchCV\", \"GridSearchCV\", \"GridSearchCV\", \"GridSearchCV\", \"GridSearchCV\", \"GridSearchCV\", \"GridSearchCV\", \"GridSearchCV\", \"GridSearchCV\", \"GridSearchCV\", \"GridSearchCV\", \"GridSearchCV\", \"GridSearchCV\", \"GridSearchCV\", \"GridSearchCV\", \"GridSearchCV\", \"GridSearchCV\", \"GridSearchCV\", \"GridSearchCV\", \"GridSearchCV\", \"GridSearchCV\", \"GridSearchCV\", \"GridSearchCV\", \"GridSearchCV\", \"GridSearchCV\", \"GridSearchCV\", \"GridSearchCV\", \"GridSearchCV\", \"GridSearchCV\", \"GridSearchCV\", \"GridSearchCV\", \"GridSearchCV\", \"GridSearchCV\", \"GridSearchCV\", \"GridSearchCV\", \"GridSearchCV\", \"GridSearchCV\", \"GridSearchCV\", \"GridSearchCV\", \"GridSearchCV\", \"GridSearchCV\", \"GridSearchCV\", \"GridSearchCV\", \"GridSearchCV\", \"GridSearchCV\", \"GridSearchCV\", \"GridSearchCV\", \"GridSearchCV\", \"GridSearchCV\", \"GridSearchCV\", \"GridSearchCV\", \"GridSearchCV\", \"GridSearchCV\", \"GridSearchCV\", \"GridSearchCV\", \"GridSearchCV\", \"GridSearchCV\", \"GridSearchCV\", \"GridSearchCV\", \"GridSearchCV\", \"GridSearchCV\", \"GridSearchCV\", \"GridSearchCV\", \"GridSearchCV\", \"GridSearchCV\", \"GridSearchCV\", \"GridSearchCV\", \"GridSearchCV\", \"GridSearchCV\", \"GridSearchCV\", \"GridSearchCV\", \"GridSearchCV\", \"GridSearchCV\", \"GridSearchCV\", \"GridSearchCV\", \"GridSearchCV\", \"GridSearchCV\", \"GridSearchCV\", \"GridSearchCV\", \"GridSearchCV\", \"GridSearchCV\", \"GridSearchCV\", \"GridSearchCV\", \"GridSearchCV\", \"GridSearchCV\", \"GridSearchCV\", \"GridSearchCV\", \"GridSearchCV\", \"GridSearchCV\", \"GridSearchCV\", \"GridSearchCV\", \"GridSearchCV\", \"GridSearchCV\", \"GridSearchCV\"], \"legendgroup\": \"GridSearchCV\", \"line\": {\"color\": \"#46bac2\", \"dash\": \"solid\", \"width\": 2}, \"mode\": \"lines\", \"name\": \"GridSearchCV\", \"opacity\": 1, \"orientation\": \"v\", \"showlegend\": false, \"type\": \"scatter\", \"x\": [0.0, 0.01, 0.02, 0.03, 0.04, 0.05, 0.06, 0.07, 0.08, 0.09, 0.1, 0.11, 0.12, 0.13, 0.14, 0.15, 0.16, 0.17, 0.18, 0.19, 0.2, 0.21, 0.22, 0.23, 0.24, 0.25, 0.26, 0.27, 0.28, 0.29, 0.3, 0.31, 0.32, 0.33, 0.34, 0.35000000000000003, 0.36, 0.37, 0.38, 0.39, 0.4, 0.41000000000000003, 0.42, 0.43, 0.44, 0.45, 0.46, 0.47000000000000003, 0.48, 0.49, 0.5, 0.51, 0.52, 0.53, 0.54, 0.55, 0.56, 0.5700000000000001, 0.58, 0.59, 0.6, 0.61, 0.62, 0.63, 0.64, 0.65, 0.66, 0.67, 0.68, 0.6900000000000001, 0.7000000000000001, 0.71, 0.72, 0.73, 0.74, 0.75, 0.76, 0.77, 0.78, 0.79, 0.8, 0.81, 0.8200000000000001, 0.8300000000000001, 0.84, 0.85, 0.86, 0.87, 0.88, 0.89, 0.9, 0.91, 0.92, 0.93, 0.9400000000000001, 0.9500000000000001, 0.96, 0.97, 0.98, 0.99, 1.0], \"xaxis\": \"x2\", \"y\": [0.40009013821171036, 0.40009013821171036, 0.40009013821171036, 0.40009013821171036, 0.40009013821171036, 0.40009013821171036, 0.40009013821171036, 0.40009013821171036, 0.40009013821171036, 0.40009013821171036, 0.40009013821171036, 0.40009013821171036, 0.40009013821171036, 0.40009013821171036, 0.40009013821171036, 0.40009013821171036, 0.40009013821171036, 0.40009013821171036, 0.40009013821171036, 0.40009013821171036, 0.40009013821171036, 0.40009013821171036, 0.40009013821171036, 0.40009013821171036, 0.40009013821171036, 0.40009013821171036, 0.40009013821171036, 0.40009013821171036, 0.40009013821171036, 0.40009013821171036, 0.40009013821171036, 0.40009013821171036, 0.40009013821171036, 0.40009013821171036, 0.40009013821171036, 0.40009013821171036, 0.40009013821171036, 0.40009013821171036, 0.40009013821171036, 0.40009013821171036, 0.40009013821171036, 0.40009013821171036, 0.40009013821171036, 0.40009013821171036, 0.40009013821171036, 0.40009013821171036, 0.40009013821171036, 0.40009013821171036, 0.40009013821171036, 0.40009013821171036, 0.40009013821171036, 0.3360165455132699, 0.3360165455132699, 0.3360165455132699, 0.3360165455132699, 0.3360165455132699, 0.3360165455132699, 0.3360165455132699, 0.3360165455132699, 0.3360165455132699, 0.3360165455132699, 0.3360165455132699, 0.3360165455132699, 0.3360165455132699, 0.3360165455132699, 0.3360165455132699, 0.3360165455132699, 0.3360165455132699, 0.3360165455132699, 0.3360165455132699, 0.3360165455132699, 0.3360165455132699, 0.3360165455132699, 0.3360165455132699, 0.3360165455132699, 0.3360165455132699, 0.3360165455132699, 0.3360165455132699, 0.3360165455132699, 0.3360165455132699, 0.3360165455132699, 0.3360165455132699, 0.3360165455132699, 0.3360165455132699, 0.3360165455132699, 0.3360165455132699, 0.3360165455132699, 0.3360165455132699, 0.3360165455132699, 0.3360165455132699, 0.3360165455132699, 0.3360165455132699, 0.3360165455132699, 0.3360165455132699, 0.3360165455132699, 0.3360165455132699, 0.3360165455132699, 0.3360165455132699, 0.3360165455132699, 0.3360165455132699, 0.3360165455132699], \"yaxis\": \"y2\"}],                        {\"annotations\": [{\"font\": {\"size\": 13}, \"showarrow\": false, \"text\": \"from_netherlands\", \"x\": 0.2375, \"xanchor\": \"center\", \"xref\": \"paper\", \"y\": 0.26666666666666666, \"yanchor\": \"bottom\", \"yref\": \"paper\"}, {\"font\": {\"size\": 13}, \"showarrow\": false, \"text\": \"from_newyork\", \"x\": 0.7625, \"xanchor\": \"center\", \"xref\": \"paper\", \"y\": 0.26666666666666666, \"yanchor\": \"bottom\", \"yref\": \"paper\"}, {\"font\": {\"size\": 13}, \"showarrow\": false, \"text\": \"Lymphocytes\", \"x\": 0.2375, \"xanchor\": \"center\", \"xref\": \"paper\", \"y\": 0.6333333333333333, \"yanchor\": \"bottom\", \"yref\": \"paper\"}, {\"font\": {\"size\": 13}, \"showarrow\": false, \"text\": \"from_china\", \"x\": 0.7625, \"xanchor\": \"center\", \"xref\": \"paper\", \"y\": 0.6333333333333333, \"yanchor\": \"bottom\", \"yref\": \"paper\"}, {\"font\": {\"size\": 13}, \"showarrow\": false, \"text\": \"LDH\", \"x\": 0.2375, \"xanchor\": \"center\", \"xref\": \"paper\", \"y\": 1.0, \"yanchor\": \"bottom\", \"yref\": \"paper\"}, {\"font\": {\"size\": 13}, \"showarrow\": false, \"text\": \"CRP\", \"x\": 0.7625, \"xanchor\": \"center\", \"xref\": \"paper\", \"y\": 1.0, \"yanchor\": \"bottom\", \"yref\": \"paper\"}, {\"font\": {\"size\": 13}, \"showarrow\": false, \"text\": \"prediction\", \"textangle\": -90, \"x\": -0.07, \"xref\": \"paper\", \"y\": 0.5, \"yref\": \"paper\"}], \"font\": {\"color\": \"#371ea3\"}, \"height\": 1169, \"hovermode\": \"x unified\", \"legend\": {\"font\": {\"size\": 11}, \"itemsizing\": \"constant\", \"orientation\": \"h\", \"title\": {\"font\": {\"size\": 12}, \"text\": \"label\"}, \"tracegroupgap\": 0, \"x\": 1, \"xanchor\": \"right\", \"y\": 1.0256629597946962, \"yanchor\": \"bottom\"}, \"margin\": {\"b\": 71, \"r\": 30, \"t\": 78}, \"template\": {\"data\": {\"scatter\": [{\"type\": \"scatter\"}]}}, \"title\": {\"font\": {\"size\": 16}, \"text\": \"Aggregated Profiles\", \"x\": 0.15}, \"xaxis\": {\"anchor\": \"y\", \"automargin\": true, \"domain\": [0.0, 0.475], \"fixedrange\": true, \"gridwidth\": 2, \"showticklabels\": true, \"tickcolor\": \"white\", \"ticklen\": 3, \"ticks\": \"outside\", \"title\": {\"text\": \"\"}, \"type\": \"linear\", \"zeroline\": false}, \"xaxis2\": {\"anchor\": \"y2\", \"automargin\": true, \"domain\": [0.525, 1.0], \"fixedrange\": true, \"gridwidth\": 2, \"showticklabels\": true, \"tickcolor\": \"white\", \"ticklen\": 3, \"ticks\": \"outside\", \"title\": {\"text\": \"\"}, \"type\": \"linear\", \"zeroline\": false}, \"xaxis3\": {\"anchor\": \"y3\", \"automargin\": true, \"domain\": [0.0, 0.475], \"fixedrange\": true, \"gridwidth\": 2, \"showticklabels\": true, \"tickcolor\": \"white\", \"ticklen\": 3, \"ticks\": \"outside\", \"title\": {\"text\": \"\"}, \"type\": \"linear\", \"zeroline\": false}, \"xaxis4\": {\"anchor\": \"y4\", \"automargin\": true, \"domain\": [0.525, 1.0], \"fixedrange\": true, \"gridwidth\": 2, \"showticklabels\": true, \"tickcolor\": \"white\", \"ticklen\": 3, \"ticks\": \"outside\", \"title\": {\"text\": \"\"}, \"type\": \"linear\", \"zeroline\": false}, \"xaxis5\": {\"anchor\": \"y5\", \"automargin\": true, \"domain\": [0.0, 0.475], \"fixedrange\": true, \"gridwidth\": 2, \"showticklabels\": true, \"tickcolor\": \"white\", \"ticklen\": 3, \"ticks\": \"outside\", \"title\": {\"text\": \"\"}, \"type\": \"linear\", \"zeroline\": false}, \"xaxis6\": {\"anchor\": \"y6\", \"automargin\": true, \"domain\": [0.525, 1.0], \"fixedrange\": true, \"gridwidth\": 2, \"showticklabels\": true, \"tickcolor\": \"white\", \"ticklen\": 3, \"ticks\": \"outside\", \"title\": {\"text\": \"\"}, \"type\": \"linear\", \"zeroline\": false}, \"yaxis\": {\"anchor\": \"x\", \"automargin\": true, \"domain\": [0.0, 0.26666666666666666], \"fixedrange\": true, \"gridwidth\": 2, \"range\": [0.20354465889357598, 0.636636365851356], \"tickcolor\": \"white\", \"ticklen\": 3, \"ticks\": \"outside\", \"title\": {\"text\": \"\"}, \"type\": \"linear\", \"zeroline\": false}, \"yaxis2\": {\"anchor\": \"x2\", \"automargin\": true, \"domain\": [0.0, 0.26666666666666666], \"fixedrange\": true, \"gridwidth\": 2, \"matches\": \"y\", \"range\": [0.20354465889357598, 0.636636365851356], \"showticklabels\": false, \"tickcolor\": \"white\", \"ticklen\": 3, \"ticks\": \"outside\", \"title\": {\"text\": \"\"}, \"type\": \"linear\", \"zeroline\": false}, \"yaxis3\": {\"anchor\": \"x3\", \"automargin\": true, \"domain\": [0.36666666666666664, 0.6333333333333333], \"fixedrange\": true, \"gridwidth\": 2, \"matches\": \"y\", \"range\": [0.20354465889357598, 0.636636365851356], \"tickcolor\": \"white\", \"ticklen\": 3, \"ticks\": \"outside\", \"title\": {\"text\": \"\"}, \"type\": \"linear\", \"zeroline\": false}, \"yaxis4\": {\"anchor\": \"x4\", \"automargin\": true, \"domain\": [0.36666666666666664, 0.6333333333333333], \"fixedrange\": true, \"gridwidth\": 2, \"matches\": \"y\", \"range\": [0.20354465889357598, 0.636636365851356], \"showticklabels\": false, \"tickcolor\": \"white\", \"ticklen\": 3, \"ticks\": \"outside\", \"title\": {\"text\": \"\"}, \"type\": \"linear\", \"zeroline\": false}, \"yaxis5\": {\"anchor\": \"x5\", \"automargin\": true, \"domain\": [0.7333333333333333, 1.0], \"fixedrange\": true, \"gridwidth\": 2, \"matches\": \"y\", \"range\": [0.20354465889357598, 0.636636365851356], \"tickcolor\": \"white\", \"ticklen\": 3, \"ticks\": \"outside\", \"title\": {\"text\": \"\"}, \"type\": \"linear\", \"zeroline\": false}, \"yaxis6\": {\"anchor\": \"x6\", \"automargin\": true, \"domain\": [0.7333333333333333, 1.0], \"fixedrange\": true, \"gridwidth\": 2, \"matches\": \"y\", \"range\": [0.20354465889357598, 0.636636365851356], \"showticklabels\": false, \"tickcolor\": \"white\", \"ticklen\": 3, \"ticks\": \"outside\", \"title\": {\"text\": \"\"}, \"type\": \"linear\", \"zeroline\": false}},                        {\"displaylogo\": false, \"staticPlot\": false, \"toImageButtonOptions\": {\"height\": null, \"width\": null}, \"modeBarButtonsToRemove\": [\"sendDataToCloud\", \"lasso2d\", \"autoScale2d\", \"select2d\", \"zoom2d\", \"pan2d\", \"zoomIn2d\", \"zoomOut2d\", \"resetScale2d\", \"toggleSpikelines\", \"hoverCompareCartesian\", \"hoverClosestCartesian\"], \"responsive\": true}                    ).then(function(){\n",
       "                            \n",
       "var gd = document.getElementById('c3921e42-2730-4031-899b-22bf43dd209e');\n",
       "var x = new MutationObserver(function (mutations, observer) {{\n",
       "        var display = window.getComputedStyle(gd).display;\n",
       "        if (!display || display === 'none') {{\n",
       "            console.log([gd, 'removed!']);\n",
       "            Plotly.purge(gd);\n",
       "            observer.disconnect();\n",
       "        }}\n",
       "}});\n",
       "\n",
       "// Listen for the removal of the full notebook cells\n",
       "var notebookContainer = gd.closest('#notebook-container');\n",
       "if (notebookContainer) {{\n",
       "    x.observe(notebookContainer, {childList: true});\n",
       "}}\n",
       "\n",
       "// Listen for the clearing of the current output cell\n",
       "var outputEl = gd.closest('.output');\n",
       "if (outputEl) {{\n",
       "    x.observe(outputEl, {childList: true});\n",
       "}}\n",
       "\n",
       "                        })                };                });            </script>        </div>"
      ]
     },
     "metadata": {},
     "output_type": "display_data"
    }
   ],
   "source": [
    "exp.model_profile().plot()"
   ]
  },
  {
   "cell_type": "code",
   "execution_count": 110,
   "metadata": {
    "scrolled": false
   },
   "outputs": [
    {
     "name": "stderr",
     "output_type": "stream",
     "text": [
      "findfont: Font family ['sans-serif'] not found. Falling back to DejaVu Sans.\n"
     ]
    },
    {
     "data": {
      "image/png": "[encoded data removed]",
      "text/plain": [
       "<Figure size 1152x720 with 1 Axes>"
      ]
     },
     "metadata": {},
     "output_type": "display_data"
    }
   ],
   "source": [
    "sur = exp.model_surrogate(max_vars=4, max_depth=3)\n",
    "sur.plot()"
   ]
  },
  {
   "cell_type": "markdown",
   "metadata": {},
   "source": [
    "### Grid Search - top 3 klasyfikatory "
   ]
  },
  {
   "cell_type": "code",
   "execution_count": 27,
   "metadata": {},
   "outputs": [],
   "source": [
    "from sklearn.ensemble import AdaBoostClassifier\n",
    "from sklearn.neighbors import NearestCentroid\n",
    "from sklearn.neighbors import KNeighborsClassifier"
   ]
  },
  {
   "cell_type": "code",
   "execution_count": 28,
   "metadata": {},
   "outputs": [
    {
     "data": {
      "text/plain": [
       "GridSearchCV(estimator=AdaBoostClassifier(),\n",
       "             param_grid={'algorithm': ['SAMME', 'SAMME.R'],\n",
       "                         'learning_rate': [0.05, 0.1, 0.2, 0.3, 0.4, 0.5]})"
      ]
     },
     "execution_count": 28,
     "metadata": {},
     "output_type": "execute_result"
    }
   ],
   "source": [
    "ada_boost = AdaBoostClassifier()\n",
    "params = {\n",
    "    'algorithm': ['SAMME', 'SAMME.R'],\n",
    "    'learning_rate': [0.05, 0.1, 0.2, 0.3, 0.4, 0.5],\n",
    "}\n",
    "ada_grid = GridSearchCV(ada_boost, params)\n",
    "ada_grid.fit(one_hot_data, nations.death)"
   ]
  },
  {
   "cell_type": "code",
   "execution_count": 29,
   "metadata": {},
   "outputs": [
    {
     "data": {
      "text/html": [
       "<div>\n",
       "<style scoped>\n",
       "    .dataframe tbody tr th:only-of-type {\n",
       "        vertical-align: middle;\n",
       "    }\n",
       "\n",
       "    .dataframe tbody tr th {\n",
       "        vertical-align: top;\n",
       "    }\n",
       "\n",
       "    .dataframe thead th {\n",
       "        text-align: right;\n",
       "    }\n",
       "</style>\n",
       "<table border=\"1\" class=\"dataframe\">\n",
       "  <thead>\n",
       "    <tr style=\"text-align: right;\">\n",
       "      <th></th>\n",
       "      <th>params</th>\n",
       "      <th>mean_test_score</th>\n",
       "    </tr>\n",
       "  </thead>\n",
       "  <tbody>\n",
       "    <tr>\n",
       "      <th>0</th>\n",
       "      <td>{'algorithm': 'SAMME', 'learning_rate': 0.05}</td>\n",
       "      <td>0.75</td>\n",
       "    </tr>\n",
       "    <tr>\n",
       "      <th>1</th>\n",
       "      <td>{'algorithm': 'SAMME', 'learning_rate': 0.5}</td>\n",
       "      <td>0.66</td>\n",
       "    </tr>\n",
       "    <tr>\n",
       "      <th>2</th>\n",
       "      <td>{'algorithm': 'SAMME', 'learning_rate': 0.3}</td>\n",
       "      <td>0.65</td>\n",
       "    </tr>\n",
       "  </tbody>\n",
       "</table>\n",
       "</div>"
      ],
      "text/plain": [
       "                                          params  mean_test_score\n",
       "0  {'algorithm': 'SAMME', 'learning_rate': 0.05}             0.75\n",
       "1   {'algorithm': 'SAMME', 'learning_rate': 0.5}             0.66\n",
       "2   {'algorithm': 'SAMME', 'learning_rate': 0.3}             0.65"
      ]
     },
     "execution_count": 29,
     "metadata": {},
     "output_type": "execute_result"
    }
   ],
   "source": [
    "def show_top_3(grid):\n",
    "    df = pd.DataFrame(grid.cv_results_)\n",
    "    df = df.loc[:,['params', 'mean_test_score']]\n",
    "    grid_search_results = df.sort_values('mean_test_score', ascending=False) \\\n",
    "                        .reset_index(drop=True)\n",
    "    return grid_search_results.iloc[:3, :]\n",
    "\n",
    "show_top_3(ada_grid)"
   ]
  },
  {
   "cell_type": "code",
   "execution_count": 30,
   "metadata": {},
   "outputs": [
    {
     "data": {
      "text/html": [
       "<div>\n",
       "<style scoped>\n",
       "    .dataframe tbody tr th:only-of-type {\n",
       "        vertical-align: middle;\n",
       "    }\n",
       "\n",
       "    .dataframe tbody tr th {\n",
       "        vertical-align: top;\n",
       "    }\n",
       "\n",
       "    .dataframe thead th {\n",
       "        text-align: right;\n",
       "    }\n",
       "</style>\n",
       "<table border=\"1\" class=\"dataframe\">\n",
       "  <thead>\n",
       "    <tr style=\"text-align: right;\">\n",
       "      <th></th>\n",
       "      <th>params</th>\n",
       "      <th>mean_test_score</th>\n",
       "    </tr>\n",
       "  </thead>\n",
       "  <tbody>\n",
       "    <tr>\n",
       "      <th>0</th>\n",
       "      <td>{'metric': 'euclidean'}</td>\n",
       "      <td>0.69</td>\n",
       "    </tr>\n",
       "    <tr>\n",
       "      <th>1</th>\n",
       "      <td>{'metric': 'l2'}</td>\n",
       "      <td>0.69</td>\n",
       "    </tr>\n",
       "    <tr>\n",
       "      <th>2</th>\n",
       "      <td>{'metric': 'l1'}</td>\n",
       "      <td>0.69</td>\n",
       "    </tr>\n",
       "  </tbody>\n",
       "</table>\n",
       "</div>"
      ],
      "text/plain": [
       "                    params  mean_test_score\n",
       "0  {'metric': 'euclidean'}             0.69\n",
       "1         {'metric': 'l2'}             0.69\n",
       "2         {'metric': 'l1'}             0.69"
      ]
     },
     "execution_count": 30,
     "metadata": {},
     "output_type": "execute_result"
    }
   ],
   "source": [
    "nc = NearestCentroid()\n",
    "\n",
    "params = {\n",
    "    'metric': ['euclidean', 'l1', 'l2']\n",
    "}\n",
    "nc_grid = GridSearchCV(nc, params)\n",
    "nc_grid.fit(one_hot_data, nations.death)\n",
    "\n",
    "show_top_3(nc_grid)"
   ]
  },
  {
   "cell_type": "code",
   "execution_count": 31,
   "metadata": {},
   "outputs": [
    {
     "data": {
      "text/html": [
       "<div>\n",
       "<style scoped>\n",
       "    .dataframe tbody tr th:only-of-type {\n",
       "        vertical-align: middle;\n",
       "    }\n",
       "\n",
       "    .dataframe tbody tr th {\n",
       "        vertical-align: top;\n",
       "    }\n",
       "\n",
       "    .dataframe thead th {\n",
       "        text-align: right;\n",
       "    }\n",
       "</style>\n",
       "<table border=\"1\" class=\"dataframe\">\n",
       "  <thead>\n",
       "    <tr style=\"text-align: right;\">\n",
       "      <th></th>\n",
       "      <th>params</th>\n",
       "      <th>mean_test_score</th>\n",
       "    </tr>\n",
       "  </thead>\n",
       "  <tbody>\n",
       "    <tr>\n",
       "      <th>0</th>\n",
       "      <td>{'algorithm': 'brute', 'n_neighbors': 6, 'p': ...</td>\n",
       "      <td>0.69</td>\n",
       "    </tr>\n",
       "    <tr>\n",
       "      <th>1</th>\n",
       "      <td>{'algorithm': 'auto', 'n_neighbors': 6, 'p': 1...</td>\n",
       "      <td>0.69</td>\n",
       "    </tr>\n",
       "    <tr>\n",
       "      <th>2</th>\n",
       "      <td>{'algorithm': 'kd_tree', 'n_neighbors': 6, 'p'...</td>\n",
       "      <td>0.69</td>\n",
       "    </tr>\n",
       "  </tbody>\n",
       "</table>\n",
       "</div>"
      ],
      "text/plain": [
       "                                              params  mean_test_score\n",
       "0  {'algorithm': 'brute', 'n_neighbors': 6, 'p': ...             0.69\n",
       "1  {'algorithm': 'auto', 'n_neighbors': 6, 'p': 1...             0.69\n",
       "2  {'algorithm': 'kd_tree', 'n_neighbors': 6, 'p'...             0.69"
      ]
     },
     "execution_count": 31,
     "metadata": {},
     "output_type": "execute_result"
    }
   ],
   "source": [
    "knn = KNeighborsClassifier()\n",
    "\n",
    "params = {\n",
    "    'n_neighbors': [3, 4, 5, 6],\n",
    "    'weights': ['uniform', 'distance'],\n",
    "    'algorithm': ['auto', 'ball_tree', 'kd_tree', 'brute'],\n",
    "    'p': [1,2]\n",
    "}\n",
    "\n",
    "knn_grid = GridSearchCV(knn, params)\n",
    "knn_grid.fit(one_hot_data, nations.death)\n",
    "\n",
    "show_top_3(knn_grid)"
   ]
  },
  {
   "cell_type": "code",
   "execution_count": 32,
   "metadata": {},
   "outputs": [
    {
     "name": "stdout",
     "output_type": "stream",
     "text": [
      "Preparation of a new explainer is initiated\n",
      "\n",
      "  -> data              : 1718 rows 6 cols\n",
      "  -> target variable   : Parameter 'y' was a pandas.Series. Converted to a numpy.ndarray.\n",
      "  -> target variable   : 1718 values\n",
      "  -> model_class       : sklearn.model_selection._search.GridSearchCV (default)\n",
      "  -> label             : Not specified, model's class short name will be used. (default)\n",
      "  -> predict function  : <function yhat_proba_default at 0x000001AEA4C84790> will be used (default)\n",
      "  -> predict function  : Accepts pandas.DataFrame and numpy.ndarray.\n",
      "  -> predicted values  : min = 0.269, mean = 0.402, max = 0.558\n",
      "  -> model type        : classification will be used (default)\n",
      "  -> residual function : difference between y and yhat (default)\n",
      "  -> residuals         : min = -0.558, mean = -0.0556, max = 0.731\n",
      "  -> model_info        : package sklearn\n",
      "\n",
      "A new explainer has been created!\n"
     ]
    },
    {
     "data": {
      "text/html": [
       "<div>\n",
       "<style scoped>\n",
       "    .dataframe tbody tr th:only-of-type {\n",
       "        vertical-align: middle;\n",
       "    }\n",
       "\n",
       "    .dataframe tbody tr th {\n",
       "        vertical-align: top;\n",
       "    }\n",
       "\n",
       "    .dataframe thead th {\n",
       "        text-align: right;\n",
       "    }\n",
       "</style>\n",
       "<table border=\"1\" class=\"dataframe\">\n",
       "  <thead>\n",
       "    <tr style=\"text-align: right;\">\n",
       "      <th></th>\n",
       "      <th>recall</th>\n",
       "      <th>precision</th>\n",
       "      <th>f1</th>\n",
       "      <th>accuracy</th>\n",
       "      <th>auc</th>\n",
       "    </tr>\n",
       "  </thead>\n",
       "  <tbody>\n",
       "    <tr>\n",
       "      <th>GridSearchCV</th>\n",
       "      <td>0.43</td>\n",
       "      <td>0.68</td>\n",
       "      <td>0.53</td>\n",
       "      <td>0.73</td>\n",
       "      <td>0.80</td>\n",
       "    </tr>\n",
       "  </tbody>\n",
       "</table>\n",
       "</div>"
      ],
      "text/plain": [
       "<dalex.model_explanations._model_performance.object.ModelPerformance at 0x1aeaa371f40>"
      ]
     },
     "execution_count": 32,
     "metadata": {},
     "output_type": "execute_result"
    }
   ],
   "source": [
    "explainer_1 = dx.Explainer(ada_grid, one_hot_data, nations['death'])\n",
    "explainer_1.model_performance()"
   ]
  },
  {
   "cell_type": "code",
   "execution_count": 33,
   "metadata": {},
   "outputs": [
    {
     "name": "stdout",
     "output_type": "stream",
     "text": [
      "Preparation of a new explainer is initiated\n",
      "\n",
      "  -> data              : 1718 rows 6 cols\n",
      "  -> target variable   : Parameter 'y' was a pandas.Series. Converted to a numpy.ndarray.\n",
      "  -> target variable   : 1718 values\n",
      "  -> model_class       : sklearn.model_selection._search.GridSearchCV (default)\n",
      "  -> label             : Not specified, model's class short name will be used. (default)\n",
      "  -> predict function  : <function yhat_default at 0x000001AEA4C84670> will be used (default)\n",
      "  -> predict function  : Accepts pandas.DataFrame and numpy.ndarray.\n",
      "  -> predicted values  : min = 0.0, mean = 0.359, max = 1.0\n",
      "  -> model type        : classification will be used (default)\n",
      "  -> residual function : difference between y and yhat (default)\n",
      "  -> residuals         : min = -1.0, mean = -0.0122, max = 1.0\n",
      "  -> model_info        : package sklearn\n",
      "\n",
      "A new explainer has been created!\n"
     ]
    },
    {
     "data": {
      "text/html": [
       "<div>\n",
       "<style scoped>\n",
       "    .dataframe tbody tr th:only-of-type {\n",
       "        vertical-align: middle;\n",
       "    }\n",
       "\n",
       "    .dataframe tbody tr th {\n",
       "        vertical-align: top;\n",
       "    }\n",
       "\n",
       "    .dataframe thead th {\n",
       "        text-align: right;\n",
       "    }\n",
       "</style>\n",
       "<table border=\"1\" class=\"dataframe\">\n",
       "  <thead>\n",
       "    <tr style=\"text-align: right;\">\n",
       "      <th></th>\n",
       "      <th>recall</th>\n",
       "      <th>precision</th>\n",
       "      <th>f1</th>\n",
       "      <th>accuracy</th>\n",
       "      <th>auc</th>\n",
       "    </tr>\n",
       "  </thead>\n",
       "  <tbody>\n",
       "    <tr>\n",
       "      <th>GridSearchCV</th>\n",
       "      <td>0.58</td>\n",
       "      <td>0.56</td>\n",
       "      <td>0.57</td>\n",
       "      <td>0.70</td>\n",
       "      <td>0.66</td>\n",
       "    </tr>\n",
       "  </tbody>\n",
       "</table>\n",
       "</div>"
      ],
      "text/plain": [
       "<dalex.model_explanations._model_performance.object.ModelPerformance at 0x1aeb77a40d0>"
      ]
     },
     "execution_count": 33,
     "metadata": {},
     "output_type": "execute_result"
    }
   ],
   "source": [
    "explainer_2 = dx.Explainer(nc_grid, one_hot_data, nations['death'])\n",
    "explainer_2.model_performance()"
   ]
  },
  {
   "cell_type": "code",
   "execution_count": 34,
   "metadata": {},
   "outputs": [
    {
     "name": "stdout",
     "output_type": "stream",
     "text": [
      "Preparation of a new explainer is initiated\n",
      "\n",
      "  -> data              : 1718 rows 6 cols\n",
      "  -> target variable   : Parameter 'y' was a pandas.Series. Converted to a numpy.ndarray.\n",
      "  -> target variable   : 1718 values\n",
      "  -> model_class       : sklearn.model_selection._search.GridSearchCV (default)\n",
      "  -> label             : Not specified, model's class short name will be used. (default)\n",
      "  -> predict function  : <function yhat_proba_default at 0x000001AEA4C84790> will be used (default)\n",
      "  -> predict function  : Accepts pandas.DataFrame and numpy.ndarray.\n",
      "  -> predicted values  : min = 0.0, mean = 0.338, max = 1.0\n",
      "  -> model type        : classification will be used (default)\n",
      "  -> residual function : difference between y and yhat (default)\n",
      "  -> residuals         : min = -0.833, mean = 0.00795, max = 0.833\n",
      "  -> model_info        : package sklearn\n",
      "\n",
      "A new explainer has been created!\n"
     ]
    },
    {
     "data": {
      "text/html": [
       "<div>\n",
       "<style scoped>\n",
       "    .dataframe tbody tr th:only-of-type {\n",
       "        vertical-align: middle;\n",
       "    }\n",
       "\n",
       "    .dataframe tbody tr th {\n",
       "        vertical-align: top;\n",
       "    }\n",
       "\n",
       "    .dataframe thead th {\n",
       "        text-align: right;\n",
       "    }\n",
       "</style>\n",
       "<table border=\"1\" class=\"dataframe\">\n",
       "  <thead>\n",
       "    <tr style=\"text-align: right;\">\n",
       "      <th></th>\n",
       "      <th>recall</th>\n",
       "      <th>precision</th>\n",
       "      <th>f1</th>\n",
       "      <th>accuracy</th>\n",
       "      <th>auc</th>\n",
       "    </tr>\n",
       "  </thead>\n",
       "  <tbody>\n",
       "    <tr>\n",
       "      <th>GridSearchCV</th>\n",
       "      <td>0.72</td>\n",
       "      <td>0.65</td>\n",
       "      <td>0.68</td>\n",
       "      <td>0.77</td>\n",
       "      <td>0.84</td>\n",
       "    </tr>\n",
       "  </tbody>\n",
       "</table>\n",
       "</div>"
      ],
      "text/plain": [
       "<dalex.model_explanations._model_performance.object.ModelPerformance at 0x1aeb773ca60>"
      ]
     },
     "execution_count": 34,
     "metadata": {},
     "output_type": "execute_result"
    }
   ],
   "source": [
    "explainer_3 = dx.Explainer(knn_grid, one_hot_data, nations['death'])\n",
    "explainer_3.model_performance()"
   ]
  }
 ],
 "metadata": {
  "kernelspec": {
   "display_name": "Python 3",
   "language": "python",
   "name": "python3"
  },
  "language_info": {
   "codemirror_mode": {
    "name": "ipython",
    "version": 3
   },
   "file_extension": ".py",
   "mimetype": "text/x-python",
   "name": "python",
   "nbconvert_exporter": "python",
   "pygments_lexer": "ipython3",
   "version": "3.8.5"
  }
 },
 "nbformat": 4,
 "nbformat_minor": 5
}
